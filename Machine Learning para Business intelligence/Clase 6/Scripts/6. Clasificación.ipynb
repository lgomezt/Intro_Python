{
 "cells": [
  {
   "attachments": {},
   "cell_type": "markdown",
   "metadata": {},
   "source": [
    "# **Machine Learning para Business Intelligence** \n",
    "#### Profesor: Lucas Gómez Tobón"
   ]
  },
  {
   "attachments": {},
   "cell_type": "markdown",
   "metadata": {},
   "source": [
    "## Clase 6: Modelos de clasificación "
   ]
  },
  {
   "attachments": {},
   "cell_type": "markdown",
   "metadata": {},
   "source": [
    "### Árboles y Random Forest"
   ]
  },
  {
   "attachments": {},
   "cell_type": "markdown",
   "metadata": {},
   "source": [
    "Los árboles de decisión son formas extremadamente intuitivas para clasificar o etiquetar objetos: simplemente hace una serie de preguntas diseñadas para concentrarse en la regresión o clasificación.\n",
    "Por ejemplo, si desea construir un árbol de decisión para clasificar una casa, puede construir el que se muestra aquí:\n",
    "\n",
    "<center>\n",
    "<img src=\"https://raw.githubusercontent.com/RodrigoLaraMolina/DPATTSrc/master/decision-tree-house.png\" alt=\"decision_tree\" style=\"width: 700px;\" align=\"center\" frameborder=\"200\"/>\n",
    "</center>"
   ]
  },
  {
   "attachments": {},
   "cell_type": "markdown",
   "metadata": {},
   "source": [
    "<center>\n",
    "<img src=\"img/regression_trees.png\" width=\"800\" class=\"center\">\n",
    "</center>"
   ]
  },
  {
   "attachments": {},
   "cell_type": "markdown",
   "metadata": {},
   "source": [
    "En esta clase vamos a ver los modelos de clasificación relacionados con árboles de clasificación. \n",
    "\n",
    "Cubriremos los siguientes temas:\n",
    "- Selección de hiper-parámetros.\n",
    "- Interpretación de los árboles.\n",
    "- Importancia de variables.\n",
    "- Tipos de ensambles: simulatáneos y secuenciales.\n",
    "- Regularización de árboles.\n",
    "- Evaluación de los modelos.\n",
    "\n",
    "Estudiaremos los siguientes tres modelos:\n",
    "- Árboles de clasificación\n",
    "- Random Forest (Bosques aleatorios)\n",
    "- Gradient Boosting Machine"
   ]
  },
  {
   "attachments": {},
   "cell_type": "markdown",
   "metadata": {},
   "source": [
    "#### Contraceptive Method Choice Data Set\n",
    "Esta base es una muestra de una encuesta sobre anticonceptivos en 1987 en Indonesia. Las muestras son mujeres casadas que podían estar o no embarazadas y no lo sabían al momento de la entrevista. __El problema de predicción será predecir si el método anticonceptivo actual es:__\n",
    "\n",
    "0. No se usa\n",
    "1. Largo plazo\n",
    "2. Corto plazo\n",
    "\n",
    "Para ver una descripción más detallada vea: https://archive.ics.uci.edu/ml/datasets/Contraceptive+Method+Choice"
   ]
  },
  {
   "cell_type": "code",
   "execution_count": 61,
   "metadata": {},
   "outputs": [],
   "source": [
    "# 1. Wife's age (numerical)\n",
    "# 2. Wife's education (categorical) 1=low, 2, 3, 4=high\n",
    "# 3. Husband's education (categorical) 1=low, 2, 3, 4=high\n",
    "# 4. Number of children ever born (numerical)\n",
    "# 5. Wife's religion (binary) 0=Non-Islam, 1=Islam\n",
    "# 6. Wife's now working? (binary) 0=Yes, 1=No\n",
    "# 7. Husband's occupation (categorical) 1, 2, 3, 4\n",
    "# 8. Standard-of-living index (categorical) 1=low, 2, 3, 4=high\n",
    "# 9. Media exposure (binary) 0=Good, 1=Not good\n",
    "# 10. Contraceptive method used (class attribute) 1=No-use, 2=Long-term, 3=Short-term"
   ]
  },
  {
   "cell_type": "code",
   "execution_count": 18,
   "metadata": {},
   "outputs": [],
   "source": [
    "import pandas as pd\n",
    "\n",
    "# Cargamos los datos\n",
    "data = pd.read_csv('../Data/cmc.csv')"
   ]
  },
  {
   "cell_type": "code",
   "execution_count": 19,
   "metadata": {},
   "outputs": [
    {
     "data": {
      "text/html": [
       "<div>\n",
       "<style scoped>\n",
       "    .dataframe tbody tr th:only-of-type {\n",
       "        vertical-align: middle;\n",
       "    }\n",
       "\n",
       "    .dataframe tbody tr th {\n",
       "        vertical-align: top;\n",
       "    }\n",
       "\n",
       "    .dataframe thead th {\n",
       "        text-align: right;\n",
       "    }\n",
       "</style>\n",
       "<table border=\"1\" class=\"dataframe\">\n",
       "  <thead>\n",
       "    <tr style=\"text-align: right;\">\n",
       "      <th></th>\n",
       "      <th>AgeWife</th>\n",
       "      <th>EducWife</th>\n",
       "      <th>EducHusband</th>\n",
       "      <th>children</th>\n",
       "      <th>IslamWife</th>\n",
       "      <th>WorkingWife</th>\n",
       "      <th>OccupationHusband</th>\n",
       "      <th>StandardLivingIndex</th>\n",
       "      <th>MediaExposure</th>\n",
       "      <th>Contraceptive</th>\n",
       "    </tr>\n",
       "  </thead>\n",
       "  <tbody>\n",
       "    <tr>\n",
       "      <th>0</th>\n",
       "      <td>24</td>\n",
       "      <td>2</td>\n",
       "      <td>3</td>\n",
       "      <td>3</td>\n",
       "      <td>1</td>\n",
       "      <td>1</td>\n",
       "      <td>2</td>\n",
       "      <td>3</td>\n",
       "      <td>0</td>\n",
       "      <td>1</td>\n",
       "    </tr>\n",
       "    <tr>\n",
       "      <th>1</th>\n",
       "      <td>45</td>\n",
       "      <td>1</td>\n",
       "      <td>3</td>\n",
       "      <td>10</td>\n",
       "      <td>1</td>\n",
       "      <td>1</td>\n",
       "      <td>3</td>\n",
       "      <td>4</td>\n",
       "      <td>0</td>\n",
       "      <td>1</td>\n",
       "    </tr>\n",
       "    <tr>\n",
       "      <th>2</th>\n",
       "      <td>43</td>\n",
       "      <td>2</td>\n",
       "      <td>3</td>\n",
       "      <td>7</td>\n",
       "      <td>1</td>\n",
       "      <td>1</td>\n",
       "      <td>3</td>\n",
       "      <td>4</td>\n",
       "      <td>0</td>\n",
       "      <td>1</td>\n",
       "    </tr>\n",
       "    <tr>\n",
       "      <th>3</th>\n",
       "      <td>42</td>\n",
       "      <td>3</td>\n",
       "      <td>2</td>\n",
       "      <td>9</td>\n",
       "      <td>1</td>\n",
       "      <td>1</td>\n",
       "      <td>3</td>\n",
       "      <td>3</td>\n",
       "      <td>0</td>\n",
       "      <td>1</td>\n",
       "    </tr>\n",
       "    <tr>\n",
       "      <th>4</th>\n",
       "      <td>36</td>\n",
       "      <td>3</td>\n",
       "      <td>3</td>\n",
       "      <td>8</td>\n",
       "      <td>1</td>\n",
       "      <td>1</td>\n",
       "      <td>3</td>\n",
       "      <td>2</td>\n",
       "      <td>0</td>\n",
       "      <td>1</td>\n",
       "    </tr>\n",
       "    <tr>\n",
       "      <th>5</th>\n",
       "      <td>19</td>\n",
       "      <td>4</td>\n",
       "      <td>4</td>\n",
       "      <td>0</td>\n",
       "      <td>1</td>\n",
       "      <td>1</td>\n",
       "      <td>3</td>\n",
       "      <td>3</td>\n",
       "      <td>0</td>\n",
       "      <td>1</td>\n",
       "    </tr>\n",
       "    <tr>\n",
       "      <th>6</th>\n",
       "      <td>38</td>\n",
       "      <td>2</td>\n",
       "      <td>3</td>\n",
       "      <td>6</td>\n",
       "      <td>1</td>\n",
       "      <td>1</td>\n",
       "      <td>3</td>\n",
       "      <td>2</td>\n",
       "      <td>0</td>\n",
       "      <td>1</td>\n",
       "    </tr>\n",
       "    <tr>\n",
       "      <th>7</th>\n",
       "      <td>21</td>\n",
       "      <td>3</td>\n",
       "      <td>3</td>\n",
       "      <td>1</td>\n",
       "      <td>1</td>\n",
       "      <td>0</td>\n",
       "      <td>3</td>\n",
       "      <td>2</td>\n",
       "      <td>0</td>\n",
       "      <td>1</td>\n",
       "    </tr>\n",
       "    <tr>\n",
       "      <th>8</th>\n",
       "      <td>27</td>\n",
       "      <td>2</td>\n",
       "      <td>3</td>\n",
       "      <td>3</td>\n",
       "      <td>1</td>\n",
       "      <td>1</td>\n",
       "      <td>3</td>\n",
       "      <td>4</td>\n",
       "      <td>0</td>\n",
       "      <td>1</td>\n",
       "    </tr>\n",
       "    <tr>\n",
       "      <th>9</th>\n",
       "      <td>45</td>\n",
       "      <td>1</td>\n",
       "      <td>1</td>\n",
       "      <td>8</td>\n",
       "      <td>1</td>\n",
       "      <td>1</td>\n",
       "      <td>2</td>\n",
       "      <td>2</td>\n",
       "      <td>1</td>\n",
       "      <td>1</td>\n",
       "    </tr>\n",
       "  </tbody>\n",
       "</table>\n",
       "</div>"
      ],
      "text/plain": [
       "   AgeWife  EducWife  EducHusband  children  IslamWife  WorkingWife  \\\n",
       "0       24         2            3         3          1            1   \n",
       "1       45         1            3        10          1            1   \n",
       "2       43         2            3         7          1            1   \n",
       "3       42         3            2         9          1            1   \n",
       "4       36         3            3         8          1            1   \n",
       "5       19         4            4         0          1            1   \n",
       "6       38         2            3         6          1            1   \n",
       "7       21         3            3         1          1            0   \n",
       "8       27         2            3         3          1            1   \n",
       "9       45         1            1         8          1            1   \n",
       "\n",
       "   OccupationHusband  StandardLivingIndex  MediaExposure  Contraceptive  \n",
       "0                  2                    3              0              1  \n",
       "1                  3                    4              0              1  \n",
       "2                  3                    4              0              1  \n",
       "3                  3                    3              0              1  \n",
       "4                  3                    2              0              1  \n",
       "5                  3                    3              0              1  \n",
       "6                  3                    2              0              1  \n",
       "7                  3                    2              0              1  \n",
       "8                  3                    4              0              1  \n",
       "9                  2                    2              1              1  "
      ]
     },
     "execution_count": 19,
     "metadata": {},
     "output_type": "execute_result"
    }
   ],
   "source": [
    "# Veo las primeras diez filas\n",
    "data.head(10) "
   ]
  },
  {
   "cell_type": "code",
   "execution_count": 20,
   "metadata": {},
   "outputs": [
    {
     "data": {
      "text/plain": [
       "(1473, 10)"
      ]
     },
     "execution_count": 20,
     "metadata": {},
     "output_type": "execute_result"
    }
   ],
   "source": [
    "# Estudio el tamaño de la base de datos ¿Cuántas variables hay? ¿Cuántas observaciones?\n",
    "data.shape "
   ]
  },
  {
   "cell_type": "code",
   "execution_count": 21,
   "metadata": {},
   "outputs": [
    {
     "data": {
      "text/plain": [
       "array([2, 3, 1, 4], dtype=int64)"
      ]
     },
     "execution_count": 21,
     "metadata": {},
     "output_type": "execute_result"
    }
   ],
   "source": [
    "data.OccupationHusband.unique()"
   ]
  },
  {
   "cell_type": "code",
   "execution_count": 22,
   "metadata": {},
   "outputs": [
    {
     "data": {
      "text/plain": [
       "AgeWife                32.538357\n",
       "EducWife                2.958588\n",
       "EducHusband             3.429735\n",
       "children                3.261371\n",
       "IslamWife               0.850645\n",
       "WorkingWife             0.749491\n",
       "OccupationHusband       2.137814\n",
       "StandardLivingIndex     3.133741\n",
       "MediaExposure           0.073999\n",
       "Contraceptive           1.919891\n",
       "dtype: float64"
      ]
     },
     "execution_count": 22,
     "metadata": {},
     "output_type": "execute_result"
    }
   ],
   "source": [
    "# Veo las medias, que notan sobre el tipo de variables? Tiene sentido estudiar la media de TODAS las variables?\n",
    "data.mean()"
   ]
  },
  {
   "cell_type": "code",
   "execution_count": 23,
   "metadata": {},
   "outputs": [],
   "source": [
    "# Dummyficamos\n",
    "data = pd.get_dummies(data, columns = ['OccupationHusband', 'EducWife', 'EducHusband'])"
   ]
  },
  {
   "cell_type": "code",
   "execution_count": 24,
   "metadata": {},
   "outputs": [
    {
     "data": {
      "text/plain": [
       "1    0.427020\n",
       "3    0.346911\n",
       "2    0.226069\n",
       "Name: Contraceptive, dtype: float64"
      ]
     },
     "execution_count": 24,
     "metadata": {},
     "output_type": "execute_result"
    }
   ],
   "source": [
    "# Estudiemos el desbalance de las clases\n",
    "data.Contraceptive.value_counts(normalize = True)"
   ]
  },
  {
   "cell_type": "code",
   "execution_count": 28,
   "metadata": {},
   "outputs": [
    {
     "data": {
      "image/png": "[encoded data removed]",
      "text/plain": [
       "<Figure size 2000x600 with 1 Axes>"
      ]
     },
     "metadata": {},
     "output_type": "display_data"
    }
   ],
   "source": [
    "import matplotlib.pyplot as plt\n",
    "\n",
    "plt.figure(figsize = (20,6)) \n",
    "# Histograma de edad de la esposa para los Contraceptive == 1\n",
    "plt.hist(data.AgeWife.loc[data.Contraceptive == 1], alpha = 0.35, label = 'No-use', bins = 15) \n",
    "# Histograma de edad de la esposa para los Contraceptive==2\n",
    "plt.hist(data.AgeWife.loc[data.Contraceptive == 2], alpha = 0.35, label = 'Long-term', bins = 15) \n",
    "# Histograma de edad de la esposa para los Contraceptive==3\n",
    "plt.hist(data.AgeWife.loc[data.Contraceptive == 3], alpha = 0.35, label = 'Short-term', bins = 15) \n",
    "# Que aparezca la leyenda\n",
    "plt.legend(); "
   ]
  },
  {
   "cell_type": "code",
   "execution_count": 29,
   "metadata": {},
   "outputs": [
    {
     "data": {
      "image/png": "[encoded data removed]",
      "text/plain": [
       "<Figure size 2000x600 with 1 Axes>"
      ]
     },
     "metadata": {},
     "output_type": "display_data"
    }
   ],
   "source": [
    "plt.figure(figsize = (20,6)) \n",
    "# Histograma de número de hijos para los Contraceptive==1\n",
    "plt.hist(data.children.loc[data.Contraceptive == 1], alpha = 0.35, label = 'No-use', bins = 15) \n",
    "# Histograma de número de hijos para los Contraceptive==2\n",
    "plt.hist(data.children.loc[data.Contraceptive == 2], alpha = 0.35, label = 'Long-term', bins = 15) \n",
    "# Histograma de número de hijos para los Contraceptive==3\n",
    "plt.hist(data.children.loc[data.Contraceptive == 3], alpha = 0.35, label = 'Short-term', bins = 15) \n",
    "plt.legend(); # Que aparezca la leyenda"
   ]
  },
  {
   "cell_type": "code",
   "execution_count": 31,
   "metadata": {},
   "outputs": [],
   "source": [
    "from sklearn.model_selection import train_test_split\n",
    "\n",
    "# Necesitamos separar la muestra en entrenamiento y testeo\n",
    "X = data.drop(columns = 'Contraceptive')\n",
    "y = data['Contraceptive']\n",
    "X_train, X_test, y_train, y_test = train_test_split(X, y, test_size = 0.20, random_state = 23)"
   ]
  },
  {
   "cell_type": "code",
   "execution_count": 32,
   "metadata": {},
   "outputs": [
    {
     "name": "stdout",
     "output_type": "stream",
     "text": [
      "El tamaño de la muestra de entrenamiento es  (1178, 18)\n",
      "El tamaño de la muestra de prueba es  (295, 18)\n",
      "El tamaño del vector de marca de entrenamiento es  (1178,)\n",
      "El tamaño del vector de marca de prueba es  (295,)\n"
     ]
    }
   ],
   "source": [
    "print('El tamaño de la muestra de entrenamiento es ', X_train.shape)\n",
    "print('El tamaño de la muestra de prueba es ', X_test.shape)\n",
    "print('El tamaño del vector de marca de entrenamiento es ', y_train.shape)\n",
    "print('El tamaño del vector de marca de prueba es ', y_test.shape)"
   ]
  },
  {
   "attachments": {},
   "cell_type": "markdown",
   "metadata": {},
   "source": [
    "#### Entrenamiento del Árbol"
   ]
  },
  {
   "attachments": {},
   "cell_type": "markdown",
   "metadata": {},
   "source": [
    "<center>\n",
    "<img src=\"img/tree.png\" width = 600>\n",
    "</center>"
   ]
  },
  {
   "attachments": {},
   "cell_type": "markdown",
   "metadata": {},
   "source": [
    "**Hiperparámetros del Árbol**\n",
    "- Profundidad.\n",
    "- Mínimo de observaciones para separar.\n",
    "- Mínimo de observaciones en las hojas."
   ]
  },
  {
   "cell_type": "code",
   "execution_count": 34,
   "metadata": {},
   "outputs": [],
   "source": [
    "# importe de scikit-learn el módulo tree, el cual contiene árboles de clasificación\n",
    "from sklearn import tree "
   ]
  },
  {
   "cell_type": "code",
   "execution_count": 55,
   "metadata": {},
   "outputs": [
    {
     "data": {
      "text/plain": [
       "DecisionTreeClassifier(max_depth=12, random_state=23)"
      ]
     },
     "execution_count": 55,
     "metadata": {},
     "output_type": "execute_result"
    }
   ],
   "source": [
    "# Construyo el objeto que es el árbol de clasificación\n",
    "arbol = tree.DecisionTreeClassifier(max_depth = 12, random_state = 23) \n",
    "# Estimo el modelo\n",
    "arbol.fit(X_train, y_train) "
   ]
  },
  {
   "cell_type": "code",
   "execution_count": 56,
   "metadata": {},
   "outputs": [],
   "source": [
    "# Predicción dentro y fuera de muestra\n",
    "y_hat_in_tree = arbol.predict(X_train)\n",
    "y_hat_out_tree = arbol.predict(X_test)\n",
    "\n",
    "# Predecimos las probabilidades\n",
    "y_prob_in_tree = arbol.predict_proba(X_train)\n",
    "y_prob_out_tree = arbol.predict_proba(X_test)"
   ]
  },
  {
   "cell_type": "code",
   "execution_count": 57,
   "metadata": {},
   "outputs": [
    {
     "name": "stdout",
     "output_type": "stream",
     "text": [
      "96.8\n",
      "96.8\n",
      "95.3\n"
     ]
    },
    {
     "data": {
      "text/html": [
       "<div>\n",
       "<style scoped>\n",
       "    .dataframe tbody tr th:only-of-type {\n",
       "        vertical-align: middle;\n",
       "    }\n",
       "\n",
       "    .dataframe tbody tr th {\n",
       "        vertical-align: top;\n",
       "    }\n",
       "\n",
       "    .dataframe thead th {\n",
       "        text-align: right;\n",
       "    }\n",
       "</style>\n",
       "<table border=\"1\" class=\"dataframe\">\n",
       "  <thead>\n",
       "    <tr style=\"text-align: right;\">\n",
       "      <th>col_0</th>\n",
       "      <th>1</th>\n",
       "      <th>2</th>\n",
       "      <th>3</th>\n",
       "      <th>All</th>\n",
       "    </tr>\n",
       "    <tr>\n",
       "      <th>Contraceptive</th>\n",
       "      <th></th>\n",
       "      <th></th>\n",
       "      <th></th>\n",
       "      <th></th>\n",
       "    </tr>\n",
       "  </thead>\n",
       "  <tbody>\n",
       "    <tr>\n",
       "      <th>1</th>\n",
       "      <td>444</td>\n",
       "      <td>16</td>\n",
       "      <td>40</td>\n",
       "      <td>500</td>\n",
       "    </tr>\n",
       "    <tr>\n",
       "      <th>2</th>\n",
       "      <td>29</td>\n",
       "      <td>220</td>\n",
       "      <td>27</td>\n",
       "      <td>276</td>\n",
       "    </tr>\n",
       "    <tr>\n",
       "      <th>3</th>\n",
       "      <td>46</td>\n",
       "      <td>38</td>\n",
       "      <td>318</td>\n",
       "      <td>402</td>\n",
       "    </tr>\n",
       "    <tr>\n",
       "      <th>All</th>\n",
       "      <td>519</td>\n",
       "      <td>274</td>\n",
       "      <td>385</td>\n",
       "      <td>1178</td>\n",
       "    </tr>\n",
       "  </tbody>\n",
       "</table>\n",
       "</div>"
      ],
      "text/plain": [
       "col_0            1    2    3   All\n",
       "Contraceptive                     \n",
       "1              444   16   40   500\n",
       "2               29  220   27   276\n",
       "3               46   38  318   402\n",
       "All            519  274  385  1178"
      ]
     },
     "execution_count": 57,
     "metadata": {},
     "output_type": "execute_result"
    }
   ],
   "source": [
    "# Evaluemos nuestro modelo\n",
    "from sklearn.metrics import accuracy_score, precision_score, recall_score, f1_score, roc_auc_score\n",
    "import numpy as np\n",
    "\n",
    "# Que tanto aprendió dentro de la muestra?\n",
    "print(np.round(100*roc_auc_score(y_train==1 , y_prob_in_tree[:,0]), 1))\n",
    "print(np.round(100*roc_auc_score(y_train==2 , y_prob_in_tree[:,1]), 1))\n",
    "print(np.round(100*roc_auc_score(y_train==3 , y_prob_in_tree[:,2]), 1))\n",
    "\n",
    "# Matriz de confusión\n",
    "pd.crosstab(y_train, y_hat_in_tree, margins = True)"
   ]
  },
  {
   "cell_type": "code",
   "execution_count": 58,
   "metadata": {},
   "outputs": [
    {
     "name": "stdout",
     "output_type": "stream",
     "text": [
      "72.0\n",
      "64.3\n",
      "64.7\n"
     ]
    },
    {
     "data": {
      "text/html": [
       "<div>\n",
       "<style scoped>\n",
       "    .dataframe tbody tr th:only-of-type {\n",
       "        vertical-align: middle;\n",
       "    }\n",
       "\n",
       "    .dataframe tbody tr th {\n",
       "        vertical-align: top;\n",
       "    }\n",
       "\n",
       "    .dataframe thead th {\n",
       "        text-align: right;\n",
       "    }\n",
       "</style>\n",
       "<table border=\"1\" class=\"dataframe\">\n",
       "  <thead>\n",
       "    <tr style=\"text-align: right;\">\n",
       "      <th>col_0</th>\n",
       "      <th>1</th>\n",
       "      <th>2</th>\n",
       "      <th>3</th>\n",
       "      <th>All</th>\n",
       "    </tr>\n",
       "    <tr>\n",
       "      <th>Contraceptive</th>\n",
       "      <th></th>\n",
       "      <th></th>\n",
       "      <th></th>\n",
       "      <th></th>\n",
       "    </tr>\n",
       "  </thead>\n",
       "  <tbody>\n",
       "    <tr>\n",
       "      <th>1</th>\n",
       "      <td>80</td>\n",
       "      <td>19</td>\n",
       "      <td>30</td>\n",
       "      <td>129</td>\n",
       "    </tr>\n",
       "    <tr>\n",
       "      <th>2</th>\n",
       "      <td>21</td>\n",
       "      <td>25</td>\n",
       "      <td>11</td>\n",
       "      <td>57</td>\n",
       "    </tr>\n",
       "    <tr>\n",
       "      <th>3</th>\n",
       "      <td>22</td>\n",
       "      <td>34</td>\n",
       "      <td>53</td>\n",
       "      <td>109</td>\n",
       "    </tr>\n",
       "    <tr>\n",
       "      <th>All</th>\n",
       "      <td>123</td>\n",
       "      <td>78</td>\n",
       "      <td>94</td>\n",
       "      <td>295</td>\n",
       "    </tr>\n",
       "  </tbody>\n",
       "</table>\n",
       "</div>"
      ],
      "text/plain": [
       "col_0            1   2   3  All\n",
       "Contraceptive                  \n",
       "1               80  19  30  129\n",
       "2               21  25  11   57\n",
       "3               22  34  53  109\n",
       "All            123  78  94  295"
      ]
     },
     "execution_count": 58,
     "metadata": {},
     "output_type": "execute_result"
    }
   ],
   "source": [
    "# ¿Qué tanto aprendió el modelo de manera generalizada?\n",
    "print(np.round(100*roc_auc_score(y_test==1 , y_prob_out_tree[:,0]), 1))\n",
    "print(np.round(100*roc_auc_score(y_test==2 , y_prob_out_tree[:,1]), 1))\n",
    "print(np.round(100*roc_auc_score(y_test==3 , y_prob_out_tree[:,2]), 1))\n",
    "\n",
    "# Matriz de confusión\n",
    "pd.crosstab(y_test, y_hat_out_tree, margins = True)"
   ]
  },
  {
   "attachments": {},
   "cell_type": "markdown",
   "metadata": {},
   "source": [
    "__¡¡¡HAY OVERFITTING!!!__ La diferencia tan grande entre el AUC de la curva ROC entre el entrenamiento y la prueba nos lo indica. Para corregir esto volvemos y cambiamos los hiperparámetros que nos permiten _podar (regularizar)_ los árboles. "
   ]
  },
  {
   "cell_type": "code",
   "execution_count": 61,
   "metadata": {},
   "outputs": [
    {
     "data": {
      "text/plain": [
       "GridSearchCV(cv=10, estimator=DecisionTreeClassifier(random_state=23),\n",
       "             param_grid={'max_depth': [3, 5, 7, 9, 11, 13, 15, 17]},\n",
       "             return_train_score=True, scoring='roc_auc_ovo')"
      ]
     },
     "execution_count": 61,
     "metadata": {},
     "output_type": "execute_result"
    }
   ],
   "source": [
    "from sklearn.model_selection import GridSearchCV\n",
    "\n",
    "arbol = tree.DecisionTreeClassifier(random_state = 23) \n",
    "grilla_arbol = {\"max_depth\": [3, 5, 7, 9, 11, 13, 15, 17]}\n",
    "arbol_cv = GridSearchCV(arbol, grilla_arbol, scoring = \"roc_auc_ovo\", return_train_score = True, cv = 10)\n",
    "arbol_cv.fit(X_train, y_train)"
   ]
  },
  {
   "cell_type": "code",
   "execution_count": 62,
   "metadata": {},
   "outputs": [],
   "source": [
    "cv_tree_results = pd.DataFrame(arbol_cv.cv_results_)"
   ]
  },
  {
   "cell_type": "code",
   "execution_count": 64,
   "metadata": {},
   "outputs": [
    {
     "data": {
      "text/plain": [
       "Index(['mean_fit_time', 'std_fit_time', 'mean_score_time', 'std_score_time',\n",
       "       'param_max_depth', 'params', 'split0_test_score', 'split1_test_score',\n",
       "       'split2_test_score', 'split3_test_score', 'split4_test_score',\n",
       "       'split5_test_score', 'split6_test_score', 'split7_test_score',\n",
       "       'split8_test_score', 'split9_test_score', 'mean_test_score',\n",
       "       'std_test_score', 'rank_test_score', 'split0_train_score',\n",
       "       'split1_train_score', 'split2_train_score', 'split3_train_score',\n",
       "       'split4_train_score', 'split5_train_score', 'split6_train_score',\n",
       "       'split7_train_score', 'split8_train_score', 'split9_train_score',\n",
       "       'mean_train_score', 'std_train_score'],\n",
       "      dtype='object')"
      ]
     },
     "execution_count": 64,
     "metadata": {},
     "output_type": "execute_result"
    }
   ],
   "source": [
    "cv_tree_results.columns"
   ]
  },
  {
   "cell_type": "code",
   "execution_count": 68,
   "metadata": {},
   "outputs": [
    {
     "data": {
      "text/plain": [
       "{'max_depth': 5}"
      ]
     },
     "execution_count": 68,
     "metadata": {},
     "output_type": "execute_result"
    }
   ],
   "source": [
    "arbol_cv.best_params_"
   ]
  },
  {
   "cell_type": "code",
   "execution_count": 74,
   "metadata": {},
   "outputs": [
    {
     "data": {
      "text/plain": [
       "<matplotlib.collections.LineCollection at 0x1e0df742be0>"
      ]
     },
     "execution_count": 74,
     "metadata": {},
     "output_type": "execute_result"
    },
    {
     "data": {
      "image/png": "[encoded data removed]",
      "text/plain": [
       "<Figure size 2000x600 with 1 Axes>"
      ]
     },
     "metadata": {},
     "output_type": "display_data"
    }
   ],
   "source": [
    "import seaborn as sns\n",
    "\n",
    "# Visualicemos\n",
    "fig, ax = plt.subplots(figsize = (20, 6))\n",
    "sns.despine()\n",
    "sns.lineplot(data = cv_tree_results, x = 'param_max_depth', y = 'mean_test_score', ax = ax, color = \"forestgreen\",\n",
    "             label = \"Prueba\")\n",
    "sns.lineplot(data = cv_tree_results, x = 'param_max_depth', y = 'mean_train_score', ax = ax, color = \"darkblue\",\n",
    "             label = \"Entrenamiento\")\n",
    "plt.legend()\n",
    "ax.set_xlabel(\"Máxima profundidad\")\n",
    "ax.set_ylabel(\"AUC\")\n",
    "plt.vlines(x = arbol_cv.best_params_[\"max_depth\"], ymin = 0.58, ymax = 1, color = \"red\", \n",
    "           linestyles = \"dashed\")"
   ]
  },
  {
   "cell_type": "code",
   "execution_count": 80,
   "metadata": {},
   "outputs": [],
   "source": [
    "# pip install graphviz"
   ]
  },
  {
   "cell_type": "code",
   "execution_count": 88,
   "metadata": {},
   "outputs": [
    {
     "data": {
      "image/svg+xml": [
       "<?xml version=\"1.0\" encoding=\"UTF-8\" standalone=\"no\"?>\n",
       "<!DOCTYPE svg PUBLIC \"-//W3C//DTD SVG 1.1//EN\"\n",
       " \"http://www.w3.org/Graphics/SVG/1.1/DTD/svg11.dtd\">\n",
       "<!-- Generated by graphviz version 2.50.0 (0)\n",
       " -->\n",
       "<!-- Title: Tree Pages: 1 -->\n",
       "<svg width=\"3220pt\" height=\"581pt\"\n",
       " viewBox=\"0.00 0.00 3220.00 581.00\" xmlns=\"http://www.w3.org/2000/svg\" xmlns:xlink=\"http://www.w3.org/1999/xlink\">\n",
       "<g id=\"graph0\" class=\"graph\" transform=\"scale(1 1) rotate(0) translate(4 577)\">\n",
       "<title>Tree</title>\n",
       "<polygon fill=\"white\" stroke=\"transparent\" points=\"-4,4 -4,-577 3216,-577 3216,4 -4,4\"/>\n",
       "<!-- 0 -->\n",
       "<g id=\"node1\" class=\"node\">\n",
       "<title>0</title>\n",
       "<path fill=\"#fcefe6\" stroke=\"black\" d=\"M585.5,-573C585.5,-573 421.5,-573 421.5,-573 415.5,-573 409.5,-567 409.5,-561 409.5,-561 409.5,-517 409.5,-517 409.5,-511 415.5,-505 421.5,-505 421.5,-505 585.5,-505 585.5,-505 591.5,-505 597.5,-511 597.5,-517 597.5,-517 597.5,-561 597.5,-561 597.5,-567 591.5,-573 585.5,-573\"/>\n",
       "<text text-anchor=\"middle\" x=\"503.5\" y=\"-557.8\" font-family=\"Helvetica,sans-Serif\" font-size=\"14.00\">children &lt;= 0.5</text>\n",
       "<text text-anchor=\"middle\" x=\"503.5\" y=\"-542.8\" font-family=\"Helvetica,sans-Serif\" font-size=\"14.00\">gini = 0.648</text>\n",
       "<text text-anchor=\"middle\" x=\"503.5\" y=\"-527.8\" font-family=\"Helvetica,sans-Serif\" font-size=\"14.00\">samples = 100.0%</text>\n",
       "<text text-anchor=\"middle\" x=\"503.5\" y=\"-512.8\" font-family=\"Helvetica,sans-Serif\" font-size=\"14.00\">value = [0.424, 0.234, 0.341]</text>\n",
       "</g>\n",
       "<!-- 1 -->\n",
       "<g id=\"node2\" class=\"node\">\n",
       "<title>1</title>\n",
       "<path fill=\"#e6853f\" stroke=\"black\" d=\"M334,-469C334,-469 185,-469 185,-469 179,-469 173,-463 173,-457 173,-457 173,-413 173,-413 173,-407 179,-401 185,-401 185,-401 334,-401 334,-401 340,-401 346,-407 346,-413 346,-413 346,-457 346,-457 346,-463 340,-469 334,-469\"/>\n",
       "<text text-anchor=\"middle\" x=\"259.5\" y=\"-453.8\" font-family=\"Helvetica,sans-Serif\" font-size=\"14.00\">AgeWife &lt;= 18.0</text>\n",
       "<text text-anchor=\"middle\" x=\"259.5\" y=\"-438.8\" font-family=\"Helvetica,sans-Serif\" font-size=\"14.00\">gini = 0.053</text>\n",
       "<text text-anchor=\"middle\" x=\"259.5\" y=\"-423.8\" font-family=\"Helvetica,sans-Serif\" font-size=\"14.00\">samples = 6.2%</text>\n",
       "<text text-anchor=\"middle\" x=\"259.5\" y=\"-408.8\" font-family=\"Helvetica,sans-Serif\" font-size=\"14.00\">value = [0.973, 0.0, 0.027]</text>\n",
       "</g>\n",
       "<!-- 0&#45;&gt;1 -->\n",
       "<g id=\"edge1\" class=\"edge\">\n",
       "<title>0&#45;&gt;1</title>\n",
       "<path fill=\"none\" stroke=\"black\" d=\"M424.28,-504.88C399.97,-494.72 373.07,-483.48 348.17,-473.07\"/>\n",
       "<polygon fill=\"black\" stroke=\"black\" points=\"349.32,-469.75 338.74,-469.12 346.62,-476.21 349.32,-469.75\"/>\n",
       "<text text-anchor=\"middle\" x=\"348.23\" y=\"-488.55\" font-family=\"Helvetica,sans-Serif\" font-size=\"14.00\">True</text>\n",
       "</g>\n",
       "<!-- 8 -->\n",
       "<g id=\"node9\" class=\"node\">\n",
       "<title>8</title>\n",
       "<path fill=\"#fefaf7\" stroke=\"black\" d=\"M982,-469C982,-469 825,-469 825,-469 819,-469 813,-463 813,-457 813,-457 813,-413 813,-413 813,-407 819,-401 825,-401 825,-401 982,-401 982,-401 988,-401 994,-407 994,-413 994,-413 994,-457 994,-457 994,-463 988,-469 982,-469\"/>\n",
       "<text text-anchor=\"middle\" x=\"903.5\" y=\"-453.8\" font-family=\"Helvetica,sans-Serif\" font-size=\"14.00\">AgeWife &lt;= 37.5</text>\n",
       "<text text-anchor=\"middle\" x=\"903.5\" y=\"-438.8\" font-family=\"Helvetica,sans-Serif\" font-size=\"14.00\">gini = 0.656</text>\n",
       "<text text-anchor=\"middle\" x=\"903.5\" y=\"-423.8\" font-family=\"Helvetica,sans-Serif\" font-size=\"14.00\">samples = 93.8%</text>\n",
       "<text text-anchor=\"middle\" x=\"903.5\" y=\"-408.8\" font-family=\"Helvetica,sans-Serif\" font-size=\"14.00\">value = [0.388, 0.25, 0.362]</text>\n",
       "</g>\n",
       "<!-- 0&#45;&gt;8 -->\n",
       "<g id=\"edge8\" class=\"edge\">\n",
       "<title>0&#45;&gt;8</title>\n",
       "<path fill=\"none\" stroke=\"black\" d=\"M597.53,-514.02C659.24,-498.29 739.88,-477.72 802.87,-461.66\"/>\n",
       "<polygon fill=\"black\" stroke=\"black\" points=\"804,-464.98 812.83,-459.12 802.27,-458.2 804,-464.98\"/>\n",
       "<text text-anchor=\"middle\" x=\"800.07\" y=\"-476.92\" font-family=\"Helvetica,sans-Serif\" font-size=\"14.00\">False</text>\n",
       "</g>\n",
       "<!-- 2 -->\n",
       "<g id=\"node3\" class=\"node\">\n",
       "<title>2</title>\n",
       "<path fill=\"#8139e5\" stroke=\"black\" d=\"M131,-357.5C131,-357.5 12,-357.5 12,-357.5 6,-357.5 0,-351.5 0,-345.5 0,-345.5 0,-316.5 0,-316.5 0,-310.5 6,-304.5 12,-304.5 12,-304.5 131,-304.5 131,-304.5 137,-304.5 143,-310.5 143,-316.5 143,-316.5 143,-345.5 143,-345.5 143,-351.5 137,-357.5 131,-357.5\"/>\n",
       "<text text-anchor=\"middle\" x=\"71.5\" y=\"-342.3\" font-family=\"Helvetica,sans-Serif\" font-size=\"14.00\">gini = 0.0</text>\n",
       "<text text-anchor=\"middle\" x=\"71.5\" y=\"-327.3\" font-family=\"Helvetica,sans-Serif\" font-size=\"14.00\">samples = 0.1%</text>\n",
       "<text text-anchor=\"middle\" x=\"71.5\" y=\"-312.3\" font-family=\"Helvetica,sans-Serif\" font-size=\"14.00\">value = [0.0, 0.0, 1.0]</text>\n",
       "</g>\n",
       "<!-- 1&#45;&gt;2 -->\n",
       "<g id=\"edge2\" class=\"edge\">\n",
       "<title>1&#45;&gt;2</title>\n",
       "<path fill=\"none\" stroke=\"black\" d=\"M198.46,-400.88C175.66,-388.51 149.89,-374.53 127.56,-362.41\"/>\n",
       "<polygon fill=\"black\" stroke=\"black\" points=\"129,-359.21 118.54,-357.52 125.66,-365.37 129,-359.21\"/>\n",
       "</g>\n",
       "<!-- 3 -->\n",
       "<g id=\"node4\" class=\"node\">\n",
       "<title>3</title>\n",
       "<path fill=\"#e5833c\" stroke=\"black\" d=\"M346,-365C346,-365 173,-365 173,-365 167,-365 161,-359 161,-353 161,-353 161,-309 161,-309 161,-303 167,-297 173,-297 173,-297 346,-297 346,-297 352,-297 358,-303 358,-309 358,-309 358,-353 358,-353 358,-359 352,-365 346,-365\"/>\n",
       "<text text-anchor=\"middle\" x=\"259.5\" y=\"-349.8\" font-family=\"Helvetica,sans-Serif\" font-size=\"14.00\">OccupationHusband_4 &lt;= 0.5</text>\n",
       "<text text-anchor=\"middle\" x=\"259.5\" y=\"-334.8\" font-family=\"Helvetica,sans-Serif\" font-size=\"14.00\">gini = 0.027</text>\n",
       "<text text-anchor=\"middle\" x=\"259.5\" y=\"-319.8\" font-family=\"Helvetica,sans-Serif\" font-size=\"14.00\">samples = 6.1%</text>\n",
       "<text text-anchor=\"middle\" x=\"259.5\" y=\"-304.8\" font-family=\"Helvetica,sans-Serif\" font-size=\"14.00\">value = [0.986, 0.0, 0.014]</text>\n",
       "</g>\n",
       "<!-- 1&#45;&gt;3 -->\n",
       "<g id=\"edge3\" class=\"edge\">\n",
       "<title>1&#45;&gt;3</title>\n",
       "<path fill=\"none\" stroke=\"black\" d=\"M259.5,-400.88C259.5,-392.78 259.5,-383.98 259.5,-375.47\"/>\n",
       "<polygon fill=\"black\" stroke=\"black\" points=\"263,-375.3 259.5,-365.3 256,-375.3 263,-375.3\"/>\n",
       "</g>\n",
       "<!-- 4 -->\n",
       "<g id=\"node5\" class=\"node\">\n",
       "<title>4</title>\n",
       "<path fill=\"#e58139\" stroke=\"black\" d=\"M150,-253.5C150,-253.5 31,-253.5 31,-253.5 25,-253.5 19,-247.5 19,-241.5 19,-241.5 19,-212.5 19,-212.5 19,-206.5 25,-200.5 31,-200.5 31,-200.5 150,-200.5 150,-200.5 156,-200.5 162,-206.5 162,-212.5 162,-212.5 162,-241.5 162,-241.5 162,-247.5 156,-253.5 150,-253.5\"/>\n",
       "<text text-anchor=\"middle\" x=\"90.5\" y=\"-238.3\" font-family=\"Helvetica,sans-Serif\" font-size=\"14.00\">gini = 0.0</text>\n",
       "<text text-anchor=\"middle\" x=\"90.5\" y=\"-223.3\" font-family=\"Helvetica,sans-Serif\" font-size=\"14.00\">samples = 5.9%</text>\n",
       "<text text-anchor=\"middle\" x=\"90.5\" y=\"-208.3\" font-family=\"Helvetica,sans-Serif\" font-size=\"14.00\">value = [1.0, 0.0, 0.0]</text>\n",
       "</g>\n",
       "<!-- 3&#45;&gt;4 -->\n",
       "<g id=\"edge4\" class=\"edge\">\n",
       "<title>3&#45;&gt;4</title>\n",
       "<path fill=\"none\" stroke=\"black\" d=\"M204.63,-296.88C184.31,-284.62 161.38,-270.78 141.43,-258.74\"/>\n",
       "<polygon fill=\"black\" stroke=\"black\" points=\"143.15,-255.69 132.78,-253.52 139.54,-261.68 143.15,-255.69\"/>\n",
       "</g>\n",
       "<!-- 5 -->\n",
       "<g id=\"node6\" class=\"node\">\n",
       "<title>5</title>\n",
       "<path fill=\"#ffffff\" stroke=\"black\" d=\"M327,-261C327,-261 192,-261 192,-261 186,-261 180,-255 180,-249 180,-249 180,-205 180,-205 180,-199 186,-193 192,-193 192,-193 327,-193 327,-193 333,-193 339,-199 339,-205 339,-205 339,-249 339,-249 339,-255 333,-261 327,-261\"/>\n",
       "<text text-anchor=\"middle\" x=\"259.5\" y=\"-245.8\" font-family=\"Helvetica,sans-Serif\" font-size=\"14.00\">EducHusband_2 &lt;= 0.5</text>\n",
       "<text text-anchor=\"middle\" x=\"259.5\" y=\"-230.8\" font-family=\"Helvetica,sans-Serif\" font-size=\"14.00\">gini = 0.5</text>\n",
       "<text text-anchor=\"middle\" x=\"259.5\" y=\"-215.8\" font-family=\"Helvetica,sans-Serif\" font-size=\"14.00\">samples = 0.2%</text>\n",
       "<text text-anchor=\"middle\" x=\"259.5\" y=\"-200.8\" font-family=\"Helvetica,sans-Serif\" font-size=\"14.00\">value = [0.5, 0.0, 0.5]</text>\n",
       "</g>\n",
       "<!-- 3&#45;&gt;5 -->\n",
       "<g id=\"edge5\" class=\"edge\">\n",
       "<title>3&#45;&gt;5</title>\n",
       "<path fill=\"none\" stroke=\"black\" d=\"M259.5,-296.88C259.5,-288.78 259.5,-279.98 259.5,-271.47\"/>\n",
       "<polygon fill=\"black\" stroke=\"black\" points=\"263,-271.3 259.5,-261.3 256,-271.3 263,-271.3\"/>\n",
       "</g>\n",
       "<!-- 6 -->\n",
       "<g id=\"node7\" class=\"node\">\n",
       "<title>6</title>\n",
       "<path fill=\"#e58139\" stroke=\"black\" d=\"M158,-149.5C158,-149.5 39,-149.5 39,-149.5 33,-149.5 27,-143.5 27,-137.5 27,-137.5 27,-108.5 27,-108.5 27,-102.5 33,-96.5 39,-96.5 39,-96.5 158,-96.5 158,-96.5 164,-96.5 170,-102.5 170,-108.5 170,-108.5 170,-137.5 170,-137.5 170,-143.5 164,-149.5 158,-149.5\"/>\n",
       "<text text-anchor=\"middle\" x=\"98.5\" y=\"-134.3\" font-family=\"Helvetica,sans-Serif\" font-size=\"14.00\">gini = 0.0</text>\n",
       "<text text-anchor=\"middle\" x=\"98.5\" y=\"-119.3\" font-family=\"Helvetica,sans-Serif\" font-size=\"14.00\">samples = 0.1%</text>\n",
       "<text text-anchor=\"middle\" x=\"98.5\" y=\"-104.3\" font-family=\"Helvetica,sans-Serif\" font-size=\"14.00\">value = [1.0, 0.0, 0.0]</text>\n",
       "</g>\n",
       "<!-- 5&#45;&gt;6 -->\n",
       "<g id=\"edge6\" class=\"edge\">\n",
       "<title>5&#45;&gt;6</title>\n",
       "<path fill=\"none\" stroke=\"black\" d=\"M207.23,-192.88C187.96,-180.68 166.22,-166.9 147.27,-154.9\"/>\n",
       "<polygon fill=\"black\" stroke=\"black\" points=\"149.1,-151.92 138.78,-149.52 145.36,-157.83 149.1,-151.92\"/>\n",
       "</g>\n",
       "<!-- 7 -->\n",
       "<g id=\"node8\" class=\"node\">\n",
       "<title>7</title>\n",
       "<path fill=\"#8139e5\" stroke=\"black\" d=\"M319,-149.5C319,-149.5 200,-149.5 200,-149.5 194,-149.5 188,-143.5 188,-137.5 188,-137.5 188,-108.5 188,-108.5 188,-102.5 194,-96.5 200,-96.5 200,-96.5 319,-96.5 319,-96.5 325,-96.5 331,-102.5 331,-108.5 331,-108.5 331,-137.5 331,-137.5 331,-143.5 325,-149.5 319,-149.5\"/>\n",
       "<text text-anchor=\"middle\" x=\"259.5\" y=\"-134.3\" font-family=\"Helvetica,sans-Serif\" font-size=\"14.00\">gini = 0.0</text>\n",
       "<text text-anchor=\"middle\" x=\"259.5\" y=\"-119.3\" font-family=\"Helvetica,sans-Serif\" font-size=\"14.00\">samples = 0.1%</text>\n",
       "<text text-anchor=\"middle\" x=\"259.5\" y=\"-104.3\" font-family=\"Helvetica,sans-Serif\" font-size=\"14.00\">value = [0.0, 0.0, 1.0]</text>\n",
       "</g>\n",
       "<!-- 5&#45;&gt;7 -->\n",
       "<g id=\"edge7\" class=\"edge\">\n",
       "<title>5&#45;&gt;7</title>\n",
       "<path fill=\"none\" stroke=\"black\" d=\"M259.5,-192.88C259.5,-182.33 259.5,-170.6 259.5,-159.85\"/>\n",
       "<polygon fill=\"black\" stroke=\"black\" points=\"263,-159.52 259.5,-149.52 256,-159.52 263,-159.52\"/>\n",
       "</g>\n",
       "<!-- 9 -->\n",
       "<g id=\"node10\" class=\"node\">\n",
       "<title>9</title>\n",
       "<path fill=\"#eadefb\" stroke=\"black\" d=\"M982,-365C982,-365 825,-365 825,-365 819,-365 813,-359 813,-353 813,-353 813,-309 813,-309 813,-303 819,-297 825,-297 825,-297 982,-297 982,-297 988,-297 994,-303 994,-309 994,-309 994,-353 994,-353 994,-359 988,-365 982,-365\"/>\n",
       "<text text-anchor=\"middle\" x=\"903.5\" y=\"-349.8\" font-family=\"Helvetica,sans-Serif\" font-size=\"14.00\">EducWife_4 &lt;= 0.5</text>\n",
       "<text text-anchor=\"middle\" x=\"903.5\" y=\"-334.8\" font-family=\"Helvetica,sans-Serif\" font-size=\"14.00\">gini = 0.643</text>\n",
       "<text text-anchor=\"middle\" x=\"903.5\" y=\"-319.8\" font-family=\"Helvetica,sans-Serif\" font-size=\"14.00\">samples = 66.1%</text>\n",
       "<text text-anchor=\"middle\" x=\"903.5\" y=\"-304.8\" font-family=\"Helvetica,sans-Serif\" font-size=\"14.00\">value = [0.33, 0.227, 0.443]</text>\n",
       "</g>\n",
       "<!-- 8&#45;&gt;9 -->\n",
       "<g id=\"edge9\" class=\"edge\">\n",
       "<title>8&#45;&gt;9</title>\n",
       "<path fill=\"none\" stroke=\"black\" d=\"M903.5,-400.88C903.5,-392.78 903.5,-383.98 903.5,-375.47\"/>\n",
       "<polygon fill=\"black\" stroke=\"black\" points=\"907,-375.3 903.5,-365.3 900,-375.3 907,-375.3\"/>\n",
       "</g>\n",
       "<!-- 24 -->\n",
       "<g id=\"node25\" class=\"node\">\n",
       "<title>24</title>\n",
       "<path fill=\"#f7d6bf\" stroke=\"black\" d=\"M2202.5,-365C2202.5,-365 2038.5,-365 2038.5,-365 2032.5,-365 2026.5,-359 2026.5,-353 2026.5,-353 2026.5,-309 2026.5,-309 2026.5,-303 2032.5,-297 2038.5,-297 2038.5,-297 2202.5,-297 2202.5,-297 2208.5,-297 2214.5,-303 2214.5,-309 2214.5,-309 2214.5,-353 2214.5,-353 2214.5,-359 2208.5,-365 2202.5,-365\"/>\n",
       "<text text-anchor=\"middle\" x=\"2120.5\" y=\"-349.8\" font-family=\"Helvetica,sans-Serif\" font-size=\"14.00\">EducWife_4 &lt;= 0.5</text>\n",
       "<text text-anchor=\"middle\" x=\"2120.5\" y=\"-334.8\" font-family=\"Helvetica,sans-Serif\" font-size=\"14.00\">gini = 0.601</text>\n",
       "<text text-anchor=\"middle\" x=\"2120.5\" y=\"-319.8\" font-family=\"Helvetica,sans-Serif\" font-size=\"14.00\">samples = 27.7%</text>\n",
       "<text text-anchor=\"middle\" x=\"2120.5\" y=\"-304.8\" font-family=\"Helvetica,sans-Serif\" font-size=\"14.00\">value = [0.528, 0.304, 0.169]</text>\n",
       "</g>\n",
       "<!-- 8&#45;&gt;24 -->\n",
       "<g id=\"edge24\" class=\"edge\">\n",
       "<title>8&#45;&gt;24</title>\n",
       "<path fill=\"none\" stroke=\"black\" d=\"M994.48,-426.38C1215.78,-407.83 1781.24,-360.43 2015.94,-340.76\"/>\n",
       "<polygon fill=\"black\" stroke=\"black\" points=\"2016.52,-344.23 2026.19,-339.9 2015.93,-337.25 2016.52,-344.23\"/>\n",
       "</g>\n",
       "<!-- 10 -->\n",
       "<g id=\"node11\" class=\"node\">\n",
       "<title>10</title>\n",
       "<path fill=\"#eee4fc\" stroke=\"black\" d=\"M830.5,-261C830.5,-261 666.5,-261 666.5,-261 660.5,-261 654.5,-255 654.5,-249 654.5,-249 654.5,-205 654.5,-205 654.5,-199 660.5,-193 666.5,-193 666.5,-193 830.5,-193 830.5,-193 836.5,-193 842.5,-199 842.5,-205 842.5,-205 842.5,-249 842.5,-249 842.5,-255 836.5,-261 830.5,-261\"/>\n",
       "<text text-anchor=\"middle\" x=\"748.5\" y=\"-245.8\" font-family=\"Helvetica,sans-Serif\" font-size=\"14.00\">children &lt;= 2.5</text>\n",
       "<text text-anchor=\"middle\" x=\"748.5\" y=\"-230.8\" font-family=\"Helvetica,sans-Serif\" font-size=\"14.00\">gini = 0.613</text>\n",
       "<text text-anchor=\"middle\" x=\"748.5\" y=\"-215.8\" font-family=\"Helvetica,sans-Serif\" font-size=\"14.00\">samples = 41.0%</text>\n",
       "<text text-anchor=\"middle\" x=\"748.5\" y=\"-200.8\" font-family=\"Helvetica,sans-Serif\" font-size=\"14.00\">value = [0.383, 0.151, 0.466]</text>\n",
       "</g>\n",
       "<!-- 9&#45;&gt;10 -->\n",
       "<g id=\"edge10\" class=\"edge\">\n",
       "<title>9&#45;&gt;10</title>\n",
       "<path fill=\"none\" stroke=\"black\" d=\"M853.18,-296.88C838.62,-287.3 822.6,-276.76 807.56,-266.86\"/>\n",
       "<polygon fill=\"black\" stroke=\"black\" points=\"809.11,-263.7 798.84,-261.12 805.27,-269.55 809.11,-263.7\"/>\n",
       "</g>\n",
       "<!-- 17 -->\n",
       "<g id=\"node18\" class=\"node\">\n",
       "<title>17</title>\n",
       "<path fill=\"#f4eefd\" stroke=\"black\" d=\"M1192.5,-261C1192.5,-261 1028.5,-261 1028.5,-261 1022.5,-261 1016.5,-255 1016.5,-249 1016.5,-249 1016.5,-205 1016.5,-205 1016.5,-199 1022.5,-193 1028.5,-193 1028.5,-193 1192.5,-193 1192.5,-193 1198.5,-193 1204.5,-199 1204.5,-205 1204.5,-205 1204.5,-249 1204.5,-249 1204.5,-255 1198.5,-261 1192.5,-261\"/>\n",
       "<text text-anchor=\"middle\" x=\"1110.5\" y=\"-245.8\" font-family=\"Helvetica,sans-Serif\" font-size=\"14.00\">children &lt;= 2.5</text>\n",
       "<text text-anchor=\"middle\" x=\"1110.5\" y=\"-230.8\" font-family=\"Helvetica,sans-Serif\" font-size=\"14.00\">gini = 0.653</text>\n",
       "<text text-anchor=\"middle\" x=\"1110.5\" y=\"-215.8\" font-family=\"Helvetica,sans-Serif\" font-size=\"14.00\">samples = 25.1%</text>\n",
       "<text text-anchor=\"middle\" x=\"1110.5\" y=\"-200.8\" font-family=\"Helvetica,sans-Serif\" font-size=\"14.00\">value = [0.243, 0.351, 0.405]</text>\n",
       "</g>\n",
       "<!-- 9&#45;&gt;17 -->\n",
       "<g id=\"edge17\" class=\"edge\">\n",
       "<title>9&#45;&gt;17</title>\n",
       "<path fill=\"none\" stroke=\"black\" d=\"M970.71,-296.88C990.97,-286.9 1013.35,-275.87 1034.15,-265.62\"/>\n",
       "<polygon fill=\"black\" stroke=\"black\" points=\"1035.85,-268.68 1043.28,-261.12 1032.76,-262.41 1035.85,-268.68\"/>\n",
       "</g>\n",
       "<!-- 11 -->\n",
       "<g id=\"node12\" class=\"node\">\n",
       "<title>11</title>\n",
       "<path fill=\"#f9e1d0\" stroke=\"black\" d=\"M518,-157C518,-157 361,-157 361,-157 355,-157 349,-151 349,-145 349,-145 349,-101 349,-101 349,-95 355,-89 361,-89 361,-89 518,-89 518,-89 524,-89 530,-95 530,-101 530,-101 530,-145 530,-145 530,-151 524,-157 518,-157\"/>\n",
       "<text text-anchor=\"middle\" x=\"439.5\" y=\"-141.8\" font-family=\"Helvetica,sans-Serif\" font-size=\"14.00\">AgeWife &lt;= 30.5</text>\n",
       "<text text-anchor=\"middle\" x=\"439.5\" y=\"-126.8\" font-family=\"Helvetica,sans-Serif\" font-size=\"14.00\">gini = 0.595</text>\n",
       "<text text-anchor=\"middle\" x=\"439.5\" y=\"-111.8\" font-family=\"Helvetica,sans-Serif\" font-size=\"14.00\">samples = 17.3%</text>\n",
       "<text text-anchor=\"middle\" x=\"439.5\" y=\"-96.8\" font-family=\"Helvetica,sans-Serif\" font-size=\"14.00\">value = [0.51, 0.132, 0.358]</text>\n",
       "</g>\n",
       "<!-- 10&#45;&gt;11 -->\n",
       "<g id=\"edge11\" class=\"edge\">\n",
       "<title>10&#45;&gt;11</title>\n",
       "<path fill=\"none\" stroke=\"black\" d=\"M654.11,-194.84C617.94,-182.9 576.57,-169.24 539.86,-157.13\"/>\n",
       "<polygon fill=\"black\" stroke=\"black\" points=\"540.73,-153.73 530.14,-153.92 538.53,-160.38 540.73,-153.73\"/>\n",
       "</g>\n",
       "<!-- 14 -->\n",
       "<g id=\"node15\" class=\"node\">\n",
       "<title>14</title>\n",
       "<path fill=\"#d2b8f6\" stroke=\"black\" d=\"M835,-157C835,-157 662,-157 662,-157 656,-157 650,-151 650,-145 650,-145 650,-101 650,-101 650,-95 656,-89 662,-89 662,-89 835,-89 835,-89 841,-89 847,-95 847,-101 847,-101 847,-145 847,-145 847,-151 841,-157 835,-157\"/>\n",
       "<text text-anchor=\"middle\" x=\"748.5\" y=\"-141.8\" font-family=\"Helvetica,sans-Serif\" font-size=\"14.00\">OccupationHusband_1 &lt;= 0.5</text>\n",
       "<text text-anchor=\"middle\" x=\"748.5\" y=\"-126.8\" font-family=\"Helvetica,sans-Serif\" font-size=\"14.00\">gini = 0.592</text>\n",
       "<text text-anchor=\"middle\" x=\"748.5\" y=\"-111.8\" font-family=\"Helvetica,sans-Serif\" font-size=\"14.00\">samples = 23.7%</text>\n",
       "<text text-anchor=\"middle\" x=\"748.5\" y=\"-96.8\" font-family=\"Helvetica,sans-Serif\" font-size=\"14.00\">value = [0.29, 0.165, 0.545]</text>\n",
       "</g>\n",
       "<!-- 10&#45;&gt;14 -->\n",
       "<g id=\"edge14\" class=\"edge\">\n",
       "<title>10&#45;&gt;14</title>\n",
       "<path fill=\"none\" stroke=\"black\" d=\"M748.5,-192.88C748.5,-184.78 748.5,-175.98 748.5,-167.47\"/>\n",
       "<polygon fill=\"black\" stroke=\"black\" points=\"752,-167.3 748.5,-157.3 745,-167.3 752,-167.3\"/>\n",
       "</g>\n",
       "<!-- 12 -->\n",
       "<g id=\"node13\" class=\"node\">\n",
       "<title>12</title>\n",
       "<path fill=\"#fcf2ea\" stroke=\"black\" d=\"M263.5,-53C263.5,-53 99.5,-53 99.5,-53 93.5,-53 87.5,-47 87.5,-41 87.5,-41 87.5,-12 87.5,-12 87.5,-6 93.5,0 99.5,0 99.5,0 263.5,0 263.5,0 269.5,0 275.5,-6 275.5,-12 275.5,-12 275.5,-41 275.5,-41 275.5,-47 269.5,-53 263.5,-53\"/>\n",
       "<text text-anchor=\"middle\" x=\"181.5\" y=\"-37.8\" font-family=\"Helvetica,sans-Serif\" font-size=\"14.00\">gini = 0.6</text>\n",
       "<text text-anchor=\"middle\" x=\"181.5\" y=\"-22.8\" font-family=\"Helvetica,sans-Serif\" font-size=\"14.00\">samples = 14.9%</text>\n",
       "<text text-anchor=\"middle\" x=\"181.5\" y=\"-7.8\" font-family=\"Helvetica,sans-Serif\" font-size=\"14.00\">value = [0.469, 0.126, 0.406]</text>\n",
       "</g>\n",
       "<!-- 11&#45;&gt;12 -->\n",
       "<g id=\"edge12\" class=\"edge\">\n",
       "<title>11&#45;&gt;12</title>\n",
       "<path fill=\"none\" stroke=\"black\" d=\"M349.26,-88.95C320.54,-78.43 288.98,-66.87 261.07,-56.64\"/>\n",
       "<polygon fill=\"black\" stroke=\"black\" points=\"261.95,-53.24 251.36,-53.09 259.54,-59.81 261.95,-53.24\"/>\n",
       "</g>\n",
       "<!-- 13 -->\n",
       "<g id=\"node14\" class=\"node\">\n",
       "<title>13</title>\n",
       "<path fill=\"#eda673\" stroke=\"black\" d=\"M469.5,-53C469.5,-53 305.5,-53 305.5,-53 299.5,-53 293.5,-47 293.5,-41 293.5,-41 293.5,-12 293.5,-12 293.5,-6 299.5,0 305.5,0 305.5,0 469.5,0 469.5,0 475.5,0 481.5,-6 481.5,-12 481.5,-12 481.5,-41 481.5,-41 481.5,-47 475.5,-53 469.5,-53\"/>\n",
       "<text text-anchor=\"middle\" x=\"387.5\" y=\"-37.8\" font-family=\"Helvetica,sans-Serif\" font-size=\"14.00\">gini = 0.39</text>\n",
       "<text text-anchor=\"middle\" x=\"387.5\" y=\"-22.8\" font-family=\"Helvetica,sans-Serif\" font-size=\"14.00\">samples = 2.5%</text>\n",
       "<text text-anchor=\"middle\" x=\"387.5\" y=\"-7.8\" font-family=\"Helvetica,sans-Serif\" font-size=\"14.00\">value = [0.759, 0.172, 0.069]</text>\n",
       "</g>\n",
       "<!-- 11&#45;&gt;13 -->\n",
       "<g id=\"edge13\" class=\"edge\">\n",
       "<title>11&#45;&gt;13</title>\n",
       "<path fill=\"none\" stroke=\"black\" d=\"M421.31,-88.95C416.53,-80.26 411.36,-70.86 406.53,-62.09\"/>\n",
       "<polygon fill=\"black\" stroke=\"black\" points=\"409.55,-60.31 401.66,-53.24 403.42,-63.69 409.55,-60.31\"/>\n",
       "</g>\n",
       "<!-- 15 -->\n",
       "<g id=\"node16\" class=\"node\">\n",
       "<title>15</title>\n",
       "<path fill=\"#cfb3f5\" stroke=\"black\" d=\"M675.5,-53C675.5,-53 511.5,-53 511.5,-53 505.5,-53 499.5,-47 499.5,-41 499.5,-41 499.5,-12 499.5,-12 499.5,-6 505.5,0 511.5,0 511.5,0 675.5,0 675.5,0 681.5,0 687.5,-6 687.5,-12 687.5,-12 687.5,-41 687.5,-41 687.5,-47 681.5,-53 675.5,-53\"/>\n",
       "<text text-anchor=\"middle\" x=\"593.5\" y=\"-37.8\" font-family=\"Helvetica,sans-Serif\" font-size=\"14.00\">gini = 0.57</text>\n",
       "<text text-anchor=\"middle\" x=\"593.5\" y=\"-22.8\" font-family=\"Helvetica,sans-Serif\" font-size=\"14.00\">samples = 20.5%</text>\n",
       "<text text-anchor=\"middle\" x=\"593.5\" y=\"-7.8\" font-family=\"Helvetica,sans-Serif\" font-size=\"14.00\">value = [0.299, 0.133, 0.568]</text>\n",
       "</g>\n",
       "<!-- 14&#45;&gt;15 -->\n",
       "<g id=\"edge15\" class=\"edge\">\n",
       "<title>14&#45;&gt;15</title>\n",
       "<path fill=\"none\" stroke=\"black\" d=\"M694.29,-88.95C678.08,-79.07 660.38,-68.28 644.4,-58.53\"/>\n",
       "<polygon fill=\"black\" stroke=\"black\" points=\"646.07,-55.45 635.71,-53.24 642.43,-61.43 646.07,-55.45\"/>\n",
       "</g>\n",
       "<!-- 16 -->\n",
       "<g id=\"node17\" class=\"node\">\n",
       "<title>16</title>\n",
       "<path fill=\"#faf7fe\" stroke=\"black\" d=\"M881.5,-53C881.5,-53 717.5,-53 717.5,-53 711.5,-53 705.5,-47 705.5,-41 705.5,-41 705.5,-12 705.5,-12 705.5,-6 711.5,0 717.5,0 717.5,0 881.5,0 881.5,0 887.5,0 893.5,-6 893.5,-12 893.5,-12 893.5,-41 893.5,-41 893.5,-47 887.5,-53 881.5,-53\"/>\n",
       "<text text-anchor=\"middle\" x=\"799.5\" y=\"-37.8\" font-family=\"Helvetica,sans-Serif\" font-size=\"14.00\">gini = 0.652</text>\n",
       "<text text-anchor=\"middle\" x=\"799.5\" y=\"-22.8\" font-family=\"Helvetica,sans-Serif\" font-size=\"14.00\">samples = 3.2%</text>\n",
       "<text text-anchor=\"middle\" x=\"799.5\" y=\"-7.8\" font-family=\"Helvetica,sans-Serif\" font-size=\"14.00\">value = [0.237, 0.368, 0.395]</text>\n",
       "</g>\n",
       "<!-- 14&#45;&gt;16 -->\n",
       "<g id=\"edge16\" class=\"edge\">\n",
       "<title>14&#45;&gt;16</title>\n",
       "<path fill=\"none\" stroke=\"black\" d=\"M766.34,-88.95C771.03,-80.26 776.1,-70.86 780.83,-62.09\"/>\n",
       "<polygon fill=\"black\" stroke=\"black\" points=\"783.94,-63.7 785.61,-53.24 777.78,-60.37 783.94,-63.7\"/>\n",
       "</g>\n",
       "<!-- 18 -->\n",
       "<g id=\"node19\" class=\"node\">\n",
       "<title>18</title>\n",
       "<path fill=\"#eee5fc\" stroke=\"black\" d=\"M1197,-157C1197,-157 1024,-157 1024,-157 1018,-157 1012,-151 1012,-145 1012,-145 1012,-101 1012,-101 1012,-95 1018,-89 1024,-89 1024,-89 1197,-89 1197,-89 1203,-89 1209,-95 1209,-101 1209,-101 1209,-145 1209,-145 1209,-151 1203,-157 1197,-157\"/>\n",
       "<text text-anchor=\"middle\" x=\"1110.5\" y=\"-141.8\" font-family=\"Helvetica,sans-Serif\" font-size=\"14.00\">OccupationHusband_1 &lt;= 0.5</text>\n",
       "<text text-anchor=\"middle\" x=\"1110.5\" y=\"-126.8\" font-family=\"Helvetica,sans-Serif\" font-size=\"14.00\">gini = 0.659</text>\n",
       "<text text-anchor=\"middle\" x=\"1110.5\" y=\"-111.8\" font-family=\"Helvetica,sans-Serif\" font-size=\"14.00\">samples = 14.1%</text>\n",
       "<text text-anchor=\"middle\" x=\"1110.5\" y=\"-96.8\" font-family=\"Helvetica,sans-Serif\" font-size=\"14.00\">value = [0.313, 0.283, 0.404]</text>\n",
       "</g>\n",
       "<!-- 17&#45;&gt;18 -->\n",
       "<g id=\"edge18\" class=\"edge\">\n",
       "<title>17&#45;&gt;18</title>\n",
       "<path fill=\"none\" stroke=\"black\" d=\"M1110.5,-192.88C1110.5,-184.78 1110.5,-175.98 1110.5,-167.47\"/>\n",
       "<polygon fill=\"black\" stroke=\"black\" points=\"1114,-167.3 1110.5,-157.3 1107,-167.3 1114,-167.3\"/>\n",
       "</g>\n",
       "<!-- 21 -->\n",
       "<g id=\"node22\" class=\"node\">\n",
       "<title>21</title>\n",
       "<path fill=\"#f5fef8\" stroke=\"black\" d=\"M1499.5,-157C1499.5,-157 1335.5,-157 1335.5,-157 1329.5,-157 1323.5,-151 1323.5,-145 1323.5,-145 1323.5,-101 1323.5,-101 1323.5,-95 1329.5,-89 1335.5,-89 1335.5,-89 1499.5,-89 1499.5,-89 1505.5,-89 1511.5,-95 1511.5,-101 1511.5,-101 1511.5,-145 1511.5,-145 1511.5,-151 1505.5,-157 1499.5,-157\"/>\n",
       "<text text-anchor=\"middle\" x=\"1417.5\" y=\"-141.8\" font-family=\"Helvetica,sans-Serif\" font-size=\"14.00\">AgeWife &lt;= 30.5</text>\n",
       "<text text-anchor=\"middle\" x=\"1417.5\" y=\"-126.8\" font-family=\"Helvetica,sans-Serif\" font-size=\"14.00\">gini = 0.618</text>\n",
       "<text text-anchor=\"middle\" x=\"1417.5\" y=\"-111.8\" font-family=\"Helvetica,sans-Serif\" font-size=\"14.00\">samples = 11.0%</text>\n",
       "<text text-anchor=\"middle\" x=\"1417.5\" y=\"-96.8\" font-family=\"Helvetica,sans-Serif\" font-size=\"14.00\">value = [0.154, 0.438, 0.408]</text>\n",
       "</g>\n",
       "<!-- 17&#45;&gt;21 -->\n",
       "<g id=\"edge21\" class=\"edge\">\n",
       "<title>17&#45;&gt;21</title>\n",
       "<path fill=\"none\" stroke=\"black\" d=\"M1204.7,-194.7C1239.17,-183.25 1278.37,-170.23 1313.64,-158.51\"/>\n",
       "<polygon fill=\"black\" stroke=\"black\" points=\"1315.1,-161.71 1323.48,-155.24 1312.89,-155.07 1315.1,-161.71\"/>\n",
       "</g>\n",
       "<!-- 19 -->\n",
       "<g id=\"node20\" class=\"node\">\n",
       "<title>19</title>\n",
       "<path fill=\"#d6bef6\" stroke=\"black\" d=\"M1087.5,-53C1087.5,-53 923.5,-53 923.5,-53 917.5,-53 911.5,-47 911.5,-41 911.5,-41 911.5,-12 911.5,-12 911.5,-6 917.5,0 923.5,0 923.5,0 1087.5,0 1087.5,0 1093.5,0 1099.5,-6 1099.5,-12 1099.5,-12 1099.5,-41 1099.5,-41 1099.5,-47 1093.5,-53 1087.5,-53\"/>\n",
       "<text text-anchor=\"middle\" x=\"1005.5\" y=\"-37.8\" font-family=\"Helvetica,sans-Serif\" font-size=\"14.00\">gini = 0.611</text>\n",
       "<text text-anchor=\"middle\" x=\"1005.5\" y=\"-22.8\" font-family=\"Helvetica,sans-Serif\" font-size=\"14.00\">samples = 6.9%</text>\n",
       "<text text-anchor=\"middle\" x=\"1005.5\" y=\"-7.8\" font-family=\"Helvetica,sans-Serif\" font-size=\"14.00\">value = [0.284, 0.198, 0.519]</text>\n",
       "</g>\n",
       "<!-- 18&#45;&gt;19 -->\n",
       "<g id=\"edge19\" class=\"edge\">\n",
       "<title>18&#45;&gt;19</title>\n",
       "<path fill=\"none\" stroke=\"black\" d=\"M1073.78,-88.95C1063.41,-79.62 1052.14,-69.47 1041.79,-60.16\"/>\n",
       "<polygon fill=\"black\" stroke=\"black\" points=\"1043.87,-57.32 1034.1,-53.24 1039.19,-62.53 1043.87,-57.32\"/>\n",
       "</g>\n",
       "<!-- 20 -->\n",
       "<g id=\"node21\" class=\"node\">\n",
       "<title>20</title>\n",
       "<path fill=\"#f8fefa\" stroke=\"black\" d=\"M1293.5,-53C1293.5,-53 1129.5,-53 1129.5,-53 1123.5,-53 1117.5,-47 1117.5,-41 1117.5,-41 1117.5,-12 1117.5,-12 1117.5,-6 1123.5,0 1129.5,0 1129.5,0 1293.5,0 1293.5,0 1299.5,0 1305.5,-6 1305.5,-12 1305.5,-12 1305.5,-41 1305.5,-41 1305.5,-47 1299.5,-53 1293.5,-53\"/>\n",
       "<text text-anchor=\"middle\" x=\"1211.5\" y=\"-37.8\" font-family=\"Helvetica,sans-Serif\" font-size=\"14.00\">gini = 0.664</text>\n",
       "<text text-anchor=\"middle\" x=\"1211.5\" y=\"-22.8\" font-family=\"Helvetica,sans-Serif\" font-size=\"14.00\">samples = 7.2%</text>\n",
       "<text text-anchor=\"middle\" x=\"1211.5\" y=\"-7.8\" font-family=\"Helvetica,sans-Serif\" font-size=\"14.00\">value = [0.341, 0.365, 0.294]</text>\n",
       "</g>\n",
       "<!-- 18&#45;&gt;20 -->\n",
       "<g id=\"edge20\" class=\"edge\">\n",
       "<title>18&#45;&gt;20</title>\n",
       "<path fill=\"none\" stroke=\"black\" d=\"M1145.82,-88.95C1155.8,-79.62 1166.64,-69.47 1176.59,-60.16\"/>\n",
       "<polygon fill=\"black\" stroke=\"black\" points=\"1179.08,-62.62 1183.99,-53.24 1174.3,-57.51 1179.08,-62.62\"/>\n",
       "</g>\n",
       "<!-- 22 -->\n",
       "<g id=\"node23\" class=\"node\">\n",
       "<title>22</title>\n",
       "<path fill=\"#e4d4f9\" stroke=\"black\" d=\"M1499.5,-53C1499.5,-53 1335.5,-53 1335.5,-53 1329.5,-53 1323.5,-47 1323.5,-41 1323.5,-41 1323.5,-12 1323.5,-12 1323.5,-6 1329.5,0 1335.5,0 1335.5,0 1499.5,0 1499.5,0 1505.5,0 1511.5,-6 1511.5,-12 1511.5,-12 1511.5,-41 1511.5,-41 1511.5,-47 1505.5,-53 1499.5,-53\"/>\n",
       "<text text-anchor=\"middle\" x=\"1417.5\" y=\"-37.8\" font-family=\"Helvetica,sans-Serif\" font-size=\"14.00\">gini = 0.631</text>\n",
       "<text text-anchor=\"middle\" x=\"1417.5\" y=\"-22.8\" font-family=\"Helvetica,sans-Serif\" font-size=\"14.00\">samples = 2.9%</text>\n",
       "<text text-anchor=\"middle\" x=\"1417.5\" y=\"-7.8\" font-family=\"Helvetica,sans-Serif\" font-size=\"14.00\">value = [0.324, 0.206, 0.471]</text>\n",
       "</g>\n",
       "<!-- 21&#45;&gt;22 -->\n",
       "<g id=\"edge22\" class=\"edge\">\n",
       "<title>21&#45;&gt;22</title>\n",
       "<path fill=\"none\" stroke=\"black\" d=\"M1417.5,-88.95C1417.5,-80.72 1417.5,-71.85 1417.5,-63.48\"/>\n",
       "<polygon fill=\"black\" stroke=\"black\" points=\"1421,-63.24 1417.5,-53.24 1414,-63.24 1421,-63.24\"/>\n",
       "</g>\n",
       "<!-- 23 -->\n",
       "<g id=\"node24\" class=\"node\">\n",
       "<title>23</title>\n",
       "<path fill=\"#d3f9e3\" stroke=\"black\" d=\"M1705.5,-53C1705.5,-53 1541.5,-53 1541.5,-53 1535.5,-53 1529.5,-47 1529.5,-41 1529.5,-41 1529.5,-12 1529.5,-12 1529.5,-6 1535.5,0 1541.5,0 1541.5,0 1705.5,0 1705.5,0 1711.5,0 1717.5,-6 1717.5,-12 1717.5,-12 1717.5,-41 1717.5,-41 1717.5,-47 1711.5,-53 1705.5,-53\"/>\n",
       "<text text-anchor=\"middle\" x=\"1623.5\" y=\"-37.8\" font-family=\"Helvetica,sans-Serif\" font-size=\"14.00\">gini = 0.571</text>\n",
       "<text text-anchor=\"middle\" x=\"1623.5\" y=\"-22.8\" font-family=\"Helvetica,sans-Serif\" font-size=\"14.00\">samples = 8.1%</text>\n",
       "<text text-anchor=\"middle\" x=\"1623.5\" y=\"-7.8\" font-family=\"Helvetica,sans-Serif\" font-size=\"14.00\">value = [0.094, 0.521, 0.385]</text>\n",
       "</g>\n",
       "<!-- 21&#45;&gt;23 -->\n",
       "<g id=\"edge23\" class=\"edge\">\n",
       "<title>21&#45;&gt;23</title>\n",
       "<path fill=\"none\" stroke=\"black\" d=\"M1489.55,-88.95C1511.99,-78.66 1536.58,-67.37 1558.51,-57.32\"/>\n",
       "<polygon fill=\"black\" stroke=\"black\" points=\"1560.09,-60.44 1567.72,-53.09 1557.18,-54.08 1560.09,-60.44\"/>\n",
       "</g>\n",
       "<!-- 25 -->\n",
       "<g id=\"node26\" class=\"node\">\n",
       "<title>25</title>\n",
       "<path fill=\"#efb082\" stroke=\"black\" d=\"M2202.5,-261C2202.5,-261 2038.5,-261 2038.5,-261 2032.5,-261 2026.5,-255 2026.5,-249 2026.5,-249 2026.5,-205 2026.5,-205 2026.5,-199 2032.5,-193 2038.5,-193 2038.5,-193 2202.5,-193 2202.5,-193 2208.5,-193 2214.5,-199 2214.5,-205 2214.5,-205 2214.5,-249 2214.5,-249 2214.5,-255 2208.5,-261 2202.5,-261\"/>\n",
       "<text text-anchor=\"middle\" x=\"2120.5\" y=\"-245.8\" font-family=\"Helvetica,sans-Serif\" font-size=\"14.00\">MediaExposure &lt;= 0.5</text>\n",
       "<text text-anchor=\"middle\" x=\"2120.5\" y=\"-230.8\" font-family=\"Helvetica,sans-Serif\" font-size=\"14.00\">gini = 0.468</text>\n",
       "<text text-anchor=\"middle\" x=\"2120.5\" y=\"-215.8\" font-family=\"Helvetica,sans-Serif\" font-size=\"14.00\">samples = 15.6%</text>\n",
       "<text text-anchor=\"middle\" x=\"2120.5\" y=\"-200.8\" font-family=\"Helvetica,sans-Serif\" font-size=\"14.00\">value = [0.696, 0.179, 0.125]</text>\n",
       "</g>\n",
       "<!-- 24&#45;&gt;25 -->\n",
       "<g id=\"edge25\" class=\"edge\">\n",
       "<title>24&#45;&gt;25</title>\n",
       "<path fill=\"none\" stroke=\"black\" d=\"M2120.5,-296.88C2120.5,-288.78 2120.5,-279.98 2120.5,-271.47\"/>\n",
       "<polygon fill=\"black\" stroke=\"black\" points=\"2124,-271.3 2120.5,-261.3 2117,-271.3 2124,-271.3\"/>\n",
       "</g>\n",
       "<!-- 32 -->\n",
       "<g id=\"node33\" class=\"node\">\n",
       "<title>32</title>\n",
       "<path fill=\"#d3f9e3\" stroke=\"black\" d=\"M2733,-261C2733,-261 2576,-261 2576,-261 2570,-261 2564,-255 2564,-249 2564,-249 2564,-205 2564,-205 2564,-199 2570,-193 2576,-193 2576,-193 2733,-193 2733,-193 2739,-193 2745,-199 2745,-205 2745,-205 2745,-249 2745,-249 2745,-255 2739,-261 2733,-261\"/>\n",
       "<text text-anchor=\"middle\" x=\"2654.5\" y=\"-245.8\" font-family=\"Helvetica,sans-Serif\" font-size=\"14.00\">children &lt;= 1.5</text>\n",
       "<text text-anchor=\"middle\" x=\"2654.5\" y=\"-230.8\" font-family=\"Helvetica,sans-Serif\" font-size=\"14.00\">gini = 0.637</text>\n",
       "<text text-anchor=\"middle\" x=\"2654.5\" y=\"-215.8\" font-family=\"Helvetica,sans-Serif\" font-size=\"14.00\">samples = 12.1%</text>\n",
       "<text text-anchor=\"middle\" x=\"2654.5\" y=\"-200.8\" font-family=\"Helvetica,sans-Serif\" font-size=\"14.00\">value = [0.31, 0.465, 0.225]</text>\n",
       "</g>\n",
       "<!-- 24&#45;&gt;32 -->\n",
       "<g id=\"edge32\" class=\"edge\">\n",
       "<title>24&#45;&gt;32</title>\n",
       "<path fill=\"none\" stroke=\"black\" d=\"M2214.74,-312C2309.98,-293.81 2456.6,-265.8 2554.02,-247.19\"/>\n",
       "<polygon fill=\"black\" stroke=\"black\" points=\"2554.71,-250.62 2563.87,-245.31 2553.39,-243.75 2554.71,-250.62\"/>\n",
       "</g>\n",
       "<!-- 26 -->\n",
       "<g id=\"node27\" class=\"node\">\n",
       "<title>26</title>\n",
       "<path fill=\"#f1bc96\" stroke=\"black\" d=\"M2098,-157C2098,-157 1941,-157 1941,-157 1935,-157 1929,-151 1929,-145 1929,-145 1929,-101 1929,-101 1929,-95 1935,-89 1941,-89 1941,-89 2098,-89 2098,-89 2104,-89 2110,-95 2110,-101 2110,-101 2110,-145 2110,-145 2110,-151 2104,-157 2098,-157\"/>\n",
       "<text text-anchor=\"middle\" x=\"2019.5\" y=\"-141.8\" font-family=\"Helvetica,sans-Serif\" font-size=\"14.00\">AgeWife &lt;= 46.5</text>\n",
       "<text text-anchor=\"middle\" x=\"2019.5\" y=\"-126.8\" font-family=\"Helvetica,sans-Serif\" font-size=\"14.00\">gini = 0.53</text>\n",
       "<text text-anchor=\"middle\" x=\"2019.5\" y=\"-111.8\" font-family=\"Helvetica,sans-Serif\" font-size=\"14.00\">samples = 12.5%</text>\n",
       "<text text-anchor=\"middle\" x=\"2019.5\" y=\"-96.8\" font-family=\"Helvetica,sans-Serif\" font-size=\"14.00\">value = [0.633, 0.218, 0.15]</text>\n",
       "</g>\n",
       "<!-- 25&#45;&gt;26 -->\n",
       "<g id=\"edge26\" class=\"edge\">\n",
       "<title>25&#45;&gt;26</title>\n",
       "<path fill=\"none\" stroke=\"black\" d=\"M2087.71,-192.88C2078.8,-183.89 2069.05,-174.04 2059.78,-164.68\"/>\n",
       "<polygon fill=\"black\" stroke=\"black\" points=\"2062,-161.94 2052.47,-157.3 2057.02,-166.87 2062,-161.94\"/>\n",
       "</g>\n",
       "<!-- 29 -->\n",
       "<g id=\"node30\" class=\"node\">\n",
       "<title>29</title>\n",
       "<path fill=\"#e68844\" stroke=\"black\" d=\"M2304.5,-157C2304.5,-157 2140.5,-157 2140.5,-157 2134.5,-157 2128.5,-151 2128.5,-145 2128.5,-145 2128.5,-101 2128.5,-101 2128.5,-95 2134.5,-89 2140.5,-89 2140.5,-89 2304.5,-89 2304.5,-89 2310.5,-89 2316.5,-95 2316.5,-101 2316.5,-101 2316.5,-145 2316.5,-145 2316.5,-151 2310.5,-157 2304.5,-157\"/>\n",
       "<text text-anchor=\"middle\" x=\"2222.5\" y=\"-141.8\" font-family=\"Helvetica,sans-Serif\" font-size=\"14.00\">StandardLivingIndex &lt;= 3.5</text>\n",
       "<text text-anchor=\"middle\" x=\"2222.5\" y=\"-126.8\" font-family=\"Helvetica,sans-Serif\" font-size=\"14.00\">gini = 0.104</text>\n",
       "<text text-anchor=\"middle\" x=\"2222.5\" y=\"-111.8\" font-family=\"Helvetica,sans-Serif\" font-size=\"14.00\">samples = 3.1%</text>\n",
       "<text text-anchor=\"middle\" x=\"2222.5\" y=\"-96.8\" font-family=\"Helvetica,sans-Serif\" font-size=\"14.00\">value = [0.946, 0.027, 0.027]</text>\n",
       "</g>\n",
       "<!-- 25&#45;&gt;29 -->\n",
       "<g id=\"edge29\" class=\"edge\">\n",
       "<title>25&#45;&gt;29</title>\n",
       "<path fill=\"none\" stroke=\"black\" d=\"M2153.62,-192.88C2162.7,-183.8 2172.65,-173.85 2182.1,-164.4\"/>\n",
       "<polygon fill=\"black\" stroke=\"black\" points=\"2184.6,-166.85 2189.2,-157.3 2179.65,-161.9 2184.6,-166.85\"/>\n",
       "</g>\n",
       "<!-- 27 -->\n",
       "<g id=\"node28\" class=\"node\">\n",
       "<title>27</title>\n",
       "<path fill=\"#f4caac\" stroke=\"black\" d=\"M1905,-53C1905,-53 1748,-53 1748,-53 1742,-53 1736,-47 1736,-41 1736,-41 1736,-12 1736,-12 1736,-6 1742,0 1748,0 1748,0 1905,0 1905,0 1911,0 1917,-6 1917,-12 1917,-12 1917,-41 1917,-41 1917,-47 1911,-53 1905,-53\"/>\n",
       "<text text-anchor=\"middle\" x=\"1826.5\" y=\"-37.8\" font-family=\"Helvetica,sans-Serif\" font-size=\"14.00\">gini = 0.584</text>\n",
       "<text text-anchor=\"middle\" x=\"1826.5\" y=\"-22.8\" font-family=\"Helvetica,sans-Serif\" font-size=\"14.00\">samples = 9.2%</text>\n",
       "<text text-anchor=\"middle\" x=\"1826.5\" y=\"-7.8\" font-family=\"Helvetica,sans-Serif\" font-size=\"14.00\">value = [0.565, 0.25, 0.185]</text>\n",
       "</g>\n",
       "<!-- 26&#45;&gt;27 -->\n",
       "<g id=\"edge27\" class=\"edge\">\n",
       "<title>26&#45;&gt;27</title>\n",
       "<path fill=\"none\" stroke=\"black\" d=\"M1952,-88.95C1931.17,-78.75 1908.34,-67.57 1887.94,-57.59\"/>\n",
       "<polygon fill=\"black\" stroke=\"black\" points=\"1889.28,-54.34 1878.76,-53.09 1886.2,-60.63 1889.28,-54.34\"/>\n",
       "</g>\n",
       "<!-- 28 -->\n",
       "<g id=\"node29\" class=\"node\">\n",
       "<title>28</title>\n",
       "<path fill=\"#ea9b62\" stroke=\"black\" d=\"M2111.5,-53C2111.5,-53 1947.5,-53 1947.5,-53 1941.5,-53 1935.5,-47 1935.5,-41 1935.5,-41 1935.5,-12 1935.5,-12 1935.5,-6 1941.5,0 1947.5,0 1947.5,0 2111.5,0 2111.5,0 2117.5,0 2123.5,-6 2123.5,-12 2123.5,-12 2123.5,-41 2123.5,-41 2123.5,-47 2117.5,-53 2111.5,-53\"/>\n",
       "<text text-anchor=\"middle\" x=\"2029.5\" y=\"-37.8\" font-family=\"Helvetica,sans-Serif\" font-size=\"14.00\">gini = 0.308</text>\n",
       "<text text-anchor=\"middle\" x=\"2029.5\" y=\"-22.8\" font-family=\"Helvetica,sans-Serif\" font-size=\"14.00\">samples = 3.3%</text>\n",
       "<text text-anchor=\"middle\" x=\"2029.5\" y=\"-7.8\" font-family=\"Helvetica,sans-Serif\" font-size=\"14.00\">value = [0.821, 0.128, 0.051]</text>\n",
       "</g>\n",
       "<!-- 26&#45;&gt;28 -->\n",
       "<g id=\"edge28\" class=\"edge\">\n",
       "<title>26&#45;&gt;28</title>\n",
       "<path fill=\"none\" stroke=\"black\" d=\"M2023,-88.95C2023.88,-80.62 2024.83,-71.65 2025.72,-63.2\"/>\n",
       "<polygon fill=\"black\" stroke=\"black\" points=\"2029.2,-63.55 2026.78,-53.24 2022.24,-62.81 2029.2,-63.55\"/>\n",
       "</g>\n",
       "<!-- 30 -->\n",
       "<g id=\"node31\" class=\"node\">\n",
       "<title>30</title>\n",
       "<path fill=\"#e58139\" stroke=\"black\" d=\"M2273,-53C2273,-53 2154,-53 2154,-53 2148,-53 2142,-47 2142,-41 2142,-41 2142,-12 2142,-12 2142,-6 2148,0 2154,0 2154,0 2273,0 2273,0 2279,0 2285,-6 2285,-12 2285,-12 2285,-41 2285,-41 2285,-47 2279,-53 2273,-53\"/>\n",
       "<text text-anchor=\"middle\" x=\"2213.5\" y=\"-37.8\" font-family=\"Helvetica,sans-Serif\" font-size=\"14.00\">gini = 0.0</text>\n",
       "<text text-anchor=\"middle\" x=\"2213.5\" y=\"-22.8\" font-family=\"Helvetica,sans-Serif\" font-size=\"14.00\">samples = 2.6%</text>\n",
       "<text text-anchor=\"middle\" x=\"2213.5\" y=\"-7.8\" font-family=\"Helvetica,sans-Serif\" font-size=\"14.00\">value = [1.0, 0.0, 0.0]</text>\n",
       "</g>\n",
       "<!-- 29&#45;&gt;30 -->\n",
       "<g id=\"edge30\" class=\"edge\">\n",
       "<title>29&#45;&gt;30</title>\n",
       "<path fill=\"none\" stroke=\"black\" d=\"M2219.35,-88.95C2218.56,-80.62 2217.7,-71.65 2216.9,-63.2\"/>\n",
       "<polygon fill=\"black\" stroke=\"black\" points=\"2220.38,-62.86 2215.95,-53.24 2213.42,-63.52 2220.38,-62.86\"/>\n",
       "</g>\n",
       "<!-- 31 -->\n",
       "<g id=\"node32\" class=\"node\">\n",
       "<title>31</title>\n",
       "<path fill=\"#efb388\" stroke=\"black\" d=\"M2479.5,-53C2479.5,-53 2315.5,-53 2315.5,-53 2309.5,-53 2303.5,-47 2303.5,-41 2303.5,-41 2303.5,-12 2303.5,-12 2303.5,-6 2309.5,0 2315.5,0 2315.5,0 2479.5,0 2479.5,0 2485.5,0 2491.5,-6 2491.5,-12 2491.5,-12 2491.5,-41 2491.5,-41 2491.5,-47 2485.5,-53 2479.5,-53\"/>\n",
       "<text text-anchor=\"middle\" x=\"2397.5\" y=\"-37.8\" font-family=\"Helvetica,sans-Serif\" font-size=\"14.00\">gini = 0.5</text>\n",
       "<text text-anchor=\"middle\" x=\"2397.5\" y=\"-22.8\" font-family=\"Helvetica,sans-Serif\" font-size=\"14.00\">samples = 0.5%</text>\n",
       "<text text-anchor=\"middle\" x=\"2397.5\" y=\"-7.8\" font-family=\"Helvetica,sans-Serif\" font-size=\"14.00\">value = [0.667, 0.167, 0.167]</text>\n",
       "</g>\n",
       "<!-- 29&#45;&gt;31 -->\n",
       "<g id=\"edge31\" class=\"edge\">\n",
       "<title>29&#45;&gt;31</title>\n",
       "<path fill=\"none\" stroke=\"black\" d=\"M2283.71,-88.95C2302.43,-78.84 2322.92,-67.78 2341.29,-57.86\"/>\n",
       "<polygon fill=\"black\" stroke=\"black\" points=\"2342.98,-60.92 2350.12,-53.09 2339.66,-54.76 2342.98,-60.92\"/>\n",
       "</g>\n",
       "<!-- 33 -->\n",
       "<g id=\"node34\" class=\"node\">\n",
       "<title>33</title>\n",
       "<path fill=\"#e78b48\" stroke=\"black\" d=\"M2729,-157C2729,-157 2580,-157 2580,-157 2574,-157 2568,-151 2568,-145 2568,-145 2568,-101 2568,-101 2568,-95 2574,-89 2580,-89 2580,-89 2729,-89 2729,-89 2735,-89 2741,-95 2741,-101 2741,-101 2741,-145 2741,-145 2741,-151 2735,-157 2729,-157\"/>\n",
       "<text text-anchor=\"middle\" x=\"2654.5\" y=\"-141.8\" font-family=\"Helvetica,sans-Serif\" font-size=\"14.00\">EducHusband_3 &lt;= 0.5</text>\n",
       "<text text-anchor=\"middle\" x=\"2654.5\" y=\"-126.8\" font-family=\"Helvetica,sans-Serif\" font-size=\"14.00\">gini = 0.133</text>\n",
       "<text text-anchor=\"middle\" x=\"2654.5\" y=\"-111.8\" font-family=\"Helvetica,sans-Serif\" font-size=\"14.00\">samples = 1.2%</text>\n",
       "<text text-anchor=\"middle\" x=\"2654.5\" y=\"-96.8\" font-family=\"Helvetica,sans-Serif\" font-size=\"14.00\">value = [0.929, 0.0, 0.071]</text>\n",
       "</g>\n",
       "<!-- 32&#45;&gt;33 -->\n",
       "<g id=\"edge33\" class=\"edge\">\n",
       "<title>32&#45;&gt;33</title>\n",
       "<path fill=\"none\" stroke=\"black\" d=\"M2654.5,-192.88C2654.5,-184.78 2654.5,-175.98 2654.5,-167.47\"/>\n",
       "<polygon fill=\"black\" stroke=\"black\" points=\"2658,-167.3 2654.5,-157.3 2651,-167.3 2658,-167.3\"/>\n",
       "</g>\n",
       "<!-- 36 -->\n",
       "<g id=\"node37\" class=\"node\">\n",
       "<title>36</title>\n",
       "<path fill=\"#b8f6d2\" stroke=\"black\" d=\"M3008.5,-157C3008.5,-157 2844.5,-157 2844.5,-157 2838.5,-157 2832.5,-151 2832.5,-145 2832.5,-145 2832.5,-101 2832.5,-101 2832.5,-95 2838.5,-89 2844.5,-89 2844.5,-89 3008.5,-89 3008.5,-89 3014.5,-89 3020.5,-95 3020.5,-101 3020.5,-101 3020.5,-145 3020.5,-145 3020.5,-151 3014.5,-157 3008.5,-157\"/>\n",
       "<text text-anchor=\"middle\" x=\"2926.5\" y=\"-141.8\" font-family=\"Helvetica,sans-Serif\" font-size=\"14.00\">AgeWife &lt;= 48.5</text>\n",
       "<text text-anchor=\"middle\" x=\"2926.5\" y=\"-126.8\" font-family=\"Helvetica,sans-Serif\" font-size=\"14.00\">gini = 0.617</text>\n",
       "<text text-anchor=\"middle\" x=\"2926.5\" y=\"-111.8\" font-family=\"Helvetica,sans-Serif\" font-size=\"14.00\">samples = 10.9%</text>\n",
       "<text text-anchor=\"middle\" x=\"2926.5\" y=\"-96.8\" font-family=\"Helvetica,sans-Serif\" font-size=\"14.00\">value = [0.242, 0.516, 0.242]</text>\n",
       "</g>\n",
       "<!-- 32&#45;&gt;36 -->\n",
       "<g id=\"edge36\" class=\"edge\">\n",
       "<title>32&#45;&gt;36</title>\n",
       "<path fill=\"none\" stroke=\"black\" d=\"M2742.81,-192.88C2770.27,-182.59 2800.69,-171.18 2828.75,-160.66\"/>\n",
       "<polygon fill=\"black\" stroke=\"black\" points=\"2830.03,-163.91 2838.17,-157.12 2827.58,-157.36 2830.03,-163.91\"/>\n",
       "</g>\n",
       "<!-- 34 -->\n",
       "<g id=\"node35\" class=\"node\">\n",
       "<title>34</title>\n",
       "<path fill=\"#e58139\" stroke=\"black\" d=\"M2641,-53C2641,-53 2522,-53 2522,-53 2516,-53 2510,-47 2510,-41 2510,-41 2510,-12 2510,-12 2510,-6 2516,0 2522,0 2522,0 2641,0 2641,0 2647,0 2653,-6 2653,-12 2653,-12 2653,-41 2653,-41 2653,-47 2647,-53 2641,-53\"/>\n",
       "<text text-anchor=\"middle\" x=\"2581.5\" y=\"-37.8\" font-family=\"Helvetica,sans-Serif\" font-size=\"14.00\">gini = 0.0</text>\n",
       "<text text-anchor=\"middle\" x=\"2581.5\" y=\"-22.8\" font-family=\"Helvetica,sans-Serif\" font-size=\"14.00\">samples = 1.1%</text>\n",
       "<text text-anchor=\"middle\" x=\"2581.5\" y=\"-7.8\" font-family=\"Helvetica,sans-Serif\" font-size=\"14.00\">value = [1.0, 0.0, 0.0]</text>\n",
       "</g>\n",
       "<!-- 33&#45;&gt;34 -->\n",
       "<g id=\"edge34\" class=\"edge\">\n",
       "<title>33&#45;&gt;34</title>\n",
       "<path fill=\"none\" stroke=\"black\" d=\"M2628.97,-88.95C2622.04,-79.98 2614.54,-70.27 2607.58,-61.26\"/>\n",
       "<polygon fill=\"black\" stroke=\"black\" points=\"2610.26,-59.01 2601.38,-53.24 2604.72,-63.29 2610.26,-59.01\"/>\n",
       "</g>\n",
       "<!-- 35 -->\n",
       "<g id=\"node36\" class=\"node\">\n",
       "<title>35</title>\n",
       "<path fill=\"#8139e5\" stroke=\"black\" d=\"M2802,-53C2802,-53 2683,-53 2683,-53 2677,-53 2671,-47 2671,-41 2671,-41 2671,-12 2671,-12 2671,-6 2677,0 2683,0 2683,0 2802,0 2802,0 2808,0 2814,-6 2814,-12 2814,-12 2814,-41 2814,-41 2814,-47 2808,-53 2802,-53\"/>\n",
       "<text text-anchor=\"middle\" x=\"2742.5\" y=\"-37.8\" font-family=\"Helvetica,sans-Serif\" font-size=\"14.00\">gini = 0.0</text>\n",
       "<text text-anchor=\"middle\" x=\"2742.5\" y=\"-22.8\" font-family=\"Helvetica,sans-Serif\" font-size=\"14.00\">samples = 0.1%</text>\n",
       "<text text-anchor=\"middle\" x=\"2742.5\" y=\"-7.8\" font-family=\"Helvetica,sans-Serif\" font-size=\"14.00\">value = [0.0, 0.0, 1.0]</text>\n",
       "</g>\n",
       "<!-- 33&#45;&gt;35 -->\n",
       "<g id=\"edge35\" class=\"edge\">\n",
       "<title>33&#45;&gt;35</title>\n",
       "<path fill=\"none\" stroke=\"black\" d=\"M2685.28,-88.95C2693.8,-79.8 2703.04,-69.87 2711.57,-60.71\"/>\n",
       "<polygon fill=\"black\" stroke=\"black\" points=\"2714.28,-62.94 2718.53,-53.24 2709.16,-58.17 2714.28,-62.94\"/>\n",
       "</g>\n",
       "<!-- 37 -->\n",
       "<g id=\"node38\" class=\"node\">\n",
       "<title>37</title>\n",
       "<path fill=\"#b1f5cd\" stroke=\"black\" d=\"M3008.5,-53C3008.5,-53 2844.5,-53 2844.5,-53 2838.5,-53 2832.5,-47 2832.5,-41 2832.5,-41 2832.5,-12 2832.5,-12 2832.5,-6 2838.5,0 2844.5,0 2844.5,0 3008.5,0 3008.5,0 3014.5,0 3020.5,-6 3020.5,-12 3020.5,-12 3020.5,-41 3020.5,-41 3020.5,-47 3014.5,-53 3008.5,-53\"/>\n",
       "<text text-anchor=\"middle\" x=\"2926.5\" y=\"-37.8\" font-family=\"Helvetica,sans-Serif\" font-size=\"14.00\">gini = 0.598</text>\n",
       "<text text-anchor=\"middle\" x=\"2926.5\" y=\"-22.8\" font-family=\"Helvetica,sans-Serif\" font-size=\"14.00\">samples = 10.3%</text>\n",
       "<text text-anchor=\"middle\" x=\"2926.5\" y=\"-7.8\" font-family=\"Helvetica,sans-Serif\" font-size=\"14.00\">value = [0.207, 0.545, 0.248]</text>\n",
       "</g>\n",
       "<!-- 36&#45;&gt;37 -->\n",
       "<g id=\"edge37\" class=\"edge\">\n",
       "<title>36&#45;&gt;37</title>\n",
       "<path fill=\"none\" stroke=\"black\" d=\"M2926.5,-88.95C2926.5,-80.72 2926.5,-71.85 2926.5,-63.48\"/>\n",
       "<polygon fill=\"black\" stroke=\"black\" points=\"2930,-63.24 2926.5,-53.24 2923,-63.24 2930,-63.24\"/>\n",
       "</g>\n",
       "<!-- 38 -->\n",
       "<g id=\"node39\" class=\"node\">\n",
       "<title>38</title>\n",
       "<path fill=\"#e9965a\" stroke=\"black\" d=\"M3200,-53C3200,-53 3051,-53 3051,-53 3045,-53 3039,-47 3039,-41 3039,-41 3039,-12 3039,-12 3039,-6 3045,0 3051,0 3051,0 3200,0 3200,0 3206,0 3212,-6 3212,-12 3212,-12 3212,-41 3212,-41 3212,-47 3206,-53 3200,-53\"/>\n",
       "<text text-anchor=\"middle\" x=\"3125.5\" y=\"-37.8\" font-family=\"Helvetica,sans-Serif\" font-size=\"14.00\">gini = 0.245</text>\n",
       "<text text-anchor=\"middle\" x=\"3125.5\" y=\"-22.8\" font-family=\"Helvetica,sans-Serif\" font-size=\"14.00\">samples = 0.6%</text>\n",
       "<text text-anchor=\"middle\" x=\"3125.5\" y=\"-7.8\" font-family=\"Helvetica,sans-Serif\" font-size=\"14.00\">value = [0.857, 0.0, 0.143]</text>\n",
       "</g>\n",
       "<!-- 36&#45;&gt;38 -->\n",
       "<g id=\"edge38\" class=\"edge\">\n",
       "<title>36&#45;&gt;38</title>\n",
       "<path fill=\"none\" stroke=\"black\" d=\"M2996.1,-88.95C3017.68,-78.7 3041.32,-67.47 3062.43,-57.45\"/>\n",
       "<polygon fill=\"black\" stroke=\"black\" points=\"3064.09,-60.54 3071.62,-53.09 3061.08,-54.21 3064.09,-60.54\"/>\n",
       "</g>\n",
       "</g>\n",
       "</svg>\n"
      ],
      "text/plain": [
       "<graphviz.sources.Source at 0x1e0e172f100>"
      ]
     },
     "execution_count": 88,
     "metadata": {},
     "output_type": "execute_result"
    }
   ],
   "source": [
    "# Graficamos el árbol\n",
    "import graphviz\n",
    "\n",
    "dot_data = tree.export_graphviz(arbol_cv.best_estimator_, out_file = None, \n",
    "                                feature_names = X_train.columns,\n",
    "                                rounded = True, proportion = True, \n",
    "                                filled = True)\n",
    "\n",
    "graph = graphviz.Source(dot_data, format = \"png\") \n",
    "graph"
   ]
  },
  {
   "cell_type": "code",
   "execution_count": 91,
   "metadata": {},
   "outputs": [
    {
     "data": {
      "text/plain": [
       "'arbol.png'"
      ]
     },
     "execution_count": 91,
     "metadata": {},
     "output_type": "execute_result"
    }
   ],
   "source": [
    "graph.render(filename = 'arbol')"
   ]
  },
  {
   "attachments": {},
   "cell_type": "markdown",
   "metadata": {},
   "source": [
    "¿Cuáles son las variables más importantes?"
   ]
  },
  {
   "cell_type": "code",
   "execution_count": 96,
   "metadata": {},
   "outputs": [
    {
     "data": {
      "text/html": [
       "<div>\n",
       "<style scoped>\n",
       "    .dataframe tbody tr th:only-of-type {\n",
       "        vertical-align: middle;\n",
       "    }\n",
       "\n",
       "    .dataframe tbody tr th {\n",
       "        vertical-align: top;\n",
       "    }\n",
       "\n",
       "    .dataframe thead th {\n",
       "        text-align: right;\n",
       "    }\n",
       "</style>\n",
       "<table border=\"1\" class=\"dataframe\">\n",
       "  <thead>\n",
       "    <tr style=\"text-align: right;\">\n",
       "      <th></th>\n",
       "      <th>Importancia</th>\n",
       "    </tr>\n",
       "  </thead>\n",
       "  <tbody>\n",
       "    <tr>\n",
       "      <th>OccupationHusband_3</th>\n",
       "      <td>0.000000</td>\n",
       "    </tr>\n",
       "    <tr>\n",
       "      <th>EducHusband_1</th>\n",
       "      <td>0.000000</td>\n",
       "    </tr>\n",
       "    <tr>\n",
       "      <th>EducWife_3</th>\n",
       "      <td>0.000000</td>\n",
       "    </tr>\n",
       "    <tr>\n",
       "      <th>EducWife_2</th>\n",
       "      <td>0.000000</td>\n",
       "    </tr>\n",
       "    <tr>\n",
       "      <th>EducWife_1</th>\n",
       "      <td>0.000000</td>\n",
       "    </tr>\n",
       "    <tr>\n",
       "      <th>OccupationHusband_2</th>\n",
       "      <td>0.000000</td>\n",
       "    </tr>\n",
       "    <tr>\n",
       "      <th>EducHusband_4</th>\n",
       "      <td>0.000000</td>\n",
       "    </tr>\n",
       "    <tr>\n",
       "      <th>WorkingWife</th>\n",
       "      <td>0.000000</td>\n",
       "    </tr>\n",
       "    <tr>\n",
       "      <th>IslamWife</th>\n",
       "      <td>0.000000</td>\n",
       "    </tr>\n",
       "    <tr>\n",
       "      <th>StandardLivingIndex</th>\n",
       "      <td>0.005550</td>\n",
       "    </tr>\n",
       "    <tr>\n",
       "      <th>OccupationHusband_4</th>\n",
       "      <td>0.006441</td>\n",
       "    </tr>\n",
       "    <tr>\n",
       "      <th>EducHusband_2</th>\n",
       "      <td>0.006625</td>\n",
       "    </tr>\n",
       "    <tr>\n",
       "      <th>EducHusband_3</th>\n",
       "      <td>0.012303</td>\n",
       "    </tr>\n",
       "    <tr>\n",
       "      <th>MediaExposure</th>\n",
       "      <td>0.029284</td>\n",
       "    </tr>\n",
       "    <tr>\n",
       "      <th>OccupationHusband_1</th>\n",
       "      <td>0.041885</td>\n",
       "    </tr>\n",
       "    <tr>\n",
       "      <th>EducWife_4</th>\n",
       "      <td>0.204560</td>\n",
       "    </tr>\n",
       "    <tr>\n",
       "      <th>AgeWife</th>\n",
       "      <td>0.305660</td>\n",
       "    </tr>\n",
       "    <tr>\n",
       "      <th>children</th>\n",
       "      <td>0.387693</td>\n",
       "    </tr>\n",
       "  </tbody>\n",
       "</table>\n",
       "</div>"
      ],
      "text/plain": [
       "                     Importancia\n",
       "OccupationHusband_3     0.000000\n",
       "EducHusband_1           0.000000\n",
       "EducWife_3              0.000000\n",
       "EducWife_2              0.000000\n",
       "EducWife_1              0.000000\n",
       "OccupationHusband_2     0.000000\n",
       "EducHusband_4           0.000000\n",
       "WorkingWife             0.000000\n",
       "IslamWife               0.000000\n",
       "StandardLivingIndex     0.005550\n",
       "OccupationHusband_4     0.006441\n",
       "EducHusband_2           0.006625\n",
       "EducHusband_3           0.012303\n",
       "MediaExposure           0.029284\n",
       "OccupationHusband_1     0.041885\n",
       "EducWife_4              0.204560\n",
       "AgeWife                 0.305660\n",
       "children                0.387693"
      ]
     },
     "execution_count": 96,
     "metadata": {},
     "output_type": "execute_result"
    }
   ],
   "source": [
    "# Creamos un dataframe con las importancias\n",
    "importancia_arbol = pd.DataFrame(arbol_cv.best_estimator_.feature_importances_, \n",
    "                                 index = X_train.columns, \n",
    "                                 columns = ['Importancia']).sort_values(\"Importancia\", ascending = True)\n",
    "importancia_arbol"
   ]
  },
  {
   "cell_type": "code",
   "execution_count": 98,
   "metadata": {},
   "outputs": [
    {
     "data": {
      "text/plain": [
       "<AxesSubplot:>"
      ]
     },
     "execution_count": 98,
     "metadata": {},
     "output_type": "execute_result"
    },
    {
     "data": {
      "image/png": "[encoded data removed]",
      "text/plain": [
       "<Figure size 2000x500 with 1 Axes>"
      ]
     },
     "metadata": {},
     "output_type": "display_data"
    }
   ],
   "source": [
    "# Visualización de la importancia\n",
    "importancia_arbol.plot(kind = 'barh', figsize=(20, 5))"
   ]
  },
  {
   "attachments": {},
   "cell_type": "markdown",
   "metadata": {},
   "source": [
    "#### Entrenamiento del Random Forest\n",
    "\n",
    "**Hiperparámetros**\n",
    "- Número de árboles\n",
    "- Máximo número de variables"
   ]
  },
  {
   "cell_type": "code",
   "execution_count": 99,
   "metadata": {},
   "outputs": [],
   "source": [
    "# Importo la función para estimar RandomForest\n",
    "from sklearn.ensemble import RandomForestClassifier "
   ]
  },
  {
   "cell_type": "code",
   "execution_count": 100,
   "metadata": {},
   "outputs": [
    {
     "data": {
      "text/plain": [
       "RandomForestClassifier(max_depth=6, random_state=23)"
      ]
     },
     "execution_count": 100,
     "metadata": {},
     "output_type": "execute_result"
    }
   ],
   "source": [
    "# Defino el RandomForest\n",
    "rf = RandomForestClassifier(max_depth = 6, n_estimators = 100, random_state = 23)\n",
    "# Estimo el modelo\n",
    "rf.fit(X_train, y_train)"
   ]
  },
  {
   "cell_type": "code",
   "execution_count": 101,
   "metadata": {},
   "outputs": [],
   "source": [
    "# Predicción dentro y fuera de muestra\n",
    "y_hat_in_rf = rf.predict(X_train)\n",
    "y_hat_out_rf = rf.predict(X_test)\n",
    "\n",
    "# Predecimos las probabilidades\n",
    "y_prob_in_rf = rf.predict_proba(X_train)\n",
    "y_prob_out_rf = rf.predict_proba(X_test)"
   ]
  },
  {
   "cell_type": "code",
   "execution_count": 103,
   "metadata": {},
   "outputs": [
    {
     "name": "stdout",
     "output_type": "stream",
     "text": [
      "84.9\n",
      "83.6\n",
      "81.2\n"
     ]
    },
    {
     "data": {
      "text/html": [
       "<div>\n",
       "<style scoped>\n",
       "    .dataframe tbody tr th:only-of-type {\n",
       "        vertical-align: middle;\n",
       "    }\n",
       "\n",
       "    .dataframe tbody tr th {\n",
       "        vertical-align: top;\n",
       "    }\n",
       "\n",
       "    .dataframe thead th {\n",
       "        text-align: right;\n",
       "    }\n",
       "</style>\n",
       "<table border=\"1\" class=\"dataframe\">\n",
       "  <thead>\n",
       "    <tr style=\"text-align: right;\">\n",
       "      <th>col_0</th>\n",
       "      <th>1</th>\n",
       "      <th>2</th>\n",
       "      <th>3</th>\n",
       "      <th>All</th>\n",
       "    </tr>\n",
       "    <tr>\n",
       "      <th>Contraceptive</th>\n",
       "      <th></th>\n",
       "      <th></th>\n",
       "      <th></th>\n",
       "      <th></th>\n",
       "    </tr>\n",
       "  </thead>\n",
       "  <tbody>\n",
       "    <tr>\n",
       "      <th>1</th>\n",
       "      <td>356</td>\n",
       "      <td>45</td>\n",
       "      <td>99</td>\n",
       "      <td>500</td>\n",
       "    </tr>\n",
       "    <tr>\n",
       "      <th>2</th>\n",
       "      <td>59</td>\n",
       "      <td>143</td>\n",
       "      <td>74</td>\n",
       "      <td>276</td>\n",
       "    </tr>\n",
       "    <tr>\n",
       "      <th>3</th>\n",
       "      <td>71</td>\n",
       "      <td>68</td>\n",
       "      <td>263</td>\n",
       "      <td>402</td>\n",
       "    </tr>\n",
       "    <tr>\n",
       "      <th>All</th>\n",
       "      <td>486</td>\n",
       "      <td>256</td>\n",
       "      <td>436</td>\n",
       "      <td>1178</td>\n",
       "    </tr>\n",
       "  </tbody>\n",
       "</table>\n",
       "</div>"
      ],
      "text/plain": [
       "col_0            1    2    3   All\n",
       "Contraceptive                     \n",
       "1              356   45   99   500\n",
       "2               59  143   74   276\n",
       "3               71   68  263   402\n",
       "All            486  256  436  1178"
      ]
     },
     "execution_count": 103,
     "metadata": {},
     "output_type": "execute_result"
    }
   ],
   "source": [
    "# Que tanto aprendió dentro de la muestra?\n",
    "print(np.round(100*roc_auc_score(y_train==1 , y_prob_in_rf[:,0]), 1))\n",
    "print(np.round(100*roc_auc_score(y_train==2 , y_prob_in_rf[:,1]), 1))\n",
    "print(np.round(100*roc_auc_score(y_train==3 , y_prob_in_rf[:,2]), 1))\n",
    "\n",
    "# Matriz de confusión\n",
    "pd.crosstab(y_train, y_hat_in_rf, margins = True)"
   ]
  },
  {
   "cell_type": "code",
   "execution_count": 104,
   "metadata": {},
   "outputs": [
    {
     "name": "stdout",
     "output_type": "stream",
     "text": [
      "79.0\n",
      "71.9\n",
      "68.2\n"
     ]
    },
    {
     "data": {
      "text/html": [
       "<div>\n",
       "<style scoped>\n",
       "    .dataframe tbody tr th:only-of-type {\n",
       "        vertical-align: middle;\n",
       "    }\n",
       "\n",
       "    .dataframe tbody tr th {\n",
       "        vertical-align: top;\n",
       "    }\n",
       "\n",
       "    .dataframe thead th {\n",
       "        text-align: right;\n",
       "    }\n",
       "</style>\n",
       "<table border=\"1\" class=\"dataframe\">\n",
       "  <thead>\n",
       "    <tr style=\"text-align: right;\">\n",
       "      <th>col_0</th>\n",
       "      <th>1</th>\n",
       "      <th>2</th>\n",
       "      <th>3</th>\n",
       "      <th>All</th>\n",
       "    </tr>\n",
       "    <tr>\n",
       "      <th>Contraceptive</th>\n",
       "      <th></th>\n",
       "      <th></th>\n",
       "      <th></th>\n",
       "      <th></th>\n",
       "    </tr>\n",
       "  </thead>\n",
       "  <tbody>\n",
       "    <tr>\n",
       "      <th>1</th>\n",
       "      <td>89</td>\n",
       "      <td>10</td>\n",
       "      <td>30</td>\n",
       "      <td>129</td>\n",
       "    </tr>\n",
       "    <tr>\n",
       "      <th>2</th>\n",
       "      <td>15</td>\n",
       "      <td>22</td>\n",
       "      <td>20</td>\n",
       "      <td>57</td>\n",
       "    </tr>\n",
       "    <tr>\n",
       "      <th>3</th>\n",
       "      <td>32</td>\n",
       "      <td>24</td>\n",
       "      <td>53</td>\n",
       "      <td>109</td>\n",
       "    </tr>\n",
       "    <tr>\n",
       "      <th>All</th>\n",
       "      <td>136</td>\n",
       "      <td>56</td>\n",
       "      <td>103</td>\n",
       "      <td>295</td>\n",
       "    </tr>\n",
       "  </tbody>\n",
       "</table>\n",
       "</div>"
      ],
      "text/plain": [
       "col_0            1   2    3  All\n",
       "Contraceptive                   \n",
       "1               89  10   30  129\n",
       "2               15  22   20   57\n",
       "3               32  24   53  109\n",
       "All            136  56  103  295"
      ]
     },
     "execution_count": 104,
     "metadata": {},
     "output_type": "execute_result"
    }
   ],
   "source": [
    "# ¿Qué tanto aprendió el modelo de manera generalizada?\n",
    "print(np.round(100*roc_auc_score(y_test==1 , y_prob_out_rf[:,0]), 1))\n",
    "print(np.round(100*roc_auc_score(y_test==2 , y_prob_out_rf[:,1]), 1))\n",
    "print(np.round(100*roc_auc_score(y_test==3 , y_prob_out_rf[:,2]), 1))\n",
    "\n",
    "# Matriz de confusión\n",
    "pd.crosstab(y_test, y_hat_out_rf, margins = True)"
   ]
  },
  {
   "cell_type": "code",
   "execution_count": 105,
   "metadata": {},
   "outputs": [
    {
     "data": {
      "text/plain": [
       "GridSearchCV(cv=10, estimator=RandomForestClassifier(random_state=23),\n",
       "             param_grid={'max_depth': [3, 5, 7, 9, 11, 13, 15, 17]},\n",
       "             return_train_score=True, scoring='roc_auc_ovo')"
      ]
     },
     "execution_count": 105,
     "metadata": {},
     "output_type": "execute_result"
    }
   ],
   "source": [
    "rf = RandomForestClassifier(n_estimators = 100, random_state = 23)\n",
    "grilla_rf = {\"max_depth\": [3, 5, 7, 9, 11, 13, 15, 17]}\n",
    "rf_cv = GridSearchCV(rf, grilla_rf, scoring = \"roc_auc_ovo\", return_train_score = True, cv = 10)\n",
    "rf_cv.fit(X_train, y_train)"
   ]
  },
  {
   "cell_type": "code",
   "execution_count": 106,
   "metadata": {},
   "outputs": [],
   "source": [
    "cv_rf_results = pd.DataFrame(rf_cv.cv_results_)"
   ]
  },
  {
   "cell_type": "code",
   "execution_count": 107,
   "metadata": {},
   "outputs": [
    {
     "data": {
      "text/plain": [
       "<matplotlib.collections.LineCollection at 0x1e0e17d3f10>"
      ]
     },
     "execution_count": 107,
     "metadata": {},
     "output_type": "execute_result"
    },
    {
     "data": {
      "image/png": "[encoded data removed]",
      "text/plain": [
       "<Figure size 2000x600 with 1 Axes>"
      ]
     },
     "metadata": {},
     "output_type": "display_data"
    }
   ],
   "source": [
    "# Visualicemos\n",
    "fig, ax = plt.subplots(figsize = (20, 6))\n",
    "sns.despine()\n",
    "sns.lineplot(data = cv_rf_results, x = 'param_max_depth', y = 'mean_test_score', ax = ax, color = \"forestgreen\",\n",
    "             label = \"Prueba\")\n",
    "sns.lineplot(data = cv_rf_results, x = 'param_max_depth', y = 'mean_train_score', ax = ax, color = \"darkblue\",\n",
    "             label = \"Entrenamiento\")\n",
    "plt.legend()\n",
    "ax.set_xlabel(\"Máxima profundidad\")\n",
    "ax.set_ylabel(\"AUC\")\n",
    "plt.vlines(x = rf_cv.best_params_[\"max_depth\"], ymin = 0.58, ymax = 1, color = \"red\", \n",
    "           linestyles = \"dashed\")"
   ]
  },
  {
   "cell_type": "code",
   "execution_count": 110,
   "metadata": {},
   "outputs": [
    {
     "data": {
      "text/html": [
       "<div>\n",
       "<style scoped>\n",
       "    .dataframe tbody tr th:only-of-type {\n",
       "        vertical-align: middle;\n",
       "    }\n",
       "\n",
       "    .dataframe tbody tr th {\n",
       "        vertical-align: top;\n",
       "    }\n",
       "\n",
       "    .dataframe thead th {\n",
       "        text-align: right;\n",
       "    }\n",
       "</style>\n",
       "<table border=\"1\" class=\"dataframe\">\n",
       "  <thead>\n",
       "    <tr style=\"text-align: right;\">\n",
       "      <th></th>\n",
       "      <th>Importancia</th>\n",
       "    </tr>\n",
       "  </thead>\n",
       "  <tbody>\n",
       "    <tr>\n",
       "      <th>OccupationHusband_4</th>\n",
       "      <td>0.008540</td>\n",
       "    </tr>\n",
       "    <tr>\n",
       "      <th>EducHusband_1</th>\n",
       "      <td>0.014720</td>\n",
       "    </tr>\n",
       "    <tr>\n",
       "      <th>OccupationHusband_2</th>\n",
       "      <td>0.016541</td>\n",
       "    </tr>\n",
       "    <tr>\n",
       "      <th>EducWife_3</th>\n",
       "      <td>0.019510</td>\n",
       "    </tr>\n",
       "    <tr>\n",
       "      <th>EducHusband_2</th>\n",
       "      <td>0.020025</td>\n",
       "    </tr>\n",
       "    <tr>\n",
       "      <th>IslamWife</th>\n",
       "      <td>0.020178</td>\n",
       "    </tr>\n",
       "    <tr>\n",
       "      <th>OccupationHusband_3</th>\n",
       "      <td>0.021818</td>\n",
       "    </tr>\n",
       "    <tr>\n",
       "      <th>EducWife_2</th>\n",
       "      <td>0.022629</td>\n",
       "    </tr>\n",
       "    <tr>\n",
       "      <th>EducHusband_3</th>\n",
       "      <td>0.024677</td>\n",
       "    </tr>\n",
       "    <tr>\n",
       "      <th>EducHusband_4</th>\n",
       "      <td>0.025513</td>\n",
       "    </tr>\n",
       "    <tr>\n",
       "      <th>EducWife_1</th>\n",
       "      <td>0.025833</td>\n",
       "    </tr>\n",
       "    <tr>\n",
       "      <th>WorkingWife</th>\n",
       "      <td>0.027177</td>\n",
       "    </tr>\n",
       "    <tr>\n",
       "      <th>MediaExposure</th>\n",
       "      <td>0.037492</td>\n",
       "    </tr>\n",
       "    <tr>\n",
       "      <th>OccupationHusband_1</th>\n",
       "      <td>0.046241</td>\n",
       "    </tr>\n",
       "    <tr>\n",
       "      <th>StandardLivingIndex</th>\n",
       "      <td>0.066309</td>\n",
       "    </tr>\n",
       "    <tr>\n",
       "      <th>EducWife_4</th>\n",
       "      <td>0.075255</td>\n",
       "    </tr>\n",
       "    <tr>\n",
       "      <th>AgeWife</th>\n",
       "      <td>0.254162</td>\n",
       "    </tr>\n",
       "    <tr>\n",
       "      <th>children</th>\n",
       "      <td>0.273381</td>\n",
       "    </tr>\n",
       "  </tbody>\n",
       "</table>\n",
       "</div>"
      ],
      "text/plain": [
       "                     Importancia\n",
       "OccupationHusband_4     0.008540\n",
       "EducHusband_1           0.014720\n",
       "OccupationHusband_2     0.016541\n",
       "EducWife_3              0.019510\n",
       "EducHusband_2           0.020025\n",
       "IslamWife               0.020178\n",
       "OccupationHusband_3     0.021818\n",
       "EducWife_2              0.022629\n",
       "EducHusband_3           0.024677\n",
       "EducHusband_4           0.025513\n",
       "EducWife_1              0.025833\n",
       "WorkingWife             0.027177\n",
       "MediaExposure           0.037492\n",
       "OccupationHusband_1     0.046241\n",
       "StandardLivingIndex     0.066309\n",
       "EducWife_4              0.075255\n",
       "AgeWife                 0.254162\n",
       "children                0.273381"
      ]
     },
     "execution_count": 110,
     "metadata": {},
     "output_type": "execute_result"
    }
   ],
   "source": [
    "# Estudiamos la importancia de las variables en el RandomForest\n",
    "importancia_rf = pd.DataFrame(rf_cv.best_estimator_.feature_importances_, \n",
    "                            index = X_train.columns, \n",
    "                            columns = ['Importancia']).sort_values(\"Importancia\", ascending = True)\n",
    "importancia_rf"
   ]
  },
  {
   "cell_type": "code",
   "execution_count": 111,
   "metadata": {},
   "outputs": [
    {
     "data": {
      "text/plain": [
       "<AxesSubplot:>"
      ]
     },
     "execution_count": 111,
     "metadata": {},
     "output_type": "execute_result"
    },
    {
     "data": {
      "image/png": "[encoded data removed]",
      "text/plain": [
       "<Figure size 2000x600 with 1 Axes>"
      ]
     },
     "metadata": {},
     "output_type": "display_data"
    }
   ],
   "source": [
    "# Visualización de la importancia\n",
    "importancia_rf.plot(kind = 'barh', figsize = (20,6))"
   ]
  },
  {
   "cell_type": "code",
   "execution_count": 115,
   "metadata": {},
   "outputs": [],
   "source": [
    "auc_promedio_in_tree = roc_auc_score(y_train, y_prob_in_tree, multi_class = \"ovr\")\n",
    "auc_promedio_out_tree = roc_auc_score(y_test, y_prob_out_tree, multi_class = \"ovr\")\n",
    "auc_promedio_in_rf = roc_auc_score(y_train, y_prob_in_rf, multi_class = \"ovr\")\n",
    "auc_promedio_out_rf = roc_auc_score(y_test, y_prob_out_rf, multi_class = \"ovr\")"
   ]
  },
  {
   "cell_type": "code",
   "execution_count": 117,
   "metadata": {},
   "outputs": [],
   "source": [
    "resultados = pd.DataFrame({\n",
    "    \"Modelo\": [\"Árbol de Decisión\", \"Árbol de Decisión\", \"Random Forest\", \"Random Forest\"],\n",
    "    \"Muestra\": [\"In sample\", \"Out of sample\", \"In sample\", \"Out of sample\"],\n",
    "    \"AUC\": [auc_promedio_in_tree, auc_promedio_out_tree, auc_promedio_in_rf, auc_promedio_out_rf]})"
   ]
  },
  {
   "cell_type": "code",
   "execution_count": 119,
   "metadata": {},
   "outputs": [
    {
     "data": {
      "text/plain": [
       "Text(0, 0.5, 'AUC promedio')"
      ]
     },
     "execution_count": 119,
     "metadata": {},
     "output_type": "execute_result"
    },
    {
     "data": {
      "image/png": "[encoded data removed]",
      "text/plain": [
       "<Figure size 1000x400 with 1 Axes>"
      ]
     },
     "metadata": {},
     "output_type": "display_data"
    }
   ],
   "source": [
    "fig, ax = plt.subplots(figsize = (10, 4))\n",
    "sns.despine()\n",
    "sns.barplot(data = resultados, x = \"Modelo\", y = \"AUC\", hue = \"Muestra\", \n",
    "            palette = [\"darkblue\", \"forestgreen\"], ax = ax)\n",
    "ax.bar_label(ax.containers[0], fmt = '%.2f', label_type = 'center', color = \"white\")\n",
    "ax.bar_label(ax.containers[1], fmt = '%.2f', label_type = 'center', color = \"white\")\n",
    "plt.xlabel(\"Modelo\")\n",
    "plt.ylabel(\"AUC promedio\")"
   ]
  },
  {
   "attachments": {},
   "cell_type": "markdown",
   "metadata": {},
   "source": [
    "### Tarea\n",
    "Aplique el modelo de Árboles de Decisión y de Random Forest a la base del Taller de Regularización."
   ]
  }
 ],
 "metadata": {
  "interpreter": {
   "hash": "9d1551fa46f9e82a7abab90bc4adcde7b723fa4e9951d0f8f7b40f50696411b2"
  },
  "kernelspec": {
   "display_name": "Python 3.8.5 ('base')",
   "language": "python",
   "name": "python3"
  },
  "language_info": {
   "codemirror_mode": {
    "name": "ipython",
    "version": 3
   },
   "file_extension": ".py",
   "mimetype": "text/x-python",
   "name": "python",
   "nbconvert_exporter": "python",
   "pygments_lexer": "ipython3",
   "version": "3.9.13"
  }
 },
 "nbformat": 4,
 "nbformat_minor": 4
}
