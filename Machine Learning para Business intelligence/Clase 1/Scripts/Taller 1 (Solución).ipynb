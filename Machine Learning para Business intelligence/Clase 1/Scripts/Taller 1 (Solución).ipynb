{
 "cells": [
  {
   "cell_type": "markdown",
   "metadata": {},
   "source": [
    "# Ejercicios para practicar conceptos básicos y medios de Python: listas, funciones, condicionales, loops, manejo de datos, y visualización\n",
    "\n",
    "Programa Proyectos de analítica en Python"
   ]
  },
  {
   "cell_type": "markdown",
   "metadata": {},
   "source": [
    "### 1. Defina una función que reciba una lista numérica e imprima cuántos elementos son menores que 10."
   ]
  },
  {
   "cell_type": "code",
   "execution_count": 1,
   "metadata": {},
   "outputs": [],
   "source": [
    "# Funcion para evaluar cuantos elementos son menores que 10 en una lista dada\n",
    "def impresion_menor_diez(lista):\n",
    "    contador = 0\n",
    "    for i in lista:\n",
    "        if i < 10:\n",
    "            contador += 1\n",
    "    return contador"
   ]
  },
  {
   "cell_type": "code",
   "execution_count": 2,
   "metadata": {},
   "outputs": [
    {
     "data": {
      "text/plain": [
       "5"
      ]
     },
     "execution_count": 2,
     "metadata": {},
     "output_type": "execute_result"
    }
   ],
   "source": [
    "# use la función que creo en la celda anterior\n",
    "impresion_menor_diez([1, -2, 3, 4, 10, 9, 13])"
   ]
  },
  {
   "cell_type": "markdown",
   "metadata": {},
   "source": [
    "### 1.1 Modifique la anterior función para que retorne una nueva lista únicamente con tales elementos menores que 10."
   ]
  },
  {
   "cell_type": "code",
   "execution_count": 3,
   "metadata": {},
   "outputs": [],
   "source": [
    "def lista_menor_diez(lista):\n",
    "    resultado = []\n",
    "    for i in lista:\n",
    "        if i < 10:\n",
    "            resultado.append(i)\n",
    "    return resultado"
   ]
  },
  {
   "cell_type": "code",
   "execution_count": 4,
   "metadata": {},
   "outputs": [
    {
     "data": {
      "text/plain": [
       "[1, -2, 3, 4, 9]"
      ]
     },
     "execution_count": 4,
     "metadata": {},
     "output_type": "execute_result"
    }
   ],
   "source": [
    "lista_menor_diez([1,-2,3,4, 10, 9, 13])"
   ]
  },
  {
   "cell_type": "code",
   "execution_count": 5,
   "metadata": {},
   "outputs": [],
   "source": [
    "# Variente si los quiere regresar ordenados\n",
    "def lista_menor_diez(lista):\n",
    "    resultado = []\n",
    "    for i in lista:\n",
    "        if i < 10:\n",
    "            resultado.append(i)\n",
    "    return sorted(resultado)"
   ]
  },
  {
   "cell_type": "code",
   "execution_count": 6,
   "metadata": {},
   "outputs": [
    {
     "data": {
      "text/plain": [
       "[-2, 1, 3, 4, 9]"
      ]
     },
     "execution_count": 6,
     "metadata": {},
     "output_type": "execute_result"
    }
   ],
   "source": [
    "lista_menor_diez([1,-2,3,4, 10, 9, 13])"
   ]
  },
  {
   "cell_type": "markdown",
   "metadata": {},
   "source": [
    "### 2. Construya una función que reciba dos listas y retorne una lista con los elementos en común entre las dos listas.\n",
    "- El resultado no debe tener elementos repetidos.\n",
    "- La función debe funcionar incluso si las listas tienen elementos no numéricos (por ejemplo, strings)\n",
    "- La función debe funcionar para listas de distintos tamaños."
   ]
  },
  {
   "cell_type": "code",
   "execution_count": 8,
   "metadata": {},
   "outputs": [],
   "source": [
    "def en_comun(lista1, lista2):\n",
    "    result = [i for i in lista1 if i in set(lista2)]\n",
    "    result = list(set(result))\n",
    "    return result"
   ]
  },
  {
   "cell_type": "code",
   "execution_count": 9,
   "metadata": {},
   "outputs": [
    {
     "data": {
      "text/plain": [
       "[2, 3]"
      ]
     },
     "execution_count": 9,
     "metadata": {},
     "output_type": "execute_result"
    }
   ],
   "source": [
    "en_comun([1,2,1,2,3], [2,3,4,2])"
   ]
  },
  {
   "cell_type": "code",
   "execution_count": 12,
   "metadata": {},
   "outputs": [],
   "source": [
    "# variante si quiere utilizar solo conjuntos\n",
    "def en_comun(lista1, lista2):\n",
    "    set_1, set_2 = set(lista1), set(lista2)\n",
    "    result = set_1.intersection(set_2) # observe metodos basicos de conjuntos\n",
    "    return list(result)"
   ]
  },
  {
   "cell_type": "code",
   "execution_count": 13,
   "metadata": {},
   "outputs": [
    {
     "data": {
      "text/plain": [
       "[2, 3]"
      ]
     },
     "execution_count": 13,
     "metadata": {},
     "output_type": "execute_result"
    }
   ],
   "source": [
    "en_comun([1,2,1,2,3], [2,3,4,2])"
   ]
  },
  {
   "cell_type": "markdown",
   "metadata": {},
   "source": [
    "### 3. Cree una función que reciba una cadena de caracteres (string) e imprima si es un palíndromo (se lee igual de izquierda a derecha que de derecha a izquierda)."
   ]
  },
  {
   "cell_type": "code",
   "execution_count": 14,
   "metadata": {},
   "outputs": [],
   "source": [
    "def palindromo(string):\n",
    "    if string==string[::-1]:\n",
    "        return(True)\n",
    "    else:\n",
    "        return(False)"
   ]
  },
  {
   "cell_type": "code",
   "execution_count": 15,
   "metadata": {},
   "outputs": [
    {
     "data": {
      "text/plain": [
       "True"
      ]
     },
     "execution_count": 15,
     "metadata": {},
     "output_type": "execute_result"
    }
   ],
   "source": [
    "palindromo('aviva')"
   ]
  },
  {
   "cell_type": "code",
   "execution_count": 29,
   "metadata": {},
   "outputs": [],
   "source": [
    "# variante usando un solo punto de fuga\n",
    "def palindromo(string):\n",
    "    res = string == string[::-1]\n",
    "    return res"
   ]
  },
  {
   "cell_type": "code",
   "execution_count": 30,
   "metadata": {},
   "outputs": [
    {
     "data": {
      "text/plain": [
       "True"
      ]
     },
     "execution_count": 30,
     "metadata": {},
     "output_type": "execute_result"
    }
   ],
   "source": [
    "palindromo('aviva')"
   ]
  },
  {
   "cell_type": "markdown",
   "metadata": {},
   "source": [
    "### 4. Defina una función que reciba un string e imprima el mismo string con las palabras en el orden inverso.\n",
    "- Por ejemplo, si la función recibe 'Mateo es el profesor' la función debe imprimir 'profesor el es Mateo'.\n",
    "- Pista: recuerde que puede dividir un string usando _split()_."
   ]
  },
  {
   "cell_type": "code",
   "execution_count": 25,
   "metadata": {},
   "outputs": [],
   "source": [
    "def regreso(string):\n",
    "    lista=string.split()[::-1]\n",
    "    return(' '.join(lista))"
   ]
  },
  {
   "cell_type": "code",
   "execution_count": 26,
   "metadata": {},
   "outputs": [
    {
     "data": {
      "text/plain": [
       "'queso es eso'"
      ]
     },
     "execution_count": 26,
     "metadata": {},
     "output_type": "execute_result"
    }
   ],
   "source": [
    "regreso('eso es queso')"
   ]
  },
  {
   "cell_type": "code",
   "execution_count": 27,
   "metadata": {},
   "outputs": [],
   "source": [
    "# variante usando reversed\n",
    "def regreso(string):\n",
    "    lista=string.split()\n",
    "    return ' '.join(reversed(lista))"
   ]
  },
  {
   "cell_type": "code",
   "execution_count": 28,
   "metadata": {},
   "outputs": [
    {
     "data": {
      "text/plain": [
       "'queso es eso'"
      ]
     },
     "execution_count": 28,
     "metadata": {},
     "output_type": "execute_result"
    }
   ],
   "source": [
    "regreso('eso es queso')"
   ]
  },
  {
   "cell_type": "markdown",
   "metadata": {},
   "source": [
    "### 5. Construya la función _piedra-papel-tijera_ que reciba la elección del jugador 1 y del jugador 2 (entre piedra, papel o tijera) e imprima quién es el ganador o si hay empate, de acuerdo con las reglas del juego."
   ]
  },
  {
   "cell_type": "code",
   "execution_count": 31,
   "metadata": {},
   "outputs": [],
   "source": [
    "def piedra_papel_tijera(jug1, jug2):\n",
    "    if ((jug1=='piedra' and jug2=='tijera') or (jug1=='tijera' and jug2=='papel') or (jug1=='papel' and jug2=='piedra')):\n",
    "        return('Jugador 1 gana')\n",
    "    elif ((jug2=='piedra' and jug1=='tijera') or (jug2=='tijera' and jug1=='papel') or (jug2=='papel' and jug1=='piedra')):\n",
    "        return('Jugador 2 gana')\n",
    "    else:\n",
    "        return('Empate')"
   ]
  },
  {
   "cell_type": "code",
   "execution_count": 32,
   "metadata": {},
   "outputs": [
    {
     "data": {
      "text/plain": [
       "'Jugador 2 gana'"
      ]
     },
     "execution_count": 32,
     "metadata": {},
     "output_type": "execute_result"
    }
   ],
   "source": [
    "piedra_papel_tijera('papel', 'tijera')"
   ]
  },
  {
   "cell_type": "markdown",
   "metadata": {},
   "source": [
    "### 6. Manipulación de datos"
   ]
  },
  {
   "cell_type": "markdown",
   "metadata": {},
   "source": [
    "### 6.1 Importe el archivo _cumpleaños.json_\n",
    "- Investigue el [Formato JSON](https://es.wikipedia.org/wiki/JSON), el paquete de Python [json](https://docs.python.org/3/library/json.html#module-json) y cómo importar archivos en este formato usando este paquete."
   ]
  },
  {
   "cell_type": "code",
   "execution_count": 1,
   "metadata": {},
   "outputs": [],
   "source": [
    "import json"
   ]
  },
  {
   "cell_type": "code",
   "execution_count": 2,
   "metadata": {},
   "outputs": [],
   "source": [
    "with open('../Datos/cumpleaños.json', 'rb') as file:\n",
    "    cumple = json.load(file)"
   ]
  },
  {
   "cell_type": "code",
   "execution_count": 3,
   "metadata": {},
   "outputs": [
    {
     "data": {
      "text/plain": [
       "{'Birthdays': [{'celebId': '7290',\n",
       "   'name': 'Rosanna Arquette',\n",
       "   'dob': '1959-01-21',\n",
       "   'havePic': '1',\n",
       "   'twitter': '',\n",
       "   'price': 39000,\n",
       "   'age': 60},\n",
       "  {'celebId': '4599',\n",
       "   'name': 'Justin Theroux',\n",
       "   'dob': '1971-09-02',\n",
       "   'havePic': '1',\n",
       "   'twitter': '',\n",
       "   'price': 20000,\n",
       "   'age': 48},\n",
       "  {'celebId': '646',\n",
       "   'name': 'Antonio Banderas',\n",
       "   'dob': '1960-02-08',\n",
       "   'havePic': '1',\n",
       "   'twitter': '',\n",
       "   'price': 17000,\n",
       "   'age': 59},\n",
       "  {'celebId': '508',\n",
       "   'name': 'Angie Harmon',\n",
       "   'dob': '1972-03-24',\n",
       "   'havePic': '1',\n",
       "   'twitter': 'Angie_Harmon',\n",
       "   'price': 14000,\n",
       "   'age': 47},\n",
       "  {'celebId': '9529',\n",
       "   'name': 'Brenton Thwaites',\n",
       "   'dob': '1989-03-17',\n",
       "   'havePic': '1',\n",
       "   'twitter': '',\n",
       "   'price': 7000,\n",
       "   'age': 30},\n",
       "  {'celebId': '2054',\n",
       "   'name': 'Devon Aoki',\n",
       "   'dob': '1982-11-09',\n",
       "   'havePic': '1',\n",
       "   'twitter': '',\n",
       "   'price': 7000,\n",
       "   'age': 37},\n",
       "  {'celebId': '9117',\n",
       "   'name': 'Lucas Till',\n",
       "   'dob': '1990-02-23',\n",
       "   'havePic': '1',\n",
       "   'twitter': 'LucasTill',\n",
       "   'price': 7000,\n",
       "   'age': 29},\n",
       "  {'celebId': '7383',\n",
       "   'name': 'Ryan Eggold',\n",
       "   'dob': '1984-01-30',\n",
       "   'havePic': '1',\n",
       "   'twitter': '',\n",
       "   'price': 7000,\n",
       "   'age': 35},\n",
       "  {'celebId': '362',\n",
       "   'name': 'Alison Folland',\n",
       "   'dob': '1978-04-02',\n",
       "   'havePic': '0',\n",
       "   'twitter': '',\n",
       "   'price': 5000,\n",
       "   'age': 41},\n",
       "  {'celebId': '8780',\n",
       "   'name': 'Betsey Johnson',\n",
       "   'dob': '1942-07-10',\n",
       "   'havePic': '1',\n",
       "   'twitter': '',\n",
       "   'price': 5000,\n",
       "   'age': 77},\n",
       "  {'celebId': '1591',\n",
       "   'name': 'Claudia Christian',\n",
       "   'dob': '1965-11-05',\n",
       "   'havePic': '1',\n",
       "   'twitter': '',\n",
       "   'price': 5000,\n",
       "   'age': 54},\n",
       "  {'celebId': '1797',\n",
       "   'name': 'Daniel Hugh Kelly',\n",
       "   'dob': '1952-05-13',\n",
       "   'havePic': '0',\n",
       "   'twitter': '',\n",
       "   'price': 3500,\n",
       "   'age': 67},\n",
       "  {'celebId': '2080',\n",
       "   'name': 'Diane Venora',\n",
       "   'dob': '1952-10-20',\n",
       "   'havePic': '0',\n",
       "   'twitter': '',\n",
       "   'price': 3000,\n",
       "   'age': 67},\n",
       "  {'celebId': '3293',\n",
       "   'name': \"Henry O'Neill\",\n",
       "   'dob': '1891-12-07',\n",
       "   'havePic': '0',\n",
       "   'twitter': '',\n",
       "   'price': 3000,\n",
       "   'age': 128},\n",
       "  {'celebId': '3365',\n",
       "   'name': 'Hugh Herbert',\n",
       "   'dob': '1887-05-18',\n",
       "   'havePic': '0',\n",
       "   'twitter': '',\n",
       "   'price': 3000,\n",
       "   'age': 132},\n",
       "  {'celebId': '3496',\n",
       "   'name': 'Jack Haley',\n",
       "   'dob': '1898-07-05',\n",
       "   'havePic': '0',\n",
       "   'twitter': '',\n",
       "   'price': 3000,\n",
       "   'age': 121},\n",
       "  {'celebId': '3875',\n",
       "   'name': 'Jeff Corey',\n",
       "   'dob': '1914-02-24',\n",
       "   'havePic': '0',\n",
       "   'twitter': '',\n",
       "   'price': 3000,\n",
       "   'age': 105},\n",
       "  {'celebId': '9523',\n",
       "   'name': \"Kate O'Mara\",\n",
       "   'dob': '1939-10-02',\n",
       "   'havePic': '1',\n",
       "   'twitter': '',\n",
       "   'price': 2000,\n",
       "   'age': 80},\n",
       "  {'celebId': '5053',\n",
       "   'name': 'Leo Fitzpatrick',\n",
       "   'dob': '1978-09-27',\n",
       "   'havePic': '0',\n",
       "   'twitter': '',\n",
       "   'price': 1500,\n",
       "   'age': 41},\n",
       "  {'celebId': '5440',\n",
       "   'name': 'Margaret Johnston',\n",
       "   'dob': '1914-02-24',\n",
       "   'havePic': '0',\n",
       "   'twitter': '',\n",
       "   'price': 1500,\n",
       "   'age': 105},\n",
       "  {'celebId': '5605',\n",
       "   'name': 'Martha Hyer',\n",
       "   'dob': '1924-11-11',\n",
       "   'havePic': '0',\n",
       "   'twitter': '',\n",
       "   'price': 1000,\n",
       "   'age': 95},\n",
       "  {'celebId': '6039',\n",
       "   'name': 'Mike McGlone',\n",
       "   'dob': '1972-11-12',\n",
       "   'havePic': '0',\n",
       "   'twitter': '',\n",
       "   'price': 1000,\n",
       "   'age': 47},\n",
       "  {'celebId': '6160',\n",
       "   'name': 'Murray Melvin',\n",
       "   'dob': '1932-04-13',\n",
       "   'havePic': '0',\n",
       "   'twitter': '',\n",
       "   'price': 1000,\n",
       "   'age': 87},\n",
       "  {'celebId': '6351',\n",
       "   'name': 'Norma Shearer',\n",
       "   'dob': '1902-02-03',\n",
       "   'havePic': '0',\n",
       "   'twitter': '',\n",
       "   'price': 1000,\n",
       "   'age': 117},\n",
       "  {'celebId': '6948',\n",
       "   'name': 'Rhonda Fleming',\n",
       "   'dob': '1923-08-14',\n",
       "   'havePic': '0',\n",
       "   'twitter': '',\n",
       "   'price': 500,\n",
       "   'age': 96},\n",
       "  {'celebId': '8134',\n",
       "   'name': 'Tom Laughlin',\n",
       "   'dob': '1931-09-14',\n",
       "   'havePic': '0',\n",
       "   'twitter': '',\n",
       "   'price': 500,\n",
       "   'age': 88}]}"
      ]
     },
     "execution_count": 3,
     "metadata": {},
     "output_type": "execute_result"
    }
   ],
   "source": [
    "cumple"
   ]
  },
  {
   "cell_type": "markdown",
   "metadata": {},
   "source": [
    "### 6.2 Cree un pandas DataFrame a partir de la información cargada del archivo json\n",
    "- Dé a las columnas nombres informativos y coherentes para usted.\n",
    "- Asigne la columna celebId como el indice de su DataFrame."
   ]
  },
  {
   "cell_type": "code",
   "execution_count": 4,
   "metadata": {},
   "outputs": [],
   "source": [
    "import pandas as pd"
   ]
  },
  {
   "cell_type": "code",
   "execution_count": 5,
   "metadata": {},
   "outputs": [],
   "source": [
    "data = pd.DataFrame(cumple['Birthdays']).set_index('celebId')"
   ]
  },
  {
   "cell_type": "code",
   "execution_count": 6,
   "metadata": {},
   "outputs": [
    {
     "data": {
      "text/html": [
       "<div>\n",
       "<style scoped>\n",
       "    .dataframe tbody tr th:only-of-type {\n",
       "        vertical-align: middle;\n",
       "    }\n",
       "\n",
       "    .dataframe tbody tr th {\n",
       "        vertical-align: top;\n",
       "    }\n",
       "\n",
       "    .dataframe thead th {\n",
       "        text-align: right;\n",
       "    }\n",
       "</style>\n",
       "<table border=\"1\" class=\"dataframe\">\n",
       "  <thead>\n",
       "    <tr style=\"text-align: right;\">\n",
       "      <th></th>\n",
       "      <th>name</th>\n",
       "      <th>dob</th>\n",
       "      <th>havePic</th>\n",
       "      <th>twitter</th>\n",
       "      <th>price</th>\n",
       "      <th>age</th>\n",
       "    </tr>\n",
       "    <tr>\n",
       "      <th>celebId</th>\n",
       "      <th></th>\n",
       "      <th></th>\n",
       "      <th></th>\n",
       "      <th></th>\n",
       "      <th></th>\n",
       "      <th></th>\n",
       "    </tr>\n",
       "  </thead>\n",
       "  <tbody>\n",
       "    <tr>\n",
       "      <th>7290</th>\n",
       "      <td>Rosanna Arquette</td>\n",
       "      <td>1959-01-21</td>\n",
       "      <td>1</td>\n",
       "      <td></td>\n",
       "      <td>39000</td>\n",
       "      <td>60</td>\n",
       "    </tr>\n",
       "    <tr>\n",
       "      <th>4599</th>\n",
       "      <td>Justin Theroux</td>\n",
       "      <td>1971-09-02</td>\n",
       "      <td>1</td>\n",
       "      <td></td>\n",
       "      <td>20000</td>\n",
       "      <td>48</td>\n",
       "    </tr>\n",
       "    <tr>\n",
       "      <th>646</th>\n",
       "      <td>Antonio Banderas</td>\n",
       "      <td>1960-02-08</td>\n",
       "      <td>1</td>\n",
       "      <td></td>\n",
       "      <td>17000</td>\n",
       "      <td>59</td>\n",
       "    </tr>\n",
       "    <tr>\n",
       "      <th>508</th>\n",
       "      <td>Angie Harmon</td>\n",
       "      <td>1972-03-24</td>\n",
       "      <td>1</td>\n",
       "      <td>Angie_Harmon</td>\n",
       "      <td>14000</td>\n",
       "      <td>47</td>\n",
       "    </tr>\n",
       "    <tr>\n",
       "      <th>9529</th>\n",
       "      <td>Brenton Thwaites</td>\n",
       "      <td>1989-03-17</td>\n",
       "      <td>1</td>\n",
       "      <td></td>\n",
       "      <td>7000</td>\n",
       "      <td>30</td>\n",
       "    </tr>\n",
       "  </tbody>\n",
       "</table>\n",
       "</div>"
      ],
      "text/plain": [
       "                     name         dob havePic       twitter  price  age\n",
       "celebId                                                                \n",
       "7290     Rosanna Arquette  1959-01-21       1                39000   60\n",
       "4599       Justin Theroux  1971-09-02       1                20000   48\n",
       "646      Antonio Banderas  1960-02-08       1                17000   59\n",
       "508          Angie Harmon  1972-03-24       1  Angie_Harmon  14000   47\n",
       "9529     Brenton Thwaites  1989-03-17       1                 7000   30"
      ]
     },
     "execution_count": 6,
     "metadata": {},
     "output_type": "execute_result"
    }
   ],
   "source": [
    "data.head()"
   ]
  },
  {
   "cell_type": "code",
   "execution_count": 7,
   "metadata": {},
   "outputs": [
    {
     "name": "stdout",
     "output_type": "stream",
     "text": [
      "<class 'pandas.core.frame.DataFrame'>\n",
      "Index: 26 entries, 7290 to 8134\n",
      "Data columns (total 6 columns):\n",
      " #   Column   Non-Null Count  Dtype \n",
      "---  ------   --------------  ----- \n",
      " 0   name     26 non-null     object\n",
      " 1   dob      26 non-null     object\n",
      " 2   havePic  26 non-null     object\n",
      " 3   twitter  26 non-null     object\n",
      " 4   price    26 non-null     int64 \n",
      " 5   age      26 non-null     int64 \n",
      "dtypes: int64(2), object(4)\n",
      "memory usage: 1.4+ KB\n"
     ]
    }
   ],
   "source": [
    "data.info()"
   ]
  },
  {
   "cell_type": "markdown",
   "metadata": {},
   "source": [
    "### 6.3 ¿Qué porcentaje de los registros en la base de datos cuentan con foto disponible?\n",
    "- Presente los resultados utilizando el gráfico que le parezca más apropiado."
   ]
  },
  {
   "cell_type": "code",
   "execution_count": 8,
   "metadata": {},
   "outputs": [
    {
     "data": {
      "text/plain": [
       "0    0.576923\n",
       "1    0.423077\n",
       "Name: havePic, dtype: float64"
      ]
     },
     "execution_count": 8,
     "metadata": {},
     "output_type": "execute_result"
    }
   ],
   "source": [
    "data.havePic.value_counts(normalize=True)"
   ]
  },
  {
   "cell_type": "code",
   "execution_count": 9,
   "metadata": {},
   "outputs": [
    {
     "data": {
      "image/png": "[encoded data removed]",
      "text/plain": [
       "<Figure size 640x480 with 1 Axes>"
      ]
     },
     "metadata": {},
     "output_type": "display_data"
    }
   ],
   "source": [
    "import matplotlib.pyplot as plt\n",
    "plt.pie(data.havePic.value_counts(normalize=True));"
   ]
  },
  {
   "cell_type": "code",
   "execution_count": 10,
   "metadata": {},
   "outputs": [],
   "source": [
    "data['havePic'] = data.havePic.astype(int)"
   ]
  },
  {
   "cell_type": "code",
   "execution_count": 11,
   "metadata": {},
   "outputs": [
    {
     "data": {
      "text/plain": [
       "<AxesSubplot:ylabel='havePic'>"
      ]
     },
     "execution_count": 11,
     "metadata": {},
     "output_type": "execute_result"
    },
    {
     "data": {
      "image/png": "[encoded data removed]",
      "text/plain": [
       "<Figure size 640x480 with 1 Axes>"
      ]
     },
     "metadata": {},
     "output_type": "display_data"
    }
   ],
   "source": [
    "data.havePic.value_counts().rename({0: \"No tiene foto\", 1: \"Tiene Foto\"}).plot.pie(autopct = \"%.1f%%\")"
   ]
  },
  {
   "cell_type": "markdown",
   "metadata": {},
   "source": [
    "### 6.4 Construya su propia variable de edad comparando la edad de nacimiento de cada artista con la fecha actual\n",
    "- Haga un gráfico de dispersión (scatter plot) de la variable edad de la base de datos y la construida por usted. ¿Cómo se vería este gráfico si este par de variables fueran iguales?\n",
    "- Cuantifique qué tan diferentes son estas dos variables."
   ]
  },
  {
   "cell_type": "code",
   "execution_count": 12,
   "metadata": {},
   "outputs": [],
   "source": [
    "# Convierta su columna a tipo datetime\n",
    "data['dob'] = pd.to_datetime(data.dob)\n",
    "# Genere una variable que tenga la fecha actual\n",
    "today = pd.to_datetime('2022/08/30', format='%Y/%m/%d')\n",
    "data['edad'] = today - data.dob"
   ]
  },
  {
   "cell_type": "code",
   "execution_count": 13,
   "metadata": {},
   "outputs": [
    {
     "data": {
      "text/plain": [
       "celebId\n",
       "7290   23232 days\n",
       "4599   18625 days\n",
       "646    22849 days\n",
       "508    18421 days\n",
       "9529   12219 days\n",
       "Name: edad, dtype: timedelta64[ns]"
      ]
     },
     "execution_count": 13,
     "metadata": {},
     "output_type": "execute_result"
    }
   ],
   "source": [
    "# Observe que la variable es timedelta en dias (por defecto)\n",
    "data['edad'].head()"
   ]
  },
  {
   "cell_type": "code",
   "execution_count": 14,
   "metadata": {},
   "outputs": [],
   "source": [
    "# Convierta a años\n",
    "data['edad'] = data.edad.dt.days // 365"
   ]
  },
  {
   "cell_type": "code",
   "execution_count": 15,
   "metadata": {},
   "outputs": [
    {
     "data": {
      "text/html": [
       "<div>\n",
       "<style scoped>\n",
       "    .dataframe tbody tr th:only-of-type {\n",
       "        vertical-align: middle;\n",
       "    }\n",
       "\n",
       "    .dataframe tbody tr th {\n",
       "        vertical-align: top;\n",
       "    }\n",
       "\n",
       "    .dataframe thead th {\n",
       "        text-align: right;\n",
       "    }\n",
       "</style>\n",
       "<table border=\"1\" class=\"dataframe\">\n",
       "  <thead>\n",
       "    <tr style=\"text-align: right;\">\n",
       "      <th></th>\n",
       "      <th>name</th>\n",
       "      <th>dob</th>\n",
       "      <th>havePic</th>\n",
       "      <th>twitter</th>\n",
       "      <th>price</th>\n",
       "      <th>age</th>\n",
       "      <th>edad</th>\n",
       "    </tr>\n",
       "    <tr>\n",
       "      <th>celebId</th>\n",
       "      <th></th>\n",
       "      <th></th>\n",
       "      <th></th>\n",
       "      <th></th>\n",
       "      <th></th>\n",
       "      <th></th>\n",
       "      <th></th>\n",
       "    </tr>\n",
       "  </thead>\n",
       "  <tbody>\n",
       "    <tr>\n",
       "      <th>7290</th>\n",
       "      <td>Rosanna Arquette</td>\n",
       "      <td>1959-01-21</td>\n",
       "      <td>1</td>\n",
       "      <td></td>\n",
       "      <td>39000</td>\n",
       "      <td>60</td>\n",
       "      <td>63</td>\n",
       "    </tr>\n",
       "    <tr>\n",
       "      <th>4599</th>\n",
       "      <td>Justin Theroux</td>\n",
       "      <td>1971-09-02</td>\n",
       "      <td>1</td>\n",
       "      <td></td>\n",
       "      <td>20000</td>\n",
       "      <td>48</td>\n",
       "      <td>51</td>\n",
       "    </tr>\n",
       "    <tr>\n",
       "      <th>646</th>\n",
       "      <td>Antonio Banderas</td>\n",
       "      <td>1960-02-08</td>\n",
       "      <td>1</td>\n",
       "      <td></td>\n",
       "      <td>17000</td>\n",
       "      <td>59</td>\n",
       "      <td>62</td>\n",
       "    </tr>\n",
       "    <tr>\n",
       "      <th>508</th>\n",
       "      <td>Angie Harmon</td>\n",
       "      <td>1972-03-24</td>\n",
       "      <td>1</td>\n",
       "      <td>Angie_Harmon</td>\n",
       "      <td>14000</td>\n",
       "      <td>47</td>\n",
       "      <td>50</td>\n",
       "    </tr>\n",
       "    <tr>\n",
       "      <th>9529</th>\n",
       "      <td>Brenton Thwaites</td>\n",
       "      <td>1989-03-17</td>\n",
       "      <td>1</td>\n",
       "      <td></td>\n",
       "      <td>7000</td>\n",
       "      <td>30</td>\n",
       "      <td>33</td>\n",
       "    </tr>\n",
       "  </tbody>\n",
       "</table>\n",
       "</div>"
      ],
      "text/plain": [
       "                     name        dob  havePic       twitter  price  age  edad\n",
       "celebId                                                                      \n",
       "7290     Rosanna Arquette 1959-01-21        1                39000   60    63\n",
       "4599       Justin Theroux 1971-09-02        1                20000   48    51\n",
       "646      Antonio Banderas 1960-02-08        1                17000   59    62\n",
       "508          Angie Harmon 1972-03-24        1  Angie_Harmon  14000   47    50\n",
       "9529     Brenton Thwaites 1989-03-17        1                 7000   30    33"
      ]
     },
     "execution_count": 15,
     "metadata": {},
     "output_type": "execute_result"
    }
   ],
   "source": [
    "data.head()"
   ]
  },
  {
   "cell_type": "code",
   "execution_count": 16,
   "metadata": {},
   "outputs": [
    {
     "data": {
      "text/plain": [
       "<AxesSubplot:xlabel='age', ylabel='edad'>"
      ]
     },
     "execution_count": 16,
     "metadata": {},
     "output_type": "execute_result"
    },
    {
     "data": {
      "image/png": "[encoded data removed]",
      "text/plain": [
       "<Figure size 640x480 with 1 Axes>"
      ]
     },
     "metadata": {},
     "output_type": "display_data"
    }
   ],
   "source": [
    "data.plot.scatter(x='age', y='edad')"
   ]
  },
  {
   "cell_type": "code",
   "execution_count": 17,
   "metadata": {},
   "outputs": [
    {
     "data": {
      "text/html": [
       "<div>\n",
       "<style scoped>\n",
       "    .dataframe tbody tr th:only-of-type {\n",
       "        vertical-align: middle;\n",
       "    }\n",
       "\n",
       "    .dataframe tbody tr th {\n",
       "        vertical-align: top;\n",
       "    }\n",
       "\n",
       "    .dataframe thead th {\n",
       "        text-align: right;\n",
       "    }\n",
       "</style>\n",
       "<table border=\"1\" class=\"dataframe\">\n",
       "  <thead>\n",
       "    <tr style=\"text-align: right;\">\n",
       "      <th></th>\n",
       "      <th>havePic</th>\n",
       "      <th>price</th>\n",
       "      <th>age</th>\n",
       "      <th>edad</th>\n",
       "    </tr>\n",
       "  </thead>\n",
       "  <tbody>\n",
       "    <tr>\n",
       "      <th>havePic</th>\n",
       "      <td>1.000000</td>\n",
       "      <td>0.586214</td>\n",
       "      <td>-0.607081</td>\n",
       "      <td>-0.605273</td>\n",
       "    </tr>\n",
       "    <tr>\n",
       "      <th>price</th>\n",
       "      <td>0.586214</td>\n",
       "      <td>1.000000</td>\n",
       "      <td>-0.345428</td>\n",
       "      <td>-0.341030</td>\n",
       "    </tr>\n",
       "    <tr>\n",
       "      <th>age</th>\n",
       "      <td>-0.607081</td>\n",
       "      <td>-0.345428</td>\n",
       "      <td>1.000000</td>\n",
       "      <td>0.999893</td>\n",
       "    </tr>\n",
       "    <tr>\n",
       "      <th>edad</th>\n",
       "      <td>-0.605273</td>\n",
       "      <td>-0.341030</td>\n",
       "      <td>0.999893</td>\n",
       "      <td>1.000000</td>\n",
       "    </tr>\n",
       "  </tbody>\n",
       "</table>\n",
       "</div>"
      ],
      "text/plain": [
       "          havePic     price       age      edad\n",
       "havePic  1.000000  0.586214 -0.607081 -0.605273\n",
       "price    0.586214  1.000000 -0.345428 -0.341030\n",
       "age     -0.607081 -0.345428  1.000000  0.999893\n",
       "edad    -0.605273 -0.341030  0.999893  1.000000"
      ]
     },
     "execution_count": 17,
     "metadata": {},
     "output_type": "execute_result"
    }
   ],
   "source": [
    "# Observe que la relacion es casi lineal, pero hay artistas que aun no han cumplido\n",
    "# Luego no se cumple la regla edad = age + 2\n",
    "data.corr()"
   ]
  },
  {
   "cell_type": "markdown",
   "metadata": {},
   "source": [
    "### 6.5 Extraiga el mes de nacimiento de cada artista.\n",
    "- Utilice un gráfico para mostrar la distribución de nacimientos de los artistas en los diferentes meses del año.\n",
    "- El gráfico debe ser autocontenido: título, nombres de los ejes, etiquetas, etc."
   ]
  },
  {
   "cell_type": "code",
   "execution_count": 118,
   "metadata": {},
   "outputs": [
    {
     "data": {
      "text/plain": [
       "<AxesSubplot:>"
      ]
     },
     "execution_count": 118,
     "metadata": {},
     "output_type": "execute_result"
    },
    {
     "data": {
      "image/png": "[encoded data removed]",
      "text/plain": [
       "<Figure size 432x288 with 1 Axes>"
      ]
     },
     "metadata": {
      "needs_background": "light"
     },
     "output_type": "display_data"
    }
   ],
   "source": [
    "# haciendo un histogrma\n",
    "data.dob.dt.month.hist(bins=12)"
   ]
  },
  {
   "cell_type": "code",
   "execution_count": 116,
   "metadata": {},
   "outputs": [
    {
     "data": {
      "text/plain": [
       "<AxesSubplot:ylabel='dob'>"
      ]
     },
     "execution_count": 116,
     "metadata": {},
     "output_type": "execute_result"
    },
    {
     "data": {
      "image/png": "[encoded data removed]",
      "text/plain": [
       "<Figure size 432x288 with 1 Axes>"
      ]
     },
     "metadata": {},
     "output_type": "display_data"
    }
   ],
   "source": [
    "data.dob.dt.month_name().value_counts().plot.pie(autopct = \"%.1f%%\")"
   ]
  },
  {
   "cell_type": "code",
   "execution_count": 123,
   "metadata": {},
   "outputs": [
    {
     "data": {
      "text/plain": [
       "Text(0.5, 1.0, 'Histograma de meses de nacimiento')"
      ]
     },
     "execution_count": 123,
     "metadata": {},
     "output_type": "execute_result"
    },
    {
     "data": {
      "image/png": "[encoded data removed]",
      "text/plain": [
       "<Figure size 720x720 with 1 Axes>"
      ]
     },
     "metadata": {
      "needs_background": "light"
     },
     "output_type": "display_data"
    }
   ],
   "source": [
    "plt.figure(figsize=(10, 10))\n",
    "plt.hist(data.dob.dt.month, bins=12);\n",
    "plt.xticks(range(1, 13), ['Ene', 'Feb', 'Mar', 'Abr', 'May', 'Jun', 'Jul', 'Ago', 'Sep', 'Oct', 'Nov', 'Dic']);\n",
    "plt.title('Histograma de meses de nacimiento')"
   ]
  },
  {
   "cell_type": "markdown",
   "metadata": {},
   "source": [
    "### 6.6 Utilice una regresión lineal para responder a la pregunta ¿afecta la edad de un artista en su precio? La variable precio corresponde a un valor numérico que cuantifica la popularidad de cada artista.\n",
    "- Utilice gráficos para dar su respuesta."
   ]
  },
  {
   "cell_type": "code",
   "execution_count": 124,
   "metadata": {},
   "outputs": [],
   "source": [
    "# Para el final de la clase\n",
    "X = data[['age']]\n",
    "y = data[['price']]"
   ]
  },
  {
   "cell_type": "code",
   "execution_count": 126,
   "metadata": {},
   "outputs": [
    {
     "data": {
      "text/plain": [
       "<matplotlib.collections.PathCollection at 0x2c466e46ee0>"
      ]
     },
     "execution_count": 126,
     "metadata": {},
     "output_type": "execute_result"
    },
    {
     "data": {
      "image/png": "[encoded data removed]",
      "text/plain": [
       "<Figure size 432x288 with 1 Axes>"
      ]
     },
     "metadata": {
      "needs_background": "light"
     },
     "output_type": "display_data"
    }
   ],
   "source": [
    "plt.scatter(data=data, x='age', y='price')"
   ]
  },
  {
   "cell_type": "code",
   "execution_count": 127,
   "metadata": {},
   "outputs": [
    {
     "data": {
      "text/plain": [
       "-0.3454281940609409"
      ]
     },
     "execution_count": 127,
     "metadata": {},
     "output_type": "execute_result"
    }
   ],
   "source": [
    "data.corr().loc['age', 'price']"
   ]
  },
  {
   "cell_type": "code",
   "execution_count": 128,
   "metadata": {},
   "outputs": [
    {
     "data": {
      "text/plain": [
       "LinearRegression()"
      ]
     },
     "execution_count": 128,
     "metadata": {},
     "output_type": "execute_result"
    }
   ],
   "source": [
    "from sklearn.linear_model import LinearRegression\n",
    "\n",
    "linreg = LinearRegression()\n",
    "linreg.fit(X, y)"
   ]
  },
  {
   "cell_type": "code",
   "execution_count": 129,
   "metadata": {},
   "outputs": [],
   "source": [
    "y_prime = linreg.predict(X)"
   ]
  },
  {
   "cell_type": "code",
   "execution_count": 138,
   "metadata": {},
   "outputs": [
    {
     "data": {
      "text/plain": [
       "array([[-90.09121851]])"
      ]
     },
     "execution_count": 138,
     "metadata": {},
     "output_type": "execute_result"
    }
   ],
   "source": [
    "linreg.intercept_[0]\n",
    "linreg.coef_"
   ]
  },
  {
   "cell_type": "code",
   "execution_count": 139,
   "metadata": {},
   "outputs": [
    {
     "data": {
      "text/plain": [
       "Text(0.5, 1.0, 'price = 12770.87 + -90.09 * edad')"
      ]
     },
     "execution_count": 139,
     "metadata": {},
     "output_type": "execute_result"
    },
    {
     "data": {
      "image/png": "[encoded data removed]",
      "text/plain": [
       "<Figure size 432x288 with 1 Axes>"
      ]
     },
     "metadata": {
      "needs_background": "light"
     },
     "output_type": "display_data"
    }
   ],
   "source": [
    "plt.scatter(data=data, x='age', y='price')\n",
    "plt.plot(data.age, y_prime, c='r')\n",
    "plt.title('price = {:.2f} + {:.2f} * edad'.format(linreg.intercept_[0], linreg.coef_[0][0]))"
   ]
  },
  {
   "cell_type": "code",
   "execution_count": 140,
   "metadata": {},
   "outputs": [],
   "source": [
    "import numpy as np"
   ]
  },
  {
   "cell_type": "code",
   "execution_count": 149,
   "metadata": {},
   "outputs": [],
   "source": [
    "\n",
    "# quitemos los outliers\n",
    "outliers = lambda x: np.abs(x - x.mean()) <  x.std()\n",
    "\n",
    "not_outliers = data[['price']].apply(outliers)"
   ]
  },
  {
   "cell_type": "code",
   "execution_count": 158,
   "metadata": {},
   "outputs": [],
   "source": [
    "# Para el final de la clase\n",
    "X = data.loc[not_outliers.values, ['age']]\n",
    "y = data.loc[not_outliers.values, ['price']]"
   ]
  },
  {
   "cell_type": "code",
   "execution_count": 160,
   "metadata": {},
   "outputs": [],
   "source": [
    "linreg_sin_out = LinearRegression()\n",
    "linreg_sin_out.fit(X, y)\n",
    "y_prime = linreg.predict(X)"
   ]
  },
  {
   "cell_type": "code",
   "execution_count": 163,
   "metadata": {},
   "outputs": [
    {
     "data": {
      "text/plain": [
       "Text(0.5, 1.0, 'price = 7600.89 + -51.75 * edad')"
      ]
     },
     "execution_count": 163,
     "metadata": {},
     "output_type": "execute_result"
    },
    {
     "data": {
      "image/png": "[encoded data removed]",
      "text/plain": [
       "<Figure size 432x288 with 1 Axes>"
      ]
     },
     "metadata": {
      "needs_background": "light"
     },
     "output_type": "display_data"
    }
   ],
   "source": [
    "plt.scatter(X.values, y.values)\n",
    "plt.plot(X.values, y_prime, c='r')\n",
    "plt.title('price = {:.2f} + {:.2f} * edad'.format(linreg_sin_out.intercept_[0], linreg_sin_out.coef_[0][0]))"
   ]
  },
  {
   "cell_type": "markdown",
   "metadata": {},
   "source": [
    "### 6.7 Utilice un modelo de k-medias para segmentar su base de datos utilizando las variables de precio, edad, y si tiene foto disponible. \n",
    "- Escoja un _k_ apropiado según su criterio.\n",
    "- ¿Cuantos artistas quedaron en cada grupo? Presente los resultados utilizando un gráfico apropiado.\n",
    "- Dé una interpretación de las observaciones en cada grupo a partir de sus centroides."
   ]
  },
  {
   "cell_type": "code",
   "execution_count": 164,
   "metadata": {},
   "outputs": [],
   "source": [
    "import seaborn as sns"
   ]
  },
  {
   "cell_type": "code",
   "execution_count": 167,
   "metadata": {},
   "outputs": [
    {
     "data": {
      "text/plain": [
       "<AxesSubplot:xlabel='age', ylabel='price'>"
      ]
     },
     "execution_count": 167,
     "metadata": {},
     "output_type": "execute_result"
    },
    {
     "data": {
      "image/png": "[encoded data removed]",
      "text/plain": [
       "<Figure size 432x288 with 1 Axes>"
      ]
     },
     "metadata": {
      "needs_background": "light"
     },
     "output_type": "display_data"
    }
   ],
   "source": [
    "sns.scatterplot(data=data, x='age', y='price', size='havePic')"
   ]
  },
  {
   "cell_type": "code",
   "execution_count": 168,
   "metadata": {},
   "outputs": [],
   "source": [
    "X = data[['age', 'price']]"
   ]
  },
  {
   "cell_type": "code",
   "execution_count": 177,
   "metadata": {},
   "outputs": [
    {
     "data": {
      "text/plain": [
       "KMeans(n_clusters=3)"
      ]
     },
     "execution_count": 177,
     "metadata": {},
     "output_type": "execute_result"
    }
   ],
   "source": [
    "from sklearn.cluster import KMeans\n",
    "\n",
    "kmeans = KMeans(n_clusters=3)\n",
    "kmeans.fit(X)\n"
   ]
  },
  {
   "cell_type": "code",
   "execution_count": 178,
   "metadata": {},
   "outputs": [],
   "source": [
    "data['cluster'] = kmeans.predict(X)"
   ]
  },
  {
   "cell_type": "code",
   "execution_count": 179,
   "metadata": {},
   "outputs": [
    {
     "data": {
      "text/plain": [
       "<AxesSubplot:xlabel='age', ylabel='price'>"
      ]
     },
     "execution_count": 179,
     "metadata": {},
     "output_type": "execute_result"
    },
    {
     "data": {
      "image/png": "[encoded data removed]",
      "text/plain": [
       "<Figure size 432x288 with 1 Axes>"
      ]
     },
     "metadata": {
      "needs_background": "light"
     },
     "output_type": "display_data"
    }
   ],
   "source": [
    "sns.scatterplot(data=data, x='age', y='price', size='havePic', hue='cluster')"
   ]
  }
 ],
 "metadata": {
  "kernelspec": {
   "display_name": "Python 3.8.5 ('base')",
   "language": "python",
   "name": "python3"
  },
  "language_info": {
   "codemirror_mode": {
    "name": "ipython",
    "version": 3
   },
   "file_extension": ".py",
   "mimetype": "text/x-python",
   "name": "python",
   "nbconvert_exporter": "python",
   "pygments_lexer": "ipython3",
   "version": "3.9.13"
  },
  "vscode": {
   "interpreter": {
    "hash": "9d1551fa46f9e82a7abab90bc4adcde7b723fa4e9951d0f8f7b40f50696411b2"
   }
  }
 },
 "nbformat": 4,
 "nbformat_minor": 2
}
