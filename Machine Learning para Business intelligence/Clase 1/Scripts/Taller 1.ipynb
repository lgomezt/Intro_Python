{
 "cells": [
  {
   "cell_type": "markdown",
   "metadata": {},
   "source": [
    "# Ejercicios para practicar conceptos básicos y medios de Python: listas, funciones, condicionales, loops, manejo de datos, y visualización\n",
    "\n",
    "Programa Proyectos de analítica en Python"
   ]
  },
  {
   "cell_type": "markdown",
   "metadata": {},
   "source": [
    "### 1. Defina una función que reciba una lista numérica e imprima cuántos elementos son menores que 10."
   ]
  },
  {
   "cell_type": "code",
   "execution_count": null,
   "metadata": {},
   "outputs": [],
   "source": []
  },
  {
   "cell_type": "markdown",
   "metadata": {},
   "source": [
    "### 1.1 Modifique la anterior función para que retorne una nueva lista únicamente con tales elementos menores que 10."
   ]
  },
  {
   "cell_type": "code",
   "execution_count": null,
   "metadata": {},
   "outputs": [],
   "source": []
  },
  {
   "cell_type": "markdown",
   "metadata": {},
   "source": [
    "### 2. Construya una función que reciba dos listas y retorne una lista con los elementos en común entre las dos listas.\n",
    "- El resultado no debe tener elementos repetidos.\n",
    "- La función debe funcionar incluso si las listas tienen elementos no numéricos (por ejemplo, strings)\n",
    "- La función debe funcionar para listas de distintos tamaños."
   ]
  },
  {
   "cell_type": "code",
   "execution_count": null,
   "metadata": {},
   "outputs": [],
   "source": []
  },
  {
   "cell_type": "markdown",
   "metadata": {},
   "source": [
    "### 3. Cree una función que reciba una cadena de caracteres (string) e imprima si es un palíndromo (se lee igual de izquierda a derecha que de derecha a izquierda)."
   ]
  },
  {
   "cell_type": "code",
   "execution_count": null,
   "metadata": {},
   "outputs": [],
   "source": []
  },
  {
   "cell_type": "markdown",
   "metadata": {},
   "source": [
    "### 4. Defina una función que reciba un string e imprima el mismo string con las palabras en el orden inverso.\n",
    "- Por ejemplo, si la función recibe 'Mateo es el profesor' la función debe imprimir 'profesor el es Mateo'.\n",
    "- Pista: recuerde que puede dividir un string usando _split()_."
   ]
  },
  {
   "cell_type": "code",
   "execution_count": null,
   "metadata": {},
   "outputs": [],
   "source": []
  },
  {
   "cell_type": "markdown",
   "metadata": {},
   "source": [
    "### 5. Construya la función _piedra-papel-tijera_ que reciba la elección del jugador 1 y del jugador 2 (entre piedra, papel o tijera) e imprima quién es el ganador o si hay empate, de acuerdo con las reglas del juego."
   ]
  },
  {
   "cell_type": "code",
   "execution_count": null,
   "metadata": {},
   "outputs": [],
   "source": []
  },
  {
   "cell_type": "markdown",
   "metadata": {},
   "source": [
    "### 6. Manipulación de datos"
   ]
  },
  {
   "cell_type": "markdown",
   "metadata": {},
   "source": [
    "### 6.1 Importe el archivo _cumpleaños.json_\n",
    "- Investigue el [Formato JSON](https://es.wikipedia.org/wiki/JSON), el paquete de Python [json](https://docs.python.org/3/library/json.html#module-json) y cómo importar archivos en este formato usando este paquete."
   ]
  },
  {
   "cell_type": "code",
   "execution_count": null,
   "metadata": {},
   "outputs": [],
   "source": []
  },
  {
   "cell_type": "markdown",
   "metadata": {},
   "source": [
    "### 6.2 Cree un pandas DataFrame a partir de la información cargada del archivo json\n",
    "- Dé a las columnas nombres informativos y coherentes para usted.\n",
    "- Asigne la columna celebId como el indice de su DataFrame."
   ]
  },
  {
   "cell_type": "code",
   "execution_count": null,
   "metadata": {},
   "outputs": [],
   "source": []
  },
  {
   "cell_type": "markdown",
   "metadata": {},
   "source": [
    "### 6.3 ¿Qué porcentaje de los registros en la base de datos cuentan con foto disponible?\n",
    "- Presente los resultados utilizando el gráfico que le parezca más apropiado."
   ]
  },
  {
   "cell_type": "code",
   "execution_count": null,
   "metadata": {},
   "outputs": [],
   "source": []
  },
  {
   "cell_type": "markdown",
   "metadata": {},
   "source": [
    "### 6.4 Construya su propia variable de edad comparando la edad de nacimiento de cada artista con la fecha actual\n",
    "- Haga un gráfico de dispersión (scatter plot) de la variable edad de la base de datos y la construida por usted. ¿Cómo se vería este gráfico si este par de variables fueran iguales?\n",
    "- Cuantifique qué tan diferentes son estas dos variables."
   ]
  },
  {
   "cell_type": "code",
   "execution_count": null,
   "metadata": {},
   "outputs": [],
   "source": []
  },
  {
   "cell_type": "markdown",
   "metadata": {},
   "source": [
    "### 6.5 Extraiga el mes de nacimiento de cada artista.\n",
    "- Utilice un gráfico para mostrar la distribución de nacimientos de los artistas en los diferentes meses del año.\n",
    "- El gráfico debe ser autocontenido: título, nombres de los ejes, etiquetas, etc."
   ]
  },
  {
   "cell_type": "code",
   "execution_count": null,
   "metadata": {},
   "outputs": [],
   "source": []
  },
  {
   "cell_type": "code",
   "execution_count": null,
   "metadata": {},
   "outputs": [],
   "source": []
  },
  {
   "cell_type": "markdown",
   "metadata": {},
   "source": [
    "### 6.6 Utilice una regresión lineal para responder a la pregunta ¿afecta la edad de un artista en su precio? La variable precio corresponde a un valor numérico que cuantifica la popularidad de cada artista.\n",
    "- Utilice gráficos para dar su respuesta."
   ]
  },
  {
   "cell_type": "code",
   "execution_count": null,
   "metadata": {},
   "outputs": [],
   "source": []
  },
  {
   "cell_type": "code",
   "execution_count": null,
   "metadata": {},
   "outputs": [],
   "source": []
  },
  {
   "cell_type": "markdown",
   "metadata": {},
   "source": [
    "### 6.7 Utilice un modelo de k-medias para segmentar su base de datos utilizando las variables de precio, edad, y si tiene foto disponible. \n",
    "- Escoja un _k_ apropiado según su criterio.\n",
    "- ¿Cuantos artistas quedaron en cada grupo? Presente los resultados utilizando un gráfico apropiado.\n",
    "- Dé una interpretación de las observaciones en cada grupo a partir de sus centroides."
   ]
  },
  {
   "cell_type": "code",
   "execution_count": null,
   "metadata": {},
   "outputs": [],
   "source": []
  }
 ],
 "metadata": {
  "interpreter": {
   "hash": "afaa7d2a16e40b3c8869a4a6914d5aa423aa6f39b3069e5f1c66c9d7620281a7"
  },
  "kernelspec": {
   "display_name": "Python 3.8.5 64-bit ('base': conda)",
   "name": "python3"
  },
  "language_info": {
   "codemirror_mode": {
    "name": "ipython",
    "version": 3
   },
   "file_extension": ".py",
   "mimetype": "text/x-python",
   "name": "python",
   "nbconvert_exporter": "python",
   "pygments_lexer": "ipython3",
   "version": "3.8.5"
  }
 },
 "nbformat": 4,
 "nbformat_minor": 2
}
