{
 "cells": [
  {
   "attachments": {},
   "cell_type": "markdown",
   "metadata": {},
   "source": [
    "# **Introducción al análisis de datos en Python** \n",
    "#### Profesor: Lucas Gómez Tobón"
   ]
  },
  {
   "attachments": {},
   "cell_type": "markdown",
   "metadata": {},
   "source": [
    "## Clase 2: Funciones en Python\n",
    "En la clase pasada tuvimos una introducción a los principales tipos de objetos de Python. En esta clase el objetivo es profundizar en el entendimiento del control flow y las funciones. La idea será crear algoritmos para usarse cada vez que se necesite sin necesidad de re escribir todo un código, permitiendo alguna flexibilidad a partir de parámetros pre establecidos"
   ]
  },
  {
   "attachments": {},
   "cell_type": "markdown",
   "metadata": {},
   "source": [
    "Antes de comenzar la clase, vamos a repasar el concepto de *list-comprehension* el cual será útil el día de hoy.\n",
    "\n",
    "Las *list comprehension* es una sintaxis de Python que permite crear listas de manera concisa y eficiente utilizando una sola línea de código. La sintaxis básica de la list comprehension es la siguiente:\n",
    "\n",
    "```python\n",
    "nueva_lista = [expresión for variable in secuencia if condición]\n",
    "```\n",
    "\n",
    "donde \"nueva_lista\" es la lista que se crea, \"expresión\" es la operación que se realiza en cada elemento de la secuencia, \"variable\" es la variable que representa cada elemento de la secuencia, \"secuencia\" es la lista, tupla o rango de valores que se utiliza para crear la nueva lista y \"condición\" es una condición opcional que se utiliza para filtrar los elementos de la secuencia.\n",
    "\n",
    "Por ejemplo, la siguiente list comprehension crea una lista de los cuadrados de los números del 1 al 10 que son divisibles por 2:"
   ]
  },
  {
   "cell_type": "code",
   "execution_count": 110,
   "metadata": {},
   "outputs": [
    {
     "data": {
      "text/plain": [
       "[4, 16, 36, 64, 100]"
      ]
     },
     "execution_count": 110,
     "metadata": {},
     "output_type": "execute_result"
    }
   ],
   "source": [
    "nueva_lista = [x**2 for x in range(1, 11) if x % 2 == 0]\n",
    "nueva_lista"
   ]
  },
  {
   "attachments": {},
   "cell_type": "markdown",
   "metadata": {},
   "source": [
    "La list comprehension es una forma concisa y eficiente de crear listas en Python y se puede utilizar para realizar diversas operaciones en los elementos de una secuencia, como filtrar, transformar y agregar elementos. Además, las list comprehensions pueden anidarse, lo que permite crear listas complejas de manera clara y concisa."
   ]
  },
  {
   "attachments": {},
   "cell_type": "markdown",
   "metadata": {},
   "source": [
    "## ¿Qué es una función?\n",
    "En Python, una función es un bloque de código reutilizable que realiza una tarea específica. Una función toma uno o más argumentos como entrada, realiza ciertas operaciones y devuelve un resultado. Las funciones se utilizan para modularizar el código, lo que facilita la legibilidad, la reutilización y el mantenimiento del código.\n",
    "\n",
    "Para definir una función en Python, se utiliza la palabra clave \"def\", seguida del nombre de la función y los parámetros entre paréntesis. A continuación, se incluye el código de la función, seguido de la palabra clave \"return\" para devolver el resultado. La sintaxis para definir una función sería entonces:\n",
    "\n",
    "```python\n",
    "def nombre_funcion(parametro1, parametro2, ...):\n",
    "    \"\"\"(Esta parte es opcional)\n",
    "    Descripción de lo que hace la función\n",
    "\n",
    "    Parameters:\n",
    "        parametro1 (clase_parametro1): Descripción de qué es el input y qué valores puede tomar. \n",
    "        parametro2 (clase_parametro2): Descripción de qué es el input y qué valores puede tomar. \n",
    "\n",
    "    Returns:\n",
    "        output1 (clase_output): Descripción de lo que es el output y qué valores puede tomar.\n",
    "    \"\"\"\n",
    "\n",
    "    # Bloque de código\n",
    "    \n",
    "    return(resultado)\n",
    "```"
   ]
  },
  {
   "cell_type": "code",
   "execution_count": 3,
   "metadata": {},
   "outputs": [],
   "source": [
    "def suma_dos_numeros(a, b):\n",
    "    \"\"\"\n",
    "    Esta función toma dos números y entrega la suma de estos.\n",
    "\n",
    "    Parameters:\n",
    "        a (float): número a sumar.\n",
    "        b (float): número a sumar.\n",
    "\n",
    "    Returns:\n",
    "        resultado (float): suma de a + b\n",
    "    \"\"\"\n",
    "    \n",
    "    resultado = a + b\n",
    "\n",
    "    return(resultado)"
   ]
  },
  {
   "cell_type": "code",
   "execution_count": 4,
   "metadata": {},
   "outputs": [
    {
     "name": "stdout",
     "output_type": "stream",
     "text": [
      "\u001b[1;31mSignature:\u001b[0m \u001b[0msuma_dos_numeros\u001b[0m\u001b[1;33m(\u001b[0m\u001b[0ma\u001b[0m\u001b[1;33m,\u001b[0m \u001b[0mb\u001b[0m\u001b[1;33m)\u001b[0m\u001b[1;33m\u001b[0m\u001b[1;33m\u001b[0m\u001b[0m\n",
      "\u001b[1;31mDocstring:\u001b[0m\n",
      "Esta función toma dos números y entrega la suma de estos.\n",
      "\n",
      "Parameters:\n",
      "    a (float): número a sumar.\n",
      "    b (float): número a sumar.\n",
      "\n",
      "Returns:\n",
      "    resultado (float): suma de a + b\n",
      "\u001b[1;31mFile:\u001b[0m      c:\\users\\lucas\\appdata\\local\\temp\\ipykernel_12172\\101591888.py\n",
      "\u001b[1;31mType:\u001b[0m      function\n"
     ]
    }
   ],
   "source": [
    "?suma_dos_numeros"
   ]
  },
  {
   "cell_type": "code",
   "execution_count": 5,
   "metadata": {},
   "outputs": [
    {
     "data": {
      "text/plain": [
       "5"
      ]
     },
     "execution_count": 5,
     "metadata": {},
     "output_type": "execute_result"
    }
   ],
   "source": [
    "suma_dos_numeros(2, 3)"
   ]
  },
  {
   "attachments": {},
   "cell_type": "markdown",
   "metadata": {},
   "source": [
    "Ahora, creemos una función que calcule el área de un circulo. Recuerde que la formula del área de un circulo es:\n",
    "$$\\text{Area}_{\\text{circulo}}= \\pi\\cdot r^2$$\n",
    "\n",
    "En donde $r$ es el radio del circulo."
   ]
  },
  {
   "cell_type": "code",
   "execution_count": 6,
   "metadata": {},
   "outputs": [],
   "source": [
    "def calcular_area_circulo(radio):\n",
    "    pi = 3.14159\n",
    "    area = pi * radio ** 2\n",
    "    return area"
   ]
  },
  {
   "cell_type": "code",
   "execution_count": 7,
   "metadata": {},
   "outputs": [
    {
     "data": {
      "text/plain": [
       "78.53975"
      ]
     },
     "execution_count": 7,
     "metadata": {},
     "output_type": "execute_result"
    }
   ],
   "source": [
    "# Calcule el area de un circulo que tiene 5 cms de radio\n",
    "calcular_area_circulo(radio = 5)"
   ]
  },
  {
   "attachments": {},
   "cell_type": "markdown",
   "metadata": {},
   "source": [
    "Si quisieramos generalizar la función anterior ¿Cómo lo haría?\n",
    "\n",
    "Cree una función que se llame `suma` que reciba como input un iterable y devuelva la suma de todos los elementos del iterable. Esta no debe utilizar ningún paquete o alguna función pre diseñada por un tercero."
   ]
  },
  {
   "cell_type": "code",
   "execution_count": 8,
   "metadata": {},
   "outputs": [],
   "source": [
    "def suma(iterable):\n",
    "    \"\"\"\n",
    "    Función que suma los números en un iterable\n",
    "\n",
    "    Args:\n",
    "        iterable (iter): Es un iterable con números\n",
    "    \"\"\"\n",
    "    \n",
    "    suma_numeros = 0\n",
    "    for num in iterable:\n",
    "        suma_numeros += num\n",
    "    return(suma_numeros)"
   ]
  },
  {
   "cell_type": "code",
   "execution_count": 9,
   "metadata": {},
   "outputs": [
    {
     "data": {
      "text/plain": [
       "21"
      ]
     },
     "execution_count": 9,
     "metadata": {},
     "output_type": "execute_result"
    }
   ],
   "source": [
    "suma([1, 2, 3, 4, 5, 6])"
   ]
  },
  {
   "attachments": {},
   "cell_type": "markdown",
   "metadata": {},
   "source": [
    "### Magic Functions\n",
    "Estas funciones solo funcionan dentro de jupyter, no son de python, son de la interfaz\n",
    "\n",
    "- %whos: Permite ver que hay en el ambiente de trabajo\n",
    "- %time: Permite cuantificar el tiempo que dura en correr el código de una celda\n",
    "- %cd: Cambia el directorio\n",
    "- %dirs: Retorna el directorio actual\n",
    "- %lsmagic: Ver la lista de funciones mágicas\n",
    "- %timeit: Corre varias veces la celda para determinar un tiempo promedio e intervalo de confianza"
   ]
  },
  {
   "cell_type": "code",
   "execution_count": null,
   "metadata": {},
   "outputs": [],
   "source": [
    "%whos"
   ]
  },
  {
   "attachments": {},
   "cell_type": "markdown",
   "metadata": {},
   "source": [
    "A modo ilustrativo, se recuerda que Python tiene la función `sum`, sin embargo, como mencionamos anteriormente, para realizar operaciones matemáticas se sugiere utilizar el paquete `numpy`. A continuación ilustraremos porque usar el último es mejor."
   ]
  },
  {
   "cell_type": "code",
   "execution_count": 10,
   "metadata": {},
   "outputs": [],
   "source": [
    "# Importamos el paquete numpy\n",
    "import numpy as np\n",
    "\n",
    "x = range(10000000)\n",
    "y = np.array(x)"
   ]
  },
  {
   "cell_type": "code",
   "execution_count": 11,
   "metadata": {},
   "outputs": [
    {
     "name": "stdout",
     "output_type": "stream",
     "text": [
      "281 ms ± 6.66 ms per loop (mean ± std. dev. of 7 runs, 1 loop each)\n"
     ]
    }
   ],
   "source": [
    "%%timeit\n",
    "\n",
    "# Calculemos la suma de los primeros 10 millones de números enteros\n",
    "sum(x)"
   ]
  },
  {
   "cell_type": "code",
   "execution_count": 12,
   "metadata": {},
   "outputs": [
    {
     "name": "stdout",
     "output_type": "stream",
     "text": [
      "4.23 ms ± 284 µs per loop (mean ± std. dev. of 7 runs, 100 loops each)\n"
     ]
    }
   ],
   "source": [
    "%%timeit\n",
    "\n",
    "# Calculemos la suma de los primeros 10 millones de números enteros\n",
    "np.sum(y)"
   ]
  },
  {
   "attachments": {},
   "cell_type": "markdown",
   "metadata": {},
   "source": [
    "Construya una función que reciba un número y retorne la palabra \"par\" o \"impar\" dependiendo del insumo. Llame a la función _parImpar_. Pruébela sobre los números 2,3,7,12. Pista: busque que hace __%__. "
   ]
  },
  {
   "cell_type": "code",
   "execution_count": 13,
   "metadata": {},
   "outputs": [],
   "source": [
    "def parImpar(number):\n",
    "    # Si el residuo de un número dividido 2 es cero, significa ue es múltiplo de 2\n",
    "    if (number % 2 == 0): \n",
    "        return(\"par\")\n",
    "    else: \n",
    "        return(\"impar\")"
   ]
  },
  {
   "cell_type": "code",
   "execution_count": 14,
   "metadata": {},
   "outputs": [
    {
     "name": "stdout",
     "output_type": "stream",
     "text": [
      "par\n",
      "impar\n",
      "impar\n",
      "par\n"
     ]
    }
   ],
   "source": [
    "print(parImpar(2))\n",
    "print(parImpar(3))\n",
    "print(parImpar(7))\n",
    "print(parImpar(12))"
   ]
  },
  {
   "attachments": {},
   "cell_type": "markdown",
   "metadata": {},
   "source": [
    "Construya una función que reciba un número y retorne la cantidad de divisores del mismo. En caso de ser un número primo, también debe retornar una cadena de caracteres que diga que es un número primo. Llame a la función divisores"
   ]
  },
  {
   "cell_type": "code",
   "execution_count": 15,
   "metadata": {},
   "outputs": [],
   "source": [
    "def divisores(numero):\n",
    "    contador = 0 # Creamos un contador que aumenta cada vez que el residuo sea 0. \n",
    "    for i in range(numero):\n",
    "        if numero % (i+1) == 0:\n",
    "            contador = contador + 1\n",
    "    if contador == 2:\n",
    "        print('El', numero, 'es un número de primo')\n",
    "    return(contador)"
   ]
  },
  {
   "cell_type": "code",
   "execution_count": 16,
   "metadata": {},
   "outputs": [
    {
     "name": "stdout",
     "output_type": "stream",
     "text": [
      "El 7 es un número de primo\n"
     ]
    },
    {
     "data": {
      "text/plain": [
       "2"
      ]
     },
     "execution_count": 16,
     "metadata": {},
     "output_type": "execute_result"
    }
   ],
   "source": [
    "divisores(7)"
   ]
  },
  {
   "cell_type": "code",
   "execution_count": 17,
   "metadata": {},
   "outputs": [
    {
     "data": {
      "text/plain": [
       "4"
      ]
     },
     "execution_count": 17,
     "metadata": {},
     "output_type": "execute_result"
    }
   ],
   "source": [
    "divisores(8)"
   ]
  },
  {
   "attachments": {},
   "cell_type": "markdown",
   "metadata": {},
   "source": [
    "Construya una función que reciba un número y retorne la **lista** de divisores del mismo. Llame a la función ListDivisores"
   ]
  },
  {
   "cell_type": "code",
   "execution_count": 18,
   "metadata": {},
   "outputs": [],
   "source": [
    "def ListDivisores(numero):\n",
    "    # Creo un lista vacía a la que le voy a añadir los divisores\n",
    "    lista = [] \n",
    "    # Haga un loop desde 0 hasta el número deseado\n",
    "    for i in range(numero): \n",
    "        # Se escribe i + 1 y no i porque arranca desde cero y no desde 1.\n",
    "        # Si el residuo es cero entonces es múltiplo\n",
    "        if numero % (i + 1) == 0: \n",
    "            lista.append(i + 1) \n",
    "    return(lista)"
   ]
  },
  {
   "cell_type": "code",
   "execution_count": 19,
   "metadata": {},
   "outputs": [
    {
     "data": {
      "text/plain": [
       "[1, 7]"
      ]
     },
     "execution_count": 19,
     "metadata": {},
     "output_type": "execute_result"
    }
   ],
   "source": [
    "ListDivisores(7)"
   ]
  },
  {
   "cell_type": "code",
   "execution_count": 20,
   "metadata": {},
   "outputs": [
    {
     "data": {
      "text/plain": [
       "[1, 2, 4, 8]"
      ]
     },
     "execution_count": 20,
     "metadata": {},
     "output_type": "execute_result"
    }
   ],
   "source": [
    "ListDivisores(8)"
   ]
  },
  {
   "cell_type": "code",
   "execution_count": 21,
   "metadata": {},
   "outputs": [
    {
     "data": {
      "text/plain": [
       "[1, 2, 3, 5, 6, 10, 15, 30]"
      ]
     },
     "execution_count": 21,
     "metadata": {},
     "output_type": "execute_result"
    }
   ],
   "source": [
    "ListDivisores(numero = 30)"
   ]
  },
  {
   "attachments": {},
   "cell_type": "markdown",
   "metadata": {},
   "source": [
    "Trate de combinar las dos funciones previas de forma que ahora se reciba un número y retorne la **lista** de divisores del mismo, y que también retorne una cadena de caracteres que diga si el número es primo. "
   ]
  },
  {
   "cell_type": "code",
   "execution_count": 22,
   "metadata": {},
   "outputs": [],
   "source": [
    "def ListDivisores2(numero):\n",
    "    # Creo un lista vacía a la que le voy a añadir los divisores\n",
    "    lista = [] \n",
    "    # Haga un loop desde 0 hasta el número deseado\n",
    "    for i in range(numero): \n",
    "        # Se escribe i + 1 y no i porque arranca desde cero y no desde 1.\n",
    "        # Si el residuo es cero entonces es múltiplo\n",
    "        if numero % (i + 1) == 0: \n",
    "            lista.append(i + 1) \n",
    "    # Si solo hay dos divisores, significa que es el 1 y el número en si, luego es un primo. \n",
    "    if len(lista) == 2: \n",
    "        print('El', numero, 'es un número de primo')\n",
    "    else:\n",
    "        print('El', numero, 'no es un número de primo')\n",
    "    return(lista)"
   ]
  },
  {
   "cell_type": "code",
   "execution_count": 23,
   "metadata": {},
   "outputs": [
    {
     "name": "stdout",
     "output_type": "stream",
     "text": [
      "El 7 es un número de primo\n"
     ]
    },
    {
     "data": {
      "text/plain": [
       "[1, 7]"
      ]
     },
     "execution_count": 23,
     "metadata": {},
     "output_type": "execute_result"
    }
   ],
   "source": [
    "ListDivisores2(7)"
   ]
  },
  {
   "cell_type": "code",
   "execution_count": 24,
   "metadata": {},
   "outputs": [
    {
     "data": {
      "text/plain": [
       "[1, 2, 4, 8]"
      ]
     },
     "execution_count": 24,
     "metadata": {},
     "output_type": "execute_result"
    }
   ],
   "source": [
    "ListDivisores(8)"
   ]
  },
  {
   "cell_type": "code",
   "execution_count": 25,
   "metadata": {},
   "outputs": [
    {
     "data": {
      "text/plain": [
       "[1, 2, 3, 5, 6, 10, 15, 30]"
      ]
     },
     "execution_count": 25,
     "metadata": {},
     "output_type": "execute_result"
    }
   ],
   "source": [
    "ListDivisores(numero = 30)"
   ]
  },
  {
   "attachments": {},
   "cell_type": "markdown",
   "metadata": {},
   "source": [
    "Construya un función que reciba una cadena de caracteres y esta retorne cuantas letras tiene. Use loops"
   ]
  },
  {
   "cell_type": "code",
   "execution_count": 26,
   "metadata": {},
   "outputs": [],
   "source": [
    "def count_letters(string):\n",
    "    count = 0\n",
    "    for letter in string:\n",
    "        count += 1\n",
    "    return count"
   ]
  },
  {
   "cell_type": "code",
   "execution_count": 27,
   "metadata": {},
   "outputs": [
    {
     "data": {
      "text/plain": [
       "8"
      ]
     },
     "execution_count": 27,
     "metadata": {},
     "output_type": "execute_result"
    }
   ],
   "source": [
    "count_letters('economía')"
   ]
  },
  {
   "attachments": {},
   "cell_type": "markdown",
   "metadata": {},
   "source": [
    "Construya la función saludo que reciba su nombre y devuelva el string \"Hola! {nombre}\". Agréguele un parámetro booleano que indique si el saludo deba ser en inglés o en español. "
   ]
  },
  {
   "cell_type": "code",
   "execution_count": 28,
   "metadata": {},
   "outputs": [],
   "source": [
    "def saludo(nombre, español):\n",
    "    if español == True:\n",
    "        return 'Hola!, {}'.format(nombre)\n",
    "    else:\n",
    "        return 'Hello!, {}'.format(nombre)"
   ]
  },
  {
   "cell_type": "code",
   "execution_count": 29,
   "metadata": {},
   "outputs": [
    {
     "data": {
      "text/plain": [
       "'Hola!, Lucas'"
      ]
     },
     "execution_count": 29,
     "metadata": {},
     "output_type": "execute_result"
    }
   ],
   "source": [
    "saludo(\"Lucas\", True)"
   ]
  },
  {
   "cell_type": "code",
   "execution_count": 30,
   "metadata": {},
   "outputs": [
    {
     "data": {
      "text/plain": [
       "'Hello!, Lucas'"
      ]
     },
     "execution_count": 30,
     "metadata": {},
     "output_type": "execute_result"
    }
   ],
   "source": [
    "saludo(\"Lucas\", False)"
   ]
  },
  {
   "cell_type": "code",
   "execution_count": 31,
   "metadata": {},
   "outputs": [
    {
     "ename": "TypeError",
     "evalue": "saludo() missing 1 required positional argument: 'español'",
     "output_type": "error",
     "traceback": [
      "\u001b[1;31m---------------------------------------------------------------------------\u001b[0m",
      "\u001b[1;31mTypeError\u001b[0m                                 Traceback (most recent call last)",
      "\u001b[1;32m~\\AppData\\Local\\Temp\\ipykernel_12172\\2684194957.py\u001b[0m in \u001b[0;36m<module>\u001b[1;34m\u001b[0m\n\u001b[1;32m----> 1\u001b[1;33m \u001b[0msaludo\u001b[0m\u001b[1;33m(\u001b[0m\u001b[1;34m\"Lucas\"\u001b[0m\u001b[1;33m)\u001b[0m\u001b[1;33m\u001b[0m\u001b[1;33m\u001b[0m\u001b[0m\n\u001b[0m",
      "\u001b[1;31mTypeError\u001b[0m: saludo() missing 1 required positional argument: 'español'"
     ]
    }
   ],
   "source": [
    "saludo(\"Lucas\")"
   ]
  },
  {
   "cell_type": "code",
   "execution_count": 32,
   "metadata": {},
   "outputs": [
    {
     "data": {
      "text/plain": [
       "'Hello!, True'"
      ]
     },
     "execution_count": 32,
     "metadata": {},
     "output_type": "execute_result"
    }
   ],
   "source": [
    "saludo(True, \"Lucas\")"
   ]
  },
  {
   "cell_type": "code",
   "execution_count": 33,
   "metadata": {},
   "outputs": [],
   "source": [
    "def saludo(nombre, español):\n",
    "    if español == True:\n",
    "        return 'Hola!, {}'.format(nombre)\n",
    "    elif español == False:\n",
    "        return 'Hello!, {}'.format(nombre)"
   ]
  },
  {
   "cell_type": "code",
   "execution_count": 34,
   "metadata": {},
   "outputs": [],
   "source": [
    "saludo(True, \"Lucas\")"
   ]
  },
  {
   "cell_type": "code",
   "execution_count": 35,
   "metadata": {},
   "outputs": [],
   "source": [
    "def saludo(nombre, español):\n",
    "    if español not in [True, False]:\n",
    "        raise TypeError(\"El parámetro español no es un objeto booleano (True o False). Revise el parámetro\")\n",
    "\n",
    "    if español == True:\n",
    "        return 'Hola!, {}'.format(nombre)\n",
    "    elif español == False:\n",
    "        return 'Hello!, {}'.format(nombre)"
   ]
  },
  {
   "cell_type": "code",
   "execution_count": 36,
   "metadata": {},
   "outputs": [
    {
     "ename": "TypeError",
     "evalue": "El parámetro español no es un objeto booleano (True o False). Revise el parámetro",
     "output_type": "error",
     "traceback": [
      "\u001b[1;31m---------------------------------------------------------------------------\u001b[0m",
      "\u001b[1;31mTypeError\u001b[0m                                 Traceback (most recent call last)",
      "\u001b[1;32m~\\AppData\\Local\\Temp\\ipykernel_12172\\1770110451.py\u001b[0m in \u001b[0;36m<module>\u001b[1;34m\u001b[0m\n\u001b[1;32m----> 1\u001b[1;33m \u001b[0msaludo\u001b[0m\u001b[1;33m(\u001b[0m\u001b[1;32mTrue\u001b[0m\u001b[1;33m,\u001b[0m \u001b[1;34m\"Lucas\"\u001b[0m\u001b[1;33m)\u001b[0m\u001b[1;33m\u001b[0m\u001b[1;33m\u001b[0m\u001b[0m\n\u001b[0m",
      "\u001b[1;32m~\\AppData\\Local\\Temp\\ipykernel_12172\\3047547590.py\u001b[0m in \u001b[0;36msaludo\u001b[1;34m(nombre, español)\u001b[0m\n\u001b[0;32m      1\u001b[0m \u001b[1;32mdef\u001b[0m \u001b[0msaludo\u001b[0m\u001b[1;33m(\u001b[0m\u001b[0mnombre\u001b[0m\u001b[1;33m,\u001b[0m \u001b[0mespañol\u001b[0m\u001b[1;33m)\u001b[0m\u001b[1;33m:\u001b[0m\u001b[1;33m\u001b[0m\u001b[1;33m\u001b[0m\u001b[0m\n\u001b[0;32m      2\u001b[0m     \u001b[1;32mif\u001b[0m \u001b[0mespañol\u001b[0m \u001b[1;32mnot\u001b[0m \u001b[1;32min\u001b[0m \u001b[1;33m[\u001b[0m\u001b[1;32mTrue\u001b[0m\u001b[1;33m,\u001b[0m \u001b[1;32mFalse\u001b[0m\u001b[1;33m]\u001b[0m\u001b[1;33m:\u001b[0m\u001b[1;33m\u001b[0m\u001b[1;33m\u001b[0m\u001b[0m\n\u001b[1;32m----> 3\u001b[1;33m         \u001b[1;32mraise\u001b[0m \u001b[0mTypeError\u001b[0m\u001b[1;33m(\u001b[0m\u001b[1;34m\"El parámetro español no es un objeto booleano (True o False). Revise el parámetro\"\u001b[0m\u001b[1;33m)\u001b[0m\u001b[1;33m\u001b[0m\u001b[1;33m\u001b[0m\u001b[0m\n\u001b[0m\u001b[0;32m      4\u001b[0m \u001b[1;33m\u001b[0m\u001b[0m\n\u001b[0;32m      5\u001b[0m     \u001b[1;32mif\u001b[0m \u001b[0mespañol\u001b[0m \u001b[1;33m==\u001b[0m \u001b[1;32mTrue\u001b[0m\u001b[1;33m:\u001b[0m\u001b[1;33m\u001b[0m\u001b[1;33m\u001b[0m\u001b[0m\n",
      "\u001b[1;31mTypeError\u001b[0m: El parámetro español no es un objeto booleano (True o False). Revise el parámetro"
     ]
    }
   ],
   "source": [
    "saludo(True, \"Lucas\")"
   ]
  },
  {
   "cell_type": "code",
   "execution_count": 37,
   "metadata": {},
   "outputs": [
    {
     "data": {
      "text/plain": [
       "'Hola!, Lucas'"
      ]
     },
     "execution_count": 37,
     "metadata": {},
     "output_type": "execute_result"
    }
   ],
   "source": [
    "saludo(español = True, nombre = \"Lucas\")"
   ]
  },
  {
   "attachments": {},
   "cell_type": "markdown",
   "metadata": {},
   "source": [
    "Los tipos de errores en Python se pueden encontrar en esta [página](https://www.tutorialsteacher.com/python/error-types-in-python). Usted no tiene que ser realmente muy prolijo definiendo sus errores en una función para pequeños desarrollos. Incluso, podría devolver solo un print."
   ]
  },
  {
   "cell_type": "code",
   "execution_count": 38,
   "metadata": {},
   "outputs": [],
   "source": [
    "def saludo(nombre, español):\n",
    "    if español not in [True, False]:\n",
    "        return(\"El parámetro español no es un objeto booleano (True o False). Revise el parámetro\")\n",
    "\n",
    "    if español == True:\n",
    "        return 'Hola!, {}'.format(nombre)\n",
    "    elif español == False:\n",
    "        return 'Hello!, {}'.format(nombre)"
   ]
  },
  {
   "cell_type": "code",
   "execution_count": 39,
   "metadata": {},
   "outputs": [
    {
     "data": {
      "text/plain": [
       "'El parámetro español no es un objeto booleano (True o False). Revise el parámetro'"
      ]
     },
     "execution_count": 39,
     "metadata": {},
     "output_type": "execute_result"
    }
   ],
   "source": [
    "saludo(True, \"Lucas\")"
   ]
  },
  {
   "attachments": {},
   "cell_type": "markdown",
   "metadata": {},
   "source": [
    "### Lambda functions\n",
    "Las lambda functions (funciones lambda) son funciones anónimas en Python que se definen en **una sola línea de código**.\n",
    "\n",
    "Cuando hablamos de funciones \"anónimas\" significa que no tienen un nombre identificador explícito. En lugar de definir una función usando la palabra clave \"def\", se utiliza la palabra clave \"lambda\" seguida de los argumentos y el cuerpo de la función.\n",
    "\n",
    "La sintaxis básica de una función lambda es la siguiente:\n",
    "```python\n",
    "lambda argumentos: expresión\n",
    "```\n",
    "Por ejemplo, si quisiéramos crear una función que sume dos números, podríamos hacerlo de la siguiente manera:"
   ]
  },
  {
   "cell_type": "code",
   "execution_count": 40,
   "metadata": {},
   "outputs": [
    {
     "data": {
      "text/plain": [
       "<function __main__.<lambda>(a, b)>"
      ]
     },
     "execution_count": 40,
     "metadata": {},
     "output_type": "execute_result"
    }
   ],
   "source": [
    "lambda a, b: a + b"
   ]
  },
  {
   "cell_type": "code",
   "execution_count": 41,
   "metadata": {},
   "outputs": [],
   "source": [
    "suma = lambda a, b: a + b"
   ]
  },
  {
   "cell_type": "code",
   "execution_count": 42,
   "metadata": {},
   "outputs": [
    {
     "data": {
      "text/plain": [
       "5"
      ]
     },
     "execution_count": 42,
     "metadata": {},
     "output_type": "execute_result"
    }
   ],
   "source": [
    "suma(2, 3)"
   ]
  },
  {
   "attachments": {},
   "cell_type": "markdown",
   "metadata": {},
   "source": [
    "En este caso, \"suma\" es el nombre de la función lambda que hemos creado, que toma dos argumentos (\"a\" y \"b\") y devuelve su suma."
   ]
  },
  {
   "cell_type": "code",
   "execution_count": 43,
   "metadata": {},
   "outputs": [],
   "source": [
    "cuadrado = lambda x: x**2"
   ]
  },
  {
   "cell_type": "code",
   "execution_count": 44,
   "metadata": {},
   "outputs": [
    {
     "data": {
      "text/plain": [
       "400"
      ]
     },
     "execution_count": 44,
     "metadata": {},
     "output_type": "execute_result"
    }
   ],
   "source": [
    "cuadrado(20)"
   ]
  },
  {
   "attachments": {},
   "cell_type": "markdown",
   "metadata": {},
   "source": [
    "Las funciones lambda se utilizan a menudo en Python como una forma rápida y sencilla de crear funciones ad hoc que sólo se necesitan para un propósito específico y no necesitan un nombre definido. También se utilizan a menudo en combinación con funciones de orden superior, como \"map\" y \"filter\", para procesar datos de forma más eficiente."
   ]
  },
  {
   "attachments": {},
   "cell_type": "markdown",
   "metadata": {},
   "source": [
    "La función `filter` recibe dos argumentos: \n",
    "- una función: esta debe devolver True o False según las condiciones que se definan en la función. \n",
    "- un iterable: un objeto compuesto por varios elementos que se pasarán uno a uno por la función.\n",
    "`filter` devolverá unicamente los elementos del iterable que hayan devuelto True en la función que se le pasó"
   ]
  },
  {
   "cell_type": "code",
   "execution_count": 45,
   "metadata": {},
   "outputs": [
    {
     "data": {
      "text/plain": [
       "<filter at 0x1b2bc132040>"
      ]
     },
     "execution_count": 45,
     "metadata": {},
     "output_type": "execute_result"
    }
   ],
   "source": [
    "numeros = [1, 2, 3, 4, 5, 6, 7, 8, 9]\n",
    "# Note que se usa la función list sobre filter\n",
    "filter(lambda x: x % 2 == 0, numeros)"
   ]
  },
  {
   "cell_type": "code",
   "execution_count": 46,
   "metadata": {},
   "outputs": [
    {
     "data": {
      "text/plain": [
       "[2, 4, 6, 8]"
      ]
     },
     "execution_count": 46,
     "metadata": {},
     "output_type": "execute_result"
    }
   ],
   "source": [
    "list(filter(lambda x: x % 2 == 0, numeros))"
   ]
  },
  {
   "cell_type": "code",
   "execution_count": 47,
   "metadata": {},
   "outputs": [
    {
     "name": "stdout",
     "output_type": "stream",
     "text": [
      "[2, 4, 6, 8]\n"
     ]
    }
   ],
   "source": [
    "numeros_pares = list(filter(lambda x: x % 2 == 0, numeros))\n",
    "print(numeros_pares)"
   ]
  },
  {
   "attachments": {},
   "cell_type": "markdown",
   "metadata": {},
   "source": [
    "`map` por su parte es similar en sintaxis a `filter`, sin embargo, el argumento de función no necesariamente debe devolver True o False. En este caso map lo que hace es aplicar una función sobre cada uno de los elementos del iterable."
   ]
  },
  {
   "cell_type": "code",
   "execution_count": 48,
   "metadata": {},
   "outputs": [
    {
     "data": {
      "text/plain": [
       "<map at 0x1b2bc14aa60>"
      ]
     },
     "execution_count": 48,
     "metadata": {},
     "output_type": "execute_result"
    }
   ],
   "source": [
    "map(lambda x: x ** 2, numeros)"
   ]
  },
  {
   "cell_type": "code",
   "execution_count": 49,
   "metadata": {},
   "outputs": [
    {
     "data": {
      "text/plain": [
       "[1, 4, 9, 16, 25, 36, 49, 64, 81]"
      ]
     },
     "execution_count": 49,
     "metadata": {},
     "output_type": "execute_result"
    }
   ],
   "source": [
    "list(map(lambda x: x ** 2, numeros))"
   ]
  },
  {
   "cell_type": "code",
   "execution_count": 50,
   "metadata": {},
   "outputs": [
    {
     "name": "stdout",
     "output_type": "stream",
     "text": [
      "[1, 4, 9, 16, 25, 36, 49, 64, 81]\n"
     ]
    }
   ],
   "source": [
    "numeros_cuadrados = list(map(lambda x: x ** 2, numeros))\n",
    "print(numeros_cuadrados)"
   ]
  },
  {
   "attachments": {},
   "cell_type": "markdown",
   "metadata": {},
   "source": [
    "En todos estos casos se pudo haber hecho uso de una función definida por `def`, sin embargo es más rápido usar un `lambda function`"
   ]
  },
  {
   "attachments": {},
   "cell_type": "markdown",
   "metadata": {},
   "source": [
    "Considere la situación en la que usted tiene un diccionario con las notas de un curso y usted quiere sacar el promedio de cada alumno. Anteriormente habríamos sacado el promedio \"a mano\" o con un *loop*, sin embargo, ¿qué pasaría si tenemos muchos alumnos (y no queremos usar un loop)?"
   ]
  },
  {
   "cell_type": "code",
   "execution_count": 51,
   "metadata": {},
   "outputs": [],
   "source": [
    "notas = {'Juan': [4.5, 3.7, 3.4, 5],'Alicia': [3.5, 3.1, 4.2, 3.9], 'Germán': [2.6, 3.0, 3.9, 4.1]}"
   ]
  },
  {
   "cell_type": "code",
   "execution_count": 52,
   "metadata": {},
   "outputs": [
    {
     "name": "stdout",
     "output_type": "stream",
     "text": [
      "25.1 µs ± 1.02 µs per loop (mean ± std. dev. of 7 runs, 10000 loops each)\n"
     ]
    }
   ],
   "source": [
    "%%timeit\n",
    "\n",
    "promedios = []\n",
    "for i in notas.keys():\n",
    "    promedio_i = np.mean(notas[i])\n",
    "    promedios.append(promedio_i)"
   ]
  },
  {
   "cell_type": "code",
   "execution_count": 53,
   "metadata": {},
   "outputs": [
    {
     "name": "stdout",
     "output_type": "stream",
     "text": [
      "25.7 µs ± 2.33 µs per loop (mean ± std. dev. of 7 runs, 10000 loops each)\n"
     ]
    }
   ],
   "source": [
    "%%timeit\n",
    "list(map(np.mean, notas.values()))"
   ]
  },
  {
   "attachments": {},
   "cell_type": "markdown",
   "metadata": {},
   "source": [
    "Como puede ver, cuando se compara la eficiencia entre ambas aproximaciones al problema, note que map es ligeramente más rápida que hacer un loop, sin embargo, lo más relevante, note que map es una aproximación mucho más sencilla."
   ]
  },
  {
   "attachments": {},
   "cell_type": "markdown",
   "metadata": {},
   "source": [
    "### ¿Qué es la recursividad o recursión?"
   ]
  },
  {
   "attachments": {},
   "cell_type": "markdown",
   "metadata": {},
   "source": [
    "La recursividad consiste en funciones que se llaman a sí mismas, evitando el uso de loops.\n",
    "\n",
    "Un ejemplo fácil de ver y que se usa a menudo es el cálculo del factorial de un número entero. El factorial de un número se define como ese número multiplicado por el anterior, éste por el anterior, y así sucesivamente hasta llegar a 1. Así, por ejemplo, el factorial del número 5 sería: $5\\times4\\times3\\times2\\times1 = 120$.\n",
    "\n",
    "Una forma de programar este problema sería a partir de loops, por ejemplo"
   ]
  },
  {
   "cell_type": "code",
   "execution_count": 113,
   "metadata": {},
   "outputs": [
    {
     "data": {
      "text/plain": [
       "120"
      ]
     },
     "execution_count": 113,
     "metadata": {},
     "output_type": "execute_result"
    }
   ],
   "source": [
    "def factorial_loop(numero):\n",
    "    fact = 1\n",
    "    while(numero > 0):\n",
    "        fact = fact*numero\n",
    "        numero = numero - 1\n",
    "    return(fact)\n",
    "\n",
    "factorial_loop(numero = 5)"
   ]
  },
  {
   "attachments": {},
   "cell_type": "markdown",
   "metadata": {},
   "source": [
    "Sin embargo, se podría programar usando recursión de la siguiente manera:"
   ]
  },
  {
   "cell_type": "code",
   "execution_count": 114,
   "metadata": {},
   "outputs": [],
   "source": [
    "def factorial_recursivo(numero):\n",
    "    if numero == 0:\n",
    "        return 1\n",
    "    else:\n",
    "        return numero * factorial_recursivo(numero -1)"
   ]
  },
  {
   "attachments": {},
   "cell_type": "markdown",
   "metadata": {},
   "source": [
    "Si el número es 0, el factorial es 1. De lo contrario, la función llama a sí misma con un valor decrementado en 1 y multiplica el número original por el resultado de esa llamada recursiva. Esto se repite hasta que el número llegue a 0 y se devuelve el resultado final."
   ]
  },
  {
   "cell_type": "code",
   "execution_count": 115,
   "metadata": {},
   "outputs": [
    {
     "data": {
      "text/plain": [
       "120"
      ]
     },
     "execution_count": 115,
     "metadata": {},
     "output_type": "execute_result"
    }
   ],
   "source": [
    "factorial_recursivo(numero = 5)"
   ]
  },
  {
   "attachments": {},
   "cell_type": "markdown",
   "metadata": {},
   "source": [
    "La estructura básica de una función que usa la recursividad es la siguiente:\n",
    "\n",
    "1. La función debe tener un caso base: un punto de parada que no involucra llamadas recursivas y que permite que la función se detenga y devuelva un resultado.\n",
    "\n",
    "2. La función debe tener un caso recursivo: un caso en el que la función se llama a sí misma para resolver un subproblema más pequeño y luego combina la solución del subproblema con el problema original.\n",
    "\n",
    "3. La función debe acercarse al caso base con cada llamada recursiva: debe haber una reducción en la complejidad del problema original con cada llamada recursiva, de tal manera que eventualmente se llegue al caso base.\n",
    "\n",
    "4. La función debe devolver un resultado: después de resolver el caso base, la función debe devolver un resultado que combine la solución del subproblema con el problema original.\n",
    "\n",
    "En términos de estructura de código, una función recursiva típica puede tener esta apariencia:\n",
    "\n",
    "```python\n",
    "def funcion_recursiva(parametros):\n",
    "    if caso_base:\n",
    "        # código para caso base\n",
    "    else:\n",
    "        # código para caso recursivo\n",
    "        resultado_subproblema = funcion_recursiva(parametros_reducidos)\n",
    "        # código para combinar resultado_subproblema con el problema original\n",
    "        return resultado\n",
    "```\n",
    "\n",
    "Es importante tener en cuenta que, al usar la recursividad, puede haber un mayor uso de memoria y un aumento en el tiempo de ejecución debido al apilamiento de llamadas en la pila de la máquina. Por lo tanto, se recomienda utilizar la recursividad solo cuando sea necesario y cuando no haya una solución más simple y directa mediante iteración."
   ]
  },
  {
   "attachments": {},
   "cell_type": "markdown",
   "metadata": {},
   "source": [
    "Cree una función para encontrar el Máximo Común Divisor (MCD) entre dos números enteros positivos utilizando recursión. "
   ]
  },
  {
   "cell_type": "code",
   "execution_count": 6,
   "metadata": {},
   "outputs": [],
   "source": [
    "def mcd(a, b):\n",
    "\tbajo = min(a, b)\n",
    "\talto = max(a, b)\n",
    "\n",
    "\t# Condición de parada 1\n",
    "\t# El Máximo Común Divisor entre el cero y cualquier otro número es el otro número. \n",
    "\tif bajo == 0:\n",
    "\t\treturn alto\n",
    "\t# Condición de parada 2\n",
    "\t# El Máximo Común Divisor entre el uno cualquier otro número es el uno\n",
    "\telif bajo == 1:\n",
    "\t\treturn 1\n",
    "\t# A partir del residuo de la división entre el número más grande y el número más pequeño es posible encontrar\n",
    "\t# el MCD\n",
    "\telse:\n",
    "\t\treturn mcd(bajo, alto % bajo)"
   ]
  },
  {
   "cell_type": "code",
   "execution_count": 7,
   "metadata": {},
   "outputs": [
    {
     "data": {
      "text/plain": [
       "2"
      ]
     },
     "execution_count": 7,
     "metadata": {},
     "output_type": "execute_result"
    }
   ],
   "source": [
    "mcd(4, 6)"
   ]
  },
  {
   "cell_type": "code",
   "execution_count": 4,
   "metadata": {},
   "outputs": [
    {
     "data": {
      "text/plain": [
       "12"
      ]
     },
     "execution_count": 4,
     "metadata": {},
     "output_type": "execute_result"
    }
   ],
   "source": [
    "mcd(0, 12)"
   ]
  },
  {
   "cell_type": "code",
   "execution_count": 3,
   "metadata": {},
   "outputs": [
    {
     "data": {
      "text/plain": [
       "1"
      ]
     },
     "execution_count": 3,
     "metadata": {},
     "output_type": "execute_result"
    }
   ],
   "source": [
    "mcd(7, 13)"
   ]
  },
  {
   "attachments": {},
   "cell_type": "markdown",
   "metadata": {},
   "source": [
    "## Simulaciones en Python para responder preguntas complejas"
   ]
  },
  {
   "attachments": {},
   "cell_type": "markdown",
   "metadata": {},
   "source": [
    "Construya una función que represente el lanzamiento de un dado de 6 caras. Lance el dado 1000 veces y guarde sus resultado en un vector. Calcule la media."
   ]
  },
  {
   "cell_type": "code",
   "execution_count": 55,
   "metadata": {},
   "outputs": [
    {
     "data": {
      "text/plain": [
       "3.512"
      ]
     },
     "execution_count": 55,
     "metadata": {},
     "output_type": "execute_result"
    }
   ],
   "source": [
    "import random\n",
    "\n",
    "def dice_simulate():\n",
    "    number = random.randint(1,6)\n",
    "    return(number)\n",
    "\n",
    "# Media empírica\n",
    "np.mean([dice_simulate() for i in range(1000)])"
   ]
  },
  {
   "cell_type": "code",
   "execution_count": 56,
   "metadata": {},
   "outputs": [
    {
     "data": {
      "text/plain": [
       "3.5"
      ]
     },
     "execution_count": 56,
     "metadata": {},
     "output_type": "execute_result"
    }
   ],
   "source": [
    "# ¿Qué tan bueno es Python representando la realidad?\n",
    "# Media teórica\n",
    "np.sum([1/6*i for i in range(1, 7)])"
   ]
  },
  {
   "attachments": {},
   "cell_type": "markdown",
   "metadata": {},
   "source": [
    "Ahora hagamos una simulación más compleja.\n",
    "\n",
    "¿Cuántos sobres del album de Panini del Mundial necesito comprar para poder llenarlo? Supongamos lo siguiente:\n",
    "- El album tiene 638 monas/laminitas.\n",
    "- Todas las monas son igual de probables de encontrarse en los sobres.\n",
    "- Un sobre puede tener monas/laminitas repetidas.\n",
    "- Cada sobre trae 5 monas/laminas.\n",
    "- No es posible intercambiar monas con otras personas.\n",
    "\n",
    "Para responder esta pregunta podríamos tomar un camino [analítico](http://www.unige.ch/math/folks/velenik/Vulg/Paninimania.pdf) o de simulación computacional. En este caso, tomaremos el último.\n",
    "\n",
    "Primero creemos una función que cree un album de panini vacío. En este mundo abstracto, representamos un album como la lista de espacios vacías que nos faltan por llenar.\n",
    "\n"
   ]
  },
  {
   "cell_type": "code",
   "execution_count": 57,
   "metadata": {},
   "outputs": [],
   "source": [
    "def estrenar_album(n = 638):\n",
    "    # n es el número de monas/laminitas que tiene el album\n",
    "    album = [i for i in range(1, n + 1)]\n",
    "    return album"
   ]
  },
  {
   "cell_type": "code",
   "execution_count": 58,
   "metadata": {},
   "outputs": [
    {
     "data": {
      "text/plain": [
       "[1,\n",
       " 2,\n",
       " 3,\n",
       " 4,\n",
       " 5,\n",
       " 6,\n",
       " 7,\n",
       " 8,\n",
       " 9,\n",
       " 10,\n",
       " 11,\n",
       " 12,\n",
       " 13,\n",
       " 14,\n",
       " 15,\n",
       " 16,\n",
       " 17,\n",
       " 18,\n",
       " 19,\n",
       " 20,\n",
       " 21,\n",
       " 22,\n",
       " 23,\n",
       " 24,\n",
       " 25,\n",
       " 26,\n",
       " 27,\n",
       " 28,\n",
       " 29,\n",
       " 30,\n",
       " 31,\n",
       " 32,\n",
       " 33,\n",
       " 34,\n",
       " 35,\n",
       " 36,\n",
       " 37,\n",
       " 38,\n",
       " 39,\n",
       " 40,\n",
       " 41,\n",
       " 42,\n",
       " 43,\n",
       " 44,\n",
       " 45,\n",
       " 46,\n",
       " 47,\n",
       " 48,\n",
       " 49,\n",
       " 50,\n",
       " 51,\n",
       " 52,\n",
       " 53,\n",
       " 54,\n",
       " 55,\n",
       " 56,\n",
       " 57,\n",
       " 58,\n",
       " 59,\n",
       " 60,\n",
       " 61,\n",
       " 62,\n",
       " 63,\n",
       " 64,\n",
       " 65,\n",
       " 66,\n",
       " 67,\n",
       " 68,\n",
       " 69,\n",
       " 70,\n",
       " 71,\n",
       " 72,\n",
       " 73,\n",
       " 74,\n",
       " 75,\n",
       " 76,\n",
       " 77,\n",
       " 78,\n",
       " 79,\n",
       " 80,\n",
       " 81,\n",
       " 82,\n",
       " 83,\n",
       " 84,\n",
       " 85,\n",
       " 86,\n",
       " 87,\n",
       " 88,\n",
       " 89,\n",
       " 90,\n",
       " 91,\n",
       " 92,\n",
       " 93,\n",
       " 94,\n",
       " 95,\n",
       " 96,\n",
       " 97,\n",
       " 98,\n",
       " 99,\n",
       " 100,\n",
       " 101,\n",
       " 102,\n",
       " 103,\n",
       " 104,\n",
       " 105,\n",
       " 106,\n",
       " 107,\n",
       " 108,\n",
       " 109,\n",
       " 110,\n",
       " 111,\n",
       " 112,\n",
       " 113,\n",
       " 114,\n",
       " 115,\n",
       " 116,\n",
       " 117,\n",
       " 118,\n",
       " 119,\n",
       " 120,\n",
       " 121,\n",
       " 122,\n",
       " 123,\n",
       " 124,\n",
       " 125,\n",
       " 126,\n",
       " 127,\n",
       " 128,\n",
       " 129,\n",
       " 130,\n",
       " 131,\n",
       " 132,\n",
       " 133,\n",
       " 134,\n",
       " 135,\n",
       " 136,\n",
       " 137,\n",
       " 138,\n",
       " 139,\n",
       " 140,\n",
       " 141,\n",
       " 142,\n",
       " 143,\n",
       " 144,\n",
       " 145,\n",
       " 146,\n",
       " 147,\n",
       " 148,\n",
       " 149,\n",
       " 150,\n",
       " 151,\n",
       " 152,\n",
       " 153,\n",
       " 154,\n",
       " 155,\n",
       " 156,\n",
       " 157,\n",
       " 158,\n",
       " 159,\n",
       " 160,\n",
       " 161,\n",
       " 162,\n",
       " 163,\n",
       " 164,\n",
       " 165,\n",
       " 166,\n",
       " 167,\n",
       " 168,\n",
       " 169,\n",
       " 170,\n",
       " 171,\n",
       " 172,\n",
       " 173,\n",
       " 174,\n",
       " 175,\n",
       " 176,\n",
       " 177,\n",
       " 178,\n",
       " 179,\n",
       " 180,\n",
       " 181,\n",
       " 182,\n",
       " 183,\n",
       " 184,\n",
       " 185,\n",
       " 186,\n",
       " 187,\n",
       " 188,\n",
       " 189,\n",
       " 190,\n",
       " 191,\n",
       " 192,\n",
       " 193,\n",
       " 194,\n",
       " 195,\n",
       " 196,\n",
       " 197,\n",
       " 198,\n",
       " 199,\n",
       " 200,\n",
       " 201,\n",
       " 202,\n",
       " 203,\n",
       " 204,\n",
       " 205,\n",
       " 206,\n",
       " 207,\n",
       " 208,\n",
       " 209,\n",
       " 210,\n",
       " 211,\n",
       " 212,\n",
       " 213,\n",
       " 214,\n",
       " 215,\n",
       " 216,\n",
       " 217,\n",
       " 218,\n",
       " 219,\n",
       " 220,\n",
       " 221,\n",
       " 222,\n",
       " 223,\n",
       " 224,\n",
       " 225,\n",
       " 226,\n",
       " 227,\n",
       " 228,\n",
       " 229,\n",
       " 230,\n",
       " 231,\n",
       " 232,\n",
       " 233,\n",
       " 234,\n",
       " 235,\n",
       " 236,\n",
       " 237,\n",
       " 238,\n",
       " 239,\n",
       " 240,\n",
       " 241,\n",
       " 242,\n",
       " 243,\n",
       " 244,\n",
       " 245,\n",
       " 246,\n",
       " 247,\n",
       " 248,\n",
       " 249,\n",
       " 250,\n",
       " 251,\n",
       " 252,\n",
       " 253,\n",
       " 254,\n",
       " 255,\n",
       " 256,\n",
       " 257,\n",
       " 258,\n",
       " 259,\n",
       " 260,\n",
       " 261,\n",
       " 262,\n",
       " 263,\n",
       " 264,\n",
       " 265,\n",
       " 266,\n",
       " 267,\n",
       " 268,\n",
       " 269,\n",
       " 270,\n",
       " 271,\n",
       " 272,\n",
       " 273,\n",
       " 274,\n",
       " 275,\n",
       " 276,\n",
       " 277,\n",
       " 278,\n",
       " 279,\n",
       " 280,\n",
       " 281,\n",
       " 282,\n",
       " 283,\n",
       " 284,\n",
       " 285,\n",
       " 286,\n",
       " 287,\n",
       " 288,\n",
       " 289,\n",
       " 290,\n",
       " 291,\n",
       " 292,\n",
       " 293,\n",
       " 294,\n",
       " 295,\n",
       " 296,\n",
       " 297,\n",
       " 298,\n",
       " 299,\n",
       " 300,\n",
       " 301,\n",
       " 302,\n",
       " 303,\n",
       " 304,\n",
       " 305,\n",
       " 306,\n",
       " 307,\n",
       " 308,\n",
       " 309,\n",
       " 310,\n",
       " 311,\n",
       " 312,\n",
       " 313,\n",
       " 314,\n",
       " 315,\n",
       " 316,\n",
       " 317,\n",
       " 318,\n",
       " 319,\n",
       " 320,\n",
       " 321,\n",
       " 322,\n",
       " 323,\n",
       " 324,\n",
       " 325,\n",
       " 326,\n",
       " 327,\n",
       " 328,\n",
       " 329,\n",
       " 330,\n",
       " 331,\n",
       " 332,\n",
       " 333,\n",
       " 334,\n",
       " 335,\n",
       " 336,\n",
       " 337,\n",
       " 338,\n",
       " 339,\n",
       " 340,\n",
       " 341,\n",
       " 342,\n",
       " 343,\n",
       " 344,\n",
       " 345,\n",
       " 346,\n",
       " 347,\n",
       " 348,\n",
       " 349,\n",
       " 350,\n",
       " 351,\n",
       " 352,\n",
       " 353,\n",
       " 354,\n",
       " 355,\n",
       " 356,\n",
       " 357,\n",
       " 358,\n",
       " 359,\n",
       " 360,\n",
       " 361,\n",
       " 362,\n",
       " 363,\n",
       " 364,\n",
       " 365,\n",
       " 366,\n",
       " 367,\n",
       " 368,\n",
       " 369,\n",
       " 370,\n",
       " 371,\n",
       " 372,\n",
       " 373,\n",
       " 374,\n",
       " 375,\n",
       " 376,\n",
       " 377,\n",
       " 378,\n",
       " 379,\n",
       " 380,\n",
       " 381,\n",
       " 382,\n",
       " 383,\n",
       " 384,\n",
       " 385,\n",
       " 386,\n",
       " 387,\n",
       " 388,\n",
       " 389,\n",
       " 390,\n",
       " 391,\n",
       " 392,\n",
       " 393,\n",
       " 394,\n",
       " 395,\n",
       " 396,\n",
       " 397,\n",
       " 398,\n",
       " 399,\n",
       " 400,\n",
       " 401,\n",
       " 402,\n",
       " 403,\n",
       " 404,\n",
       " 405,\n",
       " 406,\n",
       " 407,\n",
       " 408,\n",
       " 409,\n",
       " 410,\n",
       " 411,\n",
       " 412,\n",
       " 413,\n",
       " 414,\n",
       " 415,\n",
       " 416,\n",
       " 417,\n",
       " 418,\n",
       " 419,\n",
       " 420,\n",
       " 421,\n",
       " 422,\n",
       " 423,\n",
       " 424,\n",
       " 425,\n",
       " 426,\n",
       " 427,\n",
       " 428,\n",
       " 429,\n",
       " 430,\n",
       " 431,\n",
       " 432,\n",
       " 433,\n",
       " 434,\n",
       " 435,\n",
       " 436,\n",
       " 437,\n",
       " 438,\n",
       " 439,\n",
       " 440,\n",
       " 441,\n",
       " 442,\n",
       " 443,\n",
       " 444,\n",
       " 445,\n",
       " 446,\n",
       " 447,\n",
       " 448,\n",
       " 449,\n",
       " 450,\n",
       " 451,\n",
       " 452,\n",
       " 453,\n",
       " 454,\n",
       " 455,\n",
       " 456,\n",
       " 457,\n",
       " 458,\n",
       " 459,\n",
       " 460,\n",
       " 461,\n",
       " 462,\n",
       " 463,\n",
       " 464,\n",
       " 465,\n",
       " 466,\n",
       " 467,\n",
       " 468,\n",
       " 469,\n",
       " 470,\n",
       " 471,\n",
       " 472,\n",
       " 473,\n",
       " 474,\n",
       " 475,\n",
       " 476,\n",
       " 477,\n",
       " 478,\n",
       " 479,\n",
       " 480,\n",
       " 481,\n",
       " 482,\n",
       " 483,\n",
       " 484,\n",
       " 485,\n",
       " 486,\n",
       " 487,\n",
       " 488,\n",
       " 489,\n",
       " 490,\n",
       " 491,\n",
       " 492,\n",
       " 493,\n",
       " 494,\n",
       " 495,\n",
       " 496,\n",
       " 497,\n",
       " 498,\n",
       " 499,\n",
       " 500,\n",
       " 501,\n",
       " 502,\n",
       " 503,\n",
       " 504,\n",
       " 505,\n",
       " 506,\n",
       " 507,\n",
       " 508,\n",
       " 509,\n",
       " 510,\n",
       " 511,\n",
       " 512,\n",
       " 513,\n",
       " 514,\n",
       " 515,\n",
       " 516,\n",
       " 517,\n",
       " 518,\n",
       " 519,\n",
       " 520,\n",
       " 521,\n",
       " 522,\n",
       " 523,\n",
       " 524,\n",
       " 525,\n",
       " 526,\n",
       " 527,\n",
       " 528,\n",
       " 529,\n",
       " 530,\n",
       " 531,\n",
       " 532,\n",
       " 533,\n",
       " 534,\n",
       " 535,\n",
       " 536,\n",
       " 537,\n",
       " 538,\n",
       " 539,\n",
       " 540,\n",
       " 541,\n",
       " 542,\n",
       " 543,\n",
       " 544,\n",
       " 545,\n",
       " 546,\n",
       " 547,\n",
       " 548,\n",
       " 549,\n",
       " 550,\n",
       " 551,\n",
       " 552,\n",
       " 553,\n",
       " 554,\n",
       " 555,\n",
       " 556,\n",
       " 557,\n",
       " 558,\n",
       " 559,\n",
       " 560,\n",
       " 561,\n",
       " 562,\n",
       " 563,\n",
       " 564,\n",
       " 565,\n",
       " 566,\n",
       " 567,\n",
       " 568,\n",
       " 569,\n",
       " 570,\n",
       " 571,\n",
       " 572,\n",
       " 573,\n",
       " 574,\n",
       " 575,\n",
       " 576,\n",
       " 577,\n",
       " 578,\n",
       " 579,\n",
       " 580,\n",
       " 581,\n",
       " 582,\n",
       " 583,\n",
       " 584,\n",
       " 585,\n",
       " 586,\n",
       " 587,\n",
       " 588,\n",
       " 589,\n",
       " 590,\n",
       " 591,\n",
       " 592,\n",
       " 593,\n",
       " 594,\n",
       " 595,\n",
       " 596,\n",
       " 597,\n",
       " 598,\n",
       " 599,\n",
       " 600,\n",
       " 601,\n",
       " 602,\n",
       " 603,\n",
       " 604,\n",
       " 605,\n",
       " 606,\n",
       " 607,\n",
       " 608,\n",
       " 609,\n",
       " 610,\n",
       " 611,\n",
       " 612,\n",
       " 613,\n",
       " 614,\n",
       " 615,\n",
       " 616,\n",
       " 617,\n",
       " 618,\n",
       " 619,\n",
       " 620,\n",
       " 621,\n",
       " 622,\n",
       " 623,\n",
       " 624,\n",
       " 625,\n",
       " 626,\n",
       " 627,\n",
       " 628,\n",
       " 629,\n",
       " 630,\n",
       " 631,\n",
       " 632,\n",
       " 633,\n",
       " 634,\n",
       " 635,\n",
       " 636,\n",
       " 637,\n",
       " 638]"
      ]
     },
     "execution_count": 58,
     "metadata": {},
     "output_type": "execute_result"
    }
   ],
   "source": [
    "album_i = estrenar_album()\n",
    "album_i"
   ]
  },
  {
   "attachments": {},
   "cell_type": "markdown",
   "metadata": {},
   "source": [
    "Ahora vamos a crear una función que sea abrir un sobre de monas/laminitas"
   ]
  },
  {
   "cell_type": "code",
   "execution_count": 59,
   "metadata": {},
   "outputs": [],
   "source": [
    "def abrir_sobre(n = 638):\n",
    "    return np.random.randint(1, n + 1, size=5)"
   ]
  },
  {
   "cell_type": "code",
   "execution_count": 60,
   "metadata": {},
   "outputs": [
    {
     "data": {
      "text/plain": [
       "array([ 64, 377, 159, 619, 332])"
      ]
     },
     "execution_count": 60,
     "metadata": {},
     "output_type": "execute_result"
    }
   ],
   "source": [
    "sobre_j = abrir_sobre()\n",
    "sobre_j"
   ]
  },
  {
   "attachments": {},
   "cell_type": "markdown",
   "metadata": {},
   "source": [
    "Ahora definamos una función que sea pegar las monas/laminitas de nuestro paquete en nuestro album."
   ]
  },
  {
   "cell_type": "code",
   "execution_count": 61,
   "metadata": {},
   "outputs": [],
   "source": [
    "# Forma larga\n",
    "def pegar_monas(album, monas):\n",
    "    for mona in monas: \n",
    "            if mona in album:\n",
    "                album.remove(mona)\n",
    "    return(album)"
   ]
  },
  {
   "cell_type": "code",
   "execution_count": 62,
   "metadata": {},
   "outputs": [],
   "source": [
    "# Forma gomela\n",
    "def pegar_monas(album, monas):\n",
    "    album = [j for j in album if j not in monas]\n",
    "    return(album)"
   ]
  },
  {
   "cell_type": "code",
   "execution_count": null,
   "metadata": {},
   "outputs": [],
   "source": [
    "# Forma eficiente (sin loops)\n",
    "def pegar_monas(album, monas):\n",
    "    album = list(set(album) - set(monas))\n",
    "    return(album)"
   ]
  },
  {
   "cell_type": "code",
   "execution_count": 63,
   "metadata": {},
   "outputs": [
    {
     "data": {
      "text/plain": [
       "[1, 2, 3, 4, 5]"
      ]
     },
     "execution_count": 63,
     "metadata": {},
     "output_type": "execute_result"
    }
   ],
   "source": [
    "# A modo de ejemplo, peguemos la mona 1\n",
    "\n",
    "# Primero veamos las primeras 5 monas que nos faltan pegar\n",
    "album_i[0:5]"
   ]
  },
  {
   "cell_type": "code",
   "execution_count": 64,
   "metadata": {},
   "outputs": [
    {
     "data": {
      "text/plain": [
       "[2, 3, 4, 5, 6]"
      ]
     },
     "execution_count": 64,
     "metadata": {},
     "output_type": "execute_result"
    }
   ],
   "source": [
    "# Peguemos la mona 1 veamos que sucede\n",
    "album_i = pegar_monas(album = album_i, monas = [1])\n",
    "album_i[0:5]"
   ]
  },
  {
   "cell_type": "code",
   "execution_count": 65,
   "metadata": {},
   "outputs": [
    {
     "data": {
      "text/plain": [
       "637"
      ]
     },
     "execution_count": 65,
     "metadata": {},
     "output_type": "execute_result"
    }
   ],
   "source": [
    "# Cuántas monas me faltan antes de pegar las laminas?\n",
    "len(album_i)"
   ]
  },
  {
   "cell_type": "code",
   "execution_count": 66,
   "metadata": {},
   "outputs": [],
   "source": [
    "album_i = pegar_monas(album = album_i, monas = sobre_j)"
   ]
  },
  {
   "cell_type": "code",
   "execution_count": 67,
   "metadata": {},
   "outputs": [
    {
     "data": {
      "text/plain": [
       "632"
      ]
     },
     "execution_count": 67,
     "metadata": {},
     "output_type": "execute_result"
    }
   ],
   "source": [
    "# Cuántas monas me faltan después de pegar las laminas?\n",
    "len(album_i)"
   ]
  },
  {
   "attachments": {},
   "cell_type": "markdown",
   "metadata": {},
   "source": [
    "Ahora tenemos todo para crear la simulación. Creemos una que consista en saber cuántos sobres necesitamos para llenar un album"
   ]
  },
  {
   "cell_type": "code",
   "execution_count": 68,
   "metadata": {},
   "outputs": [
    {
     "data": {
      "text/plain": [
       "1114"
      ]
     },
     "execution_count": 68,
     "metadata": {},
     "output_type": "execute_result"
    }
   ],
   "source": [
    "# Definimos condiciones iniciales\n",
    "album_i = estrenar_album()\n",
    "n_sobres = 0\n",
    "\n",
    "# Vamos a abrir sobres hasta que llenemos el album\n",
    "while len(album_i) > 0:\n",
    "    # Simulamos abrir un sobre\n",
    "    sobre_j = abrir_sobre()\n",
    "    # Simulamos pegar las laminas en el sobre\n",
    "    album_i = pegar_monas(album = album_i, monas = sobre_j)\n",
    "    # Llevamos el conteo de cuántos sobres llevamos\n",
    "    n_sobres += 1    \n",
    "\n",
    "# Tenemos que abrir\n",
    "n_sobres"
   ]
  },
  {
   "attachments": {},
   "cell_type": "markdown",
   "metadata": {},
   "source": [
    "Note que este valor cambia cada vez que corremos el código. Esto se da porque este proceso es aleatorio. Simulemos el proceso muchas veces para ver la distribución de nuestra variable objetivo y calculemos algunas probabilidades."
   ]
  },
  {
   "cell_type": "code",
   "execution_count": 69,
   "metadata": {},
   "outputs": [],
   "source": [
    "# Importamos el paquete tqdm para ver el progreso de nuestro loop\n",
    "from tqdm import tqdm"
   ]
  },
  {
   "cell_type": "code",
   "execution_count": 70,
   "metadata": {},
   "outputs": [
    {
     "name": "stderr",
     "output_type": "stream",
     "text": [
      "100%|██████████| 1000/1000 [04:06<00:00,  4.05it/s]\n"
     ]
    }
   ],
   "source": [
    "n_simulaciones = 1000\n",
    "\n",
    "simulaciones = []\n",
    "for s in tqdm(range(n_simulaciones)):\n",
    "    # Definimos condiciones iniciales\n",
    "    n_sobres = 0\n",
    "    album_i = estrenar_album()\n",
    "    # Vamos a abrir sobres hasta que llenemos el album\n",
    "    while len(album_i) > 0:\n",
    "        # Simulamos abrir un sobre\n",
    "        sobre_j = abrir_sobre()\n",
    "        # Simulamos pegar las laminas en el sobre\n",
    "        album_i = pegar_monas(album = album_i, monas = sobre_j)\n",
    "        # Llevamos el conteo de cuántos sobres llevamos\n",
    "        n_sobres += 1  \n",
    "    simulaciones.append(n_sobres)"
   ]
  },
  {
   "attachments": {},
   "cell_type": "markdown",
   "metadata": {},
   "source": [
    "Veamos la distribución de la cantidad de sobres necesarios para llenar el album. En próximas clases entraremos más en el detalle de como construir gráficas, por el momento no se preocupe mucho por el siguiente código."
   ]
  },
  {
   "cell_type": "code",
   "execution_count": 74,
   "metadata": {},
   "outputs": [
    {
     "data": {
      "text/plain": [
       "1000"
      ]
     },
     "execution_count": 74,
     "metadata": {},
     "output_type": "execute_result"
    }
   ],
   "source": [
    "len(simulaciones)"
   ]
  },
  {
   "cell_type": "code",
   "execution_count": 75,
   "metadata": {},
   "outputs": [
    {
     "data": {
      "text/plain": [
       "[899, 1258, 1246, 732, 1333]"
      ]
     },
     "execution_count": 75,
     "metadata": {},
     "output_type": "execute_result"
    }
   ],
   "source": [
    "simulaciones[0:5]"
   ]
  },
  {
   "cell_type": "code",
   "execution_count": 77,
   "metadata": {},
   "outputs": [
    {
     "data": {
      "text/plain": [
       "Text(0, 0.5, 'Cantidad')"
      ]
     },
     "execution_count": 77,
     "metadata": {},
     "output_type": "execute_result"
    },
    {
     "data": {
      "image/png": "[encoded data removed]",
      "text/plain": [
       "<Figure size 640x480 with 1 Axes>"
      ]
     },
     "metadata": {},
     "output_type": "display_data"
    }
   ],
   "source": [
    "import matplotlib.pyplot as plt\n",
    "\n",
    "plt.hist(simulaciones, bins = 30)\n",
    "plt.title('Simulación de abrir 1000 sobres', size = 12)\n",
    "plt.xlabel('Cantidad de sobres')\n",
    "plt.ylabel('Cantidad')"
   ]
  },
  {
   "attachments": {},
   "cell_type": "markdown",
   "metadata": {},
   "source": [
    "Ahora calculemos algunas estadísticas descriptivas"
   ]
  },
  {
   "cell_type": "code",
   "execution_count": 82,
   "metadata": {},
   "outputs": [
    {
     "data": {
      "text/plain": [
       "556"
      ]
     },
     "execution_count": 82,
     "metadata": {},
     "output_type": "execute_result"
    }
   ],
   "source": [
    "# En el mejor de los casos, mega improbable, se puede llenar el album con\n",
    "np.min(simulaciones)"
   ]
  },
  {
   "cell_type": "code",
   "execution_count": 78,
   "metadata": {},
   "outputs": [
    {
     "data": {
      "text/plain": [
       "908.693"
      ]
     },
     "execution_count": 78,
     "metadata": {},
     "output_type": "execute_result"
    }
   ],
   "source": [
    "# En promedio se necesita abrir 908 sobres para llenar el album\n",
    "np.mean(simulaciones)"
   ]
  },
  {
   "cell_type": "code",
   "execution_count": 84,
   "metadata": {},
   "outputs": [
    {
     "data": {
      "text/plain": [
       "1755"
      ]
     },
     "execution_count": 84,
     "metadata": {},
     "output_type": "execute_result"
    }
   ],
   "source": [
    "# El peor escenario es\n",
    "np.max(simulaciones)"
   ]
  },
  {
   "cell_type": "code",
   "execution_count": 80,
   "metadata": {},
   "outputs": [
    {
     "data": {
      "text/plain": [
       "161.46152715430387"
      ]
     },
     "execution_count": 80,
     "metadata": {},
     "output_type": "execute_result"
    }
   ],
   "source": [
    "# La desviación estándar es 161 sobres\n",
    "np.std(simulaciones)"
   ]
  },
  {
   "cell_type": "code",
   "execution_count": 90,
   "metadata": {},
   "outputs": [],
   "source": [
    "# Construyamos algunos intervalos de confianza en donde capturemos el 95% de los escenarios\n",
    "ic_inferior95 = np.percentile(simulaciones, 2.5)\n",
    "ic_superior95 = np.percentile(simulaciones, 97.5)\n",
    "ic_inferior50 = np.percentile(simulaciones, 25)\n",
    "ic_superior50 = np.percentile(simulaciones, 75)"
   ]
  },
  {
   "cell_type": "code",
   "execution_count": 92,
   "metadata": {},
   "outputs": [
    {
     "name": "stdout",
     "output_type": "stream",
     "text": [
      "Con un 95% de confianza podemos decir que se necesitan abrir entre 664.0 y 1312.0 sobres para llenar el album\n"
     ]
    }
   ],
   "source": [
    "print(\"Con un 95% de confianza podemos decir que se necesitan abrir entre\", np.round(ic_inferior95), \n",
    "      \"y\", np.round(ic_superior95), \"sobres para llenar el album\")"
   ]
  },
  {
   "cell_type": "code",
   "execution_count": 97,
   "metadata": {},
   "outputs": [
    {
     "name": "stdout",
     "output_type": "stream",
     "text": [
      "Tenemos un 50% de probabilidad de que tengamos que abrir al rededor de 887.5 sobres para llenar el album\n"
     ]
    }
   ],
   "source": [
    "print(\"Tenemos un 50% de probabilidad de que tengamos que abrir al rededor de\", np.median(simulaciones), \"sobres para llenar el album\")"
   ]
  },
  {
   "attachments": {},
   "cell_type": "markdown",
   "metadata": {},
   "source": [
    "Todo esto lo podemos visualizar mejor en una curva de probabilidad acumulada."
   ]
  },
  {
   "cell_type": "code",
   "execution_count": 103,
   "metadata": {},
   "outputs": [],
   "source": [
    "# empirical Cumulative Distribution Function\n",
    "def ecdf(simulaciones):\n",
    "    # Número de simulaciones\n",
    "    n = len(simulaciones)\n",
    "\n",
    "    # Ordenamos las simulaciones de menos sobres a mayor cantidad de sobres\n",
    "    x = np.sort(simulaciones)\n",
    "\n",
    "    # Calculamos probabilidades\n",
    "    y = []\n",
    "    for i in x:\n",
    "        y_i = np.mean([j < i for j in x])\n",
    "        y.append(y_i)\n",
    "    y = np.array(y)\n",
    "    \n",
    "    return x, y"
   ]
  },
  {
   "cell_type": "code",
   "execution_count": 105,
   "metadata": {},
   "outputs": [],
   "source": [
    "x_norm, y_norm = ecdf(simulaciones)"
   ]
  },
  {
   "cell_type": "code",
   "execution_count": 109,
   "metadata": {},
   "outputs": [
    {
     "data": {
      "image/png": "[encoded data removed]",
      "text/plain": [
       "<Figure size 640x480 with 1 Axes>"
      ]
     },
     "metadata": {},
     "output_type": "display_data"
    }
   ],
   "source": [
    "plt.plot(x_norm, y_norm)\n",
    "plt.title('Función de Probabilidad Acumulada Empírica', size = 12);\n",
    "plt.xlabel('Número de paquetes abiertos');\n",
    "plt.ylabel('Probabilidad acumulada');"
   ]
  }
 ],
 "metadata": {
  "kernelspec": {
   "display_name": "base",
   "language": "python",
   "name": "python3"
  },
  "language_info": {
   "codemirror_mode": {
    "name": "ipython",
    "version": 3
   },
   "file_extension": ".py",
   "mimetype": "text/x-python",
   "name": "python",
   "nbconvert_exporter": "python",
   "pygments_lexer": "ipython3",
   "version": "3.9.13"
  },
  "orig_nbformat": 4
 },
 "nbformat": 4,
 "nbformat_minor": 2
}
