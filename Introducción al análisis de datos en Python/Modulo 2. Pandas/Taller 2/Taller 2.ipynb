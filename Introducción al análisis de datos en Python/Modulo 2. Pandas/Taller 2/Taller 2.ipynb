{
 "cells": [
  {
   "cell_type": "markdown",
   "metadata": {},
   "source": [
    "# Taller 2\n",
    "\n",
    "## Instrucciones generales\n",
    "\n",
    "1. Para desarrollar el *cuaderno* primero debe descargarlo.\n",
    "\n",
    "2. Para responder cada inciso deberá utilizar el espacio debidamente especificado.\n",
    "\n",
    "3. La actividad se considera entregada para calificación cuando el *cuaderno* de jupyter notebook con extensión `.ipynb` se sube al espacio correspondiente en el aula de Bloque Neón. Ningún material adicional será revisado.\n",
    "\n",
    "4. La solución del taller debe ser realizado en las mismas **parejas** con las que realizó el Taller 1. No se aceptaran talleres de individuales. En caso de no tener un equipo asignado, informar al equipo docente.\n",
    "\n",
    "5. El cuaderno debe poderse correr sin errores al momento de evaluar.\n",
    "\n",
    "## Criterios de evaluación.\n",
    "Estos pueden ser consultados con más detalle en la rúbrica presente en Bloque Neón. A grandes rasgos, en cada uno de los incisos se evaluará su solución y se espera que sea igual a la estipulada en el enunciado. Adicionalmente, su calificación podrá ser penalizada por los siguientes items:\n",
    "\n",
    "- Falta de seguimiento de las instrucciones.\n",
    "- Código no-human readable. \n",
    "- Falta de una debida explicación y comentarios al código.\n",
    "\n",
    "A continuación se listan los puntajes máximos para cada punto:\n",
    "| **Punto** | **Puntaje Máximo** |\n",
    "|:---------:|:------------------:|\n",
    "|    1.1    |         1.0        |\n",
    "|    1.2    |         1.5        |\n",
    "|     2     |         2.5        |\n",
    "\n",
    "Cada uno de los subnumerales del punto 2 vale lo mismo.\n",
    "\n",
    "Este Taller evalúa los tópicos de la semana 4 a la 8 y tiene el valor de un 20% en su calificación final."
   ]
  },
  {
   "cell_type": "markdown",
   "metadata": {},
   "source": [
    "## Punto 1\n",
    "Su trabajo es resolver el siguiente rompecabezas.\n",
    "\n",
    "<center>\n",
    "<img src=\"https://cdn.kastatic.org/ka-perseus-images/5b5fb2670c9a185b2666637461e40c805fcc9ea5.png\">\n",
    "</center>\n",
    "\n",
    "Usted tiene tres postes y un número de discos $N$ de diferentes tamaños que pueden deslizarse en cualquier poste. El rompecabezas comienza con los discos apilados de manera cónica en un poste, con el disco más grande en la parte inferior y el más pequeño en la parte superior. \n",
    "\n",
    "El objetivo del juego es mover toda la pila a otro poste, siguiendo estas simples reglas:\n",
    "\n",
    "1. Solo se puede mover un disco a la vez.\n",
    "2. Cada movimiento consiste en tomar el disco superior de una de las pilas y colocarlo en la parte superior de otra pila.\n",
    "3. No se puede colocar un disco más grande encima de un disco más pequeño.\n",
    "\n",
    "En internet puede encontrar el juego de forma interactiva [aquí](https://www.mathplayground.com/logic_tower_of_hanoi.html)"
   ]
  },
  {
   "cell_type": "markdown",
   "metadata": {},
   "source": [
    "> Para la solución de este ejercicio, vamos a hacer uso de las funciones del archivo `utils.py` de esta misma carpeta. A continuación se le mostrará como funciona el código que hará su trabajo más sencillo."
   ]
  },
  {
   "cell_type": "code",
   "execution_count": 1,
   "metadata": {},
   "outputs": [
    {
     "data": {
      "text/plain": [
       "{'A': [3, 2, 1], 'B': [], 'C': []}"
      ]
     },
     "execution_count": 1,
     "metadata": {},
     "output_type": "execute_result"
    }
   ],
   "source": [
    "# No es necesario modificar este código\n",
    "\n",
    "# Vamos a importar unas funciones auxiliares que se encuentran en utils.py y van a ayudar a solucionar el taller \n",
    "from utils import movimiento, dibujar_torres\n",
    "\n",
    "# El disco 3 es el más grande y la base de la torre. El disco dos es el mediano y el 1 está en el tope de la torre.\n",
    "N = 3\n",
    "\n",
    "posiciones_iniciales = {\n",
    "    \"A\": [3, 2, 1],\n",
    "    \"B\": [],\n",
    "    \"C\": []\n",
    "}\n",
    "\n",
    "posiciones_iniciales"
   ]
  },
  {
   "cell_type": "code",
   "execution_count": 2,
   "metadata": {},
   "outputs": [
    {
     "data": {
      "image/png": "[encoded data removed]",
      "text/plain": [
       "<Figure size 800x200 with 1 Axes>"
      ]
     },
     "metadata": {},
     "output_type": "display_data"
    }
   ],
   "source": [
    "# Dibujar las posiciones iniciales\n",
    "dibujar_torres(posiciones_iniciales, titulo = 'Posiciones Iniciales')"
   ]
  },
  {
   "cell_type": "code",
   "execution_count": 3,
   "metadata": {},
   "outputs": [
    {
     "data": {
      "text/plain": [
       "{'A': [3, 2], 'B': [], 'C': [1]}"
      ]
     },
     "execution_count": 3,
     "metadata": {},
     "output_type": "execute_result"
    }
   ],
   "source": [
    "# Utilizamos la función movimiento para mover la ficha 1 del poste A hacia C\n",
    "posiciones_finales = movimiento(posiciones_iniciales, ('A', 'C', 1))\n",
    "posiciones_finales"
   ]
  },
  {
   "cell_type": "code",
   "execution_count": 4,
   "metadata": {},
   "outputs": [
    {
     "data": {
      "image/png": "[encoded data removed]",
      "text/plain": [
       "<Figure size 800x200 with 1 Axes>"
      ]
     },
     "metadata": {},
     "output_type": "display_data"
    }
   ],
   "source": [
    "# Dibujar las posiciones finales (asegúrate de tener posiciones_finales actualizadas)\n",
    "dibujar_torres(posiciones_finales, titulo = 'Posiciones Finales')"
   ]
  },
  {
   "cell_type": "markdown",
   "metadata": {},
   "source": [
    "Note que en el ejemplo anterior se utilizaron dos funciones:\n",
    "\n",
    "- `movimiento(posiciones_iniciales, movimiento)`: Esta función recibe dos argumentos: \n",
    "    (i) `posiciones_iniciales` que es un diccionario donde se especifica para cada poste, la lista de discos apilada en él. Cada lista de discos va desde el objeto que está en la base hasta el objeto que va en la cima.\n",
    "    (ii) `movimiento` que es una tupla de tres elementos `(poste_inicial, poste_final, disco)`. Esta tupla específica que `disco` se va a remover del `poste_inicial` y en qué `poste_final` se va a ubicar.\n",
    "- `dibujar_torres(posiciones, titulo)`: Esta función gráfica el estado del juego para unas `posiciones` dadas en el formato de tupla descrito anteriormente. Además se le puede poner un título al gráfico."
   ]
  },
  {
   "cell_type": "code",
   "execution_count": 5,
   "metadata": {},
   "outputs": [
    {
     "ename": "MovimientoInvalidoError",
     "evalue": "Movimiento invalido. El disco 2 no está en la cima del poste A.",
     "output_type": "error",
     "traceback": [
      "\u001b[1;31m---------------------------------------------------------------------------\u001b[0m",
      "\u001b[1;31mMovimientoInvalidoError\u001b[0m                   Traceback (most recent call last)",
      "Cell \u001b[1;32mIn[5], line 9\u001b[0m\n\u001b[0;32m      2\u001b[0m posiciones_iniciales \u001b[38;5;241m=\u001b[39m {\n\u001b[0;32m      3\u001b[0m     \u001b[38;5;124m\"\u001b[39m\u001b[38;5;124mA\u001b[39m\u001b[38;5;124m\"\u001b[39m: [\u001b[38;5;241m3\u001b[39m, \u001b[38;5;241m2\u001b[39m, \u001b[38;5;241m1\u001b[39m],\n\u001b[0;32m      4\u001b[0m     \u001b[38;5;124m\"\u001b[39m\u001b[38;5;124mB\u001b[39m\u001b[38;5;124m\"\u001b[39m: [],\n\u001b[0;32m      5\u001b[0m     \u001b[38;5;124m\"\u001b[39m\u001b[38;5;124mC\u001b[39m\u001b[38;5;124m\"\u001b[39m: []\n\u001b[0;32m      6\u001b[0m }\n\u001b[0;32m      8\u001b[0m \u001b[38;5;66;03m# En este caso no puedo remover el disco 2 del poste A porque no es el disco de la cima.\u001b[39;00m\n\u001b[1;32m----> 9\u001b[0m \u001b[43mmovimiento\u001b[49m\u001b[43m(\u001b[49m\u001b[43mposiciones_iniciales\u001b[49m\u001b[43m,\u001b[49m\u001b[43m \u001b[49m\u001b[43m(\u001b[49m\u001b[38;5;124;43m'\u001b[39;49m\u001b[38;5;124;43mA\u001b[39;49m\u001b[38;5;124;43m'\u001b[39;49m\u001b[43m,\u001b[49m\u001b[43m \u001b[49m\u001b[38;5;124;43m'\u001b[39;49m\u001b[38;5;124;43mC\u001b[39;49m\u001b[38;5;124;43m'\u001b[39;49m\u001b[43m,\u001b[49m\u001b[43m \u001b[49m\u001b[38;5;241;43m2\u001b[39;49m\u001b[43m)\u001b[49m\u001b[43m)\u001b[49m\n",
      "File \u001b[1;32mc:\\Users\\Lucas\\OneDrive - Universidad de los Andes\\Complementarias\\Proyectos de analítica en Python\\Intro_Python\\Introducción al Análisis de Datos en Python\\Modulo 2. Pandas\\Taller 2\\utils.py:30\u001b[0m, in \u001b[0;36mmovimiento\u001b[1;34m(posiciones_iniciales, movimiento)\u001b[0m\n\u001b[0;32m     28\u001b[0m         \u001b[38;5;28;01mraise\u001b[39;00m MovimientoInvalidoError(\u001b[38;5;124mf\u001b[39m\u001b[38;5;124m\"\u001b[39m\u001b[38;5;124mMovimiento invalido. El disco \u001b[39m\u001b[38;5;132;01m{\u001b[39;00mdisco\u001b[38;5;132;01m}\u001b[39;00m\u001b[38;5;124m es más grande que el disco \u001b[39m\u001b[38;5;132;01m{\u001b[39;00mdisco_superior_final\u001b[38;5;132;01m}\u001b[39;00m\u001b[38;5;124m que está en la cima del poste \u001b[39m\u001b[38;5;132;01m{\u001b[39;00mposte_final\u001b[38;5;132;01m}\u001b[39;00m\u001b[38;5;124m.\u001b[39m\u001b[38;5;124m\"\u001b[39m)\n\u001b[0;32m     29\u001b[0m \u001b[38;5;28;01melse\u001b[39;00m:\n\u001b[1;32m---> 30\u001b[0m     \u001b[38;5;28;01mraise\u001b[39;00m MovimientoInvalidoError(\u001b[38;5;124mf\u001b[39m\u001b[38;5;124m\"\u001b[39m\u001b[38;5;124mMovimiento invalido. El disco \u001b[39m\u001b[38;5;132;01m{\u001b[39;00mdisco\u001b[38;5;132;01m}\u001b[39;00m\u001b[38;5;124m no está en la cima del poste \u001b[39m\u001b[38;5;132;01m{\u001b[39;00mposte_inicial\u001b[38;5;132;01m}\u001b[39;00m\u001b[38;5;124m.\u001b[39m\u001b[38;5;124m\"\u001b[39m)\n",
      "\u001b[1;31mMovimientoInvalidoError\u001b[0m: Movimiento invalido. El disco 2 no está en la cima del poste A."
     ]
    }
   ],
   "source": [
    "# Note que en caso de tratar de hacer un movimiento no permitido, la función arrojará un error y su debida explicación.\n",
    "posiciones_iniciales = {\n",
    "    \"A\": [3, 2, 1],\n",
    "    \"B\": [],\n",
    "    \"C\": []\n",
    "}\n",
    "\n",
    "# En este caso no puedo remover el disco 2 del poste A porque no es el disco de la cima.\n",
    "movimiento(posiciones_iniciales, ('A', 'C', 2))"
   ]
  },
  {
   "cell_type": "code",
   "execution_count": 14,
   "metadata": {},
   "outputs": [
    {
     "ename": "MovimientoInvalidoError",
     "evalue": "Movimiento invalido. El disco 2 es más grande que el disco 1 que está en la cima del poste C.",
     "output_type": "error",
     "traceback": [
      "\u001b[1;31m---------------------------------------------------------------------------\u001b[0m",
      "\u001b[1;31mMovimientoInvalidoError\u001b[0m                   Traceback (most recent call last)",
      "Cell \u001b[1;32mIn[14], line 3\u001b[0m\n\u001b[0;32m      1\u001b[0m \u001b[38;5;66;03m# Este otro error muestra que si tomamos el Disco 2, no lo podemos poner sobre el Disco 1\u001b[39;00m\n\u001b[0;32m      2\u001b[0m posiciones_iniciales \u001b[38;5;241m=\u001b[39m {\u001b[38;5;124m'\u001b[39m\u001b[38;5;124mA\u001b[39m\u001b[38;5;124m'\u001b[39m: [\u001b[38;5;241m3\u001b[39m, \u001b[38;5;241m2\u001b[39m], \u001b[38;5;124m'\u001b[39m\u001b[38;5;124mB\u001b[39m\u001b[38;5;124m'\u001b[39m: [], \u001b[38;5;124m'\u001b[39m\u001b[38;5;124mC\u001b[39m\u001b[38;5;124m'\u001b[39m: [\u001b[38;5;241m1\u001b[39m]} \n\u001b[1;32m----> 3\u001b[0m \u001b[43mmovimiento\u001b[49m\u001b[43m(\u001b[49m\u001b[43mposiciones_iniciales\u001b[49m\u001b[43m,\u001b[49m\u001b[43m \u001b[49m\u001b[43m(\u001b[49m\u001b[38;5;124;43m'\u001b[39;49m\u001b[38;5;124;43mA\u001b[39;49m\u001b[38;5;124;43m'\u001b[39;49m\u001b[43m,\u001b[49m\u001b[43m \u001b[49m\u001b[38;5;124;43m'\u001b[39;49m\u001b[38;5;124;43mC\u001b[39;49m\u001b[38;5;124;43m'\u001b[39;49m\u001b[43m,\u001b[49m\u001b[43m \u001b[49m\u001b[38;5;241;43m2\u001b[39;49m\u001b[43m)\u001b[49m\u001b[43m)\u001b[49m\n",
      "File \u001b[1;32mc:\\Users\\Lucas\\OneDrive - Universidad de los Andes\\Complementarias\\Proyectos de analítica en Python\\Intro_Python\\Introducción al Análisis de Datos en Python\\Modulo 2. Pandas\\Taller 2\\utils.py:28\u001b[0m, in \u001b[0;36mmovimiento\u001b[1;34m(posiciones_iniciales, movimiento)\u001b[0m\n\u001b[0;32m     26\u001b[0m         \u001b[38;5;28;01mreturn\u001b[39;00m posiciones_finales\n\u001b[0;32m     27\u001b[0m     \u001b[38;5;28;01melse\u001b[39;00m:\n\u001b[1;32m---> 28\u001b[0m         \u001b[38;5;28;01mraise\u001b[39;00m MovimientoInvalidoError(\u001b[38;5;124mf\u001b[39m\u001b[38;5;124m\"\u001b[39m\u001b[38;5;124mMovimiento invalido. El disco \u001b[39m\u001b[38;5;132;01m{\u001b[39;00mdisco\u001b[38;5;132;01m}\u001b[39;00m\u001b[38;5;124m es más grande que el disco \u001b[39m\u001b[38;5;132;01m{\u001b[39;00mdisco_superior_final\u001b[38;5;132;01m}\u001b[39;00m\u001b[38;5;124m que está en la cima del poste \u001b[39m\u001b[38;5;132;01m{\u001b[39;00mposte_final\u001b[38;5;132;01m}\u001b[39;00m\u001b[38;5;124m.\u001b[39m\u001b[38;5;124m\"\u001b[39m)\n\u001b[0;32m     29\u001b[0m \u001b[38;5;28;01melse\u001b[39;00m:\n\u001b[0;32m     30\u001b[0m     \u001b[38;5;28;01mraise\u001b[39;00m MovimientoInvalidoError(\u001b[38;5;124mf\u001b[39m\u001b[38;5;124m\"\u001b[39m\u001b[38;5;124mMovimiento invalido. El disco \u001b[39m\u001b[38;5;132;01m{\u001b[39;00mdisco\u001b[38;5;132;01m}\u001b[39;00m\u001b[38;5;124m no está en la cima del poste \u001b[39m\u001b[38;5;132;01m{\u001b[39;00mposte_inicial\u001b[38;5;132;01m}\u001b[39;00m\u001b[38;5;124m.\u001b[39m\u001b[38;5;124m\"\u001b[39m)\n",
      "\u001b[1;31mMovimientoInvalidoError\u001b[0m: Movimiento invalido. El disco 2 es más grande que el disco 1 que está en la cima del poste C."
     ]
    }
   ],
   "source": [
    "# Este otro error muestra que si tomamos el Disco 2, no lo podemos poner sobre el Disco 1\n",
    "posiciones_iniciales = {'A': [3, 2], 'B': [], 'C': [1]} \n",
    "movimiento(posiciones_iniciales, ('A', 'C', 2))"
   ]
  },
  {
   "cell_type": "markdown",
   "metadata": {},
   "source": [
    "Habiendo entendido este problema y las funciones que tiene para resolverlo, resuelva los siguientes dos puntos:"
   ]
  },
  {
   "cell_type": "markdown",
   "metadata": {},
   "source": [
    "### 1.1. Caso base.\n",
    "Suponga que $N = 3$. \n",
    "\n",
    "<center>\n",
    "<img src=\"https://media.geeksforgeeks.org/wp-content/uploads/tower-of-hanoi.png\">\n",
    "</center>"
   ]
  },
  {
   "cell_type": "markdown",
   "metadata": {},
   "source": [
    "Cree una secuencia de tuplas que digan la secuencia de movimientos que llevan la Torre del poste A al C cumpliendo con todas las reglas del enunciado.\n",
    "\n",
    "Las tuplas deben seguir el siguiente formato `(poste inicial, poste final, disco)`. Por ejemplo, llevar el disco 1 del poste A al C (tal como se muestra en la figura de arriba) sería `(\"A\", \"C\", 1)`.\n",
    "\n",
    "La siguiente función recibirá una lista de movimientos (tuplas) y ejecutará los movimientos. Esta lanzará un mensaje en caso de hacer algún movimiento no permitido.\n",
    "\n",
    "La respuesta esperada debe ser algo del siguiente estilo:\n",
    "\n",
    "```python\n",
    "respuesta = [(\"A\", \"C\", 1), (\"A\", \"B\", 2), ...]\n",
    "```"
   ]
  },
  {
   "cell_type": "code",
   "execution_count": 6,
   "metadata": {},
   "outputs": [],
   "source": [
    "posiciones_iniciales = {\n",
    "    \"A\": [3, 2, 1],\n",
    "    \"B\": [],\n",
    "    \"C\": []\n",
    "}"
   ]
  },
  {
   "cell_type": "code",
   "execution_count": 12,
   "metadata": {},
   "outputs": [],
   "source": [
    "# Complete esta línea correctamente\n",
    "respuesta = [(), ()]"
   ]
  },
  {
   "cell_type": "code",
   "execution_count": 13,
   "metadata": {},
   "outputs": [
    {
     "data": {
      "image/png": "[encoded data removed]",
      "text/plain": [
       "<Figure size 800x200 with 1 Axes>"
      ]
     },
     "metadata": {},
     "output_type": "display_data"
    },
    {
     "data": {
      "image/png": "[encoded data removed]",
      "text/plain": [
       "<Figure size 800x200 with 1 Axes>"
      ]
     },
     "metadata": {},
     "output_type": "display_data"
    },
    {
     "data": {
      "image/png": "[encoded data removed]",
      "text/plain": [
       "<Figure size 800x200 with 1 Axes>"
      ]
     },
     "metadata": {},
     "output_type": "display_data"
    },
    {
     "data": {
      "image/png": "[encoded data removed]",
      "text/plain": [
       "<Figure size 800x200 with 1 Axes>"
      ]
     },
     "metadata": {},
     "output_type": "display_data"
    },
    {
     "data": {
      "image/png": "[encoded data removed]",
      "text/plain": [
       "<Figure size 800x200 with 1 Axes>"
      ]
     },
     "metadata": {},
     "output_type": "display_data"
    },
    {
     "data": {
      "image/png": "[encoded data removed]",
      "text/plain": [
       "<Figure size 800x200 with 1 Axes>"
      ]
     },
     "metadata": {},
     "output_type": "display_data"
    },
    {
     "data": {
      "image/png": "[encoded data removed]",
      "text/plain": [
       "<Figure size 800x200 with 1 Axes>"
      ]
     },
     "metadata": {},
     "output_type": "display_data"
    },
    {
     "data": {
      "image/png": "[encoded data removed]",
      "text/plain": [
       "<Figure size 800x200 with 1 Axes>"
      ]
     },
     "metadata": {},
     "output_type": "display_data"
    }
   ],
   "source": [
    "posiciones = posiciones_iniciales\n",
    "for m in respuesta:\n",
    "    dibujar_torres(posiciones, titulo = None)\n",
    "    posiciones = movimiento(posiciones_iniciales = posiciones, movimiento = m)\n",
    "dibujar_torres(posiciones, titulo = None)"
   ]
  },
  {
   "cell_type": "markdown",
   "metadata": {},
   "source": [
    "### 1.2. Caso base con función.\n",
    "Cree una función que le ayude a encontrar la lista de movimientos para solucionar el problema con la menor cantidad de movimientos posible. Esta función debe servir para generalizar la solución para cualquier $N$ entero positivo. \n",
    "\n",
    "> Hint: Se recomienda usar recursividad"
   ]
  },
  {
   "cell_type": "code",
   "execution_count": null,
   "metadata": {},
   "outputs": [],
   "source": []
  },
  {
   "cell_type": "code",
   "execution_count": null,
   "metadata": {},
   "outputs": [],
   "source": []
  },
  {
   "cell_type": "markdown",
   "metadata": {},
   "source": [
    "## Punto 2. Pandas"
   ]
  },
  {
   "cell_type": "markdown",
   "metadata": {},
   "source": [
    "En este punto va a explorar diferentes bases de datos con Pandas."
   ]
  },
  {
   "cell_type": "markdown",
   "metadata": {},
   "source": [
    "1. Importe el archivo `player_data.csv` y visualice las primeras 5 filas."
   ]
  },
  {
   "cell_type": "code",
   "execution_count": null,
   "metadata": {},
   "outputs": [],
   "source": []
  },
  {
   "cell_type": "markdown",
   "metadata": {},
   "source": [
    "2. Calcule el número de jugadores con una altura (`height`) entre 180 y 190 inclusivos."
   ]
  },
  {
   "cell_type": "code",
   "execution_count": null,
   "metadata": {},
   "outputs": [],
   "source": []
  },
  {
   "cell_type": "markdown",
   "metadata": {},
   "source": [
    "3. Calcule el número de jugadores que nacieron en el año 1980."
   ]
  },
  {
   "cell_type": "code",
   "execution_count": null,
   "metadata": {},
   "outputs": [],
   "source": []
  },
  {
   "cell_type": "markdown",
   "metadata": {},
   "source": [
    "4. Muestra el top 10 de los jugadores con mayor peso (`weight`) en orden descendente. En caso de que tenga más de un jugador con el mismo peso, ordenelos en orden alfabético por el nombre."
   ]
  },
  {
   "cell_type": "code",
   "execution_count": null,
   "metadata": {},
   "outputs": [],
   "source": []
  },
  {
   "cell_type": "markdown",
   "metadata": {},
   "source": [
    "5. Cree una lista de `tuplas` que contenga el número de jugadores que nacen cada año desde el año 1980 hasta 1990.\n",
    "\n",
    "La estructura debe verse de la siguiente forma \n",
    "```python\n",
    "[(1980, 123), (1981, 140) ..., (1990, 83)]\n",
    "```\n",
    "\n",
    "En este ejemplo con números inventados significaría que hay 123 jugadores nacidos en 1980, 140 en 1981, etc."
   ]
  },
  {
   "cell_type": "code",
   "execution_count": null,
   "metadata": {},
   "outputs": [],
   "source": []
  },
  {
   "cell_type": "markdown",
   "metadata": {},
   "source": [
    "6. Calcula la media y la desviación estándar del peso (`weight`) y la talla (`height`) de los jugadores llamados Adriano."
   ]
  },
  {
   "cell_type": "code",
   "execution_count": null,
   "metadata": {},
   "outputs": [],
   "source": []
  },
  {
   "cell_type": "markdown",
   "metadata": {},
   "source": [
    "7. ¿Cuántos jugadores nacieron en cada día de la semana? No se le olvide poner el nombre del día. ¿Cuál es el día con menos nacimientos?"
   ]
  },
  {
   "cell_type": "code",
   "execution_count": null,
   "metadata": {},
   "outputs": [],
   "source": []
  },
  {
   "cell_type": "markdown",
   "metadata": {},
   "source": [
    "8. Importe la base `league_data.csv` `match_data.csv` y utilícelas para encontrar la liga que jugó más partidos."
   ]
  },
  {
   "cell_type": "code",
   "execution_count": null,
   "metadata": {},
   "outputs": [],
   "source": []
  },
  {
   "cell_type": "markdown",
   "metadata": {},
   "source": [
    "9. Encuentre el jugador que más partidos ha jugado para los datos que tenemos\n",
    "\n",
    "> Hint: Busque las columnas que tengan los `ids` de los jugadores que estuvieron en el partido. En caso de que esta columna tenga muchos NAs, ignore esas celdas y trabaje con el restante."
   ]
  },
  {
   "cell_type": "code",
   "execution_count": null,
   "metadata": {},
   "outputs": [],
   "source": []
  },
  {
   "cell_type": "markdown",
   "metadata": {},
   "source": [
    "10. Importe `player_attributes.csv` y calcule la correlación entre los atributos de los jugadores utilizando el método [dataframe.corr()](https://pandas.pydata.org/docs/reference/api/pandas.DataFrame.corr.html) de pandas. Encuentre las 5 correlaciones más altas y las 5 más bajas.\n",
    "\n",
    "Recuerde tener en cuenta solo variables relevantes para este análisis, i.e. numéricas y continuas."
   ]
  },
  {
   "cell_type": "code",
   "execution_count": 33,
   "metadata": {},
   "outputs": [],
   "source": []
  }
 ],
 "metadata": {
  "kernelspec": {
   "display_name": "base",
   "language": "python",
   "name": "python3"
  },
  "language_info": {
   "codemirror_mode": {
    "name": "ipython",
    "version": 3
   },
   "file_extension": ".py",
   "mimetype": "text/x-python",
   "name": "python",
   "nbconvert_exporter": "python",
   "pygments_lexer": "ipython3",
   "version": "3.9.18"
  }
 },
 "nbformat": 4,
 "nbformat_minor": 2
}
