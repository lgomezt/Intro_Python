{
 "cells": [
  {
   "cell_type": "markdown",
   "metadata": {},
   "source": [
    "# Ejercicios 3. Recursividad\n",
    "\n",
    "## Introducción\n",
    "Su trabajo es resolver el siguiente rompecabezas.\n",
    "\n",
    "<center>\n",
    "<img src=\"https://cdn.kastatic.org/ka-perseus-images/5b5fb2670c9a185b2666637461e40c805fcc9ea5.png\">\n",
    "</center>\n",
    "\n",
    "Usted tiene tres postes y un número de discos $N$ de diferentes tamaños que pueden deslizarse en cualquier poste. El rompecabezas comienza con los discos apilados de manera cónica en un poste, con el disco más grande en la parte inferior y el más pequeño en la parte superior. \n",
    "\n",
    "El objetivo del juego es mover toda la pila a otro poste, siguiendo estas simples reglas:\n",
    "\n",
    "1. Solo se puede mover un disco a la vez.\n",
    "2. Cada movimiento consiste en tomar el disco superior de una de las pilas y colocarlo en la parte superior de otra pila.\n",
    "3. No se puede colocar un disco más grande encima de un disco más pequeño.\n",
    "\n",
    "En internet puede encontrar el juego de forma interactiva [aquí](https://www.mathplayground.com/logic_tower_of_hanoi.html)"
   ]
  },
  {
   "cell_type": "markdown",
   "metadata": {},
   "source": [
    "### 1. Caso base.\n",
    "Suponga que $N = 3$. \n",
    "\n",
    "<center>\n",
    "<img src=\"https://media.geeksforgeeks.org/wp-content/uploads/tower-of-hanoi.png\">\n",
    "</center>"
   ]
  },
  {
   "cell_type": "code",
   "execution_count": 154,
   "metadata": {},
   "outputs": [],
   "source": [
    "# El disco 3 es el más grande y la base de la torre. El disco dos es el mediano y el 1 está en el tope de la torre.\n",
    "N = 3\n",
    "\n",
    "posiciones_iniciales = {\n",
    "    \"A\": list(range(N, 0, -1)),\n",
    "    \"B\": [],\n",
    "    \"C\": []\n",
    "}"
   ]
  },
  {
   "cell_type": "markdown",
   "metadata": {},
   "source": [
    "Cree una secuencia de tuplas que digan la secuencia de movimientos que llevan la Torre del poste A al C cumpliendo con todas las reglas del enunciado.\n",
    "\n",
    "Las tuplas deben seguir el siguiente formato `(poste inicial, poste final, disco)`. Por ejemplo, llevar el disco 1 del poste A al C (tal como se muestra en la figura de arriba) sería `(A, C, 1)`.\n",
    "\n",
    "La siguiente función recibirá una lista de movimientos (tuplas) y ejecutará los movimientos. Está lanzará un mensaje en caso de hacer algún movimiento no permitido."
   ]
  },
  {
   "cell_type": "code",
   "execution_count": 169,
   "metadata": {},
   "outputs": [],
   "source": [
    "import copy\n",
    "import matplotlib.pyplot as plt\n",
    "import numpy as np\n",
    "\n",
    "class MovimientoInvalidoError(Exception):\n",
    "    pass\n",
    "\n",
    "def movimiento(posiciones_iniciales, movimiento):\n",
    "    poste_inicial = movimiento[0]\n",
    "    poste_final = movimiento[1]\n",
    "    disco = movimiento[2]\n",
    "    \n",
    "    postes = posiciones_iniciales.keys()\n",
    "    discos_superiores = [i[-1] if len(i) > 0 else 0 for i in posiciones_iniciales.values()]\n",
    "    discos_superiores = dict(zip(postes, discos_superiores))\n",
    "\n",
    "    disco_superior_inicial = discos_superiores[poste_inicial]\n",
    "    disco_superior_final = discos_superiores[poste_final]\n",
    "\n",
    "    if disco == disco_superior_inicial:\n",
    "        if disco_superior_final < disco_superior_inicial:\n",
    "            # Hacer una copia profunda para evitar modificar el original\n",
    "            posiciones_finales = copy.deepcopy(posiciones_iniciales)\n",
    "            posiciones_finales[poste_inicial].remove(disco)\n",
    "            posiciones_finales[poste_final].append(disco)\n",
    "            return posiciones_finales\n",
    "        else:\n",
    "            raise MovimientoInvalidoError(f\"Movimiento invalido. El disco {disco} es más grande que el disco {disco_superior_final} que está en la cima del poste {poste_final}.\")\n",
    "    else:\n",
    "        raise MovimientoInvalidoError(f\"Movimiento invalido. El disco {disco} no está en la cima del poste {poste_inicial}.\")\n",
    "\n",
    "def dibujar_torres(posiciones, titulo = 'Torre de Hanoi'):\n",
    "    altura = np.max([np.max(i) if len(i) > 0 else 0 for i in posiciones.values()]) - 1\n",
    "    fig, ax = plt.subplots(figsize = (8, altura))\n",
    "    ax.set_title(titulo)\n",
    "    \n",
    "    # Definir los postes y el espacio entre ellos\n",
    "    postes = list(posiciones.keys())\n",
    "    espacio_postes = np.linspace(1, len(postes)*2, len(postes))\n",
    "    \n",
    "    # Altura y anchura de los discos\n",
    "    altura_disco = 0.4\n",
    "    max_disco_width = 1.5\n",
    "    \n",
    "    for i, poste in enumerate(postes):\n",
    "        discos = posiciones[poste]\n",
    "        # Etiqueta del poste\n",
    "        ax.text(espacio_postes[i], -0.5, f'Poste {poste}', ha='center')\n",
    "        for j, disco in enumerate(discos):\n",
    "            # Calcular el ancho del disco basado en su valor\n",
    "            disco_width = max_disco_width * (disco / max(max(discos), 1)) if discos else 0.1\n",
    "            bar = ax.bar(espacio_postes[i], altura_disco, width=disco_width, bottom=j*altura_disco, color='skyblue', edgecolor='black')\n",
    "            # Etiqueta del disco\n",
    "            ax.text(espacio_postes[i], j*altura_disco + altura_disco/2, f'Disco {disco}', ha='center', va='center')\n",
    "        \n",
    "        # Dibujar el poste\n",
    "        ax.plot([espacio_postes[i], espacio_postes[i]], [0, len(discos)*altura_disco], color='saddlebrown', linewidth=2)\n",
    "\n",
    "    ax.set_ylim(0, altura)\n",
    "    ax.get_xaxis().set_visible(False)\n",
    "    ax.get_yaxis().set_visible(False)\n",
    "    ax.set_frame_on(False)"
   ]
  },
  {
   "cell_type": "code",
   "execution_count": 170,
   "metadata": {},
   "outputs": [
    {
     "data": {
      "image/png": "[encoded data removed]",
      "text/plain": [
       "<Figure size 800x200 with 1 Axes>"
      ]
     },
     "metadata": {},
     "output_type": "display_data"
    },
    {
     "data": {
      "image/png": "[encoded data removed]",
      "text/plain": [
       "<Figure size 800x200 with 1 Axes>"
      ]
     },
     "metadata": {},
     "output_type": "display_data"
    }
   ],
   "source": [
    "# Ejemplo de uso\n",
    "N = 3\n",
    "posiciones_iniciales = {\"A\": list(range(N, 0, -1)), \"B\": [], \"C\": []}\n",
    "posiciones_finales = movimiento(posiciones_iniciales, ('A', 'C', 1))\n",
    "\n",
    "# Dibujar las posiciones iniciales\n",
    "dibujar_torres(posiciones_iniciales, titulo='Posiciones Iniciales')\n",
    "# Dibujar las posiciones finales (asegúrate de tener posiciones_finales actualizadas)\n",
    "dibujar_torres(posiciones_finales, titulo='Posiciones Finales')"
   ]
  }
 ],
 "metadata": {
  "kernelspec": {
   "display_name": "base",
   "language": "python",
   "name": "python3"
  },
  "language_info": {
   "codemirror_mode": {
    "name": "ipython",
    "version": 3
   },
   "file_extension": ".py",
   "mimetype": "text/x-python",
   "name": "python",
   "nbconvert_exporter": "python",
   "pygments_lexer": "ipython3",
   "version": "3.9.18"
  }
 },
 "nbformat": 4,
 "nbformat_minor": 2
}
