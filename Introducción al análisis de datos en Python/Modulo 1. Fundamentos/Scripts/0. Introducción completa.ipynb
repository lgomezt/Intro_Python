{
 "cells": [
  {
   "attachments": {},
   "cell_type": "markdown",
   "metadata": {},
   "source": [
    "# **Introducción al análisis de datos en Python** \n",
    "### Profesor: Lucas Gómez Tobón"
   ]
  },
  {
   "attachments": {},
   "cell_type": "markdown",
   "metadata": {},
   "source": [
    "# Clase 1: Introducción Python\n",
    "> **Objetivo**: El objetivo de este taller es que se familiaricen con los elementos básicos de Python.\n",
    "\n",
    "¿Qué es y Por qué Python? \n",
    "\n",
    "Python es un [lenguaje de programación](https://es.wikipedia.org/wiki/Lenguaje_de_programaci%C3%B3n)\n",
    "- Es el tercer lenguaje de programación más popular del mundo.\n",
    "- Es el primero cuando se trata de temas de análisis de datos.\n",
    "- Es un lenguaje de propósito general, es decir que se utiliza para muchas cosas como Machine Learning, Internet of things, creación de aplicaciones web, de escritorio y de móviles.\n",
    "- Open-source\n",
    "- Comunidad grande y colaborativa\n",
    "\n",
    "> **Recuerde**: Estamos usando Python 3.9. Usamos como *Managers* PIP y Conda. Todo esto lo logramos de manera sencilla instalando [Miniconda](https://docs.conda.io/en/latest/miniconda.html)."
   ]
  },
  {
   "attachments": {},
   "cell_type": "markdown",
   "metadata": {},
   "source": [
    "### Jupyter Notebook\n",
    "Los archivos de extensión *.ipynb* presentan una interfaz muy cómoda para el aprendizaje, y la colaboración. Contiene:\n",
    "- Celdas de código\n",
    "- Celdas de [markdown](https://github.com/adam-p/markdown-here/wiki/Markdown-Cheatsheet) (como esta)\n",
    "- Celdas de texto crudo\n",
    "- Kernel\n",
    "\n",
    "<div class=\"alert alert-info\">\n",
    "La documentación oficial de Jupyter está  \n",
    "<a href=\"https://jupyter-notebook.readthedocs.io/en/stable/\" class=\"alert-link\">aquí</a>\n",
    "y puede encontrar algunos Notebooks didácticos \n",
    "<a href=\"https://github.com/jupyter/notebook/tree/master/docs/source/examples/Notebook\" class=\"alert-link\">aquí</a>\n",
    "\n",
    "Entre las ventajas de utilizar Jupyter Notebooks es que se pueden incluir formulas matemáticas utilizando comandos de Latex al igual que imágenes o hipervínculos.\n",
    "$$\\text{Teorema de Pitágoras: }c = \\sqrt{a^2 + b^2}$$\n",
    "\n",
    "<center>\n",
    "<img src=\"https://res.cloudinary.com/koruro/image/upload/v1636739509/Teorema_de_pitagoras_lados_46985ead86.png\" alt=\"Teorema de Pitágoras\" style=\"width:400px;height:200px;\">\n",
    "</center>\n"
   ]
  },
  {
   "cell_type": "markdown",
   "metadata": {},
   "source": [
    "### Kernel\n",
    "El \"kernel\" es lo que permite que se corran cosas en python, Jupyter es una interfaz para que los bloques de código corran dentro de una consola de python, el kernel es el que conecta esta interfaz con la parte del computador que corre el código.\n",
    "\n",
    "El kernel también guarda **espacio de trabajo**, es decir todas las variables que se han declarado. \n",
    "\n",
    "Se puede reiniciar el kernel de manera rápida en la pestaña de \"kernel\" en el tope."
   ]
  },
  {
   "attachments": {},
   "cell_type": "markdown",
   "metadata": {},
   "source": [
    "## Variables en Python\n",
    "En Python una variables es creada cuando se le asigna algun valor y se nombra."
   ]
  },
  {
   "cell_type": "code",
   "execution_count": 1,
   "metadata": {},
   "outputs": [],
   "source": [
    "x = 5 \n",
    "y = 'Hola Mundo!'"
   ]
  },
  {
   "attachments": {},
   "cell_type": "markdown",
   "metadata": {},
   "source": [
    "Para saber cuál es el valor de una variable siempre utilizaremos la función nativa de Python, `print()`. Por ejemplo:"
   ]
  },
  {
   "cell_type": "code",
   "execution_count": 2,
   "metadata": {},
   "outputs": [
    {
     "name": "stdout",
     "output_type": "stream",
     "text": [
      "Esta es mi variable\n"
     ]
    }
   ],
   "source": [
    "s = \"Esta es mi variable\"\n",
    "print(s)"
   ]
  },
  {
   "cell_type": "code",
   "execution_count": 3,
   "metadata": {},
   "outputs": [
    {
     "name": "stdout",
     "output_type": "stream",
     "text": [
      "5\n"
     ]
    }
   ],
   "source": [
    "print(x)"
   ]
  },
  {
   "cell_type": "code",
   "execution_count": 4,
   "metadata": {},
   "outputs": [
    {
     "name": "stdout",
     "output_type": "stream",
     "text": [
      "Hola Mundo!\n"
     ]
    }
   ],
   "source": [
    "print(y)"
   ]
  },
  {
   "attachments": {},
   "cell_type": "markdown",
   "metadata": {},
   "source": [
    "### Tipos de variables básicas\n",
    "Existen 4 tipos de variable básicas\n",
    "\n",
    "1. Integers. O sea los números enteros: `1, 7, 10000, -70`\n",
    "2. Float. Número de punto flotante, es decir que es un número que tiene algún decimal. `3.0, 3.1416, -4.3, 1.0000, 0.00`\n",
    "3. Strings. Variables que se codifican como texto. Siempre van entre comillas. `'3', \"a\", \"hola\", \"adasd\", \"20BC\"`\n",
    "4. Boolean. Solo pueden tomar dos valores: Verdadero o Falso, que en Python serían ```True``` o `False`"
   ]
  },
  {
   "cell_type": "code",
   "execution_count": 5,
   "metadata": {},
   "outputs": [],
   "source": [
    "# Integer\n",
    "a = 1"
   ]
  },
  {
   "cell_type": "code",
   "execution_count": 6,
   "metadata": {},
   "outputs": [],
   "source": [
    "# Float\n",
    "b = -1.2"
   ]
  },
  {
   "cell_type": "code",
   "execution_count": 7,
   "metadata": {},
   "outputs": [],
   "source": [
    "# String\n",
    "c = \"1\""
   ]
  },
  {
   "cell_type": "code",
   "execution_count": 8,
   "metadata": {},
   "outputs": [],
   "source": [
    "# Bool\n",
    "d = True"
   ]
  },
  {
   "attachments": {},
   "cell_type": "markdown",
   "metadata": {},
   "source": [
    "Note que dependiendo del tipo de *clase* de la variable, esta cambia de color. Estos colores pueden ser personalizados en su IDE."
   ]
  },
  {
   "cell_type": "code",
   "execution_count": 9,
   "metadata": {},
   "outputs": [
    {
     "data": {
      "text/plain": [
       "float"
      ]
     },
     "execution_count": 9,
     "metadata": {},
     "output_type": "execute_result"
    }
   ],
   "source": [
    "# Con la función type se puede chequear la clase o tipo de cada objeto\n",
    "type(0.0)"
   ]
  },
  {
   "cell_type": "code",
   "execution_count": 10,
   "metadata": {},
   "outputs": [
    {
     "data": {
      "text/plain": [
       "int"
      ]
     },
     "execution_count": 10,
     "metadata": {},
     "output_type": "execute_result"
    }
   ],
   "source": [
    "type(a)"
   ]
  },
  {
   "cell_type": "code",
   "execution_count": 11,
   "metadata": {},
   "outputs": [
    {
     "data": {
      "text/plain": [
       "float"
      ]
     },
     "execution_count": 11,
     "metadata": {},
     "output_type": "execute_result"
    }
   ],
   "source": [
    "type(b)"
   ]
  },
  {
   "cell_type": "code",
   "execution_count": 12,
   "metadata": {},
   "outputs": [
    {
     "data": {
      "text/plain": [
       "str"
      ]
     },
     "execution_count": 12,
     "metadata": {},
     "output_type": "execute_result"
    }
   ],
   "source": [
    "type(c)"
   ]
  },
  {
   "cell_type": "code",
   "execution_count": 13,
   "metadata": {},
   "outputs": [
    {
     "data": {
      "text/plain": [
       "bool"
      ]
     },
     "execution_count": 13,
     "metadata": {},
     "output_type": "execute_result"
    }
   ],
   "source": [
    "type(d)"
   ]
  },
  {
   "cell_type": "code",
   "execution_count": 14,
   "metadata": {},
   "outputs": [
    {
     "data": {
      "text/plain": [
       "complex"
      ]
     },
     "execution_count": 14,
     "metadata": {},
     "output_type": "execute_result"
    }
   ],
   "source": [
    "# También podemos tener números complejos, pero no nos preocuparemos por eso en esta clase\n",
    "type(1j)"
   ]
  },
  {
   "attachments": {},
   "cell_type": "markdown",
   "metadata": {},
   "source": [
    "### *Casting* de variables\n",
    "Hay casos en los que queremos especificar el tipo de nuestra variable. Esto se puede hacer con el casting de variables:\n",
    ">* `int()` - Construye un entero utilizando el argumento, puede construir un entero de un numero real haciendo utilizando la funcion *piso*.\n",
    ">* `float()` - Construye un decimal utilizando el argumento.\n",
    ">* `str()` - Construye una cadena de caracteres utilizando el argumento."
   ]
  },
  {
   "cell_type": "code",
   "execution_count": 15,
   "metadata": {},
   "outputs": [
    {
     "data": {
      "text/plain": [
       "2"
      ]
     },
     "execution_count": 15,
     "metadata": {},
     "output_type": "execute_result"
    }
   ],
   "source": [
    "x = int(2.8)\n",
    "x"
   ]
  },
  {
   "cell_type": "code",
   "execution_count": 16,
   "metadata": {},
   "outputs": [
    {
     "data": {
      "text/plain": [
       "2.8"
      ]
     },
     "execution_count": 16,
     "metadata": {},
     "output_type": "execute_result"
    }
   ],
   "source": [
    "y = float(2.8)\n",
    "y"
   ]
  },
  {
   "cell_type": "code",
   "execution_count": 17,
   "metadata": {},
   "outputs": [
    {
     "data": {
      "text/plain": [
       "'2.8'"
      ]
     },
     "execution_count": 17,
     "metadata": {},
     "output_type": "execute_result"
    }
   ],
   "source": [
    "z = str(2.8)\n",
    "z"
   ]
  },
  {
   "cell_type": "code",
   "execution_count": 18,
   "metadata": {},
   "outputs": [
    {
     "data": {
      "text/plain": [
       "2"
      ]
     },
     "execution_count": 18,
     "metadata": {},
     "output_type": "execute_result"
    }
   ],
   "source": [
    "int(\"2\")"
   ]
  },
  {
   "cell_type": "code",
   "execution_count": 19,
   "metadata": {},
   "outputs": [
    {
     "data": {
      "text/plain": [
       "2.0"
      ]
     },
     "execution_count": 19,
     "metadata": {},
     "output_type": "execute_result"
    }
   ],
   "source": [
    "float(\"2\")"
   ]
  },
  {
   "cell_type": "code",
   "execution_count": 20,
   "metadata": {},
   "outputs": [
    {
     "ename": "ValueError",
     "evalue": "invalid literal for int() with base 10: 'a'",
     "output_type": "error",
     "traceback": [
      "\u001b[1;31m---------------------------------------------------------------------------\u001b[0m",
      "\u001b[1;31mValueError\u001b[0m                                Traceback (most recent call last)",
      "Cell \u001b[1;32mIn[20], line 1\u001b[0m\n\u001b[1;32m----> 1\u001b[0m \u001b[39mint\u001b[39;49m(\u001b[39m\"\u001b[39;49m\u001b[39ma\u001b[39;49m\u001b[39m\"\u001b[39;49m)\n",
      "\u001b[1;31mValueError\u001b[0m: invalid literal for int() with base 10: 'a'"
     ]
    }
   ],
   "source": [
    "int(\"a\")"
   ]
  },
  {
   "attachments": {},
   "cell_type": "markdown",
   "metadata": {},
   "source": [
    "### Operacion de variables numéricas\n",
    "El uso más básico de Python es convertirlo en una calculadora. Los símbolos para calcular las operaciones básicas son los siguientes:\n",
    "\n",
    "| Operación | Resultado       |\n",
    "| --------- | --------------- |\n",
    "|    +      | Suma            |\n",
    "|    -      | Resta           |\n",
    "|    *      | Multiplicación  |\n",
    "|    /      | División        |\n",
    "|    %      | Modulo          |\n",
    "|    //     | División entera |\n",
    "|    \\*\\*   | Potencia        |\n"
   ]
  },
  {
   "cell_type": "code",
   "execution_count": 21,
   "metadata": {},
   "outputs": [],
   "source": [
    "# Otra forma de asignar variables\n",
    "a, b, c = 5, 2, 87\n",
    "# Esa línea es homologa a:\n",
    "a = 5\n",
    "b = 2\n",
    "c = 11"
   ]
  },
  {
   "cell_type": "code",
   "execution_count": 22,
   "metadata": {},
   "outputs": [
    {
     "data": {
      "text/plain": [
       "2.5"
      ]
     },
     "execution_count": 22,
     "metadata": {},
     "output_type": "execute_result"
    }
   ],
   "source": [
    "a / b"
   ]
  },
  {
   "cell_type": "code",
   "execution_count": 23,
   "metadata": {},
   "outputs": [
    {
     "data": {
      "text/plain": [
       "2"
      ]
     },
     "execution_count": 23,
     "metadata": {},
     "output_type": "execute_result"
    }
   ],
   "source": [
    "a // b"
   ]
  },
  {
   "cell_type": "code",
   "execution_count": 24,
   "metadata": {},
   "outputs": [
    {
     "data": {
      "text/plain": [
       "10"
      ]
     },
     "execution_count": 24,
     "metadata": {},
     "output_type": "execute_result"
    }
   ],
   "source": [
    "a * b"
   ]
  },
  {
   "cell_type": "code",
   "execution_count": 25,
   "metadata": {},
   "outputs": [
    {
     "data": {
      "text/plain": [
       "1331"
      ]
     },
     "execution_count": 25,
     "metadata": {},
     "output_type": "execute_result"
    }
   ],
   "source": [
    "c ** 3"
   ]
  },
  {
   "cell_type": "code",
   "execution_count": 26,
   "metadata": {},
   "outputs": [
    {
     "data": {
      "text/plain": [
       "5.5"
      ]
     },
     "execution_count": 26,
     "metadata": {},
     "output_type": "execute_result"
    }
   ],
   "source": [
    "c / b"
   ]
  },
  {
   "cell_type": "code",
   "execution_count": 27,
   "metadata": {},
   "outputs": [
    {
     "data": {
      "text/plain": [
       "1"
      ]
     },
     "execution_count": 27,
     "metadata": {},
     "output_type": "execute_result"
    }
   ],
   "source": [
    "c % b"
   ]
  },
  {
   "cell_type": "code",
   "execution_count": 28,
   "metadata": {},
   "outputs": [
    {
     "data": {
      "text/plain": [
       "7"
      ]
     },
     "execution_count": 28,
     "metadata": {},
     "output_type": "execute_result"
    }
   ],
   "source": [
    "# Podemos modificar nuestras variables. Por ejemplo, sumemosle 2 a la variable a (que es 5)\n",
    "a = a + 2 \n",
    "a"
   ]
  },
  {
   "attachments": {},
   "cell_type": "markdown",
   "metadata": {},
   "source": [
    "### Operadores de asignación\n",
    "Existen unos operadores que me permiten realizar operaciones y sobreescribir mi variable en una sola línea.\n",
    "1. ¿Qué hace +=?\n",
    "2. ¿Qué hace -=?\n",
    "3. ¿Qué hace *=?\n",
    "4. ¿Qué hace /=?"
   ]
  },
  {
   "cell_type": "code",
   "execution_count": 29,
   "metadata": {},
   "outputs": [
    {
     "name": "stdout",
     "output_type": "stream",
     "text": [
      "Valor original: 5\n"
     ]
    }
   ],
   "source": [
    "x = 5\n",
    "print('Valor original:', x)"
   ]
  },
  {
   "cell_type": "code",
   "execution_count": 30,
   "metadata": {},
   "outputs": [
    {
     "name": "stdout",
     "output_type": "stream",
     "text": [
      "Le sumo 2 a x: 7\n"
     ]
    }
   ],
   "source": [
    "x = 5\n",
    "x = x + 2\n",
    "print('Le sumo 2 a x:', x)"
   ]
  },
  {
   "cell_type": "code",
   "execution_count": 31,
   "metadata": {},
   "outputs": [
    {
     "name": "stdout",
     "output_type": "stream",
     "text": [
      "Le sumo 2 a x: 7\n"
     ]
    }
   ],
   "source": [
    "x = 5\n",
    "x += 2\n",
    "print('Le sumo 2 a x:', x)"
   ]
  },
  {
   "cell_type": "code",
   "execution_count": 32,
   "metadata": {},
   "outputs": [
    {
     "name": "stdout",
     "output_type": "stream",
     "text": [
      "Le resto 2: 5\n"
     ]
    }
   ],
   "source": [
    "x -= 2\n",
    "print('Le resto 2:', x)"
   ]
  },
  {
   "cell_type": "code",
   "execution_count": 33,
   "metadata": {},
   "outputs": [
    {
     "name": "stdout",
     "output_type": "stream",
     "text": [
      "Lo multiplico por 2: 10\n"
     ]
    }
   ],
   "source": [
    "x *= 2\n",
    "print('Lo multiplico por 2:', x)"
   ]
  },
  {
   "cell_type": "code",
   "execution_count": 34,
   "metadata": {},
   "outputs": [
    {
     "name": "stdout",
     "output_type": "stream",
     "text": [
      "Lo divido por 5: 2.0\n"
     ]
    }
   ],
   "source": [
    "x /= 5\n",
    "print('Lo divido por 5:', x)"
   ]
  },
  {
   "cell_type": "code",
   "execution_count": 35,
   "metadata": {},
   "outputs": [
    {
     "name": "stdout",
     "output_type": "stream",
     "text": [
      "Lo elevo a la 2: 4.0\n"
     ]
    }
   ],
   "source": [
    "x **= 2\n",
    "print('Lo elevo a la 2:', x)"
   ]
  },
  {
   "attachments": {},
   "cell_type": "markdown",
   "metadata": {},
   "source": [
    "### Operaciones Booleanos (comparar valores)\n",
    "Adicionalmente podemos comparar objetos para saber si son iguales, diferentes, mayores o menores.\n",
    "\n",
    "| Operación | Resultado       |\n",
    "| --------- | --------------- |\n",
    "|    ==      | Igual            |\n",
    "|    !=     | No igual           |\n",
    "|    >      | Mayor que  |\n",
    "|    <      | Menor que        |\n",
    "|    >=      | Mayor o igual que          |\n",
    "|    <=     | Menor o igual que |\n"
   ]
  },
  {
   "cell_type": "code",
   "execution_count": 36,
   "metadata": {},
   "outputs": [
    {
     "data": {
      "text/plain": [
       "7"
      ]
     },
     "execution_count": 36,
     "metadata": {},
     "output_type": "execute_result"
    }
   ],
   "source": [
    "a"
   ]
  },
  {
   "cell_type": "code",
   "execution_count": 37,
   "metadata": {},
   "outputs": [
    {
     "data": {
      "text/plain": [
       "2"
      ]
     },
     "execution_count": 37,
     "metadata": {},
     "output_type": "execute_result"
    }
   ],
   "source": [
    "b"
   ]
  },
  {
   "cell_type": "code",
   "execution_count": 38,
   "metadata": {},
   "outputs": [
    {
     "name": "stdout",
     "output_type": "stream",
     "text": [
      "True\n"
     ]
    }
   ],
   "source": [
    "print(a > b)"
   ]
  },
  {
   "cell_type": "code",
   "execution_count": 39,
   "metadata": {},
   "outputs": [
    {
     "name": "stdout",
     "output_type": "stream",
     "text": [
      "True\n"
     ]
    }
   ],
   "source": [
    "print(a >= b)"
   ]
  },
  {
   "cell_type": "code",
   "execution_count": 40,
   "metadata": {},
   "outputs": [
    {
     "name": "stdout",
     "output_type": "stream",
     "text": [
      "False\n"
     ]
    }
   ],
   "source": [
    "print(a == 6)"
   ]
  },
  {
   "cell_type": "code",
   "execution_count": 41,
   "metadata": {},
   "outputs": [
    {
     "name": "stdout",
     "output_type": "stream",
     "text": [
      "True\n"
     ]
    }
   ],
   "source": [
    "print(a != 6)"
   ]
  },
  {
   "attachments": {},
   "cell_type": "markdown",
   "metadata": {},
   "source": [
    "Estas operaciones también las podemos realizar con strings"
   ]
  },
  {
   "cell_type": "code",
   "execution_count": 42,
   "metadata": {},
   "outputs": [
    {
     "name": "stdout",
     "output_type": "stream",
     "text": [
      "False\n"
     ]
    }
   ],
   "source": [
    "mi_nombre = \"Lucas\"\n",
    "print(mi_nombre == 'Isabella Rodas')"
   ]
  },
  {
   "cell_type": "code",
   "execution_count": 43,
   "metadata": {},
   "outputs": [
    {
     "data": {
      "text/plain": [
       "True"
      ]
     },
     "execution_count": 43,
     "metadata": {},
     "output_type": "execute_result"
    }
   ],
   "source": [
    "\"Lucas\" != \"Camilo\""
   ]
  },
  {
   "cell_type": "code",
   "execution_count": 44,
   "metadata": {},
   "outputs": [
    {
     "data": {
      "text/plain": [
       "True"
      ]
     },
     "execution_count": 44,
     "metadata": {},
     "output_type": "execute_result"
    }
   ],
   "source": [
    "# Para saber si una palabra es más grande que otra, se utiliza el orden alfabético. Las primeras letras del abecedario\n",
    "# son más pequeñas. En este caso Lucas es más grande que Camilo porque L está después de C en el abecedario\n",
    "\"Lucas\" > \"Camilo\""
   ]
  },
  {
   "cell_type": "code",
   "execution_count": 45,
   "metadata": {},
   "outputs": [
    {
     "data": {
      "text/plain": [
       "False"
      ]
     },
     "execution_count": 45,
     "metadata": {},
     "output_type": "execute_result"
    }
   ],
   "source": [
    "# En este caso Camilo es más grande porque la C está después de la A\n",
    "\"Aucas\" > \"Camilo\""
   ]
  },
  {
   "cell_type": "code",
   "execution_count": 46,
   "metadata": {},
   "outputs": [
    {
     "data": {
      "text/plain": [
       "True"
      ]
     },
     "execution_count": 46,
     "metadata": {},
     "output_type": "execute_result"
    }
   ],
   "source": [
    "# Como ambas palabras comienzan por la A, se entra a evaluar el segundo carácter\n",
    "\"Aucas\" > \"Aamilo\""
   ]
  },
  {
   "cell_type": "code",
   "execution_count": 47,
   "metadata": {},
   "outputs": [
    {
     "data": {
      "text/plain": [
       "False"
      ]
     },
     "execution_count": 47,
     "metadata": {},
     "output_type": "execute_result"
    }
   ],
   "source": [
    "# Las letras mayúsculas preceden a las minúsculas\n",
    "\"Aucas\" > \"aamilo\""
   ]
  },
  {
   "cell_type": "code",
   "execution_count": 48,
   "metadata": {},
   "outputs": [
    {
     "data": {
      "text/plain": [
       "False"
      ]
     },
     "execution_count": 48,
     "metadata": {},
     "output_type": "execute_result"
    }
   ],
   "source": [
    "\"A\" > \"a\""
   ]
  },
  {
   "attachments": {},
   "cell_type": "markdown",
   "metadata": {},
   "source": [
    "Adicionalmente se pueden realizar operaciones aritméticas con las variables booleanas"
   ]
  },
  {
   "cell_type": "code",
   "execution_count": 55,
   "metadata": {},
   "outputs": [
    {
     "name": "stdout",
     "output_type": "stream",
     "text": [
      "2\n"
     ]
    }
   ],
   "source": [
    "# Cuando se hacen estas operaciones, Python transforma los objetos booleanos en integers. \n",
    "# True significa 1 y False 0\n",
    "print(True + True)"
   ]
  },
  {
   "cell_type": "code",
   "execution_count": 58,
   "metadata": {},
   "outputs": [
    {
     "data": {
      "text/plain": [
       "int"
      ]
     },
     "execution_count": 58,
     "metadata": {},
     "output_type": "execute_result"
    }
   ],
   "source": [
    "type(True + True)"
   ]
  },
  {
   "cell_type": "code",
   "execution_count": 59,
   "metadata": {},
   "outputs": [
    {
     "data": {
      "text/plain": [
       "1"
      ]
     },
     "execution_count": 59,
     "metadata": {},
     "output_type": "execute_result"
    }
   ],
   "source": [
    "int(True)"
   ]
  },
  {
   "cell_type": "code",
   "execution_count": 60,
   "metadata": {},
   "outputs": [
    {
     "data": {
      "text/plain": [
       "0"
      ]
     },
     "execution_count": 60,
     "metadata": {},
     "output_type": "execute_result"
    }
   ],
   "source": [
    "int(False)"
   ]
  },
  {
   "cell_type": "code",
   "execution_count": 61,
   "metadata": {},
   "outputs": [
    {
     "name": "stdout",
     "output_type": "stream",
     "text": [
      "1\n"
     ]
    }
   ],
   "source": [
    "print(True + False)"
   ]
  },
  {
   "cell_type": "code",
   "execution_count": 62,
   "metadata": {},
   "outputs": [
    {
     "name": "stdout",
     "output_type": "stream",
     "text": [
      "0\n"
     ]
    }
   ],
   "source": [
    "print(False + False)"
   ]
  },
  {
   "cell_type": "code",
   "execution_count": 65,
   "metadata": {},
   "outputs": [
    {
     "data": {
      "text/plain": [
       "5"
      ]
     },
     "execution_count": 65,
     "metadata": {},
     "output_type": "execute_result"
    }
   ],
   "source": [
    "True*5"
   ]
  },
  {
   "cell_type": "code",
   "execution_count": 66,
   "metadata": {},
   "outputs": [
    {
     "data": {
      "text/plain": [
       "0"
      ]
     },
     "execution_count": 66,
     "metadata": {},
     "output_type": "execute_result"
    }
   ],
   "source": [
    "False*5"
   ]
  },
  {
   "attachments": {},
   "cell_type": "markdown",
   "metadata": {},
   "source": [
    "Se pueden usar los operadores de `y` e `o` para construir comparaciones más complejas. Recuerde las tablas de verdad\n",
    "| a | b | A and B | A or B |\n",
    "|:-:|:-:|:-------:|:------:|\n",
    "| T | T |    T    |    T   |\n",
    "| T | F |    F    |    T   |\n",
    "| F | T |    F    |    T   |\n",
    "| F | F |    F    |    F   |"
   ]
  },
  {
   "cell_type": "code",
   "execution_count": 68,
   "metadata": {},
   "outputs": [
    {
     "data": {
      "text/plain": [
       "True"
      ]
     },
     "execution_count": 68,
     "metadata": {},
     "output_type": "execute_result"
    }
   ],
   "source": [
    "True and True"
   ]
  },
  {
   "cell_type": "code",
   "execution_count": 71,
   "metadata": {},
   "outputs": [
    {
     "data": {
      "text/plain": [
       "False"
      ]
     },
     "execution_count": 71,
     "metadata": {},
     "output_type": "execute_result"
    }
   ],
   "source": [
    "True and False"
   ]
  },
  {
   "cell_type": "code",
   "execution_count": 72,
   "metadata": {},
   "outputs": [
    {
     "data": {
      "text/plain": [
       "False"
      ]
     },
     "execution_count": 72,
     "metadata": {},
     "output_type": "execute_result"
    }
   ],
   "source": [
    "False and True"
   ]
  },
  {
   "cell_type": "code",
   "execution_count": 73,
   "metadata": {},
   "outputs": [
    {
     "data": {
      "text/plain": [
       "False"
      ]
     },
     "execution_count": 73,
     "metadata": {},
     "output_type": "execute_result"
    }
   ],
   "source": [
    "False and False"
   ]
  },
  {
   "cell_type": "code",
   "execution_count": 74,
   "metadata": {},
   "outputs": [
    {
     "data": {
      "text/plain": [
       "True"
      ]
     },
     "execution_count": 74,
     "metadata": {},
     "output_type": "execute_result"
    }
   ],
   "source": [
    "True or True"
   ]
  },
  {
   "cell_type": "code",
   "execution_count": 75,
   "metadata": {},
   "outputs": [
    {
     "data": {
      "text/plain": [
       "True"
      ]
     },
     "execution_count": 75,
     "metadata": {},
     "output_type": "execute_result"
    }
   ],
   "source": [
    "True or False"
   ]
  },
  {
   "cell_type": "code",
   "execution_count": 76,
   "metadata": {},
   "outputs": [
    {
     "data": {
      "text/plain": [
       "True"
      ]
     },
     "execution_count": 76,
     "metadata": {},
     "output_type": "execute_result"
    }
   ],
   "source": [
    "False or True"
   ]
  },
  {
   "cell_type": "code",
   "execution_count": 77,
   "metadata": {},
   "outputs": [
    {
     "data": {
      "text/plain": [
       "False"
      ]
     },
     "execution_count": 77,
     "metadata": {},
     "output_type": "execute_result"
    }
   ],
   "source": [
    "False or False"
   ]
  },
  {
   "cell_type": "code",
   "execution_count": 78,
   "metadata": {},
   "outputs": [
    {
     "data": {
      "text/plain": [
       "False"
      ]
     },
     "execution_count": 78,
     "metadata": {},
     "output_type": "execute_result"
    }
   ],
   "source": [
    "not True"
   ]
  },
  {
   "cell_type": "code",
   "execution_count": 79,
   "metadata": {},
   "outputs": [
    {
     "data": {
      "text/plain": [
       "True"
      ]
     },
     "execution_count": 79,
     "metadata": {},
     "output_type": "execute_result"
    }
   ],
   "source": [
    "not False"
   ]
  },
  {
   "cell_type": "code",
   "execution_count": 81,
   "metadata": {},
   "outputs": [
    {
     "data": {
      "text/plain": [
       "7"
      ]
     },
     "execution_count": 81,
     "metadata": {},
     "output_type": "execute_result"
    }
   ],
   "source": [
    "a"
   ]
  },
  {
   "cell_type": "code",
   "execution_count": 80,
   "metadata": {},
   "outputs": [
    {
     "name": "stdout",
     "output_type": "stream",
     "text": [
      "True\n"
     ]
    }
   ],
   "source": [
    "print(a > 5 and a <= 10)"
   ]
  },
  {
   "cell_type": "code",
   "execution_count": 82,
   "metadata": {},
   "outputs": [
    {
     "name": "stdout",
     "output_type": "stream",
     "text": [
      "True\n"
     ]
    }
   ],
   "source": [
    "print(a > 5 or a % 3 == 0)"
   ]
  },
  {
   "attachments": {},
   "cell_type": "markdown",
   "metadata": {},
   "source": [
    "### Strings\n",
    "1. ¿Qué métodos tiene un string? use \"mi_nombre.\" y la tecla tab.\n",
    "2. Cree un string que sea \"nombre\" y \"apellido\". Súmelos\n",
    "3. Multiplique por 3 la variable \"nombre\" e imprimala\n",
    "4. Obtenga el número de caracteres en \"nombre\"\n",
    "5. Pregunte si una cadena de caracteres está dentro su variable \"nombre\"\n",
    "6. Extraiga el segundo y tercer caracter de \"apellido\""
   ]
  },
  {
   "cell_type": "code",
   "execution_count": 85,
   "metadata": {},
   "outputs": [
    {
     "name": "stdout",
     "output_type": "stream",
     "text": [
      "Lucas Gómez\n"
     ]
    }
   ],
   "source": [
    "nombre = 'Lucas'\n",
    "apellido = 'Gómez'\n",
    "nombre = nombre + \" \" + apellido\n",
    "print(mi_nombre)"
   ]
  },
  {
   "cell_type": "code",
   "execution_count": 86,
   "metadata": {},
   "outputs": [
    {
     "name": "stdout",
     "output_type": "stream",
     "text": [
      "Lucas GómezLucas GómezLucas Gómez\n"
     ]
    }
   ],
   "source": [
    "print(nombre * 3)"
   ]
  },
  {
   "cell_type": "code",
   "execution_count": 87,
   "metadata": {},
   "outputs": [
    {
     "name": "stdout",
     "output_type": "stream",
     "text": [
      "11\n"
     ]
    }
   ],
   "source": [
    "print(len(nombre))"
   ]
  },
  {
   "cell_type": "code",
   "execution_count": 88,
   "metadata": {},
   "outputs": [
    {
     "name": "stdout",
     "output_type": "stream",
     "text": [
      "True\n"
     ]
    }
   ],
   "source": [
    "print('u' in nombre)"
   ]
  },
  {
   "cell_type": "code",
   "execution_count": 89,
   "metadata": {},
   "outputs": [
    {
     "name": "stdout",
     "output_type": "stream",
     "text": [
      "óm\n"
     ]
    }
   ],
   "source": [
    "print(apellido[1:3])"
   ]
  },
  {
   "cell_type": "code",
   "execution_count": 90,
   "metadata": {},
   "outputs": [
    {
     "name": "stdout",
     "output_type": "stream",
     "text": [
      "0000Lucas Gómez\n"
     ]
    }
   ],
   "source": [
    "# Para rellenar con ceros\n",
    "print(nombre.zfill(15))"
   ]
  },
  {
   "cell_type": "code",
   "execution_count": 91,
   "metadata": {},
   "outputs": [
    {
     "name": "stdout",
     "output_type": "stream",
     "text": [
      "Lucas Gómez0000\n"
     ]
    }
   ],
   "source": [
    "print(nombre + '0'*(15-len(nombre)))"
   ]
  },
  {
   "cell_type": "markdown",
   "metadata": {},
   "source": [
    "1. Cree la variable \"edad\" y guarde su edad en ella como un entero.\n",
    "2. Cree la variable \"carrera\" y guarde su carrera en ella como un string.\n",
    "3. Imprima su presentación combinando en el _print_ strings y variables (nombre, apellido, edad y carrera).\n",
    "4. Repita lo anterior usando la suma de strings.\n",
    "5. Repita lo anterior usando .format()\n",
    "6. Repita lo anterior usando .join()"
   ]
  },
  {
   "cell_type": "code",
   "execution_count": 92,
   "metadata": {},
   "outputs": [
    {
     "name": "stdout",
     "output_type": "stream",
     "text": [
      "Yo soy Lucas Gómez Gómez , tengo 25 años y soy Economista\n",
      "Yo soy Lucas Gómez Gómez, tengo 25 años y soy Economista\n",
      "Yo soy Lucas Gómez Gómez, tengo 25 años y soy Economista\n",
      "Yo soy Lucas Gómez Gómez , tengo 25 años y soy Economista\n"
     ]
    }
   ],
   "source": [
    "edad = 25\n",
    "carrera = 'Economista'\n",
    "print('Yo soy', nombre, apellido, ', tengo', edad, 'años y soy', carrera) # Aqui no debo poner espacios\n",
    "print('Yo soy ' + nombre + ' ' + apellido + ', tengo ' + str(edad) + ' años y soy ' + carrera) #Aqui si debo poner espacios\n",
    "print('Yo soy {} {}, tengo {} años y soy {}'.format(nombre, apellido, edad, carrera))\n",
    "print(' '.join(['Yo soy', nombre, apellido, ', tengo', str(edad), 'años y soy', carrera]))"
   ]
  },
  {
   "cell_type": "code",
   "execution_count": 93,
   "metadata": {},
   "outputs": [
    {
     "name": "stdout",
     "output_type": "stream",
     "text": [
      "Mi comida favorita es la hamburguesa\n"
     ]
    }
   ],
   "source": [
    "print('Mi comida favorita es {}'.format(input(\"¿Cuál es su comida favorita?\")))"
   ]
  },
  {
   "attachments": {},
   "cell_type": "markdown",
   "metadata": {},
   "source": [
    "### Listas\n",
    "Las listas en Python son una estructura de datos que permite almacenar una colección ordenada de elementos. Los elementos pueden ser de cualquier tipo, como números, cadenas de texto, booleanos, otras listas, objetos personalizados, entre otros.\n",
    "\n",
    "Las listas se definen utilizando corchetes [] y separando los elementos por comas. Por ejemplo, una lista de números enteros se puede definir así:\n",
    "\n",
    "```python\n",
    "numeros = [1, 2, 3, 4, 5]\n",
    "```\n",
    "\n",
    "Además, es posible acceder a los elementos de una lista mediante su índice, **que comienza en 0 para el primer elemento**. Por ejemplo, `numeros[0]` devuelve el primer elemento de la lista numeros, que en este caso es 1. También es posible acceder a una porción de la lista utilizando la notación de slicing, por ejemplo, `numeros[1:3]` devuelve una lista que contiene los elementos en las posiciones 1 y 2 (excluyendo la posición 3)."
   ]
  },
  {
   "cell_type": "code",
   "execution_count": 97,
   "metadata": {},
   "outputs": [
    {
     "data": {
      "text/plain": [
       "[2, 3]"
      ]
     },
     "execution_count": 97,
     "metadata": {},
     "output_type": "execute_result"
    }
   ],
   "source": [
    "numeros = [1, 2, 3, 4, 5]\n",
    "numeros[1:3]"
   ]
  },
  {
   "attachments": {},
   "cell_type": "markdown",
   "metadata": {},
   "source": [
    "1. Construya una lista llamada lista_1 que contenga las variables \"a\", \"b\", el número 0,5 y mi_nombre.\n",
    "2. Extraiga e imprima el primer elemento de la lista (recuerde que en python se comienza desde la posición 0).\n",
    "3. Extraiga e imprima el último elemento de la lista (recuerde que para hacer esto no es necesario saber el tamaño de la lista).\n",
    "4. Extraiga e imprima los dos primeros elementos.\n",
    "5. Extraiga e imprima los elementos impares."
   ]
  },
  {
   "cell_type": "code",
   "execution_count": 94,
   "metadata": {},
   "outputs": [
    {
     "data": {
      "text/plain": [
       "[7, 2, 0.5, 'Lucas Gómez']"
      ]
     },
     "execution_count": 94,
     "metadata": {},
     "output_type": "execute_result"
    }
   ],
   "source": [
    "lista_1 = [a, b, 0.5, nombre]\n",
    "lista_1"
   ]
  },
  {
   "cell_type": "code",
   "execution_count": 95,
   "metadata": {},
   "outputs": [
    {
     "name": "stdout",
     "output_type": "stream",
     "text": [
      "7\n"
     ]
    }
   ],
   "source": [
    "print(lista_1[0])"
   ]
  },
  {
   "cell_type": "code",
   "execution_count": 98,
   "metadata": {},
   "outputs": [
    {
     "name": "stdout",
     "output_type": "stream",
     "text": [
      "Lucas Gómez\n"
     ]
    }
   ],
   "source": [
    "print(lista_1[-1])"
   ]
  },
  {
   "cell_type": "code",
   "execution_count": 99,
   "metadata": {},
   "outputs": [
    {
     "name": "stdout",
     "output_type": "stream",
     "text": [
      "[7, 2]\n"
     ]
    }
   ],
   "source": [
    "print(lista_1[0:2])"
   ]
  },
  {
   "cell_type": "code",
   "execution_count": 100,
   "metadata": {},
   "outputs": [
    {
     "name": "stdout",
     "output_type": "stream",
     "text": [
      "[7, 0.5]\n"
     ]
    }
   ],
   "source": [
    "# Parametros del slice(posicion de comienzo, posicion de salida, cada cuanto tomo datos)\n",
    "print(lista_1[slice(0, len(mi_nombre), 2)])"
   ]
  },
  {
   "cell_type": "code",
   "execution_count": 101,
   "metadata": {},
   "outputs": [
    {
     "name": "stdout",
     "output_type": "stream",
     "text": [
      "4\n"
     ]
    }
   ],
   "source": [
    "# Numero de elementos por lista\n",
    "print(len(lista_1))"
   ]
  },
  {
   "cell_type": "code",
   "execution_count": 102,
   "metadata": {},
   "outputs": [
    {
     "name": "stdout",
     "output_type": "stream",
     "text": [
      "[7, 2, 0.5, 'Lucas Gómez', 'Sofia']\n"
     ]
    }
   ],
   "source": [
    "# Algunas funciones utiles para las listas\n",
    "# Agregar un elemento al final de la lista\n",
    "lista_1.append('Sofia')\n",
    "print(lista_1)"
   ]
  },
  {
   "cell_type": "code",
   "execution_count": 103,
   "metadata": {},
   "outputs": [
    {
     "name": "stdout",
     "output_type": "stream",
     "text": [
      "['Sofia', 'Lucas Gómez', 0.5, 2, 7]\n"
     ]
    }
   ],
   "source": [
    "# Invertir el orden de la lista\n",
    "lista_1.reverse()\n",
    "print(lista_1)"
   ]
  },
  {
   "cell_type": "code",
   "execution_count": 104,
   "metadata": {},
   "outputs": [
    {
     "data": {
      "text/plain": [
       "[7, 2, 0.5, 'Lucas Gómez', 'Sofia']"
      ]
     },
     "execution_count": 104,
     "metadata": {},
     "output_type": "execute_result"
    }
   ],
   "source": [
    "# Invertir el orden de la lista\n",
    "lista_1[::-1]"
   ]
  },
  {
   "cell_type": "code",
   "execution_count": 105,
   "metadata": {},
   "outputs": [
    {
     "name": "stdout",
     "output_type": "stream",
     "text": [
      "['Sofia', 'Lucas Gómez', 2, 7]\n"
     ]
    }
   ],
   "source": [
    "# Eliminar un elemento de la lista por su índice. Si queremos eliminar 0.5, debemos decirle que elimine el elemento de\n",
    "# la posición 2 \n",
    "lista_1.pop(2)\n",
    "print(lista_1)"
   ]
  },
  {
   "cell_type": "code",
   "execution_count": 143,
   "metadata": {},
   "outputs": [
    {
     "data": {
      "text/plain": [
       "3"
      ]
     },
     "execution_count": 143,
     "metadata": {},
     "output_type": "execute_result"
    }
   ],
   "source": [
    "# Dice la posición en la lista donde se encuentra el elemento pasado a la lista\n",
    "lista_1.index(7) "
   ]
  },
  {
   "cell_type": "code",
   "execution_count": 106,
   "metadata": {},
   "outputs": [
    {
     "data": {
      "text/plain": [
       "[0, 1, 2, 3, 4, 5, 6, 7, 8, 9, 10]"
      ]
     },
     "execution_count": 106,
     "metadata": {},
     "output_type": "execute_result"
    }
   ],
   "source": [
    "# Crear una lista de los números del 0 al 10\n",
    "range(0, 10)\n",
    "list(range(0, 10))\n",
    "list(range(0, 11))"
   ]
  },
  {
   "cell_type": "code",
   "execution_count": 144,
   "metadata": {},
   "outputs": [
    {
     "data": {
      "text/plain": [
       "[1, 3, 5, 7, 9]"
      ]
     },
     "execution_count": 144,
     "metadata": {},
     "output_type": "execute_result"
    }
   ],
   "source": [
    "# Crear una lista de los números impares del 0 al 10\n",
    "impares = list(range(1, 11, 2))\n",
    "impares"
   ]
  },
  {
   "cell_type": "code",
   "execution_count": 146,
   "metadata": {},
   "outputs": [
    {
     "data": {
      "text/plain": [
       "[9, 7, 5, 3, 1]"
      ]
     },
     "execution_count": 146,
     "metadata": {},
     "output_type": "execute_result"
    }
   ],
   "source": [
    "impares.sort(reverse = True)\n",
    "impares"
   ]
  },
  {
   "cell_type": "code",
   "execution_count": 147,
   "metadata": {},
   "outputs": [
    {
     "data": {
      "text/plain": [
       "[1, 3, 5, 7, 9]"
      ]
     },
     "execution_count": 147,
     "metadata": {},
     "output_type": "execute_result"
    }
   ],
   "source": [
    "impares.sort()\n",
    "impares"
   ]
  },
  {
   "cell_type": "code",
   "execution_count": 108,
   "metadata": {},
   "outputs": [
    {
     "data": {
      "text/plain": [
       "[100, 99, 98, 97, 96, 95, 94, 93, 92, 91, 90]"
      ]
     },
     "execution_count": 108,
     "metadata": {},
     "output_type": "execute_result"
    }
   ],
   "source": [
    "# Crear una lista descendente del 100 al 90\n",
    "list(range(100, 89))\n",
    "list(range(100, 89, -1))\n",
    "list(range(90, 101))[::-1]"
   ]
  },
  {
   "attachments": {},
   "cell_type": "markdown",
   "metadata": {},
   "source": [
    "Para modificar los elementos de una lista en Python, se puede acceder a ellos mediante su índice y asignarles un nuevo valor. Por ejemplo, si tenemos la siguiente lista:"
   ]
  },
  {
   "cell_type": "code",
   "execution_count": 109,
   "metadata": {},
   "outputs": [],
   "source": [
    "frutas = [\"manzana\", \"banana\", \"kiwi\", \"pera\"]"
   ]
  },
  {
   "attachments": {},
   "cell_type": "markdown",
   "metadata": {},
   "source": [
    "Podemos modificar el segundo elemento \"banana\" por \"fresa\" de la siguiente manera:"
   ]
  },
  {
   "cell_type": "code",
   "execution_count": 111,
   "metadata": {},
   "outputs": [
    {
     "data": {
      "text/plain": [
       "['manzana', 'fresa', 'kiwi', 'pera']"
      ]
     },
     "execution_count": 111,
     "metadata": {},
     "output_type": "execute_result"
    }
   ],
   "source": [
    "frutas[1] = \"fresa\"\n",
    "frutas"
   ]
  },
  {
   "attachments": {},
   "cell_type": "markdown",
   "metadata": {},
   "source": [
    "También es posible modificar varios elementos de la lista al mismo tiempo usando la notación de slicing. Por ejemplo, para cambiar los elementos de la posición 1 y 2 por \"mango\" y \"piña\" respectivamente, se puede hacer lo siguiente:"
   ]
  },
  {
   "cell_type": "code",
   "execution_count": 112,
   "metadata": {},
   "outputs": [
    {
     "data": {
      "text/plain": [
       "['manzana', 'mango', 'piña', 'pera']"
      ]
     },
     "execution_count": 112,
     "metadata": {},
     "output_type": "execute_result"
    }
   ],
   "source": [
    "frutas[1:3] = [\"mango\", \"piña\"]\n",
    "frutas"
   ]
  },
  {
   "cell_type": "markdown",
   "metadata": {},
   "source": [
    "Es importante tener en cuenta que los elementos de una lista son mutables, por lo que si un elemento es una lista, se puede modificar los elementos de esa lista interna mediante su índice."
   ]
  },
  {
   "cell_type": "code",
   "execution_count": 114,
   "metadata": {},
   "outputs": [
    {
     "data": {
      "text/plain": [
       "175"
      ]
     },
     "execution_count": 114,
     "metadata": {},
     "output_type": "execute_result"
    }
   ],
   "source": [
    "# Creemos una lista con las características de talla y peso de diferentes personas\n",
    "Camilo = [182, 80]\n",
    "Valentina = [175, 65]\n",
    "personas = [Camilo, Valentina]\n",
    "# Para acceder a la estatura de Valentina desde personas haríamos\n",
    "personas[1][0]"
   ]
  },
  {
   "attachments": {},
   "cell_type": "markdown",
   "metadata": {},
   "source": [
    "## Tuplas\n",
    "En Python, una tupla es una estructura de datos similar a una lista, pero con la diferencia de que las tuplas son inmutables. Esto significa que una vez que se ha creado una tupla, no se puede modificar su contenido.\n",
    "\n",
    "Las tuplas se definen utilizando paréntesis `()` y separando los elementos por comas. Por ejemplo, una tupla que contiene los meses del año se puede definir así:"
   ]
  },
  {
   "cell_type": "code",
   "execution_count": 115,
   "metadata": {},
   "outputs": [],
   "source": [
    "meses = (\"Enero\", \"Febrero\", \"Marzo\", \"Abril\", \"Mayo\", \"Junio\", \"Julio\", \"Agosto\", \"Septiembre\", \"Octubre\", \"Noviembre\", \"Diciembre\")"
   ]
  },
  {
   "attachments": {},
   "cell_type": "markdown",
   "metadata": {},
   "source": [
    "A diferencia de las listas, no se pueden agregar ni eliminar elementos de una tupla, ni modificar los valores de sus elementos. Sin embargo, se pueden realizar algunas operaciones con las tuplas, como acceder a sus elementos mediante el índice, hacer slicing o concatenar dos tuplas para crear una nueva tupla.\n",
    "\n",
    "Las tuplas suelen ser útiles cuando se necesita almacenar una colección de elementos que no van a cambiar durante la ejecución del programa, ya que son más eficientes en términos de memoria y rendimiento que las listas. Además, las tuplas se utilizan a menudo para devolver varios valores de una función en Python."
   ]
  },
  {
   "attachments": {},
   "cell_type": "markdown",
   "metadata": {},
   "source": [
    "Un ejemplo práctico del uso de tuplas en Python es en la representación de coordenadas en un plano cartesiano. En este caso, cada punto en el plano puede ser representado como una tupla de dos valores: la coordenada x y la coordenada y.\n",
    "\n",
    "Por ejemplo, supongamos que tenemos una lista de puntos en el plano cartesiano, donde cada punto se representa como una tupla de dos valores:"
   ]
  },
  {
   "cell_type": "code",
   "execution_count": 116,
   "metadata": {},
   "outputs": [],
   "source": [
    "puntos = [(0, 0), (1, 2), (3, 5), (-1, 4)]"
   ]
  },
  {
   "attachments": {},
   "cell_type": "markdown",
   "metadata": {},
   "source": [
    "Podemos acceder a los valores de cada coordenada de un punto usando la notación de índice. Por ejemplo, para obtener la coordenada x del segundo punto, podemos hacer lo siguiente:"
   ]
  },
  {
   "cell_type": "code",
   "execution_count": 117,
   "metadata": {},
   "outputs": [
    {
     "data": {
      "text/plain": [
       "1"
      ]
     },
     "execution_count": 117,
     "metadata": {},
     "output_type": "execute_result"
    }
   ],
   "source": [
    "x = puntos[1][0]\n",
    "x"
   ]
  },
  {
   "attachments": {},
   "cell_type": "markdown",
   "metadata": {},
   "source": [
    "## Diccionarios\n",
    "En Python, un diccionario es una estructura de datos que permite almacenar una colección de elementos, donde cada elemento está asociado a una clave única. En lugar de utilizar un índice numérico como en el caso de las listas y tuplas, se utiliza una clave para acceder a los elementos del diccionario.\n",
    "\n",
    "Los diccionarios se definen utilizando llaves `{}` y separando cada clave y su correspondiente valor por dos puntos `:`. Por ejemplo, un diccionario que representa la información de un estudiante podría tener las siguientes claves y valores:"
   ]
  },
  {
   "cell_type": "code",
   "execution_count": 118,
   "metadata": {},
   "outputs": [],
   "source": [
    "estudiante = {\"nombre\": \"Juan\", \"apellido\": \"Pérez\", \"edad\": 20, \"carrera\": \"Ingeniería\"}"
   ]
  },
  {
   "attachments": {},
   "cell_type": "markdown",
   "metadata": {},
   "source": [
    "En este ejemplo, cada clave (nombre, apellido, edad, carrera) está asociada a un valor (Juan, Pérez, 20, Ingeniería), y se puede acceder a cada valor utilizando su clave. Por ejemplo, para obtener el nombre del estudiante, se puede hacer lo siguiente:"
   ]
  },
  {
   "cell_type": "code",
   "execution_count": 119,
   "metadata": {},
   "outputs": [
    {
     "data": {
      "text/plain": [
       "'Juan'"
      ]
     },
     "execution_count": 119,
     "metadata": {},
     "output_type": "execute_result"
    }
   ],
   "source": [
    "nombre = estudiante[\"nombre\"]\n",
    "nombre"
   ]
  },
  {
   "attachments": {},
   "cell_type": "markdown",
   "metadata": {},
   "source": [
    "También es posible agregar o modificar elementos en un diccionario utilizando una clave. Por ejemplo, para agregar el teléfono del estudiante al diccionario, se puede hacer lo siguiente:"
   ]
  },
  {
   "cell_type": "code",
   "execution_count": 120,
   "metadata": {},
   "outputs": [
    {
     "data": {
      "text/plain": [
       "{'nombre': 'Juan',\n",
       " 'apellido': 'Pérez',\n",
       " 'edad': 20,\n",
       " 'carrera': 'Ingeniería',\n",
       " 'telefono': '555-1234'}"
      ]
     },
     "execution_count": 120,
     "metadata": {},
     "output_type": "execute_result"
    }
   ],
   "source": [
    "estudiante[\"telefono\"] = \"555-1234\"\n",
    "estudiante"
   ]
  },
  {
   "attachments": {},
   "cell_type": "markdown",
   "metadata": {},
   "source": [
    "Los diccionarios son útiles cuando se necesita almacenar datos que se pueden asociar con una clave, como información de usuarios, registros de base de datos o configuraciones de un programa. Además, los diccionarios permiten un acceso más rápido y eficiente a los datos que las listas o tuplas."
   ]
  },
  {
   "cell_type": "code",
   "execution_count": 121,
   "metadata": {},
   "outputs": [
    {
     "data": {
      "text/plain": [
       "dict_keys(['nombre', 'apellido', 'edad', 'carrera', 'telefono'])"
      ]
     },
     "execution_count": 121,
     "metadata": {},
     "output_type": "execute_result"
    }
   ],
   "source": [
    "estudiante.keys()"
   ]
  },
  {
   "cell_type": "code",
   "execution_count": 122,
   "metadata": {},
   "outputs": [
    {
     "data": {
      "text/plain": [
       "dict_values(['Juan', 'Pérez', 20, 'Ingeniería', '555-1234'])"
      ]
     },
     "execution_count": 122,
     "metadata": {},
     "output_type": "execute_result"
    }
   ],
   "source": [
    "estudiante.values()"
   ]
  },
  {
   "cell_type": "markdown",
   "metadata": {},
   "source": [
    "## Funciones internas\n",
    "### Matemáticas\n",
    "1. Para qué sirve _abs()_\n",
    "2. Para qué sirve _max()_\n",
    "3. Para qué sirve _min()_\n",
    "4. Para qué sirve _sum()_\n"
   ]
  },
  {
   "cell_type": "code",
   "execution_count": 138,
   "metadata": {},
   "outputs": [
    {
     "name": "stdout",
     "output_type": "stream",
     "text": [
      "5\n"
     ]
    }
   ],
   "source": [
    "lista = [1, 3, 5, 7, 9]\n",
    "print(abs(-5))"
   ]
  },
  {
   "cell_type": "code",
   "execution_count": 139,
   "metadata": {},
   "outputs": [
    {
     "name": "stdout",
     "output_type": "stream",
     "text": [
      "9\n"
     ]
    }
   ],
   "source": [
    "print(max(lista))"
   ]
  },
  {
   "cell_type": "code",
   "execution_count": 140,
   "metadata": {},
   "outputs": [
    {
     "name": "stdout",
     "output_type": "stream",
     "text": [
      "1\n"
     ]
    }
   ],
   "source": [
    "print(min(lista))"
   ]
  },
  {
   "cell_type": "code",
   "execution_count": 141,
   "metadata": {},
   "outputs": [
    {
     "name": "stdout",
     "output_type": "stream",
     "text": [
      "6\n"
     ]
    }
   ],
   "source": [
    "print(sum([1,2,3]))"
   ]
  },
  {
   "attachments": {},
   "cell_type": "markdown",
   "metadata": {},
   "source": [
    "### Iterables\n",
    "1. Para qué sirve _all()_\n",
    "3. Para qué sirve _any()_"
   ]
  },
  {
   "cell_type": "code",
   "execution_count": 137,
   "metadata": {},
   "outputs": [
    {
     "data": {
      "text/plain": [
       "False"
      ]
     },
     "execution_count": 137,
     "metadata": {},
     "output_type": "execute_result"
    }
   ],
   "source": [
    "# Evalua si todos los elementos de mi lista son condicionales\n",
    "all([True, True, False])"
   ]
  },
  {
   "cell_type": "code",
   "execution_count": 136,
   "metadata": {},
   "outputs": [
    {
     "data": {
      "text/plain": [
       "True"
      ]
     },
     "execution_count": 136,
     "metadata": {},
     "output_type": "execute_result"
    }
   ],
   "source": [
    "all([True, True])"
   ]
  },
  {
   "cell_type": "code",
   "execution_count": 135,
   "metadata": {},
   "outputs": [
    {
     "data": {
      "text/plain": [
       "True"
      ]
     },
     "execution_count": 135,
     "metadata": {},
     "output_type": "execute_result"
    }
   ],
   "source": [
    "all([])"
   ]
  },
  {
   "cell_type": "code",
   "execution_count": 133,
   "metadata": {},
   "outputs": [
    {
     "name": "stdout",
     "output_type": "stream",
     "text": [
      "False\n"
     ]
    }
   ],
   "source": [
    "# Serie de condicionales logicos en una lista\n",
    "lista_cond = [1 == 2, 'i' in 'hola', 3 != 1]\n",
    "print(all(lista_cond))"
   ]
  },
  {
   "cell_type": "code",
   "execution_count": 134,
   "metadata": {},
   "outputs": [
    {
     "name": "stdout",
     "output_type": "stream",
     "text": [
      "True\n"
     ]
    }
   ],
   "source": [
    "print(any([True, True, False]))"
   ]
  },
  {
   "attachments": {},
   "cell_type": "markdown",
   "metadata": {},
   "source": [
    "**EJERCICIO**\n",
    "Hagamos una pausa para chequear qué tanto hemos comprendido\n",
    "\n",
    "Usando _.index()_ ¿Cómo podría encontrar la posición donde esté el máximo de una lista?"
   ]
  },
  {
   "cell_type": "code",
   "execution_count": null,
   "metadata": {},
   "outputs": [],
   "source": [
    "lista.index(max(lista)) # Con max puedo ver el valor máximo de la lista, con index veo en que posición está"
   ]
  },
  {
   "attachments": {},
   "cell_type": "markdown",
   "metadata": {},
   "source": [
    "Si no recuerda lo que hace una función en particular, siempre puede llamar el comando _help()_ o `?`"
   ]
  },
  {
   "cell_type": "code",
   "execution_count": 150,
   "metadata": {},
   "outputs": [
    {
     "name": "stdout",
     "output_type": "stream",
     "text": [
      "Help on built-in function sum in module builtins:\n",
      "\n",
      "sum(iterable, /, start=0)\n",
      "    Return the sum of a 'start' value (default: 0) plus an iterable of numbers\n",
      "    \n",
      "    When the iterable is empty, return the start value.\n",
      "    This function is intended specifically for use with numeric values and may\n",
      "    reject non-numeric types.\n",
      "\n"
     ]
    }
   ],
   "source": [
    "help(sum)"
   ]
  },
  {
   "cell_type": "code",
   "execution_count": 156,
   "metadata": {},
   "outputs": [
    {
     "name": "stdout",
     "output_type": "stream",
     "text": [
      "\u001b[1;31mSignature:\u001b[0m \u001b[0msum\u001b[0m\u001b[1;33m(\u001b[0m\u001b[0miterable\u001b[0m\u001b[1;33m,\u001b[0m \u001b[1;33m/\u001b[0m\u001b[1;33m,\u001b[0m \u001b[0mstart\u001b[0m\u001b[1;33m=\u001b[0m\u001b[1;36m0\u001b[0m\u001b[1;33m)\u001b[0m\u001b[1;33m\u001b[0m\u001b[1;33m\u001b[0m\u001b[0m\n",
      "\u001b[1;31mDocstring:\u001b[0m\n",
      "Return the sum of a 'start' value (default: 0) plus an iterable of numbers\n",
      "\n",
      "When the iterable is empty, return the start value.\n",
      "This function is intended specifically for use with numeric values and may\n",
      "reject non-numeric types.\n",
      "\u001b[1;31mType:\u001b[0m      builtin_function_or_method"
     ]
    }
   ],
   "source": [
    "?sum"
   ]
  },
  {
   "attachments": {},
   "cell_type": "markdown",
   "metadata": {},
   "source": [
    "### Paquetes\n",
    "Los paquetes o librerías son una forma de organizar códigos. En general, importamos librerías desarrollados por terceros para facilitar nuestro trabajo y ahorrarnos millones de horas programando. \n",
    "\n",
    "Para ser utilizados, es necesario que instale los paquetes en su ordenador, para hacer eso, en la mayoría de casos utilizamos el comando `pip` desde la terminal, el cual es un repositorio de paquetes.\n",
    "\n",
    "En esta sección utilizaremos uno de los paquetes más famosos de Python que se llama `NumPy`  (Numerical Python) el cual se utiliza para realizar cálculos numéricos. Proporciona un conjunto de funciones y herramientas para trabajar con matrices y arreglos de datos multidimensionales de manera eficiente y rápida.\n",
    "\n",
    "Para instalarlo debe correr en la terminal el siguiente comando:\n",
    "```\n",
    "pip install numpy\n",
    "```\n",
    "\n",
    "Afortunadamente no hace falta que se dirija a su terminal sino que puede ejecutarlo desde su jupyter notebook utilizando el comando `!`"
   ]
  },
  {
   "cell_type": "code",
   "execution_count": 157,
   "metadata": {},
   "outputs": [
    {
     "name": "stdout",
     "output_type": "stream",
     "text": [
      "Requirement already satisfied: numpy in c:\\users\\lucas\\anaconda3\\envs\\perreologia\\lib\\site-packages (1.23.5)\n"
     ]
    }
   ],
   "source": [
    "!pip install numpy"
   ]
  },
  {
   "attachments": {},
   "cell_type": "markdown",
   "metadata": {},
   "source": [
    "Una vez instalado el paquete, este no se carga automaticamente a Python. Cada vez que vaya a hacer uso de esta librería debe importarlo de la siguiente manera:"
   ]
  },
  {
   "cell_type": "code",
   "execution_count": 158,
   "metadata": {},
   "outputs": [],
   "source": [
    "import numpy as np"
   ]
  },
  {
   "cell_type": "code",
   "execution_count": 169,
   "metadata": {},
   "outputs": [
    {
     "name": "stdout",
     "output_type": "stream",
     "text": [
      "1.23.5\n"
     ]
    }
   ],
   "source": [
    "# ¿Cuál version de numpy estoy utilizando?\n",
    "print(np.__version__)"
   ]
  },
  {
   "attachments": {},
   "cell_type": "markdown",
   "metadata": {},
   "source": [
    "Con esta librería vamos a crear un número aleatorio"
   ]
  },
  {
   "cell_type": "code",
   "execution_count": 159,
   "metadata": {},
   "outputs": [
    {
     "name": "stdout",
     "output_type": "stream",
     "text": [
      "236\n"
     ]
    }
   ],
   "source": [
    "# Semillar para garantizar la replicabilidad del código\n",
    "np.random.seed(666)\n",
    "muestra = np.random.randint(0,1000) # Creo un entero aleatorio entre 0 y 1000\n",
    "print(muestra)"
   ]
  },
  {
   "attachments": {},
   "cell_type": "markdown",
   "metadata": {},
   "source": [
    "Ahora suponga que queremos crear 15 números aleatorios y almacenarlos en una lista:"
   ]
  },
  {
   "cell_type": "code",
   "execution_count": null,
   "metadata": {},
   "outputs": [],
   "source": [
    "numero_aleatorio_1 = np.random.randint(0,1000)\n",
    "numero_aleatorio_2 = np.random.randint(0,1000)\n",
    "numero_aleatorio_3 = np.random.randint(0,1000)\n",
    "numero_aleatorio_4 = np.random.randint(0,1000)\n",
    "numero_aleatorio_5 = np.random.randint(0,1000)\n",
    "numero_aleatorio_6 = np.random.randint(0,1000)\n",
    "numero_aleatorio_7 = np.random.randint(0,1000)\n",
    "numero_aleatorio_8 = np.random.randint(0,1000)\n",
    "numero_aleatorio_9 = np.random.randint(0,1000)\n",
    "numero_aleatorio_10 = np.random.randint(0,1000)\n",
    "numero_aleatorio_11 = np.random.randint(0,1000)\n",
    "numero_aleatorio_12 = np.random.randint(0,1000)\n",
    "numero_aleatorio_13 = np.random.randint(0,1000)\n",
    "numero_aleatorio_14 = np.random.randint(0,1000)\n",
    "numero_aleatorio_15 = np.random.randint(0,1000)\n",
    "\n",
    "numeros_aleatorios = [numero_aleatorio_1, numero_aleatorio_2, numero_aleatorio_3, numero_aleatorio_4, numero_aleatorio_5,\n",
    "                      numero_aleatorio_6, numero_aleatorio_7, numero_aleatorio_8, numero_aleatorio_9, numero_aleatorio_10,\n",
    "                      numero_aleatorio_11, numero_aleatorio_12, numero_aleatorio_13, numero_aleatorio_14, numero_aleatorio_15]\n",
    "numeros_aleatorios"
   ]
  },
  {
   "cell_type": "markdown",
   "metadata": {},
   "source": [
    "Hacer este proceso uno a uno es muy engorroso.\n",
    "\n",
    "Para facilitarnos la vida existen dos tipos de `loops` o `bucles` en Python.\n",
    "\n",
    "## Loops\n",
    "Un `loop` en Python es una estructura de control que repite un bloque de código varias veces, hasta que se cumple una condición específica. Los loops son utilizados para iterar sobre secuencias (como listas, tuplas, diccionarios, sets) o para ejecutar un bloque de código repetidamente hasta que se cumpla una condición determinada.\n",
    "\n",
    "Hay dos tipos principales de loops en Python: `for` y `while`.\n",
    "\n",
    "### for loop\n",
    "El `for loop` se utiliza para iterar sobre los elementos de una secuencia (como una lista, tupla, diccionario, set) o cualquier otro objeto iterable. La sintaxis básica es:\n",
    "\n",
    "```python\n",
    "for elemento in secuencia:\n",
    "    # Bloque de código a ejecutar\n",
    "```"
   ]
  },
  {
   "cell_type": "code",
   "execution_count": null,
   "metadata": {},
   "outputs": [
    {
     "name": "stdout",
     "output_type": "stream",
     "text": [
      "0\n",
      "1\n",
      "2\n",
      "3\n",
      "4\n"
     ]
    }
   ],
   "source": [
    "# Iterar sobre una lista\n",
    "frutas = [\"manzana\", \"banana\", \"cereza\"]\n",
    "for fruta in frutas:\n",
    "    print(fruta)"
   ]
  },
  {
   "cell_type": "markdown",
   "metadata": {},
   "source": [
    "Ahora apliquemos el concepto de `for loop` a nuestra tarea de crear 15 números aleatorios:"
   ]
  },
  {
   "cell_type": "code",
   "execution_count": 163,
   "metadata": {},
   "outputs": [],
   "source": [
    "numeros_aleatorios = []\n",
    "for i in range(15):\n",
    "    temp = np.random.randint(0,1000)\n",
    "    numeros_aleatorios.append(temp)"
   ]
  },
  {
   "cell_type": "code",
   "execution_count": 164,
   "metadata": {},
   "outputs": [
    {
     "data": {
      "text/plain": [
       "[898, 429, 926, 830, 70, 969, 414, 932, 445, 91, 222, 563, 60, 735, 156]"
      ]
     },
     "execution_count": 164,
     "metadata": {},
     "output_type": "execute_result"
    }
   ],
   "source": [
    "numeros_aleatorios"
   ]
  },
  {
   "cell_type": "markdown",
   "metadata": {},
   "source": [
    "> Nota: los `for loops` también se pueden utilizar para iterar sobre strings:"
   ]
  },
  {
   "cell_type": "code",
   "execution_count": 177,
   "metadata": {},
   "outputs": [
    {
     "name": "stdout",
     "output_type": "stream",
     "text": [
      "P\n",
      "y\n",
      "t\n",
      "h\n",
      "o\n",
      "n\n"
     ]
    }
   ],
   "source": [
    "for x in \"Python\":\n",
    "   print(x)"
   ]
  },
  {
   "cell_type": "markdown",
   "metadata": {},
   "source": [
    "El segundo tipo de `loops` son los `while loops` \n",
    "\n",
    "### while loop\n",
    "El `while loop` repite un bloque de código mientras una condición especificada sea `True`. La sintaxis básica es:\n",
    "\n",
    "```python\n",
    "while condicion:\n",
    "    # Bloque de código a ejecutar\n",
    "```"
   ]
  },
  {
   "cell_type": "code",
   "execution_count": null,
   "metadata": {},
   "outputs": [],
   "source": [
    "# Repetir mientras la variable 'n' sea menor que 5\n",
    "n = 0\n",
    "while n < 5:\n",
    "    print(n)\n",
    "    n += 1"
   ]
  },
  {
   "cell_type": "markdown",
   "metadata": {},
   "source": [
    "Al interior de cualquier loop (ya sea un `for` o un `while`) se pueden utilizar \"control flow statements\" o \"declaraciones\" como `continue` y `break`.\n",
    "\n",
    "- `break`: Sale del loop actual.\n",
    "- `continue`: Salta a la siguiente iteración del loop.\n",
    "\n",
    "Veamos un ejemplo:"
   ]
  },
  {
   "cell_type": "code",
   "execution_count": null,
   "metadata": {},
   "outputs": [],
   "source": [
    "for num in range(1, 10):\n",
    "    if num == 5:\n",
    "        break  # Sale del loop\n",
    "    if num % 2 == 0:\n",
    "        continue  # Salta a la siguiente iteración\n",
    "    print(num)"
   ]
  },
  {
   "cell_type": "markdown",
   "metadata": {},
   "source": [
    "No obstante, los \"control flow statements\" más importantes son `if`, `else` y `elif`. Entremos al detalle para comprender como funciona cada uno de ellos:\n",
    "\n",
    "## Declaraciones de Control de Flujo: `if`, `else`, y `elif`\n",
    "\n",
    "Las declaraciones `if`, `else`, y `elif` permiten que tu programa ejecute diferentes bloques de código basándose en condiciones específicas. Son una parte fundamental de la lógica de programación en Python para tomar decisiones.\n",
    "\n",
    "### Declaración `if`\n",
    "\n",
    "La declaración `if` evalúa si una condición es verdadera (`True`). Si lo es, ejecuta el bloque de código que sigue."
   ]
  },
  {
   "cell_type": "code",
   "execution_count": null,
   "metadata": {},
   "outputs": [],
   "source": [
    "a = 10\n",
    "if a > 5:\n",
    "    print(\"a es mayor que 5\")"
   ]
  },
  {
   "cell_type": "code",
   "execution_count": null,
   "metadata": {},
   "outputs": [],
   "source": [
    "lado_oscuro = \"Anakin Skywalker\"\n",
    "hijo = \"Luke Skywalker\"\n",
    "\n",
    "if lado_oscuro == \"Anakin Skywalker\": \n",
    "    print(\"Darth Vader\")"
   ]
  },
  {
   "cell_type": "markdown",
   "metadata": {},
   "source": [
    "### Declaración `else`\n",
    "\n",
    "La declaración `else` se utiliza junto con `if` para ejecutar un bloque de código cuando la condición del `if` no se cumple (es falsa)."
   ]
  },
  {
   "cell_type": "code",
   "execution_count": null,
   "metadata": {},
   "outputs": [],
   "source": [
    "a = 3\n",
    "if a > 5:\n",
    "    print(\"a es mayor que 5\")\n",
    "else:\n",
    "    print(\"a es menor o igual a 5\")"
   ]
  },
  {
   "cell_type": "markdown",
   "metadata": {},
   "source": [
    "\n",
    "\n",
    "### Declaración `elif`\n",
    "\n",
    "`elif`, que es una abreviatura de \"else if\", permite verificar múltiples condiciones en una misma estructura `if`. Se ejecuta si su condición es verdadera y todas las condiciones `if` o `elif` anteriores fueron falsas."
   ]
  },
  {
   "cell_type": "code",
   "execution_count": null,
   "metadata": {},
   "outputs": [],
   "source": [
    "a = 5\n",
    "if a > 5:\n",
    "    print(\"a es mayor que 5\")\n",
    "elif a == 5:\n",
    "    print(\"a es igual a 5\")"
   ]
  },
  {
   "cell_type": "markdown",
   "metadata": {},
   "source": [
    "**Combinando `if`, `elif`, y `else`:**"
   ]
  },
  {
   "cell_type": "code",
   "execution_count": null,
   "metadata": {},
   "outputs": [],
   "source": [
    "edad = 18\n",
    "if edad >= 18:\n",
    "    print(\"Eres mayor de edad\")\n",
    "elif edad < 0:\n",
    "    print(\"Edad no válida\")\n",
    "else:\n",
    "    print(\"Eres menor de edad\")"
   ]
  },
  {
   "cell_type": "markdown",
   "metadata": {},
   "source": [
    "> Nota: Para poder usar un `else` o un `elif` necesita la existencia de un `if`. No obstante, un `if` puede sostenerse sin la necesidad de acompañarlo por otro control flow."
   ]
  },
  {
   "cell_type": "markdown",
   "metadata": {},
   "source": [
    "Veamos una combinación de los conceptos aprendidos hasta ahora "
   ]
  },
  {
   "cell_type": "code",
   "execution_count": 178,
   "metadata": {},
   "outputs": [
    {
     "name": "stdout",
     "output_type": "stream",
     "text": [
      "Harry\n",
      "Hermione\n",
      "Ron\n"
     ]
    }
   ],
   "source": [
    "# Break statement\n",
    "mago = [\"Harry\", \"Hermione\", \"Ron\", \"Voldemort\", \"Dumbledore\"]\n",
    "for x in mago:\n",
    "    if x == \"Voldemort\":\n",
    "        break # Es como un freno de mano\n",
    "    print(x)"
   ]
  },
  {
   "cell_type": "code",
   "execution_count": 179,
   "metadata": {},
   "outputs": [
    {
     "name": "stdout",
     "output_type": "stream",
     "text": [
      "Harry\n",
      "Hermione\n",
      "Ron\n",
      "Dumbledore\n"
     ]
    }
   ],
   "source": [
    "# Continue statement\n",
    "for x in mago:\n",
    "    if x == \"Voldemort\":\n",
    "        continue # Pare la iteración en la que va y continue con la siguiente\n",
    "    print(x)"
   ]
  },
  {
   "attachments": {},
   "cell_type": "markdown",
   "metadata": {},
   "source": [
    "Existe una forma sencilla y en una sola línea de poblar una lista usando `loops`. A esto se le llama **list comprehension**:\n",
    "\n",
    "Una \"list comprehension\" en Python es una forma concisa y legible de crear una lista utilizando una expresión en lugar de un bucle for y una declaración de agregación (como una lista vacía y llamadas a `.append()`).\n",
    "\n",
    "La sintaxis básica de una list comprehension en Python es la siguiente:\n",
    "\n",
    "```python\n",
    "nueva_lista = [expresión for variable in secuencia]\n",
    "``` \n",
    "\n",
    "Donde \"expresión\" es la expresión que se evalúa para cada elemento en la secuencia, \"variable\" es el nombre de la variable utilizada para iterar sobre la secuencia y \"secuencia\" es la secuencia de valores sobre los cuales se va a iterar."
   ]
  },
  {
   "cell_type": "code",
   "execution_count": 165,
   "metadata": {},
   "outputs": [
    {
     "data": {
      "text/plain": [
       "[782, 737, 575, 400, 46, 488, 807, 69, 722, 204, 975, 141, 837, 885, 276]"
      ]
     },
     "execution_count": 165,
     "metadata": {},
     "output_type": "execute_result"
    }
   ],
   "source": [
    "muestras = [np.random.randint(0, 1000) for i in range(15)] \n",
    "muestras"
   ]
  },
  {
   "cell_type": "code",
   "execution_count": 166,
   "metadata": {},
   "outputs": [
    {
     "name": "stdout",
     "output_type": "stream",
     "text": [
      "975\n",
      "46\n"
     ]
    }
   ],
   "source": [
    "print(max(muestras)) # imprimo el máximo\n",
    "print(min(muestras)) # imprimo el mínimo"
   ]
  },
  {
   "cell_type": "code",
   "execution_count": 168,
   "metadata": {},
   "outputs": [
    {
     "data": {
      "text/plain": [
       "[1, 4, 9, 16, 25]"
      ]
     },
     "execution_count": 168,
     "metadata": {},
     "output_type": "execute_result"
    }
   ],
   "source": [
    "numeros = [1, 2, 3, 4, 5]\n",
    "cuadrados = [numero ** 2 for numero in numeros]\n",
    "cuadrados"
   ]
  },
  {
   "cell_type": "markdown",
   "metadata": {},
   "source": [
    "**Ejercicio corto de clase** Construya un loop que genere e imprima en cada ciclo un entero aleatorio entre 0 y 100, cuando el número sea superior a 75 se debe detener el loop. "
   ]
  },
  {
   "cell_type": "code",
   "execution_count": 181,
   "metadata": {},
   "outputs": [
    {
     "name": "stdout",
     "output_type": "stream",
     "text": [
      "20\n",
      "36\n",
      "48\n",
      "36\n",
      "94\n"
     ]
    }
   ],
   "source": [
    "num = 0 # Creo un número arbitrario llamado num\n",
    "while num <= 75:\n",
    "    num = np.random.randint(0,100) # Reemplazo el valor de num por un entero aleatorio\n",
    "    print(num) # Imprimo num"
   ]
  },
  {
   "attachments": {},
   "cell_type": "markdown",
   "metadata": {},
   "source": [
    "## Funciones\n",
    "La sintaxis sería:\n",
    "```python\n",
    "def nombre_funcion(parametro1, parametro2, ...):\n",
    "    \"\"\"\n",
    "    Descripción de lo que hace la función\n",
    "\n",
    "    Parameters:\n",
    "        parametro1 (clase_parametro1): Descripción de qué es el input y qué valores puede tomar. \n",
    "        parametro2 (clase_parametro2): Descripción de qué es el input y qué valores puede tomar. \n",
    "\n",
    "    Returns:\n",
    "        output1 (clase_output): Descripción de lo que es el output y qué valores puede tomar.\n",
    "    \"\"\"\n",
    "\n",
    "    # Bloque de código\n",
    "    \n",
    "    return(resultado)\n",
    "```\n",
    "\n"
   ]
  },
  {
   "cell_type": "code",
   "execution_count": 182,
   "metadata": {},
   "outputs": [],
   "source": [
    "def suma_dos_numeros(a, b):\n",
    "    \"\"\"\n",
    "    Esta función toma dos números y entrega la suma de estos.\n",
    "\n",
    "    Parameters:\n",
    "        a (float): número a sumar.\n",
    "        b (float): número a sumar.\n",
    "\n",
    "    Returns:\n",
    "        resultado (float): suma de a + b\n",
    "    \"\"\"\n",
    "    \n",
    "    resultado = a + b\n",
    "\n",
    "    return(resultado)"
   ]
  },
  {
   "cell_type": "code",
   "execution_count": 183,
   "metadata": {},
   "outputs": [
    {
     "name": "stdout",
     "output_type": "stream",
     "text": [
      "\u001b[1;31mSignature:\u001b[0m \u001b[0msuma_dos_numeros\u001b[0m\u001b[1;33m(\u001b[0m\u001b[0ma\u001b[0m\u001b[1;33m,\u001b[0m \u001b[0mb\u001b[0m\u001b[1;33m)\u001b[0m\u001b[1;33m\u001b[0m\u001b[1;33m\u001b[0m\u001b[0m\n",
      "\u001b[1;31mDocstring:\u001b[0m\n",
      "Esta función toma dos números y entrega la suma de estos.\n",
      "\n",
      "Parameters:\n",
      "    a (float): número a sumar.\n",
      "    b (float): número a sumar.\n",
      "\n",
      "Returns:\n",
      "    resultado (float): suma de a + b\n",
      "\u001b[1;31mFile:\u001b[0m      c:\\users\\lucas\\appdata\\local\\temp\\ipykernel_11368\\101591888.py\n",
      "\u001b[1;31mType:\u001b[0m      function"
     ]
    }
   ],
   "source": [
    "?suma_dos_numeros"
   ]
  },
  {
   "cell_type": "code",
   "execution_count": 184,
   "metadata": {},
   "outputs": [
    {
     "data": {
      "text/plain": [
       "5"
      ]
     },
     "execution_count": 184,
     "metadata": {},
     "output_type": "execute_result"
    }
   ],
   "source": [
    "suma_dos_numeros(2, 3)"
   ]
  },
  {
   "attachments": {},
   "cell_type": "markdown",
   "metadata": {},
   "source": [
    "Veamos unas funciones más pros"
   ]
  },
  {
   "cell_type": "markdown",
   "metadata": {},
   "source": [
    "\n",
    "1. Construya una función que reciba un número y retorne la palabra \"par\" o \"impar\" dependiendo del insumo. Llame a la función _parImpar_. Pruébela sobre los números 2,3,7,12. Pista: busque que hace __%__. "
   ]
  },
  {
   "cell_type": "code",
   "execution_count": 185,
   "metadata": {},
   "outputs": [],
   "source": [
    "def parImpar(number):\n",
    "    if (number % 2 == 0): # Si el residuo de un número dividido 2 es cero, significa ue es múltiplo de 2\n",
    "        return(\"par\")\n",
    "    else: \n",
    "        return(\"impar\")"
   ]
  },
  {
   "cell_type": "code",
   "execution_count": 186,
   "metadata": {},
   "outputs": [
    {
     "name": "stdout",
     "output_type": "stream",
     "text": [
      "par\n",
      "impar\n",
      "impar\n",
      "par\n"
     ]
    }
   ],
   "source": [
    "print(parImpar(2))\n",
    "print(parImpar(3))\n",
    "print(parImpar(7))\n",
    "print(parImpar(12))"
   ]
  },
  {
   "cell_type": "markdown",
   "metadata": {},
   "source": [
    "2. Construya una función que reciba un número y retorne la cantidad de divisores del mismo. En caso de ser un número primo, también debe retornar una cadena de caracteres que diga que es un número primo. Llame a la función divisores"
   ]
  },
  {
   "cell_type": "code",
   "execution_count": 190,
   "metadata": {},
   "outputs": [],
   "source": [
    "def divisores(numero):\n",
    "    contador = 0 # Creamos un contador que aumenta cada vez que el residuo sea 0. \n",
    "    for i in range(numero):\n",
    "        if numero % (i+1) == 0:\n",
    "            contador = contador + 1\n",
    "    if contador == 2:\n",
    "        print('El', numero, 'es un número de primo')\n",
    "    return(contador)"
   ]
  },
  {
   "cell_type": "code",
   "execution_count": 191,
   "metadata": {},
   "outputs": [
    {
     "name": "stdout",
     "output_type": "stream",
     "text": [
      "El 7 es un número de primo\n"
     ]
    },
    {
     "data": {
      "text/plain": [
       "2"
      ]
     },
     "execution_count": 191,
     "metadata": {},
     "output_type": "execute_result"
    }
   ],
   "source": [
    "divisores(7)"
   ]
  },
  {
   "cell_type": "code",
   "execution_count": 192,
   "metadata": {},
   "outputs": [
    {
     "data": {
      "text/plain": [
       "4"
      ]
     },
     "execution_count": 192,
     "metadata": {},
     "output_type": "execute_result"
    }
   ],
   "source": [
    "divisores(8)"
   ]
  },
  {
   "cell_type": "markdown",
   "metadata": {},
   "source": [
    "3. Construya una función que reciba un número y retorne la **lista** de divisores del mismo. En caso de ser un número primo, también debe retornar una cadena de caracteres que diga que es un número primo. Llame a la función ListDivisores"
   ]
  },
  {
   "cell_type": "code",
   "execution_count": 193,
   "metadata": {},
   "outputs": [],
   "source": [
    "def ListDivisores(numero):\n",
    "    lista=[] # Creo un lista vacía a la que le voy a añadir los divisores\n",
    "    for i in range(numero): # Haga un loop desde 0 hasta el número deseado\n",
    "        if numero % (i+1)==0: # Si el residuo es cero entonces es múltiplo\n",
    "            lista.append(i+1) # Hago i+1 y no i porque arranca desde cero y no desde 1. \n",
    "    if len(lista)==2: # Si solo hay dos divisores, significa que es el 1 y el número en si, luego es un primo. \n",
    "        print('El' ,numero, 'es un número de primo')\n",
    "    return(lista)"
   ]
  },
  {
   "cell_type": "code",
   "execution_count": 194,
   "metadata": {},
   "outputs": [
    {
     "name": "stdout",
     "output_type": "stream",
     "text": [
      "El 7 es un número de primo\n"
     ]
    },
    {
     "data": {
      "text/plain": [
       "[1, 7]"
      ]
     },
     "execution_count": 194,
     "metadata": {},
     "output_type": "execute_result"
    }
   ],
   "source": [
    "ListDivisores(7)"
   ]
  },
  {
   "cell_type": "code",
   "execution_count": 195,
   "metadata": {},
   "outputs": [
    {
     "data": {
      "text/plain": [
       "[1, 2, 4, 8]"
      ]
     },
     "execution_count": 195,
     "metadata": {},
     "output_type": "execute_result"
    }
   ],
   "source": [
    "ListDivisores(8)"
   ]
  },
  {
   "cell_type": "markdown",
   "metadata": {},
   "source": [
    "4. Construya un función que reciba una cadena de caracteres y esta retorne cuantas letras tiene. Use loops."
   ]
  },
  {
   "cell_type": "code",
   "execution_count": 196,
   "metadata": {},
   "outputs": [],
   "source": [
    "def count_letters(string):\n",
    "    count = 0\n",
    "    for letter in string:\n",
    "        count += 1\n",
    "    return count"
   ]
  },
  {
   "cell_type": "code",
   "execution_count": 198,
   "metadata": {},
   "outputs": [
    {
     "data": {
      "text/plain": [
       "8"
      ]
     },
     "execution_count": 198,
     "metadata": {},
     "output_type": "execute_result"
    }
   ],
   "source": [
    "count_letters('economía')"
   ]
  },
  {
   "attachments": {},
   "cell_type": "markdown",
   "metadata": {},
   "source": [
    "### Lambda functions\n",
    "Las lambda functions (funciones lambda) son funciones anónimas en Python, lo que significa que no tienen un nombre identificador explícito. En lugar de definir una función usando la palabra clave \"def\", se utiliza la palabra clave \"lambda\" seguida de los argumentos y el cuerpo de la función.\n",
    "\n",
    "La sintaxis básica de una función lambda es la siguiente:\n",
    "```python\n",
    "lambda argumentos: expresión\n",
    "```\n",
    "Por ejemplo, si quisiéramos crear una función que sume dos números, podríamos hacerlo de la siguiente manera:"
   ]
  },
  {
   "cell_type": "code",
   "execution_count": 268,
   "metadata": {},
   "outputs": [],
   "source": [
    "suma = lambda a, b: a + b"
   ]
  },
  {
   "cell_type": "code",
   "execution_count": 269,
   "metadata": {},
   "outputs": [
    {
     "data": {
      "text/plain": [
       "5"
      ]
     },
     "execution_count": 269,
     "metadata": {},
     "output_type": "execute_result"
    }
   ],
   "source": [
    "suma(2, 3)"
   ]
  },
  {
   "attachments": {},
   "cell_type": "markdown",
   "metadata": {},
   "source": [
    "En este caso, \"suma\" es el nombre de la función lambda que hemos creado, que toma dos argumentos (\"a\" y \"b\") y devuelve su suma.\n",
    "\n",
    "Las funciones lambda se utilizan a menudo en Python como una forma rápida y sencilla de crear funciones ad hoc que sólo se necesitan para un propósito específico y no necesitan un nombre definido. También se utilizan a menudo en combinación con funciones de orden superior, como \"map\" y \"filter\", para procesar datos de forma más eficiente."
   ]
  },
  {
   "attachments": {},
   "cell_type": "markdown",
   "metadata": {},
   "source": [
    "La función `filter` recibe dos argumentos: \n",
    "- una función: esta debe devolver True o False según las condiciones que se definan en la función. \n",
    "- un iterable: un objeto compuesto por varios elementos que se pasarán uno a uno por la función.\n",
    "`filter` devolverá unicamente los elementos del iterable que hayan devuelto True en la función que se le pasó"
   ]
  },
  {
   "cell_type": "code",
   "execution_count": 274,
   "metadata": {},
   "outputs": [
    {
     "name": "stdout",
     "output_type": "stream",
     "text": [
      "[2, 4, 6, 8]\n"
     ]
    }
   ],
   "source": [
    "numeros = [1, 2, 3, 4, 5, 6, 7, 8, 9]\n",
    "# Note que se usa la función list sobre filter\n",
    "numeros_pares = list(filter(lambda x: x % 2 == 0, numeros))\n",
    "print(numeros_pares)"
   ]
  },
  {
   "attachments": {},
   "cell_type": "markdown",
   "metadata": {},
   "source": [
    "`map` por su parte es similar en sintaxis a `filter`, sin embargo, el argumento de función no necesariamente debe devolver True o False. En este caso map lo que hace es aplicar una función sobre cada uno de los elementos del iterable."
   ]
  },
  {
   "cell_type": "code",
   "execution_count": 275,
   "metadata": {},
   "outputs": [
    {
     "name": "stdout",
     "output_type": "stream",
     "text": [
      "[1, 4, 9, 16, 25, 36, 49, 64, 81]\n"
     ]
    }
   ],
   "source": [
    "numeros_cuadrados = list(map(lambda x: x ** 2, numeros))\n",
    "print(numeros_cuadrados)"
   ]
  },
  {
   "attachments": {},
   "cell_type": "markdown",
   "metadata": {},
   "source": [
    "En todos estos casos se pudo haber hecho uso de una función definida por `def`, sin embargo es más rápido usar un `lambda function`"
   ]
  },
  {
   "cell_type": "markdown",
   "metadata": {},
   "source": [
    "### Magic Functions\n",
    "Estas funciones solo funcionan dentro de jupyter, no son de python, son de la interfaz"
   ]
  },
  {
   "cell_type": "markdown",
   "metadata": {},
   "source": [
    "- %whos: Permite ver que hay en el ambiente de trabajo\n",
    "- %time: Permite cuantificar el tiempo que dura en correr el código de una celda\n",
    "- %cd: Cambia el directorio\n",
    "- %dirs: Retorna el directorio actual\n",
    "- %lsmagic: Ver la lista de funciones mágicas\n",
    "- %timeit: Corre varias veces la celda para determinar un tiempo promedio e intervalo de confianza"
   ]
  },
  {
   "cell_type": "code",
   "execution_count": 237,
   "metadata": {},
   "outputs": [
    {
     "name": "stdout",
     "output_type": "stream",
     "text": [
      "Variable             Type        Data/Info\n",
      "------------------------------------------\n",
      "Camilo               list        n=2\n",
      "ListDivisores        function    <function ListDivisores at 0x00000269E08803A0>\n",
      "Valentina            list        n=2\n",
      "a                    int         7\n",
      "apellido             str         Gómez\n",
      "b                    int         2\n",
      "c                    int         11\n",
      "carrera              str         Economista\n",
      "count_letters        function    <function count_letters at 0x00000269DF772B80>\n",
      "cuadrados            list        n=5\n",
      "cv                   function    <function <lambda> at 0x00000269DF7729D0>\n",
      "d                    bool        True\n",
      "dice_simulate        function    <function dice_simulate at 0x00000269DF2E9C10>\n",
      "divisores            function    <function divisores at 0x00000269DF772790>\n",
      "edad                 int         25\n",
      "estudiante           dict        n=5\n",
      "frutas               list        n=4\n",
      "hijo                 str         Luke Skywalker\n",
      "i                    int         14\n",
      "impares              list        n=5\n",
      "iteracion            int         4\n",
      "lado_oscuro          str         Anakin Skywalker\n",
      "lista                list        n=5\n",
      "lista_1              list        n=4\n",
      "lista_cond           list        n=3\n",
      "mago                 list        n=5\n",
      "meses                tuple       n=12\n",
      "mi_nombre            str         Lucas Gómez\n",
      "muestra              int         236\n",
      "muestras             list        n=15\n",
      "nombre               str         Juan\n",
      "np                   module      <module 'numpy' from 'c:\\<...>ges\\\\numpy\\\\__init__.py'>\n",
      "num                  int         94\n",
      "numeros              list        n=5\n",
      "numeros_aleatorios   list        n=15\n",
      "padre                str         Anakin Skywalker\n",
      "parImpar             function    <function parImpar at 0x00000269DD7904C0>\n",
      "personas             list        n=2\n",
      "print_iterator       function    <function print_iterator at 0x00000269E08805E0>\n",
      "puntos               list        n=4\n",
      "random               module      <module 'random' from 'c:<...>eologia\\\\lib\\\\random.py'>\n",
      "s                    str         Esta es mi variable\n",
      "suma_dos_numeros     function    <function suma_dos_numeros at 0x00000269DF772670>\n",
      "temp                 int         156\n",
      "var                  ndarray     1: 1 elems, type `float64`, 8 bytes\n",
      "var_coef             function    <function var_coef at 0x00000269DF772DC0>\n",
      "variation            function    <function variation at 0x00000269E076EA60>\n",
      "x                    map         <map object at 0x00000269E0894AF0>\n",
      "y                    float       2.8\n",
      "z                    str         2.8\n"
     ]
    }
   ],
   "source": [
    "%whos"
   ]
  },
  {
   "cell_type": "code",
   "execution_count": 238,
   "metadata": {},
   "outputs": [
    {
     "name": "stdout",
     "output_type": "stream",
     "text": [
      "CPU times: total: 0 ns\n",
      "Wall time: 0 ns\n"
     ]
    },
    {
     "data": {
      "text/plain": [
       "[1, 2, 5, 10, 25, 50]"
      ]
     },
     "execution_count": 238,
     "metadata": {},
     "output_type": "execute_result"
    }
   ],
   "source": [
    "%%time\n",
    "# Permite cuantificar el tiempo que dura en correr el código de una celda\n",
    "ListDivisores(50)"
   ]
  },
  {
   "cell_type": "code",
   "execution_count": 240,
   "metadata": {},
   "outputs": [
    {
     "name": "stdout",
     "output_type": "stream",
     "text": [
      "4.37 µs ± 547 ns per loop (mean ± std. dev. of 7 runs, 100,000 loops each)\n"
     ]
    }
   ],
   "source": [
    "%%timeit\n",
    "# Corre la celda varias veces y calcula cuánto tarda en correr en promedio con su respectiva desviación estándar.  \n",
    "ListDivisores(50)"
   ]
  },
  {
   "attachments": {},
   "cell_type": "markdown",
   "metadata": {},
   "source": [
    "## Ejercicios\n",
    "1. Construya una función que represente el lanzamiento de un dado de 6 caras. Lance el dado 100 veces y guarde sus resultado en un vector. Calcule la media.\n",
    "2. Construya una función que reciba como input un vector y calcule la media de ese vector. No use ningún paquete ni función auxiliar que calcule la media.\n",
    "3. Aprenda a usar la función _map()_, busque su documentación. Aplicando _map()_ a la lista [8,23,56,86] muestre la lista de divisores de cada número.\n",
    "4. Construya una función que reciba una lista de números y se encargue de ordenarlos del mayor al menor. Esta función no debe apoyarse de ninguna otra función, solo debe hacer uso de operadores como `>`, `<`, etc."
   ]
  },
  {
   "cell_type": "code",
   "execution_count": 227,
   "metadata": {},
   "outputs": [
    {
     "data": {
      "text/plain": [
       "3.542"
      ]
     },
     "execution_count": 227,
     "metadata": {},
     "output_type": "execute_result"
    }
   ],
   "source": [
    "import random\n",
    "\n",
    "def dice_simulate():\n",
    "    number = random.randint(1,6)\n",
    "    return(number)\n",
    "\n",
    "# Media empírica\n",
    "np.mean([dice_simulate() for i in range(1000)])"
   ]
  },
  {
   "cell_type": "code",
   "execution_count": 229,
   "metadata": {},
   "outputs": [
    {
     "data": {
      "text/plain": [
       "3.5"
      ]
     },
     "execution_count": 229,
     "metadata": {},
     "output_type": "execute_result"
    }
   ],
   "source": [
    "# Media teórica\n",
    "np.sum([1/6*i for i in range(1, 7)])"
   ]
  },
  {
   "cell_type": "code",
   "execution_count": 243,
   "metadata": {},
   "outputs": [
    {
     "data": {
      "text/plain": [
       "55.0"
      ]
     },
     "execution_count": 243,
     "metadata": {},
     "output_type": "execute_result"
    }
   ],
   "source": [
    "def promedio(lista):\n",
    "    n = len(lista)\n",
    "    sumatoria = sum(lista)\n",
    "    return(sumatoria/n)\n",
    "\n",
    "promedio([10, 100])"
   ]
  },
  {
   "cell_type": "code",
   "execution_count": 236,
   "metadata": {},
   "outputs": [
    {
     "name": "stdout",
     "output_type": "stream",
     "text": [
      "[1, 2, 4, 8]\n",
      "[1, 23]\n",
      "[1, 2, 23, 46]\n",
      "[1, 2, 43, 86]\n"
     ]
    }
   ],
   "source": [
    "def ListDivisores(numero):\n",
    "    lista = [] # Creo un lista vacía a la que le voy a añadir los divisores\n",
    "    for i in range(numero): # Haga un loop desde 0 hasta el número deseado\n",
    "        if numero % (i+1)==0: # Si el residuo es cero entonces es múltiplo\n",
    "            lista.append(i+1) # Hago i+1 y no i porque arranca desde cero y no desde 1. \n",
    "    return(lista)\n",
    "\n",
    "def print_iterator(it):\n",
    "    for x in it:\n",
    "        print(x)\n",
    "    \n",
    "x = map(ListDivisores, [8, 23, 46, 86])\n",
    "print_iterator(x)"
   ]
  },
  {
   "cell_type": "code",
   "execution_count": 263,
   "metadata": {},
   "outputs": [],
   "source": [
    "# Sorting function\n",
    "def ordenar(lista, iteracion = 0):\n",
    "    # Llevamos un conteo de los cambios\n",
    "    cambios = 0\n",
    "    # Vamos a iterar para cada posición\n",
    "    for i in range(len(lista)):     \n",
    "        # Si no estamos en la última posición, comparamos la posición i con la de la derecha\n",
    "        if i < len(lista) - 1:\n",
    "            # Si el número de la izquierda es más grande que el de la derecha entonces\n",
    "            # cambiamos de orden:\n",
    "            valor_izquierda = lista[i]\n",
    "            valor_derecha = lista[i + 1]\n",
    "            if valor_izquierda > valor_derecha:\n",
    "                lista[i] = valor_derecha\n",
    "                lista[i + 1] = valor_izquierda\n",
    "                cambios += 1\n",
    "    # Si al final hubo cambios, se repite la función\n",
    "    if cambios > 0:\n",
    "        # Mostrar la iteración\n",
    "        print(\"Iteración #\" + str(iteracion + 1))\n",
    "        print(lista)\n",
    "        ordenar(lista, iteracion = iteracion + 1)\n",
    "    else:\n",
    "        return(lista)     "
   ]
  },
  {
   "cell_type": "code",
   "execution_count": 267,
   "metadata": {},
   "outputs": [
    {
     "name": "stdout",
     "output_type": "stream",
     "text": [
      "[19, 40, 47, 21, 93, 99, 83, 5, 25, 89]\n",
      "Iteración #1\n",
      "[19, 40, 21, 47, 93, 83, 5, 25, 89, 99]\n",
      "Iteración #2\n",
      "[19, 21, 40, 47, 83, 5, 25, 89, 93, 99]\n",
      "Iteración #3\n",
      "[19, 21, 40, 47, 5, 25, 83, 89, 93, 99]\n",
      "Iteración #4\n",
      "[19, 21, 40, 5, 25, 47, 83, 89, 93, 99]\n",
      "Iteración #5\n",
      "[19, 21, 5, 25, 40, 47, 83, 89, 93, 99]\n",
      "Iteración #6\n",
      "[19, 5, 21, 25, 40, 47, 83, 89, 93, 99]\n",
      "Iteración #7\n",
      "[5, 19, 21, 25, 40, 47, 83, 89, 93, 99]\n"
     ]
    }
   ],
   "source": [
    "lista_al_azar = [np.random.randint(0, 100) for i in range(10)]\n",
    "print(lista_al_azar)\n",
    "ordenar(lista_al_azar)"
   ]
  }
 ],
 "metadata": {
  "interpreter": {
   "hash": "afaa7d2a16e40b3c8869a4a6914d5aa423aa6f39b3069e5f1c66c9d7620281a7"
  },
  "kernelspec": {
   "display_name": "Python 3.8.5 64-bit ('base': conda)",
   "name": "python3"
  },
  "language_info": {
   "codemirror_mode": {
    "name": "ipython",
    "version": 3
   },
   "file_extension": ".py",
   "mimetype": "text/x-python",
   "name": "python",
   "nbconvert_exporter": "python",
   "pygments_lexer": "ipython3",
   "version": "3.9.18"
  }
 },
 "nbformat": 4,
 "nbformat_minor": 4
}
