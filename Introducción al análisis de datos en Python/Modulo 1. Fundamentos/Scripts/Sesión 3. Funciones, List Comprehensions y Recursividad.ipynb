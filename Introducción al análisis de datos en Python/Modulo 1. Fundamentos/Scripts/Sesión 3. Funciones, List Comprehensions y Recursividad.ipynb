{
 "cells": [
  {
   "attachments": {},
   "cell_type": "markdown",
   "metadata": {},
   "source": [
    "# **Introducción al análisis de datos en Python** \n",
    "#### Profesor: Lucas Gómez Tobón"
   ]
  },
  {
   "attachments": {},
   "cell_type": "markdown",
   "metadata": {},
   "source": [
    "## Sesión 3: Funciones en Python\n",
    "En la clase pasada tuvimos una introducción a los principales tipos de objetos de Python. En esta clase el objetivo es profundizar en el entendimiento del control flow y las funciones. La idea será crear algoritmos para usarse cada vez que se necesite sin necesidad de re escribir todo un código, permitiendo alguna flexibilidad a partir de parámetros pre establecidos"
   ]
  },
  {
   "attachments": {},
   "cell_type": "markdown",
   "metadata": {},
   "source": [
    "Antes de comenzar la clase, vamos a repasar el concepto de *list-comprehension* el cual será útil el día de hoy.\n",
    "\n",
    "Las *list comprehension* es una sintaxis de Python que permite crear listas de manera concisa y eficiente utilizando una sola línea de código. La sintaxis básica de la list comprehension es la siguiente:\n",
    "\n",
    "```python\n",
    "nueva_lista = [expresión for variable in secuencia if condición]\n",
    "```\n",
    "\n",
    "donde \"nueva_lista\" es la lista que se crea, \"expresión\" es la operación que se realiza en cada elemento de la secuencia, \"variable\" es la variable que representa cada elemento de la secuencia, \"secuencia\" es la lista, tupla o rango de valores que se utiliza para crear la nueva lista y \"condición\" es una condición opcional que se utiliza para filtrar los elementos de la secuencia.\n",
    "\n",
    "Por ejemplo, la siguiente list comprehension crea una lista de los cuadrados de los números del 1 al 10 que son divisibles por 2:"
   ]
  },
  {
   "cell_type": "code",
   "execution_count": 110,
   "metadata": {},
   "outputs": [
    {
     "data": {
      "text/plain": [
       "[4, 16, 36, 64, 100]"
      ]
     },
     "execution_count": 110,
     "metadata": {},
     "output_type": "execute_result"
    }
   ],
   "source": [
    "nueva_lista = [x**2 for x in range(1, 11) if x % 2 == 0]\n",
    "nueva_lista"
   ]
  },
  {
   "attachments": {},
   "cell_type": "markdown",
   "metadata": {},
   "source": [
    "La list comprehension es una forma concisa y eficiente de crear listas en Python y se puede utilizar para realizar diversas operaciones en los elementos de una secuencia, como filtrar, transformar y agregar elementos. Además, las list comprehensions pueden anidarse, lo que permite crear listas complejas de manera clara y concisa."
   ]
  },
  {
   "attachments": {},
   "cell_type": "markdown",
   "metadata": {},
   "source": [
    "## ¿Qué es una función?\n",
    "En Python, una función es un bloque de código reutilizable que realiza una tarea específica. Una función toma uno o más argumentos como entrada, realiza ciertas operaciones y devuelve un resultado. Las funciones se utilizan para modularizar el código, lo que facilita la legibilidad, la reutilización y el mantenimiento del código.\n",
    "\n",
    "Para definir una función en Python, se utiliza la palabra clave \"def\", seguida del nombre de la función y los parámetros entre paréntesis. A continuación, se incluye el código de la función, seguido de la palabra clave \"return\" para devolver el resultado. La sintaxis para definir una función sería entonces:\n",
    "\n",
    "```python\n",
    "def nombre_funcion(parametro1, parametro2, ...):\n",
    "    \"\"\"(Esta parte es opcional)\n",
    "    Descripción de lo que hace la función\n",
    "\n",
    "    Parameters:\n",
    "        parametro1 (clase_parametro1): Descripción de qué es el input y qué valores puede tomar. \n",
    "        parametro2 (clase_parametro2): Descripción de qué es el input y qué valores puede tomar. \n",
    "\n",
    "    Returns:\n",
    "        output1 (clase_output): Descripción de lo que es el output y qué valores puede tomar.\n",
    "    \"\"\"\n",
    "\n",
    "    # Bloque de código\n",
    "    \n",
    "    return(resultado)\n",
    "```"
   ]
  },
  {
   "cell_type": "code",
   "execution_count": 3,
   "metadata": {},
   "outputs": [],
   "source": [
    "def suma_dos_numeros(a, b):\n",
    "    \"\"\"\n",
    "    Esta función toma dos números y entrega la suma de estos.\n",
    "\n",
    "    Parameters:\n",
    "        a (float): número a sumar.\n",
    "        b (float): número a sumar.\n",
    "\n",
    "    Returns:\n",
    "        resultado (float): suma de a + b\n",
    "    \"\"\"\n",
    "    \n",
    "    resultado = a + b\n",
    "\n",
    "    return(resultado)"
   ]
  },
  {
   "cell_type": "code",
   "execution_count": 4,
   "metadata": {},
   "outputs": [
    {
     "name": "stdout",
     "output_type": "stream",
     "text": [
      "\u001b[1;31mSignature:\u001b[0m \u001b[0msuma_dos_numeros\u001b[0m\u001b[1;33m(\u001b[0m\u001b[0ma\u001b[0m\u001b[1;33m,\u001b[0m \u001b[0mb\u001b[0m\u001b[1;33m)\u001b[0m\u001b[1;33m\u001b[0m\u001b[1;33m\u001b[0m\u001b[0m\n",
      "\u001b[1;31mDocstring:\u001b[0m\n",
      "Esta función toma dos números y entrega la suma de estos.\n",
      "\n",
      "Parameters:\n",
      "    a (float): número a sumar.\n",
      "    b (float): número a sumar.\n",
      "\n",
      "Returns:\n",
      "    resultado (float): suma de a + b\n",
      "\u001b[1;31mFile:\u001b[0m      c:\\users\\lucas\\appdata\\local\\temp\\ipykernel_12172\\101591888.py\n",
      "\u001b[1;31mType:\u001b[0m      function\n"
     ]
    }
   ],
   "source": [
    "?suma_dos_numeros"
   ]
  },
  {
   "cell_type": "code",
   "execution_count": 5,
   "metadata": {},
   "outputs": [
    {
     "data": {
      "text/plain": [
       "5"
      ]
     },
     "execution_count": 5,
     "metadata": {},
     "output_type": "execute_result"
    }
   ],
   "source": [
    "suma_dos_numeros(2, 3)"
   ]
  },
  {
   "attachments": {},
   "cell_type": "markdown",
   "metadata": {},
   "source": [
    "Ahora, creemos una función que calcule el área de un circulo. Recuerde que la formula del área de un circulo es:\n",
    "$$\\text{Area}_{\\text{circulo}}= \\pi\\cdot r^2$$\n",
    "\n",
    "En donde $r$ es el radio del circulo."
   ]
  },
  {
   "cell_type": "code",
   "execution_count": 6,
   "metadata": {},
   "outputs": [],
   "source": [
    "def calcular_area_circulo(radio):\n",
    "    pi = 3.14159\n",
    "    area = pi * radio ** 2\n",
    "    return area"
   ]
  },
  {
   "cell_type": "code",
   "execution_count": 7,
   "metadata": {},
   "outputs": [
    {
     "data": {
      "text/plain": [
       "78.53975"
      ]
     },
     "execution_count": 7,
     "metadata": {},
     "output_type": "execute_result"
    }
   ],
   "source": [
    "# Calcule el area de un circulo que tiene 5 cms de radio\n",
    "calcular_area_circulo(radio = 5)"
   ]
  },
  {
   "attachments": {},
   "cell_type": "markdown",
   "metadata": {},
   "source": [
    "Si quisieramos generalizar la función anterior ¿Cómo lo haría?\n",
    "\n",
    "Cree una función que se llame `suma` que reciba como input un iterable y devuelva la suma de todos los elementos del iterable. Esta no debe utilizar ningún paquete o alguna función pre diseñada por un tercero."
   ]
  },
  {
   "cell_type": "code",
   "execution_count": 8,
   "metadata": {},
   "outputs": [],
   "source": [
    "def suma(iterable):\n",
    "    \"\"\"\n",
    "    Función que suma los números en un iterable\n",
    "\n",
    "    Args:\n",
    "        iterable (iter): Es un iterable con números\n",
    "    \"\"\"\n",
    "    \n",
    "    suma_numeros = 0\n",
    "    for num in iterable:\n",
    "        suma_numeros += num\n",
    "    return(suma_numeros)"
   ]
  },
  {
   "cell_type": "code",
   "execution_count": 9,
   "metadata": {},
   "outputs": [
    {
     "data": {
      "text/plain": [
       "21"
      ]
     },
     "execution_count": 9,
     "metadata": {},
     "output_type": "execute_result"
    }
   ],
   "source": [
    "suma([1, 2, 3, 4, 5, 6])"
   ]
  },
  {
   "attachments": {},
   "cell_type": "markdown",
   "metadata": {},
   "source": [
    "### Magic Functions\n",
    "Estas funciones solo funcionan dentro de jupyter, no son de python, son de la interfaz\n",
    "\n",
    "- %whos: Permite ver que hay en el ambiente de trabajo\n",
    "- %time: Permite cuantificar el tiempo que dura en correr el código de una celda\n",
    "- %cd: Cambia el directorio\n",
    "- %dirs: Retorna el directorio actual\n",
    "- %lsmagic: Ver la lista de funciones mágicas\n",
    "- %timeit: Corre varias veces la celda para determinar un tiempo promedio e intervalo de confianza"
   ]
  },
  {
   "cell_type": "code",
   "execution_count": null,
   "metadata": {},
   "outputs": [],
   "source": [
    "%whos"
   ]
  },
  {
   "attachments": {},
   "cell_type": "markdown",
   "metadata": {},
   "source": [
    "A modo ilustrativo, se recuerda que Python tiene la función `sum`, sin embargo, como mencionamos anteriormente, para realizar operaciones matemáticas se sugiere utilizar el paquete `numpy`. A continuación ilustraremos porque usar el último es mejor."
   ]
  },
  {
   "cell_type": "code",
   "execution_count": 10,
   "metadata": {},
   "outputs": [],
   "source": [
    "# Importamos el paquete numpy\n",
    "import numpy as np\n",
    "\n",
    "x = range(10000000)\n",
    "y = np.array(x)"
   ]
  },
  {
   "cell_type": "code",
   "execution_count": 11,
   "metadata": {},
   "outputs": [
    {
     "name": "stdout",
     "output_type": "stream",
     "text": [
      "281 ms ± 6.66 ms per loop (mean ± std. dev. of 7 runs, 1 loop each)\n"
     ]
    }
   ],
   "source": [
    "%%timeit\n",
    "\n",
    "# Calculemos la suma de los primeros 10 millones de números enteros\n",
    "sum(x)"
   ]
  },
  {
   "cell_type": "code",
   "execution_count": 12,
   "metadata": {},
   "outputs": [
    {
     "name": "stdout",
     "output_type": "stream",
     "text": [
      "4.23 ms ± 284 µs per loop (mean ± std. dev. of 7 runs, 100 loops each)\n"
     ]
    }
   ],
   "source": [
    "%%timeit\n",
    "\n",
    "# Calculemos la suma de los primeros 10 millones de números enteros\n",
    "np.sum(y)"
   ]
  },
  {
   "attachments": {},
   "cell_type": "markdown",
   "metadata": {},
   "source": [
    "Construya una función que reciba un número y retorne la palabra \"par\" o \"impar\" dependiendo del insumo. Llame a la función _parImpar_. Pruébela sobre los números 2,3,7,12. Pista: busque que hace __%__. "
   ]
  },
  {
   "cell_type": "code",
   "execution_count": 13,
   "metadata": {},
   "outputs": [],
   "source": [
    "def parImpar(number):\n",
    "    # Si el residuo de un número dividido 2 es cero, significa ue es múltiplo de 2\n",
    "    if (number % 2 == 0): \n",
    "        return(\"par\")\n",
    "    else: \n",
    "        return(\"impar\")"
   ]
  },
  {
   "cell_type": "code",
   "execution_count": 14,
   "metadata": {},
   "outputs": [
    {
     "name": "stdout",
     "output_type": "stream",
     "text": [
      "par\n",
      "impar\n",
      "impar\n",
      "par\n"
     ]
    }
   ],
   "source": [
    "print(parImpar(2))\n",
    "print(parImpar(3))\n",
    "print(parImpar(7))\n",
    "print(parImpar(12))"
   ]
  },
  {
   "attachments": {},
   "cell_type": "markdown",
   "metadata": {},
   "source": [
    "Construya una función que reciba un número y retorne la cantidad de divisores del mismo. En caso de ser un número primo, también debe retornar una cadena de caracteres que diga que es un número primo. Llame a la función divisores"
   ]
  },
  {
   "cell_type": "code",
   "execution_count": 15,
   "metadata": {},
   "outputs": [],
   "source": [
    "def divisores(numero):\n",
    "    contador = 0 # Creamos un contador que aumenta cada vez que el residuo sea 0. \n",
    "    for i in range(numero):\n",
    "        if numero % (i+1) == 0:\n",
    "            contador = contador + 1\n",
    "    if contador == 2:\n",
    "        print('El', numero, 'es un número de primo')\n",
    "    return(contador)"
   ]
  },
  {
   "cell_type": "code",
   "execution_count": 16,
   "metadata": {},
   "outputs": [
    {
     "name": "stdout",
     "output_type": "stream",
     "text": [
      "El 7 es un número de primo\n"
     ]
    },
    {
     "data": {
      "text/plain": [
       "2"
      ]
     },
     "execution_count": 16,
     "metadata": {},
     "output_type": "execute_result"
    }
   ],
   "source": [
    "divisores(7)"
   ]
  },
  {
   "cell_type": "code",
   "execution_count": 17,
   "metadata": {},
   "outputs": [
    {
     "data": {
      "text/plain": [
       "4"
      ]
     },
     "execution_count": 17,
     "metadata": {},
     "output_type": "execute_result"
    }
   ],
   "source": [
    "divisores(8)"
   ]
  },
  {
   "attachments": {},
   "cell_type": "markdown",
   "metadata": {},
   "source": [
    "Construya una función que reciba un número y retorne la **lista** de divisores del mismo. Llame a la función ListDivisores"
   ]
  },
  {
   "cell_type": "code",
   "execution_count": 18,
   "metadata": {},
   "outputs": [],
   "source": [
    "def ListDivisores(numero):\n",
    "    # Creo un lista vacía a la que le voy a añadir los divisores\n",
    "    lista = [] \n",
    "    # Haga un loop desde 0 hasta el número deseado\n",
    "    for i in range(numero): \n",
    "        # Se escribe i + 1 y no i porque arranca desde cero y no desde 1.\n",
    "        # Si el residuo es cero entonces es múltiplo\n",
    "        if numero % (i + 1) == 0: \n",
    "            lista.append(i + 1) \n",
    "    return(lista)"
   ]
  },
  {
   "cell_type": "code",
   "execution_count": 19,
   "metadata": {},
   "outputs": [
    {
     "data": {
      "text/plain": [
       "[1, 7]"
      ]
     },
     "execution_count": 19,
     "metadata": {},
     "output_type": "execute_result"
    }
   ],
   "source": [
    "ListDivisores(7)"
   ]
  },
  {
   "cell_type": "code",
   "execution_count": 20,
   "metadata": {},
   "outputs": [
    {
     "data": {
      "text/plain": [
       "[1, 2, 4, 8]"
      ]
     },
     "execution_count": 20,
     "metadata": {},
     "output_type": "execute_result"
    }
   ],
   "source": [
    "ListDivisores(8)"
   ]
  },
  {
   "cell_type": "code",
   "execution_count": 21,
   "metadata": {},
   "outputs": [
    {
     "data": {
      "text/plain": [
       "[1, 2, 3, 5, 6, 10, 15, 30]"
      ]
     },
     "execution_count": 21,
     "metadata": {},
     "output_type": "execute_result"
    }
   ],
   "source": [
    "ListDivisores(numero = 30)"
   ]
  },
  {
   "attachments": {},
   "cell_type": "markdown",
   "metadata": {},
   "source": [
    "Trate de combinar las dos funciones previas de forma que ahora se reciba un número y retorne la **lista** de divisores del mismo, y que también retorne una cadena de caracteres que diga si el número es primo. "
   ]
  },
  {
   "cell_type": "code",
   "execution_count": 22,
   "metadata": {},
   "outputs": [],
   "source": [
    "def ListDivisores2(numero):\n",
    "    # Creo un lista vacía a la que le voy a añadir los divisores\n",
    "    lista = [] \n",
    "    # Haga un loop desde 0 hasta el número deseado\n",
    "    for i in range(numero): \n",
    "        # Se escribe i + 1 y no i porque arranca desde cero y no desde 1.\n",
    "        # Si el residuo es cero entonces es múltiplo\n",
    "        if numero % (i + 1) == 0: \n",
    "            lista.append(i + 1) \n",
    "    # Si solo hay dos divisores, significa que es el 1 y el número en si, luego es un primo. \n",
    "    if len(lista) == 2: \n",
    "        print('El', numero, 'es un número de primo')\n",
    "    else:\n",
    "        print('El', numero, 'no es un número de primo')\n",
    "    return(lista)"
   ]
  },
  {
   "cell_type": "code",
   "execution_count": 23,
   "metadata": {},
   "outputs": [
    {
     "name": "stdout",
     "output_type": "stream",
     "text": [
      "El 7 es un número de primo\n"
     ]
    },
    {
     "data": {
      "text/plain": [
       "[1, 7]"
      ]
     },
     "execution_count": 23,
     "metadata": {},
     "output_type": "execute_result"
    }
   ],
   "source": [
    "ListDivisores2(7)"
   ]
  },
  {
   "cell_type": "code",
   "execution_count": 24,
   "metadata": {},
   "outputs": [
    {
     "data": {
      "text/plain": [
       "[1, 2, 4, 8]"
      ]
     },
     "execution_count": 24,
     "metadata": {},
     "output_type": "execute_result"
    }
   ],
   "source": [
    "ListDivisores(8)"
   ]
  },
  {
   "cell_type": "code",
   "execution_count": 25,
   "metadata": {},
   "outputs": [
    {
     "data": {
      "text/plain": [
       "[1, 2, 3, 5, 6, 10, 15, 30]"
      ]
     },
     "execution_count": 25,
     "metadata": {},
     "output_type": "execute_result"
    }
   ],
   "source": [
    "ListDivisores(numero = 30)"
   ]
  },
  {
   "attachments": {},
   "cell_type": "markdown",
   "metadata": {},
   "source": [
    "Construya un función que reciba una cadena de caracteres y esta retorne cuantas letras tiene. Use loops"
   ]
  },
  {
   "cell_type": "code",
   "execution_count": 26,
   "metadata": {},
   "outputs": [],
   "source": [
    "def count_letters(string):\n",
    "    count = 0\n",
    "    for letter in string:\n",
    "        count += 1\n",
    "    return count"
   ]
  },
  {
   "cell_type": "code",
   "execution_count": 27,
   "metadata": {},
   "outputs": [
    {
     "data": {
      "text/plain": [
       "8"
      ]
     },
     "execution_count": 27,
     "metadata": {},
     "output_type": "execute_result"
    }
   ],
   "source": [
    "count_letters('economía')"
   ]
  },
  {
   "attachments": {},
   "cell_type": "markdown",
   "metadata": {},
   "source": [
    "Construya la función saludo que reciba su nombre y devuelva el string \"Hola! {nombre}\". Agréguele un parámetro booleano que indique si el saludo deba ser en inglés o en español. "
   ]
  },
  {
   "cell_type": "code",
   "execution_count": 28,
   "metadata": {},
   "outputs": [],
   "source": [
    "def saludo(nombre, español):\n",
    "    if español == True:\n",
    "        return 'Hola!, {}'.format(nombre)\n",
    "    else:\n",
    "        return 'Hello!, {}'.format(nombre)"
   ]
  },
  {
   "cell_type": "code",
   "execution_count": 29,
   "metadata": {},
   "outputs": [
    {
     "data": {
      "text/plain": [
       "'Hola!, Lucas'"
      ]
     },
     "execution_count": 29,
     "metadata": {},
     "output_type": "execute_result"
    }
   ],
   "source": [
    "saludo(\"Lucas\", True)"
   ]
  },
  {
   "cell_type": "code",
   "execution_count": 30,
   "metadata": {},
   "outputs": [
    {
     "data": {
      "text/plain": [
       "'Hello!, Lucas'"
      ]
     },
     "execution_count": 30,
     "metadata": {},
     "output_type": "execute_result"
    }
   ],
   "source": [
    "saludo(\"Lucas\", False)"
   ]
  },
  {
   "cell_type": "code",
   "execution_count": 31,
   "metadata": {},
   "outputs": [
    {
     "ename": "TypeError",
     "evalue": "saludo() missing 1 required positional argument: 'español'",
     "output_type": "error",
     "traceback": [
      "\u001b[1;31m---------------------------------------------------------------------------\u001b[0m",
      "\u001b[1;31mTypeError\u001b[0m                                 Traceback (most recent call last)",
      "\u001b[1;32m~\\AppData\\Local\\Temp\\ipykernel_12172\\2684194957.py\u001b[0m in \u001b[0;36m<module>\u001b[1;34m\u001b[0m\n\u001b[1;32m----> 1\u001b[1;33m \u001b[0msaludo\u001b[0m\u001b[1;33m(\u001b[0m\u001b[1;34m\"Lucas\"\u001b[0m\u001b[1;33m)\u001b[0m\u001b[1;33m\u001b[0m\u001b[1;33m\u001b[0m\u001b[0m\n\u001b[0m",
      "\u001b[1;31mTypeError\u001b[0m: saludo() missing 1 required positional argument: 'español'"
     ]
    }
   ],
   "source": [
    "saludo(\"Lucas\")"
   ]
  },
  {
   "cell_type": "code",
   "execution_count": 32,
   "metadata": {},
   "outputs": [
    {
     "data": {
      "text/plain": [
       "'Hello!, True'"
      ]
     },
     "execution_count": 32,
     "metadata": {},
     "output_type": "execute_result"
    }
   ],
   "source": [
    "saludo(True, \"Lucas\")"
   ]
  },
  {
   "cell_type": "code",
   "execution_count": 33,
   "metadata": {},
   "outputs": [],
   "source": [
    "def saludo(nombre, español):\n",
    "    if español == True:\n",
    "        return 'Hola!, {}'.format(nombre)\n",
    "    elif español == False:\n",
    "        return 'Hello!, {}'.format(nombre)"
   ]
  },
  {
   "cell_type": "code",
   "execution_count": 34,
   "metadata": {},
   "outputs": [],
   "source": [
    "saludo(True, \"Lucas\")"
   ]
  },
  {
   "cell_type": "code",
   "execution_count": 35,
   "metadata": {},
   "outputs": [],
   "source": [
    "def saludo(nombre, español):\n",
    "    if español not in [True, False]:\n",
    "        raise TypeError(\"El parámetro español no es un objeto booleano (True o False). Revise el parámetro\")\n",
    "\n",
    "    if español == True:\n",
    "        return 'Hola!, {}'.format(nombre)\n",
    "    elif español == False:\n",
    "        return 'Hello!, {}'.format(nombre)"
   ]
  },
  {
   "cell_type": "code",
   "execution_count": 36,
   "metadata": {},
   "outputs": [
    {
     "ename": "TypeError",
     "evalue": "El parámetro español no es un objeto booleano (True o False). Revise el parámetro",
     "output_type": "error",
     "traceback": [
      "\u001b[1;31m---------------------------------------------------------------------------\u001b[0m",
      "\u001b[1;31mTypeError\u001b[0m                                 Traceback (most recent call last)",
      "\u001b[1;32m~\\AppData\\Local\\Temp\\ipykernel_12172\\1770110451.py\u001b[0m in \u001b[0;36m<module>\u001b[1;34m\u001b[0m\n\u001b[1;32m----> 1\u001b[1;33m \u001b[0msaludo\u001b[0m\u001b[1;33m(\u001b[0m\u001b[1;32mTrue\u001b[0m\u001b[1;33m,\u001b[0m \u001b[1;34m\"Lucas\"\u001b[0m\u001b[1;33m)\u001b[0m\u001b[1;33m\u001b[0m\u001b[1;33m\u001b[0m\u001b[0m\n\u001b[0m",
      "\u001b[1;32m~\\AppData\\Local\\Temp\\ipykernel_12172\\3047547590.py\u001b[0m in \u001b[0;36msaludo\u001b[1;34m(nombre, español)\u001b[0m\n\u001b[0;32m      1\u001b[0m \u001b[1;32mdef\u001b[0m \u001b[0msaludo\u001b[0m\u001b[1;33m(\u001b[0m\u001b[0mnombre\u001b[0m\u001b[1;33m,\u001b[0m \u001b[0mespañol\u001b[0m\u001b[1;33m)\u001b[0m\u001b[1;33m:\u001b[0m\u001b[1;33m\u001b[0m\u001b[1;33m\u001b[0m\u001b[0m\n\u001b[0;32m      2\u001b[0m     \u001b[1;32mif\u001b[0m \u001b[0mespañol\u001b[0m \u001b[1;32mnot\u001b[0m \u001b[1;32min\u001b[0m \u001b[1;33m[\u001b[0m\u001b[1;32mTrue\u001b[0m\u001b[1;33m,\u001b[0m \u001b[1;32mFalse\u001b[0m\u001b[1;33m]\u001b[0m\u001b[1;33m:\u001b[0m\u001b[1;33m\u001b[0m\u001b[1;33m\u001b[0m\u001b[0m\n\u001b[1;32m----> 3\u001b[1;33m         \u001b[1;32mraise\u001b[0m \u001b[0mTypeError\u001b[0m\u001b[1;33m(\u001b[0m\u001b[1;34m\"El parámetro español no es un objeto booleano (True o False). Revise el parámetro\"\u001b[0m\u001b[1;33m)\u001b[0m\u001b[1;33m\u001b[0m\u001b[1;33m\u001b[0m\u001b[0m\n\u001b[0m\u001b[0;32m      4\u001b[0m \u001b[1;33m\u001b[0m\u001b[0m\n\u001b[0;32m      5\u001b[0m     \u001b[1;32mif\u001b[0m \u001b[0mespañol\u001b[0m \u001b[1;33m==\u001b[0m \u001b[1;32mTrue\u001b[0m\u001b[1;33m:\u001b[0m\u001b[1;33m\u001b[0m\u001b[1;33m\u001b[0m\u001b[0m\n",
      "\u001b[1;31mTypeError\u001b[0m: El parámetro español no es un objeto booleano (True o False). Revise el parámetro"
     ]
    }
   ],
   "source": [
    "saludo(True, \"Lucas\")"
   ]
  },
  {
   "cell_type": "code",
   "execution_count": 37,
   "metadata": {},
   "outputs": [
    {
     "data": {
      "text/plain": [
       "'Hola!, Lucas'"
      ]
     },
     "execution_count": 37,
     "metadata": {},
     "output_type": "execute_result"
    }
   ],
   "source": [
    "saludo(español = True, nombre = \"Lucas\")"
   ]
  },
  {
   "attachments": {},
   "cell_type": "markdown",
   "metadata": {},
   "source": [
    "Los tipos de errores en Python se pueden encontrar en esta [página](https://www.tutorialsteacher.com/python/error-types-in-python). Usted no tiene que ser realmente muy prolijo definiendo sus errores en una función para pequeños desarrollos. Incluso, podría devolver solo un print."
   ]
  },
  {
   "cell_type": "code",
   "execution_count": 38,
   "metadata": {},
   "outputs": [],
   "source": [
    "def saludo(nombre, español):\n",
    "    if español not in [True, False]:\n",
    "        return(\"El parámetro español no es un objeto booleano (True o False). Revise el parámetro\")\n",
    "\n",
    "    if español == True:\n",
    "        return 'Hola!, {}'.format(nombre)\n",
    "    elif español == False:\n",
    "        return 'Hello!, {}'.format(nombre)"
   ]
  },
  {
   "cell_type": "code",
   "execution_count": 39,
   "metadata": {},
   "outputs": [
    {
     "data": {
      "text/plain": [
       "'El parámetro español no es un objeto booleano (True o False). Revise el parámetro'"
      ]
     },
     "execution_count": 39,
     "metadata": {},
     "output_type": "execute_result"
    }
   ],
   "source": [
    "saludo(True, \"Lucas\")"
   ]
  },
  {
   "attachments": {},
   "cell_type": "markdown",
   "metadata": {},
   "source": [
    "### Lambda functions\n",
    "Las lambda functions (funciones lambda) son funciones anónimas en Python que se definen en **una sola línea de código**.\n",
    "\n",
    "Cuando hablamos de funciones \"anónimas\" significa que no tienen un nombre identificador explícito. En lugar de definir una función usando la palabra clave \"def\", se utiliza la palabra clave \"lambda\" seguida de los argumentos y el cuerpo de la función.\n",
    "\n",
    "La sintaxis básica de una función lambda es la siguiente:\n",
    "```python\n",
    "lambda argumentos: expresión\n",
    "```\n",
    "Por ejemplo, si quisiéramos crear una función que sume dos números, podríamos hacerlo de la siguiente manera:"
   ]
  },
  {
   "cell_type": "code",
   "execution_count": 40,
   "metadata": {},
   "outputs": [
    {
     "data": {
      "text/plain": [
       "<function __main__.<lambda>(a, b)>"
      ]
     },
     "execution_count": 40,
     "metadata": {},
     "output_type": "execute_result"
    }
   ],
   "source": [
    "lambda a, b: a + b"
   ]
  },
  {
   "cell_type": "code",
   "execution_count": 41,
   "metadata": {},
   "outputs": [],
   "source": [
    "suma = lambda a, b: a + b"
   ]
  },
  {
   "cell_type": "code",
   "execution_count": 42,
   "metadata": {},
   "outputs": [
    {
     "data": {
      "text/plain": [
       "5"
      ]
     },
     "execution_count": 42,
     "metadata": {},
     "output_type": "execute_result"
    }
   ],
   "source": [
    "suma(2, 3)"
   ]
  },
  {
   "attachments": {},
   "cell_type": "markdown",
   "metadata": {},
   "source": [
    "En este caso, \"suma\" es el nombre de la función lambda que hemos creado, que toma dos argumentos (\"a\" y \"b\") y devuelve su suma."
   ]
  },
  {
   "cell_type": "code",
   "execution_count": 43,
   "metadata": {},
   "outputs": [],
   "source": [
    "cuadrado = lambda x: x**2"
   ]
  },
  {
   "cell_type": "code",
   "execution_count": 44,
   "metadata": {},
   "outputs": [
    {
     "data": {
      "text/plain": [
       "400"
      ]
     },
     "execution_count": 44,
     "metadata": {},
     "output_type": "execute_result"
    }
   ],
   "source": [
    "cuadrado(20)"
   ]
  },
  {
   "attachments": {},
   "cell_type": "markdown",
   "metadata": {},
   "source": [
    "Las funciones lambda se utilizan a menudo en Python como una forma rápida y sencilla de crear funciones ad hoc que sólo se necesitan para un propósito específico y no necesitan un nombre definido. También se utilizan a menudo en combinación con funciones de orden superior, como \"map\" y \"filter\", para procesar datos de forma más eficiente."
   ]
  },
  {
   "attachments": {},
   "cell_type": "markdown",
   "metadata": {},
   "source": [
    "La función `filter` recibe dos argumentos: \n",
    "- una función: esta debe devolver True o False según las condiciones que se definan en la función. \n",
    "- un iterable: un objeto compuesto por varios elementos que se pasarán uno a uno por la función.\n",
    "`filter` devolverá unicamente los elementos del iterable que hayan devuelto True en la función que se le pasó"
   ]
  },
  {
   "cell_type": "code",
   "execution_count": 45,
   "metadata": {},
   "outputs": [
    {
     "data": {
      "text/plain": [
       "<filter at 0x1b2bc132040>"
      ]
     },
     "execution_count": 45,
     "metadata": {},
     "output_type": "execute_result"
    }
   ],
   "source": [
    "numeros = [1, 2, 3, 4, 5, 6, 7, 8, 9]\n",
    "# Note que se usa la función list sobre filter\n",
    "filter(lambda x: x % 2 == 0, numeros)"
   ]
  },
  {
   "cell_type": "code",
   "execution_count": 46,
   "metadata": {},
   "outputs": [
    {
     "data": {
      "text/plain": [
       "[2, 4, 6, 8]"
      ]
     },
     "execution_count": 46,
     "metadata": {},
     "output_type": "execute_result"
    }
   ],
   "source": [
    "list(filter(lambda x: x % 2 == 0, numeros))"
   ]
  },
  {
   "cell_type": "code",
   "execution_count": 47,
   "metadata": {},
   "outputs": [
    {
     "name": "stdout",
     "output_type": "stream",
     "text": [
      "[2, 4, 6, 8]\n"
     ]
    }
   ],
   "source": [
    "numeros_pares = list(filter(lambda x: x % 2 == 0, numeros))\n",
    "print(numeros_pares)"
   ]
  },
  {
   "attachments": {},
   "cell_type": "markdown",
   "metadata": {},
   "source": [
    "`map` por su parte es similar en sintaxis a `filter`, sin embargo, el argumento de función no necesariamente debe devolver True o False. En este caso map lo que hace es aplicar una función sobre cada uno de los elementos del iterable."
   ]
  },
  {
   "cell_type": "code",
   "execution_count": 48,
   "metadata": {},
   "outputs": [
    {
     "data": {
      "text/plain": [
       "<map at 0x1b2bc14aa60>"
      ]
     },
     "execution_count": 48,
     "metadata": {},
     "output_type": "execute_result"
    }
   ],
   "source": [
    "map(lambda x: x ** 2, numeros)"
   ]
  },
  {
   "cell_type": "code",
   "execution_count": 49,
   "metadata": {},
   "outputs": [
    {
     "data": {
      "text/plain": [
       "[1, 4, 9, 16, 25, 36, 49, 64, 81]"
      ]
     },
     "execution_count": 49,
     "metadata": {},
     "output_type": "execute_result"
    }
   ],
   "source": [
    "list(map(lambda x: x ** 2, numeros))"
   ]
  },
  {
   "cell_type": "code",
   "execution_count": 50,
   "metadata": {},
   "outputs": [
    {
     "name": "stdout",
     "output_type": "stream",
     "text": [
      "[1, 4, 9, 16, 25, 36, 49, 64, 81]\n"
     ]
    }
   ],
   "source": [
    "numeros_cuadrados = list(map(lambda x: x ** 2, numeros))\n",
    "print(numeros_cuadrados)"
   ]
  },
  {
   "attachments": {},
   "cell_type": "markdown",
   "metadata": {},
   "source": [
    "En todos estos casos se pudo haber hecho uso de una función definida por `def`, sin embargo es más rápido usar un `lambda function`"
   ]
  },
  {
   "attachments": {},
   "cell_type": "markdown",
   "metadata": {},
   "source": [
    "Considere la situación en la que usted tiene un diccionario con las notas de un curso y usted quiere sacar el promedio de cada alumno. Anteriormente habríamos sacado el promedio \"a mano\" o con un *loop*, sin embargo, ¿qué pasaría si tenemos muchos alumnos (y no queremos usar un loop)?"
   ]
  },
  {
   "cell_type": "code",
   "execution_count": 51,
   "metadata": {},
   "outputs": [],
   "source": [
    "notas = {'Juan': [4.5, 3.7, 3.4, 5],'Alicia': [3.5, 3.1, 4.2, 3.9], 'Germán': [2.6, 3.0, 3.9, 4.1]}"
   ]
  },
  {
   "cell_type": "code",
   "execution_count": 52,
   "metadata": {},
   "outputs": [
    {
     "name": "stdout",
     "output_type": "stream",
     "text": [
      "25.1 µs ± 1.02 µs per loop (mean ± std. dev. of 7 runs, 10000 loops each)\n"
     ]
    }
   ],
   "source": [
    "%%timeit\n",
    "\n",
    "promedios = []\n",
    "for i in notas.keys():\n",
    "    promedio_i = np.mean(notas[i])\n",
    "    promedios.append(promedio_i)"
   ]
  },
  {
   "cell_type": "code",
   "execution_count": 53,
   "metadata": {},
   "outputs": [
    {
     "name": "stdout",
     "output_type": "stream",
     "text": [
      "25.7 µs ± 2.33 µs per loop (mean ± std. dev. of 7 runs, 10000 loops each)\n"
     ]
    }
   ],
   "source": [
    "%%timeit\n",
    "list(map(np.mean, notas.values()))"
   ]
  },
  {
   "attachments": {},
   "cell_type": "markdown",
   "metadata": {},
   "source": [
    "Como puede ver, cuando se compara la eficiencia entre ambas aproximaciones al problema, note que map es ligeramente más rápida que hacer un loop, sin embargo, lo más relevante, note que map es una aproximación mucho más sencilla."
   ]
  },
  {
   "attachments": {},
   "cell_type": "markdown",
   "metadata": {},
   "source": [
    "### ¿Qué es la recursividad o recursión?"
   ]
  },
  {
   "attachments": {},
   "cell_type": "markdown",
   "metadata": {},
   "source": [
    "La recursividad consiste en funciones que se llaman a sí mismas, evitando el uso de loops.\n",
    "\n",
    "Un ejemplo fácil de ver y que se usa a menudo es el cálculo del factorial de un número entero. El factorial de un número se define como ese número multiplicado por el anterior, éste por el anterior, y así sucesivamente hasta llegar a 1. Así, por ejemplo, el factorial del número 5 sería: $5\\times4\\times3\\times2\\times1 = 120$.\n",
    "\n",
    "Una forma de programar este problema sería a partir de loops, por ejemplo"
   ]
  },
  {
   "cell_type": "code",
   "execution_count": 7,
   "metadata": {},
   "outputs": [
    {
     "data": {
      "text/plain": [
       "120"
      ]
     },
     "execution_count": 7,
     "metadata": {},
     "output_type": "execute_result"
    }
   ],
   "source": [
    "def factorial_loop(numero):\n",
    "    fact = 1\n",
    "    while(numero > 0):\n",
    "        fact = fact*numero\n",
    "        numero = numero - 1\n",
    "    return(fact)\n",
    "\n",
    "factorial_loop(numero = 5)"
   ]
  },
  {
   "attachments": {},
   "cell_type": "markdown",
   "metadata": {},
   "source": [
    "Sin embargo, se podría programar usando recursión de la siguiente manera:"
   ]
  },
  {
   "cell_type": "code",
   "execution_count": 5,
   "metadata": {},
   "outputs": [],
   "source": [
    "def factorial_recursivo(numero):\n",
    "    if numero == 0:\n",
    "        return 1\n",
    "    else:\n",
    "        return numero * factorial_recursivo(numero -1)"
   ]
  },
  {
   "attachments": {},
   "cell_type": "markdown",
   "metadata": {},
   "source": [
    "Si el número es 0, el factorial es 1. De lo contrario, la función llama a sí misma con un valor decrementado en 1 y multiplica el número original por el resultado de esa llamada recursiva. Esto se repite hasta que el número llegue a 0 y se devuelve el resultado final."
   ]
  },
  {
   "cell_type": "code",
   "execution_count": 6,
   "metadata": {},
   "outputs": [
    {
     "data": {
      "text/plain": [
       "120"
      ]
     },
     "execution_count": 6,
     "metadata": {},
     "output_type": "execute_result"
    }
   ],
   "source": [
    "factorial_recursivo(numero = 5)"
   ]
  },
  {
   "attachments": {},
   "cell_type": "markdown",
   "metadata": {},
   "source": [
    "La estructura básica de una función que usa la recursividad es la siguiente:\n",
    "\n",
    "1. La función debe tener un caso base: un punto de parada que no involucra llamadas recursivas y que permite que la función se detenga y devuelva un resultado.\n",
    "\n",
    "2. La función debe tener un caso recursivo: un caso en el que la función se llama a sí misma para resolver un subproblema más pequeño y luego combina la solución del subproblema con el problema original.\n",
    "\n",
    "3. La función debe acercarse al caso base con cada llamada recursiva: debe haber una reducción en la complejidad del problema original con cada llamada recursiva, de tal manera que eventualmente se llegue al caso base.\n",
    "\n",
    "4. La función debe devolver un resultado: después de resolver el caso base, la función debe devolver un resultado que combine la solución del subproblema con el problema original.\n",
    "\n",
    "En términos de estructura de código, una función recursiva típica puede tener esta apariencia:\n",
    "\n",
    "```python\n",
    "def funcion_recursiva(parametros):\n",
    "    if caso_base:\n",
    "        # código para caso base\n",
    "    else:\n",
    "        # código para caso recursivo\n",
    "        resultado_subproblema = funcion_recursiva(parametros_reducidos)\n",
    "        # código para combinar resultado_subproblema con el problema original\n",
    "        return resultado\n",
    "```\n",
    "\n",
    "Es importante tener en cuenta que, al usar la recursividad, puede haber un mayor uso de memoria y un aumento en el tiempo de ejecución debido al apilamiento de llamadas en la pila de la máquina. Por lo tanto, se recomienda utilizar la recursividad solo cuando sea necesario y cuando no haya una solución más simple y directa mediante iteración."
   ]
  },
  {
   "attachments": {},
   "cell_type": "markdown",
   "metadata": {},
   "source": [
    "Cree una función para encontrar el Máximo Común Divisor (MCD) entre dos números enteros positivos utilizando recursión. "
   ]
  },
  {
   "cell_type": "code",
   "execution_count": 6,
   "metadata": {},
   "outputs": [],
   "source": [
    "def mcd(a, b):\n",
    "\tbajo = min(a, b)\n",
    "\talto = max(a, b)\n",
    "\n",
    "\t# Condición de parada 1\n",
    "\t# El Máximo Común Divisor entre el cero y cualquier otro número es el otro número. \n",
    "\tif bajo == 0:\n",
    "\t\treturn alto\n",
    "\t# Condición de parada 2\n",
    "\t# El Máximo Común Divisor entre el uno cualquier otro número es el uno\n",
    "\telif bajo == 1:\n",
    "\t\treturn 1\n",
    "\t# A partir del residuo de la división entre el número más grande y el número más pequeño es posible encontrar\n",
    "\t# el MCD\n",
    "\telse:\n",
    "\t\treturn mcd(bajo, alto % bajo)"
   ]
  },
  {
   "cell_type": "code",
   "execution_count": 7,
   "metadata": {},
   "outputs": [
    {
     "data": {
      "text/plain": [
       "2"
      ]
     },
     "execution_count": 7,
     "metadata": {},
     "output_type": "execute_result"
    }
   ],
   "source": [
    "mcd(4, 6)"
   ]
  },
  {
   "cell_type": "code",
   "execution_count": 4,
   "metadata": {},
   "outputs": [
    {
     "data": {
      "text/plain": [
       "12"
      ]
     },
     "execution_count": 4,
     "metadata": {},
     "output_type": "execute_result"
    }
   ],
   "source": [
    "mcd(0, 12)"
   ]
  },
  {
   "cell_type": "code",
   "execution_count": 3,
   "metadata": {},
   "outputs": [
    {
     "data": {
      "text/plain": [
       "1"
      ]
     },
     "execution_count": 3,
     "metadata": {},
     "output_type": "execute_result"
    }
   ],
   "source": [
    "mcd(7, 13)"
   ]
  }
 ],
 "metadata": {
  "kernelspec": {
   "display_name": "base",
   "language": "python",
   "name": "python3"
  },
  "language_info": {
   "codemirror_mode": {
    "name": "ipython",
    "version": 3
   },
   "file_extension": ".py",
   "mimetype": "text/x-python",
   "name": "python",
   "nbconvert_exporter": "python",
   "pygments_lexer": "ipython3",
   "version": "3.9.18"
  },
  "orig_nbformat": 4
 },
 "nbformat": 4,
 "nbformat_minor": 2
}
