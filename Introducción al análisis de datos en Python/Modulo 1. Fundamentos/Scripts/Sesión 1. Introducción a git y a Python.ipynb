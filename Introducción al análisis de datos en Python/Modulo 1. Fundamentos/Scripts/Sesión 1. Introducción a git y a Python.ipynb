{
 "cells": [
  {
   "cell_type": "markdown",
   "metadata": {},
   "source": [
    "# Taller de Programación en Python\n",
    "### Profesor: Lucas Gómez Tobón"
   ]
  },
  {
   "cell_type": "markdown",
   "metadata": {},
   "source": [
    "# Clase 1: Introducción a git y a Python\n",
    "> **Objetivo**: El objetivo de este taller es que se familiaricen con los elementos básicos de Python.\n",
    "\n",
    "¿Qué es y Por qué Python? \n",
    "\n",
    "Python es un [lenguaje de programación](https://es.wikipedia.org/wiki/Lenguaje_de_programaci%C3%B3n)\n",
    "- Es el tercer lenguaje de programación más popular del mundo.\n",
    "- Es el primero cuando se trata de temas de análisis de datos.\n",
    "- Es un lenguaje de propósito general, es decir que se utiliza para muchas cosas como Machine Learning, Internet of things, creación de aplicaciones web, de escritorio y de móviles.\n",
    "- Open-source\n",
    "- Comunidad grande y colaborativa\n",
    "\n",
    "> **Recuerde**: Estamos usando Python 3.9. Usamos como *Managers* PIP y Conda. Todo esto lo logramos de manera sencilla instalando [Miniconda](https://docs.conda.io/en/latest/miniconda.html)."
   ]
  },
  {
   "cell_type": "markdown",
   "metadata": {},
   "source": [
    "### Jupyter Notebook\n",
    "Los archivos de extensión *.ipynb* presentan una interfaz muy cómoda para el aprendizaje, y la colaboración. Contiene:\n",
    "- Celdas de código\n",
    "- Celdas de [markdown](https://github.com/adam-p/markdown-here/wiki/Markdown-Cheatsheet) (como esta)\n",
    "- Celdas de texto crudo\n",
    "- Kernel\n",
    "\n",
    "<div class=\"alert alert-info\">\n",
    "La documentación oficial de Jupyter está  \n",
    "<a href=\"https://jupyter-notebook.readthedocs.io/en/stable/\" class=\"alert-link\">aquí</a>\n",
    "y puede encontrar algunos Notebooks didácticos \n",
    "<a href=\"https://github.com/jupyter/notebook/tree/master/docs/source/examples/Notebook\" class=\"alert-link\">aquí</a>\n",
    "\n",
    "Entre las ventajas de utilizar Jupyter Notebooks es que se pueden incluir formulas matemáticas utilizando comandos de Latex al igual que imágenes o hipervínculos.\n",
    "$$\\text{Teorema de Pitágoras: }c = \\sqrt{a^2 + b^2}$$\n",
    "\n",
    "<center>\n",
    "<img src=\"https://res.cloudinary.com/koruro/image/upload/v1636739509/Teorema_de_pitagoras_lados_46985ead86.png\" alt=\"Teorema de Pitágoras\" style=\"width:400px;height:200px;\">\n",
    "</center>\n"
   ]
  },
  {
   "cell_type": "markdown",
   "metadata": {},
   "source": [
    "### Kernel\n",
    "El \"kernel\" es lo que permite que se corran cosas en python, Jupyter es una interfaz para que los bloques de código corran dentro de una consola de python, el kernel es el que conecta esta interfaz con la parte del computador que corre el código.\n",
    "\n",
    "El kernel también guarda **espacio de trabajo**, es decir todas las variables que se han declarado. \n",
    "\n",
    "Se puede reiniciar el kernel de manera rápida en la pestaña de \"kernel\" en el tope."
   ]
  },
  {
   "cell_type": "markdown",
   "metadata": {},
   "source": [
    "---"
   ]
  },
  {
   "cell_type": "markdown",
   "metadata": {},
   "source": [
    "# Clase 2. Tipos de variables en Python\n",
    "En Python una variables es creada cuando se le asigna algun valor y se nombra."
   ]
  },
  {
   "cell_type": "code",
   "execution_count": 1,
   "metadata": {},
   "outputs": [],
   "source": [
    "x = 5 \n",
    "y = 'Hola Mundo!'"
   ]
  },
  {
   "cell_type": "markdown",
   "metadata": {},
   "source": [
    "Para saber cuál es el valor de una variable siempre utilizaremos la función nativa de Python, `print()`. Por ejemplo:"
   ]
  },
  {
   "cell_type": "code",
   "execution_count": 3,
   "metadata": {},
   "outputs": [
    {
     "name": "stdout",
     "output_type": "stream",
     "text": [
      "5\n",
      "Hola Mundo!\n"
     ]
    }
   ],
   "source": [
    "print(x)\n",
    "print(y)"
   ]
  },
  {
   "cell_type": "code",
   "execution_count": 5,
   "metadata": {},
   "outputs": [
    {
     "data": {
      "text/plain": [
       "'Hola Mundo!'"
      ]
     },
     "execution_count": 5,
     "metadata": {},
     "output_type": "execute_result"
    }
   ],
   "source": [
    "x\n",
    "y"
   ]
  },
  {
   "cell_type": "markdown",
   "metadata": {},
   "source": [
    "Podemos modificar las variables que hemos construido:"
   ]
  },
  {
   "cell_type": "code",
   "execution_count": 7,
   "metadata": {},
   "outputs": [
    {
     "name": "stdout",
     "output_type": "stream",
     "text": [
      "8\n"
     ]
    }
   ],
   "source": [
    "# Sumarle 3 a x\n",
    "x = x + 3\n",
    "print(x)"
   ]
  },
  {
   "cell_type": "code",
   "execution_count": 9,
   "metadata": {},
   "outputs": [
    {
     "name": "stdout",
     "output_type": "stream",
     "text": [
      "Hola Mundo! Mi nombre es Lucas\n"
     ]
    }
   ],
   "source": [
    "# Añadir más texto\n",
    "y = y + \" Mi nombre es Lucas\"\n",
    "print(y)"
   ]
  },
  {
   "cell_type": "markdown",
   "metadata": {},
   "source": [
    "### Tipos de variables básicas\n",
    "Existen 4 tipos de variable básicas\n",
    "\n",
    "1. `Integers`. O sea los números enteros: `1, 7, 10000, -70`\n",
    "2. `Float`. Número de punto flotante, es decir que es un número que tiene algún decimal. `3.0, 3.1416, -4.3, 1.0000, 0.00`\n",
    "3. `Strings`. Variables que se codifican como texto. Siempre van entre comillas. `'3', \"a\", \"hola\", \"adasd\", \"20BC\"`\n",
    "4. `Boolean`. Solo pueden tomar dos valores: Verdadero o Falso, que en Python serían ```True``` o `False`"
   ]
  },
  {
   "cell_type": "code",
   "execution_count": 10,
   "metadata": {},
   "outputs": [],
   "source": [
    "# Note que cada elemento tiene un color diferente. Los comentarios son verde oscuro, los números verde claro, los operadores blancos, \n",
    "# las variables en azul claro y los booleanos en azul oscuro (En vscode).\n",
    "\n",
    "# Integer\n",
    "a = 1\n",
    "# Float\n",
    "b = -1.2\n",
    "# String\n",
    "c = \"1\"\n",
    "# Bool\n",
    "d = True"
   ]
  },
  {
   "cell_type": "code",
   "execution_count": 11,
   "metadata": {},
   "outputs": [
    {
     "data": {
      "text/plain": [
       "float"
      ]
     },
     "execution_count": 11,
     "metadata": {},
     "output_type": "execute_result"
    }
   ],
   "source": [
    "# Con la función type se puede chequear la clase o tipo de cada objeto\n",
    "type(0.0)"
   ]
  },
  {
   "cell_type": "code",
   "execution_count": 13,
   "metadata": {},
   "outputs": [
    {
     "data": {
      "text/plain": [
       "int"
      ]
     },
     "execution_count": 13,
     "metadata": {},
     "output_type": "execute_result"
    }
   ],
   "source": [
    "type(a)"
   ]
  },
  {
   "cell_type": "code",
   "execution_count": 14,
   "metadata": {},
   "outputs": [
    {
     "data": {
      "text/plain": [
       "float"
      ]
     },
     "execution_count": 14,
     "metadata": {},
     "output_type": "execute_result"
    }
   ],
   "source": [
    "type(b)"
   ]
  },
  {
   "cell_type": "code",
   "execution_count": 15,
   "metadata": {},
   "outputs": [
    {
     "data": {
      "text/plain": [
       "str"
      ]
     },
     "execution_count": 15,
     "metadata": {},
     "output_type": "execute_result"
    }
   ],
   "source": [
    "type(c)"
   ]
  },
  {
   "cell_type": "code",
   "execution_count": 16,
   "metadata": {},
   "outputs": [
    {
     "data": {
      "text/plain": [
       "bool"
      ]
     },
     "execution_count": 16,
     "metadata": {},
     "output_type": "execute_result"
    }
   ],
   "source": [
    "type(d)"
   ]
  },
  {
   "cell_type": "code",
   "execution_count": 17,
   "metadata": {},
   "outputs": [
    {
     "data": {
      "text/plain": [
       "complex"
      ]
     },
     "execution_count": 17,
     "metadata": {},
     "output_type": "execute_result"
    }
   ],
   "source": [
    "# También podemos tener números complejos, pero no nos preocuparemos por eso en esta clase\n",
    "type(1j)"
   ]
  },
  {
   "cell_type": "markdown",
   "metadata": {},
   "source": [
    "Saber el tipo de variable que es cada uno de los objetos es muy importante porque Python le va a dar un trato diferente a cada uno de ellos. Mismas operaciones se pueden comportar diferente entre clases de objeto o podrían estar no definidas. \n",
    "\n",
    "### Operaciones de variables numéricas\n",
    "El uso más básico de Python es convertirlo en una calculadora. Los símbolos para calcular las operaciones básicas son los siguientes:\n",
    "\n",
    "| Operación | Resultado       |\n",
    "| --------- | --------------- |\n",
    "|    +      | Suma            |\n",
    "|    -      | Resta           |\n",
    "|    *      | Multiplicación  |\n",
    "|    /      | División        |\n",
    "|    %      | Modulo          |\n",
    "|    //     | División entera |\n",
    "|    \\*\\*   | Potencia        |\n"
   ]
  },
  {
   "cell_type": "code",
   "execution_count": 18,
   "metadata": {},
   "outputs": [],
   "source": [
    "# Otra forma de asignar variables\n",
    "a, b, c = 5, 2, 87\n",
    "\n",
    "# Esa línea es homologa a:\n",
    "a = 5\n",
    "b = 2\n",
    "c = 11"
   ]
  },
  {
   "cell_type": "code",
   "execution_count": 27,
   "metadata": {},
   "outputs": [
    {
     "data": {
      "text/plain": [
       "2.5"
      ]
     },
     "execution_count": 27,
     "metadata": {},
     "output_type": "execute_result"
    }
   ],
   "source": [
    "# División\n",
    "a / b"
   ]
  },
  {
   "cell_type": "code",
   "execution_count": 26,
   "metadata": {},
   "outputs": [
    {
     "data": {
      "text/plain": [
       "2"
      ]
     },
     "execution_count": 26,
     "metadata": {},
     "output_type": "execute_result"
    }
   ],
   "source": [
    "# División entera\n",
    "a // b"
   ]
  },
  {
   "cell_type": "code",
   "execution_count": 28,
   "metadata": {},
   "outputs": [
    {
     "data": {
      "text/plain": [
       "10"
      ]
     },
     "execution_count": 28,
     "metadata": {},
     "output_type": "execute_result"
    }
   ],
   "source": [
    "# Multipliación\n",
    "a * b"
   ]
  },
  {
   "cell_type": "code",
   "execution_count": 29,
   "metadata": {},
   "outputs": [
    {
     "data": {
      "text/plain": [
       "1331"
      ]
     },
     "execution_count": 29,
     "metadata": {},
     "output_type": "execute_result"
    }
   ],
   "source": [
    "# Potencia\n",
    "c ** 3"
   ]
  },
  {
   "cell_type": "code",
   "execution_count": 32,
   "metadata": {},
   "outputs": [
    {
     "data": {
      "text/plain": [
       "5.5"
      ]
     },
     "execution_count": 32,
     "metadata": {},
     "output_type": "execute_result"
    }
   ],
   "source": [
    "# División y Modulo (Residuo)\n",
    "c / b"
   ]
  },
  {
   "cell_type": "code",
   "execution_count": 33,
   "metadata": {},
   "outputs": [
    {
     "data": {
      "text/plain": [
       "1"
      ]
     },
     "execution_count": 33,
     "metadata": {},
     "output_type": "execute_result"
    }
   ],
   "source": [
    "c % b"
   ]
  },
  {
   "cell_type": "markdown",
   "metadata": {},
   "source": [
    "### Operadores de asignación\n",
    "Existen unos operadores que me permiten realizar operaciones y sobreescribir mi variable en una sola línea.\n",
    "1. ¿Qué hace `+=`?\n",
    "2. ¿Qué hace `-=`?\n",
    "3. ¿Qué hace `*=`?\n",
    "4. ¿Qué hace `/=`?\n",
    "5. ¿Qué hace `**=`?"
   ]
  },
  {
   "cell_type": "code",
   "execution_count": 34,
   "metadata": {},
   "outputs": [
    {
     "name": "stdout",
     "output_type": "stream",
     "text": [
      "Valor original: 5\n"
     ]
    }
   ],
   "source": [
    "x = 5\n",
    "print('Valor original:', x)"
   ]
  },
  {
   "cell_type": "code",
   "execution_count": 35,
   "metadata": {},
   "outputs": [
    {
     "name": "stdout",
     "output_type": "stream",
     "text": [
      "Le sumo 2 a x: 7\n"
     ]
    }
   ],
   "source": [
    "x = 5\n",
    "x = x + 2\n",
    "print('Le sumo 2 a x:', x)"
   ]
  },
  {
   "cell_type": "code",
   "execution_count": 36,
   "metadata": {},
   "outputs": [
    {
     "name": "stdout",
     "output_type": "stream",
     "text": [
      "Le sumo 2 a x: 7\n"
     ]
    }
   ],
   "source": [
    "x = 5\n",
    "x += 2\n",
    "print('Le sumo 2 a x:', x)"
   ]
  },
  {
   "cell_type": "code",
   "execution_count": 37,
   "metadata": {},
   "outputs": [
    {
     "name": "stdout",
     "output_type": "stream",
     "text": [
      "Le resto 2: 5\n"
     ]
    }
   ],
   "source": [
    "x -= 2\n",
    "print('Le resto 2:', x)"
   ]
  },
  {
   "cell_type": "code",
   "execution_count": 38,
   "metadata": {},
   "outputs": [
    {
     "name": "stdout",
     "output_type": "stream",
     "text": [
      "Lo multiplico por 2: 10\n"
     ]
    }
   ],
   "source": [
    "x *= 2\n",
    "print('Lo multiplico por 2:', x)"
   ]
  },
  {
   "cell_type": "code",
   "execution_count": 39,
   "metadata": {},
   "outputs": [
    {
     "name": "stdout",
     "output_type": "stream",
     "text": [
      "Lo divido por 5: 2.0\n"
     ]
    }
   ],
   "source": [
    "x /= 5\n",
    "print('Lo divido por 5:', x)"
   ]
  },
  {
   "cell_type": "code",
   "execution_count": 40,
   "metadata": {},
   "outputs": [
    {
     "name": "stdout",
     "output_type": "stream",
     "text": [
      "Lo elevo a la 2: 4.0\n"
     ]
    }
   ],
   "source": [
    "x **= 2\n",
    "print('Lo elevo a la 2:', x)"
   ]
  },
  {
   "cell_type": "markdown",
   "metadata": {},
   "source": [
    "### Operaciones Booleanos (comparar valores)\n",
    "Adicionalmente podemos comparar objetos para saber si son iguales, diferentes, mayores o menores.\n",
    "\n",
    "| Operación | Resultado       |\n",
    "| --------- | --------------- |\n",
    "|    ==      | Igual            |\n",
    "|    !=     | No igual           |\n",
    "|    >      | Mayor que  |\n",
    "|    <      | Menor que        |\n",
    "|    >=      | Mayor o igual que          |\n",
    "|    <=     | Menor o igual que |\n"
   ]
  },
  {
   "cell_type": "code",
   "execution_count": 45,
   "metadata": {},
   "outputs": [
    {
     "data": {
      "text/plain": [
       "5"
      ]
     },
     "execution_count": 45,
     "metadata": {},
     "output_type": "execute_result"
    }
   ],
   "source": [
    "a"
   ]
  },
  {
   "cell_type": "code",
   "execution_count": 46,
   "metadata": {},
   "outputs": [
    {
     "data": {
      "text/plain": [
       "2"
      ]
     },
     "execution_count": 46,
     "metadata": {},
     "output_type": "execute_result"
    }
   ],
   "source": [
    "b"
   ]
  },
  {
   "cell_type": "code",
   "execution_count": 43,
   "metadata": {},
   "outputs": [
    {
     "name": "stdout",
     "output_type": "stream",
     "text": [
      "True\n"
     ]
    }
   ],
   "source": [
    "print(a > b)"
   ]
  },
  {
   "cell_type": "code",
   "execution_count": 44,
   "metadata": {},
   "outputs": [
    {
     "name": "stdout",
     "output_type": "stream",
     "text": [
      "True\n"
     ]
    }
   ],
   "source": [
    "print(a >= b)"
   ]
  },
  {
   "cell_type": "code",
   "execution_count": 47,
   "metadata": {},
   "outputs": [
    {
     "name": "stdout",
     "output_type": "stream",
     "text": [
      "False\n"
     ]
    }
   ],
   "source": [
    "print(a == 6)"
   ]
  },
  {
   "cell_type": "code",
   "execution_count": 48,
   "metadata": {},
   "outputs": [
    {
     "name": "stdout",
     "output_type": "stream",
     "text": [
      "True\n"
     ]
    }
   ],
   "source": [
    "print(a != 6)"
   ]
  },
  {
   "cell_type": "markdown",
   "metadata": {},
   "source": [
    "Estas operaciones también las podemos realizar con strings"
   ]
  },
  {
   "cell_type": "code",
   "execution_count": 50,
   "metadata": {},
   "outputs": [
    {
     "name": "stdout",
     "output_type": "stream",
     "text": [
      "False\n"
     ]
    }
   ],
   "source": [
    "mi_nombre = \"Lucas\"\n",
    "print(mi_nombre == 'Isabella')"
   ]
  },
  {
   "cell_type": "code",
   "execution_count": 51,
   "metadata": {},
   "outputs": [
    {
     "name": "stdout",
     "output_type": "stream",
     "text": [
      "False\n"
     ]
    }
   ],
   "source": [
    "print(mi_nombre == 'lucas')"
   ]
  },
  {
   "cell_type": "code",
   "execution_count": 52,
   "metadata": {},
   "outputs": [
    {
     "data": {
      "text/plain": [
       "True"
      ]
     },
     "execution_count": 52,
     "metadata": {},
     "output_type": "execute_result"
    }
   ],
   "source": [
    "\"Lucas\" != \"Camilo\""
   ]
  },
  {
   "cell_type": "code",
   "execution_count": 53,
   "metadata": {},
   "outputs": [
    {
     "data": {
      "text/plain": [
       "True"
      ]
     },
     "execution_count": 53,
     "metadata": {},
     "output_type": "execute_result"
    }
   ],
   "source": [
    "# Para saber si una palabra es más grande que otra, se utiliza el orden alfabético. Las primeras letras del abecedario\n",
    "# son más pequeñas. En este caso Lucas es más grande que Camilo porque L está después de C en el abecedario\n",
    "\"Lucas\" > \"Camilo\""
   ]
  },
  {
   "cell_type": "code",
   "execution_count": 54,
   "metadata": {},
   "outputs": [
    {
     "data": {
      "text/plain": [
       "False"
      ]
     },
     "execution_count": 54,
     "metadata": {},
     "output_type": "execute_result"
    }
   ],
   "source": [
    "# En este caso Camilo es más grande porque la C está después de la A\n",
    "\"Aucas\" > \"Camilo\""
   ]
  },
  {
   "cell_type": "code",
   "execution_count": 55,
   "metadata": {},
   "outputs": [
    {
     "data": {
      "text/plain": [
       "False"
      ]
     },
     "execution_count": 55,
     "metadata": {},
     "output_type": "execute_result"
    }
   ],
   "source": [
    "# Las letras mayúsculas preceden a las minúsculas\n",
    "\"Aucas\" > \"aamilo\""
   ]
  },
  {
   "cell_type": "code",
   "execution_count": 56,
   "metadata": {},
   "outputs": [
    {
     "data": {
      "text/plain": [
       "False"
      ]
     },
     "execution_count": 56,
     "metadata": {},
     "output_type": "execute_result"
    }
   ],
   "source": [
    "\"A\" > \"a\""
   ]
  },
  {
   "cell_type": "markdown",
   "metadata": {},
   "source": [
    "Adicionalmente se pueden realizar operaciones aritméticas con las variables booleanas"
   ]
  },
  {
   "cell_type": "code",
   "execution_count": 57,
   "metadata": {},
   "outputs": [
    {
     "name": "stdout",
     "output_type": "stream",
     "text": [
      "2\n"
     ]
    }
   ],
   "source": [
    "# Cuando se hacen estas operaciones, Python transforma los objetos booleanos en integers. \n",
    "# True significa 1 y False 0\n",
    "print(True + True)"
   ]
  },
  {
   "cell_type": "code",
   "execution_count": 58,
   "metadata": {},
   "outputs": [
    {
     "data": {
      "text/plain": [
       "int"
      ]
     },
     "execution_count": 58,
     "metadata": {},
     "output_type": "execute_result"
    }
   ],
   "source": [
    "type(True + True)"
   ]
  },
  {
   "cell_type": "code",
   "execution_count": 59,
   "metadata": {},
   "outputs": [
    {
     "data": {
      "text/plain": [
       "1"
      ]
     },
     "execution_count": 59,
     "metadata": {},
     "output_type": "execute_result"
    }
   ],
   "source": [
    "int(True)"
   ]
  },
  {
   "cell_type": "code",
   "execution_count": 60,
   "metadata": {},
   "outputs": [
    {
     "data": {
      "text/plain": [
       "0"
      ]
     },
     "execution_count": 60,
     "metadata": {},
     "output_type": "execute_result"
    }
   ],
   "source": [
    "int(False)"
   ]
  },
  {
   "cell_type": "code",
   "execution_count": 61,
   "metadata": {},
   "outputs": [
    {
     "name": "stdout",
     "output_type": "stream",
     "text": [
      "1\n"
     ]
    }
   ],
   "source": [
    "print(True + False)"
   ]
  },
  {
   "cell_type": "code",
   "execution_count": 62,
   "metadata": {},
   "outputs": [
    {
     "name": "stdout",
     "output_type": "stream",
     "text": [
      "0\n"
     ]
    }
   ],
   "source": [
    "print(False + False)"
   ]
  },
  {
   "cell_type": "code",
   "execution_count": 63,
   "metadata": {},
   "outputs": [
    {
     "name": "stdout",
     "output_type": "stream",
     "text": [
      "5\n"
     ]
    }
   ],
   "source": [
    "print(True*5)"
   ]
  },
  {
   "cell_type": "code",
   "execution_count": 64,
   "metadata": {},
   "outputs": [
    {
     "name": "stdout",
     "output_type": "stream",
     "text": [
      "0\n"
     ]
    }
   ],
   "source": [
    "print(False*5)"
   ]
  },
  {
   "cell_type": "markdown",
   "metadata": {},
   "source": [
    "Se pueden usar los operadores de `y` e `o` para construir comparaciones más complejas. Recuerde las tablas de verdad\n",
    "| a | b | A and B | A or B |\n",
    "|:-:|:-:|:-------:|:------:|\n",
    "| T | T |    T    |    T   |\n",
    "| T | F |    F    |    T   |\n",
    "| F | T |    F    |    T   |\n",
    "| F | F |    F    |    F   |"
   ]
  },
  {
   "cell_type": "code",
   "execution_count": 65,
   "metadata": {},
   "outputs": [
    {
     "data": {
      "text/plain": [
       "True"
      ]
     },
     "execution_count": 65,
     "metadata": {},
     "output_type": "execute_result"
    }
   ],
   "source": [
    "True and True"
   ]
  },
  {
   "cell_type": "code",
   "execution_count": 66,
   "metadata": {},
   "outputs": [
    {
     "data": {
      "text/plain": [
       "False"
      ]
     },
     "execution_count": 66,
     "metadata": {},
     "output_type": "execute_result"
    }
   ],
   "source": [
    "True and False"
   ]
  },
  {
   "cell_type": "code",
   "execution_count": 67,
   "metadata": {},
   "outputs": [
    {
     "data": {
      "text/plain": [
       "False"
      ]
     },
     "execution_count": 67,
     "metadata": {},
     "output_type": "execute_result"
    }
   ],
   "source": [
    "False and True"
   ]
  },
  {
   "cell_type": "code",
   "execution_count": 68,
   "metadata": {},
   "outputs": [
    {
     "data": {
      "text/plain": [
       "False"
      ]
     },
     "execution_count": 68,
     "metadata": {},
     "output_type": "execute_result"
    }
   ],
   "source": [
    "False and False"
   ]
  },
  {
   "cell_type": "code",
   "execution_count": 69,
   "metadata": {},
   "outputs": [
    {
     "data": {
      "text/plain": [
       "True"
      ]
     },
     "execution_count": 69,
     "metadata": {},
     "output_type": "execute_result"
    }
   ],
   "source": [
    "True or True"
   ]
  },
  {
   "cell_type": "code",
   "execution_count": 70,
   "metadata": {},
   "outputs": [
    {
     "data": {
      "text/plain": [
       "True"
      ]
     },
     "execution_count": 70,
     "metadata": {},
     "output_type": "execute_result"
    }
   ],
   "source": [
    "True or False"
   ]
  },
  {
   "cell_type": "code",
   "execution_count": 72,
   "metadata": {},
   "outputs": [
    {
     "data": {
      "text/plain": [
       "True"
      ]
     },
     "execution_count": 72,
     "metadata": {},
     "output_type": "execute_result"
    }
   ],
   "source": [
    "False or True"
   ]
  },
  {
   "cell_type": "code",
   "execution_count": 71,
   "metadata": {},
   "outputs": [
    {
     "data": {
      "text/plain": [
       "False"
      ]
     },
     "execution_count": 71,
     "metadata": {},
     "output_type": "execute_result"
    }
   ],
   "source": [
    "False or False"
   ]
  },
  {
   "cell_type": "code",
   "execution_count": 73,
   "metadata": {},
   "outputs": [
    {
     "data": {
      "text/plain": [
       "False"
      ]
     },
     "execution_count": 73,
     "metadata": {},
     "output_type": "execute_result"
    }
   ],
   "source": [
    "not True"
   ]
  },
  {
   "cell_type": "code",
   "execution_count": 74,
   "metadata": {},
   "outputs": [
    {
     "data": {
      "text/plain": [
       "True"
      ]
     },
     "execution_count": 74,
     "metadata": {},
     "output_type": "execute_result"
    }
   ],
   "source": [
    "not False"
   ]
  },
  {
   "cell_type": "code",
   "execution_count": 75,
   "metadata": {},
   "outputs": [
    {
     "data": {
      "text/plain": [
       "5"
      ]
     },
     "execution_count": 75,
     "metadata": {},
     "output_type": "execute_result"
    }
   ],
   "source": [
    "a"
   ]
  },
  {
   "cell_type": "code",
   "execution_count": 76,
   "metadata": {},
   "outputs": [
    {
     "name": "stdout",
     "output_type": "stream",
     "text": [
      "False\n"
     ]
    }
   ],
   "source": [
    "print(a > 5 and a <= 10)"
   ]
  },
  {
   "cell_type": "code",
   "execution_count": 77,
   "metadata": {},
   "outputs": [
    {
     "name": "stdout",
     "output_type": "stream",
     "text": [
      "False\n"
     ]
    }
   ],
   "source": [
    "print(a > 5 or a % 3 == 0)"
   ]
  },
  {
   "cell_type": "markdown",
   "metadata": {},
   "source": [
    "### Strings"
   ]
  },
  {
   "cell_type": "markdown",
   "metadata": {},
   "source": [
    "Cree dos objetos que sean `nombre` y `apellido`. Súmelos"
   ]
  },
  {
   "cell_type": "code",
   "execution_count": 78,
   "metadata": {},
   "outputs": [],
   "source": [
    "nombre = \"Lucas\"\n",
    "apellido = \"Gomez\"\n",
    "mi_nombre = nombre + \" \" + apellido\n",
    "print(mi_nombre)"
   ]
  },
  {
   "cell_type": "markdown",
   "metadata": {},
   "source": [
    "¿Qué métodos tiene un string? use `mi_nombre.` y la tecla tab."
   ]
  },
  {
   "cell_type": "code",
   "execution_count": 98,
   "metadata": {},
   "outputs": [
    {
     "data": {
      "text/plain": [
       "'LUCAS GOMEZ'"
      ]
     },
     "execution_count": 98,
     "metadata": {},
     "output_type": "execute_result"
    }
   ],
   "source": [
    "mi_nombre.upper()"
   ]
  },
  {
   "cell_type": "code",
   "execution_count": 99,
   "metadata": {},
   "outputs": [
    {
     "data": {
      "text/plain": [
       "'lucas gomez'"
      ]
     },
     "execution_count": 99,
     "metadata": {},
     "output_type": "execute_result"
    }
   ],
   "source": [
    "mi_nombre.lower()"
   ]
  },
  {
   "cell_type": "code",
   "execution_count": 100,
   "metadata": {},
   "outputs": [
    {
     "data": {
      "text/plain": [
       "'Lucas gomez'"
      ]
     },
     "execution_count": 100,
     "metadata": {},
     "output_type": "execute_result"
    }
   ],
   "source": [
    "mi_nombre.capitalize()"
   ]
  },
  {
   "cell_type": "markdown",
   "metadata": {},
   "source": [
    "Multiplique por 3 la variable `nombre` e imprimala"
   ]
  },
  {
   "cell_type": "code",
   "execution_count": 90,
   "metadata": {},
   "outputs": [
    {
     "data": {
      "text/plain": [
       "'LucasLucasLucas'"
      ]
     },
     "execution_count": 90,
     "metadata": {},
     "output_type": "execute_result"
    }
   ],
   "source": [
    "nombre * 3"
   ]
  },
  {
   "cell_type": "markdown",
   "metadata": {},
   "source": [
    "Obtenga el número de caracteres en `nombre`"
   ]
  },
  {
   "cell_type": "code",
   "execution_count": 91,
   "metadata": {},
   "outputs": [
    {
     "data": {
      "text/plain": [
       "5"
      ]
     },
     "execution_count": 91,
     "metadata": {},
     "output_type": "execute_result"
    }
   ],
   "source": [
    "# Diferencia entre funciones y atributos. Python es un lenguaje de programación orientado a objetos\n",
    "len(nombre)"
   ]
  },
  {
   "cell_type": "markdown",
   "metadata": {},
   "source": [
    "Pregunte si una cadena de caracteres está dentro su variable `nombre`"
   ]
  },
  {
   "cell_type": "code",
   "execution_count": 92,
   "metadata": {},
   "outputs": [
    {
     "data": {
      "text/plain": [
       "True"
      ]
     },
     "execution_count": 92,
     "metadata": {},
     "output_type": "execute_result"
    }
   ],
   "source": [
    "'u' in nombre"
   ]
  },
  {
   "cell_type": "code",
   "execution_count": 93,
   "metadata": {},
   "outputs": [
    {
     "data": {
      "text/plain": [
       "1"
      ]
     },
     "execution_count": 93,
     "metadata": {},
     "output_type": "execute_result"
    }
   ],
   "source": [
    "nombre.find('u')"
   ]
  },
  {
   "cell_type": "markdown",
   "metadata": {},
   "source": [
    "Python es un lenguaje de programación que utiliza la indexación base cero. Esto significa que el conteo de los elementos en una secuencia (como listas, tuplas y cadenas) comienza en el número 0 en lugar de 1."
   ]
  },
  {
   "cell_type": "code",
   "execution_count": 95,
   "metadata": {},
   "outputs": [
    {
     "data": {
      "text/plain": [
       "'L'"
      ]
     },
     "execution_count": 95,
     "metadata": {},
     "output_type": "execute_result"
    }
   ],
   "source": [
    "nombre[0]"
   ]
  },
  {
   "cell_type": "code",
   "execution_count": 94,
   "metadata": {},
   "outputs": [
    {
     "data": {
      "text/plain": [
       "'u'"
      ]
     },
     "execution_count": 94,
     "metadata": {},
     "output_type": "execute_result"
    }
   ],
   "source": [
    "nombre[1]"
   ]
  },
  {
   "cell_type": "markdown",
   "metadata": {},
   "source": [
    "Extraiga el segundo y tercer carácter de `apellido`\n",
    "\n",
    "En Python, el slicing permite obtener subpartes de secuencias como cadenas de texto, listas, o tuplas, usando una sintaxis de corchetes `[]` con índices que indican el inicio y el fin del segmento que se quiere extraer. Los índices se separan con dos puntos `:`. Por ejemplo, si `apellido = \"Gomez\"`, para extraer el segundo y tercer carácter, se utilizaría `apellido[1:3]`, donde el número `1` es el índice del segundo carácter (recordando que Python es de indexación base cero) y `3` es el índice donde termina el slice (sin incluirlo). Esto devolvería la subcadena `\"om\"`."
   ]
  },
  {
   "cell_type": "code",
   "execution_count": 97,
   "metadata": {},
   "outputs": [
    {
     "data": {
      "text/plain": [
       "'om'"
      ]
     },
     "execution_count": 97,
     "metadata": {},
     "output_type": "execute_result"
    }
   ],
   "source": [
    "apellido[1:3]"
   ]
  },
  {
   "cell_type": "code",
   "execution_count": 112,
   "metadata": {},
   "outputs": [
    {
     "data": {
      "text/plain": [
       "'omez'"
      ]
     },
     "execution_count": 112,
     "metadata": {},
     "output_type": "execute_result"
    }
   ],
   "source": [
    "# Desde la segunda letra hasta la última\n",
    "apellido[1::]"
   ]
  },
  {
   "cell_type": "code",
   "execution_count": 113,
   "metadata": {},
   "outputs": [
    {
     "data": {
      "text/plain": [
       "'z'"
      ]
     },
     "execution_count": 113,
     "metadata": {},
     "output_type": "execute_result"
    }
   ],
   "source": [
    "# Ultimo carácter\n",
    "apellido[-1]"
   ]
  },
  {
   "cell_type": "code",
   "execution_count": 121,
   "metadata": {},
   "outputs": [
    {
     "data": {
      "text/plain": [
       "'mez'"
      ]
     },
     "execution_count": 121,
     "metadata": {},
     "output_type": "execute_result"
    }
   ],
   "source": [
    "# Últimos tres caracteres\n",
    "apellido[-3:]"
   ]
  },
  {
   "cell_type": "code",
   "execution_count": 122,
   "metadata": {},
   "outputs": [
    {
     "data": {
      "text/plain": [
       "'me'"
      ]
     },
     "execution_count": 122,
     "metadata": {},
     "output_type": "execute_result"
    }
   ],
   "source": [
    "# Últimos tres caracteres sin incluir el último\n",
    "apellido[-3:-1]"
   ]
  },
  {
   "cell_type": "markdown",
   "metadata": {},
   "source": [
    "1. Cree la variable `edad` y guarde su edad en ella como un entero.\n",
    "2. Cree la variable `carrera` y guarde su carrera en ella como un string.\n",
    "3. Imprima su presentación combinando en el `print` strings y variables (`nombre`, `apellido`, `edad` y `carrera`).\n",
    "4. Repita lo anterior usando la suma de strings.\n",
    "5. Repita lo anterior usando `.format()`.\n",
    "6. Repita lo anterior usando `.join()`."
   ]
  },
  {
   "cell_type": "code",
   "execution_count": 126,
   "metadata": {},
   "outputs": [
    {
     "name": "stdout",
     "output_type": "stream",
     "text": [
      "Yo soy Lucas Gomez , tengo 25 años y soy Economista\n",
      "Yo soy Lucas Gomez, tengo 25 años y soy Economista\n",
      "Yo soy Lucas Gomez, tengo 25 años y soy Economista\n",
      "Mi nombre es Lucas Gomez, tengo 25 años y soy Economista\n",
      "Yo soy Lucas Gomez , tengo 25 años y soy Economista\n"
     ]
    }
   ],
   "source": [
    "edad = 25\n",
    "carrera = 'Economista'\n",
    "print('Yo soy', nombre, apellido, ', tengo', edad, 'años y soy', carrera) # Aquí no debo poner espacios\n",
    "print('Yo soy ' + nombre + ' ' + apellido + ', tengo ' + str(edad) + ' años y soy ' + carrera) # Aquí sí debo poner espacios\n",
    "print('Yo soy {} {}, tengo {} años y soy {}'.format(nombre, apellido, edad, carrera))\n",
    "print(f'Mi nombre es {nombre} {apellido}, tengo {str(edad)} años y soy {carrera}')\n",
    "print(' '.join(['Yo soy', nombre, apellido, ', tengo', str(edad), 'años y soy', carrera]))"
   ]
  },
  {
   "cell_type": "code",
   "execution_count": 128,
   "metadata": {},
   "outputs": [
    {
     "name": "stdout",
     "output_type": "stream",
     "text": [
      "Mi comida favorita es \n"
     ]
    }
   ],
   "source": [
    "print('Mi comida favorita es {}'.format(input(\"¿Cuál es su comida favorita?\")))"
   ]
  },
  {
   "cell_type": "markdown",
   "metadata": {},
   "source": [
    "Construya los objetos `fruta` y `postre` con la información de su fruta y postre favorito. Use los siguientes métodos:\n",
    "- **count**: Cuente cuantas veces se repite un carácter en una cadena.\n",
    "- **replace**: Reemplaza un carácter o parte de una cadena por otro carácter o cadena.\n",
    "- **split**: Divide una cadena según los espacios que tenga y genera una lista de palabras."
   ]
  },
  {
   "cell_type": "code",
   "execution_count": 133,
   "metadata": {},
   "outputs": [],
   "source": [
    "fruta = 'maracuyá'\n",
    "postre = 'brownie con helado'"
   ]
  },
  {
   "cell_type": "code",
   "execution_count": 134,
   "metadata": {},
   "outputs": [
    {
     "data": {
      "text/plain": [
       "2"
      ]
     },
     "execution_count": 134,
     "metadata": {},
     "output_type": "execute_result"
    }
   ],
   "source": [
    "fruta.count('a')"
   ]
  },
  {
   "cell_type": "code",
   "execution_count": 141,
   "metadata": {},
   "outputs": [
    {
     "name": "stdout",
     "output_type": "stream",
     "text": [
      "maracuya\n"
     ]
    },
    {
     "data": {
      "text/plain": [
       "3"
      ]
     },
     "execution_count": 141,
     "metadata": {},
     "output_type": "execute_result"
    }
   ],
   "source": [
    "fruta = fruta.replace('á','a')\n",
    "print(fruta)\n",
    "fruta.count('a')"
   ]
  },
  {
   "cell_type": "code",
   "execution_count": 140,
   "metadata": {},
   "outputs": [
    {
     "data": {
      "text/plain": [
       "3"
      ]
     },
     "execution_count": 140,
     "metadata": {},
     "output_type": "execute_result"
    }
   ],
   "source": [
    "fruta = 'maracuyá'\n",
    "fruta.replace('á','a').count('a')"
   ]
  },
  {
   "cell_type": "code",
   "execution_count": 142,
   "metadata": {},
   "outputs": [
    {
     "data": {
      "text/plain": [
       "['brownie', 'con', 'helado']"
      ]
     },
     "execution_count": 142,
     "metadata": {},
     "output_type": "execute_result"
    }
   ],
   "source": [
    "postre.split(' ')"
   ]
  },
  {
   "cell_type": "markdown",
   "metadata": {},
   "source": [
    "### Listas\n",
    "Las listas en Python son una estructura de datos que permite almacenar una colección ordenada de elementos. Los elementos pueden ser de cualquier tipo, como números, cadenas de texto, booleanos, otras listas, objetos personalizados, entre otros.\n",
    "\n",
    "Las listas se definen utilizando corchetes `[]` y separando los elementos por comas. Por ejemplo, una lista de números enteros se puede definir así:\n",
    "\n",
    "```\n",
    "numeros = [1, 2, 3, 4, 5]\n",
    "```\n",
    "\n",
    "Además, es posible acceder a los elementos de una lista mediante su índice, **que comienza en 0 para el primer elemento**. Por ejemplo, `numeros[0]` devuelve el primer elemento de la lista numeros, que en este caso es 1. También es posible acceder a una porción de la lista utilizando la notación de slicing, por ejemplo, `numeros[1:3]` devuelve una lista que contiene los elementos en las posiciones 1 y 2 (excluyendo la posición 3)."
   ]
  },
  {
   "cell_type": "code",
   "execution_count": 143,
   "metadata": {},
   "outputs": [
    {
     "data": {
      "text/plain": [
       "[2, 3]"
      ]
     },
     "execution_count": 143,
     "metadata": {},
     "output_type": "execute_result"
    }
   ],
   "source": [
    "numeros = [1, 2, 3, 4, 5]\n",
    "numeros[1:3]"
   ]
  },
  {
   "cell_type": "markdown",
   "metadata": {},
   "source": [
    "1. Construya una lista llamada `lista_1` que contenga las variables `a`, `b`, el número `0.5` y `mi_nombre`."
   ]
  },
  {
   "cell_type": "code",
   "execution_count": 145,
   "metadata": {},
   "outputs": [
    {
     "data": {
      "text/plain": [
       "[5, 2, 0.5, 'Lucas Gomez']"
      ]
     },
     "execution_count": 145,
     "metadata": {},
     "output_type": "execute_result"
    }
   ],
   "source": [
    "lista_1 = [a, b, 0.5, mi_nombre]\n",
    "lista_1"
   ]
  },
  {
   "cell_type": "markdown",
   "metadata": {},
   "source": [
    "2. Extraiga e imprima el primer elemento de la lista (recuerde que en Python se comienza desde la posición 0)."
   ]
  },
  {
   "cell_type": "code",
   "execution_count": 146,
   "metadata": {},
   "outputs": [
    {
     "name": "stdout",
     "output_type": "stream",
     "text": [
      "5\n"
     ]
    }
   ],
   "source": [
    "print(lista_1[0])"
   ]
  },
  {
   "cell_type": "markdown",
   "metadata": {},
   "source": [
    "3. Extraiga e imprima el último elemento de la lista (recuerde que para hacer esto no es necesario saber el tamaño de la lista).\n"
   ]
  },
  {
   "cell_type": "code",
   "execution_count": 147,
   "metadata": {},
   "outputs": [
    {
     "name": "stdout",
     "output_type": "stream",
     "text": [
      "Lucas Gomez\n"
     ]
    }
   ],
   "source": [
    "print(lista_1[-1])"
   ]
  },
  {
   "cell_type": "code",
   "execution_count": 149,
   "metadata": {},
   "outputs": [
    {
     "name": "stdout",
     "output_type": "stream",
     "text": [
      "Lucas Gomez\n"
     ]
    }
   ],
   "source": [
    "print(lista_1[len(lista_1) - 1])"
   ]
  },
  {
   "cell_type": "markdown",
   "metadata": {},
   "source": [
    "4. Extraiga e imprima los dos primeros elementos.\n"
   ]
  },
  {
   "cell_type": "code",
   "execution_count": 150,
   "metadata": {},
   "outputs": [
    {
     "name": "stdout",
     "output_type": "stream",
     "text": [
      "[5, 2]\n"
     ]
    }
   ],
   "source": [
    "print(lista_1[0:2])"
   ]
  },
  {
   "cell_type": "markdown",
   "metadata": {},
   "source": [
    "5. Extraiga e imprima los elementos impares."
   ]
  },
  {
   "cell_type": "code",
   "execution_count": 153,
   "metadata": {},
   "outputs": [
    {
     "data": {
      "text/plain": [
       "[5, 0.5]"
      ]
     },
     "execution_count": 153,
     "metadata": {},
     "output_type": "execute_result"
    }
   ],
   "source": [
    "lista_1[0:len(mi_nombre):2]"
   ]
  },
  {
   "cell_type": "markdown",
   "metadata": {},
   "source": [
    "También se pueden usar las operaciones aritméticas entre listas: \n",
    "- `+` para concatenar dos listas\n",
    "- `*` para repetir varias veces los elementos de una lista"
   ]
  },
  {
   "cell_type": "code",
   "execution_count": 155,
   "metadata": {},
   "outputs": [
    {
     "name": "stdout",
     "output_type": "stream",
     "text": [
      "[1, 2, 3, 5, 6, 7]\n",
      "[1, 2, 3, 1, 2, 3, 1, 2, 3]\n"
     ]
    }
   ],
   "source": [
    "print([1,2,3] + [5,6,7])\n",
    "print([1,2,3] * 3)"
   ]
  },
  {
   "cell_type": "markdown",
   "metadata": {},
   "source": [
    "Algunos métodos útiles para trabajar con las listas son:"
   ]
  },
  {
   "cell_type": "code",
   "execution_count": 156,
   "metadata": {},
   "outputs": [
    {
     "name": "stdout",
     "output_type": "stream",
     "text": [
      "[5, 2, 10, 'Lucas Gomez', 'Sofia']\n"
     ]
    }
   ],
   "source": [
    "# Agregar un elemento al final de la lista\n",
    "lista_1.append('Sofia')\n",
    "print(lista_1)"
   ]
  },
  {
   "cell_type": "code",
   "execution_count": 157,
   "metadata": {},
   "outputs": [
    {
     "name": "stdout",
     "output_type": "stream",
     "text": [
      "['Sofia', 'Lucas Gomez', 10, 2, 5]\n"
     ]
    }
   ],
   "source": [
    "# Invertir el orden de la lista\n",
    "lista_1.reverse()\n",
    "print(lista_1)"
   ]
  },
  {
   "cell_type": "code",
   "execution_count": 158,
   "metadata": {},
   "outputs": [
    {
     "data": {
      "text/plain": [
       "[5, 2, 10, 'Lucas Gomez', 'Sofia']"
      ]
     },
     "execution_count": 158,
     "metadata": {},
     "output_type": "execute_result"
    }
   ],
   "source": [
    "# Invertir el orden de la lista\n",
    "lista_1[::-1]"
   ]
  },
  {
   "cell_type": "code",
   "execution_count": 160,
   "metadata": {},
   "outputs": [
    {
     "name": "stdout",
     "output_type": "stream",
     "text": [
      "['Sofia', 'Lucas Gomez', 10, 2, 5]\n",
      "['Sofia', 'Lucas Gomez', 2, 5]\n"
     ]
    }
   ],
   "source": [
    "# Eliminar un elemento de la lista por su índice. Si queremos eliminar 10, debemos decirle que elimine el elemento del índice 2 (posición 3) \n",
    "print(lista_1)\n",
    "lista_1.pop(2)\n",
    "print(lista_1)"
   ]
  },
  {
   "cell_type": "code",
   "execution_count": 163,
   "metadata": {},
   "outputs": [
    {
     "data": {
      "text/plain": [
       "3"
      ]
     },
     "execution_count": 163,
     "metadata": {},
     "output_type": "execute_result"
    }
   ],
   "source": [
    "# Dice la posición en la lista donde se encuentra el elemento pasado a la lista\n",
    "lista_1.index(5) "
   ]
  },
  {
   "cell_type": "code",
   "execution_count": 166,
   "metadata": {},
   "outputs": [
    {
     "name": "stdout",
     "output_type": "stream",
     "text": [
      "range(0, 10)\n",
      "[0, 1, 2, 3, 4, 5, 6, 7, 8, 9]\n",
      "[0, 1, 2, 3, 4, 5, 6, 7, 8, 9, 10]\n"
     ]
    }
   ],
   "source": [
    "# Crear una lista de los números del 0 al 10\n",
    "print(range(0, 10))\n",
    "print(list(range(0, 10)))\n",
    "print(list(range(0, 11)))"
   ]
  },
  {
   "cell_type": "code",
   "execution_count": 167,
   "metadata": {},
   "outputs": [
    {
     "data": {
      "text/plain": [
       "[1, 3, 5, 7, 9]"
      ]
     },
     "execution_count": 167,
     "metadata": {},
     "output_type": "execute_result"
    }
   ],
   "source": [
    "# Crear una lista de los números impares del 0 al 10\n",
    "impares = list(range(1, 11, 2))\n",
    "impares"
   ]
  },
  {
   "cell_type": "code",
   "execution_count": 168,
   "metadata": {},
   "outputs": [
    {
     "data": {
      "text/plain": [
       "[9, 7, 5, 3, 1]"
      ]
     },
     "execution_count": 168,
     "metadata": {},
     "output_type": "execute_result"
    }
   ],
   "source": [
    "impares.sort(reverse = True)\n",
    "impares"
   ]
  },
  {
   "cell_type": "code",
   "execution_count": 169,
   "metadata": {},
   "outputs": [
    {
     "data": {
      "text/plain": [
       "[1, 3, 5, 7, 9]"
      ]
     },
     "execution_count": 169,
     "metadata": {},
     "output_type": "execute_result"
    }
   ],
   "source": [
    "impares.sort()\n",
    "impares"
   ]
  },
  {
   "cell_type": "code",
   "execution_count": 170,
   "metadata": {},
   "outputs": [
    {
     "name": "stdout",
     "output_type": "stream",
     "text": [
      "[]\n",
      "[100, 99, 98, 97, 96, 95, 94, 93, 92, 91, 90]\n",
      "[100, 99, 98, 97, 96, 95, 94, 93, 92, 91, 90]\n"
     ]
    }
   ],
   "source": [
    "# Crear una lista descendente del 100 al 90\n",
    "print(list(range(100, 89)))\n",
    "print(list(range(100, 89, -1)))\n",
    "print(list(range(90, 101))[::-1])"
   ]
  },
  {
   "cell_type": "markdown",
   "metadata": {},
   "source": [
    "Para modificar los elementos de una lista en Python, se puede acceder a ellos mediante su índice y asignarles un nuevo valor. Por ejemplo, si tenemos la siguiente lista:"
   ]
  },
  {
   "cell_type": "code",
   "execution_count": 171,
   "metadata": {},
   "outputs": [],
   "source": [
    "frutas = [\"manzana\", \"banana\", \"kiwi\", \"pera\"]"
   ]
  },
  {
   "cell_type": "markdown",
   "metadata": {},
   "source": [
    "Podemos modificar el segundo elemento \"banana\" por \"fresa\" de la siguiente manera:"
   ]
  },
  {
   "cell_type": "code",
   "execution_count": 173,
   "metadata": {},
   "outputs": [
    {
     "data": {
      "text/plain": [
       "['manzana', 'fresa', 'kiwi', 'pera']"
      ]
     },
     "execution_count": 173,
     "metadata": {},
     "output_type": "execute_result"
    }
   ],
   "source": [
    "frutas[1] = \"fresa\"\n",
    "frutas"
   ]
  },
  {
   "cell_type": "markdown",
   "metadata": {},
   "source": [
    "También es posible modificar varios elementos de la lista al mismo tiempo usando la notación de slicing. Por ejemplo, para cambiar los elementos de la posición 1 y 2 por \"mango\" y \"piña\" respectivamente, se puede hacer lo siguiente:"
   ]
  },
  {
   "cell_type": "code",
   "execution_count": 174,
   "metadata": {},
   "outputs": [
    {
     "data": {
      "text/plain": [
       "['manzana', 'mango', 'piña', 'pera']"
      ]
     },
     "execution_count": 174,
     "metadata": {},
     "output_type": "execute_result"
    }
   ],
   "source": [
    "frutas[1:3] = [\"mango\", \"piña\"]\n",
    "frutas"
   ]
  },
  {
   "cell_type": "markdown",
   "metadata": {},
   "source": [
    "Es importante tener en cuenta que los elementos de una lista son mutables, por lo que si un elemento es una lista, se puede modificar los elementos de esa lista interna mediante su índice."
   ]
  },
  {
   "cell_type": "code",
   "execution_count": 175,
   "metadata": {},
   "outputs": [
    {
     "data": {
      "text/plain": [
       "175"
      ]
     },
     "execution_count": 175,
     "metadata": {},
     "output_type": "execute_result"
    }
   ],
   "source": [
    "# Creemos una lista con las características de talla y peso de diferentes personas\n",
    "Camilo = [182, 80]\n",
    "Valentina = [175, 65]\n",
    "personas = [Camilo, Valentina]\n",
    "# Para acceder a la estatura de Valentina desde personas haríamos\n",
    "personas[1][0]"
   ]
  },
  {
   "cell_type": "markdown",
   "metadata": {},
   "source": [
    "## Tuplas\n",
    "En Python, una tupla es una estructura de datos similar a una lista, pero con la diferencia de que las tuplas son inmutables. Esto significa que una vez que se ha creado una tupla, no se puede modificar su contenido.\n",
    "\n",
    "Las tuplas se definen utilizando paréntesis `()` y separando los elementos por comas. Por ejemplo, una tupla que contiene los meses del año se puede definir así:"
   ]
  },
  {
   "cell_type": "code",
   "execution_count": 1,
   "metadata": {},
   "outputs": [],
   "source": [
    "meses = (\"Enero\", \"Febrero\", \"Marzo\", \"Abril\", \"Mayo\", \"Junio\", \"Julio\", \"Agosto\", \"Septiembre\", \"Octubre\", \"Noviembre\", \"Diciembre\")"
   ]
  },
  {
   "cell_type": "markdown",
   "metadata": {},
   "source": [
    "A diferencia de las listas, no se pueden agregar ni eliminar elementos de una tupla, ni modificar los valores de sus elementos. Sin embargo, se pueden realizar algunas operaciones con las tuplas, como acceder a sus elementos mediante el índice, hacer slicing o concatenar dos tuplas para crear una nueva tupla.\n",
    "\n",
    "Las tuplas suelen ser útiles cuando se necesita almacenar una colección de elementos que no van a cambiar durante la ejecución del programa, ya que son más eficientes en términos de memoria y rendimiento que las listas. Además, las tuplas se utilizan a menudo para devolver varios valores de una función en Python."
   ]
  },
  {
   "cell_type": "code",
   "execution_count": 2,
   "metadata": {},
   "outputs": [],
   "source": [
    "puntos = [(0, 0), (1, 2), (3, 5), (-1, 4)]"
   ]
  },
  {
   "cell_type": "markdown",
   "metadata": {},
   "source": [
    "Podemos acceder a los valores de cada coordenada de un punto usando la notación de índice. Por ejemplo, para obtener la coordenada x del segundo punto, podemos hacer lo siguiente:"
   ]
  },
  {
   "cell_type": "code",
   "execution_count": 3,
   "metadata": {},
   "outputs": [
    {
     "data": {
      "text/plain": [
       "1"
      ]
     },
     "execution_count": 3,
     "metadata": {},
     "output_type": "execute_result"
    }
   ],
   "source": [
    "x = puntos[1][0]\n",
    "x"
   ]
  },
  {
   "cell_type": "markdown",
   "metadata": {},
   "source": [
    "## Diccionarios\n",
    "En Python, un diccionario es una estructura de datos que permite almacenar una colección de elementos, donde cada elemento está asociado a una clave única. En lugar de utilizar un índice numérico como en el caso de las listas y tuplas, se utiliza una clave para acceder a los elementos del diccionario.\n",
    "\n",
    "Los diccionarios se definen utilizando llaves `{}` y separando cada clave y su correspondiente valor por dos puntos `:`. Por ejemplo, un diccionario que representa la información de un estudiante podría tener las siguientes claves y valores:"
   ]
  },
  {
   "cell_type": "code",
   "execution_count": 176,
   "metadata": {},
   "outputs": [],
   "source": [
    "estudiante = {\"nombre\": \"Juan\", \"apellido\": \"Pérez\", \"edad\": 20, \"carrera\": \"Ingeniería\"}"
   ]
  },
  {
   "cell_type": "markdown",
   "metadata": {},
   "source": [
    "En este ejemplo, cada clave (nombre, apellido, edad, carrera) está asociada a un valor (Juan, Pérez, 20, Ingeniería), y se puede acceder a cada valor utilizando su clave. Por ejemplo, para obtener el nombre del estudiante, se puede hacer lo siguiente:"
   ]
  },
  {
   "cell_type": "code",
   "execution_count": 177,
   "metadata": {},
   "outputs": [
    {
     "data": {
      "text/plain": [
       "'Juan'"
      ]
     },
     "execution_count": 177,
     "metadata": {},
     "output_type": "execute_result"
    }
   ],
   "source": [
    "nombre = estudiante[\"nombre\"]\n",
    "nombre"
   ]
  },
  {
   "cell_type": "markdown",
   "metadata": {},
   "source": [
    "También es posible agregar o modificar elementos en un diccionario utilizando una clave. Por ejemplo, para agregar el teléfono del estudiante al diccionario, se puede hacer lo siguiente:"
   ]
  },
  {
   "cell_type": "code",
   "execution_count": 178,
   "metadata": {},
   "outputs": [
    {
     "data": {
      "text/plain": [
       "{'nombre': 'Juan',\n",
       " 'apellido': 'Pérez',\n",
       " 'edad': 20,\n",
       " 'carrera': 'Ingeniería',\n",
       " 'telefono': '555-1234'}"
      ]
     },
     "execution_count": 178,
     "metadata": {},
     "output_type": "execute_result"
    }
   ],
   "source": [
    "estudiante[\"telefono\"] = \"555-1234\"\n",
    "estudiante"
   ]
  },
  {
   "cell_type": "markdown",
   "metadata": {},
   "source": [
    "Los diccionarios son útiles cuando se necesita almacenar datos que se pueden asociar con una clave, como información de usuarios, registros de base de datos o configuraciones de un programa. Además, los diccionarios permiten un acceso más rápido y eficiente a los datos que las listas o tuplas."
   ]
  },
  {
   "cell_type": "code",
   "execution_count": 179,
   "metadata": {},
   "outputs": [
    {
     "data": {
      "text/plain": [
       "dict_keys(['nombre', 'apellido', 'edad', 'carrera', 'telefono'])"
      ]
     },
     "execution_count": 179,
     "metadata": {},
     "output_type": "execute_result"
    }
   ],
   "source": [
    "estudiante.keys()"
   ]
  },
  {
   "cell_type": "code",
   "execution_count": 180,
   "metadata": {},
   "outputs": [
    {
     "data": {
      "text/plain": [
       "dict_values(['Juan', 'Pérez', 20, 'Ingeniería', '555-1234'])"
      ]
     },
     "execution_count": 180,
     "metadata": {},
     "output_type": "execute_result"
    }
   ],
   "source": [
    "estudiante.values()"
   ]
  },
  {
   "cell_type": "markdown",
   "metadata": {},
   "source": [
    "## Funciones internas\n",
    "### Matemáticas\n",
    "1. Para qué sirve `abs()`?\n"
   ]
  },
  {
   "cell_type": "code",
   "execution_count": 182,
   "metadata": {},
   "outputs": [
    {
     "name": "stdout",
     "output_type": "stream",
     "text": [
      "5\n"
     ]
    }
   ],
   "source": [
    "print(abs(-5))"
   ]
  },
  {
   "cell_type": "markdown",
   "metadata": {},
   "source": [
    "2. Para qué sirve `max()`?"
   ]
  },
  {
   "cell_type": "code",
   "execution_count": 184,
   "metadata": {},
   "outputs": [
    {
     "name": "stdout",
     "output_type": "stream",
     "text": [
      "9\n"
     ]
    }
   ],
   "source": [
    "lista = [1, 3, 5, 7, 9]\n",
    "print(max(lista))"
   ]
  },
  {
   "cell_type": "markdown",
   "metadata": {},
   "source": [
    "3. Para qué sirve `min()`?"
   ]
  },
  {
   "cell_type": "code",
   "execution_count": 185,
   "metadata": {},
   "outputs": [
    {
     "name": "stdout",
     "output_type": "stream",
     "text": [
      "1\n"
     ]
    }
   ],
   "source": [
    "print(min(lista))"
   ]
  },
  {
   "cell_type": "markdown",
   "metadata": {},
   "source": [
    "\n",
    "4. Para qué sirve `sum()`?"
   ]
  },
  {
   "cell_type": "code",
   "execution_count": 186,
   "metadata": {},
   "outputs": [
    {
     "name": "stdout",
     "output_type": "stream",
     "text": [
      "25\n"
     ]
    }
   ],
   "source": [
    "print(sum(lista))"
   ]
  },
  {
   "cell_type": "markdown",
   "metadata": {},
   "source": [
    "**EJERCICIO**\n",
    "Hagamos una pausa para chequear qué tanto hemos comprendido\n",
    "\n",
    "Usando `.index()` ¿Cómo podría encontrar la posición donde esté el máximo de una lista?"
   ]
  },
  {
   "cell_type": "code",
   "execution_count": 187,
   "metadata": {},
   "outputs": [
    {
     "data": {
      "text/plain": [
       "4"
      ]
     },
     "execution_count": 187,
     "metadata": {},
     "output_type": "execute_result"
    }
   ],
   "source": [
    "lista.index(max(lista)) # Con max puedo ver el valor máximo de la lista, con index veo en que posición está"
   ]
  },
  {
   "cell_type": "markdown",
   "metadata": {},
   "source": [
    "Si no recuerda lo que hace una función en particular, siempre puede llamar el comando `help()` o `?`"
   ]
  },
  {
   "cell_type": "code",
   "execution_count": 188,
   "metadata": {},
   "outputs": [
    {
     "name": "stdout",
     "output_type": "stream",
     "text": [
      "Help on built-in function sum in module builtins:\n",
      "\n",
      "sum(iterable, /, start=0)\n",
      "    Return the sum of a 'start' value (default: 0) plus an iterable of numbers\n",
      "    \n",
      "    When the iterable is empty, return the start value.\n",
      "    This function is intended specifically for use with numeric values and may\n",
      "    reject non-numeric types.\n",
      "\n"
     ]
    }
   ],
   "source": [
    "help(sum)"
   ]
  },
  {
   "cell_type": "code",
   "execution_count": 189,
   "metadata": {},
   "outputs": [
    {
     "name": "stdout",
     "output_type": "stream",
     "text": [
      "\u001b[1;31mSignature:\u001b[0m \u001b[0msum\u001b[0m\u001b[1;33m(\u001b[0m\u001b[0miterable\u001b[0m\u001b[1;33m,\u001b[0m \u001b[1;33m/\u001b[0m\u001b[1;33m,\u001b[0m \u001b[0mstart\u001b[0m\u001b[1;33m=\u001b[0m\u001b[1;36m0\u001b[0m\u001b[1;33m)\u001b[0m\u001b[1;33m\u001b[0m\u001b[1;33m\u001b[0m\u001b[0m\n",
      "\u001b[1;31mDocstring:\u001b[0m\n",
      "Return the sum of a 'start' value (default: 0) plus an iterable of numbers\n",
      "\n",
      "When the iterable is empty, return the start value.\n",
      "This function is intended specifically for use with numeric values and may\n",
      "reject non-numeric types.\n",
      "\u001b[1;31mType:\u001b[0m      builtin_function_or_method"
     ]
    }
   ],
   "source": [
    "?sum"
   ]
  }
 ],
 "metadata": {
  "kernelspec": {
   "display_name": "base",
   "language": "python",
   "name": "python3"
  },
  "language_info": {
   "codemirror_mode": {
    "name": "ipython",
    "version": 3
   },
   "file_extension": ".py",
   "mimetype": "text/x-python",
   "name": "python",
   "nbconvert_exporter": "python",
   "pygments_lexer": "ipython3",
   "version": "3.9.18"
  }
 },
 "nbformat": 4,
 "nbformat_minor": 2
}
