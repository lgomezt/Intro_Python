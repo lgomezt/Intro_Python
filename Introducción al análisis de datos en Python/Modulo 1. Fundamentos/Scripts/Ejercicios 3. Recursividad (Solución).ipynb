{
 "cells": [
  {
   "cell_type": "markdown",
   "metadata": {},
   "source": [
    "# Ejercicios 3. Recursividad"
   ]
  },
  {
   "cell_type": "markdown",
   "metadata": {},
   "source": [
    "1. Cree una función que tome una lista de números y calcule su suma usando recursividad."
   ]
  },
  {
   "cell_type": "code",
   "execution_count": 2,
   "metadata": {},
   "outputs": [
    {
     "name": "stdout",
     "output_type": "stream",
     "text": [
      "24\n"
     ]
    }
   ],
   "source": [
    "# Define a function named list_sum that takes a list of numbers as input\n",
    "def list_sum(num_List):\n",
    "    # Check if the length of the input list is 1\n",
    "    if len(num_List) == 1:\n",
    "        # If the list has only one element, return that element\n",
    "        return num_List[0]\n",
    "    else:\n",
    "        # If the list has more than one element, return the sum of the first element\n",
    "        # and the result of recursively calling the list_sum function on the rest of the list\n",
    "        return num_List[0] + list_sum(num_List[1:])\n",
    "\n",
    "# Print the result of calling the list_sum function with the input [2, 4, 5, 6, 7]\n",
    "print(list_sum([2, 4, 5, 6, 7]))"
   ]
  },
  {
   "cell_type": "markdown",
   "metadata": {},
   "source": [
    "2. Cree una función que utilice recursión que encuentre el término n-simo de la serie de [Fibonacci](https://en.wikipedia.org/wiki/Fibonacci_sequence)"
   ]
  },
  {
   "cell_type": "code",
   "execution_count": 3,
   "metadata": {},
   "outputs": [
    {
     "name": "stdout",
     "output_type": "stream",
     "text": [
      "13\n"
     ]
    }
   ],
   "source": [
    "# Define a function named fibonacci that calculates the nth Fibonacci number\n",
    "def fibonacci(n):\n",
    "    # Check if n is 1 or 2 (base cases for Fibonacci)\n",
    "    if n == 1 or n == 2:\n",
    "        # If n is 1 or 2, return 1 (Fibonacci sequence starts with 1, 1)\n",
    "        return 1\n",
    "    else:\n",
    "        # If n is greater than 2, recursively call the fibonacci function\n",
    "        # to calculate the sum of the (n-1)th and (n-2)th Fibonacci numbers\n",
    "        return fibonacci(n - 1) + fibonacci(n - 2)\n",
    "\n",
    "# Print the result of calling the fibonacci function with the input value 7\n",
    "print(fibonacci(7))"
   ]
  },
  {
   "cell_type": "markdown",
   "metadata": {},
   "source": [
    "3. Cree una función que utilice recursión para calcular la suma harmonica hasta el n-simo término.\n",
    "$$1+\\frac{1}{2}+\\frac{1}{3}+\\frac{1}{4}+\\cdots$$\n"
   ]
  },
  {
   "cell_type": "code",
   "execution_count": 4,
   "metadata": {},
   "outputs": [
    {
     "name": "stdout",
     "output_type": "stream",
     "text": [
      "2.5928571428571425\n",
      "2.083333333333333\n"
     ]
    }
   ],
   "source": [
    "# Define a function named harmonic_sum that calculates the harmonic sum up to 'n' terms\n",
    "def harmonic_sum(n):\n",
    "    # Check if 'n' is less than 2 (base case for the harmonic sum)\n",
    "    if n < 2:\n",
    "        # If 'n' is less than 2, return 1 (base case value for the harmonic sum)\n",
    "        return 1\n",
    "    else:\n",
    "        # If 'n' is greater than or equal to 2, calculate the reciprocal of 'n'\n",
    "        # and add it to the result of recursively calling the harmonic_sum function with 'n - 1'\n",
    "        return 1 / n + harmonic_sum(n - 1)\n",
    "\n",
    "# Print the result of calling the harmonic_sum function with the input value 7\n",
    "print(harmonic_sum(7))\n",
    "\n",
    "# Print the result of calling the harmonic_sum function with the input value 4\n",
    "print(harmonic_sum(4))"
   ]
  }
 ],
 "metadata": {
  "kernelspec": {
   "display_name": "base",
   "language": "python",
   "name": "python3"
  },
  "language_info": {
   "codemirror_mode": {
    "name": "ipython",
    "version": 3
   },
   "file_extension": ".py",
   "mimetype": "text/x-python",
   "name": "python",
   "nbconvert_exporter": "python",
   "pygments_lexer": "ipython3",
   "version": "3.9.18"
  }
 },
 "nbformat": 4,
 "nbformat_minor": 2
}
