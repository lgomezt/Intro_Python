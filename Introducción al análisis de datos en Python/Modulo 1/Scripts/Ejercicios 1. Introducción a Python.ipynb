{
 "cells": [
  {
   "cell_type": "markdown",
   "metadata": {},
   "source": [
    "# Ejercicios 1. Introducción a Python"
   ]
  },
  {
   "cell_type": "markdown",
   "metadata": {},
   "source": [
    "1. Construir una lista que tenga 100 repeticiones de los números `-1`, `0` y `1`, en ese orden exacto."
   ]
  },
  {
   "cell_type": "code",
   "execution_count": null,
   "metadata": {},
   "outputs": [],
   "source": []
  },
  {
   "cell_type": "markdown",
   "metadata": {},
   "source": [
    "2. Construir una lista que tenga un `1` rodeado de dos listas, cada una con `20` ceros."
   ]
  },
  {
   "cell_type": "code",
   "execution_count": null,
   "metadata": {},
   "outputs": [],
   "source": []
  },
  {
   "cell_type": "markdown",
   "metadata": {},
   "source": [
    "2.5. Cree el objeto `nombre` con su nombre completo y luego cree un código que añada tantos `\"0\"` sean necesarios a la izquierda y a la derecha del string `nombre` para que la cadena de texto resultante tenga 100 caracteres i.e.: `\"000...0Lucas0...00\"`"
   ]
  },
  {
   "cell_type": "code",
   "execution_count": null,
   "metadata": {},
   "outputs": [],
   "source": []
  },
  {
   "cell_type": "markdown",
   "metadata": {},
   "source": [
    "3. ¿Cuántas veces se repite la palabra banano en la siguiente cadena? (independiente que hayan mayúsculas):"
   ]
  },
  {
   "cell_type": "code",
   "execution_count": null,
   "metadata": {},
   "outputs": [],
   "source": [
    "muchas_frutas = 'banAnobanAnobananobanaNobananobananobanaNobaNanobanano\\\n",
    "bananobananobaNanobananobananobaNanobAnanobananobananobanaNobananobanAno\\\n",
    "bananobananobanaNobananobananobananobananobananobananobananobananobAnAno\\\n",
    "bAnanobananobananobananobananobananobanANobananobananobanaNobananobanano\\\n",
    "bananobanaNobAnAnobananobananobananobananobananobAnAnobananobananobanano\\\n",
    "baNanobananobananobaNaNobananobANanobananobananobananobAnanobananobanano\\\n",
    "bananobananobAnanobananobaNAnobananobananobananobaNanobanaNobANanobanano\\\n",
    "baNanobananobananobAnanobananobananobananobaNAnobananobanANobananobAnano\\\n",
    "bANanobanAnobananobaNanobananobananobananobananobananobananobAnanobanano\\\n",
    "bananobanAnobananobananobanAnobananobananobananobanAnobananobananobaNano\\\n",
    "bAnanobananobAnanobaNanobananobanaNobananobananobanANobananobananobANAno\\\n",
    "bananobananobaNAnobanaNobAnanobanAnobananobananobanAnobaNanobananobanaNo\\\n",
    "banaNobANAnobananobananobanAnobananobananobanANobananobanAnobananobanano\\\n",
    "banaNobananobAnanobananobAnanobananobanANobananobananobanAnobanaNobanano\\\n",
    "bananobAnanobananobaNanobananobanANobananobananobananobaNAnobananobanAno\\\n",
    "bananobananobananobaNanobananobananobanAnobananobananobANanobananobanano\\\n",
    "bananobananobaNanobananobananobananobAnanobananobananobananobananobanano\\\n",
    "bananobanANobananobanaNobAnanobananobaNanobaNAnobananobananobananobanano\\\n",
    "bananobananobananobananobananobAnanobanaNobananobananobaNAnobananobanANo\\\n",
    "bananobanaNobananobananobananobananobananobaNanobananobanaNobanAnobanAno\\\n",
    "bananobanAno'"
   ]
  },
  {
   "cell_type": "markdown",
   "metadata": {},
   "source": [
    "4. ¿Qué produce el método de strings `center`?"
   ]
  },
  {
   "cell_type": "code",
   "execution_count": null,
   "metadata": {},
   "outputs": [],
   "source": []
  },
  {
   "cell_type": "markdown",
   "metadata": {},
   "source": [
    "5. Dado el siguiente diccionario que guarda las notas de distintos estudiantes:"
   ]
  },
  {
   "cell_type": "code",
   "execution_count": null,
   "metadata": {},
   "outputs": [],
   "source": [
    "notas = {\n",
    "    'Juan': [4.5, 3.7, 3.4, 5],\n",
    "    'Alicia': [3.5, 3.1, 4.2, 3.9],\n",
    "    'Germán': [2.6, 3.0, 3.9, 4.1]\n",
    "}"
   ]
  },
  {
   "cell_type": "markdown",
   "metadata": {},
   "source": [
    "Calcular:\n",
    "- La nota promedio de Juan (recuerde que se puede utilizar `sum` y `len` para obtener el promedio).\n",
    "- La nota promedio del curso."
   ]
  },
  {
   "cell_type": "code",
   "execution_count": null,
   "metadata": {},
   "outputs": [],
   "source": []
  }
 ],
 "metadata": {
  "language_info": {
   "name": "python"
  }
 },
 "nbformat": 4,
 "nbformat_minor": 2
}
