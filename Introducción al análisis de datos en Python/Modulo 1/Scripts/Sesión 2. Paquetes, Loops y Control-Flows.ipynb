{
 "cells": [
  {
   "cell_type": "markdown",
   "metadata": {},
   "source": [
    "# Taller de Programación en Python\n",
    "### Profesor: Lucas Gómez Tobón"
   ]
  },
  {
   "cell_type": "markdown",
   "metadata": {},
   "source": [
    "# Clase 3: Paquetes, Loops y Control-Flows"
   ]
  },
  {
   "cell_type": "markdown",
   "metadata": {},
   "source": [
    "## Paquetes\n",
    "Los paquetes o librerías son una forma de organizar códigos. En general, importamos librerías desarrollados por terceros para facilitar nuestro trabajo y ahorrarnos millones de horas programando. \n",
    "\n",
    "Para ser utilizados, es necesario que instale los paquetes en su ordenador, para hacer eso, en la mayoría de casos utilizamos el comando `pip` desde la terminal, el cual es un repositorio de paquetes.\n",
    "\n",
    "En esta sección utilizaremos uno de los paquetes más famosos de Python que se llama `NumPy`  (Numerical Python) el cual se utiliza para realizar cálculos numéricos. Proporciona un conjunto de funciones y herramientas para trabajar con matrices y arreglos de datos multidimensionales de manera eficiente y rápida.\n",
    "\n",
    "Para instalarlo debe correr en la terminal el siguiente comando:\n",
    "```\n",
    "pip install numpy\n",
    "```\n",
    "\n",
    "Afortunadamente no hace falta que se dirija a su terminal sino que puede ejecutarlo desde su jupyter notebook utilizando el comando `!`"
   ]
  },
  {
   "cell_type": "code",
   "execution_count": 1,
   "metadata": {},
   "outputs": [
    {
     "name": "stdout",
     "output_type": "stream",
     "text": [
      "Requirement already satisfied: numpy in c:\\users\\lucas\\anaconda3\\lib\\site-packages (1.24.3)\n"
     ]
    },
    {
     "name": "stderr",
     "output_type": "stream",
     "text": [
      "WARNING: Ignoring invalid distribution -rotobuf (c:\\users\\lucas\\anaconda3\\lib\\site-packages)\n",
      "WARNING: Ignoring invalid distribution -rotobuf (c:\\users\\lucas\\anaconda3\\lib\\site-packages)\n"
     ]
    }
   ],
   "source": [
    "!pip install numpy"
   ]
  },
  {
   "cell_type": "markdown",
   "metadata": {},
   "source": [
    "Una vez instalado el paquete, este no se carga automaticamente a Python. Cada vez que vaya a hacer uso de esta librería debe importarlo de la siguiente manera:"
   ]
  },
  {
   "cell_type": "code",
   "execution_count": 2,
   "metadata": {},
   "outputs": [],
   "source": [
    "import numpy as np"
   ]
  },
  {
   "cell_type": "code",
   "execution_count": 3,
   "metadata": {},
   "outputs": [
    {
     "name": "stdout",
     "output_type": "stream",
     "text": [
      "1.26.1\n"
     ]
    }
   ],
   "source": [
    "# ¿Cuál version de numpy estoy utilizando?\n",
    "print(np.__version__)"
   ]
  },
  {
   "cell_type": "markdown",
   "metadata": {},
   "source": [
    "Con esta librería vamos a crear un número aleatorio"
   ]
  },
  {
   "cell_type": "code",
   "execution_count": 7,
   "metadata": {},
   "outputs": [
    {
     "name": "stdout",
     "output_type": "stream",
     "text": [
      "236\n"
     ]
    }
   ],
   "source": [
    "# Semillar para garantizar la replicabilidad del código\n",
    "np.random.seed(666)\n",
    "# Creo un entero aleatorio entre 0 y 1000\n",
    "muestra = np.random.randint(0, 1000) \n",
    "print(muestra)"
   ]
  },
  {
   "cell_type": "markdown",
   "metadata": {},
   "source": [
    "Ahora suponga que queremos crear 15 números aleatorios y almacenarlos en una lista:"
   ]
  },
  {
   "cell_type": "code",
   "execution_count": 8,
   "metadata": {},
   "outputs": [
    {
     "data": {
      "text/plain": [
       "[898, 429, 926, 830, 70, 969, 414, 932, 445, 91, 222, 563, 60, 735, 156]"
      ]
     },
     "execution_count": 8,
     "metadata": {},
     "output_type": "execute_result"
    }
   ],
   "source": [
    "numero_aleatorio_1 = np.random.randint(0,1000)\n",
    "numero_aleatorio_2 = np.random.randint(0,1000)\n",
    "numero_aleatorio_3 = np.random.randint(0,1000)\n",
    "numero_aleatorio_4 = np.random.randint(0,1000)\n",
    "numero_aleatorio_5 = np.random.randint(0,1000)\n",
    "numero_aleatorio_6 = np.random.randint(0,1000)\n",
    "numero_aleatorio_7 = np.random.randint(0,1000)\n",
    "numero_aleatorio_8 = np.random.randint(0,1000)\n",
    "numero_aleatorio_9 = np.random.randint(0,1000)\n",
    "numero_aleatorio_10 = np.random.randint(0,1000)\n",
    "numero_aleatorio_11 = np.random.randint(0,1000)\n",
    "numero_aleatorio_12 = np.random.randint(0,1000)\n",
    "numero_aleatorio_13 = np.random.randint(0,1000)\n",
    "numero_aleatorio_14 = np.random.randint(0,1000)\n",
    "numero_aleatorio_15 = np.random.randint(0,1000)\n",
    "\n",
    "numeros_aleatorios = [numero_aleatorio_1, numero_aleatorio_2, numero_aleatorio_3, numero_aleatorio_4, numero_aleatorio_5,\n",
    "                      numero_aleatorio_6, numero_aleatorio_7, numero_aleatorio_8, numero_aleatorio_9, numero_aleatorio_10,\n",
    "                      numero_aleatorio_11, numero_aleatorio_12, numero_aleatorio_13, numero_aleatorio_14, numero_aleatorio_15]\n",
    "numeros_aleatorios"
   ]
  },
  {
   "cell_type": "markdown",
   "metadata": {},
   "source": [
    "Hacer este proceso uno a uno es muy engorroso.\n",
    "\n",
    "Para facilitarnos la vida existen dos tipos de `loops` o `bucles` en Python.\n",
    "\n",
    "## Loops\n",
    "Un `loop` en Python es una estructura de control que repite un bloque de código varias veces, hasta que se cumple una condición específica. Los loops son utilizados para iterar sobre secuencias (como listas, tuplas, diccionarios, sets) o para ejecutar un bloque de código repetidamente hasta que se cumpla una condición determinada.\n",
    "\n",
    "Hay dos tipos principales de loops en Python: `for` y `while`.\n",
    "\n",
    "### for loop\n",
    "El `for loop` se utiliza para iterar sobre los elementos de una secuencia (como una lista, tupla, diccionario, set) o cualquier otro objeto iterable. La sintaxis básica es:\n",
    "\n",
    "```python\n",
    "for elemento in secuencia:\n",
    "    # Bloque de código a ejecutar\n",
    "```"
   ]
  },
  {
   "cell_type": "code",
   "execution_count": 9,
   "metadata": {},
   "outputs": [
    {
     "name": "stdout",
     "output_type": "stream",
     "text": [
      "manzana\n",
      "banana\n",
      "cereza\n"
     ]
    }
   ],
   "source": [
    "# Iterar sobre una lista\n",
    "frutas = [\"manzana\", \"banana\", \"cereza\"]\n",
    "for fruta in frutas:\n",
    "    print(fruta)"
   ]
  },
  {
   "cell_type": "markdown",
   "metadata": {},
   "source": [
    "Ahora apliquemos el concepto de `for loop` a nuestra tarea de crear 15 números aleatorios:"
   ]
  },
  {
   "cell_type": "code",
   "execution_count": 12,
   "metadata": {},
   "outputs": [
    {
     "data": {
      "text/plain": [
       "[139, 24, 148, 292, 624, 432, 676, 862, 174, 122, 687, 16, 333, 932, 794]"
      ]
     },
     "execution_count": 12,
     "metadata": {},
     "output_type": "execute_result"
    }
   ],
   "source": [
    "numeros_aleatorios = []\n",
    "for i in range(15):\n",
    "    temp = np.random.randint(0, 1000)\n",
    "    numeros_aleatorios.append(temp)\n",
    "numeros_aleatorios"
   ]
  },
  {
   "cell_type": "markdown",
   "metadata": {},
   "source": [
    "> Nota: los `for loops` también se pueden utilizar para iterar sobre strings:"
   ]
  },
  {
   "cell_type": "code",
   "execution_count": 13,
   "metadata": {},
   "outputs": [
    {
     "name": "stdout",
     "output_type": "stream",
     "text": [
      "P\n",
      "y\n",
      "t\n",
      "h\n",
      "o\n",
      "n\n"
     ]
    }
   ],
   "source": [
    "for x in \"Python\":\n",
    "   print(x)"
   ]
  },
  {
   "cell_type": "markdown",
   "metadata": {},
   "source": [
    "El segundo tipo de `loops` son los `while loops` \n",
    "\n",
    "### while loop\n",
    "El `while loop` repite un bloque de código mientras una condición especificada sea `True`. La sintaxis básica es:\n",
    "\n",
    "```python\n",
    "while condicion:\n",
    "    # Bloque de código a ejecutar\n",
    "```"
   ]
  },
  {
   "cell_type": "code",
   "execution_count": 10,
   "metadata": {},
   "outputs": [
    {
     "name": "stdout",
     "output_type": "stream",
     "text": [
      "0\n",
      "1\n",
      "2\n",
      "3\n",
      "4\n"
     ]
    }
   ],
   "source": [
    "# Repetir mientras la variable 'n' sea menor que 5\n",
    "n = 0\n",
    "while n < 5:\n",
    "    print(n)\n",
    "    n += 1"
   ]
  },
  {
   "cell_type": "markdown",
   "metadata": {},
   "source": [
    "Al interior de cualquier loop (ya sea un `for` o un `while`) se pueden utilizar \"control flow statements\" o \"declaraciones\" como `continue` y `break`.\n",
    "\n",
    "- `break`: Sale del loop actual.\n",
    "- `continue`: Salta a la siguiente iteración del loop.\n",
    "\n",
    "Veamos un ejemplo:"
   ]
  },
  {
   "cell_type": "code",
   "execution_count": 14,
   "metadata": {},
   "outputs": [
    {
     "name": "stdout",
     "output_type": "stream",
     "text": [
      "1\n",
      "3\n"
     ]
    }
   ],
   "source": [
    "for num in range(1, 10):\n",
    "    if num == 5:\n",
    "        break  # Sale del loop\n",
    "    if num % 2 == 0:\n",
    "        continue  # Salta a la siguiente iteración\n",
    "    print(num)"
   ]
  },
  {
   "cell_type": "markdown",
   "metadata": {},
   "source": [
    "No obstante, los \"control flow statements\" más importantes son los **condicionales** `if`, `else` y `elif`. Entremos al detalle para comprender como funciona cada uno de ellos:\n",
    "\n",
    "## Declaraciones de Control de Flujo: `if`, `else`, y `elif`\n",
    "\n",
    "Las declaraciones `if`, `else`, y `elif` permiten que tu programa ejecute diferentes bloques de código basándose en condiciones específicas. Son una parte fundamental de la lógica de programación en Python para tomar decisiones.\n",
    "\n",
    "### Declaración `if`\n",
    "\n",
    "La declaración `if` evalúa si una condición es verdadera (`True`). Si lo es, ejecuta el bloque de código que sigue."
   ]
  },
  {
   "cell_type": "code",
   "execution_count": 15,
   "metadata": {},
   "outputs": [
    {
     "name": "stdout",
     "output_type": "stream",
     "text": [
      "a es mayor que 5\n"
     ]
    }
   ],
   "source": [
    "a = 10\n",
    "if a > 5:\n",
    "    print(\"a es mayor que 5\")"
   ]
  },
  {
   "cell_type": "code",
   "execution_count": 24,
   "metadata": {},
   "outputs": [
    {
     "name": "stdout",
     "output_type": "stream",
     "text": [
      "Darth Vader\n"
     ]
    }
   ],
   "source": [
    "lado_oscuro = \"Anakin Skywalker\"\n",
    "hijo = \"Luke Skywalker\"\n",
    "\n",
    "if lado_oscuro == \"Anakin Skywalker\": \n",
    "    print(\"Darth Vader\")"
   ]
  },
  {
   "cell_type": "code",
   "execution_count": null,
   "metadata": {},
   "outputs": [],
   "source": [
    "# Note que no se ejecuto la línea\n",
    "if lado_oscuro == hijo:\n",
    "    print(\"Luke, al odio rendirte no debes. Al lado oscuro eso conlleva\")"
   ]
  },
  {
   "cell_type": "code",
   "execution_count": null,
   "metadata": {},
   "outputs": [],
   "source": [
    "lado_oscuro == hijo"
   ]
  },
  {
   "cell_type": "markdown",
   "metadata": {},
   "source": [
    "### Declaración `else`\n",
    "\n",
    "La declaración `else` se utiliza junto con `if` para ejecutar un bloque de código cuando la condición del `if` no se cumple (es falsa).\n"
   ]
  },
  {
   "cell_type": "code",
   "execution_count": 16,
   "metadata": {},
   "outputs": [
    {
     "name": "stdout",
     "output_type": "stream",
     "text": [
      "a es menor o igual a 5\n"
     ]
    }
   ],
   "source": [
    "a = 3\n",
    "if a > 5:\n",
    "    print(\"a es mayor que 5\")\n",
    "else:\n",
    "    print(\"a es menor o igual a 5\")"
   ]
  },
  {
   "cell_type": "code",
   "execution_count": 25,
   "metadata": {},
   "outputs": [
    {
     "name": "stdout",
     "output_type": "stream",
     "text": [
      "Anakin Skywalker es el padre de Luke Skywalker\n"
     ]
    }
   ],
   "source": [
    "if lado_oscuro == hijo:\n",
    "    print(\"Luke, al odio rendirte no debes. Al lado oscuro eso conlleva\")\n",
    "else: \n",
    "    print(lado_oscuro + \" es el padre de \" + hijo)"
   ]
  },
  {
   "cell_type": "markdown",
   "metadata": {},
   "source": [
    "### Declaración `elif`\n",
    "\n",
    "`elif`, que es una abreviatura de \"else if\", permite verificar múltiples condiciones en una misma estructura `if`. Se ejecuta si su condición es verdadera y todas las condiciones `if` o `elif` anteriores fueron falsas."
   ]
  },
  {
   "cell_type": "code",
   "execution_count": 17,
   "metadata": {},
   "outputs": [
    {
     "name": "stdout",
     "output_type": "stream",
     "text": [
      "a es igual a 5\n"
     ]
    }
   ],
   "source": [
    "a = 5\n",
    "if a > 5:\n",
    "    print(\"a es mayor que 5\")\n",
    "elif a == 5:\n",
    "    print(\"a es igual a 5\")"
   ]
  },
  {
   "cell_type": "markdown",
   "metadata": {},
   "source": [
    "**Combinando `if`, `elif`, y `else`:**"
   ]
  },
  {
   "cell_type": "code",
   "execution_count": 18,
   "metadata": {},
   "outputs": [
    {
     "name": "stdout",
     "output_type": "stream",
     "text": [
      "Eres mayor de edad\n"
     ]
    }
   ],
   "source": [
    "edad = 18\n",
    "if edad >= 18:\n",
    "    print(\"Eres mayor de edad\")\n",
    "elif edad < 0:\n",
    "    print(\"Edad no válida\")\n",
    "else:\n",
    "    print(\"Eres menor de edad\")"
   ]
  },
  {
   "cell_type": "code",
   "execution_count": 26,
   "metadata": {},
   "outputs": [
    {
     "name": "stdout",
     "output_type": "stream",
     "text": [
      "Yo soy tu padre!\n"
     ]
    }
   ],
   "source": [
    "padre = lado_oscuro\n",
    "\n",
    "if lado_oscuro == hijo:\n",
    "    print(\"Luke, al odio rendirte no debes. Al lado oscuro eso conlleva\")\n",
    "elif padre == \"Anakin Skywalker\":\n",
    "    print(\"Yo soy tu padre!\")\n",
    "else: \n",
    "    print(lado_oscuro + \" es el padre de \" + hijo)"
   ]
  },
  {
   "cell_type": "markdown",
   "metadata": {},
   "source": [
    "> Nota: Para poder usar un `else` o un `elif` necesita la existencia de un `if`. No obstante, un `if` puede sostenerse sin la necesidad de acompañarlo por otro control flow."
   ]
  },
  {
   "cell_type": "markdown",
   "metadata": {},
   "source": [
    "Veamos una combinación de los conceptos aprendidos hasta ahora "
   ]
  },
  {
   "cell_type": "code",
   "execution_count": 19,
   "metadata": {},
   "outputs": [
    {
     "name": "stdout",
     "output_type": "stream",
     "text": [
      "Harry\n",
      "Hermione\n",
      "Ron\n"
     ]
    }
   ],
   "source": [
    "# Break statement\n",
    "mago = [\"Harry\", \"Hermione\", \"Ron\", \"Voldemort\", \"Dumbledore\"]\n",
    "for x in mago:\n",
    "    # El que no debe ser nombrado!\n",
    "    if x == \"Voldemort\":\n",
    "        break # Es como un freno de mano\n",
    "    print(x)"
   ]
  },
  {
   "cell_type": "code",
   "execution_count": 20,
   "metadata": {},
   "outputs": [
    {
     "name": "stdout",
     "output_type": "stream",
     "text": [
      "Harry\n",
      "Hermione\n",
      "Ron\n",
      "Dumbledore\n"
     ]
    }
   ],
   "source": [
    "# Continue statement\n",
    "for x in mago:\n",
    "    # El que no debe ser nombrado!\n",
    "    if x == \"Voldemort\":\n",
    "        continue # Pare la iteración en la que va y continue con la siguiente\n",
    "    print(x)"
   ]
  },
  {
   "cell_type": "markdown",
   "metadata": {},
   "source": [
    "Existe una forma sencilla y en una sola línea de poblar una lista usando `loops`. A esto se le llama **list comprehension**:\n",
    "\n",
    "Una \"list comprehension\" en Python es una forma concisa y legible de crear una lista utilizando una expresión en lugar de un bucle for y una declaración de agregación (como una lista vacía y llamadas a `.append()`).\n",
    "\n",
    "La sintaxis básica de una list comprehension en Python es la siguiente:\n",
    "\n",
    "```python\n",
    "nueva_lista = [expresión for variable in secuencia]\n",
    "``` \n",
    "\n",
    "Donde \"expresión\" es la expresión que se evalúa para cada elemento en la secuencia, \"variable\" es el nombre de la variable utilizada para iterar sobre la secuencia y \"secuencia\" es la secuencia de valores sobre los cuales se va a iterar."
   ]
  },
  {
   "cell_type": "code",
   "execution_count": 21,
   "metadata": {},
   "outputs": [
    {
     "data": {
      "text/plain": [
       "[261, 554, 615, 301, 673, 704, 862, 960, 795, 142, 614, 806, 638, 704, 988]"
      ]
     },
     "execution_count": 21,
     "metadata": {},
     "output_type": "execute_result"
    }
   ],
   "source": [
    "muestras = [np.random.randint(0, 1000) for i in range(15)] \n",
    "muestras"
   ]
  },
  {
   "cell_type": "code",
   "execution_count": 22,
   "metadata": {},
   "outputs": [
    {
     "name": "stdout",
     "output_type": "stream",
     "text": [
      "988\n",
      "142\n"
     ]
    }
   ],
   "source": [
    "print(max(muestras)) # imprimo el máximo\n",
    "print(min(muestras)) # imprimo el mínimo"
   ]
  },
  {
   "cell_type": "code",
   "execution_count": 23,
   "metadata": {},
   "outputs": [
    {
     "data": {
      "text/plain": [
       "[1, 4, 9, 16, 25]"
      ]
     },
     "execution_count": 23,
     "metadata": {},
     "output_type": "execute_result"
    }
   ],
   "source": [
    "numeros = [1, 2, 3, 4, 5]\n",
    "cuadrados = [numero ** 2 for numero in numeros]\n",
    "cuadrados"
   ]
  },
  {
   "cell_type": "markdown",
   "metadata": {},
   "source": [
    "**Ejercicio corto de clase** Construya un loop que genere e imprima en cada ciclo un entero aleatorio entre 0 y 100, cuando el número sea superior a 75 se debe detener el loop. "
   ]
  },
  {
   "cell_type": "code",
   "execution_count": 29,
   "metadata": {},
   "outputs": [
    {
     "name": "stdout",
     "output_type": "stream",
     "text": [
      "34\n",
      "86\n"
     ]
    }
   ],
   "source": [
    "num = 0 # Creo un número arbitrario llamado num\n",
    "while num <= 75:\n",
    "    num = np.random.randint(0, 100) # Reemplazo el valor de num por un entero aleatorio\n",
    "    print(num) # Imprimo num"
   ]
  }
 ],
 "metadata": {
  "kernelspec": {
   "display_name": "base",
   "language": "python",
   "name": "python3"
  },
  "language_info": {
   "codemirror_mode": {
    "name": "ipython",
    "version": 3
   },
   "file_extension": ".py",
   "mimetype": "text/x-python",
   "name": "python",
   "nbconvert_exporter": "python",
   "pygments_lexer": "ipython3",
   "version": "3.9.18"
  }
 },
 "nbformat": 4,
 "nbformat_minor": 2
}
