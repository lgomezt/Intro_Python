{
 "cells": [
  {
   "attachments": {},
   "cell_type": "markdown",
   "metadata": {},
   "source": [
    "# **Machine Learning para Business Intelligence** \n",
    "#### Profesor: Lucas Gómez Tobón"
   ]
  },
  {
   "attachments": {},
   "cell_type": "markdown",
   "metadata": {},
   "source": [
    "## Taller sobre Regularización"
   ]
  },
  {
   "attachments": {},
   "cell_type": "markdown",
   "metadata": {},
   "source": [
    "1. Defina su directorio como la carpeta de \"Datos\" de la clase."
   ]
  },
  {
   "attachments": {},
   "cell_type": "markdown",
   "metadata": {},
   "source": [
    "    Hint: Le recomendamos usar la librería `os`."
   ]
  },
  {
   "cell_type": "code",
   "execution_count": 28,
   "metadata": {},
   "outputs": [],
   "source": [
    "import os\n",
    "os.chdir(\"../Data/\")"
   ]
  },
  {
   "attachments": {},
   "cell_type": "markdown",
   "metadata": {},
   "source": [
    "2. Importe el archivo `communities.data` utilizando la función [pd.read_csv()](https://pandas.pydata.org/docs/reference/api/pandas.read_csv.html)."
   ]
  },
  {
   "attachments": {},
   "cell_type": "markdown",
   "metadata": {},
   "source": [
    "    Hint: No se le olvide importar la librería `pandas` para poder usar esta función."
   ]
  },
  {
   "cell_type": "code",
   "execution_count": 29,
   "metadata": {},
   "outputs": [],
   "source": [
    "import pandas as pd\n",
    "df = pd.read_csv('communities.data')"
   ]
  },
  {
   "attachments": {},
   "cell_type": "markdown",
   "metadata": {},
   "source": [
    "2.1. Importe el archivo `attributes.csv`. Este CSV contiene los nombres de las variables"
   ]
  },
  {
   "cell_type": "code",
   "execution_count": 30,
   "metadata": {},
   "outputs": [
    {
     "data": {
      "text/html": [
       "<div>\n",
       "<style scoped>\n",
       "    .dataframe tbody tr th:only-of-type {\n",
       "        vertical-align: middle;\n",
       "    }\n",
       "\n",
       "    .dataframe tbody tr th {\n",
       "        vertical-align: top;\n",
       "    }\n",
       "\n",
       "    .dataframe thead th {\n",
       "        text-align: right;\n",
       "    }\n",
       "</style>\n",
       "<table border=\"1\" class=\"dataframe\">\n",
       "  <thead>\n",
       "    <tr style=\"text-align: right;\">\n",
       "      <th></th>\n",
       "      <th>attributes</th>\n",
       "    </tr>\n",
       "  </thead>\n",
       "  <tbody>\n",
       "    <tr>\n",
       "      <th>0</th>\n",
       "      <td>state</td>\n",
       "    </tr>\n",
       "    <tr>\n",
       "      <th>1</th>\n",
       "      <td>county</td>\n",
       "    </tr>\n",
       "    <tr>\n",
       "      <th>2</th>\n",
       "      <td>community</td>\n",
       "    </tr>\n",
       "    <tr>\n",
       "      <th>3</th>\n",
       "      <td>communityname</td>\n",
       "    </tr>\n",
       "    <tr>\n",
       "      <th>4</th>\n",
       "      <td>fold</td>\n",
       "    </tr>\n",
       "    <tr>\n",
       "      <th>...</th>\n",
       "      <td>...</td>\n",
       "    </tr>\n",
       "    <tr>\n",
       "      <th>123</th>\n",
       "      <td>LemasPctPolicOnPatr</td>\n",
       "    </tr>\n",
       "    <tr>\n",
       "      <th>124</th>\n",
       "      <td>LemasGangUnitDeploy</td>\n",
       "    </tr>\n",
       "    <tr>\n",
       "      <th>125</th>\n",
       "      <td>LemasPctOfficDrugUn</td>\n",
       "    </tr>\n",
       "    <tr>\n",
       "      <th>126</th>\n",
       "      <td>PolicBudgPerPop</td>\n",
       "    </tr>\n",
       "    <tr>\n",
       "      <th>127</th>\n",
       "      <td>ViolentCrimesPerPop</td>\n",
       "    </tr>\n",
       "  </tbody>\n",
       "</table>\n",
       "<p>128 rows × 1 columns</p>\n",
       "</div>"
      ],
      "text/plain": [
       "                attributes\n",
       "0                  state  \n",
       "1                 county  \n",
       "2              community  \n",
       "3            communityname\n",
       "4                   fold  \n",
       "..                     ...\n",
       "123  LemasPctPolicOnPatr  \n",
       "124  LemasGangUnitDeploy  \n",
       "125  LemasPctOfficDrugUn  \n",
       "126      PolicBudgPerPop  \n",
       "127  ViolentCrimesPerPop  \n",
       "\n",
       "[128 rows x 1 columns]"
      ]
     },
     "execution_count": 30,
     "metadata": {},
     "output_type": "execute_result"
    }
   ],
   "source": [
    "nombres = pd.read_csv(\"attributes.csv\")\n",
    "nombres"
   ]
  },
  {
   "attachments": {},
   "cell_type": "markdown",
   "metadata": {},
   "source": [
    "2.2. Utilice la columna `attributes` del data frame con los nombres de las variables para renombrar la columnas de la base de `communities.data`."
   ]
  },
  {
   "attachments": {},
   "cell_type": "markdown",
   "metadata": {},
   "source": [
    "    Hint: Le recomendamos usar el atributo `.columns` de la base principal."
   ]
  },
  {
   "cell_type": "code",
   "execution_count": 31,
   "metadata": {},
   "outputs": [],
   "source": [
    "df.columns = nombres.attributes.values"
   ]
  },
  {
   "attachments": {},
   "cell_type": "markdown",
   "metadata": {},
   "source": [
    "3. Inspeccione los datos importados. Algunas preguntas que pueden ayudar a guiar su trabajo son: ¿Cuántas observaciones tiene? ¿Cuántas variables tiene? ¿Cómo se ven las primeras filas de su data frame? ¿Tiene valores faltantes (`NA`s)?.\n",
    "\n",
    "    Algunos métodos que le pueden resultar de utilidad para responder estas preguntas son: `.shape`, `.info()`, `.columns`, `.head()`."
   ]
  },
  {
   "cell_type": "code",
   "execution_count": 32,
   "metadata": {},
   "outputs": [
    {
     "data": {
      "text/plain": [
       "(1993, 128)"
      ]
     },
     "execution_count": 32,
     "metadata": {},
     "output_type": "execute_result"
    }
   ],
   "source": [
    "df.shape"
   ]
  },
  {
   "cell_type": "code",
   "execution_count": 33,
   "metadata": {},
   "outputs": [
    {
     "data": {
      "text/plain": [
       "Index(['state  ', 'county  ', 'community  ', 'communityname', 'fold  ',\n",
       "       'population  ', 'householdsize  ', 'racepctblack  ', 'racePctWhite  ',\n",
       "       'racePctAsian  ',\n",
       "       ...\n",
       "       'LandArea  ', 'PopDens  ', 'PctUsePubTrans  ', 'PolicCars  ',\n",
       "       'PolicOperBudg  ', 'LemasPctPolicOnPatr  ', 'LemasGangUnitDeploy  ',\n",
       "       'LemasPctOfficDrugUn  ', 'PolicBudgPerPop  ', 'ViolentCrimesPerPop  '],\n",
       "      dtype='object', length=128)"
      ]
     },
     "execution_count": 33,
     "metadata": {},
     "output_type": "execute_result"
    }
   ],
   "source": [
    "df.columns"
   ]
  },
  {
   "cell_type": "code",
   "execution_count": 34,
   "metadata": {},
   "outputs": [
    {
     "name": "stdout",
     "output_type": "stream",
     "text": [
      "<class 'pandas.core.frame.DataFrame'>\n",
      "RangeIndex: 1993 entries, 0 to 1992\n",
      "Data columns (total 128 columns):\n",
      " #    Column                   Dtype  \n",
      "---   ------                   -----  \n",
      " 0    state                    int64  \n",
      " 1    county                   object \n",
      " 2    community                object \n",
      " 3    communityname            object \n",
      " 4    fold                     int64  \n",
      " 5    population               float64\n",
      " 6    householdsize            float64\n",
      " 7    racepctblack             float64\n",
      " 8    racePctWhite             float64\n",
      " 9    racePctAsian             float64\n",
      " 10   racePctHisp              float64\n",
      " 11   agePct12t21              float64\n",
      " 12   agePct12t29              float64\n",
      " 13   agePct16t24              float64\n",
      " 14   agePct65up               float64\n",
      " 15   numbUrban                float64\n",
      " 16   pctUrban                 float64\n",
      " 17   medIncome                float64\n",
      " 18   pctWWage                 float64\n",
      " 19   pctWFarmSelf             float64\n",
      " 20   pctWInvInc               float64\n",
      " 21   pctWSocSec               float64\n",
      " 22   pctWPubAsst              float64\n",
      " 23   pctWRetire               float64\n",
      " 24   medFamInc                float64\n",
      " 25   perCapInc                float64\n",
      " 26   whitePerCap              float64\n",
      " 27   blackPerCap              float64\n",
      " 28   indianPerCap             float64\n",
      " 29   AsianPerCap              float64\n",
      " 30   OtherPerCap              object \n",
      " 31   HispPerCap               float64\n",
      " 32   NumUnderPov              float64\n",
      " 33   PctPopUnderPov           float64\n",
      " 34   PctLess9thGrade          float64\n",
      " 35   PctNotHSGrad             float64\n",
      " 36   PctBSorMore              float64\n",
      " 37   PctUnemployed            float64\n",
      " 38   PctEmploy                float64\n",
      " 39   PctEmplManu              float64\n",
      " 40   PctEmplProfServ          float64\n",
      " 41   PctOccupManu             float64\n",
      " 42   PctOccupMgmtProf         float64\n",
      " 43   MalePctDivorce           float64\n",
      " 44   MalePctNevMarr           float64\n",
      " 45   FemalePctDiv             float64\n",
      " 46   TotalPctDiv              float64\n",
      " 47   PersPerFam               float64\n",
      " 48   PctFam2Par               float64\n",
      " 49   PctKids2Par              float64\n",
      " 50   PctYoungKids2Par         float64\n",
      " 51   PctTeen2Par              float64\n",
      " 52   PctWorkMomYoungKids      float64\n",
      " 53   PctWorkMom               float64\n",
      " 54   NumIlleg                 float64\n",
      " 55   PctIlleg                 float64\n",
      " 56   NumImmig                 float64\n",
      " 57   PctImmigRecent           float64\n",
      " 58   PctImmigRec5             float64\n",
      " 59   PctImmigRec8             float64\n",
      " 60   PctImmigRec10            float64\n",
      " 61   PctRecentImmig           float64\n",
      " 62   PctRecImmig5             float64\n",
      " 63   PctRecImmig8             float64\n",
      " 64   PctRecImmig10            float64\n",
      " 65   PctSpeakEnglOnly         float64\n",
      " 66   PctNotSpeakEnglWell      float64\n",
      " 67   PctLargHouseFam          float64\n",
      " 68   PctLargHouseOccup        float64\n",
      " 69   PersPerOccupHous         float64\n",
      " 70   PersPerOwnOccHous        float64\n",
      " 71   PersPerRentOccHous       float64\n",
      " 72   PctPersOwnOccup          float64\n",
      " 73   PctPersDenseHous         float64\n",
      " 74   PctHousLess3BR           float64\n",
      " 75   MedNumBR                 float64\n",
      " 76   HousVacant               float64\n",
      " 77   PctHousOccup             float64\n",
      " 78   PctHousOwnOcc            float64\n",
      " 79   PctVacantBoarded         float64\n",
      " 80   PctVacMore6Mos           float64\n",
      " 81   MedYrHousBuilt           float64\n",
      " 82   PctHousNoPhone           float64\n",
      " 83   PctWOFullPlumb           float64\n",
      " 84   OwnOccLowQuart           float64\n",
      " 85   OwnOccMedVal             float64\n",
      " 86   OwnOccHiQuart            float64\n",
      " 87   RentLowQ                 float64\n",
      " 88   RentMedian               float64\n",
      " 89   RentHighQ                float64\n",
      " 90   MedRent                  float64\n",
      " 91   MedRentPctHousInc        float64\n",
      " 92   MedOwnCostPctInc         float64\n",
      " 93   MedOwnCostPctIncNoMtg    float64\n",
      " 94   NumInShelters            float64\n",
      " 95   NumStreet                float64\n",
      " 96   PctForeignBorn           float64\n",
      " 97   PctBornSameState         float64\n",
      " 98   PctSameHouse85           float64\n",
      " 99   PctSameCity85            float64\n",
      " 100  PctSameState85           float64\n",
      " 101  LemasSwornFT             object \n",
      " 102  LemasSwFTPerPop          object \n",
      " 103  LemasSwFTFieldOps        object \n",
      " 104  LemasSwFTFieldPerPop     object \n",
      " 105  LemasTotalReq            object \n",
      " 106  LemasTotReqPerPop        object \n",
      " 107  PolicReqPerOffic         object \n",
      " 108  PolicPerPop              object \n",
      " 109  RacialMatchCommPol       object \n",
      " 110  PctPolicWhite            object \n",
      " 111  PctPolicBlack            object \n",
      " 112  PctPolicHisp             object \n",
      " 113  PctPolicAsian            object \n",
      " 114  PctPolicMinor            object \n",
      " 115  OfficAssgnDrugUnits      object \n",
      " 116  NumKindsDrugsSeiz        object \n",
      " 117  PolicAveOTWorked         object \n",
      " 118  LandArea                 float64\n",
      " 119  PopDens                  float64\n",
      " 120  PctUsePubTrans           float64\n",
      " 121  PolicCars                object \n",
      " 122  PolicOperBudg            object \n",
      " 123  LemasPctPolicOnPatr      object \n",
      " 124  LemasGangUnitDeploy      object \n",
      " 125  LemasPctOfficDrugUn      float64\n",
      " 126  PolicBudgPerPop          object \n",
      " 127  ViolentCrimesPerPop      float64\n",
      "dtypes: float64(100), int64(2), object(26)\n",
      "memory usage: 1.9+ MB\n"
     ]
    }
   ],
   "source": [
    "df.info(verbose = True)"
   ]
  },
  {
   "cell_type": "code",
   "execution_count": 35,
   "metadata": {},
   "outputs": [
    {
     "data": {
      "text/html": [
       "<div>\n",
       "<style scoped>\n",
       "    .dataframe tbody tr th:only-of-type {\n",
       "        vertical-align: middle;\n",
       "    }\n",
       "\n",
       "    .dataframe tbody tr th {\n",
       "        vertical-align: top;\n",
       "    }\n",
       "\n",
       "    .dataframe thead th {\n",
       "        text-align: right;\n",
       "    }\n",
       "</style>\n",
       "<table border=\"1\" class=\"dataframe\">\n",
       "  <thead>\n",
       "    <tr style=\"text-align: right;\">\n",
       "      <th></th>\n",
       "      <th>state</th>\n",
       "      <th>county</th>\n",
       "      <th>community</th>\n",
       "      <th>communityname</th>\n",
       "      <th>fold</th>\n",
       "      <th>population</th>\n",
       "      <th>householdsize</th>\n",
       "      <th>racepctblack</th>\n",
       "      <th>racePctWhite</th>\n",
       "      <th>racePctAsian</th>\n",
       "      <th>...</th>\n",
       "      <th>LandArea</th>\n",
       "      <th>PopDens</th>\n",
       "      <th>PctUsePubTrans</th>\n",
       "      <th>PolicCars</th>\n",
       "      <th>PolicOperBudg</th>\n",
       "      <th>LemasPctPolicOnPatr</th>\n",
       "      <th>LemasGangUnitDeploy</th>\n",
       "      <th>LemasPctOfficDrugUn</th>\n",
       "      <th>PolicBudgPerPop</th>\n",
       "      <th>ViolentCrimesPerPop</th>\n",
       "    </tr>\n",
       "  </thead>\n",
       "  <tbody>\n",
       "    <tr>\n",
       "      <th>0</th>\n",
       "      <td>53</td>\n",
       "      <td>?</td>\n",
       "      <td>?</td>\n",
       "      <td>Tukwilacity</td>\n",
       "      <td>1</td>\n",
       "      <td>0.00</td>\n",
       "      <td>0.16</td>\n",
       "      <td>0.12</td>\n",
       "      <td>0.74</td>\n",
       "      <td>0.45</td>\n",
       "      <td>...</td>\n",
       "      <td>0.02</td>\n",
       "      <td>0.12</td>\n",
       "      <td>0.45</td>\n",
       "      <td>?</td>\n",
       "      <td>?</td>\n",
       "      <td>?</td>\n",
       "      <td>?</td>\n",
       "      <td>0.0</td>\n",
       "      <td>?</td>\n",
       "      <td>0.67</td>\n",
       "    </tr>\n",
       "    <tr>\n",
       "      <th>1</th>\n",
       "      <td>24</td>\n",
       "      <td>?</td>\n",
       "      <td>?</td>\n",
       "      <td>Aberdeentown</td>\n",
       "      <td>1</td>\n",
       "      <td>0.00</td>\n",
       "      <td>0.42</td>\n",
       "      <td>0.49</td>\n",
       "      <td>0.56</td>\n",
       "      <td>0.17</td>\n",
       "      <td>...</td>\n",
       "      <td>0.01</td>\n",
       "      <td>0.21</td>\n",
       "      <td>0.02</td>\n",
       "      <td>?</td>\n",
       "      <td>?</td>\n",
       "      <td>?</td>\n",
       "      <td>?</td>\n",
       "      <td>0.0</td>\n",
       "      <td>?</td>\n",
       "      <td>0.43</td>\n",
       "    </tr>\n",
       "    <tr>\n",
       "      <th>2</th>\n",
       "      <td>34</td>\n",
       "      <td>5</td>\n",
       "      <td>81440</td>\n",
       "      <td>Willingborotownship</td>\n",
       "      <td>1</td>\n",
       "      <td>0.04</td>\n",
       "      <td>0.77</td>\n",
       "      <td>1.00</td>\n",
       "      <td>0.08</td>\n",
       "      <td>0.12</td>\n",
       "      <td>...</td>\n",
       "      <td>0.02</td>\n",
       "      <td>0.39</td>\n",
       "      <td>0.28</td>\n",
       "      <td>?</td>\n",
       "      <td>?</td>\n",
       "      <td>?</td>\n",
       "      <td>?</td>\n",
       "      <td>0.0</td>\n",
       "      <td>?</td>\n",
       "      <td>0.12</td>\n",
       "    </tr>\n",
       "    <tr>\n",
       "      <th>3</th>\n",
       "      <td>42</td>\n",
       "      <td>95</td>\n",
       "      <td>6096</td>\n",
       "      <td>Bethlehemtownship</td>\n",
       "      <td>1</td>\n",
       "      <td>0.01</td>\n",
       "      <td>0.55</td>\n",
       "      <td>0.02</td>\n",
       "      <td>0.95</td>\n",
       "      <td>0.09</td>\n",
       "      <td>...</td>\n",
       "      <td>0.04</td>\n",
       "      <td>0.09</td>\n",
       "      <td>0.02</td>\n",
       "      <td>?</td>\n",
       "      <td>?</td>\n",
       "      <td>?</td>\n",
       "      <td>?</td>\n",
       "      <td>0.0</td>\n",
       "      <td>?</td>\n",
       "      <td>0.03</td>\n",
       "    </tr>\n",
       "    <tr>\n",
       "      <th>4</th>\n",
       "      <td>6</td>\n",
       "      <td>?</td>\n",
       "      <td>?</td>\n",
       "      <td>SouthPasadenacity</td>\n",
       "      <td>1</td>\n",
       "      <td>0.02</td>\n",
       "      <td>0.28</td>\n",
       "      <td>0.06</td>\n",
       "      <td>0.54</td>\n",
       "      <td>1.00</td>\n",
       "      <td>...</td>\n",
       "      <td>0.01</td>\n",
       "      <td>0.58</td>\n",
       "      <td>0.10</td>\n",
       "      <td>?</td>\n",
       "      <td>?</td>\n",
       "      <td>?</td>\n",
       "      <td>?</td>\n",
       "      <td>0.0</td>\n",
       "      <td>?</td>\n",
       "      <td>0.14</td>\n",
       "    </tr>\n",
       "  </tbody>\n",
       "</table>\n",
       "<p>5 rows × 128 columns</p>\n",
       "</div>"
      ],
      "text/plain": [
       "   state   county   community          communityname  fold    population    \\\n",
       "0       53        ?           ?          Tukwilacity       1          0.00   \n",
       "1       24        ?           ?         Aberdeentown       1          0.00   \n",
       "2       34        5       81440  Willingborotownship       1          0.04   \n",
       "3       42       95        6096    Bethlehemtownship       1          0.01   \n",
       "4        6        ?           ?    SouthPasadenacity       1          0.02   \n",
       "\n",
       "   householdsize    racepctblack    racePctWhite    racePctAsian    ...  \\\n",
       "0             0.16            0.12            0.74            0.45  ...   \n",
       "1             0.42            0.49            0.56            0.17  ...   \n",
       "2             0.77            1.00            0.08            0.12  ...   \n",
       "3             0.55            0.02            0.95            0.09  ...   \n",
       "4             0.28            0.06            0.54            1.00  ...   \n",
       "\n",
       "   LandArea    PopDens    PctUsePubTrans    PolicCars    PolicOperBudg    \\\n",
       "0        0.02       0.12              0.45            ?                ?   \n",
       "1        0.01       0.21              0.02            ?                ?   \n",
       "2        0.02       0.39              0.28            ?                ?   \n",
       "3        0.04       0.09              0.02            ?                ?   \n",
       "4        0.01       0.58              0.10            ?                ?   \n",
       "\n",
       "   LemasPctPolicOnPatr    LemasGangUnitDeploy    LemasPctOfficDrugUn    \\\n",
       "0                      ?                      ?                    0.0   \n",
       "1                      ?                      ?                    0.0   \n",
       "2                      ?                      ?                    0.0   \n",
       "3                      ?                      ?                    0.0   \n",
       "4                      ?                      ?                    0.0   \n",
       "\n",
       "   PolicBudgPerPop    ViolentCrimesPerPop    \n",
       "0                  ?                   0.67  \n",
       "1                  ?                   0.43  \n",
       "2                  ?                   0.12  \n",
       "3                  ?                   0.03  \n",
       "4                  ?                   0.14  \n",
       "\n",
       "[5 rows x 128 columns]"
      ]
     },
     "execution_count": 35,
     "metadata": {},
     "output_type": "execute_result"
    }
   ],
   "source": [
    "df.head()"
   ]
  },
  {
   "cell_type": "code",
   "execution_count": 36,
   "metadata": {},
   "outputs": [
    {
     "data": {
      "text/plain": [
       "0"
      ]
     },
     "execution_count": 36,
     "metadata": {},
     "output_type": "execute_result"
    }
   ],
   "source": [
    "df.isna().sum().sum()"
   ]
  },
  {
   "attachments": {},
   "cell_type": "markdown",
   "metadata": {},
   "source": [
    "4. Revise el diccionario de la base de datos [aquí](http://archive.ics.uci.edu/ml/datasets/Communities+and+Crime). Note que los datos corresponden a información socioeconómica de diferentes comunidades de EE.UU. extraída del Censo de 1990 y otras variables relacionadas con el cumplimiento de la ley y criminalidad. \n",
    "\n",
    "    ¿Qué dice el diccionario sobre los valores faltantes (`NA`s)?"
   ]
  },
  {
   "attachments": {},
   "cell_type": "markdown",
   "metadata": {},
   "source": [
    "5. Reemplace todos los `?` por `NA`. Le recomendamos usar la función [.replace()](https://pandas.pydata.org/docs/reference/api/pandas.DataFrame.replace.html) de `pandas`. Adicionalmente note que escribir \"NA\" para describir un valor faltante no es correcto porque Python va a interpretar la entrada como un string (texto) y no como un vacío. Le recomendamos reemplazar \"?\" con `np.nan` del paquete `numpy`. "
   ]
  },
  {
   "cell_type": "code",
   "execution_count": 37,
   "metadata": {},
   "outputs": [
    {
     "data": {
      "text/html": [
       "<div>\n",
       "<style scoped>\n",
       "    .dataframe tbody tr th:only-of-type {\n",
       "        vertical-align: middle;\n",
       "    }\n",
       "\n",
       "    .dataframe tbody tr th {\n",
       "        vertical-align: top;\n",
       "    }\n",
       "\n",
       "    .dataframe thead th {\n",
       "        text-align: right;\n",
       "    }\n",
       "</style>\n",
       "<table border=\"1\" class=\"dataframe\">\n",
       "  <thead>\n",
       "    <tr style=\"text-align: right;\">\n",
       "      <th></th>\n",
       "      <th>state</th>\n",
       "      <th>county</th>\n",
       "      <th>community</th>\n",
       "      <th>communityname</th>\n",
       "      <th>fold</th>\n",
       "      <th>population</th>\n",
       "      <th>householdsize</th>\n",
       "      <th>racepctblack</th>\n",
       "      <th>racePctWhite</th>\n",
       "      <th>racePctAsian</th>\n",
       "      <th>...</th>\n",
       "      <th>LandArea</th>\n",
       "      <th>PopDens</th>\n",
       "      <th>PctUsePubTrans</th>\n",
       "      <th>PolicCars</th>\n",
       "      <th>PolicOperBudg</th>\n",
       "      <th>LemasPctPolicOnPatr</th>\n",
       "      <th>LemasGangUnitDeploy</th>\n",
       "      <th>LemasPctOfficDrugUn</th>\n",
       "      <th>PolicBudgPerPop</th>\n",
       "      <th>ViolentCrimesPerPop</th>\n",
       "    </tr>\n",
       "  </thead>\n",
       "  <tbody>\n",
       "    <tr>\n",
       "      <th>0</th>\n",
       "      <td>53</td>\n",
       "      <td>NaN</td>\n",
       "      <td>NaN</td>\n",
       "      <td>Tukwilacity</td>\n",
       "      <td>1</td>\n",
       "      <td>0.00</td>\n",
       "      <td>0.16</td>\n",
       "      <td>0.12</td>\n",
       "      <td>0.74</td>\n",
       "      <td>0.45</td>\n",
       "      <td>...</td>\n",
       "      <td>0.02</td>\n",
       "      <td>0.12</td>\n",
       "      <td>0.45</td>\n",
       "      <td>NaN</td>\n",
       "      <td>NaN</td>\n",
       "      <td>NaN</td>\n",
       "      <td>NaN</td>\n",
       "      <td>0.0</td>\n",
       "      <td>NaN</td>\n",
       "      <td>0.67</td>\n",
       "    </tr>\n",
       "    <tr>\n",
       "      <th>1</th>\n",
       "      <td>24</td>\n",
       "      <td>NaN</td>\n",
       "      <td>NaN</td>\n",
       "      <td>Aberdeentown</td>\n",
       "      <td>1</td>\n",
       "      <td>0.00</td>\n",
       "      <td>0.42</td>\n",
       "      <td>0.49</td>\n",
       "      <td>0.56</td>\n",
       "      <td>0.17</td>\n",
       "      <td>...</td>\n",
       "      <td>0.01</td>\n",
       "      <td>0.21</td>\n",
       "      <td>0.02</td>\n",
       "      <td>NaN</td>\n",
       "      <td>NaN</td>\n",
       "      <td>NaN</td>\n",
       "      <td>NaN</td>\n",
       "      <td>0.0</td>\n",
       "      <td>NaN</td>\n",
       "      <td>0.43</td>\n",
       "    </tr>\n",
       "    <tr>\n",
       "      <th>2</th>\n",
       "      <td>34</td>\n",
       "      <td>5</td>\n",
       "      <td>81440</td>\n",
       "      <td>Willingborotownship</td>\n",
       "      <td>1</td>\n",
       "      <td>0.04</td>\n",
       "      <td>0.77</td>\n",
       "      <td>1.00</td>\n",
       "      <td>0.08</td>\n",
       "      <td>0.12</td>\n",
       "      <td>...</td>\n",
       "      <td>0.02</td>\n",
       "      <td>0.39</td>\n",
       "      <td>0.28</td>\n",
       "      <td>NaN</td>\n",
       "      <td>NaN</td>\n",
       "      <td>NaN</td>\n",
       "      <td>NaN</td>\n",
       "      <td>0.0</td>\n",
       "      <td>NaN</td>\n",
       "      <td>0.12</td>\n",
       "    </tr>\n",
       "    <tr>\n",
       "      <th>3</th>\n",
       "      <td>42</td>\n",
       "      <td>95</td>\n",
       "      <td>6096</td>\n",
       "      <td>Bethlehemtownship</td>\n",
       "      <td>1</td>\n",
       "      <td>0.01</td>\n",
       "      <td>0.55</td>\n",
       "      <td>0.02</td>\n",
       "      <td>0.95</td>\n",
       "      <td>0.09</td>\n",
       "      <td>...</td>\n",
       "      <td>0.04</td>\n",
       "      <td>0.09</td>\n",
       "      <td>0.02</td>\n",
       "      <td>NaN</td>\n",
       "      <td>NaN</td>\n",
       "      <td>NaN</td>\n",
       "      <td>NaN</td>\n",
       "      <td>0.0</td>\n",
       "      <td>NaN</td>\n",
       "      <td>0.03</td>\n",
       "    </tr>\n",
       "    <tr>\n",
       "      <th>4</th>\n",
       "      <td>6</td>\n",
       "      <td>NaN</td>\n",
       "      <td>NaN</td>\n",
       "      <td>SouthPasadenacity</td>\n",
       "      <td>1</td>\n",
       "      <td>0.02</td>\n",
       "      <td>0.28</td>\n",
       "      <td>0.06</td>\n",
       "      <td>0.54</td>\n",
       "      <td>1.00</td>\n",
       "      <td>...</td>\n",
       "      <td>0.01</td>\n",
       "      <td>0.58</td>\n",
       "      <td>0.10</td>\n",
       "      <td>NaN</td>\n",
       "      <td>NaN</td>\n",
       "      <td>NaN</td>\n",
       "      <td>NaN</td>\n",
       "      <td>0.0</td>\n",
       "      <td>NaN</td>\n",
       "      <td>0.14</td>\n",
       "    </tr>\n",
       "  </tbody>\n",
       "</table>\n",
       "<p>5 rows × 128 columns</p>\n",
       "</div>"
      ],
      "text/plain": [
       "   state   county   community          communityname  fold    population    \\\n",
       "0       53      NaN         NaN          Tukwilacity       1          0.00   \n",
       "1       24      NaN         NaN         Aberdeentown       1          0.00   \n",
       "2       34        5       81440  Willingborotownship       1          0.04   \n",
       "3       42       95        6096    Bethlehemtownship       1          0.01   \n",
       "4        6      NaN         NaN    SouthPasadenacity       1          0.02   \n",
       "\n",
       "   householdsize    racepctblack    racePctWhite    racePctAsian    ...  \\\n",
       "0             0.16            0.12            0.74            0.45  ...   \n",
       "1             0.42            0.49            0.56            0.17  ...   \n",
       "2             0.77            1.00            0.08            0.12  ...   \n",
       "3             0.55            0.02            0.95            0.09  ...   \n",
       "4             0.28            0.06            0.54            1.00  ...   \n",
       "\n",
       "   LandArea    PopDens    PctUsePubTrans    PolicCars    PolicOperBudg    \\\n",
       "0        0.02       0.12              0.45          NaN              NaN   \n",
       "1        0.01       0.21              0.02          NaN              NaN   \n",
       "2        0.02       0.39              0.28          NaN              NaN   \n",
       "3        0.04       0.09              0.02          NaN              NaN   \n",
       "4        0.01       0.58              0.10          NaN              NaN   \n",
       "\n",
       "   LemasPctPolicOnPatr    LemasGangUnitDeploy    LemasPctOfficDrugUn    \\\n",
       "0                    NaN                    NaN                    0.0   \n",
       "1                    NaN                    NaN                    0.0   \n",
       "2                    NaN                    NaN                    0.0   \n",
       "3                    NaN                    NaN                    0.0   \n",
       "4                    NaN                    NaN                    0.0   \n",
       "\n",
       "   PolicBudgPerPop    ViolentCrimesPerPop    \n",
       "0                NaN                   0.67  \n",
       "1                NaN                   0.43  \n",
       "2                NaN                   0.12  \n",
       "3                NaN                   0.03  \n",
       "4                NaN                   0.14  \n",
       "\n",
       "[5 rows x 128 columns]"
      ]
     },
     "execution_count": 37,
     "metadata": {},
     "output_type": "execute_result"
    }
   ],
   "source": [
    "import numpy as np\n",
    "\n",
    "df = df.replace({\"?\": np.nan})\n",
    "df.head()"
   ]
  },
  {
   "cell_type": "code",
   "execution_count": 38,
   "metadata": {},
   "outputs": [
    {
     "data": {
      "text/plain": [
       "39200"
      ]
     },
     "execution_count": 38,
     "metadata": {},
     "output_type": "execute_result"
    }
   ],
   "source": [
    "df.isna().sum().sum()"
   ]
  },
  {
   "attachments": {},
   "cell_type": "markdown",
   "metadata": {},
   "source": [
    "6. Corra las siguientes líneas de código para visualizar los valores faltantes en su base de datos."
   ]
  },
  {
   "cell_type": "code",
   "execution_count": 39,
   "metadata": {},
   "outputs": [],
   "source": [
    "import matplotlib.pyplot as plt\n",
    "import seaborn as sns"
   ]
  },
  {
   "cell_type": "code",
   "execution_count": 40,
   "metadata": {},
   "outputs": [
    {
     "data": {
      "text/plain": [
       "<AxesSubplot:>"
      ]
     },
     "execution_count": 40,
     "metadata": {},
     "output_type": "execute_result"
    },
    {
     "data": {
      "image/png": "[encoded data removed]",
      "text/plain": [
       "<Figure size 2000x600 with 1 Axes>"
      ]
     },
     "metadata": {},
     "output_type": "display_data"
    }
   ],
   "source": [
    "# El dataframe en mi ambiente se llama df, si usted le puso otro nombre, cambiar el df de la línea 4 de esta celda \n",
    "# el nombre que le haya puesto a la base\n",
    "\n",
    "plt.figure(figsize = (20, 6))\n",
    "# Rojo es NA y verde es celda completa :)\n",
    "sns.heatmap(df.isnull(), yticklabels = False, cbar = False, cmap = \"RdYlGn_r\")"
   ]
  },
  {
   "attachments": {},
   "cell_type": "markdown",
   "metadata": {},
   "source": [
    "7. Elimine todas las **columnas** que tengan `NA`. ¿Cuántas columnas eliminó?"
   ]
  },
  {
   "attachments": {},
   "cell_type": "markdown",
   "metadata": {},
   "source": [
    "    Hint: Utilice el método `.dropna()` de `pandas`"
   ]
  },
  {
   "cell_type": "code",
   "execution_count": 41,
   "metadata": {},
   "outputs": [
    {
     "name": "stdout",
     "output_type": "stream",
     "text": [
      "Se eliminaron 25 columnas\n"
     ]
    }
   ],
   "source": [
    "ncol_inicial = df.shape[1]\n",
    "df = df.dropna(axis = 1)\n",
    "ncol_final = df.shape[1]\n",
    "print(\"Se eliminaron {} columnas\".format(ncol_inicial - ncol_final))"
   ]
  },
  {
   "attachments": {},
   "cell_type": "markdown",
   "metadata": {},
   "source": [
    "8. Los nombres de las variables tienen espacios y mayúsculas. Corra la siguiente línea para homogenizar los nombres."
   ]
  },
  {
   "cell_type": "code",
   "execution_count": 42,
   "metadata": {},
   "outputs": [
    {
     "data": {
      "text/plain": [
       "Index(['state  ', 'communityname', 'fold  ', 'population  ', 'householdsize  ',\n",
       "       'racepctblack  ', 'racePctWhite  ', 'racePctAsian  ', 'racePctHisp  ',\n",
       "       'agePct12t21  ',\n",
       "       ...\n",
       "       'PctForeignBorn  ', 'PctBornSameState  ', 'PctSameHouse85  ',\n",
       "       'PctSameCity85  ', 'PctSameState85  ', 'LandArea  ', 'PopDens  ',\n",
       "       'PctUsePubTrans  ', 'LemasPctOfficDrugUn  ', 'ViolentCrimesPerPop  '],\n",
       "      dtype='object', length=103)"
      ]
     },
     "execution_count": 42,
     "metadata": {},
     "output_type": "execute_result"
    }
   ],
   "source": [
    "# Antes\n",
    "nombres = df.columns\n",
    "nombres"
   ]
  },
  {
   "cell_type": "code",
   "execution_count": 43,
   "metadata": {},
   "outputs": [
    {
     "data": {
      "text/plain": [
       "Index(['state', 'communityname', 'fold', 'population', 'householdsize',\n",
       "       'racepctblack', 'racepctwhite', 'racepctasian', 'racepcthisp',\n",
       "       'agepct12t21',\n",
       "       ...\n",
       "       'pctforeignborn', 'pctbornsamestate', 'pctsamehouse85', 'pctsamecity85',\n",
       "       'pctsamestate85', 'landarea', 'popdens', 'pctusepubtrans',\n",
       "       'lemaspctofficdrugun', 'violentcrimesperpop'],\n",
       "      dtype='object', length=103)"
      ]
     },
     "execution_count": 43,
     "metadata": {},
     "output_type": "execute_result"
    }
   ],
   "source": [
    "# Después\n",
    "nombres = nombres.str.strip().str.lower()\n",
    "df.columns = nombres\n",
    "nombres"
   ]
  },
  {
   "attachments": {},
   "cell_type": "markdown",
   "metadata": {},
   "source": [
    "9. Divida su base de datos en `X` e `y` en donde `y` sea la columna `violentcrimesperpop`."
   ]
  },
  {
   "cell_type": "code",
   "execution_count": 44,
   "metadata": {},
   "outputs": [],
   "source": [
    "X = df.drop(\"violentcrimesperpop\", axis = 1)\n",
    "y = df[\"violentcrimesperpop\"]"
   ]
  },
  {
   "attachments": {},
   "cell_type": "markdown",
   "metadata": {},
   "source": [
    "10. Elimine la columna `communityname` de `X`."
   ]
  },
  {
   "cell_type": "code",
   "execution_count": 45,
   "metadata": {},
   "outputs": [],
   "source": [
    "X = X.drop(\"communityname\", axis = 1)"
   ]
  },
  {
   "attachments": {},
   "cell_type": "markdown",
   "metadata": {},
   "source": [
    "10. Divida su base de datos en dos: train y test. Utilice como semilla: `random_state = 1` y deje el 70% de sus datos para entrenamiento y 30% para prueba."
   ]
  },
  {
   "attachments": {},
   "cell_type": "markdown",
   "metadata": {},
   "source": [
    "Hint: Utilice la función [train_test_split](https://scikit-learn.org/stable/modules/generated/sklearn.model_selection.train_test_split.html) de `sklearn`."
   ]
  },
  {
   "cell_type": "code",
   "execution_count": 46,
   "metadata": {},
   "outputs": [],
   "source": [
    "from sklearn.model_selection import train_test_split\n",
    "X_train, X_test, y_train, y_test = train_test_split(X, y, test_size = 0.3, random_state = 1)"
   ]
  },
  {
   "attachments": {},
   "cell_type": "markdown",
   "metadata": {},
   "source": [
    "11. Entrene una regresión lineal."
   ]
  },
  {
   "attachments": {},
   "cell_type": "markdown",
   "metadata": {},
   "source": [
    "Hint: Utilice la función [LinearRegression](https://scikit-learn.org/stable/modules/generated/sklearn.linear_model.LinearRegression.html) de `sklearn`."
   ]
  },
  {
   "cell_type": "code",
   "execution_count": 47,
   "metadata": {},
   "outputs": [
    {
     "data": {
      "text/plain": [
       "LinearRegression()"
      ]
     },
     "execution_count": 47,
     "metadata": {},
     "output_type": "execute_result"
    }
   ],
   "source": [
    "from sklearn.linear_model import LinearRegression\n",
    "linreg = LinearRegression()\n",
    "linreg.fit(X_train, y_train)"
   ]
  },
  {
   "attachments": {},
   "cell_type": "markdown",
   "metadata": {},
   "source": [
    "12. Construya la predicción del modelo *dentro de muestra* y *fuera de muestra*."
   ]
  },
  {
   "cell_type": "code",
   "execution_count": 48,
   "metadata": {},
   "outputs": [],
   "source": [
    "y_hat_in1 = linreg.predict(X_train)\n",
    "y_hat_out1 = linreg.predict(X_test)"
   ]
  },
  {
   "attachments": {},
   "cell_type": "markdown",
   "metadata": {},
   "source": [
    "13. Calcule el error dentro y fuera de muestra utilizando el `MAE`, `MAPE` y `RMSE`."
   ]
  },
  {
   "attachments": {},
   "cell_type": "markdown",
   "metadata": {},
   "source": [
    "Hint: Recuerde utilizar las funciones `mean_absolute_error`, `mean_absolute_percentage_error`, `mean_squared_error` de `sklearn`"
   ]
  },
  {
   "cell_type": "code",
   "execution_count": 49,
   "metadata": {},
   "outputs": [],
   "source": [
    "from sklearn.metrics import mean_absolute_error, mean_absolute_percentage_error, mean_squared_error\n",
    "\n",
    "mae_in1 = mean_absolute_error(y_train, y_hat_in1) \n",
    "mape_in1 = mean_absolute_percentage_error(y_train, y_hat_in1) \n",
    "rmse_in1 = mean_squared_error(y_train, y_hat_in1, squared = False) "
   ]
  },
  {
   "cell_type": "code",
   "execution_count": 50,
   "metadata": {},
   "outputs": [],
   "source": [
    "mae_out1 = mean_absolute_error(y_test, y_hat_out1) \n",
    "mape_out1 = mean_absolute_percentage_error(y_test, y_hat_out1) \n",
    "rmse_out1 = mean_squared_error(y_test, y_hat_out1, squared = False) "
   ]
  },
  {
   "attachments": {},
   "cell_type": "markdown",
   "metadata": {},
   "source": [
    "14. Cree un Data Frame de resultados donde guarde las métricas de este modelo."
   ]
  },
  {
   "cell_type": "code",
   "execution_count": 51,
   "metadata": {},
   "outputs": [],
   "source": [
    "resultados = pd.DataFrame({\"Modelo\": [\"Regresión lineal\", \"Regresión lineal\"],\n",
    "                           \"Muestra\": [\"Train\", \"Test\"],\n",
    "                           \"MAE\": [mae_in1, mae_out1],\n",
    "                           \"MAPE\": [mape_in1, mape_out1],\n",
    "                           \"RMSE\": [rmse_in1, rmse_out1]})"
   ]
  },
  {
   "cell_type": "code",
   "execution_count": 52,
   "metadata": {},
   "outputs": [
    {
     "data": {
      "text/html": [
       "<div>\n",
       "<style scoped>\n",
       "    .dataframe tbody tr th:only-of-type {\n",
       "        vertical-align: middle;\n",
       "    }\n",
       "\n",
       "    .dataframe tbody tr th {\n",
       "        vertical-align: top;\n",
       "    }\n",
       "\n",
       "    .dataframe thead th {\n",
       "        text-align: right;\n",
       "    }\n",
       "</style>\n",
       "<table border=\"1\" class=\"dataframe\">\n",
       "  <thead>\n",
       "    <tr style=\"text-align: right;\">\n",
       "      <th></th>\n",
       "      <th>Modelo</th>\n",
       "      <th>Muestra</th>\n",
       "      <th>MAE</th>\n",
       "      <th>MAPE</th>\n",
       "      <th>RMSE</th>\n",
       "    </tr>\n",
       "  </thead>\n",
       "  <tbody>\n",
       "    <tr>\n",
       "      <th>0</th>\n",
       "      <td>Regresión lineal</td>\n",
       "      <td>Train</td>\n",
       "      <td>0.089931</td>\n",
       "      <td>8.785992e+11</td>\n",
       "      <td>0.125675</td>\n",
       "    </tr>\n",
       "    <tr>\n",
       "      <th>1</th>\n",
       "      <td>Regresión lineal</td>\n",
       "      <td>Test</td>\n",
       "      <td>0.100910</td>\n",
       "      <td>4.263053e+12</td>\n",
       "      <td>0.142951</td>\n",
       "    </tr>\n",
       "  </tbody>\n",
       "</table>\n",
       "</div>"
      ],
      "text/plain": [
       "             Modelo Muestra       MAE          MAPE      RMSE\n",
       "0  Regresión lineal   Train  0.089931  8.785992e+11  0.125675\n",
       "1  Regresión lineal    Test  0.100910  4.263053e+12  0.142951"
      ]
     },
     "execution_count": 52,
     "metadata": {},
     "output_type": "execute_result"
    }
   ],
   "source": [
    "resultados"
   ]
  },
  {
   "attachments": {},
   "cell_type": "markdown",
   "metadata": {},
   "source": [
    "15. Estandarice `X_train` y `X_test`."
   ]
  },
  {
   "attachments": {},
   "cell_type": "markdown",
   "metadata": {},
   "source": [
    "Hint: Recuerde que puede usar la función `StandarScaler()` de `sklearn`"
   ]
  },
  {
   "cell_type": "code",
   "execution_count": 53,
   "metadata": {},
   "outputs": [],
   "source": [
    "from sklearn.preprocessing import StandardScaler\n",
    "\n",
    "escalador = StandardScaler()\n",
    "X_train = escalador.fit_transform(X_train)\n",
    "X_test = escalador.transform(X_test)"
   ]
  },
  {
   "attachments": {},
   "cell_type": "markdown",
   "metadata": {},
   "source": [
    "16. Entrene una regresión Ridge y encuentre el mejor valor del parámetro de regularización `alpha`."
   ]
  },
  {
   "attachments": {},
   "cell_type": "markdown",
   "metadata": {},
   "source": [
    "    Hint: Recuerde que puede usar la función `RidgeCV` de `sklearn`."
   ]
  },
  {
   "cell_type": "code",
   "execution_count": 61,
   "metadata": {},
   "outputs": [
    {
     "data": {
      "text/plain": [
       "RidgeCV(alphas=array([   2.        ,    3.2992993 ,    4.5985986 ,    5.8978979 ,\n",
       "          7.1971972 ,    8.4964965 ,    9.7957958 ,   11.0950951 ,\n",
       "         12.39439439,   13.69369369,   14.99299299,   16.29229229,\n",
       "         17.59159159,   18.89089089,   20.19019019,   21.48948949,\n",
       "         22.78878879,   24.08808809,   25.38738739,   26.68668669,\n",
       "         27.98598599,   29.28528529,   30.58458458,   31.88388388,\n",
       "         33.18318318,   34.48248248,   35.78178178,   37.08108108,\n",
       "         38.38038038,   39...\n",
       "       1264.91891892, 1266.21821822, 1267.51751752, 1268.81681682,\n",
       "       1270.11611612, 1271.41541542, 1272.71471471, 1274.01401401,\n",
       "       1275.31331331, 1276.61261261, 1277.91191191, 1279.21121121,\n",
       "       1280.51051051, 1281.80980981, 1283.10910911, 1284.40840841,\n",
       "       1285.70770771, 1287.00700701, 1288.30630631, 1289.60560561,\n",
       "       1290.9049049 , 1292.2042042 , 1293.5035035 , 1294.8028028 ,\n",
       "       1296.1021021 , 1297.4014014 , 1298.7007007 , 1300.        ]),\n",
       "        cv=10)"
      ]
     },
     "execution_count": 61,
     "metadata": {},
     "output_type": "execute_result"
    }
   ],
   "source": [
    "from sklearn.linear_model import RidgeCV\n",
    "\n",
    "# Lo más importante es definir un intervalo de alpha adecuado\n",
    "alpha_range = np.linspace(2, 1300, 1000)\n",
    "ridge = RidgeCV(alphas = alpha_range, cv = 10)\n",
    "ridge.fit(X_train, y_train)"
   ]
  },
  {
   "attachments": {},
   "cell_type": "markdown",
   "metadata": {},
   "source": [
    "16.1 ¿Cuál es el `alpha` óptimo? Trate de pensar dónde se ubica este resultado en su grilla. ¿Debe cambiar su grilla?"
   ]
  },
  {
   "cell_type": "code",
   "execution_count": 62,
   "metadata": {},
   "outputs": [
    {
     "data": {
      "text/plain": [
       "array([   2.        ,    3.2992993 ,    4.5985986 ,    5.8978979 ,\n",
       "          7.1971972 ,    8.4964965 ,    9.7957958 ,   11.0950951 ,\n",
       "         12.39439439,   13.69369369,   14.99299299,   16.29229229,\n",
       "         17.59159159,   18.89089089,   20.19019019,   21.48948949,\n",
       "         22.78878879,   24.08808809,   25.38738739,   26.68668669,\n",
       "         27.98598599,   29.28528529,   30.58458458,   31.88388388,\n",
       "         33.18318318,   34.48248248,   35.78178178,   37.08108108,\n",
       "         38.38038038,   39.67967968,   40.97897898,   42.27827828,\n",
       "         43.57757758,   44.87687688,   46.17617618,   47.47547548,\n",
       "         48.77477477,   50.07407407,   51.37337337,   52.67267267,\n",
       "         53.97197197,   55.27127127,   56.57057057,   57.86986987,\n",
       "         59.16916917,   60.46846847,   61.76776777,   63.06706707,\n",
       "         64.36636637,   65.66566567,   66.96496496,   68.26426426,\n",
       "         69.56356356,   70.86286286,   72.16216216,   73.46146146,\n",
       "         74.76076076,   76.06006006,   77.35935936,   78.65865866,\n",
       "         79.95795796,   81.25725726,   82.55655656,   83.85585586,\n",
       "         85.15515516,   86.45445445,   87.75375375,   89.05305305,\n",
       "         90.35235235,   91.65165165,   92.95095095,   94.25025025,\n",
       "         95.54954955,   96.84884885,   98.14814815,   99.44744745,\n",
       "        100.74674675,  102.04604605,  103.34534535,  104.64464464,\n",
       "        105.94394394,  107.24324324,  108.54254254,  109.84184184,\n",
       "        111.14114114,  112.44044044,  113.73973974,  115.03903904,\n",
       "        116.33833834,  117.63763764,  118.93693694,  120.23623624,\n",
       "        121.53553554,  122.83483483,  124.13413413,  125.43343343,\n",
       "        126.73273273,  128.03203203,  129.33133133,  130.63063063,\n",
       "        131.92992993,  133.22922923,  134.52852853,  135.82782783,\n",
       "        137.12712713,  138.42642643,  139.72572573,  141.02502503,\n",
       "        142.32432432,  143.62362362,  144.92292292,  146.22222222,\n",
       "        147.52152152,  148.82082082,  150.12012012,  151.41941942,\n",
       "        152.71871872,  154.01801802,  155.31731732,  156.61661662,\n",
       "        157.91591592,  159.21521522,  160.51451451,  161.81381381,\n",
       "        163.11311311,  164.41241241,  165.71171171,  167.01101101,\n",
       "        168.31031031,  169.60960961,  170.90890891,  172.20820821,\n",
       "        173.50750751,  174.80680681,  176.10610611,  177.40540541,\n",
       "        178.7047047 ,  180.004004  ,  181.3033033 ,  182.6026026 ,\n",
       "        183.9019019 ,  185.2012012 ,  186.5005005 ,  187.7997998 ,\n",
       "        189.0990991 ,  190.3983984 ,  191.6976977 ,  192.996997  ,\n",
       "        194.2962963 ,  195.5955956 ,  196.89489489,  198.19419419,\n",
       "        199.49349349,  200.79279279,  202.09209209,  203.39139139,\n",
       "        204.69069069,  205.98998999,  207.28928929,  208.58858859,\n",
       "        209.88788789,  211.18718719,  212.48648649,  213.78578579,\n",
       "        215.08508509,  216.38438438,  217.68368368,  218.98298298,\n",
       "        220.28228228,  221.58158158,  222.88088088,  224.18018018,\n",
       "        225.47947948,  226.77877878,  228.07807808,  229.37737738,\n",
       "        230.67667668,  231.97597598,  233.27527528,  234.57457457,\n",
       "        235.87387387,  237.17317317,  238.47247247,  239.77177177,\n",
       "        241.07107107,  242.37037037,  243.66966967,  244.96896897,\n",
       "        246.26826827,  247.56756757,  248.86686687,  250.16616617,\n",
       "        251.46546547,  252.76476476,  254.06406406,  255.36336336,\n",
       "        256.66266266,  257.96196196,  259.26126126,  260.56056056,\n",
       "        261.85985986,  263.15915916,  264.45845846,  265.75775776,\n",
       "        267.05705706,  268.35635636,  269.65565566,  270.95495495,\n",
       "        272.25425425,  273.55355355,  274.85285285,  276.15215215,\n",
       "        277.45145145,  278.75075075,  280.05005005,  281.34934935,\n",
       "        282.64864865,  283.94794795,  285.24724725,  286.54654655,\n",
       "        287.84584585,  289.14514515,  290.44444444,  291.74374374,\n",
       "        293.04304304,  294.34234234,  295.64164164,  296.94094094,\n",
       "        298.24024024,  299.53953954,  300.83883884,  302.13813814,\n",
       "        303.43743744,  304.73673674,  306.03603604,  307.33533534,\n",
       "        308.63463463,  309.93393393,  311.23323323,  312.53253253,\n",
       "        313.83183183,  315.13113113,  316.43043043,  317.72972973,\n",
       "        319.02902903,  320.32832833,  321.62762763,  322.92692693,\n",
       "        324.22622623,  325.52552553,  326.82482482,  328.12412412,\n",
       "        329.42342342,  330.72272272,  332.02202202,  333.32132132,\n",
       "        334.62062062,  335.91991992,  337.21921922,  338.51851852,\n",
       "        339.81781782,  341.11711712,  342.41641642,  343.71571572,\n",
       "        345.01501502,  346.31431431,  347.61361361,  348.91291291,\n",
       "        350.21221221,  351.51151151,  352.81081081,  354.11011011,\n",
       "        355.40940941,  356.70870871,  358.00800801,  359.30730731,\n",
       "        360.60660661,  361.90590591,  363.20520521,  364.5045045 ,\n",
       "        365.8038038 ,  367.1031031 ,  368.4024024 ,  369.7017017 ,\n",
       "        371.001001  ,  372.3003003 ,  373.5995996 ,  374.8988989 ,\n",
       "        376.1981982 ,  377.4974975 ,  378.7967968 ,  380.0960961 ,\n",
       "        381.3953954 ,  382.69469469,  383.99399399,  385.29329329,\n",
       "        386.59259259,  387.89189189,  389.19119119,  390.49049049,\n",
       "        391.78978979,  393.08908909,  394.38838839,  395.68768769,\n",
       "        396.98698699,  398.28628629,  399.58558559,  400.88488488,\n",
       "        402.18418418,  403.48348348,  404.78278278,  406.08208208,\n",
       "        407.38138138,  408.68068068,  409.97997998,  411.27927928,\n",
       "        412.57857858,  413.87787788,  415.17717718,  416.47647648,\n",
       "        417.77577578,  419.07507508,  420.37437437,  421.67367367,\n",
       "        422.97297297,  424.27227227,  425.57157157,  426.87087087,\n",
       "        428.17017017,  429.46946947,  430.76876877,  432.06806807,\n",
       "        433.36736737,  434.66666667,  435.96596597,  437.26526527,\n",
       "        438.56456456,  439.86386386,  441.16316316,  442.46246246,\n",
       "        443.76176176,  445.06106106,  446.36036036,  447.65965966,\n",
       "        448.95895896,  450.25825826,  451.55755756,  452.85685686,\n",
       "        454.15615616,  455.45545546,  456.75475475,  458.05405405,\n",
       "        459.35335335,  460.65265265,  461.95195195,  463.25125125,\n",
       "        464.55055055,  465.84984985,  467.14914915,  468.44844845,\n",
       "        469.74774775,  471.04704705,  472.34634635,  473.64564565,\n",
       "        474.94494494,  476.24424424,  477.54354354,  478.84284284,\n",
       "        480.14214214,  481.44144144,  482.74074074,  484.04004004,\n",
       "        485.33933934,  486.63863864,  487.93793794,  489.23723724,\n",
       "        490.53653654,  491.83583584,  493.13513514,  494.43443443,\n",
       "        495.73373373,  497.03303303,  498.33233233,  499.63163163,\n",
       "        500.93093093,  502.23023023,  503.52952953,  504.82882883,\n",
       "        506.12812813,  507.42742743,  508.72672673,  510.02602603,\n",
       "        511.32532533,  512.62462462,  513.92392392,  515.22322322,\n",
       "        516.52252252,  517.82182182,  519.12112112,  520.42042042,\n",
       "        521.71971972,  523.01901902,  524.31831832,  525.61761762,\n",
       "        526.91691692,  528.21621622,  529.51551552,  530.81481481,\n",
       "        532.11411411,  533.41341341,  534.71271271,  536.01201201,\n",
       "        537.31131131,  538.61061061,  539.90990991,  541.20920921,\n",
       "        542.50850851,  543.80780781,  545.10710711,  546.40640641,\n",
       "        547.70570571,  549.00500501,  550.3043043 ,  551.6036036 ,\n",
       "        552.9029029 ,  554.2022022 ,  555.5015015 ,  556.8008008 ,\n",
       "        558.1001001 ,  559.3993994 ,  560.6986987 ,  561.997998  ,\n",
       "        563.2972973 ,  564.5965966 ,  565.8958959 ,  567.1951952 ,\n",
       "        568.49449449,  569.79379379,  571.09309309,  572.39239239,\n",
       "        573.69169169,  574.99099099,  576.29029029,  577.58958959,\n",
       "        578.88888889,  580.18818819,  581.48748749,  582.78678679,\n",
       "        584.08608609,  585.38538539,  586.68468468,  587.98398398,\n",
       "        589.28328328,  590.58258258,  591.88188188,  593.18118118,\n",
       "        594.48048048,  595.77977978,  597.07907908,  598.37837838,\n",
       "        599.67767768,  600.97697698,  602.27627628,  603.57557558,\n",
       "        604.87487487,  606.17417417,  607.47347347,  608.77277277,\n",
       "        610.07207207,  611.37137137,  612.67067067,  613.96996997,\n",
       "        615.26926927,  616.56856857,  617.86786787,  619.16716717,\n",
       "        620.46646647,  621.76576577,  623.06506507,  624.36436436,\n",
       "        625.66366366,  626.96296296,  628.26226226,  629.56156156,\n",
       "        630.86086086,  632.16016016,  633.45945946,  634.75875876,\n",
       "        636.05805806,  637.35735736,  638.65665666,  639.95595596,\n",
       "        641.25525526,  642.55455455,  643.85385385,  645.15315315,\n",
       "        646.45245245,  647.75175175,  649.05105105,  650.35035035,\n",
       "        651.64964965,  652.94894895,  654.24824825,  655.54754755,\n",
       "        656.84684685,  658.14614615,  659.44544545,  660.74474474,\n",
       "        662.04404404,  663.34334334,  664.64264264,  665.94194194,\n",
       "        667.24124124,  668.54054054,  669.83983984,  671.13913914,\n",
       "        672.43843844,  673.73773774,  675.03703704,  676.33633634,\n",
       "        677.63563564,  678.93493493,  680.23423423,  681.53353353,\n",
       "        682.83283283,  684.13213213,  685.43143143,  686.73073073,\n",
       "        688.03003003,  689.32932933,  690.62862863,  691.92792793,\n",
       "        693.22722723,  694.52652653,  695.82582583,  697.12512513,\n",
       "        698.42442442,  699.72372372,  701.02302302,  702.32232232,\n",
       "        703.62162162,  704.92092092,  706.22022022,  707.51951952,\n",
       "        708.81881882,  710.11811812,  711.41741742,  712.71671672,\n",
       "        714.01601602,  715.31531532,  716.61461461,  717.91391391,\n",
       "        719.21321321,  720.51251251,  721.81181181,  723.11111111,\n",
       "        724.41041041,  725.70970971,  727.00900901,  728.30830831,\n",
       "        729.60760761,  730.90690691,  732.20620621,  733.50550551,\n",
       "        734.8048048 ,  736.1041041 ,  737.4034034 ,  738.7027027 ,\n",
       "        740.002002  ,  741.3013013 ,  742.6006006 ,  743.8998999 ,\n",
       "        745.1991992 ,  746.4984985 ,  747.7977978 ,  749.0970971 ,\n",
       "        750.3963964 ,  751.6956957 ,  752.99499499,  754.29429429,\n",
       "        755.59359359,  756.89289289,  758.19219219,  759.49149149,\n",
       "        760.79079079,  762.09009009,  763.38938939,  764.68868869,\n",
       "        765.98798799,  767.28728729,  768.58658659,  769.88588589,\n",
       "        771.18518519,  772.48448448,  773.78378378,  775.08308308,\n",
       "        776.38238238,  777.68168168,  778.98098098,  780.28028028,\n",
       "        781.57957958,  782.87887888,  784.17817818,  785.47747748,\n",
       "        786.77677678,  788.07607608,  789.37537538,  790.67467467,\n",
       "        791.97397397,  793.27327327,  794.57257257,  795.87187187,\n",
       "        797.17117117,  798.47047047,  799.76976977,  801.06906907,\n",
       "        802.36836837,  803.66766767,  804.96696697,  806.26626627,\n",
       "        807.56556557,  808.86486486,  810.16416416,  811.46346346,\n",
       "        812.76276276,  814.06206206,  815.36136136,  816.66066066,\n",
       "        817.95995996,  819.25925926,  820.55855856,  821.85785786,\n",
       "        823.15715716,  824.45645646,  825.75575576,  827.05505506,\n",
       "        828.35435435,  829.65365365,  830.95295295,  832.25225225,\n",
       "        833.55155155,  834.85085085,  836.15015015,  837.44944945,\n",
       "        838.74874875,  840.04804805,  841.34734735,  842.64664665,\n",
       "        843.94594595,  845.24524525,  846.54454454,  847.84384384,\n",
       "        849.14314314,  850.44244244,  851.74174174,  853.04104104,\n",
       "        854.34034034,  855.63963964,  856.93893894,  858.23823824,\n",
       "        859.53753754,  860.83683684,  862.13613614,  863.43543544,\n",
       "        864.73473473,  866.03403403,  867.33333333,  868.63263263,\n",
       "        869.93193193,  871.23123123,  872.53053053,  873.82982983,\n",
       "        875.12912913,  876.42842843,  877.72772773,  879.02702703,\n",
       "        880.32632633,  881.62562563,  882.92492492,  884.22422422,\n",
       "        885.52352352,  886.82282282,  888.12212212,  889.42142142,\n",
       "        890.72072072,  892.02002002,  893.31931932,  894.61861862,\n",
       "        895.91791792,  897.21721722,  898.51651652,  899.81581582,\n",
       "        901.11511512,  902.41441441,  903.71371371,  905.01301301,\n",
       "        906.31231231,  907.61161161,  908.91091091,  910.21021021,\n",
       "        911.50950951,  912.80880881,  914.10810811,  915.40740741,\n",
       "        916.70670671,  918.00600601,  919.30530531,  920.6046046 ,\n",
       "        921.9039039 ,  923.2032032 ,  924.5025025 ,  925.8018018 ,\n",
       "        927.1011011 ,  928.4004004 ,  929.6996997 ,  930.998999  ,\n",
       "        932.2982983 ,  933.5975976 ,  934.8968969 ,  936.1961962 ,\n",
       "        937.4954955 ,  938.79479479,  940.09409409,  941.39339339,\n",
       "        942.69269269,  943.99199199,  945.29129129,  946.59059059,\n",
       "        947.88988989,  949.18918919,  950.48848849,  951.78778779,\n",
       "        953.08708709,  954.38638639,  955.68568569,  956.98498498,\n",
       "        958.28428428,  959.58358358,  960.88288288,  962.18218218,\n",
       "        963.48148148,  964.78078078,  966.08008008,  967.37937938,\n",
       "        968.67867868,  969.97797798,  971.27727728,  972.57657658,\n",
       "        973.87587588,  975.17517518,  976.47447447,  977.77377377,\n",
       "        979.07307307,  980.37237237,  981.67167167,  982.97097097,\n",
       "        984.27027027,  985.56956957,  986.86886887,  988.16816817,\n",
       "        989.46746747,  990.76676677,  992.06606607,  993.36536537,\n",
       "        994.66466466,  995.96396396,  997.26326326,  998.56256256,\n",
       "        999.86186186, 1001.16116116, 1002.46046046, 1003.75975976,\n",
       "       1005.05905906, 1006.35835836, 1007.65765766, 1008.95695696,\n",
       "       1010.25625626, 1011.55555556, 1012.85485485, 1014.15415415,\n",
       "       1015.45345345, 1016.75275275, 1018.05205205, 1019.35135135,\n",
       "       1020.65065065, 1021.94994995, 1023.24924925, 1024.54854855,\n",
       "       1025.84784785, 1027.14714715, 1028.44644645, 1029.74574575,\n",
       "       1031.04504505, 1032.34434434, 1033.64364364, 1034.94294294,\n",
       "       1036.24224224, 1037.54154154, 1038.84084084, 1040.14014014,\n",
       "       1041.43943944, 1042.73873874, 1044.03803804, 1045.33733734,\n",
       "       1046.63663664, 1047.93593594, 1049.23523524, 1050.53453453,\n",
       "       1051.83383383, 1053.13313313, 1054.43243243, 1055.73173173,\n",
       "       1057.03103103, 1058.33033033, 1059.62962963, 1060.92892893,\n",
       "       1062.22822823, 1063.52752753, 1064.82682683, 1066.12612613,\n",
       "       1067.42542543, 1068.72472472, 1070.02402402, 1071.32332332,\n",
       "       1072.62262262, 1073.92192192, 1075.22122122, 1076.52052052,\n",
       "       1077.81981982, 1079.11911912, 1080.41841842, 1081.71771772,\n",
       "       1083.01701702, 1084.31631632, 1085.61561562, 1086.91491491,\n",
       "       1088.21421421, 1089.51351351, 1090.81281281, 1092.11211211,\n",
       "       1093.41141141, 1094.71071071, 1096.01001001, 1097.30930931,\n",
       "       1098.60860861, 1099.90790791, 1101.20720721, 1102.50650651,\n",
       "       1103.80580581, 1105.10510511, 1106.4044044 , 1107.7037037 ,\n",
       "       1109.003003  , 1110.3023023 , 1111.6016016 , 1112.9009009 ,\n",
       "       1114.2002002 , 1115.4994995 , 1116.7987988 , 1118.0980981 ,\n",
       "       1119.3973974 , 1120.6966967 , 1121.995996  , 1123.2952953 ,\n",
       "       1124.59459459, 1125.89389389, 1127.19319319, 1128.49249249,\n",
       "       1129.79179179, 1131.09109109, 1132.39039039, 1133.68968969,\n",
       "       1134.98898899, 1136.28828829, 1137.58758759, 1138.88688689,\n",
       "       1140.18618619, 1141.48548549, 1142.78478478, 1144.08408408,\n",
       "       1145.38338338, 1146.68268268, 1147.98198198, 1149.28128128,\n",
       "       1150.58058058, 1151.87987988, 1153.17917918, 1154.47847848,\n",
       "       1155.77777778, 1157.07707708, 1158.37637638, 1159.67567568,\n",
       "       1160.97497497, 1162.27427427, 1163.57357357, 1164.87287287,\n",
       "       1166.17217217, 1167.47147147, 1168.77077077, 1170.07007007,\n",
       "       1171.36936937, 1172.66866867, 1173.96796797, 1175.26726727,\n",
       "       1176.56656657, 1177.86586587, 1179.16516517, 1180.46446446,\n",
       "       1181.76376376, 1183.06306306, 1184.36236236, 1185.66166166,\n",
       "       1186.96096096, 1188.26026026, 1189.55955956, 1190.85885886,\n",
       "       1192.15815816, 1193.45745746, 1194.75675676, 1196.05605606,\n",
       "       1197.35535536, 1198.65465465, 1199.95395395, 1201.25325325,\n",
       "       1202.55255255, 1203.85185185, 1205.15115115, 1206.45045045,\n",
       "       1207.74974975, 1209.04904905, 1210.34834835, 1211.64764765,\n",
       "       1212.94694695, 1214.24624625, 1215.54554555, 1216.84484484,\n",
       "       1218.14414414, 1219.44344344, 1220.74274274, 1222.04204204,\n",
       "       1223.34134134, 1224.64064064, 1225.93993994, 1227.23923924,\n",
       "       1228.53853854, 1229.83783784, 1231.13713714, 1232.43643644,\n",
       "       1233.73573574, 1235.03503504, 1236.33433433, 1237.63363363,\n",
       "       1238.93293293, 1240.23223223, 1241.53153153, 1242.83083083,\n",
       "       1244.13013013, 1245.42942943, 1246.72872873, 1248.02802803,\n",
       "       1249.32732733, 1250.62662663, 1251.92592593, 1253.22522523,\n",
       "       1254.52452452, 1255.82382382, 1257.12312312, 1258.42242242,\n",
       "       1259.72172172, 1261.02102102, 1262.32032032, 1263.61961962,\n",
       "       1264.91891892, 1266.21821822, 1267.51751752, 1268.81681682,\n",
       "       1270.11611612, 1271.41541542, 1272.71471471, 1274.01401401,\n",
       "       1275.31331331, 1276.61261261, 1277.91191191, 1279.21121121,\n",
       "       1280.51051051, 1281.80980981, 1283.10910911, 1284.40840841,\n",
       "       1285.70770771, 1287.00700701, 1288.30630631, 1289.60560561,\n",
       "       1290.9049049 , 1292.2042042 , 1293.5035035 , 1294.8028028 ,\n",
       "       1296.1021021 , 1297.4014014 , 1298.7007007 , 1300.        ])"
      ]
     },
     "execution_count": 62,
     "metadata": {},
     "output_type": "execute_result"
    }
   ],
   "source": [
    "alpha_range"
   ]
  },
  {
   "cell_type": "code",
   "execution_count": 63,
   "metadata": {},
   "outputs": [
    {
     "data": {
      "text/plain": [
       "73.46146146146147"
      ]
     },
     "execution_count": 63,
     "metadata": {},
     "output_type": "execute_result"
    }
   ],
   "source": [
    "ridge.alpha_"
   ]
  },
  {
   "attachments": {},
   "cell_type": "markdown",
   "metadata": {},
   "source": [
    "17. Construya sus predicciones dentro y fuera de muestra, calcule el error dentro y fuera de muestra utilizando el `MAE`, `MAPE` y `RMSE` y guarde los resultados junto con los de la regresión lineal."
   ]
  },
  {
   "cell_type": "code",
   "execution_count": 64,
   "metadata": {},
   "outputs": [],
   "source": [
    "y_hat_in2 = ridge.predict(X_train)\n",
    "y_hat_out2 = ridge.predict(X_test)"
   ]
  },
  {
   "cell_type": "code",
   "execution_count": 65,
   "metadata": {},
   "outputs": [],
   "source": [
    "mae_in2 = mean_absolute_error(y_train, y_hat_in2) \n",
    "mape_in2 = mean_absolute_percentage_error(y_train, y_hat_in2) \n",
    "rmse_in2 = mean_squared_error(y_train, y_hat_in2, squared = False)\n",
    "mae_out2 = mean_absolute_error(y_test, y_hat_out2) \n",
    "mape_out2 = mean_absolute_percentage_error(y_test, y_hat_out2) \n",
    "rmse_out2 = mean_squared_error(y_test, y_hat_out2, squared = False)  "
   ]
  },
  {
   "cell_type": "code",
   "execution_count": 66,
   "metadata": {},
   "outputs": [
    {
     "data": {
      "text/html": [
       "<div>\n",
       "<style scoped>\n",
       "    .dataframe tbody tr th:only-of-type {\n",
       "        vertical-align: middle;\n",
       "    }\n",
       "\n",
       "    .dataframe tbody tr th {\n",
       "        vertical-align: top;\n",
       "    }\n",
       "\n",
       "    .dataframe thead th {\n",
       "        text-align: right;\n",
       "    }\n",
       "</style>\n",
       "<table border=\"1\" class=\"dataframe\">\n",
       "  <thead>\n",
       "    <tr style=\"text-align: right;\">\n",
       "      <th></th>\n",
       "      <th>Modelo</th>\n",
       "      <th>Muestra</th>\n",
       "      <th>MAE</th>\n",
       "      <th>MAPE</th>\n",
       "      <th>RMSE</th>\n",
       "    </tr>\n",
       "  </thead>\n",
       "  <tbody>\n",
       "    <tr>\n",
       "      <th>0</th>\n",
       "      <td>Regresión Ridge</td>\n",
       "      <td>Train</td>\n",
       "      <td>0.090819</td>\n",
       "      <td>7.720923e+11</td>\n",
       "      <td>0.128334</td>\n",
       "    </tr>\n",
       "    <tr>\n",
       "      <th>1</th>\n",
       "      <td>Regresión Ridge</td>\n",
       "      <td>Test</td>\n",
       "      <td>0.096621</td>\n",
       "      <td>3.192154e+12</td>\n",
       "      <td>0.139763</td>\n",
       "    </tr>\n",
       "  </tbody>\n",
       "</table>\n",
       "</div>"
      ],
      "text/plain": [
       "            Modelo Muestra       MAE          MAPE      RMSE\n",
       "0  Regresión Ridge   Train  0.090819  7.720923e+11  0.128334\n",
       "1  Regresión Ridge    Test  0.096621  3.192154e+12  0.139763"
      ]
     },
     "execution_count": 66,
     "metadata": {},
     "output_type": "execute_result"
    }
   ],
   "source": [
    "resultados2 = pd.DataFrame({\"Modelo\": [\"Regresión Ridge\", \"Regresión Ridge\"],\n",
    "                           \"Muestra\": [\"Train\", \"Test\"],\n",
    "                           \"MAE\": [mae_in2, mae_out2],\n",
    "                           \"MAPE\": [mape_in2, mape_out2],\n",
    "                           \"RMSE\": [rmse_in2, rmse_out2]})\n",
    "resultados2"
   ]
  },
  {
   "cell_type": "code",
   "execution_count": 67,
   "metadata": {},
   "outputs": [
    {
     "data": {
      "text/html": [
       "<div>\n",
       "<style scoped>\n",
       "    .dataframe tbody tr th:only-of-type {\n",
       "        vertical-align: middle;\n",
       "    }\n",
       "\n",
       "    .dataframe tbody tr th {\n",
       "        vertical-align: top;\n",
       "    }\n",
       "\n",
       "    .dataframe thead th {\n",
       "        text-align: right;\n",
       "    }\n",
       "</style>\n",
       "<table border=\"1\" class=\"dataframe\">\n",
       "  <thead>\n",
       "    <tr style=\"text-align: right;\">\n",
       "      <th></th>\n",
       "      <th>Modelo</th>\n",
       "      <th>Muestra</th>\n",
       "      <th>MAE</th>\n",
       "      <th>MAPE</th>\n",
       "      <th>RMSE</th>\n",
       "    </tr>\n",
       "  </thead>\n",
       "  <tbody>\n",
       "    <tr>\n",
       "      <th>0</th>\n",
       "      <td>Regresión lineal</td>\n",
       "      <td>Train</td>\n",
       "      <td>0.089931</td>\n",
       "      <td>8.785992e+11</td>\n",
       "      <td>0.125675</td>\n",
       "    </tr>\n",
       "    <tr>\n",
       "      <th>1</th>\n",
       "      <td>Regresión lineal</td>\n",
       "      <td>Test</td>\n",
       "      <td>0.100910</td>\n",
       "      <td>4.263053e+12</td>\n",
       "      <td>0.142951</td>\n",
       "    </tr>\n",
       "    <tr>\n",
       "      <th>0</th>\n",
       "      <td>Regresión Ridge</td>\n",
       "      <td>Train</td>\n",
       "      <td>0.090819</td>\n",
       "      <td>7.720923e+11</td>\n",
       "      <td>0.128334</td>\n",
       "    </tr>\n",
       "    <tr>\n",
       "      <th>1</th>\n",
       "      <td>Regresión Ridge</td>\n",
       "      <td>Test</td>\n",
       "      <td>0.096621</td>\n",
       "      <td>3.192154e+12</td>\n",
       "      <td>0.139763</td>\n",
       "    </tr>\n",
       "  </tbody>\n",
       "</table>\n",
       "</div>"
      ],
      "text/plain": [
       "             Modelo Muestra       MAE          MAPE      RMSE\n",
       "0  Regresión lineal   Train  0.089931  8.785992e+11  0.125675\n",
       "1  Regresión lineal    Test  0.100910  4.263053e+12  0.142951\n",
       "0   Regresión Ridge   Train  0.090819  7.720923e+11  0.128334\n",
       "1   Regresión Ridge    Test  0.096621  3.192154e+12  0.139763"
      ]
     },
     "execution_count": 67,
     "metadata": {},
     "output_type": "execute_result"
    }
   ],
   "source": [
    "resultados = pd.concat([resultados, resultados2])\n",
    "resultados"
   ]
  },
  {
   "attachments": {},
   "cell_type": "markdown",
   "metadata": {},
   "source": [
    "18. Entrene una regresión Lasso y encuentre el mejor valor del parámetro de regularización `alpha`."
   ]
  },
  {
   "attachments": {},
   "cell_type": "markdown",
   "metadata": {},
   "source": [
    "Hint: Recuerde que puede hacer uso de la función `LassoCV` de `sklearn`"
   ]
  },
  {
   "cell_type": "code",
   "execution_count": 68,
   "metadata": {},
   "outputs": [
    {
     "data": {
      "text/plain": [
       "LassoCV(cv=10, n_alphas=1000, random_state=1)"
      ]
     },
     "execution_count": 68,
     "metadata": {},
     "output_type": "execute_result"
    }
   ],
   "source": [
    "from sklearn.linear_model import LassoCV\n",
    "\n",
    "lasso = LassoCV(n_alphas = 1000, fit_intercept = True, cv = 10, random_state = 1)\n",
    "lasso.fit(X_train, y_train)"
   ]
  },
  {
   "attachments": {},
   "cell_type": "markdown",
   "metadata": {},
   "source": [
    "18.1 ¿Cuál es el `alpha` óptimo?"
   ]
  },
  {
   "cell_type": "code",
   "execution_count": 69,
   "metadata": {},
   "outputs": [
    {
     "data": {
      "text/plain": [
       "0.002724997248468322"
      ]
     },
     "execution_count": 69,
     "metadata": {},
     "output_type": "execute_result"
    }
   ],
   "source": [
    "lasso.alpha_"
   ]
  },
  {
   "attachments": {},
   "cell_type": "markdown",
   "metadata": {},
   "source": [
    "19. Construya sus predicciones dentro y fuera de muestra, calcule el error dentro y fuera de muestra utilizando el `MAE`, `MAPE` y `RMSE` y guarde los resultados junto con los de la regresión lineal."
   ]
  },
  {
   "cell_type": "code",
   "execution_count": 70,
   "metadata": {},
   "outputs": [],
   "source": [
    "y_hat_in3 = lasso.predict(X_train)\n",
    "y_hat_out3 = lasso.predict(X_test)"
   ]
  },
  {
   "cell_type": "code",
   "execution_count": 71,
   "metadata": {},
   "outputs": [],
   "source": [
    "mae_in3 = mean_absolute_error(y_train, y_hat_in3) \n",
    "mape_in3 = mean_absolute_percentage_error(y_train, y_hat_in3) \n",
    "rmse_in3 = mean_squared_error(y_train, y_hat_in3, squared = False)\n",
    "mae_out3 = mean_absolute_error(y_test, y_hat_out3) \n",
    "mape_out3 = mean_absolute_percentage_error(y_test, y_hat_out3) \n",
    "rmse_out3 = mean_squared_error(y_test, y_hat_out3, squared = False)  "
   ]
  },
  {
   "cell_type": "code",
   "execution_count": 72,
   "metadata": {},
   "outputs": [
    {
     "data": {
      "text/html": [
       "<div>\n",
       "<style scoped>\n",
       "    .dataframe tbody tr th:only-of-type {\n",
       "        vertical-align: middle;\n",
       "    }\n",
       "\n",
       "    .dataframe tbody tr th {\n",
       "        vertical-align: top;\n",
       "    }\n",
       "\n",
       "    .dataframe thead th {\n",
       "        text-align: right;\n",
       "    }\n",
       "</style>\n",
       "<table border=\"1\" class=\"dataframe\">\n",
       "  <thead>\n",
       "    <tr style=\"text-align: right;\">\n",
       "      <th></th>\n",
       "      <th>Modelo</th>\n",
       "      <th>Muestra</th>\n",
       "      <th>MAE</th>\n",
       "      <th>MAPE</th>\n",
       "      <th>RMSE</th>\n",
       "    </tr>\n",
       "  </thead>\n",
       "  <tbody>\n",
       "    <tr>\n",
       "      <th>0</th>\n",
       "      <td>Regresión Lasso</td>\n",
       "      <td>Train</td>\n",
       "      <td>0.093137</td>\n",
       "      <td>7.045650e+11</td>\n",
       "      <td>0.132352</td>\n",
       "    </tr>\n",
       "    <tr>\n",
       "      <th>1</th>\n",
       "      <td>Regresión Lasso</td>\n",
       "      <td>Test</td>\n",
       "      <td>0.095831</td>\n",
       "      <td>3.260901e+12</td>\n",
       "      <td>0.139113</td>\n",
       "    </tr>\n",
       "  </tbody>\n",
       "</table>\n",
       "</div>"
      ],
      "text/plain": [
       "            Modelo Muestra       MAE          MAPE      RMSE\n",
       "0  Regresión Lasso   Train  0.093137  7.045650e+11  0.132352\n",
       "1  Regresión Lasso    Test  0.095831  3.260901e+12  0.139113"
      ]
     },
     "execution_count": 72,
     "metadata": {},
     "output_type": "execute_result"
    }
   ],
   "source": [
    "resultados3 = pd.DataFrame({\"Modelo\": [\"Regresión Lasso\", \"Regresión Lasso\"],\n",
    "                           \"Muestra\": [\"Train\", \"Test\"],\n",
    "                           \"MAE\": [mae_in3, mae_out3],\n",
    "                           \"MAPE\": [mape_in3, mape_out3],\n",
    "                           \"RMSE\": [rmse_in3, rmse_out3]})\n",
    "resultados3"
   ]
  },
  {
   "cell_type": "code",
   "execution_count": 73,
   "metadata": {},
   "outputs": [
    {
     "data": {
      "text/html": [
       "<div>\n",
       "<style scoped>\n",
       "    .dataframe tbody tr th:only-of-type {\n",
       "        vertical-align: middle;\n",
       "    }\n",
       "\n",
       "    .dataframe tbody tr th {\n",
       "        vertical-align: top;\n",
       "    }\n",
       "\n",
       "    .dataframe thead th {\n",
       "        text-align: right;\n",
       "    }\n",
       "</style>\n",
       "<table border=\"1\" class=\"dataframe\">\n",
       "  <thead>\n",
       "    <tr style=\"text-align: right;\">\n",
       "      <th></th>\n",
       "      <th>Modelo</th>\n",
       "      <th>Muestra</th>\n",
       "      <th>MAE</th>\n",
       "      <th>MAPE</th>\n",
       "      <th>RMSE</th>\n",
       "    </tr>\n",
       "  </thead>\n",
       "  <tbody>\n",
       "    <tr>\n",
       "      <th>0</th>\n",
       "      <td>Regresión lineal</td>\n",
       "      <td>Train</td>\n",
       "      <td>0.089931</td>\n",
       "      <td>8.785992e+11</td>\n",
       "      <td>0.125675</td>\n",
       "    </tr>\n",
       "    <tr>\n",
       "      <th>1</th>\n",
       "      <td>Regresión lineal</td>\n",
       "      <td>Test</td>\n",
       "      <td>0.100910</td>\n",
       "      <td>4.263053e+12</td>\n",
       "      <td>0.142951</td>\n",
       "    </tr>\n",
       "    <tr>\n",
       "      <th>0</th>\n",
       "      <td>Regresión Ridge</td>\n",
       "      <td>Train</td>\n",
       "      <td>0.090819</td>\n",
       "      <td>7.720923e+11</td>\n",
       "      <td>0.128334</td>\n",
       "    </tr>\n",
       "    <tr>\n",
       "      <th>1</th>\n",
       "      <td>Regresión Ridge</td>\n",
       "      <td>Test</td>\n",
       "      <td>0.096621</td>\n",
       "      <td>3.192154e+12</td>\n",
       "      <td>0.139763</td>\n",
       "    </tr>\n",
       "    <tr>\n",
       "      <th>0</th>\n",
       "      <td>Regresión Lasso</td>\n",
       "      <td>Train</td>\n",
       "      <td>0.093137</td>\n",
       "      <td>7.045650e+11</td>\n",
       "      <td>0.132352</td>\n",
       "    </tr>\n",
       "    <tr>\n",
       "      <th>1</th>\n",
       "      <td>Regresión Lasso</td>\n",
       "      <td>Test</td>\n",
       "      <td>0.095831</td>\n",
       "      <td>3.260901e+12</td>\n",
       "      <td>0.139113</td>\n",
       "    </tr>\n",
       "  </tbody>\n",
       "</table>\n",
       "</div>"
      ],
      "text/plain": [
       "             Modelo Muestra       MAE          MAPE      RMSE\n",
       "0  Regresión lineal   Train  0.089931  8.785992e+11  0.125675\n",
       "1  Regresión lineal    Test  0.100910  4.263053e+12  0.142951\n",
       "0   Regresión Ridge   Train  0.090819  7.720923e+11  0.128334\n",
       "1   Regresión Ridge    Test  0.096621  3.192154e+12  0.139763\n",
       "0   Regresión Lasso   Train  0.093137  7.045650e+11  0.132352\n",
       "1   Regresión Lasso    Test  0.095831  3.260901e+12  0.139113"
      ]
     },
     "execution_count": 73,
     "metadata": {},
     "output_type": "execute_result"
    }
   ],
   "source": [
    "resultados = pd.concat([resultados, resultados3])\n",
    "resultados"
   ]
  },
  {
   "attachments": {},
   "cell_type": "markdown",
   "metadata": {},
   "source": [
    "20. Escoja cuál es el mejor modelo"
   ]
  },
  {
   "cell_type": "code",
   "execution_count": 74,
   "metadata": {},
   "outputs": [
    {
     "data": {
      "text/plain": [
       "Text(0, 0.5, 'Root Mean Square Error')"
      ]
     },
     "execution_count": 74,
     "metadata": {},
     "output_type": "execute_result"
    },
    {
     "data": {
      "image/png": "[encoded data removed]",
      "text/plain": [
       "<Figure size 1000x400 with 1 Axes>"
      ]
     },
     "metadata": {},
     "output_type": "display_data"
    }
   ],
   "source": [
    "fig, ax = plt.subplots(figsize = (10, 4))\n",
    "sns.despine()\n",
    "sns.barplot(data = resultados, x = \"Modelo\", y = \"RMSE\", hue = \"Muestra\", \n",
    "            palette = [\"darkblue\", \"forestgreen\"], ax = ax)\n",
    "ax.bar_label(ax.containers[0], fmt = '%.2f', label_type = 'center', color = \"white\")\n",
    "ax.bar_label(ax.containers[1], fmt = '%.2f', label_type = 'center', color = \"white\")\n",
    "plt.xlabel(\"Modelo\")\n",
    "plt.ylabel(\"Root Mean Square Error\")"
   ]
  },
  {
   "cell_type": "code",
   "execution_count": 77,
   "metadata": {},
   "outputs": [
    {
     "data": {
      "text/plain": [
       "Text(0, 0.5, 'MAE')"
      ]
     },
     "execution_count": 77,
     "metadata": {},
     "output_type": "execute_result"
    },
    {
     "data": {
      "image/png": "[encoded data removed]",
      "text/plain": [
       "<Figure size 1000x400 with 1 Axes>"
      ]
     },
     "metadata": {},
     "output_type": "display_data"
    }
   ],
   "source": [
    "fig, ax = plt.subplots(figsize = (10, 4))\n",
    "sns.despine()\n",
    "sns.barplot(data = resultados, x = \"Modelo\", y = \"MAE\", hue = \"Muestra\", \n",
    "            palette = [\"darkblue\", \"forestgreen\"], ax = ax)\n",
    "ax.bar_label(ax.containers[0], fmt = '%.2f', label_type = 'center', color = \"white\")\n",
    "ax.bar_label(ax.containers[1], fmt = '%.2f', label_type = 'center', color = \"white\")\n",
    "plt.xlabel(\"Modelo\")\n",
    "plt.ylabel(\"MAE\")"
   ]
  },
  {
   "attachments": {},
   "cell_type": "markdown",
   "metadata": {},
   "source": [
    "21. ¿Qué puede interpretar de los resultados?"
   ]
  },
  {
   "cell_type": "code",
   "execution_count": 76,
   "metadata": {},
   "outputs": [
    {
     "data": {
      "text/html": [
       "<div>\n",
       "<style scoped>\n",
       "    .dataframe tbody tr th:only-of-type {\n",
       "        vertical-align: middle;\n",
       "    }\n",
       "\n",
       "    .dataframe tbody tr th {\n",
       "        vertical-align: top;\n",
       "    }\n",
       "\n",
       "    .dataframe thead th {\n",
       "        text-align: right;\n",
       "    }\n",
       "</style>\n",
       "<table border=\"1\" class=\"dataframe\">\n",
       "  <thead>\n",
       "    <tr style=\"text-align: right;\">\n",
       "      <th></th>\n",
       "      <th>Modelo</th>\n",
       "      <th>Muestra</th>\n",
       "      <th>MAE</th>\n",
       "      <th>MAPE</th>\n",
       "      <th>RMSE</th>\n",
       "    </tr>\n",
       "  </thead>\n",
       "  <tbody>\n",
       "    <tr>\n",
       "      <th>0</th>\n",
       "      <td>Regresión lineal</td>\n",
       "      <td>Train</td>\n",
       "      <td>0.089931</td>\n",
       "      <td>8.785992e+11</td>\n",
       "      <td>0.125675</td>\n",
       "    </tr>\n",
       "    <tr>\n",
       "      <th>1</th>\n",
       "      <td>Regresión lineal</td>\n",
       "      <td>Test</td>\n",
       "      <td>0.100910</td>\n",
       "      <td>4.263053e+12</td>\n",
       "      <td>0.142951</td>\n",
       "    </tr>\n",
       "    <tr>\n",
       "      <th>0</th>\n",
       "      <td>Regresión Ridge</td>\n",
       "      <td>Train</td>\n",
       "      <td>0.090819</td>\n",
       "      <td>7.720923e+11</td>\n",
       "      <td>0.128334</td>\n",
       "    </tr>\n",
       "    <tr>\n",
       "      <th>1</th>\n",
       "      <td>Regresión Ridge</td>\n",
       "      <td>Test</td>\n",
       "      <td>0.096621</td>\n",
       "      <td>3.192154e+12</td>\n",
       "      <td>0.139763</td>\n",
       "    </tr>\n",
       "    <tr>\n",
       "      <th>0</th>\n",
       "      <td>Regresión Lasso</td>\n",
       "      <td>Train</td>\n",
       "      <td>0.093137</td>\n",
       "      <td>7.045650e+11</td>\n",
       "      <td>0.132352</td>\n",
       "    </tr>\n",
       "    <tr>\n",
       "      <th>1</th>\n",
       "      <td>Regresión Lasso</td>\n",
       "      <td>Test</td>\n",
       "      <td>0.095831</td>\n",
       "      <td>3.260901e+12</td>\n",
       "      <td>0.139113</td>\n",
       "    </tr>\n",
       "  </tbody>\n",
       "</table>\n",
       "</div>"
      ],
      "text/plain": [
       "             Modelo Muestra       MAE          MAPE      RMSE\n",
       "0  Regresión lineal   Train  0.089931  8.785992e+11  0.125675\n",
       "1  Regresión lineal    Test  0.100910  4.263053e+12  0.142951\n",
       "0   Regresión Ridge   Train  0.090819  7.720923e+11  0.128334\n",
       "1   Regresión Ridge    Test  0.096621  3.192154e+12  0.139763\n",
       "0   Regresión Lasso   Train  0.093137  7.045650e+11  0.132352\n",
       "1   Regresión Lasso    Test  0.095831  3.260901e+12  0.139113"
      ]
     },
     "execution_count": 76,
     "metadata": {},
     "output_type": "execute_result"
    }
   ],
   "source": [
    "resultados"
   ]
  },
  {
   "attachments": {},
   "cell_type": "markdown",
   "metadata": {},
   "source": [
    "22. Pruebe entrenando un KNN. Entrene un KNN y escoja el K Óptimo usando `grid search` y `cross validation`."
   ]
  },
  {
   "cell_type": "code",
   "execution_count": 78,
   "metadata": {},
   "outputs": [],
   "source": [
    "from sklearn.model_selection import GridSearchCV\n",
    "from sklearn.neighbors import KNeighborsRegressor\n",
    "\n",
    "neigh = KNeighborsRegressor(weights = \"distance\")\n",
    "k_grid = {\"n_neighbors\": [2, 3, 5, 7, 9, 11, 13, 15, 17, 19, 21, 23, 25, 27, 29, 31]}"
   ]
  },
  {
   "cell_type": "code",
   "execution_count": 79,
   "metadata": {},
   "outputs": [
    {
     "data": {
      "text/plain": [
       "GridSearchCV(cv=5, estimator=KNeighborsRegressor(weights='distance'),\n",
       "             param_grid={'n_neighbors': [2, 3, 5, 7, 9, 11, 13, 15, 17, 19, 21,\n",
       "                                         23, 25, 27, 29, 31]},\n",
       "             return_train_score=True, scoring='neg_root_mean_squared_error')"
      ]
     },
     "execution_count": 79,
     "metadata": {},
     "output_type": "execute_result"
    }
   ],
   "source": [
    "neigh_cv = GridSearchCV(neigh, k_grid, scoring = \"neg_root_mean_squared_error\", cv = 5, return_train_score = True)\n",
    "neigh_cv.fit(X_train, y_train)"
   ]
  },
  {
   "cell_type": "code",
   "execution_count": 80,
   "metadata": {},
   "outputs": [],
   "source": [
    "cv_results = pd.DataFrame(neigh_cv.cv_results_)"
   ]
  },
  {
   "cell_type": "code",
   "execution_count": 81,
   "metadata": {},
   "outputs": [
    {
     "data": {
      "text/plain": [
       "<matplotlib.collections.LineCollection at 0x23a032b0b50>"
      ]
     },
     "execution_count": 81,
     "metadata": {},
     "output_type": "execute_result"
    },
    {
     "data": {
      "image/png": "[encoded data removed]",
      "text/plain": [
       "<Figure size 2000x600 with 1 Axes>"
      ]
     },
     "metadata": {},
     "output_type": "display_data"
    }
   ],
   "source": [
    "fig, ax = plt.subplots(figsize = (20, 6))\n",
    "sns.despine()\n",
    "sns.lineplot(data = cv_results, x = 'param_n_neighbors', y = 'mean_test_score', ax = ax)\n",
    "ax.set_xlabel(\"Número de vecinos\")\n",
    "ax.set_ylabel(\"-RMSE\")\n",
    "plt.vlines(x = neigh_cv.best_params_[\"n_neighbors\"], ymin = -0.165, ymax = -0.14, color = \"red\", linestyles = \"dashed\")"
   ]
  },
  {
   "attachments": {},
   "cell_type": "markdown",
   "metadata": {},
   "source": [
    "23. Evalue el modelo y compare con los otros resultados."
   ]
  },
  {
   "cell_type": "code",
   "execution_count": 82,
   "metadata": {},
   "outputs": [],
   "source": [
    "y_hat_in4 = neigh_cv.predict(X_train)\n",
    "y_hat_out4 = neigh_cv.predict(X_test)"
   ]
  },
  {
   "cell_type": "code",
   "execution_count": 83,
   "metadata": {},
   "outputs": [],
   "source": [
    "mae_in4 = mean_absolute_error(y_train, y_hat_in4) \n",
    "mape_in4 = mean_absolute_percentage_error(y_train, y_hat_in4) \n",
    "rmse_in4 = mean_squared_error(y_train, y_hat_in4, squared = False)\n",
    "mae_out4 = mean_absolute_error(y_test, y_hat_out4) \n",
    "mape_out4 = mean_absolute_percentage_error(y_test, y_hat_out4) \n",
    "rmse_out4 = mean_squared_error(y_test, y_hat_out4, squared = False)  "
   ]
  },
  {
   "cell_type": "code",
   "execution_count": 84,
   "metadata": {},
   "outputs": [
    {
     "data": {
      "text/html": [
       "<div>\n",
       "<style scoped>\n",
       "    .dataframe tbody tr th:only-of-type {\n",
       "        vertical-align: middle;\n",
       "    }\n",
       "\n",
       "    .dataframe tbody tr th {\n",
       "        vertical-align: top;\n",
       "    }\n",
       "\n",
       "    .dataframe thead th {\n",
       "        text-align: right;\n",
       "    }\n",
       "</style>\n",
       "<table border=\"1\" class=\"dataframe\">\n",
       "  <thead>\n",
       "    <tr style=\"text-align: right;\">\n",
       "      <th></th>\n",
       "      <th>Modelo</th>\n",
       "      <th>Muestra</th>\n",
       "      <th>MAE</th>\n",
       "      <th>MAPE</th>\n",
       "      <th>RMSE</th>\n",
       "    </tr>\n",
       "  </thead>\n",
       "  <tbody>\n",
       "    <tr>\n",
       "      <th>0</th>\n",
       "      <td>KNN</td>\n",
       "      <td>Train</td>\n",
       "      <td>0.000000</td>\n",
       "      <td>0.000000e+00</td>\n",
       "      <td>0.000000</td>\n",
       "    </tr>\n",
       "    <tr>\n",
       "      <th>1</th>\n",
       "      <td>KNN</td>\n",
       "      <td>Test</td>\n",
       "      <td>0.099499</td>\n",
       "      <td>4.586497e+12</td>\n",
       "      <td>0.146376</td>\n",
       "    </tr>\n",
       "  </tbody>\n",
       "</table>\n",
       "</div>"
      ],
      "text/plain": [
       "  Modelo Muestra       MAE          MAPE      RMSE\n",
       "0    KNN   Train  0.000000  0.000000e+00  0.000000\n",
       "1    KNN    Test  0.099499  4.586497e+12  0.146376"
      ]
     },
     "execution_count": 84,
     "metadata": {},
     "output_type": "execute_result"
    }
   ],
   "source": [
    "resultados4 = pd.DataFrame({\"Modelo\": [\"KNN\", \"KNN\"],\n",
    "                           \"Muestra\": [\"Train\", \"Test\"],\n",
    "                           \"MAE\": [mae_in4, mae_out4],\n",
    "                           \"MAPE\": [mape_in4, mape_out4],\n",
    "                           \"RMSE\": [rmse_in4, rmse_out4]})\n",
    "resultados4"
   ]
  },
  {
   "cell_type": "code",
   "execution_count": 85,
   "metadata": {},
   "outputs": [
    {
     "data": {
      "text/html": [
       "<div>\n",
       "<style scoped>\n",
       "    .dataframe tbody tr th:only-of-type {\n",
       "        vertical-align: middle;\n",
       "    }\n",
       "\n",
       "    .dataframe tbody tr th {\n",
       "        vertical-align: top;\n",
       "    }\n",
       "\n",
       "    .dataframe thead th {\n",
       "        text-align: right;\n",
       "    }\n",
       "</style>\n",
       "<table border=\"1\" class=\"dataframe\">\n",
       "  <thead>\n",
       "    <tr style=\"text-align: right;\">\n",
       "      <th></th>\n",
       "      <th>Modelo</th>\n",
       "      <th>Muestra</th>\n",
       "      <th>MAE</th>\n",
       "      <th>MAPE</th>\n",
       "      <th>RMSE</th>\n",
       "    </tr>\n",
       "  </thead>\n",
       "  <tbody>\n",
       "    <tr>\n",
       "      <th>0</th>\n",
       "      <td>Regresión lineal</td>\n",
       "      <td>Train</td>\n",
       "      <td>0.089931</td>\n",
       "      <td>8.785992e+11</td>\n",
       "      <td>0.125675</td>\n",
       "    </tr>\n",
       "    <tr>\n",
       "      <th>1</th>\n",
       "      <td>Regresión lineal</td>\n",
       "      <td>Test</td>\n",
       "      <td>0.100910</td>\n",
       "      <td>4.263053e+12</td>\n",
       "      <td>0.142951</td>\n",
       "    </tr>\n",
       "    <tr>\n",
       "      <th>0</th>\n",
       "      <td>Regresión Ridge</td>\n",
       "      <td>Train</td>\n",
       "      <td>0.090819</td>\n",
       "      <td>7.720923e+11</td>\n",
       "      <td>0.128334</td>\n",
       "    </tr>\n",
       "    <tr>\n",
       "      <th>1</th>\n",
       "      <td>Regresión Ridge</td>\n",
       "      <td>Test</td>\n",
       "      <td>0.096621</td>\n",
       "      <td>3.192154e+12</td>\n",
       "      <td>0.139763</td>\n",
       "    </tr>\n",
       "    <tr>\n",
       "      <th>0</th>\n",
       "      <td>Regresión Lasso</td>\n",
       "      <td>Train</td>\n",
       "      <td>0.093137</td>\n",
       "      <td>7.045650e+11</td>\n",
       "      <td>0.132352</td>\n",
       "    </tr>\n",
       "    <tr>\n",
       "      <th>1</th>\n",
       "      <td>Regresión Lasso</td>\n",
       "      <td>Test</td>\n",
       "      <td>0.095831</td>\n",
       "      <td>3.260901e+12</td>\n",
       "      <td>0.139113</td>\n",
       "    </tr>\n",
       "    <tr>\n",
       "      <th>0</th>\n",
       "      <td>KNN</td>\n",
       "      <td>Train</td>\n",
       "      <td>0.000000</td>\n",
       "      <td>0.000000e+00</td>\n",
       "      <td>0.000000</td>\n",
       "    </tr>\n",
       "    <tr>\n",
       "      <th>1</th>\n",
       "      <td>KNN</td>\n",
       "      <td>Test</td>\n",
       "      <td>0.099499</td>\n",
       "      <td>4.586497e+12</td>\n",
       "      <td>0.146376</td>\n",
       "    </tr>\n",
       "  </tbody>\n",
       "</table>\n",
       "</div>"
      ],
      "text/plain": [
       "             Modelo Muestra       MAE          MAPE      RMSE\n",
       "0  Regresión lineal   Train  0.089931  8.785992e+11  0.125675\n",
       "1  Regresión lineal    Test  0.100910  4.263053e+12  0.142951\n",
       "0   Regresión Ridge   Train  0.090819  7.720923e+11  0.128334\n",
       "1   Regresión Ridge    Test  0.096621  3.192154e+12  0.139763\n",
       "0   Regresión Lasso   Train  0.093137  7.045650e+11  0.132352\n",
       "1   Regresión Lasso    Test  0.095831  3.260901e+12  0.139113\n",
       "0               KNN   Train  0.000000  0.000000e+00  0.000000\n",
       "1               KNN    Test  0.099499  4.586497e+12  0.146376"
      ]
     },
     "execution_count": 85,
     "metadata": {},
     "output_type": "execute_result"
    }
   ],
   "source": [
    "resultados = pd.concat([resultados, resultados4])\n",
    "resultados"
   ]
  },
  {
   "cell_type": "code",
   "execution_count": 86,
   "metadata": {},
   "outputs": [
    {
     "data": {
      "text/plain": [
       "Text(0, 0.5, 'Root Mean Square Error')"
      ]
     },
     "execution_count": 86,
     "metadata": {},
     "output_type": "execute_result"
    },
    {
     "data": {
      "image/png": "[encoded data removed]",
      "text/plain": [
       "<Figure size 1000x400 with 1 Axes>"
      ]
     },
     "metadata": {},
     "output_type": "display_data"
    }
   ],
   "source": [
    "fig, ax = plt.subplots(figsize = (10, 4))\n",
    "sns.despine()\n",
    "sns.barplot(data = resultados, x = \"Modelo\", y = \"RMSE\", hue = \"Muestra\", \n",
    "            palette = [\"darkblue\", \"forestgreen\"], ax = ax)\n",
    "ax.bar_label(ax.containers[0], fmt = '%.2f', label_type = 'center', color = \"white\")\n",
    "ax.bar_label(ax.containers[1], fmt = '%.2f', label_type = 'center', color = \"white\")\n",
    "plt.xlabel(\"Modelo\")\n",
    "plt.ylabel(\"Root Mean Square Error\")"
   ]
  }
 ],
 "metadata": {
  "kernelspec": {
   "display_name": "base",
   "language": "python",
   "name": "python3"
  },
  "language_info": {
   "codemirror_mode": {
    "name": "ipython",
    "version": 3
   },
   "file_extension": ".py",
   "mimetype": "text/x-python",
   "name": "python",
   "nbconvert_exporter": "python",
   "pygments_lexer": "ipython3",
   "version": "3.9.13"
  },
  "orig_nbformat": 4
 },
 "nbformat": 4,
 "nbformat_minor": 2
}
