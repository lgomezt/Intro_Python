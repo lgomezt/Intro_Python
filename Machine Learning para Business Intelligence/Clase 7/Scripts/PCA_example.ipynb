{
 "cells": [
  {
   "cell_type": "code",
   "execution_count": 1,
   "metadata": {},
   "outputs": [],
   "source": [
    "import pandas as pd\n",
    "import numpy as np\n",
    "import random as rd\n",
    "from sklearn.decomposition import PCA\n",
    "from sklearn import preprocessing\n",
    "import matplotlib.pyplot as plt "
   ]
  },
  {
   "cell_type": "code",
   "execution_count": 2,
   "metadata": {},
   "outputs": [],
   "source": [
    "#########################\n",
    "#\n",
    "# Data Generation Code\n",
    "#\n",
    "#########################\n",
    "## In this example, the data is in a data frame called data.\n",
    "## Columns are individual samples (i.e. cells)\n",
    "## Rows are measurements taken for all the samples (i.e. genes)\n",
    "## Just for the sake of the example, we'll use made up data...\n",
    "\n",
    "genes = ['gene' + str(i) for i in range(1,101)]\n",
    " \n",
    "wt = ['wt' + str(i) for i in range(1,6)]\n",
    "ko = ['ko' + str(i) for i in range(1,6)]\n",
    " \n",
    "data = pd.DataFrame(columns = [*wt, *ko], index = genes)\n",
    " \n",
    "for gene in data.index:\n",
    "    data.loc[gene,'wt1':'wt5'] = np.random.poisson(lam = rd.randrange(10,1000), size = 5)\n",
    "    data.loc[gene,'ko1':'ko5'] = np.random.poisson(lam = rd.randrange(10,1000), size = 5)"
   ]
  },
  {
   "cell_type": "code",
   "execution_count": 4,
   "metadata": {},
   "outputs": [
    {
     "data": {
      "text/html": [
       "<div>\n",
       "<style scoped>\n",
       "    .dataframe tbody tr th:only-of-type {\n",
       "        vertical-align: middle;\n",
       "    }\n",
       "\n",
       "    .dataframe tbody tr th {\n",
       "        vertical-align: top;\n",
       "    }\n",
       "\n",
       "    .dataframe thead th {\n",
       "        text-align: right;\n",
       "    }\n",
       "</style>\n",
       "<table border=\"1\" class=\"dataframe\">\n",
       "  <thead>\n",
       "    <tr style=\"text-align: right;\">\n",
       "      <th></th>\n",
       "      <th>wt1</th>\n",
       "      <th>wt2</th>\n",
       "      <th>wt3</th>\n",
       "      <th>wt4</th>\n",
       "      <th>wt5</th>\n",
       "      <th>ko1</th>\n",
       "      <th>ko2</th>\n",
       "      <th>ko3</th>\n",
       "      <th>ko4</th>\n",
       "      <th>ko5</th>\n",
       "    </tr>\n",
       "  </thead>\n",
       "  <tbody>\n",
       "    <tr>\n",
       "      <th>gene1</th>\n",
       "      <td>817</td>\n",
       "      <td>946</td>\n",
       "      <td>945</td>\n",
       "      <td>847</td>\n",
       "      <td>941</td>\n",
       "      <td>123</td>\n",
       "      <td>153</td>\n",
       "      <td>170</td>\n",
       "      <td>148</td>\n",
       "      <td>152</td>\n",
       "    </tr>\n",
       "    <tr>\n",
       "      <th>gene2</th>\n",
       "      <td>551</td>\n",
       "      <td>537</td>\n",
       "      <td>494</td>\n",
       "      <td>499</td>\n",
       "      <td>510</td>\n",
       "      <td>297</td>\n",
       "      <td>266</td>\n",
       "      <td>270</td>\n",
       "      <td>271</td>\n",
       "      <td>247</td>\n",
       "    </tr>\n",
       "    <tr>\n",
       "      <th>gene3</th>\n",
       "      <td>586</td>\n",
       "      <td>576</td>\n",
       "      <td>589</td>\n",
       "      <td>572</td>\n",
       "      <td>550</td>\n",
       "      <td>431</td>\n",
       "      <td>457</td>\n",
       "      <td>383</td>\n",
       "      <td>421</td>\n",
       "      <td>417</td>\n",
       "    </tr>\n",
       "    <tr>\n",
       "      <th>gene4</th>\n",
       "      <td>796</td>\n",
       "      <td>779</td>\n",
       "      <td>830</td>\n",
       "      <td>788</td>\n",
       "      <td>786</td>\n",
       "      <td>366</td>\n",
       "      <td>320</td>\n",
       "      <td>339</td>\n",
       "      <td>331</td>\n",
       "      <td>322</td>\n",
       "    </tr>\n",
       "    <tr>\n",
       "      <th>gene5</th>\n",
       "      <td>669</td>\n",
       "      <td>619</td>\n",
       "      <td>593</td>\n",
       "      <td>638</td>\n",
       "      <td>623</td>\n",
       "      <td>295</td>\n",
       "      <td>269</td>\n",
       "      <td>256</td>\n",
       "      <td>283</td>\n",
       "      <td>274</td>\n",
       "    </tr>\n",
       "  </tbody>\n",
       "</table>\n",
       "</div>"
      ],
      "text/plain": [
       "       wt1  wt2  wt3  wt4  wt5  ko1  ko2  ko3  ko4  ko5\n",
       "gene1  817  946  945  847  941  123  153  170  148  152\n",
       "gene2  551  537  494  499  510  297  266  270  271  247\n",
       "gene3  586  576  589  572  550  431  457  383  421  417\n",
       "gene4  796  779  830  788  786  366  320  339  331  322\n",
       "gene5  669  619  593  638  623  295  269  256  283  274"
      ]
     },
     "execution_count": 4,
     "metadata": {},
     "output_type": "execute_result"
    }
   ],
   "source": [
    "data.head()"
   ]
  },
  {
   "cell_type": "code",
   "execution_count": 5,
   "metadata": {},
   "outputs": [
    {
     "data": {
      "text/plain": [
       "(100, 10)"
      ]
     },
     "execution_count": 5,
     "metadata": {},
     "output_type": "execute_result"
    }
   ],
   "source": [
    "data.shape"
   ]
  },
  {
   "cell_type": "code",
   "execution_count": 6,
   "metadata": {},
   "outputs": [],
   "source": [
    "#########################\n",
    "#\n",
    "# Perform PCA on the data\n",
    "#\n",
    "#########################\n",
    "# First center and scale the data\n",
    "scaled_data = preprocessing.scale(data.T)\n",
    " \n",
    "pca = PCA() # create a PCA object\n",
    "pca.fit(scaled_data) # do the math\n",
    "pca_data = pca.transform(scaled_data) # get PCA coordinates for scaled_data"
   ]
  },
  {
   "cell_type": "code",
   "execution_count": 10,
   "metadata": {},
   "outputs": [
    {
     "data": {
      "text/plain": [
       "(10, 100)"
      ]
     },
     "execution_count": 10,
     "metadata": {},
     "output_type": "execute_result"
    }
   ],
   "source": [
    "scaled_data.shape"
   ]
  },
  {
   "cell_type": "code",
   "execution_count": 8,
   "metadata": {},
   "outputs": [
    {
     "data": {
      "text/plain": [
       "(10, 10)"
      ]
     },
     "execution_count": 8,
     "metadata": {},
     "output_type": "execute_result"
    }
   ],
   "source": [
    "pca_data.shape"
   ]
  },
  {
   "cell_type": "code",
   "execution_count": 11,
   "metadata": {},
   "outputs": [
    {
     "data": {
      "image/png": "[encoded data removed]",
      "text/plain": [
       "<Figure size 640x480 with 1 Axes>"
      ]
     },
     "metadata": {},
     "output_type": "display_data"
    }
   ],
   "source": [
    "#########################\n",
    "#\n",
    "# Draw a scree plot and a PCA plot\n",
    "#\n",
    "#########################\n",
    " \n",
    "# The following code constructs the Scree plot\n",
    "per_var = np.round(pca.explained_variance_ratio_* 100, decimals=1)\n",
    "labels = ['PC' + str(x) for x in range(1, len(per_var)+1)]\n",
    " \n",
    "plt.bar(x = range(1,len(per_var)+1), height=per_var, tick_label=labels)\n",
    "plt.ylabel('Percentage of Explained Variance')\n",
    "plt.xlabel('Principal Component')\n",
    "plt.title('Scree Plot')\n",
    "plt.show()"
   ]
  },
  {
   "cell_type": "code",
   "execution_count": 12,
   "metadata": {},
   "outputs": [
    {
     "data": {
      "image/png": "[encoded data removed]",
      "text/plain": [
       "<Figure size 640x480 with 1 Axes>"
      ]
     },
     "metadata": {},
     "output_type": "display_data"
    }
   ],
   "source": [
    "#the following code makes a fancy looking plot using PC1 and PC2\n",
    "pca_df = pd.DataFrame(pca_data, index=[*wt, *ko], columns=labels)\n",
    " \n",
    "plt.scatter(pca_df.PC1, pca_df.PC2)\n",
    "plt.title('My PCA Graph')\n",
    "plt.xlabel('PC1 - {0}%'.format(per_var[0]))\n",
    "plt.ylabel('PC2 - {0}%'.format(per_var[1]))\n",
    " \n",
    "for sample in pca_df.index:\n",
    "    plt.annotate(sample, (pca_df.PC1.loc[sample], pca_df.PC2.loc[sample]))\n",
    " \n",
    "plt.show()"
   ]
  },
  {
   "cell_type": "code",
   "execution_count": 13,
   "metadata": {},
   "outputs": [
    {
     "name": "stdout",
     "output_type": "stream",
     "text": [
      "gene56   -0.106454\n",
      "gene96   -0.106452\n",
      "gene22    0.106425\n",
      "gene6    -0.106423\n",
      "gene30    0.106416\n",
      "gene39    0.106416\n",
      "gene76   -0.106414\n",
      "gene70   -0.106404\n",
      "gene52   -0.106391\n",
      "gene45   -0.106388\n",
      "dtype: float64\n"
     ]
    }
   ],
   "source": [
    "#########################\n",
    "#\n",
    "# Determine which genes had the biggest influence on PC1\n",
    "#\n",
    "#########################\n",
    " \n",
    "## get the name of the top 10 measurements (genes) that contribute\n",
    "## most to pc1.\n",
    "## first, get the loading scores\n",
    "loading_scores = pd.Series(pca.components_[0], index=genes)\n",
    "## now sort the loading scores based on their magnitude\n",
    "sorted_loading_scores = loading_scores.abs().sort_values(ascending=False)\n",
    " \n",
    "# get the names of the top 10 genes\n",
    "top_10_genes = sorted_loading_scores[0:10].index.values\n",
    " \n",
    "## print the gene names and their scores (and +/- sign)\n",
    "print(loading_scores[top_10_genes])"
   ]
  }
 ],
 "metadata": {
  "kernelspec": {
   "display_name": "base",
   "language": "python",
   "name": "python3"
  },
  "language_info": {
   "codemirror_mode": {
    "name": "ipython",
    "version": 3
   },
   "file_extension": ".py",
   "mimetype": "text/x-python",
   "name": "python",
   "nbconvert_exporter": "python",
   "pygments_lexer": "ipython3",
   "version": "3.9.13"
  },
  "orig_nbformat": 4
 },
 "nbformat": 4,
 "nbformat_minor": 2
}
