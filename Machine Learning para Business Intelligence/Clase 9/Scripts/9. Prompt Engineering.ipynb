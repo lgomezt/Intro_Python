{
 "cells": [
  {
   "attachments": {},
   "cell_type": "markdown",
   "metadata": {},
   "source": [
    "# **Machine Learning para Business Intelligence** \n",
    "#### Profesor: Lucas Gómez Tobón"
   ]
  },
  {
   "attachments": {},
   "cell_type": "markdown",
   "metadata": {},
   "source": [
    "# 9. Prompt Engineering\n",
    "### Set-up\n",
    "Consiste en mejorar la forma en la que le pedimos tareas a algún modelo LLM como ChatGPT. En esta clase veremos diferentes usos de ChatGPT y como podemos integrarlo con Python para crear un asistente virtual.\n",
    "\n",
    "En primer lugar tenemos que crear una cuenta en OpenAI [aquí](https://platform.openai.com/overview). Luego debe ingresar a la sección de su cuenta y crear un API Key. Este código es secreto y no debe compartirlo con nadie."
   ]
  },
  {
   "attachments": {},
   "cell_type": "markdown",
   "metadata": {},
   "source": [
    "Posteriormente debemos instalar la librería de OpenAI. Para hacerlo, descomente la siguiente linea y corrala:"
   ]
  },
  {
   "cell_type": "code",
   "execution_count": null,
   "metadata": {},
   "outputs": [],
   "source": [
    "# pip install openai"
   ]
  },
  {
   "cell_type": "code",
   "execution_count": 1,
   "metadata": {},
   "outputs": [],
   "source": [
    "import openai"
   ]
  },
  {
   "cell_type": "code",
   "execution_count": 2,
   "metadata": {},
   "outputs": [],
   "source": [
    "# Cargar su API Key\n",
    "openai.api_key = 'OPENAI_API_KEY'"
   ]
  },
  {
   "attachments": {},
   "cell_type": "markdown",
   "metadata": {},
   "source": [
    "A lo largo de este taller vamos a utilizar el modelo `gpt-3.5-turbo` y el endpoint de \"Chat completion\". Este endpoint nos va a ayudar a hacer tareas como:\n",
    "- Escribir un correo electrónico o una carta.\n",
    "- Escribir un código de `Python`.\n",
    "- Responder una pregunta sobre un conjunto de documentos.\n",
    "- Crear chatbots.\n",
    "- Explicar un código de programación.\n",
    "- Traducir texto.\n",
    "- Emular a personajes celebres.\n",
    "\n",
    "Vamos a utilizar la siguiente función para facilitarnos el trabajo"
   ]
  },
  {
   "cell_type": "code",
   "execution_count": 11,
   "metadata": {},
   "outputs": [],
   "source": [
    "def get_completion(prompt, model = \"gpt-3.5-turbo\", temperature = 0):\n",
    "    messages = [{\"role\": \"user\", \"content\": prompt}]\n",
    "    response = openai.ChatCompletion.create(\n",
    "        model = model,\n",
    "        messages = messages,\n",
    "        # Esto es el grado de aleatoriedad en la respuesta.\n",
    "        temperature = temperature, \n",
    "    )\n",
    "    return response.choices[0].message[\"content\"]"
   ]
  },
  {
   "attachments": {},
   "cell_type": "markdown",
   "metadata": {},
   "source": [
    "Nota: En este tutorial, estamos usando una barra invertida `\\` para hacer que el texto quepa en la pantalla sin insertar caracteres de nueva línea '\\n'."
   ]
  },
  {
   "attachments": {},
   "cell_type": "markdown",
   "metadata": {},
   "source": [
    "### Principios del Prompting\n",
    "1. Escriba instrucciones claras y específicas. Entre más detalle le añada a su instrucción, mejor serán sus resultados.\n",
    "2. Darle tiempo al modelo para que pueda pensar."
   ]
  },
  {
   "attachments": {},
   "cell_type": "markdown",
   "metadata": {},
   "source": [
    "#### Tácticas para el Principio 1.\n",
    "\n",
    "1. Usar delimitadores:\n",
    "- Triple comillas: \"\"\"\n",
    "- Triple backticks: ```\n",
    "- Triple guiones: ---\n",
    "- Brackets: <>"
   ]
  },
  {
   "cell_type": "code",
   "execution_count": 22,
   "metadata": {},
   "outputs": [],
   "source": [
    "# Ejemplo\n",
    "texto = \"\"\"\n",
    "Deberías expresar lo que quieres que haga un modelo proporcionando \\\n",
    "instrucciones lo más claras y específicas posibles. Esto guiará \\\n",
    "al modelo hacia la salida deseada y reducirá las posibilidades de recibir \\\n",
    "respuestas irrelevantes o incorrectas. No confundas escribir un prompt claro \\\n",
    "con escribir un prompt corto. En muchos casos, los prompts más largos brindan \\\n",
    "más claridad y contexto al modelo, lo que puede dar lugar a respuestas \\\n",
    "más detalladas y relevantes.\n",
    "\"\"\""
   ]
  },
  {
   "cell_type": "code",
   "execution_count": 23,
   "metadata": {},
   "outputs": [],
   "source": [
    "prompt = f\"\"\"\n",
    "Resuma el texto delimitado con triples guiones en una sola frase:\n",
    "---{texto}---\n",
    "\"\"\""
   ]
  },
  {
   "cell_type": "code",
   "execution_count": 24,
   "metadata": {},
   "outputs": [],
   "source": [
    "respuesta = get_completion(prompt)"
   ]
  },
  {
   "cell_type": "code",
   "execution_count": 25,
   "metadata": {},
   "outputs": [
    {
     "data": {
      "text/plain": [
       "'Para obtener respuestas precisas y relevantes de un modelo, es importante proporcionar instrucciones claras y específicas en el prompt, incluso si esto significa escribir un prompt más largo.'"
      ]
     },
     "execution_count": 25,
     "metadata": {},
     "output_type": "execute_result"
    }
   ],
   "source": [
    "respuesta"
   ]
  },
  {
   "cell_type": "code",
   "execution_count": 26,
   "metadata": {},
   "outputs": [
    {
     "data": {
      "text/plain": [
       "191"
      ]
     },
     "execution_count": 26,
     "metadata": {},
     "output_type": "execute_result"
    }
   ],
   "source": [
    "len(respuesta)"
   ]
  },
  {
   "cell_type": "code",
   "execution_count": 27,
   "metadata": {},
   "outputs": [
    {
     "data": {
      "text/plain": [
       "461"
      ]
     },
     "execution_count": 27,
     "metadata": {},
     "output_type": "execute_result"
    }
   ],
   "source": [
    "len(texto)"
   ]
  },
  {
   "attachments": {},
   "cell_type": "markdown",
   "metadata": {},
   "source": [
    "2. Especificar el formato de la salida:"
   ]
  },
  {
   "cell_type": "code",
   "execution_count": 28,
   "metadata": {},
   "outputs": [],
   "source": [
    "prompt = f\"\"\"\n",
    "Crea una lista de 10 lugares turísticos imperdibles en Bogotá. \\\n",
    "Estos deben ser entregados como un diccionario de Python con los siguientes keys:\n",
    "nombre, dirección, descripción, precio\n",
    "\"\"\""
   ]
  },
  {
   "cell_type": "code",
   "execution_count": 29,
   "metadata": {},
   "outputs": [],
   "source": [
    "respuesta = get_completion(prompt)"
   ]
  },
  {
   "cell_type": "code",
   "execution_count": 32,
   "metadata": {},
   "outputs": [
    {
     "name": "stdout",
     "output_type": "stream",
     "text": [
      "{\n",
      "    \"1. Museo del Oro\": {\n",
      "        \"nombre\": \"Museo del Oro\",\n",
      "        \"dirección\": \"Carrera 6 #15-88\",\n",
      "        \"descripción\": \"Museo que alberga la colección de oro prehispánico más grande del mundo.\",\n",
      "        \"precio\": \"Entrada general: $4.000\"\n",
      "    },\n",
      "    \"2. Monserrate\": {\n",
      "        \"nombre\": \"Monserrate\",\n",
      "        \"dirección\": \"Calle 21 #6-30\",\n",
      "        \"descripción\": \"Cerro que ofrece una vista panorámica de la ciudad y cuenta con una iglesia y restaurantes.\",\n",
      "        \"precio\": \"Funicular o teleférico: $20.000\"\n",
      "    },\n",
      "    \"3. Catedral de Sal de Zipaquirá\": {\n",
      "        \"nombre\": \"Catedral de Sal de Zipaquirá\",\n",
      "        \"dirección\": \"Carrera 6 #1-40, Zipaquirá\",\n",
      "        \"descripción\": \"Iglesia subterránea construida en una mina de sal.\",\n",
      "        \"precio\": \"Entrada general: $60.000\"\n",
      "    },\n",
      "    \"4. Plaza de Bolívar\": {\n",
      "        \"nombre\": \"Plaza de Bolívar\",\n",
      "        \"dirección\": \"Carrera 7 con calle 10\",\n",
      "        \"descripción\": \"Plaza principal de la ciudad rodeada de edificios históricos como la Catedral Primada y el Palacio de Justicia.\",\n",
      "        \"precio\": \"Entrada gratuita\"\n",
      "    },\n",
      "    \"5. Museo Botero\": {\n",
      "        \"nombre\": \"Museo Botero\",\n",
      "        \"dirección\": \"Calle 11 #4-41\",\n",
      "        \"descripción\": \"Museo que alberga la colección de arte de Fernando Botero, incluyendo sus famosas esculturas y pinturas.\",\n",
      "        \"precio\": \"Entrada gratuita\"\n",
      "    },\n",
      "    \"6. Jardín Botánico\": {\n",
      "        \"nombre\": \"Jardín Botánico\",\n",
      "        \"dirección\": \"Carrera 68 #63-95\",\n",
      "        \"descripción\": \"Parque con una gran variedad de plantas y flores, además de un mariposario y un orquideario.\",\n",
      "        \"precio\": \"Entrada gratuita\"\n",
      "    },\n",
      "    \"7. Museo Nacional\": {\n",
      "        \"nombre\": \"Museo Nacional\",\n",
      "        \"dirección\": \"Carrera 7 #28-66\",\n",
      "        \"descripción\": \"Museo que cuenta la historia de Colombia desde la época prehispánica hasta la actualidad.\",\n",
      "        \"precio\": \"Entrada general: $8.000\"\n",
      "    },\n",
      "    \"8. Usaquén\": {\n",
      "        \"nombre\": \"Usaquén\",\n",
      "        \"dirección\": \"Calle 119B con carrera 6\",\n",
      "        \"descripción\": \"Barrio colonial con una plaza central rodeada de restaurantes y tiendas de artesanías.\",\n",
      "        \"precio\": \"Entrada gratuita\"\n",
      "    },\n",
      "    \"9. Teatro Colón\": {\n",
      "        \"nombre\": \"Teatro Colón\",\n",
      "        \"dirección\": \"Calle 10 #5-32\",\n",
      "        \"descripción\": \"Teatro histórico que ha sido escenario de importantes eventos culturales en la ciudad.\",\n",
      "        \"precio\": \"Precio de entrada varía según el evento\"\n",
      "    },\n",
      "    \"10. Cerro de Guadalupe\": {\n",
      "        \"nombre\": \"Cerro de Guadalupe\",\n",
      "        \"dirección\": \"Calle 1 #1-10 Este\",\n",
      "        \"descripción\": \"Cerro que ofrece una vista panorámica de la ciudad y cuenta con una capilla en la cima.\",\n",
      "        \"precio\": \"Entrada gratuita\"\n",
      "    }\n",
      "}\n"
     ]
    }
   ],
   "source": [
    "print(respuesta)"
   ]
  },
  {
   "attachments": {},
   "cell_type": "markdown",
   "metadata": {},
   "source": [
    "3. Pedirle al modelo que verifique si una condición se cumple o no."
   ]
  },
  {
   "cell_type": "code",
   "execution_count": 33,
   "metadata": {},
   "outputs": [],
   "source": [
    "texto = f\"\"\"\n",
    "¡Preparar una taza de té es fácil! Primero, necesitas obtener algo de \\\n",
    "agua hirviendo. Mientras eso sucede, \\\n",
    "toma una taza y ponle una bolsita de té. Una vez que el agua esté \\\n",
    "lo suficientemente caliente, simplemente viértala sobre la bolsita de té. \\\n",
    "Déjalo reposar un rato para que el té pueda impregnarse. Después de \\\n",
    "unos minutos, saque la bolsita de té. Si usted \\\n",
    "desea, puedes agregar un poco de azúcar o leche al gusto. \\\n",
    "¡Y eso es! Tienes una deliciosa \\\n",
    "taza de té para disfrutar.\n",
    "\"\"\""
   ]
  },
  {
   "cell_type": "code",
   "execution_count": 34,
   "metadata": {},
   "outputs": [],
   "source": [
    "prompt = f\"\"\"\n",
    "Se le va a mostrar un texto delimitado con triple guiones. \n",
    "Si el texto contiene una secuencia de instrucciones entonces \\\n",
    "re escriba las instrucciones en el siguiente formato:\n",
    "\n",
    "Paso 1 - ...\n",
    "Paso 2 - ...\n",
    "...\n",
    "Paso N - ...\n",
    "\n",
    "Si el texto no provee ninguna secuencia de instrucciones entonces \\\n",
    "retorne: \\\"El texto no posee instrucciones.\\\"\n",
    "\n",
    "---{texto}---\n",
    "\"\"\""
   ]
  },
  {
   "cell_type": "code",
   "execution_count": 35,
   "metadata": {},
   "outputs": [],
   "source": [
    "respuesta = get_completion(prompt)"
   ]
  },
  {
   "cell_type": "code",
   "execution_count": 37,
   "metadata": {},
   "outputs": [
    {
     "name": "stdout",
     "output_type": "stream",
     "text": [
      "Paso 1 - Obtener agua hirviendo.\n",
      "Paso 2 - Tomar una taza y ponerle una bolsita de té.\n",
      "Paso 3 - Verter el agua caliente sobre la bolsita de té.\n",
      "Paso 4 - Dejar reposar el té por unos minutos.\n",
      "Paso 5 - Sacar la bolsita de té.\n",
      "Paso 6 - Agregar azúcar o leche al gusto.\n",
      "Paso 7 - Disfrutar de una deliciosa taza de té.\n"
     ]
    }
   ],
   "source": [
    "print(respuesta)"
   ]
  },
  {
   "cell_type": "code",
   "execution_count": 38,
   "metadata": {},
   "outputs": [],
   "source": [
    "texto = get_completion(\"Escribe un poema sobre como un yogurt puede evolucionar y dominar al mundo\")"
   ]
  },
  {
   "cell_type": "code",
   "execution_count": 41,
   "metadata": {},
   "outputs": [],
   "source": [
    "prompt = f\"\"\"\n",
    "Se le va a mostrar un texto delimitado con triple guiones. \n",
    "Si el texto contiene una secuencia de instrucciones entonces \\\n",
    "re escriba las instrucciones en el siguiente formato:\n",
    "\n",
    "Paso 1 - ...\n",
    "Paso 2 - ...\n",
    "...\n",
    "Paso N - ...\n",
    "\n",
    "Si el texto no provee ninguna secuencia de instrucciones entonces \\\n",
    "retorne: \\\"El texto no posee instrucciones.\\\"\n",
    "\n",
    "---{texto}---\n",
    "\"\"\""
   ]
  },
  {
   "cell_type": "code",
   "execution_count": 43,
   "metadata": {},
   "outputs": [],
   "source": [
    "respuesta = get_completion(prompt)"
   ]
  },
  {
   "cell_type": "code",
   "execution_count": 44,
   "metadata": {},
   "outputs": [
    {
     "data": {
      "text/plain": [
       "'El texto no posee instrucciones.'"
      ]
     },
     "execution_count": 44,
     "metadata": {},
     "output_type": "execute_result"
    }
   ],
   "source": [
    "respuesta"
   ]
  },
  {
   "attachments": {},
   "cell_type": "markdown",
   "metadata": {},
   "source": [
    "4. Few-shot prompting. Incluya ejemplos exitosos o correctos de la tarea que solicita dentro del prompt. "
   ]
  },
  {
   "cell_type": "code",
   "execution_count": 61,
   "metadata": {},
   "outputs": [],
   "source": [
    "prompt = f\"\"\"\n",
    "Tu tarea es responder de manera coherente.\n",
    "\n",
    "<niño>: Enséñame sobre la paciencia.\n",
    "\n",
    "<sensei>:  El río que talla el valle más profundo \\\n",
    "fluye desde un modesto manantial; la \\\n",
    "sinfonía más grandiosa se origina a partir de una sola nota; \\\n",
    "el tapiz más intrincado comienza con un hilo solitario.\n",
    "\n",
    "<niño>: Enséñame sobre la lealtad.\n",
    "\"\"\""
   ]
  },
  {
   "cell_type": "code",
   "execution_count": 64,
   "metadata": {},
   "outputs": [],
   "source": [
    "respuesta = get_completion(prompt)"
   ]
  },
  {
   "cell_type": "code",
   "execution_count": 66,
   "metadata": {},
   "outputs": [
    {
     "name": "stdout",
     "output_type": "stream",
     "text": [
      "<sensei>: La lealtad es como una roca sólida que permanece firme en medio de las tormentas más fuertes. Es la capacidad de mantenerse fiel a alguien o algo, incluso en momentos difíciles. La lealtad se construye a través de la confianza, el respeto y el compromiso, y es una virtud muy valorada en cualquier relación o situación.\n"
     ]
    }
   ],
   "source": [
    "print(respuesta)"
   ]
  },
  {
   "attachments": {},
   "cell_type": "markdown",
   "metadata": {},
   "source": [
    "#### Tácticas para el Principio 2.\n",
    "1. Especifica los pasos requeridos para completar una tarea."
   ]
  },
  {
   "cell_type": "code",
   "execution_count": 67,
   "metadata": {},
   "outputs": [],
   "source": [
    "texto = f\"\"\"\n",
    "En un encantador pueblo, los hermanos Jack y Jill emprendieron \\\n",
    "una misión para traer agua de un pozo en la cima de una colina. \\\n",
    "Mientras subían, cantando alegremente, la desgracia les golpeó: \\\n",
    "Jack tropezó con una piedra y rodó colina abajo, seguido por Jill. \\\n",
    "Aunque un poco golpeados, los dos regresaron a casa \\\n",
    "donde recibieron abrazos reconfortantes. A pesar del percance, \\\n",
    "sus espíritus aventureros no disminuyeron y continuaron explorando con alegría.\n",
    "\"\"\""
   ]
  },
  {
   "cell_type": "code",
   "execution_count": 73,
   "metadata": {},
   "outputs": [],
   "source": [
    "prompt = f\"\"\"\n",
    "Realice los siguientes pasos:\n",
    "1. Resuma el texto contenido en triples guiones en una frase.\n",
    "2. Traduzca el resumen a inglés.\n",
    "3. Cree una lista de todos los nombres presentes en el paso 2.\n",
    "4. Devuelva un diccionario en Python que contenga el resumen en inglés del paso 2 y \\\n",
    "la cantidad de nombres encontrados en el paso 4. Los keys deben ser: resumen, num_nombres \\\n",
    "\n",
    "Separe su respuesta con line breaks.\n",
    "\n",
    "Texto: ---{texto}---\n",
    "\"\"\""
   ]
  },
  {
   "cell_type": "code",
   "execution_count": 74,
   "metadata": {},
   "outputs": [],
   "source": [
    "respuesta = get_completion(prompt)"
   ]
  },
  {
   "cell_type": "code",
   "execution_count": 75,
   "metadata": {},
   "outputs": [
    {
     "name": "stdout",
     "output_type": "stream",
     "text": [
      "Resumen: Los hermanos Jack y Jill tuvieron un accidente al intentar traer agua de un pozo en la cima de una colina, pero a pesar de ello, mantuvieron su espíritu aventurero.\n",
      "\n",
      "Summary: Jack and Jill had an accident while trying to bring water from a well on top of a hill, but despite that, they maintained their adventurous spirit.\n",
      "\n",
      "Nombres: Jack, Jill\n",
      "\n",
      "{'resumen': 'Jack and Jill had an accident while trying to bring water from a well on top of a hill, but despite that, they maintained their adventurous spirit.', 'num_nombres': 2}\n"
     ]
    }
   ],
   "source": [
    "print(respuesta)"
   ]
  },
  {
   "attachments": {},
   "cell_type": "markdown",
   "metadata": {},
   "source": [
    "2. Obligue al modelo a encontrar su propia solución antes de llegar a una conclusión."
   ]
  },
  {
   "cell_type": "code",
   "execution_count": 76,
   "metadata": {},
   "outputs": [],
   "source": [
    "prompt = f\"\"\"\n",
    "Determine si la solución del estudiante es correcta o no.\n",
    "\n",
    "Pregunta:\n",
    "Paco está construyendo una casa y necesita ayuda calculando el presupuesto \\\n",
    "del proyecto.\n",
    "- El precio del lote es $100 por metro cuadrado.\n",
    "- El precio de una bolsa de cemento es $10.\n",
    "- El valor de la hora de trabajo de un obrero es $2.\n",
    "¿Cuál es el costo del proyecto si Paco compra un lote de un kilometro cuadrado,\n",
    "20 bultos de cemento y contrata a 2 obreros por 10 horas cada uno?\n",
    "\n",
    "Solución del estudiante:\n",
    "Paco compró un lote de 1 kilometro cuadrado por $100, 20 bultos de cemento por \\\n",
    "$10 cada uno y 2 obreros por 10 horas cada uno a un precio de $2 la hora de cada \\\n",
    "uno. Entonces, el presupuesto total sería de:\n",
    "Presupuesto total = 1 * 100 + 20 * 10 + 2 * 10 * 2 = $340\n",
    "\"\"\""
   ]
  },
  {
   "cell_type": "code",
   "execution_count": 77,
   "metadata": {},
   "outputs": [],
   "source": [
    "respuesta = get_completion(prompt)"
   ]
  },
  {
   "cell_type": "code",
   "execution_count": 78,
   "metadata": {},
   "outputs": [
    {
     "name": "stdout",
     "output_type": "stream",
     "text": [
      "La solución del estudiante es correcta.\n"
     ]
    }
   ],
   "source": [
    "print(respuesta)"
   ]
  },
  {
   "cell_type": "code",
   "execution_count": 79,
   "metadata": {},
   "outputs": [],
   "source": [
    "prompt = f\"\"\"\n",
    "Determine si la solución del estudiante es correcta o no.\n",
    "\n",
    "Para hacerlo siga los siguientes pasos:\n",
    "1. Encuentre la solución a la pregunta.\n",
    "2. Describa el paso a paso de cómo resolver la pregunta.\n",
    "3. Compare su solución con la del estudiante y determine si la respuesta de \\\n",
    "el estudiante es correcta o no. No decida si la solución del estudiante es \\\n",
    "correcta sin antes haber encontrado la solución por su cuenta.\n",
    "\n",
    "Responda usando el siguiente formato:\n",
    "Pregunta:\n",
    "```\n",
    "inserte la pregunta acá\n",
    "```\n",
    "Solución del estudiante:\n",
    "```\n",
    "inserte la solución del estudiante acá\n",
    "```\n",
    "Solución real:\n",
    "```\n",
    "inserte su solución incluyendo los pasos 1 y 2 mencionados anteriormente.\n",
    "```\n",
    "¿Es la solución del estudiante correcta o incorrecta?\n",
    "```\n",
    "compare su respuesta con la del estudiante y determine si el estudiante está bien \\\n",
    "o mal.\n",
    "```\n",
    "\n",
    "Pregunta:\n",
    "```\n",
    "Paco está construyendo una casa y necesita ayuda calculando el presupuesto \\\n",
    "del proyecto.\n",
    "- El precio del lote es $100 por metro cuadrado.\n",
    "- El precio de una bolsa de cemento es $10.\n",
    "- El valor de la hora de trabajo de un obrero es $2.\n",
    "¿Cuál es el costo del proyecto si Paco compra un lote de un kilometro cuadrado,\n",
    "20 bultos de cemento y contrata a 2 obreros por 10 horas cada uno?\n",
    "```\n",
    "Solución del estudiante:\n",
    "```\n",
    "Paco compró un lote de 1 kilometro cuadrado por $100, 20 bultos de cemento por \\\n",
    "$10 cada uno y 2 obreros por 10 horas cada uno a un precio de $2 la hora de cada \\\n",
    "uno. Entonces, el presupuesto total sería de:\n",
    "Presupuesto total = 1 * 100 + 20 * 10 + 2 * 10 * 2 = $340\n",
    "```\n",
    "Solución real:\n",
    "\"\"\""
   ]
  },
  {
   "cell_type": "code",
   "execution_count": 80,
   "metadata": {},
   "outputs": [],
   "source": [
    "respuesta = get_completion(prompt)"
   ]
  },
  {
   "cell_type": "code",
   "execution_count": 81,
   "metadata": {},
   "outputs": [
    {
     "name": "stdout",
     "output_type": "stream",
     "text": [
      "1. Calcular el área del lote: 1 km cuadrado = 1000000 metros cuadrados\n",
      "2. Multiplicar el área del lote por el precio por metro cuadrado: 1000000 * 100 = $100000000\n",
      "3. Multiplicar el número de bultos de cemento por el precio de cada uno: 20 * 10 = $200\n",
      "4. Multiplicar el número de obreros por las horas trabajadas por cada uno y por el precio por hora: 2 * 10 * 2 = $40\n",
      "5. Sumar los resultados de los tres pasos anteriores: $100000000 + $200 + $40 = $100000240\n",
      "La solución real es $100000240.\n",
      "¿Es la solución del estudiante correcta o incorrecta?\n",
      "La solución del estudiante es incorrecta. No tomó en cuenta el área del lote y calculó mal el costo de los obreros.\n"
     ]
    }
   ],
   "source": [
    "print(respuesta)"
   ]
  },
  {
   "attachments": {},
   "cell_type": "markdown",
   "metadata": {},
   "source": [
    "### Limitaciones: Alucinaciones\n",
    "El modelo puede crear texto que parece plausible o real pero en realidad no es verdadero."
   ]
  },
  {
   "cell_type": "code",
   "execution_count": null,
   "metadata": {},
   "outputs": [],
   "source": [
    "prompt = f\"\"\"\n",
    "Cuéntame sobre el cepillo de dientes inteligente AeroGlide UltraSlim de Boie\n",
    "\"\"\"\n",
    "\n",
    "respuesta = get_completion(prompt)"
   ]
  },
  {
   "cell_type": "code",
   "execution_count": 89,
   "metadata": {},
   "outputs": [
    {
     "data": {
      "text/plain": [
       "'El cepillo de dientes inteligente AeroGlide UltraSlim de Boie es un cepillo de dientes eléctrico de alta tecnología que utiliza tecnología de vibración sónica para limpiar los dientes de manera efectiva. El cepillo de dientes cuenta con un diseño delgado y elegante que lo hace fácil de usar y transportar. Además, el cepillo de dientes inteligente AeroGlide UltraSlim de Boie cuenta con una aplicación móvil que se conecta al cepillo de dientes a través de Bluetooth, lo que permite a los usuarios monitorear su progreso de cepillado y recibir consejos personalizados para mejorar su técnica de cepillado. El cepillo de dientes también cuenta con una batería recargable de larga duración y una cabeza de cepillo reemplazable que se puede cambiar fácilmente para mantener la higiene bucal óptima. En resumen, el cepillo de dientes inteligente AeroGlide UltraSlim de Boie es una excelente opción para aquellos que buscan una solución de cepillado de dientes de alta tecnología y eficaz.'"
      ]
     },
     "execution_count": 89,
     "metadata": {},
     "output_type": "execute_result"
    }
   ],
   "source": [
    "respuesta"
   ]
  },
  {
   "attachments": {},
   "cell_type": "markdown",
   "metadata": {},
   "source": [
    "Para reducir la posibilidad de alucinaciones puede pedirle al modelo que primero encuentre toda la información relevante sobre lo que se le está pidiendo y luego responda la pregunta basándose en dicha información."
   ]
  },
  {
   "cell_type": "code",
   "execution_count": 90,
   "metadata": {},
   "outputs": [],
   "source": [
    "texto = f\"\"\"\n",
    "el cepillo de dientes inteligente AeroGlide UltraSlim de Boie\n",
    "\"\"\"\n",
    "\n",
    "prompt = f\"\"\"\n",
    "Su tarea es encontrar toda la información relevante sobre el texto delimitado por\n",
    "tres comillas ` y luego utilizar esa información para describir el producto \n",
    "mencionado en el texto. Si no encuentra información sobre dicho producto, mencionar\n",
    "que no posee información relevante para responder.\n",
    "\n",
    "texto: ```{texto}```\n",
    "\"\"\"\n",
    "\n",
    "respuesta = get_completion(prompt)"
   ]
  },
  {
   "cell_type": "code",
   "execution_count": 91,
   "metadata": {},
   "outputs": [
    {
     "data": {
      "text/plain": [
       "'El cepillo de dientes inteligente AeroGlide UltraSlim de Boie es un producto que se encuentra dentro de la categoría de cepillos de dientes eléctricos. Sin embargo, no se dispone de información adicional sobre sus características específicas o funcionalidades.'"
      ]
     },
     "execution_count": 91,
     "metadata": {},
     "output_type": "execute_result"
    }
   ],
   "source": [
    "respuesta"
   ]
  },
  {
   "attachments": {},
   "cell_type": "markdown",
   "metadata": {},
   "source": [
    "### Mejorar los prompts iterativamente"
   ]
  },
  {
   "attachments": {},
   "cell_type": "markdown",
   "metadata": {},
   "source": [
    "Generaremos una publicidad a partir de una ficha técnica del producto"
   ]
  },
  {
   "cell_type": "code",
   "execution_count": 92,
   "metadata": {},
   "outputs": [],
   "source": [
    "ficha_tecnica = \"\"\"\n",
    "\n",
    "DESCRIPCIÓN GENERAL\n",
    "- Parte de una hermosa familia de muebles de oficina inspirados en el estilo de \\\n",
    "mediados de siglo, que incluye archivadores, escritorios, estanterías, mesas de \\\n",
    "reuniones y más.\n",
    "- Varias opciones de color para la carcasa y acabados de la base. \n",
    "- Disponible con tapicería frontal y trasera de plástico (SWC-100) \\\n",
    "o totalmente tapizada (SWC-110) en 10 opciones de tela y 6 opciones de cuero. \n",
    "- Opciones de acabado de la base: acero inoxidable, negro mate, blanco brillante \\\n",
    "o cromo.\n",
    "- La silla está disponible con o sin reposabrazos.\n",
    "- Adecuada para entornos domésticos o comerciales.\n",
    "\n",
    "\n",
    "CONSTRUCCIÓN\n",
    "- Base de aluminio recubierta de plástico con 5 ruedas.\n",
    "- Ajuste neumático de la altura de la silla para facilitar su elevación y descenso.\n",
    "\n",
    "DIMENSIONES\n",
    "- ANCHO 53 CM | 20.87”\n",
    "- PROFUNDIDAD 51 CM | 20.08”\n",
    "- ALTURA 80 CM | 31.50”\n",
    "- ALTURA DEL ASIENTO 44 CM | 17.32”\n",
    "- PROFUNDIDAD DEL ASIENTO 41 CM | 16.14”\n",
    "\n",
    "OPCIONES\n",
    "- Opciones de ruedas para suelos blandos o duros.\n",
    "- Dos opciones de densidad de espuma del asiento: \\\n",
    "media (1.8 lb/ft3) o alta (2.8 lb/ft3).\n",
    "- Sin reposabrazos o con reposabrazos de 8 posiciones.\n",
    "\n",
    "MATERIALES\n",
    "CARCASA BASE\n",
    "- Aluminio fundido con revestimiento de nylon PA6/PA66 modificado.\n",
    "- Grosor de la carcasa: 10 mm.\n",
    "ASIENTO\n",
    "- Espuma HD36.\n",
    "\n",
    "PAÍS DE ORIGEN\n",
    "- Italia\n",
    "\"\"\""
   ]
  },
  {
   "cell_type": "code",
   "execution_count": 93,
   "metadata": {},
   "outputs": [],
   "source": [
    "prompt = f\"\"\"\n",
    "Su tarea es ayudar a un equipo de marketing a crear una\n",
    "descripción para un sitio web minorista de un producto\n",
    "basándote en una ficha técnica.\n",
    "\n",
    "Escribe una descripción del producto basada en la información\n",
    "proporcionada en las especificaciones técnicas delimitadas por\n",
    "triple comilla invertida.\n",
    "\n",
    "Especificaciones técnicas: ```{ficha_tecnica}```\n",
    "\"\"\""
   ]
  },
  {
   "cell_type": "code",
   "execution_count": 94,
   "metadata": {},
   "outputs": [
    {
     "name": "stdout",
     "output_type": "stream",
     "text": [
      "Introduciendo nuestra nueva silla de oficina inspirada en el estilo de mediados de siglo, parte de una hermosa familia de muebles de oficina. Con varias opciones de color para la carcasa y acabados de la base, esta silla está disponible con tapicería frontal y trasera de plástico o totalmente tapizada en una amplia variedad de opciones de tela y cuero. La base de aluminio recubierta de plástico con 5 ruedas y ajuste neumático de la altura de la silla para facilitar su elevación y descenso. La silla está disponible con o sin reposabrazos y es adecuada para entornos domésticos o comerciales. Con opciones de ruedas para suelos blandos o duros y dos opciones de densidad de espuma del asiento, media o alta, esta silla es perfecta para cualquier persona que busque comodidad y estilo en su espacio de trabajo. La silla está hecha de materiales de alta calidad, incluyendo una carcasa de aluminio fundido con revestimiento de nylon PA6/PA66 modificado y un asiento de espuma HD36. Con dimensiones de 53 cm de ancho, 51 cm de profundidad y 80 cm de altura, esta silla es perfecta para cualquier espacio de trabajo. ¡Hecha en Italia, esta silla es la elección perfecta para cualquier persona que busque calidad y estilo en su espacio de trabajo!\n"
     ]
    }
   ],
   "source": [
    "respuesta = get_completion(prompt)\n",
    "print(respuesta)"
   ]
  },
  {
   "attachments": {},
   "cell_type": "markdown",
   "metadata": {},
   "source": [
    "1. El texto es muy largo. Iteremos para limitar el número de palabras"
   ]
  },
  {
   "cell_type": "code",
   "execution_count": 106,
   "metadata": {},
   "outputs": [],
   "source": [
    "prompt = f\"\"\"\n",
    "Su tarea es ayudar a un equipo de marketing a crear una\n",
    "descripción para un sitio web minorista de un producto\n",
    "basándote en una ficha técnica.\n",
    "\n",
    "Escribe una descripción del producto basada en la información\n",
    "proporcionada en las especificaciones técnicas delimitadas por\n",
    "triple comilla invertida.\n",
    "\n",
    "Use máximo 50 palabras en su descripción.\n",
    "\n",
    "Especificaciones técnicas: ```{ficha_tecnica}```\n",
    "\"\"\""
   ]
  },
  {
   "cell_type": "code",
   "execution_count": 107,
   "metadata": {},
   "outputs": [
    {
     "name": "stdout",
     "output_type": "stream",
     "text": [
      "Silla de oficina de estilo mediados de siglo con múltiples opciones de color y acabado de base. Disponible con tapicería frontal y trasera de plástico o totalmente tapizada en tela o cuero. Ajuste neumático de altura y opciones de reposabrazos. Perfecta para hogares y oficinas.\n"
     ]
    }
   ],
   "source": [
    "respuesta = get_completion(prompt)\n",
    "print(respuesta)"
   ]
  },
  {
   "cell_type": "code",
   "execution_count": 108,
   "metadata": {},
   "outputs": [
    {
     "data": {
      "text/plain": [
       "45"
      ]
     },
     "execution_count": 108,
     "metadata": {},
     "output_type": "execute_result"
    }
   ],
   "source": [
    "len(respuesta.split(\" \"))"
   ]
  },
  {
   "attachments": {},
   "cell_type": "markdown",
   "metadata": {},
   "source": [
    "2. Destaque los atributos de la silla más relevantes para su público."
   ]
  },
  {
   "cell_type": "code",
   "execution_count": 103,
   "metadata": {},
   "outputs": [],
   "source": [
    "prompt = f\"\"\"\n",
    "Su tarea es ayudar a un equipo de marketing a crear una\n",
    "descripción para un sitio web minorista de un producto\n",
    "basándote en una ficha técnica.\n",
    "\n",
    "Escribe una descripción del producto basada en la información\n",
    "proporcionada en las especificaciones técnicas delimitadas por\n",
    "triple comilla invertida.\n",
    "\n",
    "La descripción debe ser enfocada hacia vendedores minoristas de muebles, por\n",
    "ende esta debe ser de carácter técnico y centrarse en los materiales con los\n",
    "que está fabricado el producto.\n",
    "\n",
    "Use máximo 50 palabras en su descripción.\n",
    "\n",
    "Especificaciones técnicas: ```{ficha_tecnica}```\n",
    "\"\"\""
   ]
  },
  {
   "cell_type": "code",
   "execution_count": 104,
   "metadata": {},
   "outputs": [
    {
     "name": "stdout",
     "output_type": "stream",
     "text": [
      "La silla de oficina de estilo mediados de siglo está disponible en varias opciones de color y acabado de la base. Con una construcción de aluminio recubierto de plástico y ajuste neumático de altura, es adecuada para entornos domésticos o comerciales. Disponible con o sin reposabrazos y opciones de densidad de espuma del asiento.\n"
     ]
    }
   ],
   "source": [
    "respuesta = get_completion(prompt)\n",
    "print(respuesta)"
   ]
  },
  {
   "cell_type": "code",
   "execution_count": 105,
   "metadata": {},
   "outputs": [
    {
     "data": {
      "text/plain": [
       "54"
      ]
     },
     "execution_count": 105,
     "metadata": {},
     "output_type": "execute_result"
    }
   ],
   "source": [
    "len(respuesta.split(\" \"))"
   ]
  },
  {
   "cell_type": "code",
   "execution_count": 109,
   "metadata": {},
   "outputs": [],
   "source": [
    "prompt = f\"\"\"\n",
    "Su tarea es ayudar a un equipo de marketing a crear una\n",
    "descripción para un sitio web minorista de un producto\n",
    "basándote en una ficha técnica.\n",
    "\n",
    "Escribe una descripción del producto basada en la información\n",
    "proporcionada en las especificaciones técnicas delimitadas por\n",
    "triple comilla invertida.\n",
    "\n",
    "La descripción debe ser enfocada hacia vendedores minoristas de muebles, por\n",
    "ende esta debe ser de carácter técnico y centrarse en los materiales con los\n",
    "que está fabricado el producto.\n",
    "\n",
    "Al final de la descripción añada todos los códigos de 7 caracteres que identifican\n",
    "a los productos en la especificación técnica.\n",
    "\n",
    "Use máximo 50 palabras en su descripción.\n",
    "\n",
    "Especificaciones técnicas: ```{ficha_tecnica}```\n",
    "\"\"\""
   ]
  },
  {
   "cell_type": "code",
   "execution_count": 110,
   "metadata": {},
   "outputs": [
    {
     "name": "stdout",
     "output_type": "stream",
     "text": [
      "La silla de oficina de estilo mediados de siglo está disponible en varias opciones de color y acabado de la base. Con tapicería frontal y trasera de plástico o totalmente tapizada en tela o cuero. La base de aluminio recubierta de plástico tiene 5 ruedas y ajuste neumático de altura. Disponible con o sin reposabrazos. Códigos: SWC-100, SWC-110.\n"
     ]
    }
   ],
   "source": [
    "respuesta = get_completion(prompt)\n",
    "print(respuesta)"
   ]
  },
  {
   "attachments": {},
   "cell_type": "markdown",
   "metadata": {},
   "source": [
    "3. Incluya una tabla con las dimensiones de la tabla."
   ]
  },
  {
   "cell_type": "code",
   "execution_count": 120,
   "metadata": {},
   "outputs": [],
   "source": [
    "prompt = f\"\"\"\n",
    "Su tarea es ayudar a un equipo de marketing a crear una\n",
    "descripción para un sitio web minorista de un producto\n",
    "basándote en una ficha técnica.\n",
    "\n",
    "Escribe una descripción del producto basada en la información\n",
    "proporcionada en las especificaciones técnicas delimitadas por\n",
    "triple comilla invertida.\n",
    "\n",
    "La descripción debe ser enfocada hacia vendedores minoristas de muebles, por\n",
    "ende esta debe ser de carácter técnico y centrarse en los materiales con los\n",
    "que está fabricado el producto.\n",
    "\n",
    "Al final de la descripción añada todos los códigos de 7 caracteres que identifican\n",
    "a los productos en la especificación técnica.\n",
    "\n",
    "Luego de la descripción incluya una tabla con las dimensiones del producto. La \n",
    "tabla debe tener dos columnas. La primera debe ser el nombre de la dimensión y la\n",
    "segunda debe tener la medida en pulgadas unicamente.\n",
    "\n",
    "La tabla debe tener el nombre de \"Dimensiones del producto\".\n",
    "\n",
    "Adicionalmente el formato de la salida debe ser en HTML para ser usado en una\n",
    "página web. La descripción debe estar dentro de un <div>.\n",
    "\n",
    "Use máximo 50 palabras en su descripción.\n",
    "\n",
    "Especificaciones técnicas: ```{ficha_tecnica}```\n",
    "\"\"\""
   ]
  },
  {
   "cell_type": "code",
   "execution_count": 121,
   "metadata": {},
   "outputs": [
    {
     "name": "stdout",
     "output_type": "stream",
     "text": [
      "<div>\n",
      "La silla de oficina de estilo mediados de siglo es una adición elegante y funcional a cualquier espacio de trabajo. Con opciones de color y acabado de la base, así como tapicería de tela o cuero, esta silla es adecuada para cualquier entorno. La construcción de aluminio y plástico con ajuste neumático de altura garantiza durabilidad y comodidad. Códigos de producto: SWC-100, SWC-110.\n",
      "</div>\n",
      "\n",
      "<table>\n",
      "  <caption>Dimensiones del producto</caption>\n",
      "  <tr>\n",
      "    <th>ANCHO</th>\n",
      "    <td>20.87\"</td>\n",
      "  </tr>\n",
      "  <tr>\n",
      "    <th>PROFUNDIDAD</th>\n",
      "    <td>20.08\"</td>\n",
      "  </tr>\n",
      "  <tr>\n",
      "    <th>ALTURA</th>\n",
      "    <td>31.50\"</td>\n",
      "  </tr>\n",
      "  <tr>\n",
      "    <th>ALTURA DEL ASIENTO</th>\n",
      "    <td>17.32\"</td>\n",
      "  </tr>\n",
      "  <tr>\n",
      "    <th>PROFUNDIDAD DEL ASIENTO</th>\n",
      "    <td>16.14\"</td>\n",
      "  </tr>\n",
      "</table>\n"
     ]
    }
   ],
   "source": [
    "respuesta = get_completion(prompt)\n",
    "print(respuesta)"
   ]
  },
  {
   "cell_type": "code",
   "execution_count": 118,
   "metadata": {},
   "outputs": [],
   "source": [
    "from IPython.display import display, HTML"
   ]
  },
  {
   "cell_type": "code",
   "execution_count": 122,
   "metadata": {},
   "outputs": [
    {
     "data": {
      "text/html": [
       "<div>\n",
       "La silla de oficina de estilo mediados de siglo es una adición elegante y funcional a cualquier espacio de trabajo. Con opciones de color y acabado de la base, así como tapicería de tela o cuero, esta silla es adecuada para cualquier entorno. La construcción de aluminio y plástico con ajuste neumático de altura garantiza durabilidad y comodidad. Códigos de producto: SWC-100, SWC-110.\n",
       "</div>\n",
       "\n",
       "<table>\n",
       "  <caption>Dimensiones del producto</caption>\n",
       "  <tr>\n",
       "    <th>ANCHO</th>\n",
       "    <td>20.87\"</td>\n",
       "  </tr>\n",
       "  <tr>\n",
       "    <th>PROFUNDIDAD</th>\n",
       "    <td>20.08\"</td>\n",
       "  </tr>\n",
       "  <tr>\n",
       "    <th>ALTURA</th>\n",
       "    <td>31.50\"</td>\n",
       "  </tr>\n",
       "  <tr>\n",
       "    <th>ALTURA DEL ASIENTO</th>\n",
       "    <td>17.32\"</td>\n",
       "  </tr>\n",
       "  <tr>\n",
       "    <th>PROFUNDIDAD DEL ASIENTO</th>\n",
       "    <td>16.14\"</td>\n",
       "  </tr>\n",
       "</table>"
      ],
      "text/plain": [
       "<IPython.core.display.HTML object>"
      ]
     },
     "metadata": {},
     "output_type": "display_data"
    }
   ],
   "source": [
    "display(HTML(respuesta))"
   ]
  },
  {
   "attachments": {},
   "cell_type": "markdown",
   "metadata": {},
   "source": [
    "### Resumir texto"
   ]
  },
  {
   "cell_type": "code",
   "execution_count": 123,
   "metadata": {},
   "outputs": [],
   "source": [
    "texto = f\"\"\"\n",
    "La cámara es muy buena. Es importante tener un computador o dispositivos con \n",
    "resolución 4k o mayor si se quiere poder visualizar el contenido de mayor \n",
    "resolución que puede ofrecer la cámara. Comprar algunos accesorios \n",
    "según el uso que tengan para la cámara también es indispensable.\n",
    "\"\"\""
   ]
  },
  {
   "cell_type": "code",
   "execution_count": 124,
   "metadata": {},
   "outputs": [],
   "source": [
    "prompt = f\"\"\"\n",
    "Su tarea es crear un resumen corto sobre la opinión de un producto de \n",
    "una plataforma de ecommerce.\n",
    "\n",
    "Resuma la opinión dejada a continuación entre triple guiones en menos de 30\n",
    "palabras.\n",
    "---{texto}---\n",
    "\"\"\""
   ]
  },
  {
   "cell_type": "code",
   "execution_count": 126,
   "metadata": {},
   "outputs": [
    {
     "name": "stdout",
     "output_type": "stream",
     "text": [
      "Buena cámara, requiere resolución 4k o superior y accesorios adicionales.\n"
     ]
    }
   ],
   "source": [
    "respuesta = get_completion(prompt)\n",
    "print(respuesta)"
   ]
  },
  {
   "cell_type": "code",
   "execution_count": 127,
   "metadata": {},
   "outputs": [],
   "source": [
    "texto = f\"\"\"\n",
    "Compré este peluche de panda para el cumpleaños de mi hija,\n",
    "a quien le encanta y lo lleva a todas partes. Es suave y\n",
    "súper lindo, y su cara tiene una expresión amigable. Sin embargo,\n",
    "es un poco pequeño para lo que pagué. Creo que podría haber\n",
    "otras opciones más grandes por el mismo precio. Llegó un día\n",
    "antes de lo esperado, así que pude jugar con él yo misma antes\n",
    "de dárselo a ella.\n",
    "\"\"\""
   ]
  },
  {
   "cell_type": "code",
   "execution_count": 130,
   "metadata": {},
   "outputs": [],
   "source": [
    "prompt = f\"\"\"\n",
    "Su tarea es crear un resumen corto sobre la opinión de un producto de \n",
    "una plataforma de ecommerce.\n",
    "\n",
    "Resuma la opinión dejada a continuación entre triple guiones en menos de 30\n",
    "palabras.\n",
    "---{texto}---\n",
    "\"\"\""
   ]
  },
  {
   "cell_type": "code",
   "execution_count": 134,
   "metadata": {},
   "outputs": [
    {
     "name": "stdout",
     "output_type": "stream",
     "text": [
      "El peluche de panda es suave y lindo, pero un poco pequeño para el precio. Llegó un día antes de lo esperado.\n"
     ]
    }
   ],
   "source": [
    "respuesta = get_completion(prompt)\n",
    "print(respuesta)"
   ]
  },
  {
   "cell_type": "code",
   "execution_count": 137,
   "metadata": {},
   "outputs": [],
   "source": [
    "prompt = f\"\"\"\n",
    "Su tarea es crear un resumen corto sobre la opinión de un producto de \n",
    "una plataforma de ecommerce.\n",
    "\n",
    "Resume la reseña a continuación, delimitada por triple guiones, \n",
    "en un máximo de 30 palabras. Enfocate en describir los atributos del producto\n",
    "---{texto}---\n",
    "\"\"\""
   ]
  },
  {
   "cell_type": "code",
   "execution_count": 138,
   "metadata": {},
   "outputs": [
    {
     "name": "stdout",
     "output_type": "stream",
     "text": [
      "Peluche de panda suave y lindo con expresión amigable. Un poco pequeño para el precio, pero llegó antes de lo esperado.\n"
     ]
    }
   ],
   "source": [
    "respuesta = get_completion(prompt)\n",
    "print(respuesta)"
   ]
  },
  {
   "cell_type": "code",
   "execution_count": 142,
   "metadata": {},
   "outputs": [],
   "source": [
    "prompt = f\"\"\"\n",
    "Su tarea es crear un resumen corto sobre la opinión de un producto de \n",
    "una plataforma de ecommerce para darle retroalimentación al departamento de \n",
    "pricing del producto.\n",
    "\n",
    "opinión del producto: ---{texto}---\n",
    "\"\"\""
   ]
  },
  {
   "cell_type": "code",
   "execution_count": 143,
   "metadata": {},
   "outputs": [
    {
     "name": "stdout",
     "output_type": "stream",
     "text": [
      "Resumen: El peluche de panda es suave y lindo, pero un poco pequeño para el precio pagado. Se sugiere buscar opciones más grandes por el mismo precio. La entrega fue rápida.\n"
     ]
    }
   ],
   "source": [
    "respuesta = get_completion(prompt)\n",
    "print(respuesta)"
   ]
  },
  {
   "cell_type": "code",
   "execution_count": 144,
   "metadata": {},
   "outputs": [],
   "source": [
    "# reseña panda de peluche\n",
    "review_1 = f\"\"\"\n",
    "Compré este peluche de panda para el cumpleaños de mi hija,\n",
    "a quien le encanta y lo lleva a todas partes. Es suave y\n",
    "súper lindo, y su cara tiene una expresión amigable. Sin embargo,\n",
    "es un poco pequeño para lo que pagué. Creo que podría haber\n",
    "otras opciones más grandes por el mismo precio. Llegó un día\n",
    "antes de lo esperado, así que pude jugar con él yo misma antes\n",
    "de dárselo a ella.\n",
    "\"\"\"\n",
    "\n",
    "# reseña para una lámpara \n",
    "review_2 = \"\"\"\n",
    "Necesitaba una bonita lámpara para mi habitación, y esta\n",
    "tenía muy buen tamaño y un precio no demasiado alto.\n",
    "La recibí rápidamente, llegó en 2 días. La cuerda de la lámpara\n",
    "se rompió durante el transporte y la empresa amablemente envió\n",
    "una nueva. Llegó en unos pocos días también. Fue fácil de armar.\n",
    "Luego tuve una pieza faltante, así que contacté su soporte y\n",
    "me enviaron rápidamente la pieza faltante. Me parece una gran\n",
    "empresa que se preocupa por sus clientes y productos.\n",
    "\"\"\"\n",
    "\n",
    "# reseña para un cepillo de dientes eléctrico\n",
    "review_3 = \"\"\"\n",
    "Mi odontologo me recomendó un cepillo de dientes eléctrico,\n",
    "por eso compré este. La duración de la batería parece ser\n",
    "bastante impresionante hasta ahora. Después de la carga inicial\n",
    "y dejar el cargador enchufado durante la primera semana para\n",
    "acondicionar la batería, lo he desconectado y lo he estado\n",
    "usando dos veces al día durante las últimas 3 semanas con la\n",
    "misma carga. Pero el cabezal del cepillo es demasiado pequeño.\n",
    "He visto cepillos de dientes para bebés más grandes que este.\n",
    "Ojalá el cabezal fuera más grande con cerdas de diferentes\n",
    "longitudes para llegar mejor entre los dientes porque este no\n",
    "lo hace. En general, si puedes conseguir este por alrededor\n",
    "de $50, es una buena oferta. Los cabezales de repuesto del\n",
    "fabricante son bastante caros, pero puedes encontrar genéricos\n",
    "a un precio más razonable. ¡Este cepillo de dientes hace que\n",
    "sienta como si hubiera ido al dentista todos los días! ¡Mis\n",
    "dientes se sienten limpios y brillantes!\n",
    "\"\"\"\n",
    "\n",
    "# Reseña de una licuadora\n",
    "review_4 = \"\"\"\n",
    "Entonces, todavía tenían el sistema de 17 piezas en oferta\n",
    "estacional por alrededor de $49 en el mes de noviembre,\n",
    "casi a la mitad de precio, pero por alguna razón, alrededor de la segunda semana\n",
    "de diciembre los precios subieron a alrededor de $70-$89\n",
    "para el mismo sistema. Y el sistema de 11 piezas también\n",
    "subió alrededor de $10 desde el precio de venta anterior de\n",
    "$29. Parece bien, pero si miras la base, la parte donde la\n",
    "cuchilla se ajusta no se ve tan bien como en ediciones\n",
    "anteriores de hace unos años, pero planeo ser muy cuidadoso\n",
    "con ella (por ejemplo, trituro alimentos duros como frijoles,\n",
    "hielo, arroz, etc., en la licuadora primero y luego los\n",
    "pulverizo en la cantidad de porción que quiero en la\n",
    "licuadora, luego cambio a la cuchilla para batir para obtener\n",
    "una harina más fina, y uso la cuchilla de corte cruzado\n",
    "primero al hacer batidos, luego uso la cuchilla plana si\n",
    "necesito que sean más finos/menos pulposos). Un consejo\n",
    "especial al hacer batidos, corta finamente y congela las\n",
    "frutas y verduras (si usas espinacas, ablanda ligeramente\n",
    "las espinacas al vapor y luego congélalas hasta que estén\n",
    "listas para usar, y si haces sorbete, usa un procesador de\n",
    "alimentos pequeño o mediano) que planeas usar, de esta\n",
    "manera puedes evitar agregar tanto hielo, si es que lo\n",
    "agregas, al hacer tu batido. Después de aproximadamente\n",
    "un año, el motor comenzó a hacer un ruido extraño.\n",
    "Llamé al servicio al cliente, pero la garantía ya había\n",
    "caducado, así que tuve que comprar otra. Solo para que\n",
    "sepas: la calidad general ha disminuido en este tipo de\n",
    "productos, por lo que están contando con el reconocimiento\n",
    "de la marca y la lealtad del consumidor para mantener las\n",
    "ventas. La recibí en unos dos días.\n",
    "\"\"\"\n",
    "\n",
    "reviews = [review_1, review_2, review_3, review_4]"
   ]
  },
  {
   "cell_type": "code",
   "execution_count": 145,
   "metadata": {},
   "outputs": [
    {
     "name": "stdout",
     "output_type": "stream",
     "text": [
      "0 Peluche de panda suave y lindo, pero un poco pequeño para el precio. Llegó antes de lo esperado. \n",
      "\n",
      "1 \"Bonita lámpara, buen tamaño y precio. Envío rápido y excelente servicio al cliente.\" \n",
      "\n",
      "2 \"Duración de batería impresionante, pero cabezal demasiado pequeño. Buen precio, pero cabezales de repuesto caros.\" \n",
      "\n",
      "3 El precio del sistema de 17 piezas aumentó de $49 a $70-$89 en diciembre. La calidad ha disminuido, pero funciona bien con cuidado. \n",
      "\n"
     ]
    }
   ],
   "source": [
    "for i in range(len(reviews)):\n",
    "    prompt = f\"\"\"\n",
    "    Tu tarea es generar un resumen breve de una reseña de un producto \n",
    "    de un sitio de comercio electrónico. \n",
    "\n",
    "    Resume la reseña a continuación, delimitada por triple comilla invertida, \n",
    "    en un máximo de 20 palabras.\n",
    "\n",
    "    Reseña: ```{reviews[i]}```\n",
    "    \"\"\"\n",
    "\n",
    "    respuesta = get_completion(prompt)\n",
    "    print(i, respuesta, \"\\n\")"
   ]
  },
  {
   "attachments": {},
   "cell_type": "markdown",
   "metadata": {},
   "source": [
    "### Analizar texto"
   ]
  },
  {
   "attachments": {},
   "cell_type": "markdown",
   "metadata": {},
   "source": [
    "1. Identificar los sentimientos de un texto."
   ]
  },
  {
   "cell_type": "code",
   "execution_count": 146,
   "metadata": {},
   "outputs": [],
   "source": [
    "prompt = f\"\"\"\n",
    "¿Cuál es el sentimiento de la siguiente reseña? Esta está delimitada\n",
    "por triple comilla invertida.\n",
    "\n",
    "texto de la reseña: ```{review_2}```\n",
    "\"\"\""
   ]
  },
  {
   "cell_type": "code",
   "execution_count": 147,
   "metadata": {},
   "outputs": [
    {
     "name": "stdout",
     "output_type": "stream",
     "text": [
      "El sentimiento de la reseña es positivo y satisfecho con la empresa y el producto.\n"
     ]
    }
   ],
   "source": [
    "respuesta = get_completion(prompt)\n",
    "print(respuesta)"
   ]
  },
  {
   "cell_type": "code",
   "execution_count": 148,
   "metadata": {},
   "outputs": [],
   "source": [
    "prompt = f\"\"\"\n",
    "¿Cuál es el sentimiento de la siguiente reseña? Esta está delimitada\n",
    "por triple comilla invertida. Evalue el sentimiento de -1 a 1 en donde 1 es lo\n",
    "más positivo y -1 lo más negativo.\n",
    "\n",
    "texto de la reseña: ```{review_2}```\n",
    "\"\"\""
   ]
  },
  {
   "cell_type": "code",
   "execution_count": 149,
   "metadata": {},
   "outputs": [
    {
     "name": "stdout",
     "output_type": "stream",
     "text": [
      "Sentimiento: 0.8 (positivo)\n"
     ]
    }
   ],
   "source": [
    "respuesta = get_completion(prompt)\n",
    "print(respuesta)"
   ]
  },
  {
   "attachments": {},
   "cell_type": "markdown",
   "metadata": {},
   "source": [
    "2. Identificar el tipo de emociones."
   ]
  },
  {
   "cell_type": "code",
   "execution_count": 150,
   "metadata": {},
   "outputs": [],
   "source": [
    "prompt = f\"\"\"\n",
    "Identifique una lista de emociones en la reseña delimitada\n",
    "por triple comilla invertida. \n",
    "\n",
    "texto de la reseña: ```{review_2}```\n",
    "\"\"\""
   ]
  },
  {
   "cell_type": "code",
   "execution_count": 151,
   "metadata": {},
   "outputs": [
    {
     "name": "stdout",
     "output_type": "stream",
     "text": [
      "- Necesidad\n",
      "- Felicidad\n",
      "- Agradecimiento\n",
      "- Sorpresa\n",
      "- Confianza\n",
      "- Admiración\n"
     ]
    }
   ],
   "source": [
    "respuesta = get_completion(prompt)\n",
    "print(respuesta)"
   ]
  },
  {
   "cell_type": "code",
   "execution_count": 152,
   "metadata": {},
   "outputs": [],
   "source": [
    "prompt = f\"\"\"\n",
    "¿La siguiente reseña está expresando enojo? La reseña está delimitada por \n",
    "triple comilla invertida. Responde con sí o no.\n",
    "\n",
    "texto de la reseña: ```{review_2}```\n",
    "\"\"\""
   ]
  },
  {
   "cell_type": "code",
   "execution_count": 153,
   "metadata": {},
   "outputs": [
    {
     "name": "stdout",
     "output_type": "stream",
     "text": [
      "No.\n"
     ]
    }
   ],
   "source": [
    "respuesta = get_completion(prompt)\n",
    "print(respuesta)"
   ]
  },
  {
   "attachments": {},
   "cell_type": "markdown",
   "metadata": {},
   "source": [
    "3. Extraer información."
   ]
  },
  {
   "cell_type": "code",
   "execution_count": 154,
   "metadata": {},
   "outputs": [],
   "source": [
    "prompt = f\"\"\"\n",
    "Identifica los siguientes elementos del texto de la reseña:\n",
    "- Producto comprado por el revisor\n",
    "- Empresa que fabricó el producto\n",
    "\n",
    "La reseña está delimitada por triple comilla invertida.\n",
    "Formatea tu respuesta como un objeto JSON con \"Item\" y \"Brand\" como las claves.\n",
    "Si la información no está presente, utiliza \"unknown\" como valor.\n",
    "Haz tu respuesta lo más breve posible.\n",
    "\n",
    "texto de la reseña: ```{review_2}```\n",
    "\"\"\""
   ]
  },
  {
   "cell_type": "code",
   "execution_count": 155,
   "metadata": {},
   "outputs": [
    {
     "name": "stdout",
     "output_type": "stream",
     "text": [
      "{\n",
      "  \"Item\": \"lámpara\",\n",
      "  \"Brand\": \"unknown\"\n",
      "}\n"
     ]
    }
   ],
   "source": [
    "respuesta = get_completion(prompt)\n",
    "print(respuesta)"
   ]
  },
  {
   "attachments": {},
   "cell_type": "markdown",
   "metadata": {},
   "source": [
    "4. Hacer todo en un solo prompt."
   ]
  },
  {
   "cell_type": "code",
   "execution_count": 156,
   "metadata": {},
   "outputs": [],
   "source": [
    "prompt = f\"\"\"\n",
    "Identifica los siguientes elementos del texto de la reseña:\n",
    "\n",
    "- Sentimiento (positivo o negativo)\n",
    "- ¿El revisor expresa enojo? (verdadero o falso)\n",
    "- Producto comprado por el revisor\n",
    "- Empresa que fabricó el producto\n",
    "\n",
    "La reseña está delimitada por triple comilla invertida.\n",
    "\n",
    "Formatea tu respuesta como un objeto JSON con \"Sentiment\", \"Anger\", \"Item\" y\n",
    "\"Brand\" como las claves.\n",
    "\n",
    "Si la información no está presente, utiliza \"unknown\" como valor.\n",
    "\n",
    "Haz tu respuesta lo más breve posible.\n",
    "\n",
    "Formatea el valor de Anger como un booleano.\n",
    "\n",
    "texto de la reseña: ```{review_2}```\n",
    "\"\"\""
   ]
  },
  {
   "cell_type": "code",
   "execution_count": 157,
   "metadata": {},
   "outputs": [
    {
     "name": "stdout",
     "output_type": "stream",
     "text": [
      "{\n",
      "  \"Sentiment\": \"positivo\",\n",
      "  \"Anger\": false,\n",
      "  \"Item\": \"lámpara\",\n",
      "  \"Brand\": \"unknown\"\n",
      "}\n"
     ]
    }
   ],
   "source": [
    "respuesta = get_completion(prompt)\n",
    "print(respuesta)"
   ]
  },
  {
   "attachments": {},
   "cell_type": "markdown",
   "metadata": {},
   "source": [
    "5. Detección de tópicos."
   ]
  },
  {
   "cell_type": "code",
   "execution_count": 158,
   "metadata": {},
   "outputs": [],
   "source": [
    "historia = f\"\"\"\n",
    "En una encuesta reciente realizada por el gobierno, se les pidió a los empleados \n",
    "del sector público que calificaran su nivel de satisfacción con el departamento \n",
    "en el que trabajan. Los resultados revelaron que la NASA fue el departamento \n",
    "más popular, con una calificación de satisfacción del 95%.\n",
    "\n",
    "Un empleado de la NASA, John Smith, comentó sobre los resultados, diciendo: \n",
    "\"No me sorprende que la NASA haya salido en primer lugar. Es un excelente \n",
    "lugar para trabajar con personas increíbles y oportunidades increíbles. \n",
    "Estoy orgulloso de ser parte de una organización tan innovadora\".\n",
    "\n",
    "Los resultados también fueron bien recibidos por el equipo directivo de \n",
    "la NASA, con el director Tom Johnson declarando: \"Estamos encantados de \n",
    "saber que nuestros empleados están satisfechos con su trabajo en la \n",
    "NASA. Tenemos un equipo talentoso y dedicado que trabaja incansablemente\n",
    "para lograr nuestros objetivos, y es fantástico ver que su arduo\n",
    "trabajo está dando resultados\".\n",
    "\n",
    "La encuesta también reveló que la Administración del Seguro Social \n",
    "tenía la calificación de satisfacción más baja, con solo el 45% de los \n",
    "empleados indicando que estaban satisfechos con su trabajo. El gobierno \n",
    "se ha comprometido a abordar las preocupaciones planteadas por los empleados \n",
    "en la encuesta y trabajar para mejorar la satisfacción laboral en todos \n",
    "los departamentos.\n",
    "\"\"\""
   ]
  },
  {
   "cell_type": "code",
   "execution_count": 164,
   "metadata": {},
   "outputs": [],
   "source": [
    "prompt = f\"\"\"\n",
    "Determina cinco temas que se están discutiendo en el\n",
    "siguiente texto, que está delimitado por triple comilla simple.\n",
    "\n",
    "Cada elemento debe tener una o dos palabras.\n",
    "\n",
    "Formatea tu respuesta como una lista de elementos separados por comas.\n",
    "\n",
    "Texto de ejemplo: '''{historia}'''\n",
    "\"\"\""
   ]
  },
  {
   "cell_type": "code",
   "execution_count": 165,
   "metadata": {},
   "outputs": [
    {
     "data": {
      "text/plain": [
       "'Encuesta de satisfacción, Departamentos gubernamentales, NASA, Administración del Seguro Social, Mejora de la satisfacción laboral.'"
      ]
     },
     "execution_count": 165,
     "metadata": {},
     "output_type": "execute_result"
    }
   ],
   "source": [
    "respuesta = get_completion(prompt)\n",
    "respuesta"
   ]
  },
  {
   "cell_type": "code",
   "execution_count": 166,
   "metadata": {},
   "outputs": [
    {
     "data": {
      "text/plain": [
       "['Encuesta de satisfacción',\n",
       " ' Departamentos gubernamentales',\n",
       " ' NASA',\n",
       " ' Administración del Seguro Social',\n",
       " ' Mejora de la satisfacción laboral.']"
      ]
     },
     "execution_count": 166,
     "metadata": {},
     "output_type": "execute_result"
    }
   ],
   "source": [
    "respuesta.split(sep = ',')"
   ]
  },
  {
   "cell_type": "code",
   "execution_count": 167,
   "metadata": {},
   "outputs": [],
   "source": [
    "lista_topicos = [\"nasa\", \"Cambio climático\", \"salud mental\", \n",
    "                 \"satisfacción de los empleados\"]\n",
    "\n",
    "prompt = f\"\"\"\n",
    "Determine si cada elemento de la siguiente lista de temas\n",
    "es un tema en el texto a continuación, que está delimitado\n",
    "por triple comilla simple.\n",
    "\n",
    "Da tu respuesta como una lista con 0 o 1 para cada tema.\n",
    "\n",
    "Lista de temas: {\", \".join(lista_topicos)}\n",
    "\n",
    "Texto de ejemplo: '''{historia}'''\n",
    "\"\"\""
   ]
  },
  {
   "cell_type": "code",
   "execution_count": 168,
   "metadata": {},
   "outputs": [
    {
     "data": {
      "text/plain": [
       "'nasa: 1\\nCambio climático: 0\\nsalud mental: 0\\nsatisfacción de los empleados: 1'"
      ]
     },
     "execution_count": 168,
     "metadata": {},
     "output_type": "execute_result"
    }
   ],
   "source": [
    "respuesta = get_completion(prompt)\n",
    "respuesta"
   ]
  },
  {
   "cell_type": "code",
   "execution_count": 171,
   "metadata": {},
   "outputs": [
    {
     "data": {
      "text/plain": [
       "{'nasa': 1,\n",
       " 'Cambio climático': 0,\n",
       " 'salud mental': 0,\n",
       " 'satisfacción de los empleados': 1}"
      ]
     },
     "execution_count": 171,
     "metadata": {},
     "output_type": "execute_result"
    }
   ],
   "source": [
    "lista_topicos2 = {i.split(': ')[0]: int(i.split(': ')[1]) for i in respuesta.split(sep='\\n')}\n",
    "lista_topicos2"
   ]
  },
  {
   "cell_type": "code",
   "execution_count": 172,
   "metadata": {},
   "outputs": [
    {
     "name": "stdout",
     "output_type": "stream",
     "text": [
      "ALERTA: Nueva historia sobre la NASA!\n"
     ]
    }
   ],
   "source": [
    "# Creemos una alerta de tópicos\n",
    "if lista_topicos2['nasa'] == 1:\n",
    "    print(\"ALERTA: Nueva historia sobre la NASA!\")"
   ]
  },
  {
   "attachments": {},
   "cell_type": "markdown",
   "metadata": {},
   "source": [
    "### Transformar textos"
   ]
  },
  {
   "attachments": {},
   "cell_type": "markdown",
   "metadata": {},
   "source": [
    "1. Traducir entre lenguajes de programación."
   ]
  },
  {
   "cell_type": "code",
   "execution_count": 188,
   "metadata": {},
   "outputs": [],
   "source": [
    "codigo_r = \"\"\"\n",
    "# Cargar el paquete ggplot2\n",
    "library(ggplot2)\n",
    "\n",
    "# Configurar la semilla aleatoria para reproducibilidad\n",
    "set.seed(123)\n",
    "\n",
    "# Generar una lista de 1000 elementos extraídos de una distribución normal estándar\n",
    "lista <- rnorm(1000)\n",
    "\n",
    "# Crear el histograma utilizando ggplot2\n",
    "ggplot(data.frame(x = lista), aes(x)) +\n",
    "  geom_histogram(fill = \"steelblue\", color = \"white\", bins = 30) +\n",
    "  labs(title = \"Histograma de una distribución normal estándar\",\n",
    "       x = \"Valores\",\n",
    "       y = \"Frecuencia\")\n",
    "\"\"\""
   ]
  },
  {
   "cell_type": "code",
   "execution_count": 189,
   "metadata": {},
   "outputs": [],
   "source": [
    "prompt = f\"\"\"\n",
    "Traduce el siguiente código de R, delimitado por triple comilla invertida, a \n",
    "Python. \n",
    "\n",
    "Siga los siguientes pasos:\n",
    "1. Evalué si el paquete utilizado en R existe en Python. De no ser así, busque\n",
    "un paquete sustituto.\n",
    "2. Dentro de las funciones y librerías de Python busque funciones sustitutas a \n",
    "las usadas en el código en R.\n",
    "3. Re escriba el código en R pero usando los comandos de Python.\n",
    "\n",
    "Código de R: ```{codigo_r}```\n",
    "\"\"\""
   ]
  },
  {
   "cell_type": "code",
   "execution_count": 190,
   "metadata": {},
   "outputs": [
    {
     "name": "stdout",
     "output_type": "stream",
     "text": [
      "Código de Python: \n",
      "```\n",
      "# Cargar el paquete matplotlib\n",
      "import matplotlib.pyplot as plt\n",
      "import numpy as np\n",
      "\n",
      "# Configurar la semilla aleatoria para reproducibilidad\n",
      "np.random.seed(123)\n",
      "\n",
      "# Generar una lista de 1000 elementos extraídos de una distribución normal estándar\n",
      "lista = np.random.normal(size=1000)\n",
      "\n",
      "# Crear el histograma utilizando matplotlib\n",
      "plt.hist(lista, bins=30, color=\"steelblue\", edgecolor=\"white\")\n",
      "plt.title(\"Histograma de una distribución normal estándar\")\n",
      "plt.xlabel(\"Valores\")\n",
      "plt.ylabel(\"Frecuencia\")\n",
      "plt.show()\n",
      "```\n"
     ]
    }
   ],
   "source": [
    "respuesta = get_completion(prompt)\n",
    "print(respuesta)"
   ]
  },
  {
   "cell_type": "code",
   "execution_count": 191,
   "metadata": {},
   "outputs": [
    {
     "data": {
      "image/png": "[encoded data removed]",
      "text/plain": [
       "<Figure size 640x480 with 1 Axes>"
      ]
     },
     "metadata": {},
     "output_type": "display_data"
    }
   ],
   "source": [
    "# Cargar el paquete matplotlib\n",
    "import matplotlib.pyplot as plt\n",
    "import numpy as np\n",
    "\n",
    "# Configurar la semilla aleatoria para reproducibilidad\n",
    "np.random.seed(123)\n",
    "\n",
    "# Generar una lista de 1000 elementos extraídos de una distribución normal estándar\n",
    "lista = np.random.normal(size=1000)\n",
    "\n",
    "# Crear el histograma utilizando matplotlib\n",
    "plt.hist(lista, bins=30, color=\"steelblue\", edgecolor=\"white\")\n",
    "plt.title(\"Histograma de una distribución normal estándar\")\n",
    "plt.xlabel(\"Valores\")\n",
    "plt.ylabel(\"Frecuencia\")\n",
    "plt.show()"
   ]
  },
  {
   "attachments": {},
   "cell_type": "markdown",
   "metadata": {},
   "source": [
    "2. Traducir textos difíciles, entendiendo el contexto."
   ]
  },
  {
   "cell_type": "code",
   "execution_count": 192,
   "metadata": {},
   "outputs": [
    {
     "name": "stdout",
     "output_type": "stream",
     "text": [
      "Hola, me gustaría ordenar una licuadora.\n"
     ]
    }
   ],
   "source": [
    "prompt = f\"\"\"\n",
    "Translate the following English text to Spanish: \\ \n",
    "```Hi, I would like to order a blender```\n",
    "\"\"\"\n",
    "respuesta = get_completion(prompt)\n",
    "print(respuesta)"
   ]
  },
  {
   "cell_type": "code",
   "execution_count": 193,
   "metadata": {},
   "outputs": [
    {
     "name": "stdout",
     "output_type": "stream",
     "text": [
      "This is French.\n"
     ]
    }
   ],
   "source": [
    "prompt = f\"\"\"\n",
    "Tell me which language this is: \n",
    "```Combien coûte le lampadaire?```\n",
    "\"\"\"\n",
    "respuesta = get_completion(prompt)\n",
    "print(respuesta)"
   ]
  },
  {
   "cell_type": "code",
   "execution_count": 195,
   "metadata": {},
   "outputs": [
    {
     "name": "stdout",
     "output_type": "stream",
     "text": [
      "French: Je veux commander un ballon de basket\n",
      "Spanish: Quiero ordenar un balón de baloncesto\n",
      "English: I want to order a basketball\n"
     ]
    }
   ],
   "source": [
    "prompt = f\"\"\"\n",
    "Translate the following  text to French and Spanish\n",
    "and English: \\\n",
    "```I want to order a basketball```\n",
    "\"\"\"\n",
    "respuesta = get_completion(prompt)\n",
    "print(respuesta)"
   ]
  },
  {
   "cell_type": "code",
   "execution_count": 196,
   "metadata": {},
   "outputs": [
    {
     "name": "stdout",
     "output_type": "stream",
     "text": [
      "Formal: ¿Le gustaría ordenar una almohada?\n",
      "Informal: ¿Te gustaría ordenar una almohada?\n"
     ]
    }
   ],
   "source": [
    "prompt = f\"\"\"\n",
    "Translate the following text to Spanish in both the \\\n",
    "formal and informal forms: \n",
    "'Would you like to order a pillow?'\n",
    "\"\"\"\n",
    "respuesta = get_completion(prompt)\n",
    "print(respuesta)"
   ]
  },
  {
   "cell_type": "code",
   "execution_count": 197,
   "metadata": {},
   "outputs": [],
   "source": [
    "prompt = f\"\"\"\n",
    "Traduzca al español el siguiente párrafo:\n",
    "\n",
    "'For the most wild, yet most homely narrative which I am about to pen, I neither \n",
    "expect nor solicit belief. Mad indeed would I be to expect it, in a case \n",
    "where my very senses reject their own evidence. Yet, mad am I not -- and very \n",
    "surely do I not dream. But to-morrow I die, and to-day I would unburthen my soul. \n",
    "My immediate purpose is to place before the world, plainly, succinctly, and \n",
    "without comment, a series of mere household events. In their consequences, \n",
    "these events have terrified -- have tortured -- have destroyed me. Yet I will \n",
    "not attempt to expound them. To me, they have presented little but Horror -- \n",
    "to many they will seem less terrible than barroques. Hereafter, perhaps, some \n",
    "intellect may be found which will reduce my phantasm to the common-place -- some \n",
    "intellect more calm, more logical, and far less excitable than my own, which \n",
    "will perceive, in the circumstances I detail with awe, nothing more than an \n",
    "ordinary succession of very natural causes and effects.'\n",
    "\"\"\""
   ]
  },
  {
   "cell_type": "code",
   "execution_count": 198,
   "metadata": {},
   "outputs": [
    {
     "name": "stdout",
     "output_type": "stream",
     "text": [
      "Para la narrativa más salvaje, pero más hogareña que estoy a punto de escribir, no espero ni solicito creencia. Sería loco esperarlo, en un caso en el que mis propios sentidos rechazan su propia evidencia. Sin embargo, no estoy loco, y ciertamente no estoy soñando. Pero mañana moriré, y hoy quiero desahogar mi alma. Mi propósito inmediato es presentar al mundo, de manera clara, sucinta y sin comentarios, una serie de eventos domésticos simples. En sus consecuencias, estos eventos me han aterrorizado, torturado y destruido. Sin embargo, no intentaré explicarlos. Para mí, han presentado poco más que horror, para muchos parecerán menos terribles que los barrocos. Quizás en el futuro se encuentre algún intelecto que reduzca mi fantasía a lo común, algún intelecto más tranquilo, más lógico y mucho menos excitado que el mío, que percibirá en las circunstancias que detallo con temor, nada más que una sucesión ordinaria de causas y efectos muy naturales.\n"
     ]
    }
   ],
   "source": [
    "respuesta = get_completion(prompt)\n",
    "print(respuesta)"
   ]
  },
  {
   "attachments": {},
   "cell_type": "markdown",
   "metadata": {},
   "source": [
    "3. Traductor universal\n",
    "Imagina que estás a cargo de TI en una gran empresa multinacional de comercio electrónico. Los usuarios le envían mensajes con problemas de TI en todos sus idiomas nativos. Su personal es de todo el mundo y solo habla sus idiomas nativos. ¡Necesitas un traductor universal!"
   ]
  },
  {
   "cell_type": "code",
   "execution_count": 199,
   "metadata": {},
   "outputs": [],
   "source": [
    "user_messages = [\n",
    "    # System performance is slower than normal  \n",
    "    \"La performance du système est plus lente que d'habitude.\",    \n",
    "    # My monitor has pixels that are not lighting     \n",
    "    \"Mi monitor tiene píxeles que no se iluminan.\",   \n",
    "    # My mouse is not working          \n",
    "    \"Il mio mouse non funziona\",                  \n",
    "    # My keyboard has a broken control key               \n",
    "    \"Mój klawisz Ctrl jest zepsuty\",    \n",
    "    # My screen is flashing                         \n",
    "    \"我的屏幕在闪烁\"                                               \n",
    "] "
   ]
  },
  {
   "cell_type": "code",
   "execution_count": 200,
   "metadata": {},
   "outputs": [
    {
     "name": "stdout",
     "output_type": "stream",
     "text": [
      "Original message (This is French.): La performance du système est plus lente que d'habitude.\n",
      "English: The system performance is slower than usual.\n",
      "Korean: 시스템 성능이 평소보다 느립니다. \n",
      "\n",
      "Original message (This is Spanish.): Mi monitor tiene píxeles que no se iluminan.\n",
      "English: My monitor has pixels that don't light up.\n",
      "Korean: 내 모니터에는 불이 켜지지 않는 픽셀이 있습니다. \n",
      "\n",
      "Original message (This is Italian.): Il mio mouse non funziona\n",
      "English: My mouse is not working.\n",
      "Korean: 내 마우스가 작동하지 않습니다. \n",
      "\n",
      "Original message (This is Polish.): Mój klawisz Ctrl jest zepsuty\n",
      "English: My Ctrl key is broken.\n",
      "Korean: 제 Ctrl 키가 고장 났어요. \n",
      "\n",
      "Original message (This is Chinese (Simplified).): 我的屏幕在闪烁\n",
      "English: My screen is flickering.\n",
      "Korean: 내 화면이 깜빡입니다. \n",
      "\n"
     ]
    }
   ],
   "source": [
    "for issue in user_messages:\n",
    "    prompt = f\"Tell me what language this is: ```{issue}```\"\n",
    "    lang = get_completion(prompt)\n",
    "    print(f\"Original message ({lang}): {issue}\")\n",
    "\n",
    "    prompt = f\"\"\"\n",
    "    Translate the following text to English \\\n",
    "    and Korean: ```{issue}```\n",
    "    \"\"\"\n",
    "    response = get_completion(prompt)\n",
    "    print(response, \"\\n\")"
   ]
  },
  {
   "attachments": {},
   "cell_type": "markdown",
   "metadata": {},
   "source": [
    "4. Cambiarle el tono a un mensaje."
   ]
  },
  {
   "cell_type": "code",
   "execution_count": 205,
   "metadata": {},
   "outputs": [],
   "source": [
    "prompt = f\"\"\"\n",
    "Translate the following from slang to a business letter: \n",
    "'Dude, This is Joe, check out this spec on this standing lamp.'\n",
    "\"\"\""
   ]
  },
  {
   "cell_type": "code",
   "execution_count": 206,
   "metadata": {},
   "outputs": [
    {
     "name": "stdout",
     "output_type": "stream",
     "text": [
      "Dear Sir/Madam,\n",
      "\n",
      "I am writing to bring to your attention a standing lamp that I believe may be of interest to you. Please find attached the specifications for your review.\n",
      "\n",
      "Thank you for your time and consideration.\n",
      "\n",
      "Sincerely,\n",
      "\n",
      "Joe\n"
     ]
    }
   ],
   "source": [
    "respuesta = get_completion(prompt)\n",
    "print(respuesta)"
   ]
  },
  {
   "attachments": {},
   "cell_type": "markdown",
   "metadata": {},
   "source": [
    "5. Conversión de formatos."
   ]
  },
  {
   "cell_type": "code",
   "execution_count": 209,
   "metadata": {},
   "outputs": [
    {
     "data": {
      "text/plain": [
       "{'resturant employees': [{'name': 'Shyam', 'email': 'shyamjaiswal@gmail.com'},\n",
       "  {'name': 'Bob', 'email': 'bob32@gmail.com'},\n",
       "  {'name': 'Jai', 'email': 'jai87@gmail.com'}]}"
      ]
     },
     "execution_count": 209,
     "metadata": {},
     "output_type": "execute_result"
    }
   ],
   "source": [
    "data_json = { \"resturant employees\" :[ \n",
    "    {\"name\":\"Shyam\", \"email\":\"shyamjaiswal@gmail.com\"},\n",
    "    {\"name\":\"Bob\", \"email\":\"bob32@gmail.com\"},\n",
    "    {\"name\":\"Jai\", \"email\":\"jai87@gmail.com\"}\n",
    "]}\n",
    "data_json"
   ]
  },
  {
   "cell_type": "code",
   "execution_count": null,
   "metadata": {},
   "outputs": [],
   "source": [
    "prompt = f\"\"\"\n",
    "Traduzca el siguiente diccionario de Python en formato JSON a una tabla\n",
    "HTML que tenga título y nombre de las columnas: {data_json}\n",
    "\"\"\""
   ]
  },
  {
   "cell_type": "code",
   "execution_count": 208,
   "metadata": {},
   "outputs": [
    {
     "name": "stdout",
     "output_type": "stream",
     "text": [
      "<table>\n",
      "  <caption>resturant employees</caption>\n",
      "  <thead>\n",
      "    <tr>\n",
      "      <th>name</th>\n",
      "      <th>email</th>\n",
      "    </tr>\n",
      "  </thead>\n",
      "  <tbody>\n",
      "    <tr>\n",
      "      <td>Shyam</td>\n",
      "      <td>shyamjaiswal@gmail.com</td>\n",
      "    </tr>\n",
      "    <tr>\n",
      "      <td>Bob</td>\n",
      "      <td>bob32@gmail.com</td>\n",
      "    </tr>\n",
      "    <tr>\n",
      "      <td>Jai</td>\n",
      "      <td>jai87@gmail.com</td>\n",
      "    </tr>\n",
      "  </tbody>\n",
      "</table>\n"
     ]
    }
   ],
   "source": [
    "respuesta = get_completion(prompt)\n",
    "print(respuesta)"
   ]
  },
  {
   "cell_type": "code",
   "execution_count": 210,
   "metadata": {},
   "outputs": [
    {
     "data": {
      "text/html": [
       "<table>\n",
       "  <caption>resturant employees</caption>\n",
       "  <thead>\n",
       "    <tr>\n",
       "      <th>name</th>\n",
       "      <th>email</th>\n",
       "    </tr>\n",
       "  </thead>\n",
       "  <tbody>\n",
       "    <tr>\n",
       "      <td>Shyam</td>\n",
       "      <td>shyamjaiswal@gmail.com</td>\n",
       "    </tr>\n",
       "    <tr>\n",
       "      <td>Bob</td>\n",
       "      <td>bob32@gmail.com</td>\n",
       "    </tr>\n",
       "    <tr>\n",
       "      <td>Jai</td>\n",
       "      <td>jai87@gmail.com</td>\n",
       "    </tr>\n",
       "  </tbody>\n",
       "</table>"
      ],
      "text/plain": [
       "<IPython.core.display.HTML object>"
      ]
     },
     "metadata": {},
     "output_type": "display_data"
    }
   ],
   "source": [
    "from IPython.display import display, Markdown, Latex, HTML, JSON\n",
    "display(HTML(respuesta))"
   ]
  },
  {
   "attachments": {},
   "cell_type": "markdown",
   "metadata": {},
   "source": [
    "6. Revisar ortografía y gramática."
   ]
  },
  {
   "cell_type": "code",
   "execution_count": 211,
   "metadata": {},
   "outputs": [],
   "source": [
    "text = [ \n",
    "    # The girl has a ball.  \n",
    "    \"The girl with the black and white puppies have a ball.\",  \n",
    "    # ok\n",
    "    \"Yolanda has her notebook.\", \n",
    "    # Homonyms\n",
    "    \"Its going to be a long day. Does the car need it’s oil changed?\", \n",
    "    # Homonyms \n",
    "    \"Their goes my freedom. There going to bring they’re suitcases.\",  \n",
    "    # Homonyms\n",
    "    \"Your going to need you’re notebook.\",  \n",
    "    # Homonyms\n",
    "    \"That medicine effects my ability to sleep. Have you heard of the butterfly affect?\", \n",
    "    # spelling\n",
    "    \"This phrase is to cherck chatGPT for speling abilitty\"  \n",
    "]"
   ]
  },
  {
   "cell_type": "code",
   "execution_count": 215,
   "metadata": {},
   "outputs": [
    {
     "name": "stdout",
     "output_type": "stream",
     "text": [
      "The girl with the black and white puppies has a ball.\n",
      "\n",
      "The verb \"has\" should be used instead of \"have\" because \"girl\" is a singular noun and requires a singular verb.\n",
      "----------\n",
      "The sentence is already correct. No correction is needed.\n",
      "----------\n",
      "\"It's going to be a long day. Does the car need its oil changed?\"\n",
      "\n",
      "Correction: The first word \"Its\" should be \"It's\" because it is a contraction of \"it is.\" The second sentence has a possessive pronoun \"its\" which is correctly used.\n",
      "----------\n",
      "There goes my freedom. They're going to bring their suitcases.\n",
      "\n",
      "Correction: \n",
      "1. \"Their\" should be replaced with \"There\" as it refers to a location.\n",
      "2. \"There\" should be replaced with \"They're\" as it is a contraction of \"They are\".\n",
      "3. \"They're\" should be used instead of \"There\" as it refers to the people who are bringing the suitcases.\n",
      "4. \"Their\" should be replaced with \"their\" as it is a possessive pronoun and should be written in lowercase.\n",
      "----------\n",
      "You're going to need your notebook.\n",
      "\n",
      "The original sentence is incorrect because \"your\" is a possessive pronoun indicating ownership, while \"you're\" is a contraction of \"you are.\" In this case, \"you're\" is the correct word to use to indicate that the person will need their own notebook.\n",
      "----------\n",
      "\"That medicine affects my ability to sleep. Have you heard of the butterfly effect?\" \n",
      "\n",
      "The word \"effects\" should be corrected to \"affects\" as it is the correct verb form to indicate influence or impact. Additionally, \"affect\" is a verb while \"effect\" is a noun. The second sentence is also incorrect as it should be \"butterfly effect\" instead of \"butterfly affect.\" The butterfly effect refers to the concept in chaos theory that small changes can have large effects.\n",
      "----------\n",
      "This phrase is to check ChatGPT for spelling ability.\n",
      "\n",
      "I corrected the spelling errors in the sentence. \"Cherck\" should be \"check\" and \"speling\" should be \"spelling.\"\n",
      "----------\n"
     ]
    }
   ],
   "source": [
    "for t in text:\n",
    "    prompt = f\"\"\"Read and correct the following sentence. Also explain\n",
    "    why do you correct it. \n",
    "    ```{t}```\"\"\"\n",
    "    response = get_completion(prompt)\n",
    "    print(response)\n",
    "    print(\"-\"*10)"
   ]
  },
  {
   "cell_type": "code",
   "execution_count": 216,
   "metadata": {},
   "outputs": [
    {
     "name": "stdout",
     "output_type": "stream",
     "text": [
      "I got this for my daughter's birthday because she keeps taking mine from my room. Yes, adults also like pandas too. She takes it everywhere with her, and it's super soft and cute. However, one of the ears is a bit lower than the other, and I don't think that was designed to be asymmetrical. Additionally, it's a bit small for what I paid for it. I think there might be other options that are bigger for the same price. On the positive side, it arrived a day earlier than expected, so I got to play with it myself before I gave it to my daughter.\n"
     ]
    }
   ],
   "source": [
    "text = f\"\"\"\n",
    "Got this for my daughter for her birthday cuz she keeps taking \\\n",
    "mine from my room.  Yes, adults also like pandas too.  She takes \\\n",
    "it everywhere with her, and it's super soft and cute.  One of the \\\n",
    "ears is a bit lower than the other, and I don't think that was \\\n",
    "designed to be asymmetrical. It's a bit small for what I paid for it \\\n",
    "though. I think there might be other options that are bigger for \\\n",
    "the same price.  It arrived a day earlier than expected, so I got \\\n",
    "to play with it myself before I gave it to my daughter.\n",
    "\"\"\"\n",
    "prompt = f\"proofread and correct this review: ```{text}```\"\n",
    "response = get_completion(prompt)\n",
    "print(response)"
   ]
  },
  {
   "cell_type": "code",
   "execution_count": 219,
   "metadata": {},
   "outputs": [],
   "source": [
    "# pip install redlines"
   ]
  },
  {
   "cell_type": "code",
   "execution_count": 220,
   "metadata": {},
   "outputs": [
    {
     "data": {
      "text/markdown": [
       "<span style=\"color:red;font-weight:700;text-decoration:line-through;\">Got </span><span style=\"color:red;font-weight:700;\">I got </span>this for my <span style=\"color:red;font-weight:700;text-decoration:line-through;\">daughter for her </span><span style=\"color:red;font-weight:700;\">daughter's </span>birthday <span style=\"color:red;font-weight:700;text-decoration:line-through;\">cuz </span><span style=\"color:red;font-weight:700;\">because </span>she keeps taking mine from my <span style=\"color:red;font-weight:700;text-decoration:line-through;\">room.  </span><span style=\"color:red;font-weight:700;\">room. </span>Yes, adults also like pandas <span style=\"color:red;font-weight:700;text-decoration:line-through;\">too.  </span><span style=\"color:red;font-weight:700;\">too. </span>She takes it everywhere with her, and it's super soft and <span style=\"color:red;font-weight:700;text-decoration:line-through;\">cute.  One </span><span style=\"color:red;font-weight:700;\">cute. However, one </span>of the ears is a bit lower than the other, and I don't think that was designed to be asymmetrical. <span style=\"color:red;font-weight:700;text-decoration:line-through;\">It's </span><span style=\"color:red;font-weight:700;\">Additionally, it's </span>a bit small for what I paid for <span style=\"color:red;font-weight:700;text-decoration:line-through;\">it though. </span><span style=\"color:red;font-weight:700;\">it. </span>I think there might be other options that are bigger for the same <span style=\"color:red;font-weight:700;text-decoration:line-through;\">price.  It </span><span style=\"color:red;font-weight:700;\">price. On the positive side, it </span>arrived a day earlier than expected, so I got to play with it myself before I gave it to my daughter."
      ],
      "text/plain": [
       "<IPython.core.display.Markdown object>"
      ]
     },
     "metadata": {},
     "output_type": "display_data"
    }
   ],
   "source": [
    "from redlines import Redlines\n",
    "\n",
    "diff = Redlines(text, response)\n",
    "display(Markdown(diff.output_markdown))"
   ]
  },
  {
   "cell_type": "code",
   "execution_count": 221,
   "metadata": {},
   "outputs": [
    {
     "data": {
      "text/markdown": [
       "Title: A Soft and Cute Panda Plushie for All Ages\n",
       "\n",
       "As an adult, I can attest that pandas are not just for kids. That's why I got this adorable panda plushie for my daughter's birthday, after she kept taking mine from my room. And let me tell you, it was a hit!\n",
       "\n",
       "The plushie is super soft and cuddly, making it the perfect companion for my daughter. She takes it everywhere with her, and it has quickly become her favorite toy. However, I did notice that one of the ears is a bit lower than the other, which I don't think was designed to be asymmetrical. But that doesn't take away from its cuteness.\n",
       "\n",
       "The only downside is that it's a bit small for the price I paid. I think there might be other options that are bigger for the same price. But overall, I'm happy with my purchase.\n",
       "\n",
       "One thing that surprised me was that it arrived a day earlier than expected. This gave me the chance to play with it myself before giving it to my daughter. And I have to say, I was impressed with the quality and attention to detail.\n",
       "\n",
       "In conclusion, if you're looking for a soft and cute panda plushie for yourself or a loved one, this is definitely a great option. Just be aware that it might be a bit smaller than expected."
      ],
      "text/plain": [
       "<IPython.core.display.Markdown object>"
      ]
     },
     "metadata": {},
     "output_type": "display_data"
    }
   ],
   "source": [
    "prompt = f\"\"\"\n",
    "proofread and correct this review. Make it more compelling. \n",
    "Ensure it follows APA style guide and targets an advanced reader. \n",
    "Output in markdown format.\n",
    "Text: ```{text}```\n",
    "\"\"\"\n",
    "response = get_completion(prompt)\n",
    "display(Markdown(response))"
   ]
  },
  {
   "attachments": {},
   "cell_type": "markdown",
   "metadata": {},
   "source": [
    "### Atención al cliente"
   ]
  },
  {
   "attachments": {},
   "cell_type": "markdown",
   "metadata": {},
   "source": [
    "1. Creemos un email personalizado para cada cliente."
   ]
  },
  {
   "cell_type": "code",
   "execution_count": 4,
   "metadata": {},
   "outputs": [],
   "source": [
    "# review de una licuadora.\n",
    "review = f\"\"\"\n",
    "Entonces, todavía tenían el sistema de 17 piezas en oferta de \n",
    "temporada por alrededor de $49 en el mes de noviembre, aproximadamente a \n",
    "mitad de precio, pero por alguna razón (llamémoslo aprovechamiento de precios) \n",
    "alrededor de la segunda semana de diciembre los precios subieron a alrededor \n",
    "de entre $70 y $89 por el mismo sistema. Y el sistema de 11 piezas también \n",
    "aumentó alrededor de $10 en comparación con el precio de venta anterior de $29. \n",
    "En general, parece estar bien, pero si observas la base, la parte donde la cuchilla\n",
    "se ajusta no se ve tan buena como en ediciones anteriores de hace unos años, \n",
    "pero planeo ser muy cuidadoso con ella (por ejemplo, aplasto alimentos \n",
    "muy duros como frijoles, hielo, arroz, etc. en la licuadora primero y luego los \n",
    "pulverizo en la cantidad de porción que deseo en la licuadora, luego cambio \n",
    "a la cuchilla batidora para obtener una harina más fina, y uso la cuchilla \n",
    "de corte cruzado primero al hacer batidos, luego uso la cuchilla plana \n",
    "si necesito que sean más finos/menos pulposos). Un consejo especial al hacer \n",
    "batidos es cortar finamente y congelar las frutas y verduras (si usas espinacas, \n",
    "cocínalas ligeramente para ablandarlas y luego congélalas hasta que estén \n",
    "listas para usar, y si haces sorbetes, usa un procesador de alimentos \n",
    "pequeño o mediano) que planeas usar de esa manera puedes evitar agregar \n",
    "tanta cantidad de hielo, si es que lo usas, al hacer tu batido. Después de \n",
    "aproximadamente un año, el motor empezó a hacer un ruido extraño. Llamé al \n",
    "servicio al cliente, pero la garantía ya había expirado, así que tuve que \n",
    "comprar otro. Para tu información: la calidad general ha disminuido en \n",
    "este tipo de productos, por lo que más bien confían en el reconocimiento \n",
    "de marca y la lealtad de los consumidores para mantener las ventas. \n",
    "Lo recibí en aproximadamente dos días.\n",
    "\"\"\""
   ]
  },
  {
   "cell_type": "code",
   "execution_count": 5,
   "metadata": {},
   "outputs": [],
   "source": [
    "# Tarea! Usar lo aprendido para determinar el sentimiento del email\n",
    "sentimiento = \"negativo\"\n",
    "\n",
    "prompt = f\"\"\"\n",
    "Eres un asistente de IA de servicio al cliente.\n",
    "Tu tarea es enviar una respuesta por correo electrónico a un cliente valioso.\n",
    "Dado el correo electrónico del cliente delimitado por ```, genera una \n",
    "respuesta para agradecer al cliente por su reseña. Si el sentimiento es positivo \n",
    "o neutral, agradéceles por su reseña. Si el sentimiento es negativo, discúlpate y \n",
    "sugiere que se comuniquen con el servicio al cliente. Asegúrate de utilizar \n",
    "detalles específicos de la reseña. Escribe en un tono conciso y profesional. \n",
    "Firma el correo electrónico como 'Agente de servicio al cliente de IA'. \n",
    "Reseña del cliente: ```{review}```\n",
    "Sentimiento de la reseña: ```{sentimiento}```\n",
    "\"\"\""
   ]
  },
  {
   "cell_type": "code",
   "execution_count": 6,
   "metadata": {},
   "outputs": [],
   "source": [
    "respuesta = get_completion(prompt)"
   ]
  },
  {
   "cell_type": "code",
   "execution_count": 9,
   "metadata": {},
   "outputs": [
    {
     "name": "stdout",
     "output_type": "stream",
     "text": [
      "Estimado/a [nombre del cliente],\n",
      "\n",
      "Gracias por tomarse el tiempo de escribir una reseña sobre su experiencia con nuestro sistema de 17 piezas. Lamentamos mucho que haya tenido una experiencia negativa con nuestro producto y nos disculpamos por cualquier inconveniente que esto haya causado.\n",
      "\n",
      "Nos tomamos muy en serio la calidad de nuestros productos y nos gustaría investigar más a fondo el problema que experimentó con el motor. Le recomendamos que se comunique con nuestro servicio al cliente para que podamos ayudarlo a resolver cualquier problema que tenga con su producto.\n",
      "\n",
      "Agradecemos sus consejos sobre cómo usar el sistema de manera más efectiva y apreciamos su lealtad a nuestra marca. Esperamos tener la oportunidad de servirle mejor en el futuro.\n",
      "\n",
      "Atentamente,\n",
      "Agente de servicio al cliente de IA\n"
     ]
    }
   ],
   "source": [
    "print(respuesta)"
   ]
  },
  {
   "cell_type": "code",
   "execution_count": 12,
   "metadata": {},
   "outputs": [],
   "source": [
    "respuesta = get_completion(prompt, temperature = 0.7)"
   ]
  },
  {
   "cell_type": "code",
   "execution_count": 13,
   "metadata": {},
   "outputs": [
    {
     "name": "stdout",
     "output_type": "stream",
     "text": [
      "Estimado(a) cliente valioso(a),\n",
      "\n",
      "Gracias por tomarse el tiempo de escribir una reseña sobre su experiencia con nuestro producto. Lamentamos mucho que su experiencia no haya sido satisfactoria y que haya experimentado problemas con el motor.\n",
      "\n",
      "Nos disculpamos sinceramente por cualquier inconveniente que esto le haya causado. Por favor, tenga en cuenta que su satisfacción es nuestra máxima prioridad y nos gustaría tener la oportunidad de hacerlo bien.\n",
      "\n",
      "Le recomendamos que se comunique con nuestro servicio al cliente para que podamos abordar cualquier problema que tenga con el motor. Nos aseguraremos de que se tomen las medidas necesarias para garantizar que esto no vuelva a suceder.\n",
      "\n",
      "Agradecemos su lealtad y esperamos poder seguir siendo su elección para futuras compras. Si tiene alguna otra pregunta o inquietud, no dude en ponerse en contacto con nosotros.\n",
      "\n",
      "Atentamente,\n",
      "\n",
      "Agente de servicio al cliente de IA\n"
     ]
    }
   ],
   "source": [
    "print(respuesta)"
   ]
  },
  {
   "attachments": {},
   "cell_type": "markdown",
   "metadata": {},
   "source": [
    "### Chatbot"
   ]
  },
  {
   "cell_type": "code",
   "execution_count": 14,
   "metadata": {},
   "outputs": [],
   "source": [
    "def get_completion_from_messages(messages, model = \"gpt-3.5-turbo\", temperature = 0):\n",
    "    response = openai.ChatCompletion.create(\n",
    "        model = model,\n",
    "        messages = messages,\n",
    "        # this is the degree of randomness of the model's output\n",
    "        temperature = temperature, \n",
    "    )\n",
    "    return response.choices[0].message[\"content\"]"
   ]
  },
  {
   "cell_type": "code",
   "execution_count": 15,
   "metadata": {},
   "outputs": [],
   "source": [
    "messages =  [  \n",
    "{'role': 'system', 'content': 'Eres un comediante'},    \n",
    "{'role': 'user', 'content': 'Cuentame un chiste'},   \n",
    "{'role': 'assistant', 'content': '¿Por qué la gallina cruzo la calle?'},   \n",
    "{'role': 'user', 'content': 'No lo sé'}  \n",
    "]"
   ]
  },
  {
   "cell_type": "code",
   "execution_count": 16,
   "metadata": {},
   "outputs": [
    {
     "name": "stdout",
     "output_type": "stream",
     "text": [
      "Para llegar al otro lado. ¡Es un clásico! ¿Quieres otro chiste?\n"
     ]
    }
   ],
   "source": [
    "respuesta = get_completion_from_messages(messages, temperature = 1)\n",
    "print(respuesta)"
   ]
  },
  {
   "cell_type": "code",
   "execution_count": 17,
   "metadata": {},
   "outputs": [
    {
     "name": "stdout",
     "output_type": "stream",
     "text": [
      "¡Hola Lucas! ¡Qué gusto conocerte! ¿En qué puedo ayudarte hoy?\n"
     ]
    }
   ],
   "source": [
    "messages =  [  \n",
    "{'role':'system', 'content': 'Eres un chatbot amistoso.'},    \n",
    "{'role': 'user', 'content': 'Hola! Me llamo Lucas'}]\n",
    "\n",
    "respuesta = get_completion_from_messages(messages, temperature = 1)\n",
    "print(respuesta)"
   ]
  },
  {
   "cell_type": "code",
   "execution_count": 18,
   "metadata": {},
   "outputs": [
    {
     "name": "stdout",
     "output_type": "stream",
     "text": [
      "Claro, me encantaría recordarte tu nombre. ¿Podrías decírmelo?\n"
     ]
    }
   ],
   "source": [
    "# Cada conversación con el Chatbot es independiente. No almacena la información\n",
    "messages =  [  \n",
    "{'role': 'system', 'content': 'Eres un chatbot amistoso.'},   \n",
    "{'role': 'user', 'content':'Podrías recordarme cómo me llamo'}]\n",
    "\n",
    "respuesta = get_completion_from_messages(messages, temperature = 1)\n",
    "print(respuesta)"
   ]
  },
  {
   "cell_type": "code",
   "execution_count": 19,
   "metadata": {},
   "outputs": [
    {
     "name": "stdout",
     "output_type": "stream",
     "text": [
      "Claro que sí, ¡tu nombre es Lucas!\n"
     ]
    }
   ],
   "source": [
    "# Para que el modelo recuerde cómo me llamo tendríamos que cambiar la estructura\n",
    "# del mensaje\n",
    "\n",
    "messages =  [  \n",
    "{'role':'system', 'content': 'Eres un chatbot amistoso.'},    \n",
    "{'role': 'user', 'content': 'Hola! Me llamo Lucas'},\n",
    "{'role': 'assistant', 'content': '¡Hola Lucas! ¡Qué gusto conocerte! ¿En qué puedo ayudarte hoy?'},\n",
    "{'role': 'user', 'content':'Podrías recordarme cómo me llamo'}\n",
    "]\n",
    "\n",
    "respuesta = get_completion_from_messages(messages, temperature = 1)\n",
    "print(respuesta)"
   ]
  },
  {
   "attachments": {},
   "cell_type": "markdown",
   "metadata": {},
   "source": [
    "## Referencias\n",
    "DeepLearning.AI ChatGPT Prompt Engineering for Developers (2023)"
   ]
  }
 ],
 "metadata": {
  "kernelspec": {
   "display_name": "base",
   "language": "python",
   "name": "python3"
  },
  "language_info": {
   "codemirror_mode": {
    "name": "ipython",
    "version": 3
   },
   "file_extension": ".py",
   "mimetype": "text/x-python",
   "name": "python",
   "nbconvert_exporter": "python",
   "pygments_lexer": "ipython3",
   "version": "3.9.13"
  },
  "orig_nbformat": 4
 },
 "nbformat": 4,
 "nbformat_minor": 2
}
