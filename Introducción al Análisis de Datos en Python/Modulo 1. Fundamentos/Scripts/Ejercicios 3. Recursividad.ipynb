{
 "cells": [
  {
   "cell_type": "markdown",
   "metadata": {},
   "source": [
    "# Ejercicios 3. Recursividad"
   ]
  },
  {
   "cell_type": "markdown",
   "metadata": {},
   "source": [
    "**Ejemplo de recursividad: Máximo Común Divisor utilizando recursividad.**"
   ]
  },
  {
   "cell_type": "code",
   "execution_count": 1,
   "metadata": {},
   "outputs": [],
   "source": [
    "def mcd(a, b):\n",
    "\tbajo = min(a, b)\n",
    "\talto = max(a, b)\n",
    "\n",
    "\t# Condición de parada 1\n",
    "\t# El Máximo Común Divisor entre el cero y cualquier otro número es el otro número. \n",
    "\tif bajo == 0:\n",
    "\t\treturn alto\n",
    "\t# Condición de parada 2\n",
    "\t# El Máximo Común Divisor entre el uno cualquier otro número es el uno\n",
    "\telif bajo == 1:\n",
    "\t\treturn 1\n",
    "\t# A partir del residuo de la división entre el número más grande y el número más pequeño es posible encontrar\n",
    "\t# el MCD\n",
    "\telse:\n",
    "\t\treturn mcd(bajo, alto % bajo)"
   ]
  },
  {
   "cell_type": "code",
   "execution_count": 2,
   "metadata": {},
   "outputs": [
    {
     "data": {
      "text/plain": [
       "1"
      ]
     },
     "execution_count": 2,
     "metadata": {},
     "output_type": "execute_result"
    }
   ],
   "source": [
    "mcd(7, 13)"
   ]
  },
  {
   "cell_type": "code",
   "execution_count": 4,
   "metadata": {},
   "outputs": [
    {
     "data": {
      "text/plain": [
       "5"
      ]
     },
     "execution_count": 4,
     "metadata": {},
     "output_type": "execute_result"
    }
   ],
   "source": [
    "mcd(30, 5)"
   ]
  },
  {
   "cell_type": "code",
   "execution_count": 5,
   "metadata": {},
   "outputs": [
    {
     "data": {
      "text/plain": [
       "5"
      ]
     },
     "execution_count": 5,
     "metadata": {},
     "output_type": "execute_result"
    }
   ],
   "source": [
    "mcd(0, 5)"
   ]
  },
  {
   "cell_type": "markdown",
   "metadata": {},
   "source": [
    "1. Cree una función que tome una lista de números y calcule su suma usando recursividad."
   ]
  },
  {
   "cell_type": "code",
   "execution_count": null,
   "metadata": {},
   "outputs": [
    {
     "name": "stdout",
     "output_type": "stream",
     "text": [
      "24\n"
     ]
    }
   ],
   "source": []
  },
  {
   "cell_type": "markdown",
   "metadata": {},
   "source": [
    "2. Cree una función que utilice recursión que encuentre el término n-simo de la serie de [Fibonacci](https://en.wikipedia.org/wiki/Fibonacci_sequence)"
   ]
  },
  {
   "cell_type": "code",
   "execution_count": null,
   "metadata": {},
   "outputs": [],
   "source": []
  },
  {
   "cell_type": "markdown",
   "metadata": {},
   "source": [
    "3. Cree una función que utilice recursión para calcular la suma harmonica hasta el n-simo término.\n",
    "$$1+\\frac{1}{2}+\\frac{1}{3}+\\frac{1}{4}+\\cdots$$\n"
   ]
  },
  {
   "cell_type": "code",
   "execution_count": 2,
   "metadata": {},
   "outputs": [
    {
     "name": "stdout",
     "output_type": "stream",
     "text": [
      "2.5928571428571425\n",
      "2.083333333333333\n"
     ]
    }
   ],
   "source": []
  }
 ],
 "metadata": {
  "kernelspec": {
   "display_name": "base",
   "language": "python",
   "name": "python3"
  },
  "language_info": {
   "codemirror_mode": {
    "name": "ipython",
    "version": 3
   },
   "file_extension": ".py",
   "mimetype": "text/x-python",
   "name": "python",
   "nbconvert_exporter": "python",
   "pygments_lexer": "ipython3",
   "version": "3.9.18"
  }
 },
 "nbformat": 4,
 "nbformat_minor": 2
}
