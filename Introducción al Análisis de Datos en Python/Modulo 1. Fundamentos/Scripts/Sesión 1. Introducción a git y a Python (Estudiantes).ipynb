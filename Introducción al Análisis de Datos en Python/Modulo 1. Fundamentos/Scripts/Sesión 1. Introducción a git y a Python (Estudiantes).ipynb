{
 "cells": [
  {
   "cell_type": "markdown",
   "metadata": {},
   "source": [
    "## Taller de Programación en Python\n",
    "### Profesor: Lucas Gómez Tobón"
   ]
  },
  {
   "cell_type": "markdown",
   "metadata": {},
   "source": [
    "# Clase 1: Introducción a git y a Python\n",
    "> **Objetivo**: El objetivo de este taller es que se familiaricen con los elementos básicos de Python.\n",
    "\n",
    "¿Qué es y Por qué Python? \n",
    "\n",
    "Python es un [lenguaje de programación](https://es.wikipedia.org/wiki/Lenguaje_de_programaci%C3%B3n)\n",
    "- Es el tercer lenguaje de programación más popular del mundo.\n",
    "- Es el primero cuando se trata de temas de análisis de datos.\n",
    "- Es un lenguaje de propósito general, es decir que se utiliza para muchas cosas como Machine Learning, Internet of things, creación de aplicaciones web, de escritorio y de móviles.\n",
    "- Open-source\n",
    "- Comunidad grande y colaborativa\n",
    "\n",
    "> **Recuerde**: Estamos usando Python 3.9. Usamos como *Managers* PIP y Conda. Todo esto lo logramos de manera sencilla instalando [Miniconda](https://docs.conda.io/en/latest/miniconda.html)."
   ]
  },
  {
   "cell_type": "markdown",
   "metadata": {},
   "source": [
    "### Jupyter Notebook\n",
    "Los archivos de extensión *.ipynb* presentan una interfaz muy cómoda para el aprendizaje, y la colaboración. Contiene:\n",
    "- Celdas de código\n",
    "- Celdas de [markdown](https://github.com/adam-p/markdown-here/wiki/Markdown-Cheatsheet) (como esta)\n",
    "- Celdas de texto crudo\n",
    "- Kernel\n",
    "\n",
    "<div class=\"alert alert-info\">\n",
    "La documentación oficial de Jupyter está  \n",
    "<a href=\"https://jupyter-notebook.readthedocs.io/en/stable/\" class=\"alert-link\">aquí</a>\n",
    "y puede encontrar algunos Notebooks didácticos \n",
    "<a href=\"https://github.com/jupyter/notebook/tree/master/docs/source/examples/Notebook\" class=\"alert-link\">aquí</a>\n",
    "\n",
    "Entre las ventajas de utilizar Jupyter Notebooks es que se pueden incluir formulas matemáticas utilizando comandos de Latex al igual que imágenes o hipervínculos.\n",
    "$$\\text{Teorema de Pitágoras: }c = \\sqrt{a^2 + b^2}$$\n",
    "\n",
    "<center>\n",
    "<img src=\"https://koruro.com/wp-content/uploads/2024/10/teorema-de-pitagoras_formula.png\" alt=\"Teorema de Pitágoras\" style=\"width:400px;height:200px;\">\n",
    "</center>\n"
   ]
  },
  {
   "cell_type": "markdown",
   "metadata": {},
   "source": [
    "### Kernel\n",
    "El \"kernel\" es lo que permite que se corran cosas en python, Jupyter es una interfaz para que los bloques de código corran dentro de una consola de python, el kernel es el que conecta esta interfaz con la parte del computador que corre el código.\n",
    "\n",
    "El kernel también guarda **espacio de trabajo**, es decir todas las variables que se han declarado. \n",
    "\n",
    "Se puede reiniciar el kernel de manera rápida en la pestaña de \"kernel\" en el tope."
   ]
  },
  {
   "cell_type": "markdown",
   "metadata": {},
   "source": [
    "---"
   ]
  },
  {
   "cell_type": "markdown",
   "metadata": {},
   "source": [
    "# Clase 2. Tipos de variables en Python\n",
    "En Python una variables es creada cuando se le asigna algun valor y se nombra."
   ]
  },
  {
   "cell_type": "code",
   "execution_count": null,
   "metadata": {},
   "outputs": [],
   "source": [
    "x = 5 \n",
    "y = 'Hola Mundo!'"
   ]
  },
  {
   "cell_type": "markdown",
   "metadata": {},
   "source": [
    "Para saber cuál es el valor de una variable siempre utilizaremos la función nativa de Python, `print()`. Por ejemplo:"
   ]
  },
  {
   "cell_type": "code",
   "execution_count": null,
   "metadata": {},
   "outputs": [],
   "source": [
    "print(x)\n",
    "print(y)"
   ]
  },
  {
   "cell_type": "code",
   "execution_count": null,
   "metadata": {},
   "outputs": [],
   "source": [
    "x\n",
    "y"
   ]
  },
  {
   "cell_type": "markdown",
   "metadata": {},
   "source": [
    "Podemos modificar las variables que hemos construido:"
   ]
  },
  {
   "cell_type": "code",
   "execution_count": null,
   "metadata": {},
   "outputs": [],
   "source": [
    "# Sumarle 3 a x\n",
    "x = x + 3\n",
    "print(x)"
   ]
  },
  {
   "cell_type": "code",
   "execution_count": null,
   "metadata": {},
   "outputs": [],
   "source": [
    "# Añadir más texto\n",
    "y = y + \" Mi nombre es Lucas\"\n",
    "print(y)"
   ]
  },
  {
   "cell_type": "markdown",
   "metadata": {},
   "source": [
    "### Tipos de variables básicas\n",
    "Existen 4 tipos de variable básicas\n",
    "\n",
    "1. `Integers`. O sea los números enteros: `1, 7, 10000, -70`\n",
    "2. `Float`. Número de punto flotante, es decir que es un número que tiene algún decimal. `3.0, 3.1416, -4.3, 1.0000, 0.00`\n",
    "3. `Strings`. Variables que se codifican como texto. Siempre van entre comillas. `'3', \"a\", \"hola\", \"adasd\", \"20BC\"`\n",
    "4. `Boolean`. Solo pueden tomar dos valores: Verdadero o Falso, que en Python serían ```True``` o `False`"
   ]
  },
  {
   "cell_type": "code",
   "execution_count": null,
   "metadata": {},
   "outputs": [],
   "source": [
    "# Note que cada elemento tiene un color diferente. Los comentarios son verde oscuro, los números verde claro, los operadores blancos, \n",
    "# las variables en azul claro y los booleanos en azul oscuro (En vscode).\n",
    "\n",
    "# Integer\n",
    "a = 1\n",
    "# Float\n",
    "b = -1.2\n",
    "# String\n",
    "c = \"1\"\n",
    "# Bool\n",
    "d = True"
   ]
  },
  {
   "cell_type": "code",
   "execution_count": null,
   "metadata": {},
   "outputs": [],
   "source": [
    "# Con la función type se puede chequear la clase o tipo de cada objeto\n",
    "type(0.0)"
   ]
  },
  {
   "cell_type": "code",
   "execution_count": null,
   "metadata": {},
   "outputs": [],
   "source": [
    "type(a)"
   ]
  },
  {
   "cell_type": "code",
   "execution_count": null,
   "metadata": {},
   "outputs": [],
   "source": [
    "type(b)"
   ]
  },
  {
   "cell_type": "code",
   "execution_count": null,
   "metadata": {},
   "outputs": [],
   "source": [
    "type(c)"
   ]
  },
  {
   "cell_type": "code",
   "execution_count": null,
   "metadata": {},
   "outputs": [],
   "source": [
    "type(d)"
   ]
  },
  {
   "cell_type": "code",
   "execution_count": null,
   "metadata": {},
   "outputs": [],
   "source": [
    "# También podemos tener números complejos, pero no nos preocuparemos por eso en esta clase\n",
    "type(1j)"
   ]
  },
  {
   "cell_type": "markdown",
   "metadata": {},
   "source": [
    "Saber el tipo de variable que es cada uno de los objetos es muy importante porque Python le va a dar un trato diferente a cada uno de ellos. Mismas operaciones se pueden comportar diferente entre clases de objeto o podrían estar no definidas. \n",
    "\n",
    "### Operaciones de variables numéricas\n",
    "El uso más básico de Python es convertirlo en una calculadora. Los símbolos para calcular las operaciones básicas son los siguientes:\n",
    "\n",
    "| Operación | Resultado       |\n",
    "| --------- | --------------- |\n",
    "|    +      | Suma            |\n",
    "|    -      | Resta           |\n",
    "|    *      | Multiplicación  |\n",
    "|    /      | División        |\n",
    "|    %      | Modulo          |\n",
    "|    //     | División entera |\n",
    "|    \\*\\*   | Potencia        |\n"
   ]
  },
  {
   "cell_type": "code",
   "execution_count": null,
   "metadata": {},
   "outputs": [],
   "source": [
    "# Otra forma de asignar variables\n",
    "a, b, c = 5, 2, 87\n",
    "\n",
    "# Esa línea es homologa a:\n",
    "a = 5\n",
    "b = 2\n",
    "c = 11"
   ]
  },
  {
   "cell_type": "code",
   "execution_count": null,
   "metadata": {},
   "outputs": [],
   "source": [
    "# División\n",
    "a / b"
   ]
  },
  {
   "cell_type": "code",
   "execution_count": null,
   "metadata": {},
   "outputs": [],
   "source": [
    "# División entera\n",
    "a // b"
   ]
  },
  {
   "cell_type": "code",
   "execution_count": null,
   "metadata": {},
   "outputs": [],
   "source": [
    "# Multipliación\n",
    "a * b"
   ]
  },
  {
   "cell_type": "code",
   "execution_count": null,
   "metadata": {},
   "outputs": [],
   "source": [
    "# Potencia\n",
    "c ** 3"
   ]
  },
  {
   "cell_type": "code",
   "execution_count": null,
   "metadata": {},
   "outputs": [],
   "source": [
    "# División y Modulo (Residuo)\n",
    "c / b"
   ]
  },
  {
   "cell_type": "code",
   "execution_count": null,
   "metadata": {},
   "outputs": [],
   "source": [
    "c % b"
   ]
  },
  {
   "cell_type": "markdown",
   "metadata": {},
   "source": [
    "### Operadores de asignación\n",
    "Existen unos operadores que me permiten realizar operaciones y sobreescribir mi variable en una sola línea.\n",
    "1. ¿Qué hace `+=`?\n",
    "2. ¿Qué hace `-=`?\n",
    "3. ¿Qué hace `*=`?\n",
    "4. ¿Qué hace `/=`?\n",
    "5. ¿Qué hace `**=`?"
   ]
  },
  {
   "cell_type": "code",
   "execution_count": null,
   "metadata": {},
   "outputs": [],
   "source": [
    "x = 5\n",
    "print('Valor original:', x)"
   ]
  },
  {
   "cell_type": "code",
   "execution_count": null,
   "metadata": {},
   "outputs": [],
   "source": [
    "x = 5\n",
    "x = x + 2\n",
    "print('Le sumo 2 a x:', x)"
   ]
  },
  {
   "cell_type": "code",
   "execution_count": null,
   "metadata": {},
   "outputs": [],
   "source": [
    "x = 5\n",
    "x += 2\n",
    "print('Le sumo 2 a x:', x)"
   ]
  },
  {
   "cell_type": "code",
   "execution_count": null,
   "metadata": {},
   "outputs": [],
   "source": [
    "x -= 2\n",
    "print('Le resto 2:', x)"
   ]
  },
  {
   "cell_type": "code",
   "execution_count": null,
   "metadata": {},
   "outputs": [],
   "source": [
    "x *= 2\n",
    "print('Lo multiplico por 2:', x)"
   ]
  },
  {
   "cell_type": "code",
   "execution_count": null,
   "metadata": {},
   "outputs": [],
   "source": [
    "x /= 5\n",
    "print('Lo divido por 5:', x)"
   ]
  },
  {
   "cell_type": "code",
   "execution_count": null,
   "metadata": {},
   "outputs": [],
   "source": [
    "x **= 2\n",
    "print('Lo elevo a la 2:', x)"
   ]
  },
  {
   "cell_type": "markdown",
   "metadata": {},
   "source": [
    "## Ejercicios"
   ]
  },
  {
   "cell_type": "markdown",
   "metadata": {},
   "source": [
    "1. Suponga que por 30 años usted ahorra 100 USD todos los meses y los guarda debajo del colchón. Calcule cuánto dinero tendría luego 10, 15, 20, 25 y 30 años."
   ]
  },
  {
   "cell_type": "code",
   "execution_count": null,
   "metadata": {},
   "outputs": [],
   "source": []
  },
  {
   "cell_type": "markdown",
   "metadata": {},
   "source": [
    "2. Ahora suponga en cambio que usted, en vez de guardar el dinero debajo del colchón, lo invierte en un ETF que imita el comportamiento del S&P 500, que tiene un retorno promedio del 7% anual. ¿Cuánto dinero tendría luego de 10, 15, 20, 25 y 30 años? Componga una vez cada año.\n",
    "\n",
    "Para hacer este ejercicio, puede usar la fórmula de interés compuesto con aportes mensuales:\n",
    "$$\n",
    "FV = P \\times (1+r) \\cdot \\frac{(1+r)^{t}-1}{r}\n",
    "$$\n",
    "\n",
    "Donde:\n",
    "- $FV$ = Valor futuro (el monto total acumulado después de los intereses).\n",
    "- $P$ = Aporte periódico (la cantidad que se invierte cada vez que se compone. En nuestro caso solo componemos una vez al año, por lo que sería el aporte anual).\n",
    "- $r$ = Tasa de interés anual en decimal (por ejemplo, 7% = 0.07).\n",
    "- $t$ = Número de años que dura la inversión."
   ]
  },
  {
   "cell_type": "code",
   "execution_count": 58,
   "metadata": {},
   "outputs": [
    {
     "name": "stdout",
     "output_type": "stream",
     "text": [
      "Resultados del invirtiendo con una rentabilidad del 7% anual:\n",
      "- Después de 10 años: $17,740 \n",
      "- Después de 15 años: $32,266\n",
      "- Después de 20 años: $52,638\n",
      "- Después de 25 años: $81,212\n",
      "- Después de 30 años: $121,288\n",
      "\n"
     ]
    }
   ],
   "source": []
  },
  {
   "cell_type": "markdown",
   "metadata": {},
   "source": [
    "> Bono: Explique de donde salió la formula anterior. Muestre algebraicamente que la fórmula es correcta."
   ]
  },
  {
   "cell_type": "markdown",
   "metadata": {},
   "source": [
    "### Operaciones Booleanos (comparar valores)\n",
    "Adicionalmente podemos comparar objetos para saber si son iguales, diferentes, mayores o menores.\n",
    "\n",
    "| Operación | Resultado       |\n",
    "| --------- | --------------- |\n",
    "|    ==      | Igual            |\n",
    "|    !=     | No igual           |\n",
    "|    >      | Mayor que  |\n",
    "|    <      | Menor que        |\n",
    "|    >=      | Mayor o igual que          |\n",
    "|    <=     | Menor o igual que |\n"
   ]
  },
  {
   "cell_type": "code",
   "execution_count": null,
   "metadata": {},
   "outputs": [],
   "source": [
    "a"
   ]
  },
  {
   "cell_type": "code",
   "execution_count": null,
   "metadata": {},
   "outputs": [],
   "source": [
    "b"
   ]
  },
  {
   "cell_type": "code",
   "execution_count": null,
   "metadata": {},
   "outputs": [],
   "source": [
    "print(a > b)"
   ]
  },
  {
   "cell_type": "code",
   "execution_count": null,
   "metadata": {},
   "outputs": [],
   "source": [
    "print(a >= b)"
   ]
  },
  {
   "cell_type": "code",
   "execution_count": null,
   "metadata": {},
   "outputs": [],
   "source": [
    "print(a == 6)"
   ]
  },
  {
   "cell_type": "code",
   "execution_count": null,
   "metadata": {},
   "outputs": [],
   "source": [
    "print(a != 6)"
   ]
  },
  {
   "cell_type": "markdown",
   "metadata": {},
   "source": [
    "Estas operaciones también las podemos realizar con strings"
   ]
  },
  {
   "cell_type": "code",
   "execution_count": null,
   "metadata": {},
   "outputs": [],
   "source": [
    "mi_nombre = \"Lucas\"\n",
    "print(mi_nombre == 'Isabella')"
   ]
  },
  {
   "cell_type": "code",
   "execution_count": null,
   "metadata": {},
   "outputs": [],
   "source": [
    "print(mi_nombre == 'lucas')"
   ]
  },
  {
   "cell_type": "code",
   "execution_count": null,
   "metadata": {},
   "outputs": [],
   "source": [
    "\"Lucas\" != \"Camilo\""
   ]
  },
  {
   "cell_type": "code",
   "execution_count": null,
   "metadata": {},
   "outputs": [],
   "source": [
    "# Para saber si una palabra es más grande que otra, se utiliza el orden alfabético. Las primeras letras del abecedario\n",
    "# son más pequeñas. En este caso Lucas es más grande que Camilo porque L está después de C en el abecedario\n",
    "\"Lucas\" > \"Camilo\""
   ]
  },
  {
   "cell_type": "code",
   "execution_count": null,
   "metadata": {},
   "outputs": [],
   "source": [
    "# En este caso Camilo es más grande porque la C está después de la A\n",
    "\"Aucas\" > \"Camilo\""
   ]
  },
  {
   "cell_type": "code",
   "execution_count": null,
   "metadata": {},
   "outputs": [],
   "source": [
    "# Las letras mayúsculas preceden a las minúsculas\n",
    "\"Aucas\" > \"aamilo\""
   ]
  },
  {
   "cell_type": "code",
   "execution_count": null,
   "metadata": {},
   "outputs": [],
   "source": [
    "\"A\" > \"a\""
   ]
  },
  {
   "cell_type": "markdown",
   "metadata": {},
   "source": [
    "Adicionalmente se pueden realizar operaciones aritméticas con las variables booleanas"
   ]
  },
  {
   "cell_type": "code",
   "execution_count": null,
   "metadata": {},
   "outputs": [],
   "source": [
    "# Cuando se hacen estas operaciones, Python transforma los objetos booleanos en integers. \n",
    "# True significa 1 y False 0\n",
    "print(True + True)"
   ]
  },
  {
   "cell_type": "code",
   "execution_count": null,
   "metadata": {},
   "outputs": [],
   "source": [
    "type(True + True)"
   ]
  },
  {
   "cell_type": "code",
   "execution_count": null,
   "metadata": {},
   "outputs": [],
   "source": [
    "int(True)"
   ]
  },
  {
   "cell_type": "code",
   "execution_count": null,
   "metadata": {},
   "outputs": [],
   "source": [
    "int(False)"
   ]
  },
  {
   "cell_type": "code",
   "execution_count": null,
   "metadata": {},
   "outputs": [],
   "source": [
    "print(True + False)"
   ]
  },
  {
   "cell_type": "code",
   "execution_count": null,
   "metadata": {},
   "outputs": [],
   "source": [
    "print(False + False)"
   ]
  },
  {
   "cell_type": "code",
   "execution_count": null,
   "metadata": {},
   "outputs": [],
   "source": [
    "print(True*5)"
   ]
  },
  {
   "cell_type": "code",
   "execution_count": null,
   "metadata": {},
   "outputs": [],
   "source": [
    "print(False*5)"
   ]
  },
  {
   "cell_type": "markdown",
   "metadata": {},
   "source": [
    "Se pueden usar los operadores de `y` e `o` para construir comparaciones más complejas. Recuerde las tablas de verdad\n",
    "| a | b | A and B | A or B |\n",
    "|:-:|:-:|:-------:|:------:|\n",
    "| T | T |    T    |    T   |\n",
    "| T | F |    F    |    T   |\n",
    "| F | T |    F    |    T   |\n",
    "| F | F |    F    |    F   |"
   ]
  },
  {
   "cell_type": "code",
   "execution_count": null,
   "metadata": {},
   "outputs": [],
   "source": [
    "True and True"
   ]
  },
  {
   "cell_type": "code",
   "execution_count": null,
   "metadata": {},
   "outputs": [],
   "source": [
    "True and False"
   ]
  },
  {
   "cell_type": "code",
   "execution_count": null,
   "metadata": {},
   "outputs": [],
   "source": [
    "False and True"
   ]
  },
  {
   "cell_type": "code",
   "execution_count": null,
   "metadata": {},
   "outputs": [],
   "source": [
    "False and False"
   ]
  },
  {
   "cell_type": "code",
   "execution_count": null,
   "metadata": {},
   "outputs": [],
   "source": [
    "True or True"
   ]
  },
  {
   "cell_type": "code",
   "execution_count": null,
   "metadata": {},
   "outputs": [],
   "source": [
    "True or False"
   ]
  },
  {
   "cell_type": "code",
   "execution_count": null,
   "metadata": {},
   "outputs": [],
   "source": [
    "False or True"
   ]
  },
  {
   "cell_type": "code",
   "execution_count": null,
   "metadata": {},
   "outputs": [],
   "source": [
    "False or False"
   ]
  },
  {
   "cell_type": "code",
   "execution_count": null,
   "metadata": {},
   "outputs": [],
   "source": [
    "not True"
   ]
  },
  {
   "cell_type": "code",
   "execution_count": null,
   "metadata": {},
   "outputs": [],
   "source": [
    "not False"
   ]
  },
  {
   "cell_type": "code",
   "execution_count": null,
   "metadata": {},
   "outputs": [],
   "source": [
    "a"
   ]
  },
  {
   "cell_type": "code",
   "execution_count": null,
   "metadata": {},
   "outputs": [],
   "source": [
    "print(a > 5 and a <= 10)"
   ]
  },
  {
   "cell_type": "code",
   "execution_count": null,
   "metadata": {},
   "outputs": [],
   "source": [
    "print(a > 5 or a % 3 == 0)"
   ]
  },
  {
   "cell_type": "markdown",
   "metadata": {},
   "source": [
    "### Ejercicio.\n",
    "1. Utilizando solo operaciones booleanas, encuentre el máximo entre 3 números aleatorios."
   ]
  },
  {
   "cell_type": "code",
   "execution_count": null,
   "metadata": {},
   "outputs": [],
   "source": []
  },
  {
   "cell_type": "markdown",
   "metadata": {},
   "source": [
    "### Strings"
   ]
  },
  {
   "cell_type": "markdown",
   "metadata": {},
   "source": [
    "Cree dos objetos que sean `nombre` y `apellido`. Súmelos"
   ]
  },
  {
   "cell_type": "code",
   "execution_count": null,
   "metadata": {},
   "outputs": [],
   "source": [
    "nombre = \"Lucas\"\n",
    "apellido = \"Gomez\"\n",
    "mi_nombre = nombre + \" \" + apellido\n",
    "print(mi_nombre)"
   ]
  },
  {
   "cell_type": "markdown",
   "metadata": {},
   "source": [
    "¿Qué métodos tiene un string? use `mi_nombre.` y la tecla tab."
   ]
  },
  {
   "cell_type": "code",
   "execution_count": null,
   "metadata": {},
   "outputs": [],
   "source": [
    "mi_nombre.upper()"
   ]
  },
  {
   "cell_type": "code",
   "execution_count": null,
   "metadata": {},
   "outputs": [],
   "source": [
    "mi_nombre.lower()"
   ]
  },
  {
   "cell_type": "code",
   "execution_count": null,
   "metadata": {},
   "outputs": [],
   "source": [
    "mi_nombre.capitalize()"
   ]
  },
  {
   "cell_type": "markdown",
   "metadata": {},
   "source": [
    "Multiplique por 3 la variable `nombre` e imprimala"
   ]
  },
  {
   "cell_type": "code",
   "execution_count": null,
   "metadata": {},
   "outputs": [],
   "source": [
    "nombre * 3"
   ]
  },
  {
   "cell_type": "markdown",
   "metadata": {},
   "source": [
    "Obtenga el número de caracteres en `nombre`"
   ]
  },
  {
   "cell_type": "code",
   "execution_count": null,
   "metadata": {},
   "outputs": [],
   "source": [
    "# Diferencia entre funciones y atributos. Python es un lenguaje de programación orientado a objetos\n",
    "len(nombre)"
   ]
  },
  {
   "cell_type": "markdown",
   "metadata": {},
   "source": [
    "Pregunte si una cadena de caracteres está dentro su variable `nombre`"
   ]
  },
  {
   "cell_type": "code",
   "execution_count": null,
   "metadata": {},
   "outputs": [],
   "source": [
    "'u' in nombre"
   ]
  },
  {
   "cell_type": "code",
   "execution_count": null,
   "metadata": {},
   "outputs": [],
   "source": [
    "nombre.find('u')"
   ]
  },
  {
   "cell_type": "markdown",
   "metadata": {},
   "source": [
    "Python es un lenguaje de programación que utiliza la indexación base cero. Esto significa que el conteo de los elementos en una secuencia (como listas, tuplas y cadenas) comienza en el número 0 en lugar de 1."
   ]
  },
  {
   "cell_type": "code",
   "execution_count": null,
   "metadata": {},
   "outputs": [],
   "source": [
    "nombre[0]"
   ]
  },
  {
   "cell_type": "code",
   "execution_count": null,
   "metadata": {},
   "outputs": [],
   "source": [
    "nombre[1]"
   ]
  },
  {
   "cell_type": "markdown",
   "metadata": {},
   "source": [
    "Extraiga el segundo y tercer carácter de `apellido`\n",
    "\n",
    "En Python, el slicing permite obtener subpartes de secuencias como cadenas de texto, listas, o tuplas, usando una sintaxis de corchetes `[]` con índices que indican el inicio y el fin del segmento que se quiere extraer. Los índices se separan con dos puntos `:`. Por ejemplo, si `apellido = \"Gomez\"`, para extraer el segundo y tercer carácter, se utilizaría `apellido[1:3]`, donde el número `1` es el índice del segundo carácter (recordando que Python es de indexación base cero) y `3` es el índice donde termina el slice (sin incluirlo). Esto devolvería la subcadena `\"om\"`."
   ]
  },
  {
   "cell_type": "code",
   "execution_count": null,
   "metadata": {},
   "outputs": [],
   "source": [
    "apellido[1:3]"
   ]
  },
  {
   "cell_type": "code",
   "execution_count": null,
   "metadata": {},
   "outputs": [],
   "source": [
    "# Desde la segunda letra hasta la última\n",
    "apellido[1::]"
   ]
  },
  {
   "cell_type": "code",
   "execution_count": null,
   "metadata": {},
   "outputs": [],
   "source": [
    "# Ultimo carácter\n",
    "apellido[-1]"
   ]
  },
  {
   "cell_type": "code",
   "execution_count": null,
   "metadata": {},
   "outputs": [],
   "source": [
    "# Últimos tres caracteres\n",
    "apellido[-3:]"
   ]
  },
  {
   "cell_type": "code",
   "execution_count": null,
   "metadata": {},
   "outputs": [],
   "source": [
    "# Últimos tres caracteres sin incluir el último\n",
    "apellido[-3:-1]"
   ]
  },
  {
   "cell_type": "markdown",
   "metadata": {},
   "source": [
    "1. Cree la variable `edad` y guarde su edad en ella como un entero.\n",
    "2. Cree la variable `carrera` y guarde su carrera en ella como un string.\n",
    "3. Imprima su presentación combinando en el `print` strings y variables (`nombre`, `apellido`, `edad` y `carrera`).\n",
    "4. Repita lo anterior usando la suma de strings.\n",
    "5. Repita lo anterior usando `.format()`.\n",
    "6. Repita lo anterior usando `.join()`."
   ]
  },
  {
   "cell_type": "code",
   "execution_count": null,
   "metadata": {},
   "outputs": [],
   "source": [
    "edad = 25\n",
    "carrera = 'Economista'\n",
    "print('Yo soy', nombre, apellido, ', tengo', edad, 'años y soy', carrera) # Aquí no debo poner espacios\n",
    "print('Yo soy ' + nombre + ' ' + apellido + ', tengo ' + str(edad) + ' años y soy ' + carrera) # Aquí sí debo poner espacios\n",
    "print('Yo soy {} {}, tengo {} años y soy {}'.format(nombre, apellido, edad, carrera))\n",
    "print(f'Mi nombre es {nombre} {apellido}, tengo {str(edad)} años y soy {carrera}')\n",
    "print(' '.join(['Yo soy', nombre, apellido, ', tengo', str(edad), 'años y soy', carrera]))"
   ]
  },
  {
   "cell_type": "code",
   "execution_count": null,
   "metadata": {},
   "outputs": [],
   "source": [
    "print('Mi comida favorita es {}'.format(input(\"¿Cuál es su comida favorita?\")))"
   ]
  },
  {
   "cell_type": "markdown",
   "metadata": {},
   "source": [
    "Construya los objetos `fruta` y `postre` con la información de su fruta y postre favorito. Use los siguientes métodos:\n",
    "- **count**: Cuente cuantas veces se repite un carácter en una cadena.\n",
    "- **replace**: Reemplaza un carácter o parte de una cadena por otro carácter o cadena.\n",
    "- **split**: Divide una cadena según los espacios que tenga y genera una lista de palabras."
   ]
  },
  {
   "cell_type": "code",
   "execution_count": null,
   "metadata": {},
   "outputs": [],
   "source": [
    "fruta = 'maracuyá'\n",
    "postre = 'brownie con helado'"
   ]
  },
  {
   "cell_type": "code",
   "execution_count": null,
   "metadata": {},
   "outputs": [],
   "source": [
    "fruta.count('a')"
   ]
  },
  {
   "cell_type": "code",
   "execution_count": null,
   "metadata": {},
   "outputs": [],
   "source": [
    "fruta = fruta.replace('á','a')\n",
    "print(fruta)\n",
    "fruta.count('a')"
   ]
  },
  {
   "cell_type": "code",
   "execution_count": null,
   "metadata": {},
   "outputs": [],
   "source": [
    "fruta = 'maracuyá'\n",
    "fruta.replace('á','a').count('a')"
   ]
  },
  {
   "cell_type": "code",
   "execution_count": null,
   "metadata": {},
   "outputs": [],
   "source": [
    "postre.split(' ')"
   ]
  },
  {
   "cell_type": "markdown",
   "metadata": {},
   "source": [
    "### Listas\n",
    "Las listas en Python son una estructura de datos que permite almacenar una colección ordenada de elementos. Los elementos pueden ser de cualquier tipo, como números, cadenas de texto, booleanos, otras listas, objetos personalizados, entre otros.\n",
    "\n",
    "Las listas se definen utilizando corchetes `[]` y separando los elementos por comas. Por ejemplo, una lista de números enteros se puede definir así:\n",
    "\n",
    "```\n",
    "numeros = [1, 2, 3, 4, 5]\n",
    "```\n",
    "\n",
    "Además, es posible acceder a los elementos de una lista mediante su índice, **que comienza en 0 para el primer elemento**. Por ejemplo, `numeros[0]` devuelve el primer elemento de la lista numeros, que en este caso es 1. También es posible acceder a una porción de la lista utilizando la notación de slicing, por ejemplo, `numeros[1:3]` devuelve una lista que contiene los elementos en las posiciones 1 y 2 (excluyendo la posición 3)."
   ]
  },
  {
   "cell_type": "code",
   "execution_count": null,
   "metadata": {},
   "outputs": [],
   "source": [
    "numeros = [1, 2, 3, 4, 5]\n",
    "numeros[1:3]"
   ]
  },
  {
   "cell_type": "markdown",
   "metadata": {},
   "source": [
    "1. Construya una lista llamada `lista_1` que contenga las variables `a`, `b`, el número `0.5` y `mi_nombre`."
   ]
  },
  {
   "cell_type": "code",
   "execution_count": 46,
   "metadata": {},
   "outputs": [
    {
     "data": {
      "text/plain": [
       "[1, 'Una cosa', 0.5, 'Lucas']"
      ]
     },
     "execution_count": 46,
     "metadata": {},
     "output_type": "execute_result"
    }
   ],
   "source": [
    "lista_1 = [a, b, 0.5, mi_nombre]\n",
    "lista_1"
   ]
  },
  {
   "cell_type": "markdown",
   "metadata": {},
   "source": [
    "2. Extraiga e imprima el primer elemento de la lista (recuerde que en Python se comienza desde la posición 0)."
   ]
  },
  {
   "cell_type": "code",
   "execution_count": 12,
   "metadata": {},
   "outputs": [
    {
     "name": "stdout",
     "output_type": "stream",
     "text": [
      "1\n"
     ]
    }
   ],
   "source": [
    "print(lista_1[0])"
   ]
  },
  {
   "cell_type": "markdown",
   "metadata": {},
   "source": [
    "3. Extraiga e imprima el último elemento de la lista (recuerde que para hacer esto no es necesario saber el tamaño de la lista).\n"
   ]
  },
  {
   "cell_type": "code",
   "execution_count": 11,
   "metadata": {},
   "outputs": [
    {
     "name": "stdout",
     "output_type": "stream",
     "text": [
      "Lucas\n"
     ]
    }
   ],
   "source": [
    "print(lista_1[-1])"
   ]
  },
  {
   "cell_type": "code",
   "execution_count": 17,
   "metadata": {},
   "outputs": [
    {
     "data": {
      "text/plain": [
       "'Lucas'"
      ]
     },
     "execution_count": 17,
     "metadata": {},
     "output_type": "execute_result"
    }
   ],
   "source": [
    "lista_1[len(lista_1) - 1]"
   ]
  },
  {
   "cell_type": "code",
   "execution_count": 18,
   "metadata": {},
   "outputs": [
    {
     "name": "stdout",
     "output_type": "stream",
     "text": [
      "Lucas\n"
     ]
    }
   ],
   "source": [
    "print(lista_1[len(lista_1) - 1])"
   ]
  },
  {
   "cell_type": "markdown",
   "metadata": {},
   "source": [
    "4. Extraiga e imprima los dos primeros elementos.\n"
   ]
  },
  {
   "cell_type": "code",
   "execution_count": 19,
   "metadata": {},
   "outputs": [
    {
     "name": "stdout",
     "output_type": "stream",
     "text": [
      "[1, 'Una cosa']\n"
     ]
    }
   ],
   "source": [
    "print(lista_1[0:2])"
   ]
  },
  {
   "cell_type": "markdown",
   "metadata": {},
   "source": [
    "5. Extraiga e imprima los elementos impares."
   ]
  },
  {
   "cell_type": "code",
   "execution_count": null,
   "metadata": {},
   "outputs": [],
   "source": [
    "lista_1[0:len(mi_nombre):2]"
   ]
  },
  {
   "cell_type": "markdown",
   "metadata": {},
   "source": [
    "También se pueden usar las operaciones aritméticas entre listas: \n",
    "- `+` para concatenar dos listas\n",
    "- `*` para repetir varias veces los elementos de una lista"
   ]
  },
  {
   "cell_type": "code",
   "execution_count": 28,
   "metadata": {},
   "outputs": [
    {
     "name": "stdout",
     "output_type": "stream",
     "text": [
      "[1, 2, 3, 5, 6, 7]\n",
      "[1, 2, 3, 1, 2, 3, 1, 2, 3]\n"
     ]
    }
   ],
   "source": [
    "print([1,2,3] + [5,6,7])\n",
    "print([1,2,3] * 3)"
   ]
  },
  {
   "cell_type": "markdown",
   "metadata": {},
   "source": [
    "Algunos métodos útiles para trabajar con las listas son:"
   ]
  },
  {
   "cell_type": "code",
   "execution_count": null,
   "metadata": {},
   "outputs": [],
   "source": [
    "# Agregar un elemento al final de la lista\n",
    "lista_1.append('Sofia')\n",
    "print(lista_1)"
   ]
  },
  {
   "cell_type": "code",
   "execution_count": 48,
   "metadata": {},
   "outputs": [
    {
     "name": "stdout",
     "output_type": "stream",
     "text": [
      "[1, 'Una cosa', 0.5, 'Lucas']\n"
     ]
    }
   ],
   "source": [
    "# Invertir el orden de la lista\n",
    "lista_1.reverse()\n",
    "print(lista_1)"
   ]
  },
  {
   "cell_type": "code",
   "execution_count": 49,
   "metadata": {},
   "outputs": [
    {
     "data": {
      "text/plain": [
       "['Lucas', 0.5, 'Una cosa', 1]"
      ]
     },
     "execution_count": 49,
     "metadata": {},
     "output_type": "execute_result"
    }
   ],
   "source": [
    "# Invertir el orden de la lista\n",
    "lista_1[::-1]"
   ]
  },
  {
   "cell_type": "code",
   "execution_count": 50,
   "metadata": {},
   "outputs": [
    {
     "data": {
      "text/plain": [
       "[1, 'Una cosa', 0.5, 'Lucas']"
      ]
     },
     "execution_count": 50,
     "metadata": {},
     "output_type": "execute_result"
    }
   ],
   "source": [
    "lista_1"
   ]
  },
  {
   "cell_type": "code",
   "execution_count": 51,
   "metadata": {},
   "outputs": [
    {
     "name": "stdout",
     "output_type": "stream",
     "text": [
      "[1, 'Una cosa', 0.5, 'Lucas']\n",
      "[1, 'Una cosa', 0.5]\n"
     ]
    }
   ],
   "source": [
    "# Eliminar un elemento de la lista por su índice. Si queremos eliminar 10, debemos decirle que elimine el elemento del índice 2 (posición 3) \n",
    "print(lista_1)\n",
    "lista_1.pop(3)\n",
    "print(lista_1)"
   ]
  },
  {
   "cell_type": "code",
   "execution_count": 53,
   "metadata": {},
   "outputs": [
    {
     "data": {
      "text/plain": [
       "1"
      ]
     },
     "execution_count": 53,
     "metadata": {},
     "output_type": "execute_result"
    }
   ],
   "source": [
    "# Dice la posición en la lista donde se encuentra el elemento pasado a la lista\n",
    "lista_1.index(\"Una cosa\") "
   ]
  },
  {
   "cell_type": "code",
   "execution_count": 55,
   "metadata": {},
   "outputs": [
    {
     "data": {
      "text/plain": [
       "'Una cosa'"
      ]
     },
     "execution_count": 55,
     "metadata": {},
     "output_type": "execute_result"
    }
   ],
   "source": [
    "lista_1.pop(lista_1.index(\"Una cosa\"))"
   ]
  },
  {
   "cell_type": "code",
   "execution_count": 56,
   "metadata": {},
   "outputs": [
    {
     "data": {
      "text/plain": [
       "[1, 0.5]"
      ]
     },
     "execution_count": 56,
     "metadata": {},
     "output_type": "execute_result"
    }
   ],
   "source": [
    "lista_1"
   ]
  },
  {
   "cell_type": "code",
   "execution_count": 60,
   "metadata": {},
   "outputs": [
    {
     "name": "stdout",
     "output_type": "stream",
     "text": [
      "range(0, 10)\n",
      "[0, 1, 2, 3, 4, 5, 6, 7, 8, 9]\n",
      "[0, 1, 2, 3, 4, 5, 6, 7, 8, 9, 10]\n"
     ]
    }
   ],
   "source": [
    "# Crear una lista de los números del 0 al 10\n",
    "print(range(0, 10))\n",
    "print(list(range(0, 10)))\n",
    "print(list(range(0, 11)))"
   ]
  },
  {
   "cell_type": "code",
   "execution_count": 61,
   "metadata": {},
   "outputs": [
    {
     "data": {
      "text/plain": [
       "[1, 3, 5, 7, 9]"
      ]
     },
     "execution_count": 61,
     "metadata": {},
     "output_type": "execute_result"
    }
   ],
   "source": [
    "# Crear una lista de los números impares del 0 al 10\n",
    "impares = list(range(1, 11, 2))\n",
    "impares"
   ]
  },
  {
   "cell_type": "code",
   "execution_count": 63,
   "metadata": {},
   "outputs": [
    {
     "data": {
      "text/plain": [
       "[9, 7, 5, 3, 1]"
      ]
     },
     "execution_count": 63,
     "metadata": {},
     "output_type": "execute_result"
    }
   ],
   "source": [
    "impares.sort(reverse = True)\n",
    "impares"
   ]
  },
  {
   "cell_type": "code",
   "execution_count": 64,
   "metadata": {},
   "outputs": [
    {
     "data": {
      "text/plain": [
       "[1, 3, 5, 7, 9]"
      ]
     },
     "execution_count": 64,
     "metadata": {},
     "output_type": "execute_result"
    }
   ],
   "source": [
    "impares.sort()\n",
    "impares"
   ]
  },
  {
   "cell_type": "code",
   "execution_count": 65,
   "metadata": {},
   "outputs": [
    {
     "name": "stdout",
     "output_type": "stream",
     "text": [
      "[]\n",
      "[100, 99, 98, 97, 96, 95, 94, 93, 92, 91, 90]\n",
      "[100, 99, 98, 97, 96, 95, 94, 93, 92, 91, 90]\n"
     ]
    }
   ],
   "source": [
    "# Crear una lista descendente del 100 al 90\n",
    "print(list(range(100, 89)))\n",
    "print(list(range(100, 89, -1)))\n",
    "print(list(range(90, 101))[::-1])"
   ]
  },
  {
   "cell_type": "markdown",
   "metadata": {},
   "source": [
    "Para modificar los elementos de una lista en Python, se puede acceder a ellos mediante su índice y asignarles un nuevo valor. Por ejemplo, si tenemos la siguiente lista:"
   ]
  },
  {
   "cell_type": "code",
   "execution_count": 67,
   "metadata": {},
   "outputs": [
    {
     "data": {
      "text/plain": [
       "['manzana', 'banana', 'kiwi', 'pera']"
      ]
     },
     "execution_count": 67,
     "metadata": {},
     "output_type": "execute_result"
    }
   ],
   "source": [
    "frutas = [\"manzana\", \"banana\", \"kiwi\", \"pera\"]\n",
    "frutas"
   ]
  },
  {
   "cell_type": "code",
   "execution_count": 69,
   "metadata": {},
   "outputs": [],
   "source": [
    "frutas[1] = \"fresa\""
   ]
  },
  {
   "cell_type": "code",
   "execution_count": 70,
   "metadata": {},
   "outputs": [
    {
     "data": {
      "text/plain": [
       "['manzana', 'fresa', 'kiwi', 'pera']"
      ]
     },
     "execution_count": 70,
     "metadata": {},
     "output_type": "execute_result"
    }
   ],
   "source": [
    "frutas"
   ]
  },
  {
   "cell_type": "markdown",
   "metadata": {},
   "source": [
    "Podemos modificar el segundo elemento \"banana\" por \"fresa\" de la siguiente manera:"
   ]
  },
  {
   "cell_type": "code",
   "execution_count": null,
   "metadata": {},
   "outputs": [],
   "source": [
    "frutas[1] = \"fresa\"\n",
    "frutas"
   ]
  },
  {
   "cell_type": "markdown",
   "metadata": {},
   "source": [
    "También es posible modificar varios elementos de la lista al mismo tiempo usando la notación de slicing. Por ejemplo, para cambiar los elementos de la posición 1 y 2 por \"mango\" y \"piña\" respectivamente, se puede hacer lo siguiente:"
   ]
  },
  {
   "cell_type": "code",
   "execution_count": 73,
   "metadata": {},
   "outputs": [
    {
     "data": {
      "text/plain": [
       "['fresa', 'kiwi']"
      ]
     },
     "execution_count": 73,
     "metadata": {},
     "output_type": "execute_result"
    }
   ],
   "source": [
    "frutas[1:3]"
   ]
  },
  {
   "cell_type": "code",
   "execution_count": 74,
   "metadata": {},
   "outputs": [
    {
     "data": {
      "text/plain": [
       "['manzana', 'mango', 'piña', 'pera']"
      ]
     },
     "execution_count": 74,
     "metadata": {},
     "output_type": "execute_result"
    }
   ],
   "source": [
    "frutas[1:3] = [\"mango\", \"piña\"]\n",
    "frutas"
   ]
  },
  {
   "cell_type": "markdown",
   "metadata": {},
   "source": [
    "Es importante tener en cuenta que los elementos de una lista son mutables, por lo que si un elemento es una lista, se puede modificar los elementos de esa lista interna mediante su índice."
   ]
  },
  {
   "cell_type": "code",
   "execution_count": 79,
   "metadata": {},
   "outputs": [
    {
     "data": {
      "text/plain": [
       "175"
      ]
     },
     "execution_count": 79,
     "metadata": {},
     "output_type": "execute_result"
    }
   ],
   "source": [
    "# Creemos una lista con las características de talla y peso de diferentes personas\n",
    "Camilo = [182, 80]\n",
    "Valentina = [175, 65]\n",
    "personas = [Camilo, Valentina]\n",
    "# Para acceder a la estatura de Valentina desde personas haríamos\n",
    "personas[1][0]"
   ]
  },
  {
   "cell_type": "markdown",
   "metadata": {},
   "source": [
    "### Ejercicio\n",
    "1. Suponga que tenemos el siguiente maso de cartas:\n",
    "    ```python\n",
    "    cartas = [\"A♠\", \"2♠\", \"3♠\", \"4♠\", \"5♠\", \"6♠\", \"7♠\", \"8♠\", \"9♠\", \"10♠\", \"J♠\", \"Q♠\", \"K♠\"]\n",
    "    ```\n",
    "\n",
    "    Mezcle la baraja de cartas dada de la siguiente manera.\n",
    "    - Invierta el orden de las cartas.\n",
    "    - Extraiga las cartas en posiciones impares del mazo invertido. (Recuerde que en Python se comienza desde la posición 0).\n",
    "    - Del mazo resultante del paso pasado, extraiga las cartas en posiciones pares. (Recuerde que el cero es un número par)."
   ]
  },
  {
   "cell_type": "code",
   "execution_count": 75,
   "metadata": {},
   "outputs": [],
   "source": [
    "# Lista de cartas en un mazo\n",
    "cartas = [\"A♠\", \"2♠\", \"3♠\", \"4♠\", \"5♠\", \"6♠\", \"7♠\", \"8♠\", \"9♠\", \"10♠\", \"J♠\", \"Q♠\", \"K♠\"]"
   ]
  },
  {
   "cell_type": "code",
   "execution_count": 78,
   "metadata": {},
   "outputs": [
    {
     "name": "stdout",
     "output_type": "stream",
     "text": [
      "🃏 Mazo original: ['A♠', '2♠', '3♠', '4♠', '5♠', '6♠', '7♠', '8♠', '9♠', '10♠', 'J♠', 'Q♠', 'K♠']\n",
      "🔄 Mazo invertido: ['K♠', 'Q♠', 'J♠', '10♠', '9♠', '8♠', '7♠', '6♠', '5♠', '4♠', '3♠', '2♠', 'A♠']\n",
      "🔢 Cartas en posiciones impares del mazo invertido: ['Q♠', '10♠', '8♠', '6♠', '4♠', '2♠']\n",
      "🔁 Cartas en posiciones pares del mazo mezclado: ['Q♠', '8♠', '4♠']\n"
     ]
    }
   ],
   "source": []
  },
  {
   "cell_type": "markdown",
   "metadata": {},
   "source": [
    "## Tuplas\n",
    "En Python, una tupla es una estructura de datos similar a una lista, pero con la diferencia de que las tuplas son inmutables. Esto significa que una vez que se ha creado una tupla, no se puede modificar su contenido.\n",
    "\n",
    "Las tuplas se definen utilizando paréntesis `()` y separando los elementos por comas. Por ejemplo, una tupla que contiene los meses del año se puede definir así:"
   ]
  },
  {
   "cell_type": "code",
   "execution_count": 81,
   "metadata": {},
   "outputs": [],
   "source": [
    "meses = (\"Enero\", \"Febrero\", \"Marzo\", \"Abril\", \"Mayo\", \"Junio\", \"Julio\", \"Agosto\", \"Septiembre\", \"Octubre\", \"Noviembre\", \"Diciembre\")"
   ]
  },
  {
   "cell_type": "markdown",
   "metadata": {},
   "source": [
    "A diferencia de las listas, no se pueden agregar ni eliminar elementos de una tupla, ni modificar los valores de sus elementos. Sin embargo, se pueden realizar algunas operaciones con las tuplas, como acceder a sus elementos mediante el índice, hacer slicing o concatenar dos tuplas para crear una nueva tupla.\n",
    "\n",
    "Las tuplas suelen ser útiles cuando se necesita almacenar una colección de elementos que no van a cambiar durante la ejecución del programa, ya que son más eficientes en términos de memoria y rendimiento que las listas. Además, las tuplas se utilizan a menudo para devolver varios valores de una función en Python."
   ]
  },
  {
   "cell_type": "code",
   "execution_count": 82,
   "metadata": {},
   "outputs": [],
   "source": [
    "puntos = [(0, 0), (1, 2), (3, 5), (-1, 4)]"
   ]
  },
  {
   "cell_type": "markdown",
   "metadata": {},
   "source": [
    "Podemos acceder a los valores de cada coordenada de un punto usando la notación de índice. Por ejemplo, para obtener la coordenada x del segundo punto, podemos hacer lo siguiente:"
   ]
  },
  {
   "cell_type": "code",
   "execution_count": 83,
   "metadata": {},
   "outputs": [
    {
     "data": {
      "text/plain": [
       "1"
      ]
     },
     "execution_count": 83,
     "metadata": {},
     "output_type": "execute_result"
    }
   ],
   "source": [
    "x = puntos[1][0]\n",
    "x"
   ]
  },
  {
   "cell_type": "markdown",
   "metadata": {},
   "source": [
    "## Diccionarios\n",
    "En Python, un diccionario es una estructura de datos que permite almacenar una colección de elementos, donde cada elemento está asociado a una clave única. En lugar de utilizar un índice numérico como en el caso de las listas y tuplas, se utiliza una clave para acceder a los elementos del diccionario.\n",
    "\n",
    "Los diccionarios se definen utilizando llaves `{}` y separando cada clave y su correspondiente valor por dos puntos `:`. Por ejemplo, un diccionario que representa la información de un estudiante podría tener las siguientes claves y valores:"
   ]
  },
  {
   "cell_type": "code",
   "execution_count": 89,
   "metadata": {},
   "outputs": [],
   "source": [
    "estudiante = {\"nombre\": \"Juan\", \n",
    "              \"apellido\": \"Pérez\", \n",
    "              \"edad\": 20, \n",
    "              \"carrera\": \"Ingeniería\"}"
   ]
  },
  {
   "cell_type": "markdown",
   "metadata": {},
   "source": [
    "En este ejemplo, cada clave (nombre, apellido, edad, carrera) está asociada a un valor (Juan, Pérez, 20, Ingeniería), y se puede acceder a cada valor utilizando su clave. Por ejemplo, para obtener el nombre del estudiante, se puede hacer lo siguiente:"
   ]
  },
  {
   "cell_type": "code",
   "execution_count": 94,
   "metadata": {},
   "outputs": [
    {
     "data": {
      "text/plain": [
       "'Juan'"
      ]
     },
     "execution_count": 94,
     "metadata": {},
     "output_type": "execute_result"
    }
   ],
   "source": [
    "nombre = estudiante[\"nombre\"]\n",
    "nombre"
   ]
  },
  {
   "cell_type": "markdown",
   "metadata": {},
   "source": [
    "También es posible agregar o modificar elementos en un diccionario utilizando una clave. Por ejemplo, para agregar el teléfono del estudiante al diccionario, se puede hacer lo siguiente:"
   ]
  },
  {
   "cell_type": "code",
   "execution_count": 95,
   "metadata": {},
   "outputs": [
    {
     "data": {
      "text/plain": [
       "{'nombre': 'Juan',\n",
       " 'apellido': 'Pérez',\n",
       " 'edad': 20,\n",
       " 'carrera': 'Ingeniería',\n",
       " 'telefono': '555-1234'}"
      ]
     },
     "execution_count": 95,
     "metadata": {},
     "output_type": "execute_result"
    }
   ],
   "source": [
    "estudiante[\"telefono\"] = \"555-1234\"\n",
    "estudiante"
   ]
  },
  {
   "cell_type": "markdown",
   "metadata": {},
   "source": [
    "Los diccionarios son útiles cuando se necesita almacenar datos que se pueden asociar con una clave, como información de usuarios, registros de base de datos o configuraciones de un programa. Además, los diccionarios permiten un acceso más rápido y eficiente a los datos que las listas o tuplas."
   ]
  },
  {
   "cell_type": "code",
   "execution_count": 96,
   "metadata": {},
   "outputs": [
    {
     "data": {
      "text/plain": [
       "dict_keys(['nombre', 'apellido', 'edad', 'carrera', 'telefono'])"
      ]
     },
     "execution_count": 96,
     "metadata": {},
     "output_type": "execute_result"
    }
   ],
   "source": [
    "estudiante.keys()"
   ]
  },
  {
   "cell_type": "code",
   "execution_count": 97,
   "metadata": {},
   "outputs": [
    {
     "data": {
      "text/plain": [
       "dict_values(['Juan', 'Pérez', 20, 'Ingeniería', '555-1234'])"
      ]
     },
     "execution_count": 97,
     "metadata": {},
     "output_type": "execute_result"
    }
   ],
   "source": [
    "estudiante.values()"
   ]
  },
  {
   "cell_type": "code",
   "execution_count": 104,
   "metadata": {},
   "outputs": [
    {
     "data": {
      "text/plain": [
       "'Oreo'"
      ]
     },
     "execution_count": 104,
     "metadata": {},
     "output_type": "execute_result"
    }
   ],
   "source": [
    "notas_clase = {\"Nombres\": [{\"Lucas\": [\"1039\", \"Medellín\", \"Oreo\"]}, \"Pepito\", \"Mariana\", \"Eugenia\"],\n",
    "               \"Edades\": [1, 2, 3, 4.5 , 6,7 ,8 ]}"
   ]
  },
  {
   "cell_type": "markdown",
   "metadata": {},
   "source": [
    "## Funciones internas\n",
    "### Matemáticas\n",
    "1. Para qué sirve `abs()`?\n"
   ]
  },
  {
   "cell_type": "code",
   "execution_count": 105,
   "metadata": {},
   "outputs": [
    {
     "name": "stdout",
     "output_type": "stream",
     "text": [
      "5\n"
     ]
    }
   ],
   "source": [
    "print(abs(-5))"
   ]
  },
  {
   "cell_type": "markdown",
   "metadata": {},
   "source": [
    "2. Para qué sirve `max()`?"
   ]
  },
  {
   "cell_type": "code",
   "execution_count": 106,
   "metadata": {},
   "outputs": [
    {
     "name": "stdout",
     "output_type": "stream",
     "text": [
      "9\n"
     ]
    }
   ],
   "source": [
    "lista = [1, 3, 5, 7, 9]\n",
    "print(max(lista))"
   ]
  },
  {
   "cell_type": "markdown",
   "metadata": {},
   "source": [
    "3. Para qué sirve `min()`?"
   ]
  },
  {
   "cell_type": "code",
   "execution_count": 107,
   "metadata": {},
   "outputs": [
    {
     "name": "stdout",
     "output_type": "stream",
     "text": [
      "1\n"
     ]
    }
   ],
   "source": [
    "print(min(lista))"
   ]
  },
  {
   "cell_type": "markdown",
   "metadata": {},
   "source": [
    "\n",
    "4. Para qué sirve `sum()`?"
   ]
  },
  {
   "cell_type": "code",
   "execution_count": 108,
   "metadata": {},
   "outputs": [
    {
     "name": "stdout",
     "output_type": "stream",
     "text": [
      "25\n"
     ]
    }
   ],
   "source": [
    "print(sum(lista))"
   ]
  },
  {
   "cell_type": "markdown",
   "metadata": {},
   "source": [
    "### Ejercicio\n",
    "\n",
    "Usando `.index()` ¿Cómo podría encontrar la posición donde esté el máximo de una lista?"
   ]
  },
  {
   "cell_type": "code",
   "execution_count": null,
   "metadata": {},
   "outputs": [],
   "source": [
    "lista.index(max(lista)) # Con max puedo ver el valor máximo de la lista, con index veo en que posición está"
   ]
  },
  {
   "cell_type": "markdown",
   "metadata": {},
   "source": [
    "Si no recuerda lo que hace una función en particular, siempre puede llamar el comando `help()` o `?`"
   ]
  },
  {
   "cell_type": "code",
   "execution_count": 110,
   "metadata": {},
   "outputs": [
    {
     "name": "stdout",
     "output_type": "stream",
     "text": [
      "Help on built-in function sum in module builtins:\n",
      "\n",
      "sum(iterable, /, start=0)\n",
      "    Return the sum of a 'start' value (default: 0) plus an iterable of numbers\n",
      "    \n",
      "    When the iterable is empty, return the start value.\n",
      "    This function is intended specifically for use with numeric values and may\n",
      "    reject non-numeric types.\n",
      "\n"
     ]
    }
   ],
   "source": [
    "help(sum)"
   ]
  },
  {
   "cell_type": "code",
   "execution_count": 111,
   "metadata": {},
   "outputs": [
    {
     "name": "stdout",
     "output_type": "stream",
     "text": [
      "\u001b[1;31mSignature:\u001b[0m \u001b[0msum\u001b[0m\u001b[1;33m(\u001b[0m\u001b[0miterable\u001b[0m\u001b[1;33m,\u001b[0m \u001b[1;33m/\u001b[0m\u001b[1;33m,\u001b[0m \u001b[0mstart\u001b[0m\u001b[1;33m=\u001b[0m\u001b[1;36m0\u001b[0m\u001b[1;33m)\u001b[0m\u001b[1;33m\u001b[0m\u001b[1;33m\u001b[0m\u001b[0m\n",
      "\u001b[1;31mDocstring:\u001b[0m\n",
      "Return the sum of a 'start' value (default: 0) plus an iterable of numbers\n",
      "\n",
      "When the iterable is empty, return the start value.\n",
      "This function is intended specifically for use with numeric values and may\n",
      "reject non-numeric types.\n",
      "\u001b[1;31mType:\u001b[0m      builtin_function_or_method"
     ]
    }
   ],
   "source": [
    "?sum"
   ]
  }
 ],
 "metadata": {
  "kernelspec": {
   "display_name": "base",
   "language": "python",
   "name": "python3"
  },
  "language_info": {
   "codemirror_mode": {
    "name": "ipython",
    "version": 3
   },
   "file_extension": ".py",
   "mimetype": "text/x-python",
   "name": "python",
   "nbconvert_exporter": "python",
   "pygments_lexer": "ipython3",
   "version": "3.12.2"
  }
 },
 "nbformat": 4,
 "nbformat_minor": 2
}
