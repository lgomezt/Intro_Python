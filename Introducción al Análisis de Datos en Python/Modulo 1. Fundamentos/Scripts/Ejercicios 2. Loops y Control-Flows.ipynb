{
 "cells": [
  {
   "cell_type": "markdown",
   "metadata": {},
   "source": [
    "# Ejercicios 2. Loops y Control-Flows"
   ]
  },
  {
   "cell_type": "markdown",
   "metadata": {},
   "source": [
    "1. Pídele al usuario un número. Dependiendo de si el número es par o impar, imprime un mensaje que indique si el numero es par o no."
   ]
  },
  {
   "cell_type": "code",
   "execution_count": 13,
   "metadata": {},
   "outputs": [],
   "source": [
    "# Esta línea le pide un número al usuario. No la modifique y desarrolle su código en la siguiente línea a partir\n",
    "# del objeto numero\n"
   ]
  },
  {
   "cell_type": "code",
   "execution_count": 21,
   "metadata": {},
   "outputs": [
    {
     "name": "stdout",
     "output_type": "stream",
     "text": [
      "El número 3 es impar\n"
     ]
    }
   ],
   "source": [
    "# Desarrolle su código acá\n",
    "numero = 3\n",
    "if numero % 2 == 0:\n",
    "    print(f\"El número {numero} es par\")\n",
    "else:\n",
    "    print(f\"El número {numero} es impar\")"
   ]
  },
  {
   "cell_type": "code",
   "execution_count": 22,
   "metadata": {},
   "outputs": [
    {
     "name": "stdout",
     "output_type": "stream",
     "text": [
      "El número 3 es impar\n"
     ]
    }
   ],
   "source": [
    "# Desarrolle su código acá\n",
    "numero = 3\n",
    "if numero % 2 == 0:\n",
    "    print(f\"El número {numero} es par\")\n",
    "elif numero == 7:\n",
    "    print(f\"El número {numero} es 7\")\n",
    "else:\n",
    "    print(f\"El número {numero} es impar\")"
   ]
  },
  {
   "cell_type": "markdown",
   "metadata": {},
   "source": [
    "2. Reutilice el código anterior, pero esta vez si el número es múltiplo de 4, imprima un mensaje diferente."
   ]
  },
  {
   "cell_type": "code",
   "execution_count": 31,
   "metadata": {},
   "outputs": [
    {
     "name": "stdout",
     "output_type": "stream",
     "text": [
      "El número 5 es impar y es múltiplo de 5\n"
     ]
    }
   ],
   "source": [
    "# Desarrolle su código acá\n",
    "numero = 5\n",
    "\n",
    "if (numero % 5 == 0) & (numero % 2 == 0):\n",
    "    print(f\"El número {numero} es par y múltiplo de 5\")\n",
    "elif (numero % 5 == 0) & (numero % 2 != 0):\n",
    "    print(f\"El número {numero} es impar y es múltiplo de 5\")"
   ]
  },
  {
   "cell_type": "markdown",
   "metadata": {},
   "source": [
    "3. Pídale al usuario dos números: `num` y `den`. Si `den` divide de manera exacta a `num`, comunícaselo al usuario. Si no, imprime un mensaje diferente apropiado."
   ]
  },
  {
   "cell_type": "code",
   "execution_count": null,
   "metadata": {},
   "outputs": [],
   "source": [
    "# Esta línea le pide los números al usuario. No la modifique y desarrolle su código en la siguiente línea a partir\n",
    "# del objeto num y den\n",
    "num = input() # Numerador\n",
    "den = input() # Denominador"
   ]
  },
  {
   "cell_type": "markdown",
   "metadata": {},
   "source": [
    "4. Utilice la siguiente lista: `a = [1, 4, 9, 16, 25, 36, 49, 64, 81, 100]`. Escribe un código que tome esta lista `a` y cree una nueva lista que contenga solo los elementos pares de esta lista. Hagalo utilizando un `for` loop."
   ]
  },
  {
   "cell_type": "code",
   "execution_count": 4,
   "metadata": {},
   "outputs": [],
   "source": [
    "# No modifique esta línea\n",
    "a = [1, 4, 9, 16, 25, 36, 49, 64, 81, 100]"
   ]
  },
  {
   "cell_type": "code",
   "execution_count": null,
   "metadata": {},
   "outputs": [],
   "source": [
    "# Desarrolle su código acá\n"
   ]
  },
  {
   "cell_type": "markdown",
   "metadata": {},
   "source": [
    "5. Vuelva a crear una solución para el punto 4. pero esta vez utilice un \"list comprehension\"."
   ]
  },
  {
   "cell_type": "code",
   "execution_count": null,
   "metadata": {},
   "outputs": [],
   "source": []
  },
  {
   "cell_type": "markdown",
   "metadata": {},
   "source": [
    "6. Cree un código que juegue \"Piedra, papel y tijera\" con el usuario. La idea es que al usuario se le pida su elección entre \"piedra\", \"papel\" o \"tijera\" y luego la máquina haga una elección aleatoria entre las 3 opciones. Luego usted deberá comunicar el resultado del juego."
   ]
  },
  {
   "cell_type": "code",
   "execution_count": 45,
   "metadata": {},
   "outputs": [
    {
     "name": "stdout",
     "output_type": "stream",
     "text": [
      "Tijera\n"
     ]
    },
    {
     "data": {
      "text/plain": [
       "'Piedra'"
      ]
     },
     "execution_count": 45,
     "metadata": {},
     "output_type": "execute_result"
    }
   ],
   "source": [
    "import numpy as np\n",
    "\n",
    "mi_eleccion = \"Tijera\"\n",
    "print(mi_eleccion)\n",
    "\n",
    "np.random.choice([\"Piedra\", \"Papel\", \"Tijera\"])"
   ]
  }
 ],
 "metadata": {
  "kernelspec": {
   "display_name": "base",
   "language": "python",
   "name": "python3"
  },
  "language_info": {
   "codemirror_mode": {
    "name": "ipython",
    "version": 3
   },
   "file_extension": ".py",
   "mimetype": "text/x-python",
   "name": "python",
   "nbconvert_exporter": "python",
   "pygments_lexer": "ipython3",
   "version": "3.11.4"
  }
 },
 "nbformat": 4,
 "nbformat_minor": 2
}
