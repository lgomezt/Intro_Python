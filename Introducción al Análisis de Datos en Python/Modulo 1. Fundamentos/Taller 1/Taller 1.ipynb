{
 "cells": [
  {
   "cell_type": "markdown",
   "metadata": {},
   "source": [
    "# Taller 1\n",
    "\n",
    "## Instrucciones generales\n",
    "\n",
    "1. Para desarrollar el *cuaderno* primero debe descargarlo.\n",
    "\n",
    "2. Para responder cada inciso deberá utilizar el espacio debidamente especificado.\n",
    "\n",
    "3. La actividad se considera entregada para calificación cuando el *cuaderno* de jupyter notebook con extensión `.ipynb` se sube al espacio correspondiente en el aula de Bloque Neón. Ningún material adicional será revisado.\n",
    "\n",
    "4. La solución del taller debe ser realizado en **parejas**. No se aceptaran talleres de individuales. Para inscribir su equipo debe llenar el siguiente [excel](https://uniandes.sharepoint.com/:x:/s/CursosMECA/ER_mjtU1eC5GiJbydzkCM-IB_iO5Btn7BC1_dUJ59qeGEA?e=DmGq8a) usando su *correo uniandes*.\n",
    "\n",
    "5. El cuaderno debe poderse correr sin errores al momento de evaluar.\n",
    "\n",
    "## Criterios de evaluación.\n",
    "Estos pueden ser consultados con más detalle en la rúbrica presente en Bloque Neón. A grandes rasgos, en cada uno de los incisos se evaluará su solución y se espera que sea igual a la estipulada en el enunciado. Adicionalmente, su calificación podrá ser penalizada por los siguientes items:\n",
    "\n",
    "- Falta de seguimiento de las instrucciones.\n",
    "- Código no-human readable. \n",
    "- Falta de una debida explicación y comentarios al código.\n",
    "\n",
    "A continuación se listan los puntajes máximos para cada punto:\n",
    "| **Punto** | **Puntaje Máximo** |\n",
    "|:---------:|:------------------:|\n",
    "|     1     |         0.5        |\n",
    "|     2     |         2.5        |\n",
    "|     3     |         2.0        |\n",
    "\n",
    "Cada subnumeral del punto 2 y 3 vale lo mismo.\n",
    "\n",
    "Este Taller evalúa los tópicos de la semana 1 a la 4 y tiene el valor de un 30% en su calificación final."
   ]
  },
  {
   "cell_type": "markdown",
   "metadata": {},
   "source": [
    "# Punto 1. Calentamiento"
   ]
  },
  {
   "cell_type": "markdown",
   "metadata": {},
   "source": [
    "Construya una función que represente el lanzamiento de un dado de 6 caras. Lance el dado 1000 veces y guarde sus resultado en un vector. Calcule la media empírica y el valor esperado (teórico) de lanzar el mismo dado y compare los resultados. "
   ]
  },
  {
   "cell_type": "code",
   "execution_count": null,
   "metadata": {},
   "outputs": [],
   "source": []
  },
  {
   "cell_type": "markdown",
   "metadata": {},
   "source": [
    "## Punto 2. Construir el album de Panini\n",
    "\n",
    "Ahora hagamos una simulación más compleja.\n",
    "\n",
    "¿Cuántos sobres del album de Panini del Mundial necesito comprar para poder llenarlo? Supongamos lo siguiente:\n",
    "- El album tiene 638 monas/laminitas.\n",
    "- Todas las monas son igual de probables de encontrarse en los sobres.\n",
    "- Un sobre puede tener monas/laminitas repetidas.\n",
    "- Cada sobre trae 5 monas/laminas.\n",
    "- No es posible intercambiar monas con otras personas.\n",
    "\n",
    "Para responder esta pregunta podríamos tomar un camino [analítico](http://www.unige.ch/math/folks/velenik/Vulg/Paninimania.pdf) o de simulación computacional. En este caso, tomaremos el último.\n",
    "\n",
    "### Punto 2.1.\n",
    "Primero creemos **una función** que cree un album de Panini vacío. En este mundo abstracto, representamos un album como la lista de espacios vacías que nos faltan por llenar."
   ]
  },
  {
   "cell_type": "code",
   "execution_count": null,
   "metadata": {},
   "outputs": [],
   "source": []
  },
  {
   "cell_type": "markdown",
   "metadata": {},
   "source": [
    "Para este punto su respuesta se debe ver de la siguiente manera:\n",
    "\n",
    "```python\n",
    "album_i = estrenar_album()\n",
    "album_i\n",
    "```\n",
    "\n",
    "```\n",
    "[1, 2, ..., 638]\n",
    "```"
   ]
  },
  {
   "cell_type": "markdown",
   "metadata": {},
   "source": [
    "### Punto 2.2\n",
    "\n",
    "Ahora vamos a crear una función que sea abrir un sobre de monas/laminitas. Es decir, cree una función que escoja 5 números al azar entre 1 y 638, todos con igual probabilidad de ocurrencia y con reemplazo (es decir, en un sobre puede tener repetidos).\n",
    "\n",
    "> Hint: La distribución uniforme le puede ser útil acá."
   ]
  },
  {
   "cell_type": "code",
   "execution_count": null,
   "metadata": {},
   "outputs": [],
   "source": []
  },
  {
   "cell_type": "markdown",
   "metadata": {},
   "source": [
    "Para este punto su respuesta se debe ver de la siguiente manera:\n",
    "\n",
    "```python\n",
    "sobre_j = abrir_sobre()\n",
    "sobre_j\n",
    "```\n",
    "\n",
    "```\n",
    "array([ 64, 377, 159, 619, 332])\n",
    "```"
   ]
  },
  {
   "cell_type": "markdown",
   "metadata": {},
   "source": [
    "### Punto 2.3.\n",
    "\n",
    "Ahora definamos una función que sea pegar las monas/laminitas de nuestro paquete en nuestro album. \n",
    "\n",
    "Para hacer esto suponemos que nuestro `album_i` creado en el punto 2.1. es una lista con todas las monas/laminitas que hacen falta para llenar el album. En ese sentido, \"pegar\" las monas/laminitas en este consiste en eliminar los números que se tienen en el `sobre_j` del `album_i`.  "
   ]
  },
  {
   "cell_type": "code",
   "execution_count": null,
   "metadata": {},
   "outputs": [],
   "source": []
  },
  {
   "cell_type": "markdown",
   "metadata": {},
   "source": [
    "A modo de ejemplo, su código debe funcionar de la siguiente manera:\n",
    "\n",
    "```python\n",
    "# A modo de ejemplo, peguemos la mona 1\n",
    "\n",
    "# Primero veamos las primeras 5 monas que nos faltan pegar\n",
    "album_i[0:5]\n",
    "```\n",
    "\n",
    "```\n",
    "[1, 2, 3, 4, 5]\n",
    "``` \n",
    "\n",
    "```python\n",
    "# Peguemos la mona 1 veamos que sucede\n",
    "album_i = pegar_monas(album = album_i, monas = [1])\n",
    "album_i[0:5]\n",
    "```\n",
    "\n",
    "```\n",
    "[2, 3, 4, 5, 6]\n",
    "``` \n",
    "\n",
    "Note que ya el elemento \"1\" (la lamina/mona \"1\") no hace parte del `album_i`. Su función debe funcionar entonces de la siguiente manera:\n",
    "\n",
    "```python\n",
    "album_i = pegar_monas(album = album_i, monas = sobre_j)\n",
    "```\n"
   ]
  },
  {
   "cell_type": "markdown",
   "metadata": {},
   "source": [
    "## Punto 3. Simulaciones\n",
    "Cree una simulación que consista en saber cuántos sobres necesitamos para llenar un album como el descrito en el punto 2.\n",
    "\n",
    "### Punto 3.1.\n",
    "\n",
    "Para hacerlo apóyese de un `while loop` bajo la siguiente lógica:\n",
    "\n",
    "```python\n",
    "# Definimos condiciones iniciales\n",
    "album_i = estrenar_album()\n",
    "\n",
    "# Vamos a abrir sobres hasta que llenemos el album\n",
    "while len(album_i) > 0:\n",
    "    # Simulamos abrir un sobre\n",
    "    \n",
    "    # Simulamos pegar las laminas en el sobre\n",
    "    \n",
    "    # Llevamos el conteo de cuántos sobres llevamos\n",
    "    n_sobres += 1    \n",
    "\n",
    "# Tenemos que abrir n_sobres\n",
    "n_sobres\n",
    "```"
   ]
  },
  {
   "cell_type": "code",
   "execution_count": null,
   "metadata": {},
   "outputs": [],
   "source": []
  },
  {
   "cell_type": "markdown",
   "metadata": {},
   "source": [
    "### Punto 3.2.\n",
    "Note que cada vez que corre la solución anterior le da un resultado de número de sobres diferente. Esto se da por la naturaleza aleatoria del problema.\n",
    "\n",
    "Simule el proceso anterior 1000 veces y guarde el número de sobres que es necesario comprar para llenar el album para cada simulación. "
   ]
  },
  {
   "cell_type": "code",
   "execution_count": null,
   "metadata": {},
   "outputs": [],
   "source": []
  },
  {
   "cell_type": "markdown",
   "metadata": {},
   "source": [
    "Utilice el siguiente código para dibujar la distribución de los sobres necesarios para llenar el album.\n",
    "\n",
    "```python\n",
    "import matplotlib.pyplot as plt\n",
    "\n",
    "plt.hist(simulaciones, bins = 30)\n",
    "plt.title('Simulación de abrir 1000 sobres', size = 12)\n",
    "plt.xlabel('Cantidad de sobres')\n",
    "plt.ylabel('Cantidad')\n",
    "```"
   ]
  },
  {
   "cell_type": "code",
   "execution_count": null,
   "metadata": {},
   "outputs": [],
   "source": []
  },
  {
   "cell_type": "markdown",
   "metadata": {},
   "source": [
    "## Bono.\n",
    "Este solo será valido si se responden todas las preguntas del bono y se muestra la solución.\n",
    "\n",
    "1. Construya una Curva de Probabilidad Acumulada sobre `n_sobres` y grafiquela. \n",
    "2. Interprete la Curva."
   ]
  },
  {
   "cell_type": "code",
   "execution_count": null,
   "metadata": {},
   "outputs": [],
   "source": []
  }
 ],
 "metadata": {
  "kernelspec": {
   "display_name": "Python 3 (ipykernel)",
   "language": "python",
   "name": "python3"
  },
  "language_info": {
   "codemirror_mode": {
    "name": "ipython",
    "version": 3
   },
   "file_extension": ".py",
   "mimetype": "text/x-python",
   "name": "python",
   "nbconvert_exporter": "python",
   "pygments_lexer": "ipython3",
   "version": "3.11.5"
  }
 },
 "nbformat": 4,
 "nbformat_minor": 2
}
