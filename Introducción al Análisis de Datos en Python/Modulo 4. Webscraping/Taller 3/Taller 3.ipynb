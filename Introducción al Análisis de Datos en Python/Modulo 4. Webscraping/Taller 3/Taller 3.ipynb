{
 "cells": [
  {
   "cell_type": "markdown",
   "metadata": {},
   "source": [
    "# Taller 3\n",
    "\n",
    "## Instrucciones generales\n",
    "\n",
    "1. Para desarrollar el *cuaderno* primero debe descargarlo.\n",
    "\n",
    "2. Para responder cada inciso deberá utilizar el espacio debidamente especificado.\n",
    "\n",
    "3. La actividad se considera entregada para calificación cuando el *cuaderno* de jupyter notebook con extensión `.ipynb` se sube al espacio correspondiente en el aula de Bloque Neón. Ningún material adicional será revisado.\n",
    "\n",
    "4. La solución del taller debe ser realizado en las mismas **parejas** con las que realizó el Taller 1. No se aceptaran talleres de individuales. En caso de no tener un equipo asignado, informar al equipo docente.\n",
    "\n",
    "5. El cuaderno debe poderse correr sin errores al momento de evaluar.\n",
    "\n",
    "## Criterios de evaluación.\n",
    "A grandes rasgos, en cada uno de los incisos se evaluará su solución y se espera que sea igual a la estipulada en el enunciado. Adicionalmente, su calificación podrá ser penalizada por los siguientes items:\n",
    "\n",
    "- Falta de seguimiento de las instrucciones.\n",
    "- Código no-human readable. \n",
    "- Falta de una debida explicación y comentarios al código.\n",
    "\n",
    "A continuación se listan los puntajes máximos para cada punto:\n",
    "| **Punto** | **Puntaje Máximo** |\n",
    "|:---------:|:------------------:|\n",
    "|    1      |         2.0        |\n",
    "|     2     |         3.0        |\n",
    "\n",
    "\n",
    "Este Taller evalúa los tópicos de webscraping y tiene el valor de un 20% en su calificación final."
   ]
  },
  {
   "cell_type": "markdown",
   "metadata": {},
   "source": [
    "# 1. Scraping Win Sports\n",
    "Ingrese a la página web [www.winsports.co](https://www.winsports.co/) y realice un código en Python que haga un webscraping de la tabla de posiciones de la **Liga BetPlay Dimayor 2024-II**. El resultado final debe ser un dataframe"
   ]
  },
  {
   "cell_type": "code",
   "execution_count": null,
   "metadata": {},
   "outputs": [],
   "source": []
  },
  {
   "cell_type": "markdown",
   "metadata": {},
   "source": [
    "# 2. Scraping Metro Cuadrado\n",
    "Ingrese a la página web de Metro Cuadrado y filtre su busqueda para quedarse solo con los apartamentos en arriendo en Chapinero, Bogotá ([este link](https://www.metrocuadrado.com/arriendo/bogota/chapinero/?search=form)). \n",
    "\n",
    "### 2.1. Encuentre su universo de trabajo.\n",
    "Cree un webscraping que extraiga todos los hipervínculos de los apartamentos en arriendo en Bogotá (un poco más de 500 inmuebles). Luego consolide toda esta información en una lista.\n",
    "\n",
    "Para realizar esto puede tomar dos caminos:\n",
    "- Camino A. Entrar al menu de `Inspect` > `Network` y buscar el request específico que trae la información a la página. Para que este funcione adecuadamente, tendrá que reconstruir el `Request Headers`. \n",
    "- Camino B. Utilizar Selenium para replicar el comportamiento de un humano que navega la página web. Este método es más intuitivo de programar pero será menos eficiente y susceptible a errores de red.\n",
    "\n",
    "Para cualquiera de los dos caminos, note que tendrá que navegar por varios requests o varios clicks para poder recolectar todos los inmuebles. En caso de que esto se le dificulte, trate de realizar por lo menos un subconjunto de la tarea completa primero. "
   ]
  },
  {
   "cell_type": "code",
   "execution_count": null,
   "metadata": {},
   "outputs": [],
   "source": []
  },
  {
   "cell_type": "markdown",
   "metadata": {},
   "source": [
    "### 2.2. Descargue la información.\n",
    "Haga otro webscraping que vaya iterando sobre cada uno de los elementos de la lista de inmuebles y extraiga la información relevante del inmueble. Construya un dataframe con sus resultados."
   ]
  },
  {
   "cell_type": "code",
   "execution_count": null,
   "metadata": {},
   "outputs": [],
   "source": [
    "import requests\n",
    "from bs4 import BeautifulSoup\n",
    "import json\n",
    "import pandas as pd"
   ]
  },
  {
   "cell_type": "code",
   "execution_count": null,
   "metadata": {},
   "outputs": [],
   "source": [
    "url1 = \"https://www.metrocuadrado.com/inmueble/arriendo-casa-bogota-quinta-camacho-5-habitaciones-4-banos-2-garajes/5044-M4945434\"\n",
    "url2 = \"https://www.metrocuadrado.com/inmueble/venta-apartamento-bogota-villa-javier-3-habitaciones-3-banos-3-garajes/5044-M2972010\"\n",
    "url3 = \"https://www.metrocuadrado.com/inmueble/venta-apartamento-bogota-la-cabrera-4-habitaciones-5-banos-3-garajes/5044-M4436715\"\n",
    "urls = [url1, url2, url3]"
   ]
  },
  {
   "cell_type": "code",
   "execution_count": null,
   "metadata": {},
   "outputs": [
    {
     "name": "stdout",
     "output_type": "stream",
     "text": [
      "Scrapeando URL # 1\n",
      "Scrapeando URL # 2\n",
      "Scrapeando URL # 3\n"
     ]
    }
   ],
   "source": [
    "apartamentos = pd.DataFrame()\n",
    "\n",
    "for i, url in enumerate(urls):\n",
    "    print(\"Scrapeando URL #\", i+1)\n",
    "\n",
    "    response = requests.get(url)\n",
    "    soup = BeautifulSoup(response.text, \"html.parser\")\n",
    "    script_tag = soup.find(\"script\", id = \"__NEXT_DATA__\")\n",
    "    data = json.loads(script_tag.string)\n",
    "    final_data = data[\"props\"]['initialState']['realestate'][\"basic\"]\n",
    "    fila = pd.DataFrame({\"property_id\": final_data[\"propertyId\"], \n",
    "                \"total_arriendo\": final_data['rentTotalPrice'], \n",
    "                \"area_construida\": final_data['areac']}, index = [0])\n",
    "    apartamentos = pd.concat([apartamentos, fila], axis = 0)"
   ]
  },
  {
   "cell_type": "code",
   "execution_count": null,
   "metadata": {},
   "outputs": [
    {
     "data": {
      "text/plain": [
       "{'lon': -74.030014, 'lat': 5.026003}"
      ]
     },
     "execution_count": 36,
     "metadata": {},
     "output_type": "execute_result"
    }
   ],
   "source": [
    "final_data['coordinates']\n",
    "\n",
    "# Leaflet\n",
    "# geopandas"
   ]
  },
  {
   "cell_type": "markdown",
   "metadata": {},
   "source": [
    "2.3. Grafique los resultados.\n",
    "- Cree un histograma que permita visualizar la distribución de los precios por metro cuadrado. \n",
    "- Cree una gráfica que le permita comparar las distribuciones de los precios por estrato.\n",
    "- Cree una gráfica que le permita comparar las distribuciones de los precios por antigüedad del edifico."
   ]
  },
  {
   "cell_type": "code",
   "execution_count": null,
   "metadata": {},
   "outputs": [],
   "source": []
  },
  {
   "cell_type": "markdown",
   "metadata": {},
   "source": [
    "3. Bono\n",
    "Encuentre la latitud y longitud de cada uno de los apartamentos de su muestra utilizando webscraping. Grafique los resultados en un mapa de Bogotá.\n",
    "\n",
    "Describa (no tiene que hacerlo) cómo podría construir una medida de valor de metro cuadrado por cuadra en Chapinero."
   ]
  }
 ],
 "metadata": {
  "kernelspec": {
   "display_name": "base",
   "language": "python",
   "name": "python3"
  },
  "language_info": {
   "codemirror_mode": {
    "name": "ipython",
    "version": 3
   },
   "file_extension": ".py",
   "mimetype": "text/x-python",
   "name": "python",
   "nbconvert_exporter": "python",
   "pygments_lexer": "ipython3",
   "version": "3.12.4"
  }
 },
 "nbformat": 4,
 "nbformat_minor": 2
}
