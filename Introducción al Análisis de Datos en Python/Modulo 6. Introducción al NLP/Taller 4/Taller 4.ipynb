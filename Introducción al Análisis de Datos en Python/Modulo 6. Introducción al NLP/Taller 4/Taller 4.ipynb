{
 "cells": [
  {
   "cell_type": "markdown",
   "metadata": {},
   "source": [
    "# Taller 4\n",
    "\n",
    "## Instrucciones generales\n",
    "\n",
    "1. Para desarrollar el *cuaderno* primero debe descargarlo.\n",
    "\n",
    "2. La actividad se considera entregada para calificación cuando el *cuaderno* de jupyter notebook con extensión `.ipynb` se sube al espacio correspondiente en el aula de Bloque Neón. Ningún material adicional será revisado.\n",
    "\n",
    "3. La solución del taller debe ser realizado en las mismas **parejas** con las que realizó el Taller 1. No se aceptaran talleres de individuales. En caso de no tener un equipo asignado, informar al equipo docente.\n",
    "\n",
    "4. El cuaderno debe poderse correr sin errores al momento de evaluar."
   ]
  },
  {
   "cell_type": "markdown",
   "metadata": {},
   "source": [
    ">Este taller tiene como objetivo fomentar la exploración autónoma y la presentación didáctica de paquetes de Python no cubiertos en clase. Cada equipo seleccionará un paquete de su interés, lo explorará en profundidad y creará un Jupyter Notebook que sirva como un tutorial detallado para otros usuarios interesados en aprender sobre este paquete."
   ]
  },
  {
   "cell_type": "markdown",
   "metadata": {},
   "source": [
    "**Instrucciones:**\n",
    "\n",
    "1. **Selección del Paquete:**\n",
    "   - Elige un paquete de Python que no se haya discutido en clase y que sea relevante para la economía aplicada o áreas relacionadas. También es valido trabajar con algún paquete o tópico ya visto en clase siempre y cuando se haya discutido previamente con el profesor magistral. Básicamente el requisito es que tengan mucha más profundidad en su tutorial que lo visto en clase.\n",
    "   - Asegúrate de que el paquete esté bien documentado y mantenido.\n",
    "   - Algunas recomendaciones de nosotros como equipo docente son las siguientes:\n",
    "       - [GeoPandas](https://geopandas.org/en/stable/) Trabajar con datos espaciales de forma sencilla.\n",
    "       - [statsmodels](https://www.statsmodels.org/stable/index.html) Econometría básica en Python. Sigue un estilo similar al de la estimación de modelos en R.\n",
    "       - [scikit-learn](https://scikit-learn.org/stable/) El paquete más importante para hacer Machine Learning en Python.\n",
    "       - [PyTorch](https://pytorch.org/) El paquete más importante para la IA hoy en día. Es bastante avanzado y se usa para entrenar redes neuronales de todo tipo.\n",
    "       - [python-docx](https://python-docx.readthedocs.io/en/latest/) Crear documentos de Word desde Python. Infinitamente útil para automatizar la construcción de actas o informes.\n",
    "       - [NLTK](https://www.nltk.org/) y/o [spaCy](https://spacy.io/) para hacer Procesamiento de Lenguaje Natural en Python.\n",
    "       - [dash](https://dash.plotly.com/) Construye aplicaciones web desde Python.\n",
    "   - Si no se quieren enfocar en un paquete particular, también se pueden enfocar en resolver un problema que utilice diferentes paquetes y el tutorial sea un paso a paso para resolver el problema. Por ejemplo: Estimar el la tasa de criminalidad por cuadra en Bogotá; hacer un análisis de la calidad de los colegios en Colombia usando información geográfica de acceso a servicios públicos de los municipios y el puntaje de las Pruebas Saber 11; Trading algorítmico de Cryptos a partir de una API que descargue información en tiempo real y evalúe si hay una tendencia creciente o decreciente; Función de limpieza automática de variables de texto (dirección, nombres, etc).\n",
    "       \n",
    "2. **Creación del Tutorial:**\n",
    "   - **Instalación:** Incluye instrucciones claras y precisas sobre cómo instalar el paquete en diferentes sistemas operativos, si aplica.\n",
    "   - **Descripción y Utilidad:** Explica qué es el paquete, quién lo desarrolla, y sus principales aplicaciones en el mundo real.\n",
    "   - **Funcionalidades Principales:** Describe y demuestra cómo utilizar las principales funciones del paquete con ejemplos de código claros y explicativos. Mínimo debes documentar y explicar como utilizar 10 funciones del paquete.\n",
    "   - **Tutorial Práctico:** Desarrolla un caso práctico completo donde utilices el paquete para resolver un problema específico o realizar un análisis de datos relevante para la economía aplicada. Asegúrate de incluir comentarios en el código para guiar a los lectores a través de tu razonamiento. Entre más completo y complejo sea el tutorial, mejor será su calificación. Por complejidad entendemos el uso de multiples funciones para procesar inputs y la necesidad de utilizar diferentes paquetes para lograr un resultado satisfactorio.\n",
    "\n",
    "3. **Presentación y Estilo:**\n",
    "   - Tu notebook debe ser limpio, organizado y estéticamente agradable. Utiliza encabezados, imágenes, y formato de Markdown para mejorar la legibilidad.\n",
    "\n",
    "4. **Documentación y Referencias:**\n",
    "   - Proporciona enlaces a la documentación oficial del paquete y cita cualquier recurso adicional que hayas utilizado para aprender sobre el paquete.\n",
    "\n",
    "### Rúbrica de Calificación\n",
    "\n",
    "| Criterio                          | Excelente (90-100%)          | Bueno (70-89%)              | Adecuado (50-69%)            | Insuficiente (0-49%)          |\n",
    "|-----------------------------------|------------------------------|-----------------------------|------------------------------|-------------------------------|\n",
    "| **Instalación y Configuración**   | Instrucciones completas y detalladas. | Instrucciones básicas, puede faltar claridad o detalle. | Instrucciones incompletas o incorrectas. | Instrucciones insuficientes |\n",
    "| **Descripción y Utilidad**        | Explicación detallada y ejemplos de aplicaciones reales. | Buena descripción con algunos ejemplos prácticos. | Descripción general sin suficiente profundidad. | Falta de descripción o relevancia. |\n",
    "| **Funcionalidades Principales**   | Demostración completa y didáctica de funcionalidades, con ejemplos claros y útiles. | Buen uso de ejemplos, pero puede faltar profundidad en la explicación. | Ejemplos básicos, falta de profundidad en la demostración. | Falta de ejemplos claros o incorrectos. |\n",
    "| **Tutorial Práctico**             | Caso práctico relevante y bien desarrollado, excelente integración del paquete. | Caso práctico adecuado, buena integración del paquete. | Caso práctico básico, uso limitado del paquete. | Caso práctico pobre o falta de integración del paquete. |\n",
    "| **Presentación y Documentación**  | Estéticamente agradable, bien organizado, con excelente uso de recursos gráficos y de Markdown. | Bien organizado, uso adecuado de recursos gráficos y de Markdown. | Organización básica, uso limitado de herramientas de presentación. | Pobre presentación, falta de organización y recursos gráficos. |\n",
    "\n",
    "Este taller no solo evaluará su capacidad técnica, sino también su habilidad para enseñar y comunicar conceptos complejos de manera efectiva. "
   ]
  }
 ],
 "metadata": {
  "kernelspec": {
   "display_name": "base",
   "language": "python",
   "name": "python3"
  },
  "language_info": {
   "codemirror_mode": {
    "name": "ipython",
    "version": 3
   },
   "file_extension": ".py",
   "mimetype": "text/x-python",
   "name": "python",
   "nbconvert_exporter": "python",
   "pygments_lexer": "ipython3",
   "version": "3.9.18"
  }
 },
 "nbformat": 4,
 "nbformat_minor": 2
}
