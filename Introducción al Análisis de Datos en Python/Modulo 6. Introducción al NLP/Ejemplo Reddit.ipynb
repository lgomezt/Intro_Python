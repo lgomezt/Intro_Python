{
 "cells": [
  {
   "cell_type": "markdown",
   "metadata": {},
   "source": [
    "## Taller de Programación en Python\n",
    "### Profesor: Lucas Gómez Tobón"
   ]
  },
  {
   "cell_type": "markdown",
   "metadata": {},
   "source": [
    "## Using APIs and Sentimental Analysis"
   ]
  },
  {
   "cell_type": "markdown",
   "metadata": {},
   "source": [
    "### [Reddit API](https://www.reddit.com/dev/api/):\n",
    "Go to [Reddit Apps](https://www.reddit.com/prefs/apps):\n",
    "- Log in to your Reddit account and navigate to this page.\n",
    "- Click \"Create App\" or \"Create Another App\".\n",
    "- Choose the **script option**.\n",
    "- Fill in the **Redirect URI**. You can use `http://localhost:8080` because is a local development.\n",
    "- You will get a `Personal use script` and `Secret` values. \n",
    "\n",
    "**VERY IMPORTANT: you should treat these values as confidential credentials, similar to a password. Avoid directly embedding your credentials in your code, especially if you’re sharing the code on platforms like GitHub.**\n",
    "> These credentials grant access to the Reddit API on behalf of your application. If someone else obtains them, they can misuse your app’s API access.\n"
   ]
  },
  {
   "cell_type": "markdown",
   "metadata": {},
   "source": [
    "### How to secure your credentials and use it in Python\n",
    "The easiest and most secure way to store credentials in a file and import them smoothly into Python is to use a `.env` file with `python-dotenv`:\n",
    "1. Create a `.env` File. In the root directory of your project, create a file named `credentials.env`:\n",
    "```\n",
    "CLIENT_ID=your_personal_use_script\n",
    "CLIENT_SECRET=your_secret\n",
    "```\n",
    "> **IMPORTANT NOTE** If you are using Git to manage your code versions, you **MUST** add `credentials.env` to `.gitignore.` to prevent sharing this information with unintended third parties.\n",
    "\n",
    "2. Install `python-dotenv`. Install the `python-dotenv` package if you don’t already have it:\n",
    "```bash\n",
    "pip install python-dotenv\n",
    "```\n",
    "3. Load the `.env` File in Python"
   ]
  },
  {
   "cell_type": "code",
   "execution_count": null,
   "metadata": {},
   "outputs": [],
   "source": [
    "from dotenv import load_dotenv\n",
    "import os\n",
    "\n",
    "# Load the .env file\n",
    "load_dotenv('credentials.env')\n",
    "\n",
    "# Retrieve the credentials\n",
    "CLIENT_ID = os.getenv(\"CLIENT_ID\")\n",
    "CLIENT_SECRET = os.getenv(\"CLIENT_SECRET\")"
   ]
  },
  {
   "cell_type": "markdown",
   "metadata": {},
   "source": [
    "- Install the Python Reddit API Wrapper (`praw`) library: \n",
    "```bash\n",
    "pip install praw\n",
    "```"
   ]
  },
  {
   "cell_type": "code",
   "execution_count": null,
   "metadata": {},
   "outputs": [],
   "source": [
    "import praw\n",
    "\n",
    "# Configure the Reddit API\n",
    "reddit = praw.Reddit(\n",
    "    client_id = CLIENT_ID,\n",
    "    client_secret = CLIENT_SECRET,\n",
    "    redirect_uri = \"http://localhost:8080\",\n",
    "    user_agent = \"Clase_Python_F24\"\n",
    ")"
   ]
  },
  {
   "cell_type": "code",
   "execution_count": null,
   "metadata": {},
   "outputs": [],
   "source": [
    "# Generate the authorization URL\n",
    "auth_url = reddit.auth.url(\n",
    "    scopes=[\"read\"], # This will determine what we can and can't do without this API\n",
    "    state=\"uniqueKey\", \n",
    "    duration=\"permanent\"\n",
    ")\n",
    "\n",
    "print(\"Visit this URL to authorize your app:\", auth_url)"
   ]
  },
  {
   "cell_type": "code",
   "execution_count": null,
   "metadata": {},
   "outputs": [],
   "source": [
    "# After authorization, you'll get a code in the URL\n",
    "# Example: http://localhost:8080/?state=uniqueKey&code=AUTH_CODE#_\n",
    "# Replace AUTH_CODE below with the code you receive\n",
    "auth_code = \"-afJeo-ETMY7_KOeR_cPTX7RckHtQw\" # NOT INCLUDE THE LAST #_\n",
    "\n",
    "# Use the auth code to get an access token\n",
    "token = reddit.auth.authorize(auth_code)\n",
    "print(\"Access token:\", token)"
   ]
  },
  {
   "cell_type": "markdown",
   "metadata": {},
   "source": [
    "We want to get the latest post from the [Bitcoin subreddit](https://www.reddit.com/r/Bitcoin/)"
   ]
  },
  {
   "cell_type": "code",
   "execution_count": null,
   "metadata": {},
   "outputs": [],
   "source": [
    "# Access the Bitcoin subreddit\n",
    "subreddit = reddit.subreddit('Bitcoin')\n",
    "latest_posts = subreddit.new(limit = 1000)"
   ]
  },
  {
   "cell_type": "code",
   "execution_count": null,
   "metadata": {},
   "outputs": [],
   "source": [
    "# Example with one post!\n",
    "\n",
    "# latest_post is an iterable\n",
    "post_i = next(latest_posts)"
   ]
  },
  {
   "cell_type": "code",
   "execution_count": null,
   "metadata": {},
   "outputs": [],
   "source": [
    "post_info = {\n",
    "        'title': post_i.title, # Post title\n",
    "        'content': post_i.selftext, # Post body (if any)\n",
    "        'url': post_i.url, # Post URL\n",
    "        'score': post_i.score, # Upvotes - Downvotes\n",
    "        'num_comments': post_i.num_comments, # Number of comments\n",
    "        'comments': [] # To store comments\n",
    "    }\n",
    "\n",
    "post_info"
   ]
  },
  {
   "cell_type": "code",
   "execution_count": null,
   "metadata": {},
   "outputs": [],
   "source": [
    "post_i.comments.replace_more(limit=None)\n",
    "comments = post_i.comments.list()\n",
    "comments"
   ]
  },
  {
   "cell_type": "code",
   "execution_count": null,
   "metadata": {},
   "outputs": [],
   "source": [
    "post_info['comments'].append({\n",
    "    'author': str(comments[0].author),\n",
    "    'content': comments[0].body,\n",
    "    'score': comments[0].score\n",
    "        })\n",
    "    \n",
    "post_info"
   ]
  },
  {
   "cell_type": "markdown",
   "metadata": {},
   "source": [
    "### Collect in a Data Frame"
   ]
  },
  {
   "cell_type": "code",
   "execution_count": null,
   "metadata": {},
   "outputs": [],
   "source": [
    "import time\n",
    "import datetime\n",
    "from tqdm import tqdm\n",
    "\n",
    "# Collect the 1000 posts and its comments in a Data Frame\n",
    "data = []  # Use a list to store rows temporarily\n",
    "\n",
    "# Convert the generator to a list to calculate size\n",
    "latest_posts = list(latest_posts)\n",
    "                    \n",
    "for p in tqdm(latest_posts):\n",
    "    data.append({\n",
    "        'title': p.title, # Post title\n",
    "        'content': p.selftext, # Post body (if any)\n",
    "        'author': str(p.author),\n",
    "        'url': p.url, # Post URL\n",
    "        'score': p.score, # Upvotes - Downvotes\n",
    "        'num_comments': p.num_comments, # Number of comments\n",
    "        'created_date': datetime.datetime.fromtimestamp(p.created_utc, datetime.UTC).strftime('%Y-%m-%d'),\n",
    "        'created_time': datetime.datetime.fromtimestamp(p.created_utc, datetime.UTC).strftime('%H:%M:%S'),\n",
    "        \"type\": \"Post\"\n",
    "    })\n",
    "\n",
    "    if p.num_comments > 0:\n",
    "        # Expand all comments\n",
    "        p.comments.replace_more(limit=None)  \n",
    "\n",
    "        # Flatten the comment tree into a list\n",
    "        MAX_RETRIES = 5\n",
    "        for attempt in range(MAX_RETRIES):\n",
    "            try:\n",
    "                # Flatten the comment tree into a list\n",
    "                all_comments = p.comments.list()\n",
    "                # Exit the loop if successful\n",
    "                break  \n",
    "            except praw.exceptions.ServerError:\n",
    "                print(f\"Server error occurred. Retrying... ({attempt + 1}/{MAX_RETRIES})\")\n",
    "                time.sleep(5)  \n",
    "        else:\n",
    "            print(\"Failed to retrieve data after multiple attempts.\")\n",
    "            # Skips the remaining code for the current p (post) and moves directly to the \n",
    "            # next post in latest_posts.\n",
    "            continue\n",
    "\n",
    "        if len(all_comments) >= 20:\n",
    "            # Sort comments by score (upvotes) in descending order\n",
    "            sorted_comments = sorted(all_comments, key=lambda c: c.score, reverse=True)\n",
    "\n",
    "            # Retrieve up to the top 20 most upvoted comments\n",
    "            top_comments = sorted_comments[:20]\n",
    "\n",
    "            all_comments = top_comments\n",
    "\n",
    "        for c in all_comments:\n",
    "            data.append({\n",
    "                'content': c.body,  # The text content of the comment\n",
    "                'author': str(c.author),   # Author of the comment\n",
    "                'score': c.score, # Upvotes - Downvotes\n",
    "                'created_date': datetime.datetime.fromtimestamp(c.created_utc, datetime.UTC).strftime('%Y-%m-%d'),\n",
    "                'created_time': datetime.datetime.fromtimestamp(c.created_utc, datetime.UTC).strftime('%H:%M:%S'),\n",
    "                'type': 'Comment'\n",
    "            })"
   ]
  },
  {
   "cell_type": "code",
   "execution_count": null,
   "metadata": {},
   "outputs": [],
   "source": [
    "import pandas as pd\n",
    "\n",
    "bitcoin = pd.DataFrame(data)"
   ]
  },
  {
   "cell_type": "code",
   "execution_count": null,
   "metadata": {},
   "outputs": [],
   "source": [
    "bitcoin[\"text\"] = bitcoin[\"title\"].fillna(\"\") + \" \" + bitcoin[\"content\"].fillna(\"\")\n",
    "bitcoin['num_comments'] = bitcoin['num_comments'].fillna(0)"
   ]
  },
  {
   "cell_type": "code",
   "execution_count": null,
   "metadata": {},
   "outputs": [],
   "source": [
    "bitcoin.to_csv(\"bitcoin_reddit.csv\", sep = \";\", index = False)"
   ]
  },
  {
   "cell_type": "code",
   "execution_count": null,
   "metadata": {},
   "outputs": [],
   "source": [
    "bitcoin.head()"
   ]
  },
  {
   "cell_type": "markdown",
   "metadata": {},
   "source": [
    "## Sentimental Analysis"
   ]
  },
  {
   "cell_type": "code",
   "execution_count": 1,
   "metadata": {},
   "outputs": [],
   "source": [
    "import pandas as pd \n",
    "\n",
    "bitcoin = pd.read_csv(\"bitcoin_reddit.csv\", sep = \";\")"
   ]
  },
  {
   "cell_type": "code",
   "execution_count": 2,
   "metadata": {},
   "outputs": [
    {
     "data": {
      "text/plain": [
       "(9660, 10)"
      ]
     },
     "execution_count": 2,
     "metadata": {},
     "output_type": "execute_result"
    }
   ],
   "source": [
    "bitcoin.shape"
   ]
  },
  {
   "cell_type": "code",
   "execution_count": 3,
   "metadata": {},
   "outputs": [
    {
     "data": {
      "text/html": [
       "<div>\n",
       "<style scoped>\n",
       "    .dataframe tbody tr th:only-of-type {\n",
       "        vertical-align: middle;\n",
       "    }\n",
       "\n",
       "    .dataframe tbody tr th {\n",
       "        vertical-align: top;\n",
       "    }\n",
       "\n",
       "    .dataframe thead th {\n",
       "        text-align: right;\n",
       "    }\n",
       "</style>\n",
       "<table border=\"1\" class=\"dataframe\">\n",
       "  <thead>\n",
       "    <tr style=\"text-align: right;\">\n",
       "      <th></th>\n",
       "      <th>title</th>\n",
       "      <th>content</th>\n",
       "      <th>author</th>\n",
       "      <th>url</th>\n",
       "      <th>score</th>\n",
       "      <th>num_comments</th>\n",
       "      <th>created_date</th>\n",
       "      <th>created_time</th>\n",
       "      <th>type</th>\n",
       "      <th>text</th>\n",
       "    </tr>\n",
       "  </thead>\n",
       "  <tbody>\n",
       "    <tr>\n",
       "      <th>0</th>\n",
       "      <td>Miles to go before I sleep…</td>\n",
       "      <td>NaN</td>\n",
       "      <td>Nirbhik</td>\n",
       "      <td>https://i.redd.it/c6m3kzlqoe2e1.jpeg</td>\n",
       "      <td>23</td>\n",
       "      <td>0.0</td>\n",
       "      <td>2024-11-22</td>\n",
       "      <td>07:33:23</td>\n",
       "      <td>Post</td>\n",
       "      <td>Miles to go before I sleep…</td>\n",
       "    </tr>\n",
       "    <tr>\n",
       "      <th>1</th>\n",
       "      <td>It's over 99000!!!</td>\n",
       "      <td>NaN</td>\n",
       "      <td>No-Research8107</td>\n",
       "      <td>https://i.redd.it/14kzzl3coe2e1.gif</td>\n",
       "      <td>257</td>\n",
       "      <td>4.0</td>\n",
       "      <td>2024-11-22</td>\n",
       "      <td>07:31:33</td>\n",
       "      <td>Post</td>\n",
       "      <td>It's over 99000!!!</td>\n",
       "    </tr>\n",
       "    <tr>\n",
       "      <th>2</th>\n",
       "      <td>NaN</td>\n",
       "      <td>100k legendary wall about to fall</td>\n",
       "      <td>tommy4019</td>\n",
       "      <td>NaN</td>\n",
       "      <td>9</td>\n",
       "      <td>0.0</td>\n",
       "      <td>2024-11-22</td>\n",
       "      <td>07:37:53</td>\n",
       "      <td>Comment</td>\n",
       "      <td>100k legendary wall about to fall</td>\n",
       "    </tr>\n",
       "    <tr>\n",
       "      <th>3</th>\n",
       "      <td>NaN</td>\n",
       "      <td>Non-believers: What!? 99000!? There's no way t...</td>\n",
       "      <td>MofoFTW</td>\n",
       "      <td>NaN</td>\n",
       "      <td>3</td>\n",
       "      <td>0.0</td>\n",
       "      <td>2024-11-22</td>\n",
       "      <td>14:37:09</td>\n",
       "      <td>Comment</td>\n",
       "      <td>Non-believers: What!? 99000!? There's no way ...</td>\n",
       "    </tr>\n",
       "    <tr>\n",
       "      <th>4</th>\n",
       "      <td>NaN</td>\n",
       "      <td>Remember when bitcoin was only $9000? Vegeta r...</td>\n",
       "      <td>nicsenespomnem</td>\n",
       "      <td>NaN</td>\n",
       "      <td>3</td>\n",
       "      <td>0.0</td>\n",
       "      <td>2024-11-22</td>\n",
       "      <td>15:53:46</td>\n",
       "      <td>Comment</td>\n",
       "      <td>Remember when bitcoin was only $9000? Vegeta ...</td>\n",
       "    </tr>\n",
       "  </tbody>\n",
       "</table>\n",
       "</div>"
      ],
      "text/plain": [
       "                         title  \\\n",
       "0  Miles to go before I sleep…   \n",
       "1           It's over 99000!!!   \n",
       "2                          NaN   \n",
       "3                          NaN   \n",
       "4                          NaN   \n",
       "\n",
       "                                             content           author  \\\n",
       "0                                                NaN          Nirbhik   \n",
       "1                                                NaN  No-Research8107   \n",
       "2                  100k legendary wall about to fall        tommy4019   \n",
       "3  Non-believers: What!? 99000!? There's no way t...          MofoFTW   \n",
       "4  Remember when bitcoin was only $9000? Vegeta r...   nicsenespomnem   \n",
       "\n",
       "                                    url  score  num_comments created_date  \\\n",
       "0  https://i.redd.it/c6m3kzlqoe2e1.jpeg     23           0.0   2024-11-22   \n",
       "1   https://i.redd.it/14kzzl3coe2e1.gif    257           4.0   2024-11-22   \n",
       "2                                   NaN      9           0.0   2024-11-22   \n",
       "3                                   NaN      3           0.0   2024-11-22   \n",
       "4                                   NaN      3           0.0   2024-11-22   \n",
       "\n",
       "  created_time     type                                               text  \n",
       "0     07:33:23     Post                       Miles to go before I sleep…   \n",
       "1     07:31:33     Post                                It's over 99000!!!   \n",
       "2     07:37:53  Comment                  100k legendary wall about to fall  \n",
       "3     14:37:09  Comment   Non-believers: What!? 99000!? There's no way ...  \n",
       "4     15:53:46  Comment   Remember when bitcoin was only $9000? Vegeta ...  "
      ]
     },
     "execution_count": 3,
     "metadata": {},
     "output_type": "execute_result"
    }
   ],
   "source": [
    "bitcoin.head()"
   ]
  },
  {
   "cell_type": "code",
   "execution_count": null,
   "metadata": {},
   "outputs": [],
   "source": [
    "# !pip install 'transformers[torch]'"
   ]
  },
  {
   "cell_type": "code",
   "execution_count": null,
   "metadata": {},
   "outputs": [],
   "source": [
    "# !pip install torch torchvision torchaudio"
   ]
  },
  {
   "cell_type": "code",
   "execution_count": 9,
   "metadata": {},
   "outputs": [
    {
     "name": "stdout",
     "output_type": "stream",
     "text": [
      "GPU is not available.\n"
     ]
    }
   ],
   "source": [
    "import torch\n",
    "\n",
    "if torch.cuda.is_available():\n",
    "    print(f\"GPU is available: {torch.cuda.get_device_name(0)}\")\n",
    "    device = 0 # Use the first GPU\n",
    "else:\n",
    "    print(\"GPU is not available.\")\n",
    "    device = -1"
   ]
  },
  {
   "cell_type": "markdown",
   "metadata": {},
   "source": [
    "Models:\n",
    "- [bertweet-sentiment-analysis](https://huggingface.co/finiteautomata/bertweet-base-sentiment-analysis?text=to+the+moon%21)\n",
    "- [DistilRoberta-financial-sentiment](https://huggingface.co/mrm8488/distilroberta-finetuned-financial-news-sentiment-analysis?text=To+the+moon)\n",
    "\n",
    "### Bertweet"
   ]
  },
  {
   "cell_type": "code",
   "execution_count": 14,
   "metadata": {},
   "outputs": [],
   "source": [
    "# !pip install emoji==0.6.0"
   ]
  },
  {
   "cell_type": "code",
   "execution_count": 111,
   "metadata": {},
   "outputs": [],
   "source": [
    "from transformers import pipeline\n",
    "\n",
    "pipe_bert = pipeline(\"text-classification\", \n",
    "                     model = \"finiteautomata/bertweet-base-sentiment-analysis\",\n",
    "                     device = device,\n",
    "                     # Return scores for all classes\n",
    "                     top_k = None,\n",
    "                     # batch_size = 2\n",
    "                     ) "
   ]
  },
  {
   "cell_type": "code",
   "execution_count": 71,
   "metadata": {},
   "outputs": [
    {
     "data": {
      "text/plain": [
       "[[{'label': 'NEU', 'score': 0.574583113193512},\n",
       "  {'label': 'POS', 'score': 0.4192067086696625},\n",
       "  {'label': 'NEG', 'score': 0.006210147403180599}],\n",
       " [{'label': 'NEG', 'score': 0.9746838808059692},\n",
       "  {'label': 'NEU', 'score': 0.0203066598623991},\n",
       "  {'label': 'POS', 'score': 0.005009472835808992}],\n",
       " [{'label': 'POS', 'score': 0.9921646118164062},\n",
       "  {'label': 'NEU', 'score': 0.004897412844002247},\n",
       "  {'label': 'NEG', 'score': 0.002938014455139637}]]"
      ]
     },
     "execution_count": 71,
     "metadata": {},
     "output_type": "execute_result"
    }
   ],
   "source": [
    "result = pipe_bert([\"Hello!\", \n",
    "                    'Goodbye, you broke my heart.', \n",
    "                    \"I love you!\"])\n",
    "\n",
    "result"
   ]
  },
  {
   "cell_type": "code",
   "execution_count": null,
   "metadata": {},
   "outputs": [],
   "source": [
    "# # Load model directly\n",
    "# from transformers import AutoTokenizer, AutoModelForSequenceClassification\n",
    "\n",
    "# tokenizer = AutoTokenizer.from_pretrained(\"finiteautomata/bertweet-base-sentiment-analysis\")\n",
    "# model = AutoModelForSequenceClassification.from_pretrained(\"finiteautomata/bertweet-base-sentiment-analysis\")"
   ]
  },
  {
   "cell_type": "code",
   "execution_count": 118,
   "metadata": {},
   "outputs": [
    {
     "name": "stderr",
     "output_type": "stream",
     "text": [
      "Token indices sequence length is longer than the specified maximum sequence length for this model (302 > 128). Running this sequence through the model will result in indexing errors\n"
     ]
    },
    {
     "ename": "IndexError",
     "evalue": "index out of range in self",
     "output_type": "error",
     "traceback": [
      "\u001b[0;31m---------------------------------------------------------------------------\u001b[0m",
      "\u001b[0;31mIndexError\u001b[0m                                Traceback (most recent call last)",
      "Cell \u001b[0;32mIn[118], line 4\u001b[0m\n\u001b[1;32m      1\u001b[0m \u001b[38;5;66;03m# The maximum sequence length supported by the model (128 tokens). When this happens, the model will \u001b[39;00m\n\u001b[1;32m      2\u001b[0m \u001b[38;5;66;03m# encounter indexing errors because it cannot process sequences longer than its limit.\u001b[39;00m\n\u001b[1;32m      3\u001b[0m mega_love \u001b[38;5;241m=\u001b[39m [\u001b[38;5;124m\"\u001b[39m\u001b[38;5;124mI love you \u001b[39m\u001b[38;5;124m\"\u001b[39m\u001b[38;5;241m*\u001b[39m\u001b[38;5;241m100\u001b[39m]\n\u001b[0;32m----> 4\u001b[0m pipe_bert(mega_love)\n",
      "File \u001b[0;32m/opt/anaconda3/lib/python3.12/site-packages/transformers/pipelines/text_classification.py:159\u001b[0m, in \u001b[0;36mTextClassificationPipeline.__call__\u001b[0;34m(self, inputs, **kwargs)\u001b[0m\n\u001b[1;32m    124\u001b[0m \u001b[38;5;250m\u001b[39m\u001b[38;5;124;03m\"\"\"\u001b[39;00m\n\u001b[1;32m    125\u001b[0m \u001b[38;5;124;03mClassify the text(s) given as inputs.\u001b[39;00m\n\u001b[1;32m    126\u001b[0m \n\u001b[0;32m   (...)\u001b[0m\n\u001b[1;32m    156\u001b[0m \u001b[38;5;124;03m    If `top_k` is used, one such dictionary is returned per label.\u001b[39;00m\n\u001b[1;32m    157\u001b[0m \u001b[38;5;124;03m\"\"\"\u001b[39;00m\n\u001b[1;32m    158\u001b[0m inputs \u001b[38;5;241m=\u001b[39m (inputs,)\n\u001b[0;32m--> 159\u001b[0m result \u001b[38;5;241m=\u001b[39m \u001b[38;5;28msuper\u001b[39m()\u001b[38;5;241m.\u001b[39m\u001b[38;5;21m__call__\u001b[39m(\u001b[38;5;241m*\u001b[39minputs, \u001b[38;5;241m*\u001b[39m\u001b[38;5;241m*\u001b[39mkwargs)\n\u001b[1;32m    160\u001b[0m \u001b[38;5;66;03m# TODO try and retrieve it in a nicer way from _sanitize_parameters.\u001b[39;00m\n\u001b[1;32m    161\u001b[0m _legacy \u001b[38;5;241m=\u001b[39m \u001b[38;5;124m\"\u001b[39m\u001b[38;5;124mtop_k\u001b[39m\u001b[38;5;124m\"\u001b[39m \u001b[38;5;129;01mnot\u001b[39;00m \u001b[38;5;129;01min\u001b[39;00m kwargs\n",
      "File \u001b[0;32m/opt/anaconda3/lib/python3.12/site-packages/transformers/pipelines/base.py:1283\u001b[0m, in \u001b[0;36mPipeline.__call__\u001b[0;34m(self, inputs, num_workers, batch_size, *args, **kwargs)\u001b[0m\n\u001b[1;32m   1279\u001b[0m \u001b[38;5;28;01mif\u001b[39;00m can_use_iterator:\n\u001b[1;32m   1280\u001b[0m     final_iterator \u001b[38;5;241m=\u001b[39m \u001b[38;5;28mself\u001b[39m\u001b[38;5;241m.\u001b[39mget_iterator(\n\u001b[1;32m   1281\u001b[0m         inputs, num_workers, batch_size, preprocess_params, forward_params, postprocess_params\n\u001b[1;32m   1282\u001b[0m     )\n\u001b[0;32m-> 1283\u001b[0m     outputs \u001b[38;5;241m=\u001b[39m \u001b[38;5;28mlist\u001b[39m(final_iterator)\n\u001b[1;32m   1284\u001b[0m     \u001b[38;5;28;01mreturn\u001b[39;00m outputs\n\u001b[1;32m   1285\u001b[0m \u001b[38;5;28;01melse\u001b[39;00m:\n",
      "File \u001b[0;32m/opt/anaconda3/lib/python3.12/site-packages/transformers/pipelines/pt_utils.py:124\u001b[0m, in \u001b[0;36mPipelineIterator.__next__\u001b[0;34m(self)\u001b[0m\n\u001b[1;32m    121\u001b[0m     \u001b[38;5;28;01mreturn\u001b[39;00m \u001b[38;5;28mself\u001b[39m\u001b[38;5;241m.\u001b[39mloader_batch_item()\n\u001b[1;32m    123\u001b[0m \u001b[38;5;66;03m# We're out of items within a batch\u001b[39;00m\n\u001b[0;32m--> 124\u001b[0m item \u001b[38;5;241m=\u001b[39m \u001b[38;5;28mnext\u001b[39m(\u001b[38;5;28mself\u001b[39m\u001b[38;5;241m.\u001b[39miterator)\n\u001b[1;32m    125\u001b[0m processed \u001b[38;5;241m=\u001b[39m \u001b[38;5;28mself\u001b[39m\u001b[38;5;241m.\u001b[39minfer(item, \u001b[38;5;241m*\u001b[39m\u001b[38;5;241m*\u001b[39m\u001b[38;5;28mself\u001b[39m\u001b[38;5;241m.\u001b[39mparams)\n\u001b[1;32m    126\u001b[0m \u001b[38;5;66;03m# We now have a batch of \"inferred things\".\u001b[39;00m\n",
      "File \u001b[0;32m/opt/anaconda3/lib/python3.12/site-packages/transformers/pipelines/pt_utils.py:125\u001b[0m, in \u001b[0;36mPipelineIterator.__next__\u001b[0;34m(self)\u001b[0m\n\u001b[1;32m    123\u001b[0m \u001b[38;5;66;03m# We're out of items within a batch\u001b[39;00m\n\u001b[1;32m    124\u001b[0m item \u001b[38;5;241m=\u001b[39m \u001b[38;5;28mnext\u001b[39m(\u001b[38;5;28mself\u001b[39m\u001b[38;5;241m.\u001b[39miterator)\n\u001b[0;32m--> 125\u001b[0m processed \u001b[38;5;241m=\u001b[39m \u001b[38;5;28mself\u001b[39m\u001b[38;5;241m.\u001b[39minfer(item, \u001b[38;5;241m*\u001b[39m\u001b[38;5;241m*\u001b[39m\u001b[38;5;28mself\u001b[39m\u001b[38;5;241m.\u001b[39mparams)\n\u001b[1;32m    126\u001b[0m \u001b[38;5;66;03m# We now have a batch of \"inferred things\".\u001b[39;00m\n\u001b[1;32m    127\u001b[0m \u001b[38;5;28;01mif\u001b[39;00m \u001b[38;5;28mself\u001b[39m\u001b[38;5;241m.\u001b[39mloader_batch_size \u001b[38;5;129;01mis\u001b[39;00m \u001b[38;5;129;01mnot\u001b[39;00m \u001b[38;5;28;01mNone\u001b[39;00m:\n\u001b[1;32m    128\u001b[0m     \u001b[38;5;66;03m# Try to infer the size of the batch\u001b[39;00m\n",
      "File \u001b[0;32m/opt/anaconda3/lib/python3.12/site-packages/transformers/pipelines/base.py:1209\u001b[0m, in \u001b[0;36mPipeline.forward\u001b[0;34m(self, model_inputs, **forward_params)\u001b[0m\n\u001b[1;32m   1207\u001b[0m     \u001b[38;5;28;01mwith\u001b[39;00m inference_context():\n\u001b[1;32m   1208\u001b[0m         model_inputs \u001b[38;5;241m=\u001b[39m \u001b[38;5;28mself\u001b[39m\u001b[38;5;241m.\u001b[39m_ensure_tensor_on_device(model_inputs, device\u001b[38;5;241m=\u001b[39m\u001b[38;5;28mself\u001b[39m\u001b[38;5;241m.\u001b[39mdevice)\n\u001b[0;32m-> 1209\u001b[0m         model_outputs \u001b[38;5;241m=\u001b[39m \u001b[38;5;28mself\u001b[39m\u001b[38;5;241m.\u001b[39m_forward(model_inputs, \u001b[38;5;241m*\u001b[39m\u001b[38;5;241m*\u001b[39mforward_params)\n\u001b[1;32m   1210\u001b[0m         model_outputs \u001b[38;5;241m=\u001b[39m \u001b[38;5;28mself\u001b[39m\u001b[38;5;241m.\u001b[39m_ensure_tensor_on_device(model_outputs, device\u001b[38;5;241m=\u001b[39mtorch\u001b[38;5;241m.\u001b[39mdevice(\u001b[38;5;124m\"\u001b[39m\u001b[38;5;124mcpu\u001b[39m\u001b[38;5;124m\"\u001b[39m))\n\u001b[1;32m   1211\u001b[0m \u001b[38;5;28;01melse\u001b[39;00m:\n",
      "File \u001b[0;32m/opt/anaconda3/lib/python3.12/site-packages/transformers/pipelines/text_classification.py:190\u001b[0m, in \u001b[0;36mTextClassificationPipeline._forward\u001b[0;34m(self, model_inputs)\u001b[0m\n\u001b[1;32m    188\u001b[0m \u001b[38;5;28;01mif\u001b[39;00m \u001b[38;5;124m\"\u001b[39m\u001b[38;5;124muse_cache\u001b[39m\u001b[38;5;124m\"\u001b[39m \u001b[38;5;129;01min\u001b[39;00m inspect\u001b[38;5;241m.\u001b[39msignature(model_forward)\u001b[38;5;241m.\u001b[39mparameters\u001b[38;5;241m.\u001b[39mkeys():\n\u001b[1;32m    189\u001b[0m     model_inputs[\u001b[38;5;124m\"\u001b[39m\u001b[38;5;124muse_cache\u001b[39m\u001b[38;5;124m\"\u001b[39m] \u001b[38;5;241m=\u001b[39m \u001b[38;5;28;01mFalse\u001b[39;00m\n\u001b[0;32m--> 190\u001b[0m \u001b[38;5;28;01mreturn\u001b[39;00m \u001b[38;5;28mself\u001b[39m\u001b[38;5;241m.\u001b[39mmodel(\u001b[38;5;241m*\u001b[39m\u001b[38;5;241m*\u001b[39mmodel_inputs)\n",
      "File \u001b[0;32m/opt/anaconda3/lib/python3.12/site-packages/torch/nn/modules/module.py:1736\u001b[0m, in \u001b[0;36mModule._wrapped_call_impl\u001b[0;34m(self, *args, **kwargs)\u001b[0m\n\u001b[1;32m   1734\u001b[0m     \u001b[38;5;28;01mreturn\u001b[39;00m \u001b[38;5;28mself\u001b[39m\u001b[38;5;241m.\u001b[39m_compiled_call_impl(\u001b[38;5;241m*\u001b[39margs, \u001b[38;5;241m*\u001b[39m\u001b[38;5;241m*\u001b[39mkwargs)  \u001b[38;5;66;03m# type: ignore[misc]\u001b[39;00m\n\u001b[1;32m   1735\u001b[0m \u001b[38;5;28;01melse\u001b[39;00m:\n\u001b[0;32m-> 1736\u001b[0m     \u001b[38;5;28;01mreturn\u001b[39;00m \u001b[38;5;28mself\u001b[39m\u001b[38;5;241m.\u001b[39m_call_impl(\u001b[38;5;241m*\u001b[39margs, \u001b[38;5;241m*\u001b[39m\u001b[38;5;241m*\u001b[39mkwargs)\n",
      "File \u001b[0;32m/opt/anaconda3/lib/python3.12/site-packages/torch/nn/modules/module.py:1747\u001b[0m, in \u001b[0;36mModule._call_impl\u001b[0;34m(self, *args, **kwargs)\u001b[0m\n\u001b[1;32m   1742\u001b[0m \u001b[38;5;66;03m# If we don't have any hooks, we want to skip the rest of the logic in\u001b[39;00m\n\u001b[1;32m   1743\u001b[0m \u001b[38;5;66;03m# this function, and just call forward.\u001b[39;00m\n\u001b[1;32m   1744\u001b[0m \u001b[38;5;28;01mif\u001b[39;00m \u001b[38;5;129;01mnot\u001b[39;00m (\u001b[38;5;28mself\u001b[39m\u001b[38;5;241m.\u001b[39m_backward_hooks \u001b[38;5;129;01mor\u001b[39;00m \u001b[38;5;28mself\u001b[39m\u001b[38;5;241m.\u001b[39m_backward_pre_hooks \u001b[38;5;129;01mor\u001b[39;00m \u001b[38;5;28mself\u001b[39m\u001b[38;5;241m.\u001b[39m_forward_hooks \u001b[38;5;129;01mor\u001b[39;00m \u001b[38;5;28mself\u001b[39m\u001b[38;5;241m.\u001b[39m_forward_pre_hooks\n\u001b[1;32m   1745\u001b[0m         \u001b[38;5;129;01mor\u001b[39;00m _global_backward_pre_hooks \u001b[38;5;129;01mor\u001b[39;00m _global_backward_hooks\n\u001b[1;32m   1746\u001b[0m         \u001b[38;5;129;01mor\u001b[39;00m _global_forward_hooks \u001b[38;5;129;01mor\u001b[39;00m _global_forward_pre_hooks):\n\u001b[0;32m-> 1747\u001b[0m     \u001b[38;5;28;01mreturn\u001b[39;00m forward_call(\u001b[38;5;241m*\u001b[39margs, \u001b[38;5;241m*\u001b[39m\u001b[38;5;241m*\u001b[39mkwargs)\n\u001b[1;32m   1749\u001b[0m result \u001b[38;5;241m=\u001b[39m \u001b[38;5;28;01mNone\u001b[39;00m\n\u001b[1;32m   1750\u001b[0m called_always_called_hooks \u001b[38;5;241m=\u001b[39m \u001b[38;5;28mset\u001b[39m()\n",
      "File \u001b[0;32m/opt/anaconda3/lib/python3.12/site-packages/transformers/models/roberta/modeling_roberta.py:1318\u001b[0m, in \u001b[0;36mRobertaForSequenceClassification.forward\u001b[0;34m(self, input_ids, attention_mask, token_type_ids, position_ids, head_mask, inputs_embeds, labels, output_attentions, output_hidden_states, return_dict)\u001b[0m\n\u001b[1;32m   1310\u001b[0m \u001b[38;5;250m\u001b[39m\u001b[38;5;124mr\u001b[39m\u001b[38;5;124;03m\"\"\"\u001b[39;00m\n\u001b[1;32m   1311\u001b[0m \u001b[38;5;124;03mlabels (`torch.LongTensor` of shape `(batch_size,)`, *optional*):\u001b[39;00m\n\u001b[1;32m   1312\u001b[0m \u001b[38;5;124;03m    Labels for computing the sequence classification/regression loss. Indices should be in `[0, ...,\u001b[39;00m\n\u001b[1;32m   1313\u001b[0m \u001b[38;5;124;03m    config.num_labels - 1]`. If `config.num_labels == 1` a regression loss is computed (Mean-Square loss), If\u001b[39;00m\n\u001b[1;32m   1314\u001b[0m \u001b[38;5;124;03m    `config.num_labels > 1` a classification loss is computed (Cross-Entropy).\u001b[39;00m\n\u001b[1;32m   1315\u001b[0m \u001b[38;5;124;03m\"\"\"\u001b[39;00m\n\u001b[1;32m   1316\u001b[0m return_dict \u001b[38;5;241m=\u001b[39m return_dict \u001b[38;5;28;01mif\u001b[39;00m return_dict \u001b[38;5;129;01mis\u001b[39;00m \u001b[38;5;129;01mnot\u001b[39;00m \u001b[38;5;28;01mNone\u001b[39;00m \u001b[38;5;28;01melse\u001b[39;00m \u001b[38;5;28mself\u001b[39m\u001b[38;5;241m.\u001b[39mconfig\u001b[38;5;241m.\u001b[39muse_return_dict\n\u001b[0;32m-> 1318\u001b[0m outputs \u001b[38;5;241m=\u001b[39m \u001b[38;5;28mself\u001b[39m\u001b[38;5;241m.\u001b[39mroberta(\n\u001b[1;32m   1319\u001b[0m     input_ids,\n\u001b[1;32m   1320\u001b[0m     attention_mask\u001b[38;5;241m=\u001b[39mattention_mask,\n\u001b[1;32m   1321\u001b[0m     token_type_ids\u001b[38;5;241m=\u001b[39mtoken_type_ids,\n\u001b[1;32m   1322\u001b[0m     position_ids\u001b[38;5;241m=\u001b[39mposition_ids,\n\u001b[1;32m   1323\u001b[0m     head_mask\u001b[38;5;241m=\u001b[39mhead_mask,\n\u001b[1;32m   1324\u001b[0m     inputs_embeds\u001b[38;5;241m=\u001b[39minputs_embeds,\n\u001b[1;32m   1325\u001b[0m     output_attentions\u001b[38;5;241m=\u001b[39moutput_attentions,\n\u001b[1;32m   1326\u001b[0m     output_hidden_states\u001b[38;5;241m=\u001b[39moutput_hidden_states,\n\u001b[1;32m   1327\u001b[0m     return_dict\u001b[38;5;241m=\u001b[39mreturn_dict,\n\u001b[1;32m   1328\u001b[0m )\n\u001b[1;32m   1329\u001b[0m sequence_output \u001b[38;5;241m=\u001b[39m outputs[\u001b[38;5;241m0\u001b[39m]\n\u001b[1;32m   1330\u001b[0m logits \u001b[38;5;241m=\u001b[39m \u001b[38;5;28mself\u001b[39m\u001b[38;5;241m.\u001b[39mclassifier(sequence_output)\n",
      "File \u001b[0;32m/opt/anaconda3/lib/python3.12/site-packages/torch/nn/modules/module.py:1736\u001b[0m, in \u001b[0;36mModule._wrapped_call_impl\u001b[0;34m(self, *args, **kwargs)\u001b[0m\n\u001b[1;32m   1734\u001b[0m     \u001b[38;5;28;01mreturn\u001b[39;00m \u001b[38;5;28mself\u001b[39m\u001b[38;5;241m.\u001b[39m_compiled_call_impl(\u001b[38;5;241m*\u001b[39margs, \u001b[38;5;241m*\u001b[39m\u001b[38;5;241m*\u001b[39mkwargs)  \u001b[38;5;66;03m# type: ignore[misc]\u001b[39;00m\n\u001b[1;32m   1735\u001b[0m \u001b[38;5;28;01melse\u001b[39;00m:\n\u001b[0;32m-> 1736\u001b[0m     \u001b[38;5;28;01mreturn\u001b[39;00m \u001b[38;5;28mself\u001b[39m\u001b[38;5;241m.\u001b[39m_call_impl(\u001b[38;5;241m*\u001b[39margs, \u001b[38;5;241m*\u001b[39m\u001b[38;5;241m*\u001b[39mkwargs)\n",
      "File \u001b[0;32m/opt/anaconda3/lib/python3.12/site-packages/torch/nn/modules/module.py:1747\u001b[0m, in \u001b[0;36mModule._call_impl\u001b[0;34m(self, *args, **kwargs)\u001b[0m\n\u001b[1;32m   1742\u001b[0m \u001b[38;5;66;03m# If we don't have any hooks, we want to skip the rest of the logic in\u001b[39;00m\n\u001b[1;32m   1743\u001b[0m \u001b[38;5;66;03m# this function, and just call forward.\u001b[39;00m\n\u001b[1;32m   1744\u001b[0m \u001b[38;5;28;01mif\u001b[39;00m \u001b[38;5;129;01mnot\u001b[39;00m (\u001b[38;5;28mself\u001b[39m\u001b[38;5;241m.\u001b[39m_backward_hooks \u001b[38;5;129;01mor\u001b[39;00m \u001b[38;5;28mself\u001b[39m\u001b[38;5;241m.\u001b[39m_backward_pre_hooks \u001b[38;5;129;01mor\u001b[39;00m \u001b[38;5;28mself\u001b[39m\u001b[38;5;241m.\u001b[39m_forward_hooks \u001b[38;5;129;01mor\u001b[39;00m \u001b[38;5;28mself\u001b[39m\u001b[38;5;241m.\u001b[39m_forward_pre_hooks\n\u001b[1;32m   1745\u001b[0m         \u001b[38;5;129;01mor\u001b[39;00m _global_backward_pre_hooks \u001b[38;5;129;01mor\u001b[39;00m _global_backward_hooks\n\u001b[1;32m   1746\u001b[0m         \u001b[38;5;129;01mor\u001b[39;00m _global_forward_hooks \u001b[38;5;129;01mor\u001b[39;00m _global_forward_pre_hooks):\n\u001b[0;32m-> 1747\u001b[0m     \u001b[38;5;28;01mreturn\u001b[39;00m forward_call(\u001b[38;5;241m*\u001b[39margs, \u001b[38;5;241m*\u001b[39m\u001b[38;5;241m*\u001b[39mkwargs)\n\u001b[1;32m   1749\u001b[0m result \u001b[38;5;241m=\u001b[39m \u001b[38;5;28;01mNone\u001b[39;00m\n\u001b[1;32m   1750\u001b[0m called_always_called_hooks \u001b[38;5;241m=\u001b[39m \u001b[38;5;28mset\u001b[39m()\n",
      "File \u001b[0;32m/opt/anaconda3/lib/python3.12/site-packages/transformers/models/roberta/modeling_roberta.py:912\u001b[0m, in \u001b[0;36mRobertaModel.forward\u001b[0;34m(self, input_ids, attention_mask, token_type_ids, position_ids, head_mask, inputs_embeds, encoder_hidden_states, encoder_attention_mask, past_key_values, use_cache, output_attentions, output_hidden_states, return_dict)\u001b[0m\n\u001b[1;32m    909\u001b[0m     \u001b[38;5;28;01melse\u001b[39;00m:\n\u001b[1;32m    910\u001b[0m         token_type_ids \u001b[38;5;241m=\u001b[39m torch\u001b[38;5;241m.\u001b[39mzeros(input_shape, dtype\u001b[38;5;241m=\u001b[39mtorch\u001b[38;5;241m.\u001b[39mlong, device\u001b[38;5;241m=\u001b[39mdevice)\n\u001b[0;32m--> 912\u001b[0m embedding_output \u001b[38;5;241m=\u001b[39m \u001b[38;5;28mself\u001b[39m\u001b[38;5;241m.\u001b[39membeddings(\n\u001b[1;32m    913\u001b[0m     input_ids\u001b[38;5;241m=\u001b[39minput_ids,\n\u001b[1;32m    914\u001b[0m     position_ids\u001b[38;5;241m=\u001b[39mposition_ids,\n\u001b[1;32m    915\u001b[0m     token_type_ids\u001b[38;5;241m=\u001b[39mtoken_type_ids,\n\u001b[1;32m    916\u001b[0m     inputs_embeds\u001b[38;5;241m=\u001b[39minputs_embeds,\n\u001b[1;32m    917\u001b[0m     past_key_values_length\u001b[38;5;241m=\u001b[39mpast_key_values_length,\n\u001b[1;32m    918\u001b[0m )\n\u001b[1;32m    920\u001b[0m \u001b[38;5;28;01mif\u001b[39;00m attention_mask \u001b[38;5;129;01mis\u001b[39;00m \u001b[38;5;28;01mNone\u001b[39;00m:\n\u001b[1;32m    921\u001b[0m     attention_mask \u001b[38;5;241m=\u001b[39m torch\u001b[38;5;241m.\u001b[39mones((batch_size, seq_length \u001b[38;5;241m+\u001b[39m past_key_values_length), device\u001b[38;5;241m=\u001b[39mdevice)\n",
      "File \u001b[0;32m/opt/anaconda3/lib/python3.12/site-packages/torch/nn/modules/module.py:1736\u001b[0m, in \u001b[0;36mModule._wrapped_call_impl\u001b[0;34m(self, *args, **kwargs)\u001b[0m\n\u001b[1;32m   1734\u001b[0m     \u001b[38;5;28;01mreturn\u001b[39;00m \u001b[38;5;28mself\u001b[39m\u001b[38;5;241m.\u001b[39m_compiled_call_impl(\u001b[38;5;241m*\u001b[39margs, \u001b[38;5;241m*\u001b[39m\u001b[38;5;241m*\u001b[39mkwargs)  \u001b[38;5;66;03m# type: ignore[misc]\u001b[39;00m\n\u001b[1;32m   1735\u001b[0m \u001b[38;5;28;01melse\u001b[39;00m:\n\u001b[0;32m-> 1736\u001b[0m     \u001b[38;5;28;01mreturn\u001b[39;00m \u001b[38;5;28mself\u001b[39m\u001b[38;5;241m.\u001b[39m_call_impl(\u001b[38;5;241m*\u001b[39margs, \u001b[38;5;241m*\u001b[39m\u001b[38;5;241m*\u001b[39mkwargs)\n",
      "File \u001b[0;32m/opt/anaconda3/lib/python3.12/site-packages/torch/nn/modules/module.py:1747\u001b[0m, in \u001b[0;36mModule._call_impl\u001b[0;34m(self, *args, **kwargs)\u001b[0m\n\u001b[1;32m   1742\u001b[0m \u001b[38;5;66;03m# If we don't have any hooks, we want to skip the rest of the logic in\u001b[39;00m\n\u001b[1;32m   1743\u001b[0m \u001b[38;5;66;03m# this function, and just call forward.\u001b[39;00m\n\u001b[1;32m   1744\u001b[0m \u001b[38;5;28;01mif\u001b[39;00m \u001b[38;5;129;01mnot\u001b[39;00m (\u001b[38;5;28mself\u001b[39m\u001b[38;5;241m.\u001b[39m_backward_hooks \u001b[38;5;129;01mor\u001b[39;00m \u001b[38;5;28mself\u001b[39m\u001b[38;5;241m.\u001b[39m_backward_pre_hooks \u001b[38;5;129;01mor\u001b[39;00m \u001b[38;5;28mself\u001b[39m\u001b[38;5;241m.\u001b[39m_forward_hooks \u001b[38;5;129;01mor\u001b[39;00m \u001b[38;5;28mself\u001b[39m\u001b[38;5;241m.\u001b[39m_forward_pre_hooks\n\u001b[1;32m   1745\u001b[0m         \u001b[38;5;129;01mor\u001b[39;00m _global_backward_pre_hooks \u001b[38;5;129;01mor\u001b[39;00m _global_backward_hooks\n\u001b[1;32m   1746\u001b[0m         \u001b[38;5;129;01mor\u001b[39;00m _global_forward_hooks \u001b[38;5;129;01mor\u001b[39;00m _global_forward_pre_hooks):\n\u001b[0;32m-> 1747\u001b[0m     \u001b[38;5;28;01mreturn\u001b[39;00m forward_call(\u001b[38;5;241m*\u001b[39margs, \u001b[38;5;241m*\u001b[39m\u001b[38;5;241m*\u001b[39mkwargs)\n\u001b[1;32m   1749\u001b[0m result \u001b[38;5;241m=\u001b[39m \u001b[38;5;28;01mNone\u001b[39;00m\n\u001b[1;32m   1750\u001b[0m called_always_called_hooks \u001b[38;5;241m=\u001b[39m \u001b[38;5;28mset\u001b[39m()\n",
      "File \u001b[0;32m/opt/anaconda3/lib/python3.12/site-packages/transformers/models/roberta/modeling_roberta.py:127\u001b[0m, in \u001b[0;36mRobertaEmbeddings.forward\u001b[0;34m(self, input_ids, token_type_ids, position_ids, inputs_embeds, past_key_values_length)\u001b[0m\n\u001b[1;32m    125\u001b[0m embeddings \u001b[38;5;241m=\u001b[39m inputs_embeds \u001b[38;5;241m+\u001b[39m token_type_embeddings\n\u001b[1;32m    126\u001b[0m \u001b[38;5;28;01mif\u001b[39;00m \u001b[38;5;28mself\u001b[39m\u001b[38;5;241m.\u001b[39mposition_embedding_type \u001b[38;5;241m==\u001b[39m \u001b[38;5;124m\"\u001b[39m\u001b[38;5;124mabsolute\u001b[39m\u001b[38;5;124m\"\u001b[39m:\n\u001b[0;32m--> 127\u001b[0m     position_embeddings \u001b[38;5;241m=\u001b[39m \u001b[38;5;28mself\u001b[39m\u001b[38;5;241m.\u001b[39mposition_embeddings(position_ids)\n\u001b[1;32m    128\u001b[0m     embeddings \u001b[38;5;241m+\u001b[39m\u001b[38;5;241m=\u001b[39m position_embeddings\n\u001b[1;32m    129\u001b[0m embeddings \u001b[38;5;241m=\u001b[39m \u001b[38;5;28mself\u001b[39m\u001b[38;5;241m.\u001b[39mLayerNorm(embeddings)\n",
      "File \u001b[0;32m/opt/anaconda3/lib/python3.12/site-packages/torch/nn/modules/module.py:1736\u001b[0m, in \u001b[0;36mModule._wrapped_call_impl\u001b[0;34m(self, *args, **kwargs)\u001b[0m\n\u001b[1;32m   1734\u001b[0m     \u001b[38;5;28;01mreturn\u001b[39;00m \u001b[38;5;28mself\u001b[39m\u001b[38;5;241m.\u001b[39m_compiled_call_impl(\u001b[38;5;241m*\u001b[39margs, \u001b[38;5;241m*\u001b[39m\u001b[38;5;241m*\u001b[39mkwargs)  \u001b[38;5;66;03m# type: ignore[misc]\u001b[39;00m\n\u001b[1;32m   1735\u001b[0m \u001b[38;5;28;01melse\u001b[39;00m:\n\u001b[0;32m-> 1736\u001b[0m     \u001b[38;5;28;01mreturn\u001b[39;00m \u001b[38;5;28mself\u001b[39m\u001b[38;5;241m.\u001b[39m_call_impl(\u001b[38;5;241m*\u001b[39margs, \u001b[38;5;241m*\u001b[39m\u001b[38;5;241m*\u001b[39mkwargs)\n",
      "File \u001b[0;32m/opt/anaconda3/lib/python3.12/site-packages/torch/nn/modules/module.py:1747\u001b[0m, in \u001b[0;36mModule._call_impl\u001b[0;34m(self, *args, **kwargs)\u001b[0m\n\u001b[1;32m   1742\u001b[0m \u001b[38;5;66;03m# If we don't have any hooks, we want to skip the rest of the logic in\u001b[39;00m\n\u001b[1;32m   1743\u001b[0m \u001b[38;5;66;03m# this function, and just call forward.\u001b[39;00m\n\u001b[1;32m   1744\u001b[0m \u001b[38;5;28;01mif\u001b[39;00m \u001b[38;5;129;01mnot\u001b[39;00m (\u001b[38;5;28mself\u001b[39m\u001b[38;5;241m.\u001b[39m_backward_hooks \u001b[38;5;129;01mor\u001b[39;00m \u001b[38;5;28mself\u001b[39m\u001b[38;5;241m.\u001b[39m_backward_pre_hooks \u001b[38;5;129;01mor\u001b[39;00m \u001b[38;5;28mself\u001b[39m\u001b[38;5;241m.\u001b[39m_forward_hooks \u001b[38;5;129;01mor\u001b[39;00m \u001b[38;5;28mself\u001b[39m\u001b[38;5;241m.\u001b[39m_forward_pre_hooks\n\u001b[1;32m   1745\u001b[0m         \u001b[38;5;129;01mor\u001b[39;00m _global_backward_pre_hooks \u001b[38;5;129;01mor\u001b[39;00m _global_backward_hooks\n\u001b[1;32m   1746\u001b[0m         \u001b[38;5;129;01mor\u001b[39;00m _global_forward_hooks \u001b[38;5;129;01mor\u001b[39;00m _global_forward_pre_hooks):\n\u001b[0;32m-> 1747\u001b[0m     \u001b[38;5;28;01mreturn\u001b[39;00m forward_call(\u001b[38;5;241m*\u001b[39margs, \u001b[38;5;241m*\u001b[39m\u001b[38;5;241m*\u001b[39mkwargs)\n\u001b[1;32m   1749\u001b[0m result \u001b[38;5;241m=\u001b[39m \u001b[38;5;28;01mNone\u001b[39;00m\n\u001b[1;32m   1750\u001b[0m called_always_called_hooks \u001b[38;5;241m=\u001b[39m \u001b[38;5;28mset\u001b[39m()\n",
      "File \u001b[0;32m/opt/anaconda3/lib/python3.12/site-packages/torch/nn/modules/sparse.py:190\u001b[0m, in \u001b[0;36mEmbedding.forward\u001b[0;34m(self, input)\u001b[0m\n\u001b[1;32m    189\u001b[0m \u001b[38;5;28;01mdef\u001b[39;00m \u001b[38;5;21mforward\u001b[39m(\u001b[38;5;28mself\u001b[39m, \u001b[38;5;28minput\u001b[39m: Tensor) \u001b[38;5;241m-\u001b[39m\u001b[38;5;241m>\u001b[39m Tensor:\n\u001b[0;32m--> 190\u001b[0m     \u001b[38;5;28;01mreturn\u001b[39;00m F\u001b[38;5;241m.\u001b[39membedding(\n\u001b[1;32m    191\u001b[0m         \u001b[38;5;28minput\u001b[39m,\n\u001b[1;32m    192\u001b[0m         \u001b[38;5;28mself\u001b[39m\u001b[38;5;241m.\u001b[39mweight,\n\u001b[1;32m    193\u001b[0m         \u001b[38;5;28mself\u001b[39m\u001b[38;5;241m.\u001b[39mpadding_idx,\n\u001b[1;32m    194\u001b[0m         \u001b[38;5;28mself\u001b[39m\u001b[38;5;241m.\u001b[39mmax_norm,\n\u001b[1;32m    195\u001b[0m         \u001b[38;5;28mself\u001b[39m\u001b[38;5;241m.\u001b[39mnorm_type,\n\u001b[1;32m    196\u001b[0m         \u001b[38;5;28mself\u001b[39m\u001b[38;5;241m.\u001b[39mscale_grad_by_freq,\n\u001b[1;32m    197\u001b[0m         \u001b[38;5;28mself\u001b[39m\u001b[38;5;241m.\u001b[39msparse,\n\u001b[1;32m    198\u001b[0m     )\n",
      "File \u001b[0;32m/opt/anaconda3/lib/python3.12/site-packages/torch/nn/functional.py:2551\u001b[0m, in \u001b[0;36membedding\u001b[0;34m(input, weight, padding_idx, max_norm, norm_type, scale_grad_by_freq, sparse)\u001b[0m\n\u001b[1;32m   2545\u001b[0m     \u001b[38;5;66;03m# Note [embedding_renorm set_grad_enabled]\u001b[39;00m\n\u001b[1;32m   2546\u001b[0m     \u001b[38;5;66;03m# XXX: equivalent to\u001b[39;00m\n\u001b[1;32m   2547\u001b[0m     \u001b[38;5;66;03m# with torch.no_grad():\u001b[39;00m\n\u001b[1;32m   2548\u001b[0m     \u001b[38;5;66;03m#   torch.embedding_renorm_\u001b[39;00m\n\u001b[1;32m   2549\u001b[0m     \u001b[38;5;66;03m# remove once script supports set_grad_enabled\u001b[39;00m\n\u001b[1;32m   2550\u001b[0m     _no_grad_embedding_renorm_(weight, \u001b[38;5;28minput\u001b[39m, max_norm, norm_type)\n\u001b[0;32m-> 2551\u001b[0m \u001b[38;5;28;01mreturn\u001b[39;00m torch\u001b[38;5;241m.\u001b[39membedding(weight, \u001b[38;5;28minput\u001b[39m, padding_idx, scale_grad_by_freq, sparse)\n",
      "\u001b[0;31mIndexError\u001b[0m: index out of range in self"
     ]
    }
   ],
   "source": [
    "# The maximum sequence length supported by the model (128 tokens). When this happens, the model will \n",
    "# encounter indexing errors because it cannot process sequences longer than its limit.\n",
    "mega_love = [\"I love you \"*100]\n",
    "pipe_bert(mega_love)"
   ]
  },
  {
   "cell_type": "code",
   "execution_count": 124,
   "metadata": {},
   "outputs": [],
   "source": [
    "# Do you think there is a better option?\n",
    "bitcoin[\"trim_text\"] = bitcoin[\"text\"].apply(lambda x: x[0:128])"
   ]
  },
  {
   "cell_type": "code",
   "execution_count": 138,
   "metadata": {},
   "outputs": [
    {
     "data": {
      "text/plain": [
       "count    9660.000000\n",
       "mean       31.705487\n",
       "std       199.974172\n",
       "min       -17.000000\n",
       "25%         1.000000\n",
       "50%         3.000000\n",
       "75%        11.000000\n",
       "max      9252.000000\n",
       "Name: score, dtype: float64"
      ]
     },
     "execution_count": 138,
     "metadata": {},
     "output_type": "execute_result"
    }
   ],
   "source": [
    "bitcoin[\"score\"].describe()"
   ]
  },
  {
   "cell_type": "code",
   "execution_count": 141,
   "metadata": {},
   "outputs": [
    {
     "name": "stdout",
     "output_type": "stream",
     "text": [
      "(108, 11)\n"
     ]
    },
    {
     "data": {
      "text/html": [
       "<div>\n",
       "<style scoped>\n",
       "    .dataframe tbody tr th:only-of-type {\n",
       "        vertical-align: middle;\n",
       "    }\n",
       "\n",
       "    .dataframe tbody tr th {\n",
       "        vertical-align: top;\n",
       "    }\n",
       "\n",
       "    .dataframe thead th {\n",
       "        text-align: right;\n",
       "    }\n",
       "</style>\n",
       "<table border=\"1\" class=\"dataframe\">\n",
       "  <thead>\n",
       "    <tr style=\"text-align: right;\">\n",
       "      <th></th>\n",
       "      <th>title</th>\n",
       "      <th>content</th>\n",
       "      <th>author</th>\n",
       "      <th>url</th>\n",
       "      <th>score</th>\n",
       "      <th>num_comments</th>\n",
       "      <th>created_date</th>\n",
       "      <th>created_time</th>\n",
       "      <th>type</th>\n",
       "      <th>text</th>\n",
       "      <th>trim_text</th>\n",
       "    </tr>\n",
       "  </thead>\n",
       "  <tbody>\n",
       "    <tr>\n",
       "      <th>596</th>\n",
       "      <td>NaN</td>\n",
       "      <td>once it hits 100k, it'll drop 15-20%. DONE.</td>\n",
       "      <td>Agreeable_Tie7697</td>\n",
       "      <td>NaN</td>\n",
       "      <td>-4</td>\n",
       "      <td>0.0</td>\n",
       "      <td>2024-11-22</td>\n",
       "      <td>00:37:38</td>\n",
       "      <td>Comment</td>\n",
       "      <td>once it hits 100k, it'll drop 15-20%. DONE.</td>\n",
       "      <td>once it hits 100k, it'll drop 15-20%. DONE.</td>\n",
       "    </tr>\n",
       "    <tr>\n",
       "      <th>732</th>\n",
       "      <td>NaN</td>\n",
       "      <td>Great English lol</td>\n",
       "      <td>leakyripper</td>\n",
       "      <td>NaN</td>\n",
       "      <td>-7</td>\n",
       "      <td>0.0</td>\n",
       "      <td>2024-11-21</td>\n",
       "      <td>22:12:03</td>\n",
       "      <td>Comment</td>\n",
       "      <td>Great English lol</td>\n",
       "      <td>Great English lol</td>\n",
       "    </tr>\n",
       "    <tr>\n",
       "      <th>734</th>\n",
       "      <td>NaN</td>\n",
       "      <td>OTC Bitcoin? That's not a thing 😆</td>\n",
       "      <td>JuxtaposeLife</td>\n",
       "      <td>NaN</td>\n",
       "      <td>-2</td>\n",
       "      <td>0.0</td>\n",
       "      <td>2024-11-21</td>\n",
       "      <td>23:27:03</td>\n",
       "      <td>Comment</td>\n",
       "      <td>OTC Bitcoin? That's not a thing 😆</td>\n",
       "      <td>OTC Bitcoin? That's not a thing 😆</td>\n",
       "    </tr>\n",
       "    <tr>\n",
       "      <th>748</th>\n",
       "      <td>NaN</td>\n",
       "      <td>Worse. Then better. Too many are too far behin...</td>\n",
       "      <td>joesus-christ</td>\n",
       "      <td>NaN</td>\n",
       "      <td>-1</td>\n",
       "      <td>0.0</td>\n",
       "      <td>2024-11-21</td>\n",
       "      <td>21:59:27</td>\n",
       "      <td>Comment</td>\n",
       "      <td>Worse. Then better. Too many are too far behi...</td>\n",
       "      <td>Worse. Then better. Too many are too far behi...</td>\n",
       "    </tr>\n",
       "    <tr>\n",
       "      <th>924</th>\n",
       "      <td>NaN</td>\n",
       "      <td>i only have etfs</td>\n",
       "      <td>Apprehensive_Two1528</td>\n",
       "      <td>NaN</td>\n",
       "      <td>-3</td>\n",
       "      <td>0.0</td>\n",
       "      <td>2024-11-21</td>\n",
       "      <td>19:50:11</td>\n",
       "      <td>Comment</td>\n",
       "      <td>i only have etfs</td>\n",
       "      <td>i only have etfs</td>\n",
       "    </tr>\n",
       "  </tbody>\n",
       "</table>\n",
       "</div>"
      ],
      "text/plain": [
       "    title                                            content  \\\n",
       "596   NaN        once it hits 100k, it'll drop 15-20%. DONE.   \n",
       "732   NaN                                  Great English lol   \n",
       "734   NaN                  OTC Bitcoin? That's not a thing 😆   \n",
       "748   NaN  Worse. Then better. Too many are too far behin...   \n",
       "924   NaN                                   i only have etfs   \n",
       "\n",
       "                   author  url  score  num_comments created_date created_time  \\\n",
       "596     Agreeable_Tie7697  NaN     -4           0.0   2024-11-22     00:37:38   \n",
       "732           leakyripper  NaN     -7           0.0   2024-11-21     22:12:03   \n",
       "734         JuxtaposeLife  NaN     -2           0.0   2024-11-21     23:27:03   \n",
       "748         joesus-christ  NaN     -1           0.0   2024-11-21     21:59:27   \n",
       "924  Apprehensive_Two1528  NaN     -3           0.0   2024-11-21     19:50:11   \n",
       "\n",
       "        type                                               text  \\\n",
       "596  Comment        once it hits 100k, it'll drop 15-20%. DONE.   \n",
       "732  Comment                                  Great English lol   \n",
       "734  Comment                  OTC Bitcoin? That's not a thing 😆   \n",
       "748  Comment   Worse. Then better. Too many are too far behi...   \n",
       "924  Comment                                   i only have etfs   \n",
       "\n",
       "                                             trim_text  \n",
       "596        once it hits 100k, it'll drop 15-20%. DONE.  \n",
       "732                                  Great English lol  \n",
       "734                  OTC Bitcoin? That's not a thing 😆  \n",
       "748   Worse. Then better. Too many are too far behi...  \n",
       "924                                   i only have etfs  "
      ]
     },
     "execution_count": 141,
     "metadata": {},
     "output_type": "execute_result"
    }
   ],
   "source": [
    "negative_scores = bitcoin.loc[bitcoin[\"score\"] < 0, ]\n",
    "print(negative_scores.shape)\n",
    "negative_scores.head()"
   ]
  },
  {
   "cell_type": "code",
   "execution_count": 148,
   "metadata": {},
   "outputs": [
    {
     "name": "stdout",
     "output_type": "stream",
     "text": [
      "(100, 11)\n"
     ]
    },
    {
     "data": {
      "text/html": [
       "<div>\n",
       "<style scoped>\n",
       "    .dataframe tbody tr th:only-of-type {\n",
       "        vertical-align: middle;\n",
       "    }\n",
       "\n",
       "    .dataframe tbody tr th {\n",
       "        vertical-align: top;\n",
       "    }\n",
       "\n",
       "    .dataframe thead th {\n",
       "        text-align: right;\n",
       "    }\n",
       "</style>\n",
       "<table border=\"1\" class=\"dataframe\">\n",
       "  <thead>\n",
       "    <tr style=\"text-align: right;\">\n",
       "      <th></th>\n",
       "      <th>title</th>\n",
       "      <th>content</th>\n",
       "      <th>author</th>\n",
       "      <th>url</th>\n",
       "      <th>score</th>\n",
       "      <th>num_comments</th>\n",
       "      <th>created_date</th>\n",
       "      <th>created_time</th>\n",
       "      <th>type</th>\n",
       "      <th>text</th>\n",
       "      <th>trim_text</th>\n",
       "    </tr>\n",
       "  </thead>\n",
       "  <tbody>\n",
       "    <tr>\n",
       "      <th>1493</th>\n",
       "      <td>Sold .16 BTC to pay off my car! 🧘🐋🥂</td>\n",
       "      <td>Was contemplating doing this transaction, but ...</td>\n",
       "      <td>Eddy2106</td>\n",
       "      <td>https://i.redd.it/wydd1tqve92e1.jpeg</td>\n",
       "      <td>9252</td>\n",
       "      <td>900.0</td>\n",
       "      <td>2024-11-21</td>\n",
       "      <td>13:49:13</td>\n",
       "      <td>Post</td>\n",
       "      <td>Sold .16 BTC to pay off my car! 🧘🐋🥂 Was contem...</td>\n",
       "      <td>Sold .16 BTC to pay off my car! 🧘🐋🥂 Was contem...</td>\n",
       "    </tr>\n",
       "    <tr>\n",
       "      <th>5467</th>\n",
       "      <td>throwback to 2019 when my friend was trying to...</td>\n",
       "      <td>NaN</td>\n",
       "      <td>jiar300</td>\n",
       "      <td>https://i.redd.it/m0389ve2rt1e1.jpeg</td>\n",
       "      <td>6322</td>\n",
       "      <td>268.0</td>\n",
       "      <td>2024-11-19</td>\n",
       "      <td>09:09:01</td>\n",
       "      <td>Post</td>\n",
       "      <td>throwback to 2019 when my friend was trying to...</td>\n",
       "      <td>throwback to 2019 when my friend was trying to...</td>\n",
       "    </tr>\n",
       "    <tr>\n",
       "      <th>5005</th>\n",
       "      <td>Me buying at $92k</td>\n",
       "      <td>NaN</td>\n",
       "      <td>SatisfactionFinal287</td>\n",
       "      <td>https://i.redd.it/y04anu2w5w1e1.jpeg</td>\n",
       "      <td>6027</td>\n",
       "      <td>224.0</td>\n",
       "      <td>2024-11-19</td>\n",
       "      <td>17:15:40</td>\n",
       "      <td>Post</td>\n",
       "      <td>Me buying at $92k</td>\n",
       "      <td>Me buying at $92k</td>\n",
       "    </tr>\n",
       "    <tr>\n",
       "      <th>2546</th>\n",
       "      <td>Omg wtf is happening!!</td>\n",
       "      <td>NaN</td>\n",
       "      <td>James1997lol</td>\n",
       "      <td>https://i.redd.it/fe7wcdfah62e1.jpeg</td>\n",
       "      <td>3816</td>\n",
       "      <td>1052.0</td>\n",
       "      <td>2024-11-21</td>\n",
       "      <td>03:57:23</td>\n",
       "      <td>Post</td>\n",
       "      <td>Omg wtf is happening!!</td>\n",
       "      <td>Omg wtf is happening!!</td>\n",
       "    </tr>\n",
       "    <tr>\n",
       "      <th>1304</th>\n",
       "      <td>Queued up a celebratory purchase at $100K</td>\n",
       "      <td>nm, you?</td>\n",
       "      <td>skeetskeetamirite</td>\n",
       "      <td>https://i.redd.it/ip1bukkdca2e1.jpeg</td>\n",
       "      <td>3720</td>\n",
       "      <td>190.0</td>\n",
       "      <td>2024-11-21</td>\n",
       "      <td>16:56:58</td>\n",
       "      <td>Post</td>\n",
       "      <td>Queued up a celebratory purchase at $100K nm, ...</td>\n",
       "      <td>Queued up a celebratory purchase at $100K nm, ...</td>\n",
       "    </tr>\n",
       "  </tbody>\n",
       "</table>\n",
       "</div>"
      ],
      "text/plain": [
       "                                                  title  \\\n",
       "1493                Sold .16 BTC to pay off my car! 🧘🐋🥂   \n",
       "5467  throwback to 2019 when my friend was trying to...   \n",
       "5005                                  Me buying at $92k   \n",
       "2546                             Omg wtf is happening!!   \n",
       "1304          Queued up a celebratory purchase at $100K   \n",
       "\n",
       "                                                content                author  \\\n",
       "1493  Was contemplating doing this transaction, but ...              Eddy2106   \n",
       "5467                                                NaN               jiar300   \n",
       "5005                                                NaN  SatisfactionFinal287   \n",
       "2546                                                NaN          James1997lol   \n",
       "1304                                           nm, you?     skeetskeetamirite   \n",
       "\n",
       "                                       url  score  num_comments created_date  \\\n",
       "1493  https://i.redd.it/wydd1tqve92e1.jpeg   9252         900.0   2024-11-21   \n",
       "5467  https://i.redd.it/m0389ve2rt1e1.jpeg   6322         268.0   2024-11-19   \n",
       "5005  https://i.redd.it/y04anu2w5w1e1.jpeg   6027         224.0   2024-11-19   \n",
       "2546  https://i.redd.it/fe7wcdfah62e1.jpeg   3816        1052.0   2024-11-21   \n",
       "1304  https://i.redd.it/ip1bukkdca2e1.jpeg   3720         190.0   2024-11-21   \n",
       "\n",
       "     created_time  type                                               text  \\\n",
       "1493     13:49:13  Post  Sold .16 BTC to pay off my car! 🧘🐋🥂 Was contem...   \n",
       "5467     09:09:01  Post  throwback to 2019 when my friend was trying to...   \n",
       "5005     17:15:40  Post                                 Me buying at $92k    \n",
       "2546     03:57:23  Post                            Omg wtf is happening!!    \n",
       "1304     16:56:58  Post  Queued up a celebratory purchase at $100K nm, ...   \n",
       "\n",
       "                                              trim_text  \n",
       "1493  Sold .16 BTC to pay off my car! 🧘🐋🥂 Was contem...  \n",
       "5467  throwback to 2019 when my friend was trying to...  \n",
       "5005                                 Me buying at $92k   \n",
       "2546                            Omg wtf is happening!!   \n",
       "1304  Queued up a celebratory purchase at $100K nm, ...  "
      ]
     },
     "execution_count": 148,
     "metadata": {},
     "output_type": "execute_result"
    }
   ],
   "source": [
    "positive_scores = bitcoin.sort_values(\"score\", ascending = False).iloc[0:100]\n",
    "print(positive_scores.shape)\n",
    "positive_scores.head()"
   ]
  },
  {
   "cell_type": "code",
   "execution_count": 151,
   "metadata": {},
   "outputs": [],
   "source": [
    "sample_reddit = pd.concat([positive_scores, negative_scores]).reset_index(drop = True)"
   ]
  },
  {
   "cell_type": "code",
   "execution_count": 152,
   "metadata": {},
   "outputs": [],
   "source": [
    "# Apply the model to all the column\n",
    "sample_reddit[\"scores\"] = sample_reddit[\"trim_text\"].apply(lambda x: pipe_bert(x))"
   ]
  },
  {
   "cell_type": "code",
   "execution_count": 154,
   "metadata": {},
   "outputs": [
    {
     "data": {
      "text/plain": [
       "0    [[{'label': 'NEU', 'score': 0.7715205550193787...\n",
       "1    [[{'label': 'NEU', 'score': 0.9319330453872681...\n",
       "2    [[{'label': 'NEU', 'score': 0.9674603939056396...\n",
       "3    [[{'label': 'NEG', 'score': 0.9551398158073425...\n",
       "4    [[{'label': 'NEU', 'score': 0.7418627738952637...\n",
       "Name: scores, dtype: object"
      ]
     },
     "execution_count": 154,
     "metadata": {},
     "output_type": "execute_result"
    }
   ],
   "source": [
    "sample_reddit[\"scores\"].head()"
   ]
  },
  {
   "cell_type": "code",
   "execution_count": 155,
   "metadata": {},
   "outputs": [
    {
     "data": {
      "text/plain": [
       "[[{'label': 'NEU', 'score': 0.7715205550193787},\n",
       "  {'label': 'POS', 'score': 0.2247435301542282},\n",
       "  {'label': 'NEG', 'score': 0.003735897596925497}]]"
      ]
     },
     "execution_count": 155,
     "metadata": {},
     "output_type": "execute_result"
    }
   ],
   "source": [
    "sample_reddit[\"scores\"][0]"
   ]
  },
  {
   "cell_type": "code",
   "execution_count": null,
   "metadata": {},
   "outputs": [
    {
     "data": {
      "text/html": [
       "<div>\n",
       "<style scoped>\n",
       "    .dataframe tbody tr th:only-of-type {\n",
       "        vertical-align: middle;\n",
       "    }\n",
       "\n",
       "    .dataframe tbody tr th {\n",
       "        vertical-align: top;\n",
       "    }\n",
       "\n",
       "    .dataframe thead th {\n",
       "        text-align: right;\n",
       "    }\n",
       "</style>\n",
       "<table border=\"1\" class=\"dataframe\">\n",
       "  <thead>\n",
       "    <tr style=\"text-align: right;\">\n",
       "      <th></th>\n",
       "      <th>NEU</th>\n",
       "      <th>POS</th>\n",
       "      <th>NEG</th>\n",
       "    </tr>\n",
       "  </thead>\n",
       "  <tbody>\n",
       "    <tr>\n",
       "      <th>0</th>\n",
       "      <td>0.771521</td>\n",
       "      <td>0.224744</td>\n",
       "      <td>0.003736</td>\n",
       "    </tr>\n",
       "    <tr>\n",
       "      <th>1</th>\n",
       "      <td>0.931933</td>\n",
       "      <td>0.064091</td>\n",
       "      <td>0.003976</td>\n",
       "    </tr>\n",
       "    <tr>\n",
       "      <th>2</th>\n",
       "      <td>0.967460</td>\n",
       "      <td>0.022409</td>\n",
       "      <td>0.010131</td>\n",
       "    </tr>\n",
       "    <tr>\n",
       "      <th>3</th>\n",
       "      <td>0.038818</td>\n",
       "      <td>0.006043</td>\n",
       "      <td>0.955140</td>\n",
       "    </tr>\n",
       "    <tr>\n",
       "      <th>4</th>\n",
       "      <td>0.741863</td>\n",
       "      <td>0.256059</td>\n",
       "      <td>0.002078</td>\n",
       "    </tr>\n",
       "    <tr>\n",
       "      <th>...</th>\n",
       "      <td>...</td>\n",
       "      <td>...</td>\n",
       "      <td>...</td>\n",
       "    </tr>\n",
       "    <tr>\n",
       "      <th>203</th>\n",
       "      <td>0.968075</td>\n",
       "      <td>0.011676</td>\n",
       "      <td>0.020249</td>\n",
       "    </tr>\n",
       "    <tr>\n",
       "      <th>204</th>\n",
       "      <td>0.947758</td>\n",
       "      <td>0.011613</td>\n",
       "      <td>0.040629</td>\n",
       "    </tr>\n",
       "    <tr>\n",
       "      <th>205</th>\n",
       "      <td>0.087764</td>\n",
       "      <td>0.908925</td>\n",
       "      <td>0.003312</td>\n",
       "    </tr>\n",
       "    <tr>\n",
       "      <th>206</th>\n",
       "      <td>0.023922</td>\n",
       "      <td>0.974811</td>\n",
       "      <td>0.001267</td>\n",
       "    </tr>\n",
       "    <tr>\n",
       "      <th>207</th>\n",
       "      <td>0.034662</td>\n",
       "      <td>0.003200</td>\n",
       "      <td>0.962137</td>\n",
       "    </tr>\n",
       "  </tbody>\n",
       "</table>\n",
       "<p>208 rows × 3 columns</p>\n",
       "</div>"
      ],
      "text/plain": [
       "          NEU       POS       NEG\n",
       "0    0.771521  0.224744  0.003736\n",
       "1    0.931933  0.064091  0.003976\n",
       "2    0.967460  0.022409  0.010131\n",
       "3    0.038818  0.006043  0.955140\n",
       "4    0.741863  0.256059  0.002078\n",
       "..        ...       ...       ...\n",
       "203  0.968075  0.011676  0.020249\n",
       "204  0.947758  0.011613  0.040629\n",
       "205  0.087764  0.908925  0.003312\n",
       "206  0.023922  0.974811  0.001267\n",
       "207  0.034662  0.003200  0.962137\n",
       "\n",
       "[208 rows x 3 columns]"
      ]
     },
     "execution_count": 160,
     "metadata": {},
     "output_type": "execute_result"
    }
   ],
   "source": [
    "def extract_scores(row):\n",
    "    scores = {entry['label']: entry['score'] for entry in row}\n",
    "    return pd.Series(scores)\n",
    "\n",
    "# Apply the function to create separate columns\n",
    "sample_sentiments = sample_reddit[\"scores\"].apply(lambda x: extract_scores(x[0]))\n",
    "sample_sentiments"
   ]
  },
  {
   "cell_type": "code",
   "execution_count": 261,
   "metadata": {},
   "outputs": [
    {
     "name": "stdout",
     "output_type": "stream",
     "text": [
      "It's over 99000!!! \n"
     ]
    },
    {
     "data": {
      "text/plain": [
       "[[{'label': 'NEU', 'score': 0.7552030086517334},\n",
       "  {'label': 'POS', 'score': 0.1816788911819458},\n",
       "  {'label': 'NEG', 'score': 0.0631181076169014}]]"
      ]
     },
     "execution_count": 261,
     "metadata": {},
     "output_type": "execute_result"
    }
   ],
   "source": [
    "print(bitcoin[\"text\"][1])\n",
    "pipe_bert(bitcoin[\"text\"][1])"
   ]
  },
  {
   "cell_type": "code",
   "execution_count": 262,
   "metadata": {},
   "outputs": [
    {
     "name": "stdout",
     "output_type": "stream",
     "text": [
      " 100k legendary wall about to fall\n"
     ]
    },
    {
     "data": {
      "text/plain": [
       "[[{'label': 'NEU', 'score': 0.9116183519363403},\n",
       "  {'label': 'POS', 'score': 0.048670414835214615},\n",
       "  {'label': 'NEG', 'score': 0.039711154997348785}]]"
      ]
     },
     "execution_count": 262,
     "metadata": {},
     "output_type": "execute_result"
    }
   ],
   "source": [
    "print(bitcoin[\"text\"][2])\n",
    "pipe_bert(bitcoin[\"text\"][2])"
   ]
  },
  {
   "cell_type": "code",
   "execution_count": 239,
   "metadata": {},
   "outputs": [],
   "source": [
    "sample_sentiments[\"NEU\"] = 0\n",
    "sample_sentiments[\"POS\"] = sample_sentiments[\"POS\"]/(sample_sentiments[\"POS\"] + sample_sentiments[\"NEG\"])\n",
    "sample_sentiments[\"NEG\"] = sample_sentiments[\"NEG\"]/(sample_sentiments[\"POS\"] + sample_sentiments[\"NEG\"])"
   ]
  },
  {
   "cell_type": "code",
   "execution_count": null,
   "metadata": {},
   "outputs": [],
   "source": [
    "# sample_reddit = sample_reddit.iloc[:, 0:12]"
   ]
  },
  {
   "cell_type": "code",
   "execution_count": 245,
   "metadata": {},
   "outputs": [
    {
     "data": {
      "text/html": [
       "<div>\n",
       "<style scoped>\n",
       "    .dataframe tbody tr th:only-of-type {\n",
       "        vertical-align: middle;\n",
       "    }\n",
       "\n",
       "    .dataframe tbody tr th {\n",
       "        vertical-align: top;\n",
       "    }\n",
       "\n",
       "    .dataframe thead th {\n",
       "        text-align: right;\n",
       "    }\n",
       "</style>\n",
       "<table border=\"1\" class=\"dataframe\">\n",
       "  <thead>\n",
       "    <tr style=\"text-align: right;\">\n",
       "      <th></th>\n",
       "      <th>title</th>\n",
       "      <th>content</th>\n",
       "      <th>author</th>\n",
       "      <th>url</th>\n",
       "      <th>score</th>\n",
       "      <th>num_comments</th>\n",
       "      <th>created_date</th>\n",
       "      <th>created_time</th>\n",
       "      <th>type</th>\n",
       "      <th>text</th>\n",
       "      <th>trim_text</th>\n",
       "      <th>scores</th>\n",
       "      <th>NEU</th>\n",
       "      <th>POS</th>\n",
       "      <th>NEG</th>\n",
       "    </tr>\n",
       "  </thead>\n",
       "  <tbody>\n",
       "    <tr>\n",
       "      <th>0</th>\n",
       "      <td>Sold .16 BTC to pay off my car! 🧘🐋🥂</td>\n",
       "      <td>Was contemplating doing this transaction, but ...</td>\n",
       "      <td>Eddy2106</td>\n",
       "      <td>https://i.redd.it/wydd1tqve92e1.jpeg</td>\n",
       "      <td>9252</td>\n",
       "      <td>900.0</td>\n",
       "      <td>2024-11-21</td>\n",
       "      <td>13:49:13</td>\n",
       "      <td>Post</td>\n",
       "      <td>Sold .16 BTC to pay off my car! 🧘🐋🥂 Was contem...</td>\n",
       "      <td>Sold .16 BTC to pay off my car! 🧘🐋🥂 Was contem...</td>\n",
       "      <td>[[{'label': 'NEU', 'score': 0.7715205550193787...</td>\n",
       "      <td>0</td>\n",
       "      <td>0.983649</td>\n",
       "      <td>0.003784</td>\n",
       "    </tr>\n",
       "    <tr>\n",
       "      <th>1</th>\n",
       "      <td>throwback to 2019 when my friend was trying to...</td>\n",
       "      <td>NaN</td>\n",
       "      <td>jiar300</td>\n",
       "      <td>https://i.redd.it/m0389ve2rt1e1.jpeg</td>\n",
       "      <td>6322</td>\n",
       "      <td>268.0</td>\n",
       "      <td>2024-11-19</td>\n",
       "      <td>09:09:01</td>\n",
       "      <td>Post</td>\n",
       "      <td>throwback to 2019 when my friend was trying to...</td>\n",
       "      <td>throwback to 2019 when my friend was trying to...</td>\n",
       "      <td>[[{'label': 'NEU', 'score': 0.9319330453872681...</td>\n",
       "      <td>0</td>\n",
       "      <td>0.941586</td>\n",
       "      <td>0.004205</td>\n",
       "    </tr>\n",
       "    <tr>\n",
       "      <th>2</th>\n",
       "      <td>Me buying at $92k</td>\n",
       "      <td>NaN</td>\n",
       "      <td>SatisfactionFinal287</td>\n",
       "      <td>https://i.redd.it/y04anu2w5w1e1.jpeg</td>\n",
       "      <td>6027</td>\n",
       "      <td>224.0</td>\n",
       "      <td>2024-11-19</td>\n",
       "      <td>17:15:40</td>\n",
       "      <td>Post</td>\n",
       "      <td>Me buying at $92k</td>\n",
       "      <td>Me buying at $92k</td>\n",
       "      <td>[[{'label': 'NEU', 'score': 0.9674603939056396...</td>\n",
       "      <td>0</td>\n",
       "      <td>0.688665</td>\n",
       "      <td>0.014497</td>\n",
       "    </tr>\n",
       "    <tr>\n",
       "      <th>3</th>\n",
       "      <td>Omg wtf is happening!!</td>\n",
       "      <td>NaN</td>\n",
       "      <td>James1997lol</td>\n",
       "      <td>https://i.redd.it/fe7wcdfah62e1.jpeg</td>\n",
       "      <td>3816</td>\n",
       "      <td>1052.0</td>\n",
       "      <td>2024-11-21</td>\n",
       "      <td>03:57:23</td>\n",
       "      <td>Post</td>\n",
       "      <td>Omg wtf is happening!!</td>\n",
       "      <td>Omg wtf is happening!!</td>\n",
       "      <td>[[{'label': 'NEG', 'score': 0.9551398158073425...</td>\n",
       "      <td>0</td>\n",
       "      <td>0.006287</td>\n",
       "      <td>0.993461</td>\n",
       "    </tr>\n",
       "    <tr>\n",
       "      <th>4</th>\n",
       "      <td>Queued up a celebratory purchase at $100K</td>\n",
       "      <td>nm, you?</td>\n",
       "      <td>skeetskeetamirite</td>\n",
       "      <td>https://i.redd.it/ip1bukkdca2e1.jpeg</td>\n",
       "      <td>3720</td>\n",
       "      <td>190.0</td>\n",
       "      <td>2024-11-21</td>\n",
       "      <td>16:56:58</td>\n",
       "      <td>Post</td>\n",
       "      <td>Queued up a celebratory purchase at $100K nm, ...</td>\n",
       "      <td>Queued up a celebratory purchase at $100K nm, ...</td>\n",
       "      <td>[[{'label': 'NEU', 'score': 0.7418627738952637...</td>\n",
       "      <td>0</td>\n",
       "      <td>0.991951</td>\n",
       "      <td>0.002090</td>\n",
       "    </tr>\n",
       "    <tr>\n",
       "      <th>...</th>\n",
       "      <td>...</td>\n",
       "      <td>...</td>\n",
       "      <td>...</td>\n",
       "      <td>...</td>\n",
       "      <td>...</td>\n",
       "      <td>...</td>\n",
       "      <td>...</td>\n",
       "      <td>...</td>\n",
       "      <td>...</td>\n",
       "      <td>...</td>\n",
       "      <td>...</td>\n",
       "      <td>...</td>\n",
       "      <td>...</td>\n",
       "      <td>...</td>\n",
       "      <td>...</td>\n",
       "    </tr>\n",
       "    <tr>\n",
       "      <th>203</th>\n",
       "      <td>NaN</td>\n",
       "      <td>How much is a significant amount?</td>\n",
       "      <td>JustinCompton79</td>\n",
       "      <td>NaN</td>\n",
       "      <td>-1</td>\n",
       "      <td>0.0</td>\n",
       "      <td>2024-11-16</td>\n",
       "      <td>17:03:08</td>\n",
       "      <td>Comment</td>\n",
       "      <td>How much is a significant amount?</td>\n",
       "      <td>How much is a significant amount?</td>\n",
       "      <td>[[{'label': 'NEU', 'score': 0.9680748581886292...</td>\n",
       "      <td>0</td>\n",
       "      <td>0.365736</td>\n",
       "      <td>0.052460</td>\n",
       "    </tr>\n",
       "    <tr>\n",
       "      <th>204</th>\n",
       "      <td>NaN</td>\n",
       "      <td>I may get roasted but after taking a look at m...</td>\n",
       "      <td>CR0Wmurder</td>\n",
       "      <td>NaN</td>\n",
       "      <td>-2</td>\n",
       "      <td>0.0</td>\n",
       "      <td>2024-11-16</td>\n",
       "      <td>11:52:22</td>\n",
       "      <td>Comment</td>\n",
       "      <td>I may get roasted but after taking a look at ...</td>\n",
       "      <td>I may get roasted but after taking a look at ...</td>\n",
       "      <td>[[{'label': 'NEU', 'score': 0.9477577805519104...</td>\n",
       "      <td>0</td>\n",
       "      <td>0.222287</td>\n",
       "      <td>0.154533</td>\n",
       "    </tr>\n",
       "    <tr>\n",
       "      <th>205</th>\n",
       "      <td>NaN</td>\n",
       "      <td>And a million bitcoin is 10 000 hundreds of bi...</td>\n",
       "      <td>MiceAreTiny</td>\n",
       "      <td>NaN</td>\n",
       "      <td>-9</td>\n",
       "      <td>0.0</td>\n",
       "      <td>2024-11-16</td>\n",
       "      <td>09:27:50</td>\n",
       "      <td>Comment</td>\n",
       "      <td>And a million bitcoin is 10 000 hundreds of b...</td>\n",
       "      <td>And a million bitcoin is 10 000 hundreds of b...</td>\n",
       "      <td>[[{'label': 'POS', 'score': 0.9089245200157166...</td>\n",
       "      <td>0</td>\n",
       "      <td>0.996369</td>\n",
       "      <td>0.003313</td>\n",
       "    </tr>\n",
       "    <tr>\n",
       "      <th>206</th>\n",
       "      <td>NaN</td>\n",
       "      <td>Hey, thanks for the welcome, Neo! But trust me...</td>\n",
       "      <td>oldjambalaya69</td>\n",
       "      <td>NaN</td>\n",
       "      <td>-1</td>\n",
       "      <td>0.0</td>\n",
       "      <td>2024-11-16</td>\n",
       "      <td>06:17:00</td>\n",
       "      <td>Comment</td>\n",
       "      <td>Hey, thanks for the welcome, Neo! But trust m...</td>\n",
       "      <td>Hey, thanks for the welcome, Neo! But trust m...</td>\n",
       "      <td>[[{'label': 'POS', 'score': 0.9748110771179199...</td>\n",
       "      <td>0</td>\n",
       "      <td>0.998702</td>\n",
       "      <td>0.001267</td>\n",
       "    </tr>\n",
       "    <tr>\n",
       "      <th>207</th>\n",
       "      <td>NaN</td>\n",
       "      <td>You don’t need to trust it.  You shouldn’t tru...</td>\n",
       "      <td>ChaoticDad21</td>\n",
       "      <td>NaN</td>\n",
       "      <td>-2</td>\n",
       "      <td>0.0</td>\n",
       "      <td>2024-11-16</td>\n",
       "      <td>03:19:48</td>\n",
       "      <td>Comment</td>\n",
       "      <td>You don’t need to trust it.  You shouldn’t tr...</td>\n",
       "      <td>You don’t need to trust it.  You shouldn’t tr...</td>\n",
       "      <td>[[{'label': 'NEG', 'score': 0.9621374607086182...</td>\n",
       "      <td>0</td>\n",
       "      <td>0.003315</td>\n",
       "      <td>0.996566</td>\n",
       "    </tr>\n",
       "  </tbody>\n",
       "</table>\n",
       "<p>208 rows × 15 columns</p>\n",
       "</div>"
      ],
      "text/plain": [
       "                                                 title  \\\n",
       "0                  Sold .16 BTC to pay off my car! 🧘🐋🥂   \n",
       "1    throwback to 2019 when my friend was trying to...   \n",
       "2                                    Me buying at $92k   \n",
       "3                               Omg wtf is happening!!   \n",
       "4            Queued up a celebratory purchase at $100K   \n",
       "..                                                 ...   \n",
       "203                                                NaN   \n",
       "204                                                NaN   \n",
       "205                                                NaN   \n",
       "206                                                NaN   \n",
       "207                                                NaN   \n",
       "\n",
       "                                               content                author  \\\n",
       "0    Was contemplating doing this transaction, but ...              Eddy2106   \n",
       "1                                                  NaN               jiar300   \n",
       "2                                                  NaN  SatisfactionFinal287   \n",
       "3                                                  NaN          James1997lol   \n",
       "4                                             nm, you?     skeetskeetamirite   \n",
       "..                                                 ...                   ...   \n",
       "203                  How much is a significant amount?       JustinCompton79   \n",
       "204  I may get roasted but after taking a look at m...            CR0Wmurder   \n",
       "205  And a million bitcoin is 10 000 hundreds of bi...           MiceAreTiny   \n",
       "206  Hey, thanks for the welcome, Neo! But trust me...        oldjambalaya69   \n",
       "207  You don’t need to trust it.  You shouldn’t tru...          ChaoticDad21   \n",
       "\n",
       "                                      url  score  num_comments created_date  \\\n",
       "0    https://i.redd.it/wydd1tqve92e1.jpeg   9252         900.0   2024-11-21   \n",
       "1    https://i.redd.it/m0389ve2rt1e1.jpeg   6322         268.0   2024-11-19   \n",
       "2    https://i.redd.it/y04anu2w5w1e1.jpeg   6027         224.0   2024-11-19   \n",
       "3    https://i.redd.it/fe7wcdfah62e1.jpeg   3816        1052.0   2024-11-21   \n",
       "4    https://i.redd.it/ip1bukkdca2e1.jpeg   3720         190.0   2024-11-21   \n",
       "..                                    ...    ...           ...          ...   \n",
       "203                                   NaN     -1           0.0   2024-11-16   \n",
       "204                                   NaN     -2           0.0   2024-11-16   \n",
       "205                                   NaN     -9           0.0   2024-11-16   \n",
       "206                                   NaN     -1           0.0   2024-11-16   \n",
       "207                                   NaN     -2           0.0   2024-11-16   \n",
       "\n",
       "    created_time     type                                               text  \\\n",
       "0       13:49:13     Post  Sold .16 BTC to pay off my car! 🧘🐋🥂 Was contem...   \n",
       "1       09:09:01     Post  throwback to 2019 when my friend was trying to...   \n",
       "2       17:15:40     Post                                 Me buying at $92k    \n",
       "3       03:57:23     Post                            Omg wtf is happening!!    \n",
       "4       16:56:58     Post  Queued up a celebratory purchase at $100K nm, ...   \n",
       "..           ...      ...                                                ...   \n",
       "203     17:03:08  Comment                  How much is a significant amount?   \n",
       "204     11:52:22  Comment   I may get roasted but after taking a look at ...   \n",
       "205     09:27:50  Comment   And a million bitcoin is 10 000 hundreds of b...   \n",
       "206     06:17:00  Comment   Hey, thanks for the welcome, Neo! But trust m...   \n",
       "207     03:19:48  Comment   You don’t need to trust it.  You shouldn’t tr...   \n",
       "\n",
       "                                             trim_text  \\\n",
       "0    Sold .16 BTC to pay off my car! 🧘🐋🥂 Was contem...   \n",
       "1    throwback to 2019 when my friend was trying to...   \n",
       "2                                   Me buying at $92k    \n",
       "3                              Omg wtf is happening!!    \n",
       "4    Queued up a celebratory purchase at $100K nm, ...   \n",
       "..                                                 ...   \n",
       "203                  How much is a significant amount?   \n",
       "204   I may get roasted but after taking a look at ...   \n",
       "205   And a million bitcoin is 10 000 hundreds of b...   \n",
       "206   Hey, thanks for the welcome, Neo! But trust m...   \n",
       "207   You don’t need to trust it.  You shouldn’t tr...   \n",
       "\n",
       "                                                scores  NEU       POS  \\\n",
       "0    [[{'label': 'NEU', 'score': 0.7715205550193787...    0  0.983649   \n",
       "1    [[{'label': 'NEU', 'score': 0.9319330453872681...    0  0.941586   \n",
       "2    [[{'label': 'NEU', 'score': 0.9674603939056396...    0  0.688665   \n",
       "3    [[{'label': 'NEG', 'score': 0.9551398158073425...    0  0.006287   \n",
       "4    [[{'label': 'NEU', 'score': 0.7418627738952637...    0  0.991951   \n",
       "..                                                 ...  ...       ...   \n",
       "203  [[{'label': 'NEU', 'score': 0.9680748581886292...    0  0.365736   \n",
       "204  [[{'label': 'NEU', 'score': 0.9477577805519104...    0  0.222287   \n",
       "205  [[{'label': 'POS', 'score': 0.9089245200157166...    0  0.996369   \n",
       "206  [[{'label': 'POS', 'score': 0.9748110771179199...    0  0.998702   \n",
       "207  [[{'label': 'NEG', 'score': 0.9621374607086182...    0  0.003315   \n",
       "\n",
       "          NEG  \n",
       "0    0.003784  \n",
       "1    0.004205  \n",
       "2    0.014497  \n",
       "3    0.993461  \n",
       "4    0.002090  \n",
       "..        ...  \n",
       "203  0.052460  \n",
       "204  0.154533  \n",
       "205  0.003313  \n",
       "206  0.001267  \n",
       "207  0.996566  \n",
       "\n",
       "[208 rows x 15 columns]"
      ]
     },
     "execution_count": 245,
     "metadata": {},
     "output_type": "execute_result"
    }
   ],
   "source": [
    "sample_reddit = pd.concat([sample_reddit, sample_sentiments], axis = 1)\n",
    "sample_reddit"
   ]
  },
  {
   "cell_type": "code",
   "execution_count": 246,
   "metadata": {},
   "outputs": [
    {
     "data": {
      "text/plain": [
       "' Is swan an exchange and where the fuck did you hear about this garbage place.   Bitcoin is not designed to be traded it’s designed to be a functioning “ commodity “ and for some ungodly reason exchanges think that can do shady shit.  Get that shit out and send it to “ ROCK WALLET”.  Or “ HAND CASH”.  The ORIGINAL BITCOIN PROTOCOL'"
      ]
     },
     "execution_count": 246,
     "metadata": {},
     "output_type": "execute_result"
    }
   ],
   "source": [
    "sample_reddit.sort_values(\"NEG\", ascending = False)[\"text\"].iloc[0]"
   ]
  },
  {
   "cell_type": "code",
   "execution_count": 247,
   "metadata": {},
   "outputs": [
    {
     "data": {
      "text/plain": [
       "' She can’t figure out how to treat humans decently, so BTC would be beyond her.'"
      ]
     },
     "execution_count": 247,
     "metadata": {},
     "output_type": "execute_result"
    }
   ],
   "source": [
    "sample_reddit.sort_values(\"NEG\", ascending = False)[\"text\"].iloc[1]"
   ]
  },
  {
   "cell_type": "code",
   "execution_count": 248,
   "metadata": {},
   "outputs": [
    {
     "data": {
      "text/plain": [
       "' Honestly? Not great.\\n\\nNot shitting on Bitcoin, but I would expect to 10x my money in 15 years on the stock market or I have really fucked up.'"
      ]
     },
     "execution_count": 248,
     "metadata": {},
     "output_type": "execute_result"
    }
   ],
   "source": [
    "sample_reddit.sort_values(\"NEG\", ascending = False)[\"text\"].iloc[2]"
   ]
  },
  {
   "cell_type": "code",
   "execution_count": 249,
   "metadata": {},
   "outputs": [
    {
     "data": {
      "text/plain": [
       "\" The good... Bought a median house in a beach town. Traveled more than most. Created some fun revenue streams. Bought a literal shit ton of VOO to diversify. \\n\\nThe bad... Paid 200k in hospital bills to save my life from a failed liver and suicide attempt. Went to a psych ward and a rehab. Twice. Lost everything that mattered in life other than my financial security.\\n\\nMoney isn't everything. Time is. Enjoy life while you stack your sats.\\n\\nEdited to add that I've been sober over 2 years now and got my sanity back.\""
      ]
     },
     "execution_count": 249,
     "metadata": {},
     "output_type": "execute_result"
    }
   ],
   "source": [
    "sample_reddit.sort_values(\"POS\", ascending = False)[\"text\"].iloc[0]"
   ]
  },
  {
   "cell_type": "code",
   "execution_count": 250,
   "metadata": {},
   "outputs": [
    {
     "data": {
      "text/plain": [
       "'Bitcoin is the currency of freedom says Robert F. Kennedy Jr Very bullish to see such a strong support from leaders like RFK and so many others.\\n\\n \"Bitcoin is the currency of freedom , a hedge against inflation for middle class Americans, a remedy against the dollar’s downgrade from the world’s reserve currency, and the offramp from a ruinous national debt. Bitcoin will have no stronger advocate than Howard Lutnik.\"\\n\\n[https://x.com/RobertKennedyJr/status/1857844634879152540](https://x.com/RobertKennedyJr/status/1857844634879152540)'"
      ]
     },
     "execution_count": 250,
     "metadata": {},
     "output_type": "execute_result"
    }
   ],
   "source": [
    "sample_reddit.sort_values(\"POS\", ascending = False)[\"text\"].iloc[1]"
   ]
  },
  {
   "cell_type": "code",
   "execution_count": 251,
   "metadata": {},
   "outputs": [
    {
     "data": {
      "text/plain": [
       "'No matter the amount, everyone here should buy btc at 100k to celebrate To celebrate this historical milestone, let’s all collective buy a bit of btc and contribute pushing this gift to mankind a little further up its journey!'"
      ]
     },
     "execution_count": 251,
     "metadata": {},
     "output_type": "execute_result"
    }
   ],
   "source": [
    "sample_reddit.sort_values(\"POS\", ascending = False)[\"text\"].iloc[2]"
   ]
  },
  {
   "cell_type": "code",
   "execution_count": null,
   "metadata": {},
   "outputs": [
    {
     "data": {
      "text/plain": [
       "array(['2024-11-16T00:00:00.000000000', '2024-11-17T00:00:00.000000000',\n",
       "       '2024-11-18T00:00:00.000000000', '2024-11-19T00:00:00.000000000',\n",
       "       '2024-11-20T00:00:00.000000000', '2024-11-21T00:00:00.000000000',\n",
       "       '2024-11-22T00:00:00.000000000'], dtype='datetime64[ns]')"
      ]
     },
     "execution_count": 254,
     "metadata": {},
     "output_type": "execute_result"
    }
   ],
   "source": [
    "import numpy as np\n",
    "\n",
    "sample_reddit[\"created_date\"] = pd.to_datetime(sample_reddit[\"created_date\"])\n",
    "np.sort(sample_reddit[\"created_date\"].unique())"
   ]
  },
  {
   "cell_type": "code",
   "execution_count": 255,
   "metadata": {},
   "outputs": [
    {
     "data": {
      "text/html": [
       "<div>\n",
       "<style scoped>\n",
       "    .dataframe tbody tr th:only-of-type {\n",
       "        vertical-align: middle;\n",
       "    }\n",
       "\n",
       "    .dataframe tbody tr th {\n",
       "        vertical-align: top;\n",
       "    }\n",
       "\n",
       "    .dataframe thead th {\n",
       "        text-align: right;\n",
       "    }\n",
       "</style>\n",
       "<table border=\"1\" class=\"dataframe\">\n",
       "  <thead>\n",
       "    <tr style=\"text-align: right;\">\n",
       "      <th></th>\n",
       "      <th>created_date</th>\n",
       "      <th>POS</th>\n",
       "      <th>NEU</th>\n",
       "      <th>NEG</th>\n",
       "    </tr>\n",
       "  </thead>\n",
       "  <tbody>\n",
       "    <tr>\n",
       "      <th>0</th>\n",
       "      <td>2024-11-16</td>\n",
       "      <td>0.541301</td>\n",
       "      <td>0.0</td>\n",
       "      <td>0.301422</td>\n",
       "    </tr>\n",
       "    <tr>\n",
       "      <th>1</th>\n",
       "      <td>2024-11-17</td>\n",
       "      <td>0.655189</td>\n",
       "      <td>0.0</td>\n",
       "      <td>0.235326</td>\n",
       "    </tr>\n",
       "    <tr>\n",
       "      <th>2</th>\n",
       "      <td>2024-11-18</td>\n",
       "      <td>0.451470</td>\n",
       "      <td>0.0</td>\n",
       "      <td>0.453373</td>\n",
       "    </tr>\n",
       "    <tr>\n",
       "      <th>3</th>\n",
       "      <td>2024-11-19</td>\n",
       "      <td>0.471886</td>\n",
       "      <td>0.0</td>\n",
       "      <td>0.404238</td>\n",
       "    </tr>\n",
       "    <tr>\n",
       "      <th>4</th>\n",
       "      <td>2024-11-20</td>\n",
       "      <td>0.494899</td>\n",
       "      <td>0.0</td>\n",
       "      <td>0.358528</td>\n",
       "    </tr>\n",
       "    <tr>\n",
       "      <th>5</th>\n",
       "      <td>2024-11-21</td>\n",
       "      <td>0.520906</td>\n",
       "      <td>0.0</td>\n",
       "      <td>0.356597</td>\n",
       "    </tr>\n",
       "    <tr>\n",
       "      <th>6</th>\n",
       "      <td>2024-11-22</td>\n",
       "      <td>0.646183</td>\n",
       "      <td>0.0</td>\n",
       "      <td>0.191924</td>\n",
       "    </tr>\n",
       "  </tbody>\n",
       "</table>\n",
       "</div>"
      ],
      "text/plain": [
       "  created_date       POS  NEU       NEG\n",
       "0   2024-11-16  0.541301  0.0  0.301422\n",
       "1   2024-11-17  0.655189  0.0  0.235326\n",
       "2   2024-11-18  0.451470  0.0  0.453373\n",
       "3   2024-11-19  0.471886  0.0  0.404238\n",
       "4   2024-11-20  0.494899  0.0  0.358528\n",
       "5   2024-11-21  0.520906  0.0  0.356597\n",
       "6   2024-11-22  0.646183  0.0  0.191924"
      ]
     },
     "execution_count": 255,
     "metadata": {},
     "output_type": "execute_result"
    }
   ],
   "source": [
    "daily_emotions = sample_reddit.groupby([\"created_date\"])[[\"POS\", \"NEU\", \"NEG\"]].mean().reset_index()\n",
    "daily_emotions"
   ]
  },
  {
   "cell_type": "markdown",
   "metadata": {},
   "source": [
    "$$CI = \\bar{x} \\pm z \\frac{\\sigma}{\\sqrt{n}}$$"
   ]
  },
  {
   "cell_type": "code",
   "execution_count": 256,
   "metadata": {},
   "outputs": [
    {
     "data": {
      "text/html": [
       "<div>\n",
       "<style scoped>\n",
       "    .dataframe tbody tr th:only-of-type {\n",
       "        vertical-align: middle;\n",
       "    }\n",
       "\n",
       "    .dataframe tbody tr th {\n",
       "        vertical-align: top;\n",
       "    }\n",
       "\n",
       "    .dataframe thead th {\n",
       "        text-align: right;\n",
       "    }\n",
       "</style>\n",
       "<table border=\"1\" class=\"dataframe\">\n",
       "  <thead>\n",
       "    <tr style=\"text-align: right;\">\n",
       "      <th></th>\n",
       "      <th>created_date</th>\n",
       "      <th>POS</th>\n",
       "      <th>NEU</th>\n",
       "      <th>NEG</th>\n",
       "      <th>NEG_CI_low</th>\n",
       "      <th>NEG_CI_high</th>\n",
       "      <th>POS_CI_low</th>\n",
       "      <th>POS_CI_high</th>\n",
       "      <th>NEU_CI_low</th>\n",
       "      <th>NEU_CI_high</th>\n",
       "    </tr>\n",
       "  </thead>\n",
       "  <tbody>\n",
       "    <tr>\n",
       "      <th>0</th>\n",
       "      <td>2024-11-16</td>\n",
       "      <td>0.541301</td>\n",
       "      <td>0.0</td>\n",
       "      <td>0.301422</td>\n",
       "      <td>0.244468</td>\n",
       "      <td>0.358375</td>\n",
       "      <td>0.484987</td>\n",
       "      <td>0.597614</td>\n",
       "      <td>0.0</td>\n",
       "      <td>0.0</td>\n",
       "    </tr>\n",
       "    <tr>\n",
       "      <th>1</th>\n",
       "      <td>2024-11-17</td>\n",
       "      <td>0.655189</td>\n",
       "      <td>0.0</td>\n",
       "      <td>0.235326</td>\n",
       "      <td>0.178373</td>\n",
       "      <td>0.292279</td>\n",
       "      <td>0.598876</td>\n",
       "      <td>0.711502</td>\n",
       "      <td>0.0</td>\n",
       "      <td>0.0</td>\n",
       "    </tr>\n",
       "    <tr>\n",
       "      <th>2</th>\n",
       "      <td>2024-11-18</td>\n",
       "      <td>0.451470</td>\n",
       "      <td>0.0</td>\n",
       "      <td>0.453373</td>\n",
       "      <td>0.396420</td>\n",
       "      <td>0.510326</td>\n",
       "      <td>0.395156</td>\n",
       "      <td>0.507783</td>\n",
       "      <td>0.0</td>\n",
       "      <td>0.0</td>\n",
       "    </tr>\n",
       "    <tr>\n",
       "      <th>3</th>\n",
       "      <td>2024-11-19</td>\n",
       "      <td>0.471886</td>\n",
       "      <td>0.0</td>\n",
       "      <td>0.404238</td>\n",
       "      <td>0.347285</td>\n",
       "      <td>0.461191</td>\n",
       "      <td>0.415573</td>\n",
       "      <td>0.528200</td>\n",
       "      <td>0.0</td>\n",
       "      <td>0.0</td>\n",
       "    </tr>\n",
       "    <tr>\n",
       "      <th>4</th>\n",
       "      <td>2024-11-20</td>\n",
       "      <td>0.494899</td>\n",
       "      <td>0.0</td>\n",
       "      <td>0.358528</td>\n",
       "      <td>0.301575</td>\n",
       "      <td>0.415481</td>\n",
       "      <td>0.438586</td>\n",
       "      <td>0.551212</td>\n",
       "      <td>0.0</td>\n",
       "      <td>0.0</td>\n",
       "    </tr>\n",
       "    <tr>\n",
       "      <th>5</th>\n",
       "      <td>2024-11-21</td>\n",
       "      <td>0.520906</td>\n",
       "      <td>0.0</td>\n",
       "      <td>0.356597</td>\n",
       "      <td>0.299644</td>\n",
       "      <td>0.413550</td>\n",
       "      <td>0.464592</td>\n",
       "      <td>0.577219</td>\n",
       "      <td>0.0</td>\n",
       "      <td>0.0</td>\n",
       "    </tr>\n",
       "    <tr>\n",
       "      <th>6</th>\n",
       "      <td>2024-11-22</td>\n",
       "      <td>0.646183</td>\n",
       "      <td>0.0</td>\n",
       "      <td>0.191924</td>\n",
       "      <td>0.134970</td>\n",
       "      <td>0.248877</td>\n",
       "      <td>0.589869</td>\n",
       "      <td>0.702496</td>\n",
       "      <td>0.0</td>\n",
       "      <td>0.0</td>\n",
       "    </tr>\n",
       "  </tbody>\n",
       "</table>\n",
       "</div>"
      ],
      "text/plain": [
       "  created_date       POS  NEU       NEG  NEG_CI_low  NEG_CI_high  POS_CI_low  \\\n",
       "0   2024-11-16  0.541301  0.0  0.301422    0.244468     0.358375    0.484987   \n",
       "1   2024-11-17  0.655189  0.0  0.235326    0.178373     0.292279    0.598876   \n",
       "2   2024-11-18  0.451470  0.0  0.453373    0.396420     0.510326    0.395156   \n",
       "3   2024-11-19  0.471886  0.0  0.404238    0.347285     0.461191    0.415573   \n",
       "4   2024-11-20  0.494899  0.0  0.358528    0.301575     0.415481    0.438586   \n",
       "5   2024-11-21  0.520906  0.0  0.356597    0.299644     0.413550    0.464592   \n",
       "6   2024-11-22  0.646183  0.0  0.191924    0.134970     0.248877    0.589869   \n",
       "\n",
       "   POS_CI_high  NEU_CI_low  NEU_CI_high  \n",
       "0     0.597614         0.0          0.0  \n",
       "1     0.711502         0.0          0.0  \n",
       "2     0.507783         0.0          0.0  \n",
       "3     0.528200         0.0          0.0  \n",
       "4     0.551212         0.0          0.0  \n",
       "5     0.577219         0.0          0.0  \n",
       "6     0.702496         0.0          0.0  "
      ]
     },
     "execution_count": 256,
     "metadata": {},
     "output_type": "execute_result"
    }
   ],
   "source": [
    "# Calculate a confidence interval as well.\n",
    "n = len(sample_reddit['NEG'])\n",
    "\n",
    "sigma_neg = sample_reddit['NEG'].std()\n",
    "sigma_pos = sample_reddit['POS'].std()\n",
    "sigma_neu = sample_reddit['NEU'].std()\n",
    "\n",
    "ci_neg = 1.96 * sigma_neg / np.sqrt(n)\n",
    "ci_pos = 1.96 * sigma_pos / np.sqrt(n)\n",
    "ci_neu = 1.96 * sigma_neu / np.sqrt(n)\n",
    "\n",
    "# A z-score of 1.96 is associated with a 95% confidence level\n",
    "daily_emotions['NEG_CI_low'] = daily_emotions['NEG'] - ci_neg\n",
    "daily_emotions['NEG_CI_high'] = daily_emotions['NEG'] + ci_neg\n",
    "\n",
    "daily_emotions['POS_CI_low'] = daily_emotions['POS'] - ci_pos\n",
    "daily_emotions['POS_CI_high'] = daily_emotions['POS'] + ci_pos\n",
    "\n",
    "daily_emotions['NEU_CI_low'] = daily_emotions['NEU'] - ci_neu\n",
    "daily_emotions['NEU_CI_high'] = daily_emotions['NEU'] + ci_neu\n",
    "\n",
    "\n",
    "daily_emotions"
   ]
  },
  {
   "cell_type": "code",
   "execution_count": null,
   "metadata": {},
   "outputs": [
    {
     "data": {
      "text/plain": [
       "<matplotlib.legend.Legend at 0x307d39c70>"
      ]
     },
     "execution_count": 259,
     "metadata": {},
     "output_type": "execute_result"
    },
    {
     "data": {
      "image/png": "[encoded data removed]",
      "text/plain": [
       "<Figure size 2400x1200 with 1 Axes>"
      ]
     },
     "metadata": {},
     "output_type": "display_data"
    }
   ],
   "source": [
    "import matplotlib.pyplot as plt\n",
    "import seaborn as sns\n",
    "\n",
    "fig, ax = plt.subplots(figsize = (12, 6), dpi = 200)\n",
    "sns.despine()\n",
    "\n",
    "# Negative\n",
    "plt.plot(daily_emotions[\"created_date\"], daily_emotions[\"NEG\"], color = 'red', label = \"Negative emotions\")\n",
    "ax.fill_between(daily_emotions[\"created_date\"], \n",
    "                daily_emotions['NEG_CI_low'], \n",
    "                daily_emotions['NEG_CI_high'], color = 'red', alpha = .15)\n",
    "\n",
    "# Positive\n",
    "plt.plot(daily_emotions[\"created_date\"], daily_emotions[\"POS\"], color = 'green', label = \"Positive emotions\")\n",
    "ax.fill_between(daily_emotions[\"created_date\"], \n",
    "                daily_emotions['POS_CI_low'], \n",
    "                daily_emotions['POS_CI_high'], color = 'green', alpha = .15)\n",
    "\n",
    "plt.title(\"Sentiment Analysis of the Bitcoin Subreddit\")\n",
    "plt.xlabel(\"Date\")\n",
    "plt.ylabel(\"Emotion\")\n",
    "plt.legend()"
   ]
  },
  {
   "cell_type": "markdown",
   "metadata": {},
   "source": [
    "### DistilRoberta Financial"
   ]
  },
  {
   "cell_type": "code",
   "execution_count": 112,
   "metadata": {},
   "outputs": [],
   "source": [
    "pipe_finance = pipeline(\"text-classification\", \n",
    "                        model = \"mrm8488/distilroberta-finetuned-financial-news-sentiment-analysis\",\n",
    "                        device = device,\n",
    "                        top_k = None)"
   ]
  },
  {
   "cell_type": "code",
   "execution_count": null,
   "metadata": {},
   "outputs": [],
   "source": [
    "# Load model directly\n",
    "# from transformers import AutoTokenizer, AutoModelForSequenceClassification\n",
    "\n",
    "# tokenizer = AutoTokenizer.from_pretrained(\"finiteautomata/bertweet-base-sentiment-analysis\")\n",
    "# model = AutoModelForSequenceClassification.from_pretrained(\"finiteautomata/bertweet-base-sentiment-analysis\")"
   ]
  },
  {
   "cell_type": "code",
   "execution_count": 113,
   "metadata": {},
   "outputs": [
    {
     "data": {
      "text/plain": [
       "[[{'label': 'neutral', 'score': 0.9998531341552734},\n",
       "  {'label': 'positive', 'score': 7.464474765583873e-05},\n",
       "  {'label': 'negative', 'score': 7.221168198157102e-05}],\n",
       " [{'label': 'neutral', 'score': 0.9874181747436523},\n",
       "  {'label': 'negative', 'score': 0.010220942087471485},\n",
       "  {'label': 'positive', 'score': 0.0023608694318681955}],\n",
       " [{'label': 'neutral', 'score': 0.9995593428611755},\n",
       "  {'label': 'positive', 'score': 0.0003504788037389517},\n",
       "  {'label': 'negative', 'score': 9.01454477570951e-05}]]"
      ]
     },
     "execution_count": 113,
     "metadata": {},
     "output_type": "execute_result"
    }
   ],
   "source": [
    "pipe_finance([\"Hello!\", \n",
    "              'Goodbye, you broke my heart.', \n",
    "              \"I love you!\"])"
   ]
  }
 ],
 "metadata": {
  "kernelspec": {
   "display_name": "base",
   "language": "python",
   "name": "python3"
  },
  "language_info": {
   "codemirror_mode": {
    "name": "ipython",
    "version": 3
   },
   "file_extension": ".py",
   "mimetype": "text/x-python",
   "name": "python",
   "nbconvert_exporter": "python",
   "pygments_lexer": "ipython3",
   "version": "3.12.2"
  }
 },
 "nbformat": 4,
 "nbformat_minor": 2
}
